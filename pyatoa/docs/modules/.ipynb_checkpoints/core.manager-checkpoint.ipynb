{
 "cells": [
  {
   "cell_type": "markdown",
   "metadata": {},
   "source": [
    "# pyatoa.core.manager.Manager"
   ]
  },
  {
   "cell_type": "raw",
   "metadata": {},
   "source": [
    ".. currentmodule:: pyatoa.core.manager.Manager"
   ]
  },
  {
   "cell_type": "raw",
   "metadata": {},
   "source": [
    ".. automodule:: pyatoa.core.manager.Manager"
   ]
  },
  {
   "cell_type": "markdown",
   "metadata": {},
   "source": [
    "---"
   ]
  },
  {
   "cell_type": "raw",
   "metadata": {},
   "source": [
    ".. autoclass:: Manager\n",
    "\n",
    "    .. rubric:: Methods\n",
    "    \n",
    "    .. autosummary::\n",
    "    \n",
    "        load\n",
    "     \n",
    "    .. automethod:: __init__\n",
    "    .. automethod:: load"
   ]
  },
  {
   "cell_type": "markdown",
   "metadata": {},
   "source": []
  }
 ],
 "metadata": {
  "kernelspec": {
   "display_name": "Python 3",
   "language": "python",
   "name": "python3"
  },
  "language_info": {
   "codemirror_mode": {
    "name": "ipython",
    "version": 3
   },
   "file_extension": ".py",
   "mimetype": "text/x-python",
   "name": "python",
   "nbconvert_exporter": "python",
   "pygments_lexer": "ipython3",
   "version": "3.7.3"
  }
 },
 "nbformat": 4,
 "nbformat_minor": 2
}
