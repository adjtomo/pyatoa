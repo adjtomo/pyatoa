{
 "metadata": {
  "kernelspec": {
   "display_name": "Python 3",
   "language": "python",
   "name": "python3"
  },
  "language_info": {
   "codemirror_mode": {
    "name": "ipython",
    "version": 3
   },
   "file_extension": ".py",
   "mimetype": "text/x-python",
   "name": "python",
   "nbconvert_exporter": "python",
   "pygments_lexer": "ipython3",
   "version": "3.7.3"
  },
  "name": ""
 },
 "nbformat": 3,
 "nbformat_minor": 0,
 "worksheets": [
  {
   "cells": [
    {
     "cell_type": "heading",
     "level": 1,
     "metadata": {},
     "source": [
      "pyatoa.core.manager.Manager"
     ]
    },
    {
     "cell_type": "raw",
     "metadata": {},
     "source": [
      ".. currentmodule:: pyatoa.core.manager.Manager"
     ]
    },
    {
     "cell_type": "raw",
     "metadata": {},
     "source": [
      ".. automodule:: pyatoa.core.manager.Manager"
     ]
    },
    {
     "cell_type": "markdown",
     "metadata": {},
     "source": [
      "---"
     ]
    },
    {
     "cell_type": "raw",
     "metadata": {},
     "source": [
      ".. autoclass:: Manager\n",
      "\n",
      "    .. rubric:: Methods\n",
      "    \n",
      "    .. autosummary::\n",
      "    \n",
      "        load\n",
      "     \n",
      "    .. automethod:: __init__\n",
      "    .. automethod:: load"
     ]
    },
    {
     "cell_type": "markdown",
     "metadata": {},
     "source": []
    }
   ],
   "metadata": {}
  }
 ]
}