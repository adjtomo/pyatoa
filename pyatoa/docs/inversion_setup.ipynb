{
 "cells": [
  {
   "cell_type": "markdown",
   "metadata": {},
   "source": [
    "# Regional Inversion Setup\n",
    "\n",
    "Here we provide a rough template for setting up an inversion, involving gathering an event catalog with moment tensors, collecting observation waveforms and response files, organizing data into the optimal directory structure, and generating ASDFDataSets that can be used in a SeisFlows inversion.\n",
    "\n",
    "\n",
    "## Event Catalog (Region: Alaska)\n",
    "\n",
    "Alaska's cool, let's work there. First we'll use ObsPy to gather our initial catalog of events from the past decade in a box bounding Anchorage and Fairbanks."
   ]
  },
  {
   "cell_type": "code",
   "execution_count": 1,
   "metadata": {},
   "outputs": [
    {
     "data": {
      "text/plain": [
       "15 Event(s) in Catalog:\n",
       "2019-01-13T16:45:55.437000Z | +61.299, -150.065 | 5.0 ml | manual\n",
       "2019-01-06T03:45:34.525000Z | +65.407, -153.280 | 5.1 ml | manual\n",
       "...\n",
       "2011-06-16T19:06:05.214000Z | +60.765, -151.076 | 5.1 mw | manual\n",
       "2011-01-23T02:50:04.629000Z | +63.542, -150.865 | 5.2 mw | manual\n",
       "To see all events call 'print(CatalogObject.__str__(print_all=True))'"
      ]
     },
     "execution_count": 1,
     "metadata": {},
     "output_type": "execute_result"
    }
   ],
   "source": [
    "from obspy import UTCDateTime\n",
    "from obspy.clients.fdsn import Client\n",
    "\n",
    "c = Client(\"USGS\")\n",
    "cat = c.get_events(starttime=UTCDateTime(\"2010-01-01T00:00:00\"), \n",
    "                   endtime=UTCDateTime(\"2020-01-01T00:00:00\"), \n",
    "                   maxdepth=60.0,\n",
    "                   minmagnitude=5.0,\n",
    "                   maxmagnitude=6.0, \n",
    "                   minlatitude=59.75, \n",
    "                   maxlatitude=65.50, \n",
    "                   minlongitude=-154.5, \n",
    "                   maxlongitude=-143.789\n",
    "                  )\n",
    "cat"
   ]
  },
  {
   "cell_type": "markdown",
   "metadata": {},
   "source": [
    "Lets have a look at the Event IDs of our events. If we knew these apriori, we could have gathered our catalog based on event ids"
   ]
  },
  {
   "cell_type": "code",
   "execution_count": 2,
   "metadata": {},
   "outputs": [
    {
     "data": {
      "text/plain": [
       "['ak019lrs7iu',\n",
       " 'ak0199za3yf',\n",
       " 'ak0191pccr7',\n",
       " 'ak018fe5jk85',\n",
       " 'ak20421672',\n",
       " 'ak018fcpk9xi',\n",
       " 'us1000hyge',\n",
       " 'ak018fcntv5m',\n",
       " 'ak018dsf3btv',\n",
       " 'ak017f7s3c06',\n",
       " 'ak014dlss56k',\n",
       " 'ak014b5xf1in',\n",
       " 'ak013ae2ycca',\n",
       " 'ak0117oi3hnt',\n",
       " 'ak011122ukq6']"
      ]
     },
     "execution_count": 2,
     "metadata": {},
     "output_type": "execute_result"
    }
   ],
   "source": [
    "from pyatoa.utils.form import format_event_name\n",
    "\n",
    "event_ids = []\n",
    "for event in cat:\n",
    "    event_ids.append(format_event_name(event))\n",
    "event_ids"
   ]
  },
  {
   "cell_type": "code",
   "execution_count": 29,
   "metadata": {},
   "outputs": [
    {
     "ename": "NameError",
     "evalue": "name 'cat_from_events_ids' is not defined",
     "output_type": "error",
     "traceback": [
      "\u001b[0;31m---------------------------------------------------------------------------\u001b[0m",
      "\u001b[0;31mNameError\u001b[0m                                 Traceback (most recent call last)",
      "\u001b[0;32m<ipython-input-29-aa73ee79ab07>\u001b[0m in \u001b[0;36m<module>\u001b[0;34m\u001b[0m\n\u001b[1;32m      7\u001b[0m \u001b[0;34m\u001b[0m\u001b[0m\n\u001b[1;32m      8\u001b[0m \u001b[0mcat_from_event_ids\u001b[0m \u001b[0;34m=\u001b[0m \u001b[0mCatalog\u001b[0m\u001b[0;34m(\u001b[0m\u001b[0;34m)\u001b[0m\u001b[0;34m.\u001b[0m\u001b[0mextend\u001b[0m\u001b[0;34m(\u001b[0m\u001b[0mevents\u001b[0m\u001b[0;34m)\u001b[0m\u001b[0;34m\u001b[0m\u001b[0;34m\u001b[0m\u001b[0m\n\u001b[0;32m----> 9\u001b[0;31m \u001b[0mcat_from_events_ids\u001b[0m\u001b[0;34m\u001b[0m\u001b[0;34m\u001b[0m\u001b[0m\n\u001b[0m",
      "\u001b[0;31mNameError\u001b[0m: name 'cat_from_events_ids' is not defined"
     ]
    }
   ],
   "source": [
    "from obspy import Catalog\n",
    "\n",
    "events = []\n",
    "for event_id in event_ids:\n",
    "    events.append(c.get_events(eventid=event_id)[0])\n",
    "\n",
    "cat_from_event_ids = Catalog()\n",
    "cat_from_event_ids.extend(events)\n",
    "cat_from_event_ids"
   ]
  },
  {
   "cell_type": "markdown",
   "metadata": {},
   "source": [
    "## Getting moment tensors\n",
    "\n",
    "Great, we have an event catalog now, but to do waveform simulations we need moment tensors. Unfortunately it's not straight forward to grab moment tensor information directly from USGS as they do not directly provide XML files. It would be possible to manually generate moment tensor objects from each [individual event pages](https://earthquake.usgs.gov/earthquakes/eventpage/ak019lrs7iu/moment-tensor), but that seems tedious for a tutorial. Instead we'll use good 'ole GCMT. Pyatoa has a function to read .ndk files hosted online by the GCMT team, and find events based on origintime and magnitude."
   ]
  },
  {
   "cell_type": "code",
   "execution_count": 3,
   "metadata": {},
   "outputs": [
    {
     "name": "stdout",
     "output_type": "stream",
     "text": [
      "No GCMT event found for: ak018fcpk9xi\n",
      "No GCMT event found for: us1000hyge\n",
      "No GCMT event found for: ak018fcntv5m\n",
      "No GCMT event found for: ak013ae2ycca\n"
     ]
    },
    {
     "ename": "NameError",
     "evalue": "name 'Catalog' is not defined",
     "output_type": "error",
     "traceback": [
      "\u001b[0;31m---------------------------------------------------------------------------\u001b[0m",
      "\u001b[0;31mNameError\u001b[0m                                 Traceback (most recent call last)",
      "\u001b[0;32m<ipython-input-3-0f411d17c950>\u001b[0m in \u001b[0;36m<module>\u001b[0;34m\u001b[0m\n\u001b[1;32m     11\u001b[0m         \u001b[0;32mcontinue\u001b[0m\u001b[0;34m\u001b[0m\u001b[0;34m\u001b[0m\u001b[0m\n\u001b[1;32m     12\u001b[0m \u001b[0;34m\u001b[0m\u001b[0m\n\u001b[0;32m---> 13\u001b[0;31m \u001b[0mgcmt_catalog\u001b[0m \u001b[0;34m=\u001b[0m \u001b[0mCatalog\u001b[0m\u001b[0;34m(\u001b[0m\u001b[0mevents\u001b[0m\u001b[0;34m)\u001b[0m\u001b[0;34m\u001b[0m\u001b[0;34m\u001b[0m\u001b[0m\n\u001b[0m\u001b[1;32m     14\u001b[0m \u001b[0;34m\u001b[0m\u001b[0m\n",
      "\u001b[0;31mNameError\u001b[0m: name 'Catalog' is not defined"
     ]
    }
   ],
   "source": [
    "\n",
    "from pyatoa.core.gatherer import get_gcmt_moment_tensor\n",
    "\n",
    "events = []\n",
    "for event in cat:\n",
    "    origintime = event.preferred_origin().time\n",
    "    magnitude = event.preferred_magnitude().mag\n",
    "    try:\n",
    "        events.append(get_gcmt_moment_tensor(origintime, magnitude))\n",
    "    except FileNotFoundError:\n",
    "        print(f\"No GCMT event found for: {format_event_name(event)}\")\n",
    "        continue\n",
    "    \n",
    "gcmt_catalog = Catalog(events)"
   ]
  },
  {
   "cell_type": "markdown",
   "metadata": {},
   "source": [
    "Great, 11 out of 15 isn't bad, we'll go ahead with and use the GCMT catalog that we just collected. However if we wanted to retain the origin information from the USGS catalog, we would need to move the moment tensor objects from the GCMT catalog over to the USGS catalog, an exercise left for the reader...\n",
    "\n",
    "## Gathering Data\n",
    "\n",
    "Now we need seismic waveform data for all the events in our catalog"
   ]
  },
  {
   "cell_type": "code",
   "execution_count": 4,
   "metadata": {},
   "outputs": [],
   "source": [
    "from obspy import Catalog\n",
    "gcmt_catalog = Catalog(events)\n"
   ]
  },
  {
   "cell_type": "code",
   "execution_count": 7,
   "metadata": {},
   "outputs": [
    {
     "data": {
      "text/plain": [
       "FocalMechanism\n",
       "\t    resource_id: ResourceIdentifier(id=\"smi:local/ndk/C201901131645A/focal_mechanism\")\n",
       "\t   nodal_planes: NodalPlanes(nodal_plane_1=NodalPlane(strike=327.0, dip=44.0, rake=-149.0), nodal_plane_2=NodalPlane(strike=213.0, dip=69.0, rake=-51.0))\n",
       "\t principal_axes: PrincipalAxes(t_axis=Axis(azimuth=275.0, plunge=15.0, length=3.982e+16), p_axis=Axis(azimuth=167.0, plunge=50.0, length=-3.48e+16), n_axis=Axis(azimuth=17.0, plunge=36.0, length=-5120000000000000.0))\n",
       "\t  moment_tensor: MomentTensor(resource_id=ResourceIdentifier(id=\"smi:local/ndk/C201901131645A/momenttensor\"), derived_origin_id=ResourceIdentifier(id=\"smi:local/ndk/C201901131645A/origin#cmtorigin\"), scalar_moment=3.731e+16, tensor=Tensor(m_rr=-1.96e+16 [uncertainty=1360000000000000.0], m_tt=-1.64e+16 [uncertainty=1340000000000000.0], m_pp=3.59e+16 [uncertainty=890000000000000.0], m_rt=1.53e+16 [uncertainty=780000000000000.0], m_rp=1.43e+16 [uncertainty=750000000000000.0], m_tp=1310000000000000.0 [uncertainty=890000000000000.0]), source_time_function=SourceTimeFunction(type='triangle', duration=1.4), inversion_type='zero trace', creation_info=CreationInfo(agency_id='GCMT', version='V10'))\n",
       "\t  creation_info: CreationInfo(agency_id='GCMT', version='V10')\n",
       "\t           ---------\n",
       "\t       comments: 2 Elements"
      ]
     },
     "execution_count": 7,
     "metadata": {},
     "output_type": "execute_result"
    }
   ],
   "source": []
  },
  {
   "cell_type": "code",
   "execution_count": null,
   "metadata": {},
   "outputs": [],
   "source": []
  }
 ],
 "metadata": {
  "kernelspec": {
   "display_name": "Python 3",
   "language": "python",
   "name": "python3"
  },
  "language_info": {
   "codemirror_mode": {
    "name": "ipython",
    "version": 3
   },
   "file_extension": ".py",
   "mimetype": "text/x-python",
   "name": "python",
   "nbconvert_exporter": "python",
   "pygments_lexer": "ipython3",
   "version": "3.7.3"
  }
 },
 "nbformat": 4,
 "nbformat_minor": 2
}
