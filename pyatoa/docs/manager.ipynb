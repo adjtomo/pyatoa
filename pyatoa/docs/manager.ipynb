{
 "metadata": {
  "kernelspec": {
   "display_name": "Python 3",
   "language": "python",
   "name": "python3"
  },
  "language_info": {
   "codemirror_mode": {
    "name": "ipython",
    "version": 3
   },
   "file_extension": ".py",
   "mimetype": "text/x-python",
   "name": "python",
   "nbconvert_exporter": "python",
   "pygments_lexer": "ipython3",
   "version": "3.7.3"
  },
  "name": ""
 },
 "nbformat": 3,
 "nbformat_minor": 0,
 "worksheets": [
  {
   "cells": [
    {
     "cell_type": "code",
     "collapsed": false,
     "input": [
      "from pyatoa import logger\n",
      "logger.setLevel(\"DEBUG\")"
     ],
     "language": "python",
     "metadata": {},
     "outputs": [],
     "prompt_number": null
    },
    {
     "cell_type": "markdown",
     "metadata": {},
     "source": [
      "# Manager\n",
      "\n",
      "The `Manager` is the main class within the Pyatoa package. Its job is to group waveforms and metadata, perform processing operations, and output time windows and adjoint sources. "
     ]
    },
    {
     "cell_type": "markdown",
     "metadata": {},
     "source": [
      "## Initialization\n",
      "An empty `Manager` can be initialized. A handy string representation shows the data that is required, and the status of the `Manager`s internal workflow. Internally used statistics can be accessed using the `stats` attribute."
     ]
    },
    {
     "cell_type": "code",
     "collapsed": false,
     "input": [
      "from pyatoa import Manager, Config\n",
      "\n",
      "mgmt = Manager()\n",
      "print(mgmt)"
     ],
     "language": "python",
     "metadata": {},
     "outputs": [],
     "prompt_number": null
    },
    {
     "cell_type": "markdown",
     "metadata": {},
     "source": [
      "An empty class is boring though, so let's get some data in there. The `Manager` can gather data automatically using the `Gatherer` class, but we'll save that for a separate section. Here we'll simply supply data directly to the initalization of the Manager class using ObsPy objects. First we'll need to read in some data from the test data directory, which includes station and event metadata, and observed and synthetic waveforms."
     ]
    },
    {
     "cell_type": "code",
     "collapsed": false,
     "input": [
      "import obspy\n",
      "\n",
      "inv = obspy.read_inventory(\"../tests/test_data/test_dataless_NZ_BFZ.xml\")\n",
      "cat = obspy.read_events(\"../tests/test_data/test_catalog_2018p130600.xml\")\n",
      "event = cat[0]\n",
      "st_obs = obspy.read(\"../tests/test_data/test_obs_data_NZ_BFZ_2018p130600.ascii\")\n",
      "st_syn = obspy.read(\"../tests/test_data/test_syn_data_NZ_BFZ_2018p130600.ascii\")"
     ],
     "language": "python",
     "metadata": {},
     "outputs": [],
     "prompt_number": null
    },
    {
     "cell_type": "markdown",
     "metadata": {},
     "source": [
      "Now we can instantiate a Manager with all the data we just created. We'll also need to provide a `Config` object to provide some parameters to some tasks we'll be performing with the Manager"
     ]
    },
    {
     "cell_type": "code",
     "collapsed": false,
     "input": [
      "cfg = Config()\n",
      "mgmt = Manager(config=cfg, inv=inv, event=event, st_obs=st_obs, st_syn=st_syn)\n",
      "print(mgmt)"
     ],
     "language": "python",
     "metadata": {},
     "outputs": [],
     "prompt_number": null
    },
    {
     "cell_type": "markdown",
     "metadata": {},
     "source": [
      "## Standardization\n",
      "\n",
      "Oftentimes, observed and synthetic waveforms will differ in sampling rate and/or start and end time.  \n",
      "We will need to standardize the waveforms to ensure their time series match. \n",
      "\n",
      "**NOTE:** By convention Pyatoa standardizes all data to the synthetic stream.  \n",
      "The assumption being that the numerical solver is expecting adjoint sources with the sample sampling rate and start time as its output synthetics."
     ]
    },
    {
     "cell_type": "code",
     "collapsed": false,
     "input": [
      "print(f\"OBSSERVED DATA\\n\\tsampling_rate: {st_obs[0].stats.sampling_rate:.2f}\\n\\tnpts: {st_obs[0].stats.npts:.2f}\")\n",
      "print(f\"SYNTHETIC DATA\\n\\tsampling_rate: {st_syn[0].stats.sampling_rate:.2f}\\n\\tnpts: {st_syn[0].stats.npts:.2f}\")\n",
      "\n",
      "mgmt.standardize()\n",
      "print(\"\\nStandardizing streams...\\n\")\n",
      "\n",
      "print(f\"OBSSERVED DATA\\n\\tsampling_rate: {mgmt.st_obs[0].stats.sampling_rate:.2f}\\n\\tnpts: {mgmt.st_obs[0].stats.npts:.2f}\")\n",
      "print(f\"SYNTHETIC DATA\\n\\tsampling_rate: {mgmt.st_syn[0].stats.sampling_rate:.2f}\\n\\tnpts: {mgmt.st_syn[0].stats.npts:.2f}\")"
     ],
     "language": "python",
     "metadata": {},
     "outputs": [],
     "prompt_number": null
    },
    {
     "cell_type": "markdown",
     "metadata": {},
     "source": [
      "## Plotting\n",
      "Once data are standardized, the Manager can plot waveforms. The more data that is provided in the Manager class (e.g. time windows, adjoint sources), the richer the resulting waveform plots will be.  \n",
      "\n",
      "If proper metadata is provided, source-receiver maps can also be generated. These figures can be made standalone, or created together, illustrated below. By default maps will try to create a square domain around the source and receiver, however a `corners` argument may be provided to the plot function, which will set fixed bounds for the map.\n",
      "\n",
      "In the plots you will see that the synthetic data is orders of magnitude smaller than the observed data. That is because we haven't run the preprocessing step yet, which will follow."
     ]
    },
    {
     "cell_type": "code",
     "collapsed": false,
     "input": [
      "mgmt.plot(choice=\"wav\", figsize=(4, 3))\n",
      "mgmt.plot(choice=\"map\", figsize=(4, 4))\n",
      "mgmt.plot(choice=\"both\", corners={\"lat_min\": -42.5,\n",
      "                                  \"lat_max\": -37.0,\n",
      "                                  \"lon_min\": 173.0,\n",
      "                                  \"lon_max\": 178.5},\n",
      "          figsize=(8, 4)\n",
      "         )"
     ],
     "language": "python",
     "metadata": {},
     "outputs": [],
     "prompt_number": null
    },
    {
     "cell_type": "markdown",
     "metadata": {},
     "source": [
      "## Preprocessing\n",
      "\n",
      "Preprocessing involves detrending, filtering, and instrument response removal for observed waveforms.  \n",
      "Instrument response must be available in the `inv` attribute.  \n",
      "Preprocessing parameters should be set in the `config` attribute.  \n",
      "The relevant parameters are located in the `PROCESS` section of the `Config` string representation."
     ]
    },
    {
     "cell_type": "code",
     "collapsed": false,
     "input": [
      "print(mgmt.inv[0][0][0].response)\n",
      "print(\"\\n\")\n",
      "print(mgmt.config)"
     ],
     "language": "python",
     "metadata": {},
     "outputs": [],
     "prompt_number": null
    },
    {
     "cell_type": "markdown",
     "metadata": {},
     "source": [
      "Pyatoa ships with a default preprocessing function, which involves tapering, response removal, and filtering.  \n",
      "The `Stats and Status` section of the `Manager` string representation lets the user know if the waveforms have been preprocessed successfully. "
     ]
    },
    {
     "cell_type": "code",
     "collapsed": false,
     "input": [
      "mgmt.preprocess()\n",
      "mgmt.plot(choice=\"wav\", figsize=(4, 3))"
     ],
     "language": "python",
     "metadata": {},
     "outputs": [],
     "prompt_number": null
    },
    {
     "cell_type": "markdown",
     "metadata": {},
     "source": [
      "## Custom Preprocessing Function\n",
      "\n",
      "A custom preprocessing routine may be required. It is possible to substitute a user-defined preprocessing function using the `overwrite` argument in the `preprocess()` function.  \n",
      "\n",
      "To use `overwrite`, the user must define a function with two mandatory arguments: `Manager`, and `choice`.  \n",
      "The `choice` argument allows different preprocessing steps for observed (obs) and synthetic (syn) data.  \n",
      "The function must return an ObsPy `Stream` object.  \n",
      "\n",
      "\n",
      "This functionality is illustrated below."
     ]
    },
    {
     "cell_type": "code",
     "collapsed": false,
     "input": [
      "def custom_preprocessing(mgmt, choice):\n",
      "    \"\"\"\n",
      "    This function performs a custom preprocessing for the Manager class.\n",
      "    \n",
      "    :type mgmt: pyatoa.core.manager.Manager\n",
      "    :param mgmt: the Manager class, which contains standardized data\n",
      "    :type choice: str\n",
      "    :param choice: choice of output, either \"obs\" or \"syn\"\n",
      "    :rtype: obspy.core.stream.Stream\n",
      "    :return: A preprocessed ObsPy Stream object\n",
      "    \"\"\"\n",
      "    if choice == \"obs\":\n",
      "        st = mgmt.st_obs\n",
      "    elif choice == \"syn\":\n",
      "        st = mgmt.st_syn\n",
      "        \n",
      "    # The `choice` argument allows different preprocessing for `obs` and `syn`\n",
      "    if choice == \"obs\":\n",
      "        st.remove_response(inventory=mgmt.inv, \n",
      "                           output=mgmt.config.unit_output)\n",
      "        \n",
      "        # Here we add a random action to scale data\n",
      "        for tr in st:\n",
      "            tr.data *= 2\n",
      "\n",
      "    # Access to Config parameters is still possible \n",
      "    st.filter(\"bandpass\", freqmin=1/mgmt.config.max_period, \n",
      "              freqmax=1/mgmt.config.min_period)\n",
      "    \n",
      "    # MUST output a Stream\n",
      "    return st\n",
      "\n",
      "# Instantiate the Manager class\n",
      "mgmt = Manager(config=cfg, inv=inv, event=event, st_obs=st_obs, st_syn=st_syn)\n",
      "\n",
      "# Functions can be chained together to simplify workflow calls\n",
      "mgmt.standardize().preprocess(overwrite=custom_preprocessing)\n",
      "mgmt.plot(choice=\"wav\", figsize=(4, 3))"
     ],
     "language": "python",
     "metadata": {},
     "outputs": [],
     "prompt_number": null
    },
    {
     "cell_type": "markdown",
     "metadata": {},
     "source": [
      "## Time Windowing (using Pyflex)\n",
      "\n",
      "Time windows are selected based on an STA/LTA waveform derived using the synthetic stream, and internal rejection criteria defined by the FLEXWIN algorithm.  \n",
      "\n",
      "Parameters used to define the internal rejection criteria are set in the Pyflex Config object.  \n",
      "Here we use the default Pyflex parameters to select windows for our test data.  \n",
      "\n",
      "Plotting the Manager shows the newly chosen time windows, rejected time windows and the reason for their rejection, annotations denoting the quality of each window, and the STA/LTA waveform and its accompanying water level."
     ]
    },
    {
     "cell_type": "code",
     "collapsed": false,
     "input": [
      "mgmt.window()\n",
      "mgmt.plot(choice=\"wav\")"
     ],
     "language": "python",
     "metadata": {},
     "outputs": [],
     "prompt_number": null
    },
    {
     "cell_type": "markdown",
     "metadata": {},
     "source": [
      "We can see that 3 windows have been collected, one for each component. \n",
      "It is possible to access the individual `pyflex.Window` objects by querying the `Manager.windows` atrribute,\n",
      "which is a dictionary containing lists of `Window` objects."
     ]
    },
    {
     "cell_type": "code",
     "collapsed": false,
     "input": [
      "print(mgmt.windows)"
     ],
     "language": "python",
     "metadata": {},
     "outputs": [],
     "prompt_number": null
    },
    {
     "cell_type": "markdown",
     "metadata": {},
     "source": [
      "## Misfit Measurement / Adjoint Source Generation (with Pyadjoint)\n",
      "\n",
      "Within each time window, we can evaluate the adjoint source. For each component, a misfit value $\\chi$ is calculated, which can be collected and summed with misfit values from other components, stations and source-receiver pairs, to provide an evaluation of an objective function for a seismic inversion.\n",
      "\n",
      "The adjoint source type is defined by the Config parameter `adj_src_type`, and the configuration parameters of Pyadjoint are set in the Config parameter `pyadjoint_config`\n",
      "\n",
      "Plotting the Manager at this stage sees inclusion of adjoint source traces, as well as $\\chi$ values for each component."
     ]
    },
    {
     "cell_type": "code",
     "collapsed": false,
     "input": [
      "mgmt.measure()\n",
      "mgmt.plot(choice=\"wav\")"
     ],
     "language": "python",
     "metadata": {},
     "outputs": [],
     "prompt_number": null
    },
    {
     "cell_type": "markdown",
     "metadata": {},
     "source": [
      "As with the windows, the resultant `Pyadjoint.AdjointSource` objects are stored in a dictionary in the Manager under the `adjsrcs` attribute. "
     ]
    },
    {
     "cell_type": "code",
     "collapsed": false,
     "input": [
      "print(\"ADJOINT SOURCES:\")\n",
      "print(mgmt.adjsrcs)\n",
      "print(\"\\nADJOINT SOURCE Z\")\n",
      "print(vars(mgmt.adjsrcs[\"Z\"]))"
     ],
     "language": "python",
     "metadata": {},
     "outputs": [],
     "prompt_number": null
    },
    {
     "cell_type": "markdown",
     "metadata": {},
     "source": [
      "The `measure()` function is the final step in the Pyatoa internal workflow.  \n",
      "What to do with this processed data is covered in other sections.  \n",
      "A summary of the workflow, and the internal stats of the `Manager` can be accessed through the Manager.  "
     ]
    },
    {
     "cell_type": "code",
     "collapsed": false,
     "input": [
      "print(mgmt)\n",
      "print(\"\\n\")\n",
      "print(mgmt.stats)"
     ],
     "language": "python",
     "metadata": {},
     "outputs": [],
     "prompt_number": null
    },
    {
     "cell_type": "markdown",
     "metadata": {},
     "source": [
      "## Flow\n",
      "\n",
      "A nice convenience is the `Manager.flow()` which calls each Manager function consecutively. If a `Manager` is included into a larger workflow tool, this makes running its internal workflow more concise. The flow takes key word arguments corresponding to optional arguments accepted by each of its workflow functions."
     ]
    },
    {
     "cell_type": "code",
     "collapsed": false,
     "input": [
      "mgmt = Manager(config=cfg, inv=inv, event=event, st_obs=st_obs, st_syn=st_syn)\n",
      "mgmt.flow()\n",
      "mgmt.plot()"
     ],
     "language": "python",
     "metadata": {},
     "outputs": [],
     "prompt_number": null
    }
   ],
   "metadata": {}
  }
 ]
}