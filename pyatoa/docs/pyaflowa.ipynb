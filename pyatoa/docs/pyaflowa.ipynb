{
 "metadata": {
  "kernelspec": {
   "display_name": "Python 3",
   "language": "python",
   "name": "python3"
  },
  "language_info": {
   "codemirror_mode": {
    "name": "ipython",
    "version": 3
   },
   "file_extension": ".py",
   "mimetype": "text/x-python",
   "name": "python",
   "nbconvert_exporter": "python",
   "pygments_lexer": "ipython3",
   "version": "3.7.3"
  },
  "name": ""
 },
 "nbformat": 3,
 "nbformat_minor": 0,
 "worksheets": [
  {
   "cells": [
    {
     "cell_type": "markdown",
     "metadata": {},
     "source": [
      "# Pyaflowa\n",
      "\n",
      "Pyaflowa is Pyatoa's workflow management class. It is in charge of facilitating automation of misfit quantification using the underlying machinery defined by the Config, Manager and Gatherer classes. Pyaflowa provides a structure to process en-masse waveform data from multiple stations and multiple events using only a few function calls.\n",
      "\n",
      "Pyaflowa can be used standalone in conjunction with SPECFEM3D, and also provides with SeisFlows. When used within the SeisFlows preprocess module, Pyaflowa reduces the overhead required to include Pyatoa functionality into a SeisFlows inversion.\n",
      "____\n",
      "\n",
      "## Pyaflowa + SPECFEM3D Cartesian \n",
      "\n",
      "Let's start with an example of running Pyaflowa standalone, e.g. if you are simply trying to retrieve an event-specific sensitivity kernels using the machinery of SPECFEM3D Cartesian, then you would need to compare observed and synthetic waveforms using misfit quantification, and output adjoint sources that SPECFEM3D will use in its adjoint simulation. Let's walk through step by step.\n",
      "\n",
      "### Generate CMTSOLUTION using ObsPy\n",
      "\n",
      "First we must generate the source file used to represent the moment tensor in our earthquake simulation. We'll use my favorite New Zealand [example event, 2018p130600](https://www.geonet.org.nz/earthquake/2018p130600), an M5.2 that occurred in the central North Island, New Zealand. \n",
      "\n",
      "With ObsPy + Pyatoa we'll be able to gather this event from FDSN webservices and save the resulting moment tensor and event information to the required [CMTSOLUTION format](https://www.globalcmt.org/CMTsearch.html) expected by SPECFEM3D."
     ]
    },
    {
     "cell_type": "code",
     "collapsed": false,
     "input": [
      "from pyatoa import append_focal_mechanism\n",
      "from obspy.clients.fdsn import Client"
     ],
     "language": "python",
     "metadata": {},
     "outputs": [],
     "prompt_number": null
    },
    {
     "cell_type": "code",
     "collapsed": false,
     "input": [
      "# Using ObsPy's FDSN Client, we can retrieve event information using an event id\n",
      "c = Client(\"GEONET\")\n",
      "cat = c.get_events(eventid=\"2018p130600\")\n",
      "\n",
      "# Using Pyatoa, we can append a focal mechanism from the GeoNet moment tensor catalog\n",
      "cat[0] = append_focal_mechanism(cat[0], client=\"GEONET\")\n",
      "\n",
      "# ObsPy has built in support for writing CMTSOLUTION files expected by SPECFEM3D\n",
      "cat.write(\"/Users/Chow/Desktop/pyaflowa_example/CMTSOLUTION\", format=\"CMTSOLUTION\")"
     ],
     "language": "python",
     "metadata": {},
     "outputs": [],
     "prompt_number": null
    },
    {
     "cell_type": "code",
     "collapsed": false,
     "input": [
      "# Lets just have a look at the file that's been created\n",
      "!cat /Users/Chow/Desktop/pyaflowa_example/CMTSOLUTION"
     ],
     "language": "python",
     "metadata": {},
     "outputs": [],
     "prompt_number": null
    },
    {
     "cell_type": "markdown",
     "metadata": {},
     "source": [
      "### Generate STATIONS file using ObsPy + Pyatoa\n",
      "\n",
      "SPECFEM3D also requires a STATIONS file which defines the locations of receivers for simulation output. \n",
      "As in Step 1 we'll generate a list of stations using ObsPy and write them into the required STATIONS file using Pyatoa. "
     ]
    },
    {
     "cell_type": "code",
     "collapsed": false,
     "input": [
      "from pyatoa import write_stations"
     ],
     "language": "python",
     "metadata": {},
     "outputs": [],
     "prompt_number": null
    },
    {
     "cell_type": "code",
     "collapsed": false,
     "input": [
      "inv = c.get_stations(network=\"NZ\", station=\"??Z\", channel=\"HH?\",\n",
      "                     minlatitude=-41, maxlatitude=-39,\n",
      "                     minlongitude=173, maxlongitude=176)\n",
      "write_stations(inv, fid=\"/Users/Chow/Desktop/pyaflowa_example/STATIONS\")"
     ],
     "language": "python",
     "metadata": {},
     "outputs": [],
     "prompt_number": null
    },
    {
     "cell_type": "markdown",
     "metadata": {},
     "source": [
      "> **__NOTE:__**  \n",
      "In the ObsPy function get_stations(), the following arguments are provided:\n",
      "* __network = \"NZ\"__ refers to the code for New Zealand's permament seismic netnwork\n",
      "* __station = \"??Z\"__ means we only want 3 letter station codes that end in Z, which GeoNet usually reserves for broadband seismometers\n",
      "* __channel = \"HH?\"__ refers to a broadband (first 'H') seismometer (second 'H'), for any available component (wildcard '?'), usually N/E/Z. This follows [SEED naming convention](https://ds.iris.edu/ds/nodes/dmc/data/formats/seed-channel-naming/).\n",
      "* This min and max latitude / longitude defines a small region where we want to search for stations"
     ]
    },
    {
     "cell_type": "code",
     "collapsed": false,
     "input": [
      "# Lets just have a look at the file that's been created\n",
      "!cat \"/Users/Chow/Desktop/pyaflowa_example/STATIONS\""
     ],
     "language": "python",
     "metadata": {},
     "outputs": [],
     "prompt_number": null
    },
    {
     "cell_type": "markdown",
     "metadata": {},
     "source": [
      "### Generate synthetics using SPECFEM3D [EXTERNAL]\n",
      "\n",
      "Unfortunately this cannot be shown in a Jupyter notebook as generating synthetics requires interfacing with the SPECFEM3D code, usually on a cluster. Here we assume this step has been completed successfully, with resultant synthetic waveforms produced by SPECFEM3D for the given event and stations. \n",
      "\n",
      "The output synthetic seismograms are expected to be formatted as two-column ASCII files. I have placed my synthetic waveforms in the following directory. Note that the file names follow the expected output from SPECFEM3D. Adherance to this format is very important for running Pyaflowa:"
     ]
    },
    {
     "cell_type": "code",
     "collapsed": false,
     "input": [
      "!ls /Users/Chow/Desktop/pyaflowa_example/synthetics/2018p130600"
     ],
     "language": "python",
     "metadata": {},
     "outputs": [],
     "prompt_number": null
    },
    {
     "cell_type": "markdown",
     "metadata": {},
     "source": [
      "### Initiate Pyaflowa directory structure\n",
      "\n",
      "Pyaflowa simplifies the enigmatic inner machinations of Pyatoa. To do so, it manages an internal directory structure to search for inputs and store outputs.\n",
      "\n",
      "When used standalone, Pyaflowa creates its own directory structure within a given working directory. When used in conjunction with SeisFlows, Pyaflowa will work within the bounds of the internal directory structure of SeisFlows.\n",
      "\n",
      "Let's start by initiating Pyaflowa. As with any usage of Pyatoa, a Config object is required to define internally used parameters."
     ]
    },
    {
     "cell_type": "code",
     "collapsed": false,
     "input": [
      "from pyatoa import Pyaflowa, Config"
     ],
     "language": "python",
     "metadata": {},
     "outputs": [],
     "prompt_number": null
    },
    {
     "cell_type": "code",
     "collapsed": false,
     "input": [
      "cfg = Config(iteration=1, step_count=0, client=\"GEONET\", min_period=10, max_period=30,\n",
      "             pyflex_preset=\"nznorth_10-30s\")\n",
      "\n",
      "pf = Pyaflowa(structure=\"standalone\", workdir=\"/Users/Chow/Desktop/pyaflowa_example/workdir\", config=cfg)"
     ],
     "language": "python",
     "metadata": {},
     "outputs": [],
     "prompt_number": null
    },
    {
     "cell_type": "code",
     "collapsed": false,
     "input": [
      "# We can take a look at Pyaflowa's internal directory structure with the path_structure attribute\n",
      "pf.path_structure"
     ],
     "language": "python",
     "metadata": {},
     "outputs": [],
     "prompt_number": null
    },
    {
     "cell_type": "code",
     "collapsed": false,
     "input": [
      "# If you want different directories than the chosen defaults shown above, you can simply pass the keys \n",
      "# path_strcuture attribute as keyword arguments in the intialization of Pyaflowa\n",
      "kwargs = {\"workdir\": \"/Users/Chow/Desktop/pyaflowa_example/workdir\",\n",
      "          \"synthetics\": \"/Users/Chow/Desktop/pyaflowa_example/synthetics/2018p130600\",\n",
      "          \"stations_file\": \"/Users/Chow/Desktop/pyaflowa_example/STATIONS\"\n",
      "         }\n",
      "\n",
      "pf = Pyaflowa(structure=\"standalone\", config=cfg, **kwargs)\n",
      "pf.path_structure"
     ],
     "language": "python",
     "metadata": {},
     "outputs": [],
     "prompt_number": null
    },
    {
     "cell_type": "code",
     "collapsed": false,
     "input": [
      "# By running setup, Pyaflow will generate the required directory structure.\n",
      "# It will also return an IO object, which will be used to store internal attributes for\n",
      "# each source processing. You don't need to interact with the IO object, but we can take a look\n",
      "# at it for clarity\n",
      "io = pf.setup(source_name=\"2018p130600\")"
     ],
     "language": "python",
     "metadata": {},
     "outputs": [],
     "prompt_number": null
    },
    {
     "cell_type": "markdown",
     "metadata": {},
     "source": [
      "### Run Pyaflowa (gather and process waveforms)\n",
      "\n",
      "Great, that's all we need to do for setup, Pyaflowa knows the event, path structure and stations that we want to use for misfit quantification, all we have to do is run it."
     ]
    },
    {
     "cell_type": "code",
     "collapsed": false,
     "input": [
      "pf.run(source_names=\"2018p130600\")"
     ],
     "language": "python",
     "metadata": {},
     "outputs": [],
     "prompt_number": null
    },
    {
     "cell_type": "markdown",
     "metadata": {},
     "source": [
      "### Inspect Pyaflowa outputs\n",
      "\n",
      "Iwe have a look at the work directory, we can see the outputs of the Pyaflowa workflow, which will be:\n",
      "* An ASDFDataSet with waveforms, metadata, misfit windows and adjoint sources\n",
      "* Waveform figures for all the stations processed\n",
      "* Adjoint source ASCII files (.adj) required for a SPECFEM3D adjoint simulation\n",
      "* STATIONS_ADJOINT file required for a SPECFEM3D adjoint simulation\n",
      "* The output log which shows the "
     ]
    },
    {
     "cell_type": "code",
     "collapsed": false,
     "input": [
      "# Here is the working directory with all the inputs and outputs\n",
      "!ls \"/Users/Chow/Desktop/pyaflowa_example/workdir\""
     ],
     "language": "python",
     "metadata": {},
     "outputs": [],
     "prompt_number": null
    },
    {
     "cell_type": "code",
     "collapsed": false,
     "input": [
      "# The ASDFDataSet contains all the data and metadata collected and created during the workflow\n",
      "# This can be viewed using the functionalities of PyASDF\n",
      "!ls \"/Users/Chow/Desktop/pyaflowa_example/workdir/datasets\""
     ],
     "language": "python",
     "metadata": {},
     "outputs": [],
     "prompt_number": null
    },
    {
     "cell_type": "code",
     "collapsed": false,
     "input": [
      "# Each event will output figures and adjoint source files\n",
      "!ls \"/Users/Chow/Desktop/pyaflowa_example/workdir/2018p130600\""
     ],
     "language": "python",
     "metadata": {},
     "outputs": [],
     "prompt_number": null
    },
    {
     "cell_type": "code",
     "collapsed": false,
     "input": [
      "# Adjoint sources are created for all components. Components that have no measurements will be written with zeros\n",
      "!ls \"/Users/Chow/Desktop/pyaflowa_example/workdir/2018p130600/adjsrcs\""
     ],
     "language": "python",
     "metadata": {},
     "outputs": [],
     "prompt_number": null
    },
    {
     "cell_type": "code",
     "collapsed": false,
     "input": [
      "# Adjoint source files are created as two-column ASCII files, in the same manner as the synthetics \n",
      "# generated by SPECFEM3D\n",
      "!head \"/Users/Chow/Desktop/pyaflowa_example/workdir/2018p130600/adjsrcs/NZ.MRZ.BXE.adj\""
     ],
     "language": "python",
     "metadata": {},
     "outputs": [],
     "prompt_number": null
    },
    {
     "cell_type": "code",
     "collapsed": false,
     "input": [
      "!ls \"/Users/Chow/Desktop/pyaflowa_example/workdir/2018p130600/figures\""
     ],
     "language": "python",
     "metadata": {},
     "outputs": [],
     "prompt_number": null
    },
    {
     "cell_type": "code",
     "collapsed": false,
     "input": [
      "!tail \"/Users/Chow/Desktop/pyaflowa_example/workdir/logs/i01s00_2018p130600.log\""
     ],
     "language": "python",
     "metadata": {},
     "outputs": [],
     "prompt_number": null
    },
    {
     "cell_type": "markdown",
     "metadata": {},
     "source": [
      "### Multi-processing with Pyaflowa\n",
      "\n",
      "Pyaflowa allows for multi-processing using Python's concurrent.futures. This means that multiple events can be processed in parallel, potentially allowing for large speed up when running waveform processing. We'll include another event [2012p242656](https://www.geonet.org.nz/earthquake/2012p242656), in our work directory and show how simple it is to use this functionality."
     ]
    },
    {
     "cell_type": "code",
     "collapsed": false,
     "input": [
      "!ls \"/Users/Chow/Desktop/pyaflowa_example/synthetics/2012p242656\""
     ],
     "language": "python",
     "metadata": {},
     "outputs": [],
     "prompt_number": null
    },
    {
     "cell_type": "code",
     "collapsed": false,
     "input": [
      "# Here we initiate almost the same key word arguments, however we add a formatting statement in the synthetics\n",
      "# kwarg so that Pyaflowa knows which directory to search when looking for synthetics.\n",
      "# Here the STATION FILE is the same\n",
      "kwargs = {\"workdir\": \"/Users/Chow/Desktop/pyaflowa_example/workdir\",\n",
      "          \"synthetics\": \"/Users/Chow/Desktop/pyaflowa_example/synthetics/{source_name}\",\n",
      "          \"stations_file\": \"/Users/Chow/Desktop/pyaflowa_example/STATIONS\"\n",
      "         }\n",
      "\n",
      "pf = Pyaflowa(structure=\"standalone\", config=cfg, **kwargs)\n",
      "pf.path_structure"
     ],
     "language": "python",
     "metadata": {},
     "outputs": [],
     "prompt_number": null
    },
    {
     "cell_type": "code",
     "collapsed": false,
     "input": [
      "# Now, all we need to do to invoke multiprocessing is input a list of source names to the run function\n",
      "pf.run(source_names=[\"2018p130600\", \"2012p242656\"])"
     ],
     "language": "python",
     "metadata": {},
     "outputs": [],
     "prompt_number": null
    },
    {
     "cell_type": "markdown",
     "metadata": {},
     "source": [
      "Unfortunately I don't think it's possible to run parallel tasks in a Jupyter notebook and I'm not prepared to put in the effort to figure out how to do this, so I hope you can take my word for it that this simply executes two parallel processing steps using the concurrent.futures multiprocessing machinery. neat!\n",
      "___"
     ]
    },
    {
     "cell_type": "markdown",
     "metadata": {},
     "source": [
      "## Pyaflowa + SeisFlows\n",
      "\n",
      "Coming soon to a docs page near you."
     ]
    }
   ],
   "metadata": {}
  }
 ]
}