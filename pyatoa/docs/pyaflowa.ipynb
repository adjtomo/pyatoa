{
 "cells": [
  {
   "cell_type": "markdown",
   "id": "403eb907",
   "metadata": {},
   "source": [
    "# Pyaflowa"
   ]
  },
  {
   "cell_type": "raw",
   "id": "ca1343a8",
   "metadata": {},
   "source": [
    ":doc:`Pyaflowa </modules/core.pyaflowa` is Pyatoa's workflow management class. It is in charge of facilitating automation of the misfit quantification machinery defined by the Config, Manager and Gatherer classes. Pyaflowa provides a structure to process en-masse waveform data from multiple stations and multiple events using only a few function calls."
   ]
  },
  {
   "cell_type": "markdown",
   "id": "5e77f758",
   "metadata": {},
   "source": [
    "`Pyaflowa` can be used standalone, and also provides the necessary interface to work with SeisFlows3. When used within the SeisFlows3 preprocess module, Pyaflowa reduces the overhead required to include Pyatoa functionality into a SeisFlows3 inversion."
   ]
  },
  {
   "cell_type": "markdown",
   "id": "b9b033ac",
   "metadata": {},
   "source": [
    "## Standalone (w/ SPECFEM3D)\n",
    "\n",
    "Let's say you want to run forward and adjoint simulations to generate synthetic seismograms and sensitivity kernels using SPECFEM3D. To make this happen, a user will need some specific pieces that correspond to the problem at hand.\n",
    "\n",
    "* Forward simulations: DATA/CMTSOLUTION, DATA/STATIONS  \n",
    "* Adjoint simulations: DATA/STATIONS_ADJOINT, /sem/\\*.adj \n",
    "\n",
    "We can use `Pyatoa` to prepare the necessary files for SPECFEM3D forward simulatinos, and then use `Pyaflowa` to: 1) compare synthetic seismograms with real data for a number of stations and generate adjoint sources which can be fed directly back into a SPECFEM3D adjoint simulation. \n",
    "\n",
    "### Prep: Generate CMTSOLUTION\n",
    "\n",
    "First we must generate the source file used to represent the moment tensor in our earthquake simulation. In this example, we'll use my favorite New Zealand [example event, 2018p130600](https://www.geonet.org.nz/earthquake/2018p130600), an M5.2 that occurred in the central North Island, New Zealand while I was doing my PhD in Wellington.\n",
    "\n",
    "With `ObsPy` + `Pyatoa` we'll be able to gather this event from FDSN webservices and save the resulting moment tensor and event information to the required [CMTSOLUTION format](https://www.globalcmt.org/CMTsearch.html) expected by SPECFEM3D. "
   ]
  },
  {
   "cell_type": "raw",
   "id": "78e779e0",
   "metadata": {},
   "source": [
    "We will use the Pyatoa function :doc:`append_focal_mechanism </modules/core.gatherer/append_focal_mechanism>`"
   ]
  },
  {
   "cell_type": "code",
   "execution_count": 1,
   "id": "a81d6040",
   "metadata": {
    "execution": {
     "iopub.execute_input": "2022-03-02T23:08:53.924296Z",
     "iopub.status.busy": "2022-03-02T23:08:53.922095Z",
     "iopub.status.idle": "2022-03-02T23:08:54.527468Z",
     "shell.execute_reply": "2022-03-02T23:08:54.527188Z"
    }
   },
   "outputs": [],
   "source": [
    "import os\n",
    "from pyatoa import append_focal_mechanism\n",
    "from obspy.clients.fdsn import Client"
   ]
  },
  {
   "cell_type": "code",
   "execution_count": 2,
   "id": "af7196ae",
   "metadata": {
    "execution": {
     "iopub.execute_input": "2022-03-02T23:08:54.529719Z",
     "iopub.status.busy": "2022-03-02T23:08:54.529486Z",
     "iopub.status.idle": "2022-03-02T23:08:54.531298Z",
     "shell.execute_reply": "2022-03-02T23:08:54.531103Z"
    }
   },
   "outputs": [
    {
     "name": "stdout",
     "output_type": "stream",
     "text": [
      "/home/bchow/REPOSITORIES/pyatoa/pyatoa/docs\n",
      "/home/bchow/REPOSITORIES/pyatoa/pyatoa/tests/test_data/docs_data/pyaflowa_doc\n"
     ]
    }
   ],
   "source": [
    "# We will just move to an empty directory for this example problem\n",
    "print(os.getcwd())\n",
    "docs_path = os.path.abspath(\"../tests/test_data/docs_data/pyaflowa_doc\")\n",
    "if not os.path.exists(docs_path):\n",
    "    os.mkdir(docs_path)\n",
    "os.chdir(docs_path)\n",
    "print(os.getcwd())"
   ]
  },
  {
   "cell_type": "code",
   "execution_count": 3,
   "id": "f2c0fb32",
   "metadata": {
    "execution": {
     "iopub.execute_input": "2022-03-02T23:08:54.535122Z",
     "iopub.status.busy": "2022-03-02T23:08:54.534847Z",
     "iopub.status.idle": "2022-03-02T23:08:55.385617Z",
     "shell.execute_reply": "2022-03-02T23:08:55.385361Z"
    }
   },
   "outputs": [
    {
     "name": "stderr",
     "output_type": "stream",
     "text": [
      "/home/bchow/miniconda3/envs/docs/lib/python3.7/site-packages/obspy/io/cmtsolution/core.py:370: UserWarning: No body wave magnitude found. Will be replaced by the first magnitude in the event object.\n",
      "  warnings.warn(\"No body wave magnitude found. Will be replaced by the \"\n",
      "/home/bchow/miniconda3/envs/docs/lib/python3.7/site-packages/obspy/io/cmtsolution/core.py:376: UserWarning: No surface wave magnitude found. Will be replaced by the first magnitude in the event object.\n",
      "  warnings.warn(\"No surface wave magnitude found. Will be replaced by \"\n",
      "/home/bchow/miniconda3/envs/docs/lib/python3.7/site-packages/obspy/io/cmtsolution/core.py:397: UserWarning: Could not find a centroid origin. Will instead assume that the preferred or first origin is the centroid origin.\n",
      "  warnings.warn(\"Could not find a centroid origin. Will instead \"\n",
      "/home/bchow/miniconda3/envs/docs/lib/python3.7/site-packages/obspy/io/cmtsolution/core.py:410: UserWarning: Hypocentral origin will be identical to the centroid one.\n",
      "  warnings.warn(\"Hypocentral origin will be identical to the \"\n"
     ]
    }
   ],
   "source": [
    "# Using ObsPy's FDSN Client, we can retrieve event information using an event id\n",
    "c = Client(\"GEONET\")\n",
    "cat = c.get_events(eventid=\"2018p130600\")\n",
    "\n",
    "# Using Pyatoa, we can append a focal mechanism from the GeoNet moment tensor catalog\n",
    "cat[0] = append_focal_mechanism(cat[0], client=\"GEONET\")\n",
    "\n",
    "# ObsPy has built in support for writing CMTSOLUTION files expected by SPECFEM3D\n",
    "cat.write(\"CMTSOLUTION\", format=\"CMTSOLUTION\")"
   ]
  },
  {
   "cell_type": "code",
   "execution_count": 4,
   "id": "c23f9300",
   "metadata": {
    "execution": {
     "iopub.execute_input": "2022-03-02T23:08:55.387390Z",
     "iopub.status.busy": "2022-03-02T23:08:55.387163Z",
     "iopub.status.idle": "2022-03-02T23:08:55.496757Z",
     "shell.execute_reply": "2022-03-02T23:08:55.496529Z"
    }
   },
   "outputs": [
    {
     "name": "stdout",
     "output_type": "stream",
     "text": [
      " PDE 2018 02 18 07 43 48.13  -39.9490  176.2995  20.6 5.2 5.2 NORTH ISLAND, NEW ZEALAND\r\n",
      "event name:           785552\r\n",
      "time shift:           0.0000\r\n",
      "half duration:        0.6989\r\n",
      "latitude:           -39.9490\r\n",
      "longitude:          176.2995\r\n",
      "depth:               20.5946\r\n",
      "Mrr:           -2.479380E+23\r\n",
      "Mtt:            1.314880E+23\r\n",
      "Mpp:            1.164500E+23\r\n",
      "Mrt:            5.032500E+22\r\n",
      "Mrp:            6.607700E+22\r\n",
      "Mtp:            9.359300E+22\r\n"
     ]
    }
   ],
   "source": [
    "# Lets just have a look at the file that's been created, which is a CMTSOLUTION that is ready\n",
    "# to be used in SPECFEM3D\n",
    "!cat \"CMTSOLUTION\""
   ]
  },
  {
   "cell_type": "markdown",
   "id": "eb5a1c36",
   "metadata": {},
   "source": [
    "### Prep: Generate STATIONS file\n",
    "\n",
    "SPECFEM3D also requires a STATIONS file which defines the locations of receivers for simulation output. \n",
    "As in Step 1 we'll generate a list of stations using `ObsPy` and write them into the required STATIONS file using `Pyatoa` and a corresponding obspy.Inventory object."
   ]
  },
  {
   "cell_type": "markdown",
   "id": "da546e73",
   "metadata": {},
   "source": [
    "> **__NOTE:__**  \n",
    "In the ObsPy function get_stations(), the reasoning behind the following arguments provided:\n",
    "* __network = \"NZ\"__ refers to the code for New Zealand's permament seismic netnwork\n",
    "* __station = \"??Z\"__ means we only want 3 letter station codes that end in Z, which GeoNet usually reserves for broadband seismometers\n",
    "* __channel = \"HH?\"__ refers to a broadband (first 'H') seismometer (second 'H'), for any available component (wildcard '?'), usually N/E/Z. This follows [SEED naming convention](https://ds.iris.edu/ds/nodes/dmc/data/formats/seed-channel-naming/).\n",
    "* This __min__ and __max latitude / longitude__ defines a small region where we want to search for stations"
   ]
  },
  {
   "cell_type": "code",
   "execution_count": 5,
   "id": "7bff0d92",
   "metadata": {
    "execution": {
     "iopub.execute_input": "2022-03-02T23:08:55.498995Z",
     "iopub.status.busy": "2022-03-02T23:08:55.498746Z",
     "iopub.status.idle": "2022-03-02T23:08:55.500287Z",
     "shell.execute_reply": "2022-03-02T23:08:55.500102Z"
    }
   },
   "outputs": [],
   "source": [
    "from pyatoa import write_stations"
   ]
  },
  {
   "cell_type": "code",
   "execution_count": 6,
   "id": "9a9495aa",
   "metadata": {
    "execution": {
     "iopub.execute_input": "2022-03-02T23:08:55.502617Z",
     "iopub.status.busy": "2022-03-02T23:08:55.501473Z",
     "iopub.status.idle": "2022-03-02T23:08:55.792766Z",
     "shell.execute_reply": "2022-03-02T23:08:55.792552Z"
    }
   },
   "outputs": [
    {
     "name": "stderr",
     "output_type": "stream",
     "text": [
      "/home/bchow/miniconda3/envs/docs/lib/python3.7/site-packages/obspy/io/stationxml/core.py:98: UserWarning: The StationXML file has version 1, ObsPy can read versions (1.0, 1.1). Proceed with caution.\n",
      "  version, \", \".join(READABLE_VERSIONS)))\n"
     ]
    }
   ],
   "source": [
    "inv = c.get_stations(network=\"NZ\", station=\"??Z\", channel=\"HH?\",\n",
    "                     minlatitude=-41, maxlatitude=-39,\n",
    "                     minlongitude=173, maxlongitude=176)\n",
    "write_stations(inv, fid=\"STATIONS\")"
   ]
  },
  {
   "cell_type": "code",
   "execution_count": 7,
   "id": "d54fb6c9",
   "metadata": {
    "execution": {
     "iopub.execute_input": "2022-03-02T23:08:55.794838Z",
     "iopub.status.busy": "2022-03-02T23:08:55.794605Z",
     "iopub.status.idle": "2022-03-02T23:08:55.796057Z",
     "shell.execute_reply": "2022-03-02T23:08:55.795851Z"
    }
   },
   "outputs": [
    {
     "name": "stdout",
     "output_type": "stream",
     "text": [
      "Inventory created at 2022-03-02T06:13:37.000000Z\n",
      "\tCreated by: Delta\n",
      "\t\t    \n",
      "\tSending institution: GeoNet (WEL(GNS_Test))\n",
      "\tContains:\n",
      "\t\tNetworks (1):\n",
      "\t\t\tNZ\n",
      "\t\tStations (4):\n",
      "\t\t\tNZ.MRZ (Mangatainoka River)\n",
      "\t\t\tNZ.TSZ (Takapari Road)\n",
      "\t\t\tNZ.VRZ (Vera Road)\n",
      "\t\t\tNZ.WAZ (Wanganui)\n",
      "\t\tChannels (0):\n",
      "\n"
     ]
    }
   ],
   "source": [
    "# Let's have a look at the stations we picked up from FDSN\n",
    "print(inv)"
   ]
  },
  {
   "cell_type": "code",
   "execution_count": 8,
   "id": "eec93ff2",
   "metadata": {
    "execution": {
     "iopub.execute_input": "2022-03-02T23:08:55.797716Z",
     "iopub.status.busy": "2022-03-02T23:08:55.797487Z",
     "iopub.status.idle": "2022-03-02T23:08:55.907078Z",
     "shell.execute_reply": "2022-03-02T23:08:55.906826Z"
    }
   },
   "outputs": [
    {
     "name": "stdout",
     "output_type": "stream",
     "text": [
      "   MRZ    NZ    -40.6605    175.5785    0.0    0.0\r\n",
      "   TSZ    NZ    -40.0586    175.9611    0.0    0.0\r\n",
      "   VRZ    NZ    -39.1243    174.7585    0.0    0.0\r\n",
      "   WAZ    NZ    -39.7546    174.9855    0.0    0.0\r\n"
     ]
    }
   ],
   "source": [
    "# And lets have a look at the STATIONS file that's been created\n",
    "!cat \"STATIONS\""
   ]
  },
  {
   "cell_type": "markdown",
   "id": "e8e9cb11",
   "metadata": {},
   "source": [
    "### Forward Simulation: Generate synthetics using SPECFEM3D [external]\n",
    "\n",
    "Unfortunately this cannot be shown in a Jupyter notebook as generating synthetics requires interfacing with the SPECFEM3D code, which usually takes place on a cluster. In this example we assume this step has been completed successfully, with resultant synthetic waveforms produced by SPECFEM3D for the given event and stations defined above. \n",
    "\n",
    "> **__NOTE:__**  \n",
    "Output synthetic seismograms are expected to be formatted as two-column ASCII files, which I have pre-generated for this example. File names follow the expected output from SPECFEM3D. Adherance to this format is very important for running Pyaflowa. \n",
    "\n",
    "> **__NOTE:__**\n",
    "By default synthetic waveform data is expected to be separated by event ID, e.g., PATH/TO/SYNTHETICS/{EVENT_ID}/*semd"
   ]
  },
  {
   "cell_type": "code",
   "execution_count": 9,
   "id": "993c4b14",
   "metadata": {
    "execution": {
     "iopub.execute_input": "2022-03-02T23:08:55.912681Z",
     "iopub.status.busy": "2022-03-02T23:08:55.912325Z",
     "iopub.status.idle": "2022-03-02T23:08:56.236451Z",
     "shell.execute_reply": "2022-03-02T23:08:56.236254Z"
    },
    "scrolled": true
   },
   "outputs": [
    {
     "name": "stdout",
     "output_type": "stream",
     "text": [
      "2012p242656  2018p130600  NZ.BFZ.BXE.semd  NZ.BFZ.BXN.semd  NZ.BFZ.BXZ.semd\r\n"
     ]
    }
   ],
   "source": [
    "# Let's copy the premade synthetic data into our current working directory\n",
    "!ls ../../synthetics\n",
    "!mkdir -p synthetics\n",
    "!cp -r ../../synthetics/201?p?????? ./synthetics"
   ]
  },
  {
   "cell_type": "code",
   "execution_count": 10,
   "id": "ac2a6ce1",
   "metadata": {
    "execution": {
     "iopub.execute_input": "2022-03-02T23:08:56.241641Z",
     "iopub.status.busy": "2022-03-02T23:08:56.238712Z",
     "iopub.status.idle": "2022-03-02T23:08:56.349997Z",
     "shell.execute_reply": "2022-03-02T23:08:56.349759Z"
    }
   },
   "outputs": [
    {
     "name": "stdout",
     "output_type": "stream",
     "text": [
      "==> ./synthetics/2018p130600/NZ.MRZ.BXE.semd <==\r\n",
      "  -20.0000000       0.00000000    \r\n",
      "  -19.9850006       0.00000000    \r\n",
      "  -19.9699993       0.00000000    \r\n",
      "  -19.9549999       0.00000000    \r\n",
      "  -19.9400005       0.00000000    \r\n",
      "  -19.9249992       0.00000000    \r\n",
      "  -19.9099998       0.00000000    \r\n",
      "  -19.8950005       0.00000000    \r\n",
      "  -19.8799992       0.00000000    \r\n",
      "  -19.8649998       0.00000000    \r\n",
      "\r\n",
      "==> ./synthetics/2018p130600/NZ.MRZ.BXN.semd <==\r\n",
      "  -20.0000000       0.00000000    \r\n",
      "  -19.9850006       0.00000000    \r\n",
      "  -19.9699993       0.00000000    \r\n",
      "  -19.9549999       0.00000000    \r\n",
      "  -19.9400005       0.00000000    \r\n",
      "  -19.9249992       0.00000000    \r\n",
      "  -19.9099998       0.00000000    \r\n",
      "  -19.8950005       0.00000000    \r\n",
      "  -19.8799992       0.00000000    \r\n",
      "  -19.8649998       0.00000000    \r\n",
      "\r\n",
      "==> ./synthetics/2018p130600/NZ.MRZ.BXZ.semd <==\r\n",
      "  -20.0000000       0.00000000    \r\n",
      "  -19.9850006       0.00000000    \r\n",
      "  -19.9699993       0.00000000    \r\n",
      "  -19.9549999       0.00000000    \r\n",
      "  -19.9400005       0.00000000    \r\n",
      "  -19.9249992       0.00000000    \r\n",
      "  -19.9099998       0.00000000    \r\n",
      "  -19.8950005       0.00000000    \r\n",
      "  -19.8799992       0.00000000    \r\n",
      "  -19.8649998       0.00000000    \r\n"
     ]
    }
   ],
   "source": [
    "!head ./synthetics/2018p130600/NZ.MRZ.BX?.semd"
   ]
  },
  {
   "cell_type": "markdown",
   "id": "9ee5c689",
   "metadata": {},
   "source": [
    "### Pyaflowa's directory structure\n",
    "\n",
    "`Pyaflowa` abstracts away the enigmatic inner machinations of `Pyatoa`. To do so it manages an internal directory structure to search for inputs and store outputs.\n",
    "\n",
    "When used standalone, `Pyaflowa` creates its own directory structure within a given working directory. When used in conjunction with SeisFlows3, `Pyaflowa` will work within the preset internal directory structure of SeisFlows3 (see Pyaflowa + SeisFlows3).\n",
    "\n",
    "Let's start by initiating `Pyaflowa`. As with any usage of Pyatoa, a Config object is required to define internally used parameters which will inturn be used to control gathering, waveform processing, and misfit quantification."
   ]
  },
  {
   "cell_type": "code",
   "execution_count": 11,
   "id": "9a01f38c",
   "metadata": {
    "execution": {
     "iopub.execute_input": "2022-03-02T23:08:56.352155Z",
     "iopub.status.busy": "2022-03-02T23:08:56.351890Z",
     "iopub.status.idle": "2022-03-02T23:08:56.353143Z",
     "shell.execute_reply": "2022-03-02T23:08:56.352926Z"
    }
   },
   "outputs": [],
   "source": [
    "from pyatoa import Pyaflowa, Config"
   ]
  },
  {
   "cell_type": "code",
   "execution_count": 12,
   "id": "3d4b43a4",
   "metadata": {
    "execution": {
     "iopub.execute_input": "2022-03-02T23:08:56.355313Z",
     "iopub.status.busy": "2022-03-02T23:08:56.355082Z",
     "iopub.status.idle": "2022-03-02T23:08:56.356202Z",
     "shell.execute_reply": "2022-03-02T23:08:56.356028Z"
    }
   },
   "outputs": [],
   "source": [
    "cfg = Config(iteration=1, step_count=0, client=\"GEONET\", min_period=10, max_period=30,\n",
    "             pyflex_preset=\"nznorth_10-30s\")\n",
    "\n",
    "pf = Pyaflowa(structure=\"standalone\", workdir=\"./\", config=cfg)"
   ]
  },
  {
   "cell_type": "code",
   "execution_count": 13,
   "id": "1d9aa8d0",
   "metadata": {
    "execution": {
     "iopub.execute_input": "2022-03-02T23:08:56.359421Z",
     "iopub.status.busy": "2022-03-02T23:08:56.359181Z",
     "iopub.status.idle": "2022-03-02T23:08:56.360757Z",
     "shell.execute_reply": "2022-03-02T23:08:56.360544Z"
    }
   },
   "outputs": [
    {
     "data": {
      "text/plain": [
       "cwd          : './'\n",
       "data         : './input/DATA'\n",
       "datasets     : './datasets'\n",
       "figures      : './figures'\n",
       "logs         : './logs'\n",
       "ds_file      : './datasets/{source_name}.h5'\n",
       "stations_file: './{source_name}/STATIONS'\n",
       "responses    : './input/responses'\n",
       "waveforms    : './input/waveforms'\n",
       "synthetics   : './input/synthetics/{source_name}'\n",
       "adjsrcs      : './adjsrcs/{source_name}'\n",
       "event_figures: './figures/{source_name}'"
      ]
     },
     "execution_count": 13,
     "metadata": {},
     "output_type": "execute_result"
    }
   ],
   "source": [
    "# We can take a look at Pyaflowa's DEFAULT internal directory structure with the path_structure attribute\n",
    "pf.path_structure"
   ]
  },
  {
   "cell_type": "markdown",
   "id": "b1e55db7",
   "metadata": {},
   "source": [
    "If you want to change the Pyaflowa directory structure from the default values shown above, you can simply pass the keys of the `path_structure` attribute as keyword arguments in the initialization of Pyaflowa. Let's generate a non-standard path structure to point to our existing data."
   ]
  },
  {
   "cell_type": "code",
   "execution_count": 14,
   "id": "1e4d4e93",
   "metadata": {
    "execution": {
     "iopub.execute_input": "2022-03-02T23:08:56.363591Z",
     "iopub.status.busy": "2022-03-02T23:08:56.362947Z",
     "iopub.status.idle": "2022-03-02T23:08:56.364805Z",
     "shell.execute_reply": "2022-03-02T23:08:56.364987Z"
    }
   },
   "outputs": [
    {
     "data": {
      "text/plain": [
       "cwd          : '/home/bchow/REPOSITORIES/pyatoa/pyatoa/tests/test_data/docs_data/pyaflowa_doc'\n",
       "data         : '/home/bchow/REPOSITORIES/pyatoa/pyatoa/tests/test_data/docs_data/pyaflowa_doc'\n",
       "datasets     : '/home/bchow/REPOSITORIES/pyatoa/pyatoa/tests/test_data/docs_data/pyaflowa_doc'\n",
       "figures      : '/home/bchow/REPOSITORIES/pyatoa/pyatoa/tests/test_data/docs_data/pyaflowa_doc/figures'\n",
       "logs         : '/home/bchow/REPOSITORIES/pyatoa/pyatoa/tests/test_data/docs_data/pyaflowa_doc/logs'\n",
       "ds_file      : '/home/bchow/REPOSITORIES/pyatoa/pyatoa/tests/test_data/docs_data/pyaflowa_doc/{source_name}.h5'\n",
       "stations_file: '/home/bchow/REPOSITORIES/pyatoa/pyatoa/tests/test_data/docs_data/pyaflowa_doc/STATIONS'\n",
       "responses    : '/home/bchow/REPOSITORIES/pyatoa/pyatoa/tests/test_data/docs_data/pyaflowa_doc/input/responses'\n",
       "waveforms    : '/home/bchow/REPOSITORIES/pyatoa/pyatoa/tests/test_data/docs_data/pyaflowa_doc/input/waveforms'\n",
       "synthetics   : '/home/bchow/REPOSITORIES/pyatoa/pyatoa/tests/test_data/docs_data/pyaflowa_doc/synthetics/{source_name}'\n",
       "adjsrcs      : '/home/bchow/REPOSITORIES/pyatoa/pyatoa/tests/test_data/docs_data/pyaflowa_doc/adjsrcs/{source_name}'\n",
       "event_figures: '/home/bchow/REPOSITORIES/pyatoa/pyatoa/tests/test_data/docs_data/pyaflowa_doc/figures/{source_name}'"
      ]
     },
     "execution_count": 14,
     "metadata": {},
     "output_type": "execute_result"
    }
   ],
   "source": [
    "# Make sure we're in the correct directory so that we don't start making dir. randomly\n",
    "assert os.path.basename(os.getcwd()) == \"pyaflowa_doc\"\n",
    "\n",
    "# Custom set directory structure\n",
    "base_path = os.getcwd()\n",
    "kwargs = {\"workdir\": base_path,\n",
    "          \"synthetics\": os.path.join(base_path, \"synthetics\", \"{source_name}\"),\n",
    "          \"stations_file\": os.path.join(base_path, \"STATIONS\"),\n",
    "          \"data\": base_path,\n",
    "          \"datasets\": base_path,\n",
    "         }\n",
    "\n",
    "pf = Pyaflowa(structure=\"standalone\", config=cfg, **kwargs)\n",
    "pf.path_structure"
   ]
  },
  {
   "cell_type": "markdown",
   "id": "96bd8f84",
   "metadata": {},
   "source": [
    "----------------------\n",
    "\n",
    "### The IO (input/output) class\n",
    "\n",
    "By running the Pyaflowa.setup() function, Pyaflowa will make the required directory structure defined above. It will also return an `IO` object. This internally used object store information related to paths, configurations and processing.\n",
    "\n",
    "The user does __not__ need to interact with the `IO` object, but we can take a look at it for clarity. It contains the internal directory structure used by `Pyaflowa`, the `Config` object which will control all of the Manager processing that will take place, and internal attributes which keep track of how processing occurs."
   ]
  },
  {
   "cell_type": "code",
   "execution_count": 15,
   "id": "3ebec3b5",
   "metadata": {
    "execution": {
     "iopub.execute_input": "2022-03-02T23:08:56.366908Z",
     "iopub.status.busy": "2022-03-02T23:08:56.366673Z",
     "iopub.status.idle": "2022-03-02T23:08:56.392070Z",
     "shell.execute_reply": "2022-03-02T23:08:56.391819Z"
    }
   },
   "outputs": [],
   "source": [
    "io = pf.setup(source_name=\"2018p130600\")"
   ]
  },
  {
   "cell_type": "code",
   "execution_count": 16,
   "id": "86d5954d",
   "metadata": {
    "execution": {
     "iopub.execute_input": "2022-03-02T23:08:56.393989Z",
     "iopub.status.busy": "2022-03-02T23:08:56.393077Z",
     "iopub.status.idle": "2022-03-02T23:08:56.395701Z",
     "shell.execute_reply": "2022-03-02T23:08:56.395881Z"
    }
   },
   "outputs": [
    {
     "name": "stdout",
     "output_type": "stream",
     "text": [
      "paths cwd          : '/home/bchow/REPOSITORIES/pyatoa/pyatoa/tests/test_data/docs_data/pyaflowa_doc'\n",
      "data         : '/home/bchow/REPOSITORIES/pyatoa/pyatoa/tests/test_data/docs_data/pyaflowa_doc'\n",
      "datasets     : '/home/bchow/REPOSITORIES/pyatoa/pyatoa/tests/test_data/docs_data/pyaflowa_doc'\n",
      "figures      : '/home/bchow/REPOSITORIES/pyatoa/pyatoa/tests/test_data/docs_data/pyaflowa_doc/figures'\n",
      "logs         : '/home/bchow/REPOSITORIES/pyatoa/pyatoa/tests/test_data/docs_data/pyaflowa_doc/logs'\n",
      "ds_file      : '/home/bchow/REPOSITORIES/pyatoa/pyatoa/tests/test_data/docs_data/pyaflowa_doc/2018p130600.h5'\n",
      "stations_file: '/home/bchow/REPOSITORIES/pyatoa/pyatoa/tests/test_data/docs_data/pyaflowa_doc/STATIONS'\n",
      "responses    : '/home/bchow/REPOSITORIES/pyatoa/pyatoa/tests/test_data/docs_data/pyaflowa_doc/input/responses'\n",
      "waveforms    : '/home/bchow/REPOSITORIES/pyatoa/pyatoa/tests/test_data/docs_data/pyaflowa_doc/input/waveforms'\n",
      "synthetics   : '/home/bchow/REPOSITORIES/pyatoa/pyatoa/tests/test_data/docs_data/pyaflowa_doc/synthetics/2018p130600'\n",
      "adjsrcs      : '/home/bchow/REPOSITORIES/pyatoa/pyatoa/tests/test_data/docs_data/pyaflowa_doc/adjsrcs/2018p130600'\n",
      "event_figures: '/home/bchow/REPOSITORIES/pyatoa/pyatoa/tests/test_data/docs_data/pyaflowa_doc/figures/2018p130600'\n",
      "\n",
      "logger <Logger pyatoa (DEBUG)>\n",
      "config CONFIG\n",
      "    iteration:               i01\n",
      "    step_count:              s00\n",
      "    event_id:                2018p130600\n",
      "GATHER\n",
      "    client:                  GEONET\n",
      "    start_pad:               20\n",
      "    end_pad:                 500\n",
      "    save_to_ds:              True\n",
      "PROCESS\n",
      "    min_period:              10.0\n",
      "    max_period:              30.0\n",
      "    filter_corners:          2.0\n",
      "    unit_output:             DISP\n",
      "    rotate_to_rtz:           False\n",
      "    win_amp_ratio:           0.0\n",
      "    synthetics_only:         False\n",
      "LABELS\n",
      "    component_list:          ['E', 'N', 'Z']\n",
      "    observed_tag:            observed\n",
      "    synthetic_tag:           synthetic_i01s00\n",
      "    paths:                   {'responses': '/home/bchow/REPOSITORIES/pyatoa/pyatoa/tests/test_data/docs_data/pyaflowa_doc/input/responses', 'waveforms': '/home/bchow/REPOSITORIES/pyatoa/pyatoa/tests/test_data/docs_data/pyaflowa_doc/input/waveforms', 'synthetics': '/home/bchow/REPOSITORIES/pyatoa/pyatoa/tests/test_data/docs_data/pyaflowa_doc/synthetics/2018p130600', 'events': '/home/bchow/REPOSITORIES/pyatoa/pyatoa/tests/test_data/docs_data/pyaflowa_doc'}\n",
      "EXTERNAL\n",
      "    pyflex_preset:           nznorth_10-30s\n",
      "    adj_src_type:            cc_traveltime_misfit\n",
      "    pyflex_config:           <pyflex.config.Config object at 0x7f04e245a910>\n",
      "    pyadjoint_config:        <pyadjoint.config.Config object at 0x7f04e245a490>\n",
      "\n",
      "misfit 0\n",
      "nwin 0\n",
      "stations 0\n",
      "processed 0\n",
      "exceptions 0\n",
      "plot_fids []\n"
     ]
    }
   ],
   "source": [
    "for key, val in io.items():\n",
    "    print(key, val)"
   ]
  },
  {
   "cell_type": "markdown",
   "id": "37cc1806",
   "metadata": {},
   "source": [
    "-----------------------\n",
    "### Running Pyaflowa (gather and process waveforms)\n",
    "\n",
    "Great, we're all set up to run `Pyaflowa`. Internally `Pyaflowa` knows the event, path structure and stations that we want to use for misfit quantification. Now when we run it, `Pyaflowa` will instantiate `Manager` classes, attempt to gather data from disk or from web services, preprocess data and synthetic waveforms according to the `Config` object, and generate misfit windows and adjoint sources."
   ]
  },
  {
   "cell_type": "markdown",
   "id": "94e949ca",
   "metadata": {},
   "source": [
    "The example code block below is a an example of what Pyaflowa is doing under the hood: it simply abstracts commands that are used to run processing for multiple stations. It also contains a few internal checks to make sure unexpected errors don't throw the processing step off the rails.::\n",
    "\n",
    "    from pyasdf import ASDFDataSet \n",
    "    from pyatoa import Manager\n",
    "\n",
    "    with ASDFDataSet(io.paths.ds_file) as ds:\n",
    "        mgmt = Manager(ds=ds, config=io.config)\n",
    "        for code in [\"NZ.BFZ.*.HH?\"]:\n",
    "            mgmt.gather(code=code)\n",
    "            mgmt.flow()"
   ]
  },
  {
   "cell_type": "code",
   "execution_count": 17,
   "id": "5ddd08b4",
   "metadata": {
    "execution": {
     "iopub.execute_input": "2022-03-02T23:08:56.397855Z",
     "iopub.status.busy": "2022-03-02T23:08:56.397623Z",
     "iopub.status.idle": "2022-03-02T23:09:02.375055Z",
     "shell.execute_reply": "2022-03-02T23:09:02.375261Z"
    }
   },
   "outputs": [
    {
     "name": "stderr",
     "output_type": "stream",
     "text": [
      "[2022-03-02 14:08:56] - pyatoa - DEBUG: gathering event\n",
      "[2022-03-02 14:08:56] - pyatoa - INFO: searching ASDFDataSet for event info\n",
      "[2022-03-02 14:08:56] - pyatoa - DEBUG: matching event found: 81EE9F\n",
      "[2022-03-02 14:08:56] - pyatoa - INFO: \n",
      "================================================================================\n",
      "\n",
      "NZ.MRZ.*.HH?\n",
      "\n",
      "================================================================================\n",
      "[2022-03-02 14:08:56] - pyatoa - DEBUG: gathering event\n",
      "[2022-03-02 14:08:56] - pyatoa - INFO: searching ASDFDataSet for event info\n",
      "[2022-03-02 14:08:56] - pyatoa - DEBUG: matching event found: 81EE9F\n",
      "[2022-03-02 14:08:56] - pyatoa - INFO: gathering data for NZ.MRZ.*.HH?\n",
      "[2022-03-02 14:08:56] - pyatoa - INFO: gathering observed waveforms\n",
      "[2022-03-02 14:08:56] - pyatoa - INFO: searching ASDFDataSet for observations\n",
      "[2022-03-02 14:08:56] - pyatoa - INFO: matching observed waveforms found\n",
      "[2022-03-02 14:08:56] - pyatoa - INFO: gathering StationXML\n",
      "[2022-03-02 14:08:56] - pyatoa - INFO: searching ASDFDataSet for station info\n",
      "[2022-03-02 14:08:56] - pyatoa - INFO: matching StationXML found\n",
      "[2022-03-02 14:08:56] - pyatoa - INFO: saved to ASDFDataSet\n",
      "[2022-03-02 14:08:56] - pyatoa - INFO: gathering synthetic waveforms\n",
      "[2022-03-02 14:08:56] - pyatoa - INFO: searching ASDFDataSet for synthetics\n",
      "[2022-03-02 14:08:56] - pyatoa - INFO: searching local filesystem for synthetics\n",
      "[2022-03-02 14:08:56] - pyatoa - DEBUG: searching for synthetics: /home/bchow/REPOSITORIES/pyatoa/pyatoa/tests/test_data/docs_data/pyaflowa_doc/synthetics/2018p130600/{net}.{sta}.*{cmp}.sem{dva}\n",
      "[2022-03-02 14:08:56] - pyatoa - INFO: retrieved synthetics locally:\n",
      "/home/bchow/REPOSITORIES/pyatoa/pyatoa/tests/test_data/docs_data/pyaflowa_doc/synthetics/2018p130600/NZ.MRZ.BXE.semd\n",
      "[2022-03-02 14:08:56] - pyatoa - INFO: retrieved synthetics locally:\n",
      "/home/bchow/REPOSITORIES/pyatoa/pyatoa/tests/test_data/docs_data/pyaflowa_doc/synthetics/2018p130600/NZ.MRZ.BXN.semd\n",
      "[2022-03-02 14:08:56] - pyatoa - INFO: retrieved synthetics locally:\n",
      "/home/bchow/REPOSITORIES/pyatoa/pyatoa/tests/test_data/docs_data/pyaflowa_doc/synthetics/2018p130600/NZ.MRZ.BXZ.semd\n",
      "[2022-03-02 14:08:56] - pyatoa - INFO: matching synthetic waveforms found\n",
      "[2022-03-02 14:08:56] - pyatoa - INFO: saved to ASDFDataSet with tag 'synthetic_i01s00'\n",
      "[2022-03-02 14:08:56] - pyatoa - INFO: standardizing streams\n",
      "[2022-03-02 14:08:56] - pyatoa - DEBUG: shifting NZ.MRZ.10.HHE starttime by 0.001607s\n",
      "[2022-03-02 14:08:56] - pyatoa - DEBUG: shifting NZ.MRZ.10.HHN starttime by 0.001607s\n",
      "[2022-03-02 14:08:56] - pyatoa - DEBUG: shifting NZ.MRZ.10.HHZ starttime by 0.001607s\n",
      "[2022-03-02 14:08:56] - pyatoa - DEBUG: time offset is -20.0s\n",
      "[2022-03-02 14:08:56] - pyatoa - INFO: preprocessing observation data\n",
      "[2022-03-02 14:08:56] - pyatoa - INFO: adjusting taper to cover time offset -20.0\n",
      "[2022-03-02 14:08:56] - pyatoa - DEBUG: removing response, units to DISP\n",
      "[2022-03-02 14:08:56] - pyatoa - DEBUG: rotating from generic coordinate system to ZNE\n",
      "[2022-03-02 14:08:56] - pyatoa - DEBUG: bandpass filter: 10.0 - 30.0s w/ 2.0 corners\n",
      "[2022-03-02 14:08:56] - pyatoa - INFO: preprocessing synthetic data\n",
      "[2022-03-02 14:08:56] - pyatoa - INFO: adjusting taper to cover time offset -20.0\n",
      "[2022-03-02 14:08:56] - pyatoa - DEBUG: no response removal, synthetic data or requested not to\n",
      "[2022-03-02 14:08:56] - pyatoa - DEBUG: bandpass filter: 10.0 - 30.0s w/ 2.0 corners\n",
      "[2022-03-02 14:08:56] - pyatoa - DEBUG: convolving data w/ Gaussian (t/2=0.70s)\n",
      "[2022-03-02 14:08:56] - pyatoa - INFO: running Pyflex w/ map: nznorth_10-30s\n",
      "[2022-03-02 14:08:56,898] - pyflex - INFO: Calculated travel times.\n",
      "[2022-03-02 14:08:56,899] - pyflex - INFO: Calculating envelope of synthetics.\n",
      "[2022-03-02 14:08:56,899] - pyflex - INFO: Calculating STA/LTA.\n",
      "[2022-03-02 14:08:56,900] - pyflex - INFO: Initial window selection yielded 2 possible windows.\n",
      "[2022-03-02 14:08:56,900] - pyflex - INFO: Rejection based on travel times retained 2 windows.\n",
      "[2022-03-02 14:08:56,901] - pyflex - INFO: Global SNR checks passed. Integrated SNR: 264017440516.493011, Amplitude SNR: 1258959.382416\n",
      "[2022-03-02 14:08:56,901] - pyflex - INFO: Rejection based on minimum window length retained 2 windows.\n",
      "[2022-03-02 14:08:56,901] - pyflex - INFO: Water level rejection retained 1 windows\n",
      "[2022-03-02 14:08:56,902] - pyflex - INFO: Single phase group rejection retained 1 windows\n",
      "[2022-03-02 14:08:56,902] - pyflex - INFO: Removing duplicates retains 1 windows.\n",
      "[2022-03-02 14:08:56,902] - pyflex - INFO: Rejection based on minimum window length retained 1 windows.\n",
      "[2022-03-02 14:08:56,902] - pyflex - INFO: SN amplitude ratio window rejection retained 1 windows\n",
      "[2022-03-02 14:08:56,906] - pyflex - INFO: Rejection based on data fit criteria retained 1 windows.\n",
      "[2022-03-02 14:08:56,906] - pyflex - INFO: Weighted interval schedule optimization retained 1 windows.\n",
      "[2022-03-02 14:08:56] - pyatoa - INFO: 1 window(s) selected for comp E\n",
      "[2022-03-02 14:08:57,036] - pyflex - INFO: Calculated travel times.\n",
      "[2022-03-02 14:08:57,036] - pyflex - INFO: Calculating envelope of synthetics.\n",
      "[2022-03-02 14:08:57,037] - pyflex - INFO: Calculating STA/LTA.\n",
      "[2022-03-02 14:08:57,038] - pyflex - INFO: Initial window selection yielded 10 possible windows.\n",
      "[2022-03-02 14:08:57,038] - pyflex - INFO: Rejection based on travel times retained 10 windows.\n",
      "[2022-03-02 14:08:57,039] - pyflex - INFO: Global SNR checks passed. Integrated SNR: 77923017814.226379, Amplitude SNR: 910031.449339\n",
      "[2022-03-02 14:08:57,039] - pyflex - INFO: Rejection based on minimum window length retained 10 windows.\n",
      "[2022-03-02 14:08:57,039] - pyflex - INFO: Water level rejection retained 4 windows\n",
      "[2022-03-02 14:08:57,039] - pyflex - INFO: Single phase group rejection retained 4 windows\n",
      "[2022-03-02 14:08:57,040] - pyflex - INFO: Removing duplicates retains 3 windows.\n",
      "[2022-03-02 14:08:57,040] - pyflex - INFO: Rejection based on minimum window length retained 3 windows.\n",
      "[2022-03-02 14:08:57,040] - pyflex - INFO: SN amplitude ratio window rejection retained 3 windows\n",
      "[2022-03-02 14:08:57,043] - pyflex - DEBUG: Window rejected due to CC value: 0.635155\n",
      "[2022-03-02 14:08:57,043] - pyflex - INFO: Rejection based on data fit criteria retained 2 windows.\n",
      "[2022-03-02 14:08:57,044] - pyflex - INFO: Weighted interval schedule optimization retained 1 windows.\n",
      "[2022-03-02 14:08:57] - pyatoa - INFO: 1 window(s) selected for comp N\n",
      "[2022-03-02 14:08:57,172] - pyflex - INFO: Calculated travel times.\n",
      "[2022-03-02 14:08:57,172] - pyflex - INFO: Calculating envelope of synthetics.\n",
      "[2022-03-02 14:08:57,173] - pyflex - INFO: Calculating STA/LTA.\n",
      "[2022-03-02 14:08:57,174] - pyflex - INFO: Initial window selection yielded 10 possible windows.\n",
      "[2022-03-02 14:08:57,174] - pyflex - INFO: Rejection based on travel times retained 10 windows.\n",
      "[2022-03-02 14:08:57,174] - pyflex - INFO: Global SNR checks passed. Integrated SNR: 13630877755876006.000000, Amplitude SNR: 439117916.987834\n",
      "[2022-03-02 14:08:57,175] - pyflex - INFO: Rejection based on minimum window length retained 9 windows.\n",
      "[2022-03-02 14:08:57,175] - pyflex - INFO: Water level rejection retained 3 windows\n",
      "[2022-03-02 14:08:57,175] - pyflex - INFO: Single phase group rejection retained 3 windows\n",
      "[2022-03-02 14:08:57,175] - pyflex - INFO: Removing duplicates retains 2 windows.\n",
      "[2022-03-02 14:08:57,176] - pyflex - INFO: Rejection based on minimum window length retained 2 windows.\n",
      "[2022-03-02 14:08:57,176] - pyflex - INFO: SN amplitude ratio window rejection retained 2 windows\n",
      "[2022-03-02 14:08:57,182] - pyflex - INFO: Rejection based on data fit criteria retained 2 windows.\n",
      "[2022-03-02 14:08:57,183] - pyflex - INFO: Weighted interval schedule optimization retained 1 windows.\n",
      "[2022-03-02 14:08:57] - pyatoa - INFO: 1 window(s) selected for comp Z\n",
      "[2022-03-02 14:08:57] - pyatoa - DEBUG: saving misfit windows to ASDFDataSet\n",
      "[2022-03-02 14:08:57] - pyatoa - INFO: 3 window(s) total found\n",
      "[2022-03-02 14:08:57] - pyatoa - DEBUG: running Pyadjoint w/ type: cc_traveltime_misfit\n",
      "[2022-03-02 14:08:57] - pyatoa - INFO: 0.366 misfit for comp E\n",
      "[2022-03-02 14:08:57] - pyatoa - INFO: 0.154 misfit for comp N\n",
      "[2022-03-02 14:08:57] - pyatoa - INFO: 0.095 misfit for comp Z\n",
      "[2022-03-02 14:08:57] - pyatoa - DEBUG: saving adjoint sources to ASDFDataSet\n",
      "[2022-03-02 14:08:57] - pyatoa - INFO: total misfit 0.614\n",
      "[2022-03-02 14:08:57] - pyatoa - INFO: \n",
      "\n",
      "\tOBS WAVS:  3\n",
      "\tSYN WAVS:  3\n",
      "\tWINDOWS:   3\n",
      "\tMISFIT:    0.61\n",
      "\n",
      "[2022-03-02 14:08:57] - pyatoa - INFO: saving figure to: /home/bchow/REPOSITORIES/pyatoa/pyatoa/tests/test_data/docs_data/pyaflowa_doc/figures/2018p130600/i01_s00_NZ_MRZ.pdf\n",
      "[2022-03-02 14:08:57] - pyatoa - INFO: \n",
      "================================================================================\n",
      "\n",
      "FINALIZE\n",
      "\n",
      "================================================================================\n",
      "[2022-03-02 14:08:58] - pyatoa - INFO: \n",
      "================================================================================\n",
      "\n",
      "NZ.TSZ.*.HH?\n",
      "\n",
      "================================================================================\n",
      "[2022-03-02 14:08:58] - pyatoa - INFO: gathering data for NZ.TSZ.*.HH?\n",
      "[2022-03-02 14:08:58] - pyatoa - INFO: gathering observed waveforms\n",
      "[2022-03-02 14:08:58] - pyatoa - INFO: searching ASDFDataSet for observations\n",
      "[2022-03-02 14:08:58] - pyatoa - INFO: matching observed waveforms found\n",
      "[2022-03-02 14:08:58] - pyatoa - INFO: gathering StationXML\n",
      "[2022-03-02 14:08:58] - pyatoa - INFO: searching ASDFDataSet for station info\n",
      "[2022-03-02 14:08:58] - pyatoa - INFO: matching StationXML found\n",
      "[2022-03-02 14:08:58] - pyatoa - INFO: saved to ASDFDataSet\n",
      "[2022-03-02 14:08:58] - pyatoa - INFO: gathering synthetic waveforms\n",
      "[2022-03-02 14:08:58] - pyatoa - INFO: searching ASDFDataSet for synthetics\n",
      "[2022-03-02 14:08:58] - pyatoa - INFO: searching local filesystem for synthetics\n",
      "[2022-03-02 14:08:58] - pyatoa - DEBUG: searching for synthetics: /home/bchow/REPOSITORIES/pyatoa/pyatoa/tests/test_data/docs_data/pyaflowa_doc/synthetics/2018p130600/{net}.{sta}.*{cmp}.sem{dva}\n",
      "[2022-03-02 14:08:58] - pyatoa - INFO: retrieved synthetics locally:\n",
      "/home/bchow/REPOSITORIES/pyatoa/pyatoa/tests/test_data/docs_data/pyaflowa_doc/synthetics/2018p130600/NZ.TSZ.BXE.semd\n",
      "[2022-03-02 14:08:58] - pyatoa - INFO: retrieved synthetics locally:\n",
      "/home/bchow/REPOSITORIES/pyatoa/pyatoa/tests/test_data/docs_data/pyaflowa_doc/synthetics/2018p130600/NZ.TSZ.BXN.semd\n",
      "[2022-03-02 14:08:58] - pyatoa - INFO: retrieved synthetics locally:\n",
      "/home/bchow/REPOSITORIES/pyatoa/pyatoa/tests/test_data/docs_data/pyaflowa_doc/synthetics/2018p130600/NZ.TSZ.BXZ.semd\n",
      "[2022-03-02 14:08:58] - pyatoa - INFO: matching synthetic waveforms found\n",
      "[2022-03-02 14:08:58] - pyatoa - INFO: saved to ASDFDataSet with tag 'synthetic_i01s00'\n",
      "[2022-03-02 14:08:58] - pyatoa - INFO: standardizing streams\n",
      "[2022-03-02 14:08:58] - pyatoa - DEBUG: zero pad NZ.TSZ.10.HHE (0, 0) samples\n",
      "[2022-03-02 14:08:58] - pyatoa - DEBUG: new starttime NZ.TSZ.10.HHE: 2018-02-18T07:43:28.130000Z\n",
      "[2022-03-02 14:08:58] - pyatoa - DEBUG: zero pad NZ.TSZ.10.HHN (0, 0) samples\n",
      "[2022-03-02 14:08:58] - pyatoa - DEBUG: new starttime NZ.TSZ.10.HHN: 2018-02-18T07:43:28.130001Z\n",
      "[2022-03-02 14:08:58] - pyatoa - DEBUG: zero pad NZ.TSZ.10.HHZ (0, 0) samples\n",
      "[2022-03-02 14:08:58] - pyatoa - DEBUG: new starttime NZ.TSZ.10.HHZ: 2018-02-18T07:43:28.130001Z\n",
      "[2022-03-02 14:08:58] - pyatoa - DEBUG: time offset is -20.0s\n",
      "[2022-03-02 14:08:58] - pyatoa - INFO: preprocessing observation data\n",
      "[2022-03-02 14:08:58] - pyatoa - INFO: adjusting taper to cover time offset -20.0\n",
      "[2022-03-02 14:08:58] - pyatoa - DEBUG: removing response, units to DISP\n",
      "[2022-03-02 14:08:58] - pyatoa - DEBUG: rotating from generic coordinate system to ZNE\n",
      "[2022-03-02 14:08:58] - pyatoa - DEBUG: bandpass filter: 10.0 - 30.0s w/ 2.0 corners\n",
      "[2022-03-02 14:08:58] - pyatoa - INFO: preprocessing synthetic data\n",
      "[2022-03-02 14:08:58] - pyatoa - INFO: adjusting taper to cover time offset -20.0\n",
      "[2022-03-02 14:08:58] - pyatoa - DEBUG: no response removal, synthetic data or requested not to\n",
      "[2022-03-02 14:08:58] - pyatoa - DEBUG: bandpass filter: 10.0 - 30.0s w/ 2.0 corners\n",
      "[2022-03-02 14:08:58] - pyatoa - DEBUG: convolving data w/ Gaussian (t/2=0.70s)\n",
      "[2022-03-02 14:08:58] - pyatoa - INFO: running Pyflex w/ map: nznorth_10-30s\n",
      "[2022-03-02 14:08:58,492] - pyflex - INFO: Calculated travel times.\n",
      "[2022-03-02 14:08:58,493] - pyflex - INFO: Calculating envelope of synthetics.\n",
      "[2022-03-02 14:08:58,494] - pyflex - INFO: Calculating STA/LTA.\n",
      "[2022-03-02 14:08:58] - pyatoa - WARNING: Cannot window, most likely because the source-receiver distance is too small w.r.t the minimum period\n",
      "[2022-03-02 14:08:58] - pyatoa - INFO: saving figure to: /home/bchow/REPOSITORIES/pyatoa/pyatoa/tests/test_data/docs_data/pyaflowa_doc/figures/2018p130600/i01_s00_NZ_TSZ.pdf\n",
      "[2022-03-02 14:08:59] - pyatoa - INFO: \n",
      "================================================================================\n",
      "\n",
      "NZ.VRZ.*.HH?\n",
      "\n",
      "================================================================================\n",
      "[2022-03-02 14:08:59] - pyatoa - INFO: gathering data for NZ.VRZ.*.HH?\n",
      "[2022-03-02 14:08:59] - pyatoa - INFO: gathering observed waveforms\n",
      "[2022-03-02 14:08:59] - pyatoa - INFO: searching ASDFDataSet for observations\n",
      "[2022-03-02 14:08:59] - pyatoa - INFO: matching observed waveforms found\n",
      "[2022-03-02 14:08:59] - pyatoa - INFO: gathering StationXML\n",
      "[2022-03-02 14:08:59] - pyatoa - INFO: searching ASDFDataSet for station info\n",
      "[2022-03-02 14:08:59] - pyatoa - INFO: matching StationXML found\n",
      "[2022-03-02 14:08:59] - pyatoa - INFO: saved to ASDFDataSet\n",
      "[2022-03-02 14:08:59] - pyatoa - INFO: gathering synthetic waveforms\n",
      "[2022-03-02 14:08:59] - pyatoa - INFO: searching ASDFDataSet for synthetics\n",
      "[2022-03-02 14:08:59] - pyatoa - INFO: searching local filesystem for synthetics\n",
      "[2022-03-02 14:08:59] - pyatoa - DEBUG: searching for synthetics: /home/bchow/REPOSITORIES/pyatoa/pyatoa/tests/test_data/docs_data/pyaflowa_doc/synthetics/2018p130600/{net}.{sta}.*{cmp}.sem{dva}\n",
      "[2022-03-02 14:08:59] - pyatoa - INFO: retrieved synthetics locally:\n",
      "/home/bchow/REPOSITORIES/pyatoa/pyatoa/tests/test_data/docs_data/pyaflowa_doc/synthetics/2018p130600/NZ.VRZ.BXE.semd\n",
      "[2022-03-02 14:08:59] - pyatoa - INFO: retrieved synthetics locally:\n",
      "/home/bchow/REPOSITORIES/pyatoa/pyatoa/tests/test_data/docs_data/pyaflowa_doc/synthetics/2018p130600/NZ.VRZ.BXN.semd\n",
      "[2022-03-02 14:08:59] - pyatoa - INFO: retrieved synthetics locally:\n",
      "/home/bchow/REPOSITORIES/pyatoa/pyatoa/tests/test_data/docs_data/pyaflowa_doc/synthetics/2018p130600/NZ.VRZ.BXZ.semd\n",
      "[2022-03-02 14:08:59] - pyatoa - INFO: matching synthetic waveforms found\n",
      "[2022-03-02 14:08:59] - pyatoa - INFO: saved to ASDFDataSet with tag 'synthetic_i01s00'\n",
      "[2022-03-02 14:08:59] - pyatoa - INFO: standardizing streams\n",
      "[2022-03-02 14:08:59] - pyatoa - DEBUG: shifting NZ.VRZ.10.HHE starttime by 0.001578s\n",
      "[2022-03-02 14:08:59] - pyatoa - DEBUG: shifting NZ.VRZ.10.HHN starttime by 0.001578s\n",
      "[2022-03-02 14:08:59] - pyatoa - DEBUG: shifting NZ.VRZ.10.HHZ starttime by 0.001578s\n",
      "[2022-03-02 14:08:59] - pyatoa - DEBUG: time offset is -20.0s\n",
      "[2022-03-02 14:08:59] - pyatoa - INFO: preprocessing observation data\n",
      "[2022-03-02 14:08:59] - pyatoa - INFO: adjusting taper to cover time offset -20.0\n",
      "[2022-03-02 14:08:59] - pyatoa - DEBUG: removing response, units to DISP\n",
      "[2022-03-02 14:08:59] - pyatoa - DEBUG: rotating from generic coordinate system to ZNE\n",
      "[2022-03-02 14:08:59] - pyatoa - DEBUG: bandpass filter: 10.0 - 30.0s w/ 2.0 corners\n",
      "[2022-03-02 14:08:59] - pyatoa - INFO: preprocessing synthetic data\n",
      "[2022-03-02 14:08:59] - pyatoa - INFO: adjusting taper to cover time offset -20.0\n",
      "[2022-03-02 14:08:59] - pyatoa - DEBUG: no response removal, synthetic data or requested not to\n",
      "[2022-03-02 14:08:59] - pyatoa - DEBUG: bandpass filter: 10.0 - 30.0s w/ 2.0 corners\n",
      "[2022-03-02 14:08:59] - pyatoa - DEBUG: convolving data w/ Gaussian (t/2=0.70s)\n",
      "[2022-03-02 14:08:59] - pyatoa - INFO: running Pyflex w/ map: nznorth_10-30s\n",
      "[2022-03-02 14:08:59,612] - pyflex - INFO: Calculated travel times.\n",
      "[2022-03-02 14:08:59,612] - pyflex - INFO: Calculating envelope of synthetics.\n",
      "[2022-03-02 14:08:59,613] - pyflex - INFO: Calculating STA/LTA.\n",
      "[2022-03-02 14:08:59,614] - pyflex - INFO: Initial window selection yielded 13 possible windows.\n",
      "[2022-03-02 14:08:59,614] - pyflex - INFO: Rejection based on travel times retained 13 windows.\n",
      "[2022-03-02 14:08:59,615] - pyflex - INFO: Global SNR checks passed. Integrated SNR: 23466401785.970848, Amplitude SNR: 384703.121688\n",
      "[2022-03-02 14:08:59,615] - pyflex - INFO: Rejection based on minimum window length retained 13 windows.\n",
      "[2022-03-02 14:08:59,615] - pyflex - INFO: Water level rejection retained 4 windows\n",
      "[2022-03-02 14:08:59,616] - pyflex - INFO: Single phase group rejection retained 4 windows\n",
      "[2022-03-02 14:08:59,616] - pyflex - INFO: Removing duplicates retains 3 windows.\n",
      "[2022-03-02 14:08:59,616] - pyflex - INFO: Rejection based on minimum window length retained 3 windows.\n",
      "[2022-03-02 14:08:59,617] - pyflex - INFO: SN amplitude ratio window rejection retained 3 windows\n",
      "[2022-03-02 14:08:59,622] - pyflex - DEBUG: Window rejected due to CC value: 0.675487\n",
      "[2022-03-02 14:08:59,622] - pyflex - INFO: Rejection based on data fit criteria retained 2 windows.\n",
      "[2022-03-02 14:08:59,623] - pyflex - INFO: Weighted interval schedule optimization retained 1 windows.\n",
      "[2022-03-02 14:08:59] - pyatoa - INFO: 1 window(s) selected for comp E\n",
      "[2022-03-02 14:08:59,793] - pyflex - INFO: Calculated travel times.\n",
      "[2022-03-02 14:08:59,793] - pyflex - INFO: Calculating envelope of synthetics.\n",
      "[2022-03-02 14:08:59,794] - pyflex - INFO: Calculating STA/LTA.\n",
      "[2022-03-02 14:08:59,795] - pyflex - INFO: Initial window selection yielded 10 possible windows.\n",
      "[2022-03-02 14:08:59,795] - pyflex - INFO: Rejection based on travel times retained 10 windows.\n",
      "[2022-03-02 14:08:59,796] - pyflex - INFO: Global SNR checks passed. Integrated SNR: 31526068792.362656, Amplitude SNR: 495295.417951\n",
      "[2022-03-02 14:08:59,796] - pyflex - INFO: Rejection based on minimum window length retained 10 windows.\n",
      "[2022-03-02 14:08:59,796] - pyflex - INFO: Water level rejection retained 4 windows\n",
      "[2022-03-02 14:08:59,796] - pyflex - INFO: Single phase group rejection retained 4 windows\n",
      "[2022-03-02 14:08:59,797] - pyflex - INFO: Removing duplicates retains 3 windows.\n",
      "[2022-03-02 14:08:59,797] - pyflex - INFO: Rejection based on minimum window length retained 3 windows.\n",
      "[2022-03-02 14:08:59,797] - pyflex - INFO: SN amplitude ratio window rejection retained 3 windows\n",
      "[2022-03-02 14:08:59,801] - pyflex - INFO: Rejection based on data fit criteria retained 3 windows.\n",
      "[2022-03-02 14:08:59,802] - pyflex - INFO: Weighted interval schedule optimization retained 1 windows.\n",
      "[2022-03-02 14:08:59] - pyatoa - INFO: 1 window(s) selected for comp N\n",
      "[2022-03-02 14:08:59,972] - pyflex - INFO: Calculated travel times.\n",
      "[2022-03-02 14:08:59,973] - pyflex - INFO: Calculating envelope of synthetics.\n",
      "[2022-03-02 14:08:59,973] - pyflex - INFO: Calculating STA/LTA.\n",
      "[2022-03-02 14:08:59,974] - pyflex - INFO: Initial window selection yielded 10 possible windows.\n",
      "[2022-03-02 14:08:59,975] - pyflex - INFO: Rejection based on travel times retained 10 windows.\n",
      "[2022-03-02 14:08:59,975] - pyflex - INFO: Global SNR checks passed. Integrated SNR: 26562645048.905380, Amplitude SNR: 378503.886560\n",
      "[2022-03-02 14:08:59,975] - pyflex - INFO: Rejection based on minimum window length retained 9 windows.\n",
      "[2022-03-02 14:08:59,975] - pyflex - INFO: Water level rejection retained 3 windows\n",
      "[2022-03-02 14:08:59,976] - pyflex - INFO: Single phase group rejection retained 3 windows\n",
      "[2022-03-02 14:08:59,976] - pyflex - INFO: Removing duplicates retains 2 windows.\n",
      "[2022-03-02 14:08:59,976] - pyflex - INFO: Rejection based on minimum window length retained 2 windows.\n",
      "[2022-03-02 14:08:59,977] - pyflex - INFO: SN amplitude ratio window rejection retained 2 windows\n",
      "[2022-03-02 14:08:59,987] - pyflex - INFO: Rejection based on data fit criteria retained 2 windows.\n",
      "[2022-03-02 14:08:59,987] - pyflex - INFO: Weighted interval schedule optimization retained 1 windows.\n",
      "[2022-03-02 14:08:59] - pyatoa - INFO: 1 window(s) selected for comp Z\n",
      "[2022-03-02 14:08:59] - pyatoa - DEBUG: saving misfit windows to ASDFDataSet\n",
      "[2022-03-02 14:08:59] - pyatoa - INFO: 3 window(s) total found\n",
      "[2022-03-02 14:08:59] - pyatoa - DEBUG: running Pyadjoint w/ type: cc_traveltime_misfit\n",
      "[2022-03-02 14:09:00] - pyatoa - INFO: 0.198 misfit for comp E\n",
      "[2022-03-02 14:09:00] - pyatoa - INFO: 0.011 misfit for comp N\n",
      "[2022-03-02 14:09:00] - pyatoa - INFO: 0.065 misfit for comp Z\n",
      "[2022-03-02 14:09:00] - pyatoa - DEBUG: saving adjoint sources to ASDFDataSet\n",
      "[2022-03-02 14:09:00] - pyatoa - INFO: total misfit 0.275\n",
      "[2022-03-02 14:09:00] - pyatoa - INFO: \n",
      "\n",
      "\tOBS WAVS:  3\n",
      "\tSYN WAVS:  3\n",
      "\tWINDOWS:   3\n",
      "\tMISFIT:    0.27\n",
      "\n",
      "[2022-03-02 14:09:00] - pyatoa - INFO: saving figure to: /home/bchow/REPOSITORIES/pyatoa/pyatoa/tests/test_data/docs_data/pyaflowa_doc/figures/2018p130600/i01_s00_NZ_VRZ.pdf\n",
      "[2022-03-02 14:09:00] - pyatoa - INFO: \n",
      "================================================================================\n",
      "\n",
      "FINALIZE\n",
      "\n",
      "================================================================================\n",
      "[2022-03-02 14:09:00] - pyatoa - INFO: \n",
      "================================================================================\n",
      "\n",
      "NZ.WAZ.*.HH?\n",
      "\n",
      "================================================================================\n",
      "[2022-03-02 14:09:00] - pyatoa - INFO: gathering data for NZ.WAZ.*.HH?\n",
      "[2022-03-02 14:09:00] - pyatoa - INFO: gathering observed waveforms\n",
      "[2022-03-02 14:09:00] - pyatoa - INFO: searching ASDFDataSet for observations\n",
      "[2022-03-02 14:09:00] - pyatoa - INFO: matching observed waveforms found\n",
      "[2022-03-02 14:09:00] - pyatoa - INFO: gathering StationXML\n",
      "[2022-03-02 14:09:00] - pyatoa - INFO: searching ASDFDataSet for station info\n",
      "[2022-03-02 14:09:00] - pyatoa - INFO: matching StationXML found\n",
      "[2022-03-02 14:09:00] - pyatoa - INFO: saved to ASDFDataSet\n",
      "[2022-03-02 14:09:00] - pyatoa - INFO: gathering synthetic waveforms\n",
      "[2022-03-02 14:09:00] - pyatoa - INFO: searching ASDFDataSet for synthetics\n",
      "[2022-03-02 14:09:00] - pyatoa - INFO: searching local filesystem for synthetics\n",
      "[2022-03-02 14:09:00] - pyatoa - DEBUG: searching for synthetics: /home/bchow/REPOSITORIES/pyatoa/pyatoa/tests/test_data/docs_data/pyaflowa_doc/synthetics/2018p130600/{net}.{sta}.*{cmp}.sem{dva}\n",
      "[2022-03-02 14:09:00] - pyatoa - INFO: retrieved synthetics locally:\n",
      "/home/bchow/REPOSITORIES/pyatoa/pyatoa/tests/test_data/docs_data/pyaflowa_doc/synthetics/2018p130600/NZ.WAZ.BXE.semd\n",
      "[2022-03-02 14:09:00] - pyatoa - INFO: retrieved synthetics locally:\n",
      "/home/bchow/REPOSITORIES/pyatoa/pyatoa/tests/test_data/docs_data/pyaflowa_doc/synthetics/2018p130600/NZ.WAZ.BXN.semd\n",
      "[2022-03-02 14:09:00] - pyatoa - INFO: retrieved synthetics locally:\n",
      "/home/bchow/REPOSITORIES/pyatoa/pyatoa/tests/test_data/docs_data/pyaflowa_doc/synthetics/2018p130600/NZ.WAZ.BXZ.semd\n",
      "[2022-03-02 14:09:00] - pyatoa - INFO: matching synthetic waveforms found\n",
      "[2022-03-02 14:09:00] - pyatoa - INFO: saved to ASDFDataSet with tag 'synthetic_i01s00'\n",
      "[2022-03-02 14:09:00] - pyatoa - INFO: standardizing streams\n",
      "[2022-03-02 14:09:01] - pyatoa - DEBUG: shifting NZ.WAZ.10.HHE starttime by 0.001607s\n",
      "[2022-03-02 14:09:01] - pyatoa - DEBUG: shifting NZ.WAZ.10.HHN starttime by 0.001607s\n",
      "[2022-03-02 14:09:01] - pyatoa - DEBUG: shifting NZ.WAZ.10.HHZ starttime by 0.001607s\n",
      "[2022-03-02 14:09:01] - pyatoa - DEBUG: time offset is -20.0s\n",
      "[2022-03-02 14:09:01] - pyatoa - INFO: preprocessing observation data\n",
      "[2022-03-02 14:09:01] - pyatoa - INFO: adjusting taper to cover time offset -20.0\n",
      "[2022-03-02 14:09:01] - pyatoa - DEBUG: removing response, units to DISP\n",
      "[2022-03-02 14:09:01] - pyatoa - DEBUG: rotating from generic coordinate system to ZNE\n",
      "[2022-03-02 14:09:01] - pyatoa - DEBUG: bandpass filter: 10.0 - 30.0s w/ 2.0 corners\n",
      "[2022-03-02 14:09:01] - pyatoa - INFO: preprocessing synthetic data\n",
      "[2022-03-02 14:09:01] - pyatoa - INFO: adjusting taper to cover time offset -20.0\n",
      "[2022-03-02 14:09:01] - pyatoa - DEBUG: no response removal, synthetic data or requested not to\n",
      "[2022-03-02 14:09:01] - pyatoa - DEBUG: bandpass filter: 10.0 - 30.0s w/ 2.0 corners\n",
      "[2022-03-02 14:09:01] - pyatoa - DEBUG: convolving data w/ Gaussian (t/2=0.70s)\n",
      "[2022-03-02 14:09:01] - pyatoa - INFO: running Pyflex w/ map: nznorth_10-30s\n",
      "[2022-03-02 14:09:01,233] - pyflex - INFO: Calculated travel times.\n",
      "[2022-03-02 14:09:01,233] - pyflex - INFO: Calculating envelope of synthetics.\n",
      "[2022-03-02 14:09:01,234] - pyflex - INFO: Calculating STA/LTA.\n",
      "[2022-03-02 14:09:01,235] - pyflex - INFO: Initial window selection yielded 22 possible windows.\n",
      "[2022-03-02 14:09:01,235] - pyflex - INFO: Rejection based on travel times retained 22 windows.\n",
      "[2022-03-02 14:09:01,236] - pyflex - INFO: Global SNR checks passed. Integrated SNR: 28382657308.924114, Amplitude SNR: 494242.727553\n",
      "[2022-03-02 14:09:01,236] - pyflex - INFO: Rejection based on minimum window length retained 20 windows.\n",
      "[2022-03-02 14:09:01,236] - pyflex - INFO: Water level rejection retained 8 windows\n",
      "[2022-03-02 14:09:01,237] - pyflex - INFO: Single phase group rejection retained 8 windows\n",
      "[2022-03-02 14:09:01,237] - pyflex - INFO: Removing duplicates retains 4 windows.\n",
      "[2022-03-02 14:09:01,237] - pyflex - INFO: Rejection based on minimum window length retained 4 windows.\n",
      "[2022-03-02 14:09:01,238] - pyflex - INFO: SN amplitude ratio window rejection retained 4 windows\n",
      "[2022-03-02 14:09:01,246] - pyflex - INFO: Rejection based on data fit criteria retained 4 windows.\n",
      "[2022-03-02 14:09:01,247] - pyflex - INFO: Weighted interval schedule optimization retained 1 windows.\n",
      "[2022-03-02 14:09:01] - pyatoa - INFO: 1 window(s) selected for comp E\n",
      "[2022-03-02 14:09:01,382] - pyflex - INFO: Calculated travel times.\n",
      "[2022-03-02 14:09:01,382] - pyflex - INFO: Calculating envelope of synthetics.\n",
      "[2022-03-02 14:09:01,383] - pyflex - INFO: Calculating STA/LTA.\n",
      "[2022-03-02 14:09:01,384] - pyflex - INFO: Initial window selection yielded 10 possible windows.\n",
      "[2022-03-02 14:09:01,384] - pyflex - INFO: Rejection based on travel times retained 10 windows.\n",
      "[2022-03-02 14:09:01,385] - pyflex - INFO: Global SNR checks passed. Integrated SNR: 60358322015.940735, Amplitude SNR: 576780.923206\n",
      "[2022-03-02 14:09:01,385] - pyflex - INFO: Rejection based on minimum window length retained 9 windows.\n",
      "[2022-03-02 14:09:01,385] - pyflex - INFO: Water level rejection retained 3 windows\n",
      "[2022-03-02 14:09:01,385] - pyflex - INFO: Single phase group rejection retained 3 windows\n",
      "[2022-03-02 14:09:01,386] - pyflex - INFO: Removing duplicates retains 2 windows.\n",
      "[2022-03-02 14:09:01,386] - pyflex - INFO: Rejection based on minimum window length retained 2 windows.\n",
      "[2022-03-02 14:09:01,386] - pyflex - INFO: SN amplitude ratio window rejection retained 2 windows\n",
      "[2022-03-02 14:09:01,389] - pyflex - DEBUG: Window rejected due to amplitude fit: 3.871042\n",
      "[2022-03-02 14:09:01,390] - pyflex - DEBUG: Window rejected due to amplitude fit: 3.793857\n",
      "[2022-03-02 14:09:01,390] - pyflex - INFO: Rejection based on data fit criteria retained 0 windows.\n",
      "[2022-03-02 14:09:01,390] - pyflex - INFO: Weighted interval schedule optimization retained 0 windows.\n",
      "[2022-03-02 14:09:01] - pyatoa - INFO: 0 window(s) selected for comp N\n",
      "[2022-03-02 14:09:01,567] - pyflex - INFO: Calculated travel times.\n",
      "[2022-03-02 14:09:01,568] - pyflex - INFO: Calculating envelope of synthetics.\n",
      "[2022-03-02 14:09:01,568] - pyflex - INFO: Calculating STA/LTA.\n",
      "[2022-03-02 14:09:01,569] - pyflex - INFO: Initial window selection yielded 10 possible windows.\n",
      "[2022-03-02 14:09:01,570] - pyflex - INFO: Rejection based on travel times retained 10 windows.\n",
      "[2022-03-02 14:09:01,570] - pyflex - INFO: Global SNR checks passed. Integrated SNR: 4763134899.314076, Amplitude SNR: 166126.234705\n",
      "[2022-03-02 14:09:01,570] - pyflex - INFO: Rejection based on minimum window length retained 9 windows.\n",
      "[2022-03-02 14:09:01,571] - pyflex - INFO: Water level rejection retained 3 windows\n",
      "[2022-03-02 14:09:01,571] - pyflex - INFO: Single phase group rejection retained 3 windows\n",
      "[2022-03-02 14:09:01,571] - pyflex - INFO: Removing duplicates retains 2 windows.\n",
      "[2022-03-02 14:09:01,571] - pyflex - INFO: Rejection based on minimum window length retained 2 windows.\n",
      "[2022-03-02 14:09:01,572] - pyflex - INFO: SN amplitude ratio window rejection retained 2 windows\n",
      "[2022-03-02 14:09:01,578] - pyflex - INFO: Rejection based on data fit criteria retained 2 windows.\n",
      "[2022-03-02 14:09:01,578] - pyflex - INFO: Weighted interval schedule optimization retained 1 windows.\n",
      "[2022-03-02 14:09:01] - pyatoa - INFO: 1 window(s) selected for comp Z\n",
      "[2022-03-02 14:09:01] - pyatoa - DEBUG: saving misfit windows to ASDFDataSet\n",
      "[2022-03-02 14:09:01] - pyatoa - INFO: 2 window(s) total found\n",
      "[2022-03-02 14:09:01] - pyatoa - DEBUG: running Pyadjoint w/ type: cc_traveltime_misfit\n",
      "[2022-03-02 14:09:01] - pyatoa - INFO: 1.037 misfit for comp E\n",
      "[2022-03-02 14:09:01] - pyatoa - INFO: 0.293 misfit for comp Z\n",
      "[2022-03-02 14:09:01] - pyatoa - DEBUG: saving adjoint sources to ASDFDataSet\n",
      "[2022-03-02 14:09:01] - pyatoa - INFO: total misfit 1.329\n",
      "[2022-03-02 14:09:01] - pyatoa - INFO: \n",
      "\n",
      "\tOBS WAVS:  3\n",
      "\tSYN WAVS:  3\n",
      "\tWINDOWS:   2\n",
      "\tMISFIT:    1.33\n",
      "\n",
      "[2022-03-02 14:09:01] - pyatoa - INFO: saving figure to: /home/bchow/REPOSITORIES/pyatoa/pyatoa/tests/test_data/docs_data/pyaflowa_doc/figures/2018p130600/i01_s00_NZ_WAZ.pdf\n",
      "[2022-03-02 14:09:02] - pyatoa - INFO: \n",
      "================================================================================\n",
      "\n",
      "FINALIZE\n",
      "\n",
      "================================================================================\n",
      "[2022-03-02 14:09:02] - pyatoa - INFO: creating single .pdf file of all output figures\n",
      "[2022-03-02 14:09:02] - pyatoa - INFO: generating STATIONS_ADJOINT file for SPECFEM\n",
      "[2022-03-02 14:09:02] - pyatoa - INFO: \n",
      "================================================================================\n",
      "\n",
      "SUMMARY\n",
      "\n",
      "================================================================================\n",
      "SOURCE NAME: 2018p130600\n",
      "STATIONS: 3 / 4\n",
      "WINDOWS: 8\n",
      "RAW MISFIT: 2.22\n",
      "UNEXPECTED ERRORS: 0\n"
     ]
    },
    {
     "data": {
      "text/plain": [
       "0.138628125"
      ]
     },
     "execution_count": 17,
     "metadata": {},
     "output_type": "execute_result"
    }
   ],
   "source": [
    "pf.process_event(source_name=\"2018p130600\", loc=\"*\", cha=\"HH?\")"
   ]
  },
  {
   "cell_type": "markdown",
   "id": "55d89aae",
   "metadata": {},
   "source": [
    "### Inspect Pyaflowa outputs\n",
    "\n",
    "Iwe have a look at the work directory, we can see the outputs of the Pyaflowa workflow, which will be:\n",
    "* An ASDFDataSet with waveforms, metadata, misfit windows and adjoint sources\n",
    "* Waveform figures for all the stations processed\n",
    "* Adjoint source ASCII files (.adj) required for a SPECFEM3D adjoint simulation\n",
    "* STATIONS_ADJOINT file required for a SPECFEM3D adjoint simulation\n",
    "* The output log which shows the "
   ]
  },
  {
   "cell_type": "code",
   "execution_count": 18,
   "id": "7f8c6bb2",
   "metadata": {
    "execution": {
     "iopub.execute_input": "2022-03-02T23:09:02.380708Z",
     "iopub.status.busy": "2022-03-02T23:09:02.377016Z",
     "iopub.status.idle": "2022-03-02T23:09:02.488861Z",
     "shell.execute_reply": "2022-03-02T23:09:02.488644Z"
    }
   },
   "outputs": [
    {
     "name": "stdout",
     "output_type": "stream",
     "text": [
      "2012p242656.h5\tadjsrcs      figures  logs\tSTATIONS_ADJOINT\r\n",
      "2018p130600.h5\tCMTSOLUTION  input    STATIONS\tsynthetics\r\n"
     ]
    }
   ],
   "source": [
    "# Here is the working directory with all the inputs and outputs\n",
    "!ls"
   ]
  },
  {
   "cell_type": "raw",
   "id": "1901d1f6",
   "metadata": {
    "execution": {
     "iopub.execute_input": "2022-02-28T19:30:23.750349Z",
     "iopub.status.busy": "2022-02-28T19:30:23.750105Z",
     "iopub.status.idle": "2022-02-28T19:30:23.859209Z",
     "shell.execute_reply": "2022-02-28T19:30:23.858998Z"
    }
   },
   "source": [
    "The ASDFDataSet contains all the data and metadata collected and created during the workflow. This can be viewed using the functionalities of PyASDF, which is detailed further in the :doc:`Data Storage </storage>` documentation page."
   ]
  },
  {
   "cell_type": "code",
   "execution_count": 19,
   "id": "a9447720",
   "metadata": {
    "execution": {
     "iopub.execute_input": "2022-03-02T23:09:02.491227Z",
     "iopub.status.busy": "2022-03-02T23:09:02.490990Z",
     "iopub.status.idle": "2022-03-02T23:09:02.602766Z",
     "shell.execute_reply": "2022-03-02T23:09:02.602499Z"
    }
   },
   "outputs": [
    {
     "name": "stdout",
     "output_type": "stream",
     "text": [
      "NZ.BFZ.BXE.adj\tNZ.MRZ.BXE.adj\tNZ.VRZ.BXE.adj\tNZ.WAZ.BXE.adj\r\n",
      "NZ.BFZ.BXN.adj\tNZ.MRZ.BXN.adj\tNZ.VRZ.BXN.adj\tNZ.WAZ.BXN.adj\r\n",
      "NZ.BFZ.BXZ.adj\tNZ.MRZ.BXZ.adj\tNZ.VRZ.BXZ.adj\tNZ.WAZ.BXZ.adj\r\n"
     ]
    }
   ],
   "source": [
    "# Each event will output adjoint source files that can be fed directly into SPECFEM3D\n",
    "!ls adjsrcs/2018p130600"
   ]
  },
  {
   "cell_type": "code",
   "execution_count": 20,
   "id": "4e716201",
   "metadata": {
    "execution": {
     "iopub.execute_input": "2022-03-02T23:09:02.605063Z",
     "iopub.status.busy": "2022-03-02T23:09:02.604815Z",
     "iopub.status.idle": "2022-03-02T23:09:02.716692Z",
     "shell.execute_reply": "2022-03-02T23:09:02.716456Z"
    }
   },
   "outputs": [
    {
     "name": "stdout",
     "output_type": "stream",
     "text": [
      "==> adjsrcs/2018p130600/NZ.MRZ.BXE.adj <==\r\n",
      "-2.000000000000000000e+01 0.000000000000000000e+00\r\n",
      "-1.998499999999999943e+01 0.000000000000000000e+00\r\n",
      "-1.996999999999999886e+01 0.000000000000000000e+00\r\n",
      "-1.995499999999999829e+01 0.000000000000000000e+00\r\n",
      "-1.994000000000000128e+01 0.000000000000000000e+00\r\n",
      "-1.992500000000000071e+01 0.000000000000000000e+00\r\n",
      "-1.991000000000000014e+01 0.000000000000000000e+00\r\n",
      "-1.989499999999999957e+01 0.000000000000000000e+00\r\n",
      "-1.987999999999999901e+01 0.000000000000000000e+00\r\n",
      "-1.986499999999999844e+01 0.000000000000000000e+00\r\n",
      "\r\n",
      "==> adjsrcs/2018p130600/NZ.MRZ.BXN.adj <==\r\n",
      "-2.000000000000000000e+01 0.000000000000000000e+00\r\n",
      "-1.998499999999999943e+01 0.000000000000000000e+00\r\n",
      "-1.996999999999999886e+01 0.000000000000000000e+00\r\n",
      "-1.995499999999999829e+01 0.000000000000000000e+00\r\n",
      "-1.994000000000000128e+01 0.000000000000000000e+00\r\n",
      "-1.992500000000000071e+01 0.000000000000000000e+00\r\n",
      "-1.991000000000000014e+01 0.000000000000000000e+00\r\n",
      "-1.989499999999999957e+01 0.000000000000000000e+00\r\n",
      "-1.987999999999999901e+01 0.000000000000000000e+00\r\n",
      "-1.986499999999999844e+01 0.000000000000000000e+00\r\n",
      "\r\n",
      "==> adjsrcs/2018p130600/NZ.MRZ.BXZ.adj <==\r\n",
      "-2.000000000000000000e+01 0.000000000000000000e+00\r\n",
      "-1.998499999999999943e+01 0.000000000000000000e+00\r\n",
      "-1.996999999999999886e+01 0.000000000000000000e+00\r\n",
      "-1.995499999999999829e+01 0.000000000000000000e+00\r\n",
      "-1.994000000000000128e+01 0.000000000000000000e+00\r\n",
      "-1.992500000000000071e+01 0.000000000000000000e+00\r\n",
      "-1.991000000000000014e+01 0.000000000000000000e+00\r\n",
      "-1.989499999999999957e+01 0.000000000000000000e+00\r\n",
      "-1.987999999999999901e+01 0.000000000000000000e+00\r\n",
      "-1.986499999999999844e+01 0.000000000000000000e+00\r\n"
     ]
    }
   ],
   "source": [
    "# Adjoint source files are created as two-column ASCII files, in the same manner as the synthetics \n",
    "# generated by SPECFEM3D\n",
    "!head adjsrcs/2018p130600/NZ.MRZ.*.adj"
   ]
  },
  {
   "cell_type": "code",
   "execution_count": 21,
   "id": "480e7146",
   "metadata": {
    "execution": {
     "iopub.execute_input": "2022-03-02T23:09:02.719011Z",
     "iopub.status.busy": "2022-03-02T23:09:02.718768Z",
     "iopub.status.idle": "2022-03-02T23:09:02.830605Z",
     "shell.execute_reply": "2022-03-02T23:09:02.830353Z"
    }
   },
   "outputs": [
    {
     "name": "stdout",
     "output_type": "stream",
     "text": [
      "i01s00_2018p130600.pdf\r\n"
     ]
    }
   ],
   "source": [
    "# A composite PDF of all waveform figures for each source-receiver pair will be generated\n",
    "# for the user to quickly evaluate data-synthetic misfit graphically\n",
    "!ls figures/2018p130600"
   ]
  },
  {
   "cell_type": "code",
   "execution_count": 22,
   "id": "b2eb561c",
   "metadata": {
    "execution": {
     "iopub.execute_input": "2022-03-02T23:09:02.832513Z",
     "iopub.status.busy": "2022-03-02T23:09:02.832273Z",
     "iopub.status.idle": "2022-03-02T23:09:02.833490Z",
     "shell.execute_reply": "2022-03-02T23:09:02.833661Z"
    }
   },
   "outputs": [],
   "source": [
    "# This doesn't work, image needs to be stored within the dir. that I opened jupyter notebook with\n",
    "# from IPython.display import IFrame\n",
    "# IFrame(\"figures/2018p130600/i01s00_2018p130600.pdf\", width=600, height=300)"
   ]
  },
  {
   "cell_type": "code",
   "execution_count": 23,
   "id": "f332de2a",
   "metadata": {
    "execution": {
     "iopub.execute_input": "2022-03-02T23:09:02.838254Z",
     "iopub.status.busy": "2022-03-02T23:09:02.835153Z",
     "iopub.status.idle": "2022-03-02T23:09:02.947072Z",
     "shell.execute_reply": "2022-03-02T23:09:02.946794Z"
    }
   },
   "outputs": [
    {
     "name": "stdout",
     "output_type": "stream",
     "text": [
      "i01s00_2012p242656.log\ti01s00_2018p130600.log\r\n"
     ]
    }
   ],
   "source": [
    "# Text log files help the user keep track of all processing steps, and misfit information\n",
    "!ls logs"
   ]
  },
  {
   "cell_type": "code",
   "execution_count": 24,
   "id": "422682e6",
   "metadata": {
    "execution": {
     "iopub.execute_input": "2022-03-02T23:09:02.949385Z",
     "iopub.status.busy": "2022-03-02T23:09:02.949143Z",
     "iopub.status.idle": "2022-03-02T23:09:03.063414Z",
     "shell.execute_reply": "2022-03-02T23:09:03.063212Z"
    }
   },
   "outputs": [
    {
     "name": "stdout",
     "output_type": "stream",
     "text": [
      "[2022-03-02 14:08:56] - pyatoa - INFO: \r\n",
      "================================================================================\r\n",
      "\r\n",
      "NZ.MRZ.*.HH?\r\n",
      "\r\n",
      "================================================================================\r\n",
      "[2022-03-02 14:08:56] - pyatoa - DEBUG: gathering event\r\n",
      "[2022-03-02 14:08:56] - pyatoa - INFO: searching ASDFDataSet for event info\r\n",
      "[2022-03-02 14:08:56] - pyatoa - DEBUG: matching event found: 81EE9F\r\n",
      "[2022-03-02 14:08:56] - pyatoa - INFO: gathering data for NZ.MRZ.*.HH?\r\n",
      "[2022-03-02 14:08:56] - pyatoa - INFO: gathering observed waveforms\r\n",
      "[2022-03-02 14:08:56] - pyatoa - INFO: searching ASDFDataSet for observations\r\n",
      "[2022-03-02 14:08:56] - pyatoa - INFO: matching observed waveforms found\r\n",
      "[2022-03-02 14:08:56] - pyatoa - INFO: gathering StationXML\r\n",
      "[2022-03-02 14:08:56] - pyatoa - INFO: searching ASDFDataSet for station info\r\n",
      "[2022-03-02 14:08:56] - pyatoa - INFO: matching StationXML found\r\n",
      "[2022-03-02 14:08:56] - pyatoa - INFO: saved to ASDFDataSet\r\n",
      "[2022-03-02 14:08:56] - pyatoa - INFO: gathering synthetic waveforms\r\n",
      "[2022-03-02 14:08:56] - pyatoa - INFO: searching ASDFDataSet for synthetics\r\n",
      "[2022-03-02 14:08:56] - pyatoa - INFO: searching local filesystem for synthetics\r\n",
      "[2022-03-02 14:08:56] - pyatoa - DEBUG: searching for synthetics: /home/bchow/REPOSITORIES/pyatoa/pyatoa/tests/test_data/docs_data/pyaflowa_doc/synthetics/2018p130600/{net}.{sta}.*{cmp}.sem{dva}\r\n",
      "[2022-03-02 14:08:56] - pyatoa - INFO: retrieved synthetics locally:\r\n",
      "/home/bchow/REPOSITORIES/pyatoa/pyatoa/tests/test_data/docs_data/pyaflowa_doc/synthetics/2018p130600/NZ.MRZ.BXE.semd\r\n",
      "[2022-03-02 14:08:56] - pyatoa - INFO: retrieved synthetics locally:\r\n",
      "/home/bchow/REPOSITORIES/pyatoa/pyatoa/tests/test_data/docs_data/pyaflowa_doc/synthetics/2018p130600/NZ.MRZ.BXN.semd\r\n",
      "[2022-03-02 14:08:56] - pyatoa - INFO: retrieved synthetics locally:\r\n",
      "/home/bchow/REPOSITORIES/pyatoa/pyatoa/tests/test_data/docs_data/pyaflowa_doc/synthetics/2018p130600/NZ.MRZ.BXZ.semd\r\n",
      "[2022-03-02 14:08:56] - pyatoa - INFO: matching synthetic waveforms found\r\n",
      "[2022-03-02 14:08:56] - pyatoa - INFO: saved to ASDFDataSet with tag 'synthetic_i01s00'\r\n",
      "[2022-03-02 14:08:56] - pyatoa - INFO: standardizing streams\r\n",
      "[2022-03-02 14:08:56] - pyatoa - DEBUG: shifting NZ.MRZ.10.HHE starttime by 0.001607s\r\n",
      "[2022-03-02 14:08:56] - pyatoa - DEBUG: shifting NZ.MRZ.10.HHN starttime by 0.001607s\r\n",
      "[2022-03-02 14:08:56] - pyatoa - DEBUG: shifting NZ.MRZ.10.HHZ starttime by 0.001607s\r\n",
      "[2022-03-02 14:08:56] - pyatoa - DEBUG: time offset is -20.0s\r\n",
      "[2022-03-02 14:08:56] - pyatoa - INFO: preprocessing observation data\r\n",
      "[2022-03-02 14:08:56] - pyatoa - INFO: adjusting taper to cover time offset -20.0\r\n",
      "[2022-03-02 14:08:56] - pyatoa - DEBUG: removing response, units to DISP\r\n",
      "[2022-03-02 14:08:56] - pyatoa - DEBUG: rotating from generic coordinate system to ZNE\r\n",
      "[2022-03-02 14:08:56] - pyatoa - DEBUG: bandpass filter: 10.0 - 30.0s w/ 2.0 corners\r\n",
      "[2022-03-02 14:08:56] - pyatoa - INFO: preprocessing synthetic data\r\n",
      "[2022-03-02 14:08:56] - pyatoa - INFO: adjusting taper to cover time offset -20.0\r\n",
      "[2022-03-02 14:08:56] - pyatoa - DEBUG: no response removal, synthetic data or requested not to\r\n",
      "[2022-03-02 14:08:56] - pyatoa - DEBUG: bandpass filter: 10.0 - 30.0s w/ 2.0 corners\r\n",
      "[2022-03-02 14:08:56] - pyatoa - DEBUG: convolving data w/ Gaussian (t/2=0.70s)\r\n",
      "[2022-03-02 14:08:56] - pyatoa - INFO: running Pyflex w/ map: nznorth_10-30s\r\n",
      "[2022-03-02 14:08:56] - pyflex - INFO: Calculated travel times.\r\n",
      "[2022-03-02 14:08:56] - pyflex - INFO: Calculating envelope of synthetics.\r\n",
      "[2022-03-02 14:08:56] - pyflex - INFO: Calculating STA/LTA.\r\n",
      "[2022-03-02 14:08:56] - pyflex - INFO: Initial window selection yielded 2 possible windows.\r\n",
      "[2022-03-02 14:08:56] - pyflex - INFO: Rejection based on travel times retained 2 windows.\r\n",
      "[2022-03-02 14:08:56] - pyflex - INFO: Global SNR checks passed. Integrated SNR: 264017440516.493011, Amplitude SNR: 1258959.382416\r\n",
      "[2022-03-02 14:08:56] - pyflex - INFO: Rejection based on minimum window length retained 2 windows.\r\n",
      "[2022-03-02 14:08:56] - pyflex - INFO: Water level rejection retained 1 windows\r\n",
      "[2022-03-02 14:08:56] - pyflex - INFO: Single phase group rejection retained 1 windows\r\n",
      "[2022-03-02 14:08:56] - pyflex - INFO: Removing duplicates retains 1 windows.\r\n",
      "[2022-03-02 14:08:56] - pyflex - INFO: Rejection based on minimum window length retained 1 windows.\r\n",
      "[2022-03-02 14:08:56] - pyflex - INFO: SN amplitude ratio window rejection retained 1 windows\r\n",
      "[2022-03-02 14:08:56] - pyflex - INFO: Rejection based on data fit criteria retained 1 windows.\r\n",
      "[2022-03-02 14:08:56] - pyflex - INFO: Weighted interval schedule optimization retained 1 windows.\r\n",
      "[2022-03-02 14:08:56] - pyatoa - INFO: 1 window(s) selected for comp E\r\n",
      "[2022-03-02 14:08:57] - pyflex - INFO: Calculated travel times.\r\n",
      "[2022-03-02 14:08:57] - pyflex - INFO: Calculating envelope of synthetics.\r\n",
      "[2022-03-02 14:08:57] - pyflex - INFO: Calculating STA/LTA.\r\n",
      "[2022-03-02 14:08:57] - pyflex - INFO: Initial window selection yielded 10 possible windows.\r\n",
      "[2022-03-02 14:08:57] - pyflex - INFO: Rejection based on travel times retained 10 windows.\r\n",
      "[2022-03-02 14:08:57] - pyflex - INFO: Global SNR checks passed. Integrated SNR: 77923017814.226379, Amplitude SNR: 910031.449339\r\n",
      "[2022-03-02 14:08:57] - pyflex - INFO: Rejection based on minimum window length retained 10 windows.\r\n",
      "[2022-03-02 14:08:57] - pyflex - INFO: Water level rejection retained 4 windows\r\n",
      "[2022-03-02 14:08:57] - pyflex - INFO: Single phase group rejection retained 4 windows\r\n",
      "[2022-03-02 14:08:57] - pyflex - INFO: Removing duplicates retains 3 windows.\r\n",
      "[2022-03-02 14:08:57] - pyflex - INFO: Rejection based on minimum window length retained 3 windows.\r\n",
      "[2022-03-02 14:08:57] - pyflex - INFO: SN amplitude ratio window rejection retained 3 windows\r\n",
      "[2022-03-02 14:08:57] - pyflex - DEBUG: Window rejected due to CC value: 0.635155\r\n",
      "[2022-03-02 14:08:57] - pyflex - INFO: Rejection based on data fit criteria retained 2 windows.\r\n",
      "[2022-03-02 14:08:57] - pyflex - INFO: Weighted interval schedule optimization retained 1 windows.\r\n",
      "[2022-03-02 14:08:57] - pyatoa - INFO: 1 window(s) selected for comp N\r\n",
      "[2022-03-02 14:08:57] - pyflex - INFO: Calculated travel times.\r\n",
      "[2022-03-02 14:08:57] - pyflex - INFO: Calculating envelope of synthetics.\r\n",
      "[2022-03-02 14:08:57] - pyflex - INFO: Calculating STA/LTA.\r\n",
      "[2022-03-02 14:08:57] - pyflex - INFO: Initial window selection yielded 10 possible windows.\r\n",
      "[2022-03-02 14:08:57] - pyflex - INFO: Rejection based on travel times retained 10 windows.\r\n",
      "[2022-03-02 14:08:57] - pyflex - INFO: Global SNR checks passed. Integrated SNR: 13630877755876006.000000, Amplitude SNR: 439117916.987834\r\n",
      "[2022-03-02 14:08:57] - pyflex - INFO: Rejection based on minimum window length retained 9 windows.\r\n",
      "[2022-03-02 14:08:57] - pyflex - INFO: Water level rejection retained 3 windows\r\n",
      "[2022-03-02 14:08:57] - pyflex - INFO: Single phase group rejection retained 3 windows\r\n",
      "[2022-03-02 14:08:57] - pyflex - INFO: Removing duplicates retains 2 windows.\r\n",
      "[2022-03-02 14:08:57] - pyflex - INFO: Rejection based on minimum window length retained 2 windows.\r\n",
      "[2022-03-02 14:08:57] - pyflex - INFO: SN amplitude ratio window rejection retained 2 windows\r\n",
      "[2022-03-02 14:08:57] - pyflex - INFO: Rejection based on data fit criteria retained 2 windows.\r\n",
      "[2022-03-02 14:08:57] - pyflex - INFO: Weighted interval schedule optimization retained 1 windows.\r\n",
      "[2022-03-02 14:08:57] - pyatoa - INFO: 1 window(s) selected for comp Z\r\n",
      "[2022-03-02 14:08:57] - pyatoa - DEBUG: saving misfit windows to ASDFDataSet\r\n",
      "[2022-03-02 14:08:57] - pyatoa - INFO: 3 window(s) total found\r\n",
      "[2022-03-02 14:08:57] - pyatoa - DEBUG: running Pyadjoint w/ type: cc_traveltime_misfit\r\n",
      "[2022-03-02 14:08:57] - pyatoa - INFO: 0.366 misfit for comp E\r\n",
      "[2022-03-02 14:08:57] - pyatoa - INFO: 0.154 misfit for comp N\r\n",
      "[2022-03-02 14:08:57] - pyatoa - INFO: 0.095 misfit for comp Z\r\n",
      "[2022-03-02 14:08:57] - pyatoa - DEBUG: saving adjoint sources to ASDFDataSet\r\n",
      "[2022-03-02 14:08:57] - pyatoa - INFO: total misfit 0.614\r\n",
      "[2022-03-02 14:08:57] - pyatoa - INFO: \r\n",
      "\r\n",
      "\tOBS WAVS:  3\r\n",
      "\tSYN WAVS:  3\r\n",
      "\tWINDOWS:   3\r\n",
      "\tMISFIT:    0.61\r\n",
      "\r\n",
      "[2022-03-02 14:08:57] - pyatoa - INFO: saving figure to: /home/bchow/REPOSITORIES/pyatoa/pyatoa/tests/test_data/docs_data/pyaflowa_doc/figures/2018p130600/i01_s00_NZ_MRZ.pdf\r\n",
      "[2022-03-02 14:08:57] - pyatoa - INFO: \r\n",
      "================================================================================\r\n",
      "\r\n",
      "FINALIZE\r\n",
      "\r\n",
      "================================================================================\r\n",
      "[2022-03-02 14:08:58] - pyatoa - INFO: \r\n",
      "================================================================================\r\n",
      "\r\n",
      "NZ.TSZ.*.HH?\r\n",
      "\r\n",
      "================================================================================\r\n",
      "[2022-03-02 14:08:58] - pyatoa - INFO: gathering data for NZ.TSZ.*.HH?\r\n",
      "[2022-03-02 14:08:58] - pyatoa - INFO: gathering observed waveforms\r\n",
      "[2022-03-02 14:08:58] - pyatoa - INFO: searching ASDFDataSet for observations\r\n",
      "[2022-03-02 14:08:58] - pyatoa - INFO: matching observed waveforms found\r\n",
      "[2022-03-02 14:08:58] - pyatoa - INFO: gathering StationXML\r\n",
      "[2022-03-02 14:08:58] - pyatoa - INFO: searching ASDFDataSet for station info\r\n",
      "[2022-03-02 14:08:58] - pyatoa - INFO: matching StationXML found\r\n",
      "[2022-03-02 14:08:58] - pyatoa - INFO: saved to ASDFDataSet\r\n",
      "[2022-03-02 14:08:58] - pyatoa - INFO: gathering synthetic waveforms\r\n",
      "[2022-03-02 14:08:58] - pyatoa - INFO: searching ASDFDataSet for synthetics\r\n",
      "[2022-03-02 14:08:58] - pyatoa - INFO: searching local filesystem for synthetics\r\n",
      "[2022-03-02 14:08:58] - pyatoa - DEBUG: searching for synthetics: /home/bchow/REPOSITORIES/pyatoa/pyatoa/tests/test_data/docs_data/pyaflowa_doc/synthetics/2018p130600/{net}.{sta}.*{cmp}.sem{dva}\r\n",
      "[2022-03-02 14:08:58] - pyatoa - INFO: retrieved synthetics locally:\r\n",
      "/home/bchow/REPOSITORIES/pyatoa/pyatoa/tests/test_data/docs_data/pyaflowa_doc/synthetics/2018p130600/NZ.TSZ.BXE.semd\r\n",
      "[2022-03-02 14:08:58] - pyatoa - INFO: retrieved synthetics locally:\r\n",
      "/home/bchow/REPOSITORIES/pyatoa/pyatoa/tests/test_data/docs_data/pyaflowa_doc/synthetics/2018p130600/NZ.TSZ.BXN.semd\r\n",
      "[2022-03-02 14:08:58] - pyatoa - INFO: retrieved synthetics locally:\r\n",
      "/home/bchow/REPOSITORIES/pyatoa/pyatoa/tests/test_data/docs_data/pyaflowa_doc/synthetics/2018p130600/NZ.TSZ.BXZ.semd\r\n",
      "[2022-03-02 14:08:58] - pyatoa - INFO: matching synthetic waveforms found\r\n",
      "[2022-03-02 14:08:58] - pyatoa - INFO: saved to ASDFDataSet with tag 'synthetic_i01s00'\r\n",
      "[2022-03-02 14:08:58] - pyatoa - INFO: standardizing streams\r\n",
      "[2022-03-02 14:08:58] - pyatoa - DEBUG: zero pad NZ.TSZ.10.HHE (0, 0) samples\r\n",
      "[2022-03-02 14:08:58] - pyatoa - DEBUG: new starttime NZ.TSZ.10.HHE: 2018-02-18T07:43:28.130000Z\r\n",
      "[2022-03-02 14:08:58] - pyatoa - DEBUG: zero pad NZ.TSZ.10.HHN (0, 0) samples\r\n",
      "[2022-03-02 14:08:58] - pyatoa - DEBUG: new starttime NZ.TSZ.10.HHN: 2018-02-18T07:43:28.130001Z\r\n",
      "[2022-03-02 14:08:58] - pyatoa - DEBUG: zero pad NZ.TSZ.10.HHZ (0, 0) samples\r\n",
      "[2022-03-02 14:08:58] - pyatoa - DEBUG: new starttime NZ.TSZ.10.HHZ: 2018-02-18T07:43:28.130001Z\r\n",
      "[2022-03-02 14:08:58] - pyatoa - DEBUG: time offset is -20.0s\r\n",
      "[2022-03-02 14:08:58] - pyatoa - INFO: preprocessing observation data\r\n",
      "[2022-03-02 14:08:58] - pyatoa - INFO: adjusting taper to cover time offset -20.0\r\n",
      "[2022-03-02 14:08:58] - pyatoa - DEBUG: removing response, units to DISP\r\n",
      "[2022-03-02 14:08:58] - pyatoa - DEBUG: rotating from generic coordinate system to ZNE\r\n",
      "[2022-03-02 14:08:58] - pyatoa - DEBUG: bandpass filter: 10.0 - 30.0s w/ 2.0 corners\r\n",
      "[2022-03-02 14:08:58] - pyatoa - INFO: preprocessing synthetic data\r\n",
      "[2022-03-02 14:08:58] - pyatoa - INFO: adjusting taper to cover time offset -20.0\r\n",
      "[2022-03-02 14:08:58] - pyatoa - DEBUG: no response removal, synthetic data or requested not to\r\n",
      "[2022-03-02 14:08:58] - pyatoa - DEBUG: bandpass filter: 10.0 - 30.0s w/ 2.0 corners\r\n",
      "[2022-03-02 14:08:58] - pyatoa - DEBUG: convolving data w/ Gaussian (t/2=0.70s)\r\n",
      "[2022-03-02 14:08:58] - pyatoa - INFO: running Pyflex w/ map: nznorth_10-30s\r\n",
      "[2022-03-02 14:08:58] - pyflex - INFO: Calculated travel times.\r\n",
      "[2022-03-02 14:08:58] - pyflex - INFO: Calculating envelope of synthetics.\r\n",
      "[2022-03-02 14:08:58] - pyflex - INFO: Calculating STA/LTA.\r\n",
      "[2022-03-02 14:08:58] - pyatoa - WARNING: Cannot window, most likely because the source-receiver distance is too small w.r.t the minimum period\r\n",
      "[2022-03-02 14:08:58] - pyatoa - INFO: saving figure to: /home/bchow/REPOSITORIES/pyatoa/pyatoa/tests/test_data/docs_data/pyaflowa_doc/figures/2018p130600/i01_s00_NZ_TSZ.pdf\r\n",
      "[2022-03-02 14:08:59] - pyatoa - INFO: \r\n",
      "================================================================================\r\n",
      "\r\n",
      "NZ.VRZ.*.HH?\r\n",
      "\r\n",
      "================================================================================\r\n",
      "[2022-03-02 14:08:59] - pyatoa - INFO: gathering data for NZ.VRZ.*.HH?\r\n",
      "[2022-03-02 14:08:59] - pyatoa - INFO: gathering observed waveforms\r\n",
      "[2022-03-02 14:08:59] - pyatoa - INFO: searching ASDFDataSet for observations\r\n",
      "[2022-03-02 14:08:59] - pyatoa - INFO: matching observed waveforms found\r\n",
      "[2022-03-02 14:08:59] - pyatoa - INFO: gathering StationXML\r\n",
      "[2022-03-02 14:08:59] - pyatoa - INFO: searching ASDFDataSet for station info\r\n",
      "[2022-03-02 14:08:59] - pyatoa - INFO: matching StationXML found\r\n",
      "[2022-03-02 14:08:59] - pyatoa - INFO: saved to ASDFDataSet\r\n",
      "[2022-03-02 14:08:59] - pyatoa - INFO: gathering synthetic waveforms\r\n",
      "[2022-03-02 14:08:59] - pyatoa - INFO: searching ASDFDataSet for synthetics\r\n",
      "[2022-03-02 14:08:59] - pyatoa - INFO: searching local filesystem for synthetics\r\n",
      "[2022-03-02 14:08:59] - pyatoa - DEBUG: searching for synthetics: /home/bchow/REPOSITORIES/pyatoa/pyatoa/tests/test_data/docs_data/pyaflowa_doc/synthetics/2018p130600/{net}.{sta}.*{cmp}.sem{dva}\r\n",
      "[2022-03-02 14:08:59] - pyatoa - INFO: retrieved synthetics locally:\r\n",
      "/home/bchow/REPOSITORIES/pyatoa/pyatoa/tests/test_data/docs_data/pyaflowa_doc/synthetics/2018p130600/NZ.VRZ.BXE.semd\r\n",
      "[2022-03-02 14:08:59] - pyatoa - INFO: retrieved synthetics locally:\r\n",
      "/home/bchow/REPOSITORIES/pyatoa/pyatoa/tests/test_data/docs_data/pyaflowa_doc/synthetics/2018p130600/NZ.VRZ.BXN.semd\r\n",
      "[2022-03-02 14:08:59] - pyatoa - INFO: retrieved synthetics locally:\r\n",
      "/home/bchow/REPOSITORIES/pyatoa/pyatoa/tests/test_data/docs_data/pyaflowa_doc/synthetics/2018p130600/NZ.VRZ.BXZ.semd\r\n",
      "[2022-03-02 14:08:59] - pyatoa - INFO: matching synthetic waveforms found\r\n",
      "[2022-03-02 14:08:59] - pyatoa - INFO: saved to ASDFDataSet with tag 'synthetic_i01s00'\r\n",
      "[2022-03-02 14:08:59] - pyatoa - INFO: standardizing streams\r\n",
      "[2022-03-02 14:08:59] - pyatoa - DEBUG: shifting NZ.VRZ.10.HHE starttime by 0.001578s\r\n",
      "[2022-03-02 14:08:59] - pyatoa - DEBUG: shifting NZ.VRZ.10.HHN starttime by 0.001578s\r\n",
      "[2022-03-02 14:08:59] - pyatoa - DEBUG: shifting NZ.VRZ.10.HHZ starttime by 0.001578s\r\n",
      "[2022-03-02 14:08:59] - pyatoa - DEBUG: time offset is -20.0s\r\n",
      "[2022-03-02 14:08:59] - pyatoa - INFO: preprocessing observation data\r\n",
      "[2022-03-02 14:08:59] - pyatoa - INFO: adjusting taper to cover time offset -20.0\r\n",
      "[2022-03-02 14:08:59] - pyatoa - DEBUG: removing response, units to DISP\r\n",
      "[2022-03-02 14:08:59] - pyatoa - DEBUG: rotating from generic coordinate system to ZNE\r\n",
      "[2022-03-02 14:08:59] - pyatoa - DEBUG: bandpass filter: 10.0 - 30.0s w/ 2.0 corners\r\n",
      "[2022-03-02 14:08:59] - pyatoa - INFO: preprocessing synthetic data\r\n",
      "[2022-03-02 14:08:59] - pyatoa - INFO: adjusting taper to cover time offset -20.0\r\n",
      "[2022-03-02 14:08:59] - pyatoa - DEBUG: no response removal, synthetic data or requested not to\r\n",
      "[2022-03-02 14:08:59] - pyatoa - DEBUG: bandpass filter: 10.0 - 30.0s w/ 2.0 corners\r\n",
      "[2022-03-02 14:08:59] - pyatoa - DEBUG: convolving data w/ Gaussian (t/2=0.70s)\r\n",
      "[2022-03-02 14:08:59] - pyatoa - INFO: running Pyflex w/ map: nznorth_10-30s\r\n",
      "[2022-03-02 14:08:59] - pyflex - INFO: Calculated travel times.\r\n",
      "[2022-03-02 14:08:59] - pyflex - INFO: Calculating envelope of synthetics.\r\n",
      "[2022-03-02 14:08:59] - pyflex - INFO: Calculating STA/LTA.\r\n",
      "[2022-03-02 14:08:59] - pyflex - INFO: Initial window selection yielded 13 possible windows.\r\n",
      "[2022-03-02 14:08:59] - pyflex - INFO: Rejection based on travel times retained 13 windows.\r\n",
      "[2022-03-02 14:08:59] - pyflex - INFO: Global SNR checks passed. Integrated SNR: 23466401785.970848, Amplitude SNR: 384703.121688\r\n",
      "[2022-03-02 14:08:59] - pyflex - INFO: Rejection based on minimum window length retained 13 windows.\r\n",
      "[2022-03-02 14:08:59] - pyflex - INFO: Water level rejection retained 4 windows\r\n",
      "[2022-03-02 14:08:59] - pyflex - INFO: Single phase group rejection retained 4 windows\r\n",
      "[2022-03-02 14:08:59] - pyflex - INFO: Removing duplicates retains 3 windows.\r\n",
      "[2022-03-02 14:08:59] - pyflex - INFO: Rejection based on minimum window length retained 3 windows.\r\n",
      "[2022-03-02 14:08:59] - pyflex - INFO: SN amplitude ratio window rejection retained 3 windows\r\n",
      "[2022-03-02 14:08:59] - pyflex - DEBUG: Window rejected due to CC value: 0.675487\r\n",
      "[2022-03-02 14:08:59] - pyflex - INFO: Rejection based on data fit criteria retained 2 windows.\r\n",
      "[2022-03-02 14:08:59] - pyflex - INFO: Weighted interval schedule optimization retained 1 windows.\r\n",
      "[2022-03-02 14:08:59] - pyatoa - INFO: 1 window(s) selected for comp E\r\n",
      "[2022-03-02 14:08:59] - pyflex - INFO: Calculated travel times.\r\n",
      "[2022-03-02 14:08:59] - pyflex - INFO: Calculating envelope of synthetics.\r\n",
      "[2022-03-02 14:08:59] - pyflex - INFO: Calculating STA/LTA.\r\n",
      "[2022-03-02 14:08:59] - pyflex - INFO: Initial window selection yielded 10 possible windows.\r\n",
      "[2022-03-02 14:08:59] - pyflex - INFO: Rejection based on travel times retained 10 windows.\r\n",
      "[2022-03-02 14:08:59] - pyflex - INFO: Global SNR checks passed. Integrated SNR: 31526068792.362656, Amplitude SNR: 495295.417951\r\n",
      "[2022-03-02 14:08:59] - pyflex - INFO: Rejection based on minimum window length retained 10 windows.\r\n",
      "[2022-03-02 14:08:59] - pyflex - INFO: Water level rejection retained 4 windows\r\n",
      "[2022-03-02 14:08:59] - pyflex - INFO: Single phase group rejection retained 4 windows\r\n",
      "[2022-03-02 14:08:59] - pyflex - INFO: Removing duplicates retains 3 windows.\r\n",
      "[2022-03-02 14:08:59] - pyflex - INFO: Rejection based on minimum window length retained 3 windows.\r\n",
      "[2022-03-02 14:08:59] - pyflex - INFO: SN amplitude ratio window rejection retained 3 windows\r\n",
      "[2022-03-02 14:08:59] - pyflex - INFO: Rejection based on data fit criteria retained 3 windows.\r\n",
      "[2022-03-02 14:08:59] - pyflex - INFO: Weighted interval schedule optimization retained 1 windows.\r\n",
      "[2022-03-02 14:08:59] - pyatoa - INFO: 1 window(s) selected for comp N\r\n",
      "[2022-03-02 14:08:59] - pyflex - INFO: Calculated travel times.\r\n",
      "[2022-03-02 14:08:59] - pyflex - INFO: Calculating envelope of synthetics.\r\n",
      "[2022-03-02 14:08:59] - pyflex - INFO: Calculating STA/LTA.\r\n",
      "[2022-03-02 14:08:59] - pyflex - INFO: Initial window selection yielded 10 possible windows.\r\n",
      "[2022-03-02 14:08:59] - pyflex - INFO: Rejection based on travel times retained 10 windows.\r\n",
      "[2022-03-02 14:08:59] - pyflex - INFO: Global SNR checks passed. Integrated SNR: 26562645048.905380, Amplitude SNR: 378503.886560\r\n",
      "[2022-03-02 14:08:59] - pyflex - INFO: Rejection based on minimum window length retained 9 windows.\r\n",
      "[2022-03-02 14:08:59] - pyflex - INFO: Water level rejection retained 3 windows\r\n",
      "[2022-03-02 14:08:59] - pyflex - INFO: Single phase group rejection retained 3 windows\r\n",
      "[2022-03-02 14:08:59] - pyflex - INFO: Removing duplicates retains 2 windows.\r\n",
      "[2022-03-02 14:08:59] - pyflex - INFO: Rejection based on minimum window length retained 2 windows.\r\n",
      "[2022-03-02 14:08:59] - pyflex - INFO: SN amplitude ratio window rejection retained 2 windows\r\n",
      "[2022-03-02 14:08:59] - pyflex - INFO: Rejection based on data fit criteria retained 2 windows.\r\n",
      "[2022-03-02 14:08:59] - pyflex - INFO: Weighted interval schedule optimization retained 1 windows.\r\n",
      "[2022-03-02 14:08:59] - pyatoa - INFO: 1 window(s) selected for comp Z\r\n",
      "[2022-03-02 14:08:59] - pyatoa - DEBUG: saving misfit windows to ASDFDataSet\r\n",
      "[2022-03-02 14:08:59] - pyatoa - INFO: 3 window(s) total found\r\n",
      "[2022-03-02 14:08:59] - pyatoa - DEBUG: running Pyadjoint w/ type: cc_traveltime_misfit\r\n",
      "[2022-03-02 14:09:00] - pyatoa - INFO: 0.198 misfit for comp E\r\n",
      "[2022-03-02 14:09:00] - pyatoa - INFO: 0.011 misfit for comp N\r\n",
      "[2022-03-02 14:09:00] - pyatoa - INFO: 0.065 misfit for comp Z\r\n",
      "[2022-03-02 14:09:00] - pyatoa - DEBUG: saving adjoint sources to ASDFDataSet\r\n",
      "[2022-03-02 14:09:00] - pyatoa - INFO: total misfit 0.275\r\n",
      "[2022-03-02 14:09:00] - pyatoa - INFO: \r\n",
      "\r\n",
      "\tOBS WAVS:  3\r\n",
      "\tSYN WAVS:  3\r\n",
      "\tWINDOWS:   3\r\n",
      "\tMISFIT:    0.27\r\n",
      "\r\n",
      "[2022-03-02 14:09:00] - pyatoa - INFO: saving figure to: /home/bchow/REPOSITORIES/pyatoa/pyatoa/tests/test_data/docs_data/pyaflowa_doc/figures/2018p130600/i01_s00_NZ_VRZ.pdf\r\n",
      "[2022-03-02 14:09:00] - pyatoa - INFO: \r\n",
      "================================================================================\r\n",
      "\r\n",
      "FINALIZE\r\n",
      "\r\n",
      "================================================================================\r\n",
      "[2022-03-02 14:09:00] - pyatoa - INFO: \r\n",
      "================================================================================\r\n",
      "\r\n",
      "NZ.WAZ.*.HH?\r\n",
      "\r\n",
      "================================================================================\r\n",
      "[2022-03-02 14:09:00] - pyatoa - INFO: gathering data for NZ.WAZ.*.HH?\r\n",
      "[2022-03-02 14:09:00] - pyatoa - INFO: gathering observed waveforms\r\n",
      "[2022-03-02 14:09:00] - pyatoa - INFO: searching ASDFDataSet for observations\r\n",
      "[2022-03-02 14:09:00] - pyatoa - INFO: matching observed waveforms found\r\n",
      "[2022-03-02 14:09:00] - pyatoa - INFO: gathering StationXML\r\n",
      "[2022-03-02 14:09:00] - pyatoa - INFO: searching ASDFDataSet for station info\r\n",
      "[2022-03-02 14:09:00] - pyatoa - INFO: matching StationXML found\r\n",
      "[2022-03-02 14:09:00] - pyatoa - INFO: saved to ASDFDataSet\r\n",
      "[2022-03-02 14:09:00] - pyatoa - INFO: gathering synthetic waveforms\r\n",
      "[2022-03-02 14:09:00] - pyatoa - INFO: searching ASDFDataSet for synthetics\r\n",
      "[2022-03-02 14:09:00] - pyatoa - INFO: searching local filesystem for synthetics\r\n",
      "[2022-03-02 14:09:00] - pyatoa - DEBUG: searching for synthetics: /home/bchow/REPOSITORIES/pyatoa/pyatoa/tests/test_data/docs_data/pyaflowa_doc/synthetics/2018p130600/{net}.{sta}.*{cmp}.sem{dva}\r\n",
      "[2022-03-02 14:09:00] - pyatoa - INFO: retrieved synthetics locally:\r\n",
      "/home/bchow/REPOSITORIES/pyatoa/pyatoa/tests/test_data/docs_data/pyaflowa_doc/synthetics/2018p130600/NZ.WAZ.BXE.semd\r\n",
      "[2022-03-02 14:09:00] - pyatoa - INFO: retrieved synthetics locally:\r\n",
      "/home/bchow/REPOSITORIES/pyatoa/pyatoa/tests/test_data/docs_data/pyaflowa_doc/synthetics/2018p130600/NZ.WAZ.BXN.semd\r\n",
      "[2022-03-02 14:09:00] - pyatoa - INFO: retrieved synthetics locally:\r\n",
      "/home/bchow/REPOSITORIES/pyatoa/pyatoa/tests/test_data/docs_data/pyaflowa_doc/synthetics/2018p130600/NZ.WAZ.BXZ.semd\r\n",
      "[2022-03-02 14:09:00] - pyatoa - INFO: matching synthetic waveforms found\r\n",
      "[2022-03-02 14:09:00] - pyatoa - INFO: saved to ASDFDataSet with tag 'synthetic_i01s00'\r\n",
      "[2022-03-02 14:09:00] - pyatoa - INFO: standardizing streams\r\n",
      "[2022-03-02 14:09:01] - pyatoa - DEBUG: shifting NZ.WAZ.10.HHE starttime by 0.001607s\r\n",
      "[2022-03-02 14:09:01] - pyatoa - DEBUG: shifting NZ.WAZ.10.HHN starttime by 0.001607s\r\n",
      "[2022-03-02 14:09:01] - pyatoa - DEBUG: shifting NZ.WAZ.10.HHZ starttime by 0.001607s\r\n",
      "[2022-03-02 14:09:01] - pyatoa - DEBUG: time offset is -20.0s\r\n",
      "[2022-03-02 14:09:01] - pyatoa - INFO: preprocessing observation data\r\n",
      "[2022-03-02 14:09:01] - pyatoa - INFO: adjusting taper to cover time offset -20.0\r\n",
      "[2022-03-02 14:09:01] - pyatoa - DEBUG: removing response, units to DISP\r\n",
      "[2022-03-02 14:09:01] - pyatoa - DEBUG: rotating from generic coordinate system to ZNE\r\n",
      "[2022-03-02 14:09:01] - pyatoa - DEBUG: bandpass filter: 10.0 - 30.0s w/ 2.0 corners\r\n",
      "[2022-03-02 14:09:01] - pyatoa - INFO: preprocessing synthetic data\r\n",
      "[2022-03-02 14:09:01] - pyatoa - INFO: adjusting taper to cover time offset -20.0\r\n",
      "[2022-03-02 14:09:01] - pyatoa - DEBUG: no response removal, synthetic data or requested not to\r\n",
      "[2022-03-02 14:09:01] - pyatoa - DEBUG: bandpass filter: 10.0 - 30.0s w/ 2.0 corners\r\n",
      "[2022-03-02 14:09:01] - pyatoa - DEBUG: convolving data w/ Gaussian (t/2=0.70s)\r\n",
      "[2022-03-02 14:09:01] - pyatoa - INFO: running Pyflex w/ map: nznorth_10-30s\r\n",
      "[2022-03-02 14:09:01] - pyflex - INFO: Calculated travel times.\r\n",
      "[2022-03-02 14:09:01] - pyflex - INFO: Calculating envelope of synthetics.\r\n",
      "[2022-03-02 14:09:01] - pyflex - INFO: Calculating STA/LTA.\r\n",
      "[2022-03-02 14:09:01] - pyflex - INFO: Initial window selection yielded 22 possible windows.\r\n",
      "[2022-03-02 14:09:01] - pyflex - INFO: Rejection based on travel times retained 22 windows.\r\n",
      "[2022-03-02 14:09:01] - pyflex - INFO: Global SNR checks passed. Integrated SNR: 28382657308.924114, Amplitude SNR: 494242.727553\r\n",
      "[2022-03-02 14:09:01] - pyflex - INFO: Rejection based on minimum window length retained 20 windows.\r\n",
      "[2022-03-02 14:09:01] - pyflex - INFO: Water level rejection retained 8 windows\r\n",
      "[2022-03-02 14:09:01] - pyflex - INFO: Single phase group rejection retained 8 windows\r\n",
      "[2022-03-02 14:09:01] - pyflex - INFO: Removing duplicates retains 4 windows.\r\n",
      "[2022-03-02 14:09:01] - pyflex - INFO: Rejection based on minimum window length retained 4 windows.\r\n",
      "[2022-03-02 14:09:01] - pyflex - INFO: SN amplitude ratio window rejection retained 4 windows\r\n",
      "[2022-03-02 14:09:01] - pyflex - INFO: Rejection based on data fit criteria retained 4 windows.\r\n",
      "[2022-03-02 14:09:01] - pyflex - INFO: Weighted interval schedule optimization retained 1 windows.\r\n",
      "[2022-03-02 14:09:01] - pyatoa - INFO: 1 window(s) selected for comp E\r\n",
      "[2022-03-02 14:09:01] - pyflex - INFO: Calculated travel times.\r\n",
      "[2022-03-02 14:09:01] - pyflex - INFO: Calculating envelope of synthetics.\r\n",
      "[2022-03-02 14:09:01] - pyflex - INFO: Calculating STA/LTA.\r\n",
      "[2022-03-02 14:09:01] - pyflex - INFO: Initial window selection yielded 10 possible windows.\r\n",
      "[2022-03-02 14:09:01] - pyflex - INFO: Rejection based on travel times retained 10 windows.\r\n",
      "[2022-03-02 14:09:01] - pyflex - INFO: Global SNR checks passed. Integrated SNR: 60358322015.940735, Amplitude SNR: 576780.923206\r\n",
      "[2022-03-02 14:09:01] - pyflex - INFO: Rejection based on minimum window length retained 9 windows.\r\n",
      "[2022-03-02 14:09:01] - pyflex - INFO: Water level rejection retained 3 windows\r\n",
      "[2022-03-02 14:09:01] - pyflex - INFO: Single phase group rejection retained 3 windows\r\n",
      "[2022-03-02 14:09:01] - pyflex - INFO: Removing duplicates retains 2 windows.\r\n",
      "[2022-03-02 14:09:01] - pyflex - INFO: Rejection based on minimum window length retained 2 windows.\r\n",
      "[2022-03-02 14:09:01] - pyflex - INFO: SN amplitude ratio window rejection retained 2 windows\r\n",
      "[2022-03-02 14:09:01] - pyflex - DEBUG: Window rejected due to amplitude fit: 3.871042\r\n",
      "[2022-03-02 14:09:01] - pyflex - DEBUG: Window rejected due to amplitude fit: 3.793857\r\n",
      "[2022-03-02 14:09:01] - pyflex - INFO: Rejection based on data fit criteria retained 0 windows.\r\n",
      "[2022-03-02 14:09:01] - pyflex - INFO: Weighted interval schedule optimization retained 0 windows.\r\n",
      "[2022-03-02 14:09:01] - pyatoa - INFO: 0 window(s) selected for comp N\r\n",
      "[2022-03-02 14:09:01] - pyflex - INFO: Calculated travel times.\r\n",
      "[2022-03-02 14:09:01] - pyflex - INFO: Calculating envelope of synthetics.\r\n",
      "[2022-03-02 14:09:01] - pyflex - INFO: Calculating STA/LTA.\r\n",
      "[2022-03-02 14:09:01] - pyflex - INFO: Initial window selection yielded 10 possible windows.\r\n",
      "[2022-03-02 14:09:01] - pyflex - INFO: Rejection based on travel times retained 10 windows.\r\n",
      "[2022-03-02 14:09:01] - pyflex - INFO: Global SNR checks passed. Integrated SNR: 4763134899.314076, Amplitude SNR: 166126.234705\r\n",
      "[2022-03-02 14:09:01] - pyflex - INFO: Rejection based on minimum window length retained 9 windows.\r\n",
      "[2022-03-02 14:09:01] - pyflex - INFO: Water level rejection retained 3 windows\r\n",
      "[2022-03-02 14:09:01] - pyflex - INFO: Single phase group rejection retained 3 windows\r\n",
      "[2022-03-02 14:09:01] - pyflex - INFO: Removing duplicates retains 2 windows.\r\n",
      "[2022-03-02 14:09:01] - pyflex - INFO: Rejection based on minimum window length retained 2 windows.\r\n",
      "[2022-03-02 14:09:01] - pyflex - INFO: SN amplitude ratio window rejection retained 2 windows\r\n",
      "[2022-03-02 14:09:01] - pyflex - INFO: Rejection based on data fit criteria retained 2 windows.\r\n",
      "[2022-03-02 14:09:01] - pyflex - INFO: Weighted interval schedule optimization retained 1 windows.\r\n",
      "[2022-03-02 14:09:01] - pyatoa - INFO: 1 window(s) selected for comp Z\r\n",
      "[2022-03-02 14:09:01] - pyatoa - DEBUG: saving misfit windows to ASDFDataSet\r\n",
      "[2022-03-02 14:09:01] - pyatoa - INFO: 2 window(s) total found\r\n",
      "[2022-03-02 14:09:01] - pyatoa - DEBUG: running Pyadjoint w/ type: cc_traveltime_misfit\r\n",
      "[2022-03-02 14:09:01] - pyatoa - INFO: 1.037 misfit for comp E\r\n",
      "[2022-03-02 14:09:01] - pyatoa - INFO: 0.293 misfit for comp Z\r\n",
      "[2022-03-02 14:09:01] - pyatoa - DEBUG: saving adjoint sources to ASDFDataSet\r\n",
      "[2022-03-02 14:09:01] - pyatoa - INFO: total misfit 1.329\r\n",
      "[2022-03-02 14:09:01] - pyatoa - INFO: \r\n",
      "\r\n",
      "\tOBS WAVS:  3\r\n",
      "\tSYN WAVS:  3\r\n",
      "\tWINDOWS:   2\r\n",
      "\tMISFIT:    1.33\r\n",
      "\r\n",
      "[2022-03-02 14:09:01] - pyatoa - INFO: saving figure to: /home/bchow/REPOSITORIES/pyatoa/pyatoa/tests/test_data/docs_data/pyaflowa_doc/figures/2018p130600/i01_s00_NZ_WAZ.pdf\r\n",
      "[2022-03-02 14:09:02] - pyatoa - INFO: \r\n",
      "================================================================================\r\n",
      "\r\n",
      "FINALIZE\r\n",
      "\r\n",
      "================================================================================\r\n",
      "[2022-03-02 14:09:02] - pyatoa - INFO: creating single .pdf file of all output figures\r\n",
      "[2022-03-02 14:09:02] - pyatoa - INFO: generating STATIONS_ADJOINT file for SPECFEM\r\n",
      "[2022-03-02 14:09:02] - pyatoa - INFO: \r\n",
      "================================================================================\r\n",
      "\r\n",
      "SUMMARY\r\n",
      "\r\n",
      "================================================================================\r\n",
      "SOURCE NAME: 2018p130600\r\n",
      "STATIONS: 3 / 4\r\n",
      "WINDOWS: 8\r\n",
      "RAW MISFIT: 2.22\r\n",
      "UNEXPECTED ERRORS: 0\r\n",
      "===================\r\n",
      "\r\n",
      "SUMMARY\r\n",
      "\r\n",
      "================================================================================\r\n",
      "SOURCE NAME: 2018p130600\r\n",
      "STATIONS: 3 / 4\r\n",
      "WINDOWS: 8\r\n",
      "RAW MISFIT: 2.22\r\n",
      "UNEXPECTED ERRORS: 0\r\n"
     ]
    }
   ],
   "source": [
    "!cat logs/i01s00_2018p130600.log"
   ]
  },
  {
   "cell_type": "markdown",
   "id": "ed128633",
   "metadata": {},
   "source": [
    "### Multi-processing with Pyaflowa\n",
    "\n",
    "Pyaflowa allows for multi-processing using Python's concurrent.futures. This means that multiple events can be processed in parallel, potentially allowing for large speed up when running waveform processing. We'll include another event [2012p242656](https://www.geonet.org.nz/earthquake/2012p242656), in our work directory and show how simple it is to use this functionality."
   ]
  },
  {
   "cell_type": "code",
   "execution_count": 25,
   "id": "40328143",
   "metadata": {
    "execution": {
     "iopub.execute_input": "2022-03-02T23:09:03.065702Z",
     "iopub.status.busy": "2022-03-02T23:09:03.065457Z",
     "iopub.status.idle": "2022-03-02T23:09:03.177148Z",
     "shell.execute_reply": "2022-03-02T23:09:03.176943Z"
    }
   },
   "outputs": [
    {
     "name": "stdout",
     "output_type": "stream",
     "text": [
      "NZ.MRZ.BXE.semd  NZ.TSZ.BXE.semd  NZ.VRZ.BXE.semd  NZ.WAZ.BXE.semd\r\n",
      "NZ.MRZ.BXN.semd  NZ.TSZ.BXN.semd  NZ.VRZ.BXN.semd  NZ.WAZ.BXN.semd\r\n",
      "NZ.MRZ.BXZ.semd  NZ.TSZ.BXZ.semd  NZ.VRZ.BXZ.semd  NZ.WAZ.BXZ.semd\r\n"
     ]
    }
   ],
   "source": [
    "!ls synthetics/2012p242656"
   ]
  },
  {
   "cell_type": "code",
   "execution_count": 26,
   "id": "fc35c2f4",
   "metadata": {
    "execution": {
     "iopub.execute_input": "2022-03-02T23:09:03.179773Z",
     "iopub.status.busy": "2022-03-02T23:09:03.179427Z",
     "iopub.status.idle": "2022-03-02T23:09:03.181224Z",
     "shell.execute_reply": "2022-03-02T23:09:03.181019Z"
    }
   },
   "outputs": [
    {
     "data": {
      "text/plain": [
       "cwd          : '/home/bchow/REPOSITORIES/pyatoa/pyatoa/tests/test_data/docs_data/pyaflowa_doc'\n",
       "data         : '/home/bchow/REPOSITORIES/pyatoa/pyatoa/tests/test_data/docs_data/pyaflowa_doc'\n",
       "datasets     : '/home/bchow/REPOSITORIES/pyatoa/pyatoa/tests/test_data/docs_data/pyaflowa_doc'\n",
       "figures      : '/home/bchow/REPOSITORIES/pyatoa/pyatoa/tests/test_data/docs_data/pyaflowa_doc/figures'\n",
       "logs         : '/home/bchow/REPOSITORIES/pyatoa/pyatoa/tests/test_data/docs_data/pyaflowa_doc/logs'\n",
       "ds_file      : '/home/bchow/REPOSITORIES/pyatoa/pyatoa/tests/test_data/docs_data/pyaflowa_doc/{source_name}.h5'\n",
       "stations_file: '/home/bchow/REPOSITORIES/pyatoa/pyatoa/tests/test_data/docs_data/pyaflowa_doc/STATIONS'\n",
       "responses    : '/home/bchow/REPOSITORIES/pyatoa/pyatoa/tests/test_data/docs_data/pyaflowa_doc/input/responses'\n",
       "waveforms    : '/home/bchow/REPOSITORIES/pyatoa/pyatoa/tests/test_data/docs_data/pyaflowa_doc/input/waveforms'\n",
       "synthetics   : '/home/bchow/REPOSITORIES/pyatoa/pyatoa/tests/test_data/docs_data/pyaflowa_doc/synthetics/{source_name}'\n",
       "adjsrcs      : '/home/bchow/REPOSITORIES/pyatoa/pyatoa/tests/test_data/docs_data/pyaflowa_doc/adjsrcs/{source_name}'\n",
       "event_figures: '/home/bchow/REPOSITORIES/pyatoa/pyatoa/tests/test_data/docs_data/pyaflowa_doc/figures/{source_name}'"
      ]
     },
     "execution_count": 26,
     "metadata": {},
     "output_type": "execute_result"
    }
   ],
   "source": [
    "# Here we initiate almost the same key word arguments, however we add a formatting statement in the synthetics\n",
    "# kwarg so that Pyaflowa knows which directory to search when looking for synthetics.\n",
    "# Here the STATION FILE is the same\n",
    "pf.path_structure"
   ]
  },
  {
   "cell_type": "code",
   "execution_count": 27,
   "id": "74a1b290",
   "metadata": {
    "execution": {
     "iopub.execute_input": "2022-03-02T23:09:03.183229Z",
     "iopub.status.busy": "2022-03-02T23:09:03.182911Z",
     "iopub.status.idle": "2022-03-02T23:09:09.253477Z",
     "shell.execute_reply": "2022-03-02T23:09:09.253748Z"
    }
   },
   "outputs": [
    {
     "name": "stdout",
     "output_type": "stream",
     "text": [
      "Beginning parallel processing of 2 events...\n"
     ]
    },
    {
     "name": "stderr",
     "output_type": "stream",
     "text": [
      "[2022-03-02 14:09:03] - pyatoa - DEBUG: gathering event\n",
      "[2022-03-02 14:09:03] - pyatoa - INFO: searching ASDFDataSet for event info\n",
      "[2022-03-02 14:09:03] - pyatoa - DEBUG: gathering event\n",
      "[2022-03-02 14:09:03] - pyatoa - INFO: searching ASDFDataSet for event info\n",
      "[2022-03-02 14:09:03] - pyatoa - DEBUG: matching event found: 81EE9F\n",
      "[2022-03-02 14:09:03] - pyatoa - DEBUG: matching event found: 81EE9F\n",
      "[2022-03-02 14:09:03,733] - pyflex - INFO: Calculated travel times.\n",
      "[2022-03-02 14:09:03,734] - pyflex - INFO: Calculating envelope of synthetics.\n",
      "[2022-03-02 14:09:03,735] - pyflex - INFO: Calculating STA/LTA.\n",
      "[2022-03-02 14:09:03,736] - pyflex - INFO: Initial window selection yielded 2 possible windows.\n",
      "[2022-03-02 14:09:03,736] - pyflex - INFO: Rejection based on travel times retained 2 windows.\n",
      "[2022-03-02 14:09:03,737] - pyflex - INFO: Global SNR checks passed. Integrated SNR: 264017440516.493011, Amplitude SNR: 1258959.382416\n",
      "[2022-03-02 14:09:03,737] - pyflex - INFO: Rejection based on minimum window length retained 2 windows.\n",
      "[2022-03-02 14:09:03,738] - pyflex - INFO: Water level rejection retained 1 windows\n",
      "[2022-03-02 14:09:03,738] - pyflex - INFO: Single phase group rejection retained 1 windows\n",
      "[2022-03-02 14:09:03,738] - pyflex - INFO: Removing duplicates retains 1 windows.\n",
      "[2022-03-02 14:09:03,739] - pyflex - INFO: Rejection based on minimum window length retained 1 windows.\n",
      "[2022-03-02 14:09:03,739] - pyflex - INFO: SN amplitude ratio window rejection retained 1 windows\n",
      "[2022-03-02 14:09:03,743] - pyflex - INFO: Rejection based on data fit criteria retained 1 windows.\n",
      "[2022-03-02 14:09:03,744] - pyflex - INFO: Weighted interval schedule optimization retained 1 windows.\n",
      "[2022-03-02 14:09:03,875] - pyflex - INFO: Calculated travel times.\n",
      "[2022-03-02 14:09:03,876] - pyflex - INFO: Calculating envelope of synthetics.\n",
      "[2022-03-02 14:09:03,877] - pyflex - INFO: Calculating STA/LTA.\n",
      "[2022-03-02 14:09:03,878] - pyflex - INFO: Initial window selection yielded 10 possible windows.\n",
      "[2022-03-02 14:09:03,878] - pyflex - INFO: Rejection based on travel times retained 10 windows.\n",
      "[2022-03-02 14:09:03,879] - pyflex - INFO: Global SNR checks passed. Integrated SNR: 77923017814.226379, Amplitude SNR: 910031.449339\n",
      "[2022-03-02 14:09:03,879] - pyflex - INFO: Rejection based on minimum window length retained 10 windows.\n",
      "[2022-03-02 14:09:03,879] - pyflex - INFO: Water level rejection retained 4 windows\n",
      "[2022-03-02 14:09:03,880] - pyflex - INFO: Single phase group rejection retained 4 windows\n",
      "[2022-03-02 14:09:03,880] - pyflex - INFO: Removing duplicates retains 3 windows.\n",
      "[2022-03-02 14:09:03,880] - pyflex - INFO: Rejection based on minimum window length retained 3 windows.\n",
      "[2022-03-02 14:09:03,881] - pyflex - INFO: SN amplitude ratio window rejection retained 3 windows\n",
      "[2022-03-02 14:09:03,884] - pyflex - DEBUG: Window rejected due to CC value: 0.635155\n",
      "[2022-03-02 14:09:03,885] - pyflex - INFO: Rejection based on data fit criteria retained 2 windows.\n",
      "[2022-03-02 14:09:03,885] - pyflex - INFO: Weighted interval schedule optimization retained 1 windows.\n",
      "[2022-03-02 14:09:04,013] - pyflex - INFO: Calculated travel times.\n",
      "[2022-03-02 14:09:04,014] - pyflex - INFO: Calculating envelope of synthetics.\n",
      "[2022-03-02 14:09:04,015] - pyflex - INFO: Calculating STA/LTA.\n",
      "[2022-03-02 14:09:04,016] - pyflex - INFO: Initial window selection yielded 10 possible windows.\n",
      "[2022-03-02 14:09:04,016] - pyflex - INFO: Rejection based on travel times retained 10 windows.\n",
      "[2022-03-02 14:09:04,017] - pyflex - INFO: Global SNR checks passed. Integrated SNR: 13630877755876006.000000, Amplitude SNR: 439117916.987834\n",
      "[2022-03-02 14:09:04,017] - pyflex - INFO: Rejection based on minimum window length retained 9 windows.\n",
      "[2022-03-02 14:09:04,018] - pyflex - INFO: Water level rejection retained 3 windows\n",
      "[2022-03-02 14:09:04,018] - pyflex - INFO: Single phase group rejection retained 3 windows\n",
      "[2022-03-02 14:09:04,018] - pyflex - INFO: Removing duplicates retains 2 windows.\n",
      "[2022-03-02 14:09:04,019] - pyflex - INFO: Rejection based on minimum window length retained 2 windows.\n",
      "[2022-03-02 14:09:04,019] - pyflex - INFO: SN amplitude ratio window rejection retained 2 windows\n",
      "[2022-03-02 14:09:04,026] - pyflex - INFO: Rejection based on data fit criteria retained 2 windows.\n",
      "[2022-03-02 14:09:04,026] - pyflex - INFO: Weighted interval schedule optimization retained 1 windows.\n",
      "[2022-03-02 14:09:05,248] - pyflex - INFO: Calculated travel times.\n",
      "[2022-03-02 14:09:05,248] - pyflex - INFO: Calculating envelope of synthetics.\n",
      "[2022-03-02 14:09:05,249] - pyflex - INFO: Calculating STA/LTA.\n",
      "[2022-03-02 14:09:06,410] - pyflex - INFO: Calculated travel times.\n",
      "[2022-03-02 14:09:06,411] - pyflex - INFO: Calculating envelope of synthetics.\n",
      "[2022-03-02 14:09:06,412] - pyflex - INFO: Calculating STA/LTA.\n",
      "[2022-03-02 14:09:06,413] - pyflex - INFO: Initial window selection yielded 13 possible windows.\n",
      "[2022-03-02 14:09:06,413] - pyflex - INFO: Rejection based on travel times retained 13 windows.\n",
      "[2022-03-02 14:09:06,414] - pyflex - INFO: Global SNR checks passed. Integrated SNR: 23466401785.970848, Amplitude SNR: 384703.121688\n",
      "[2022-03-02 14:09:06,414] - pyflex - INFO: Rejection based on minimum window length retained 13 windows.\n",
      "[2022-03-02 14:09:06,414] - pyflex - INFO: Water level rejection retained 4 windows\n",
      "[2022-03-02 14:09:06,415] - pyflex - INFO: Single phase group rejection retained 4 windows\n",
      "[2022-03-02 14:09:06,415] - pyflex - INFO: Removing duplicates retains 3 windows.\n",
      "[2022-03-02 14:09:06,416] - pyflex - INFO: Rejection based on minimum window length retained 3 windows.\n",
      "[2022-03-02 14:09:06,416] - pyflex - INFO: SN amplitude ratio window rejection retained 3 windows\n",
      "[2022-03-02 14:09:06,422] - pyflex - DEBUG: Window rejected due to CC value: 0.675487\n",
      "[2022-03-02 14:09:06,423] - pyflex - INFO: Rejection based on data fit criteria retained 2 windows.\n",
      "[2022-03-02 14:09:06,423] - pyflex - INFO: Weighted interval schedule optimization retained 1 windows.\n",
      "[2022-03-02 14:09:06,595] - pyflex - INFO: Calculated travel times.\n",
      "[2022-03-02 14:09:06,596] - pyflex - INFO: Calculating envelope of synthetics.\n",
      "[2022-03-02 14:09:06,597] - pyflex - INFO: Calculating STA/LTA.\n",
      "[2022-03-02 14:09:06,598] - pyflex - INFO: Initial window selection yielded 10 possible windows.\n",
      "[2022-03-02 14:09:06,598] - pyflex - INFO: Rejection based on travel times retained 10 windows.\n",
      "[2022-03-02 14:09:06,599] - pyflex - INFO: Global SNR checks passed. Integrated SNR: 31526068792.362656, Amplitude SNR: 495295.417951\n",
      "[2022-03-02 14:09:06,599] - pyflex - INFO: Rejection based on minimum window length retained 10 windows.\n",
      "[2022-03-02 14:09:06,599] - pyflex - INFO: Water level rejection retained 4 windows\n",
      "[2022-03-02 14:09:06,600] - pyflex - INFO: Single phase group rejection retained 4 windows\n",
      "[2022-03-02 14:09:06,600] - pyflex - INFO: Removing duplicates retains 3 windows.\n",
      "[2022-03-02 14:09:06,600] - pyflex - INFO: Rejection based on minimum window length retained 3 windows.\n",
      "[2022-03-02 14:09:06,601] - pyflex - INFO: SN amplitude ratio window rejection retained 3 windows\n",
      "[2022-03-02 14:09:06,605] - pyflex - INFO: Rejection based on data fit criteria retained 3 windows.\n",
      "[2022-03-02 14:09:06,606] - pyflex - INFO: Weighted interval schedule optimization retained 1 windows.\n",
      "[2022-03-02 14:09:06,775] - pyflex - INFO: Calculated travel times.\n",
      "[2022-03-02 14:09:06,776] - pyflex - INFO: Calculating envelope of synthetics.\n",
      "[2022-03-02 14:09:06,777] - pyflex - INFO: Calculating STA/LTA.\n",
      "[2022-03-02 14:09:06,778] - pyflex - INFO: Initial window selection yielded 10 possible windows.\n",
      "[2022-03-02 14:09:06,779] - pyflex - INFO: Rejection based on travel times retained 10 windows.\n",
      "[2022-03-02 14:09:06,779] - pyflex - INFO: Global SNR checks passed. Integrated SNR: 26562645048.905380, Amplitude SNR: 378503.886560\n",
      "[2022-03-02 14:09:06,779] - pyflex - INFO: Rejection based on minimum window length retained 9 windows.\n",
      "[2022-03-02 14:09:06,780] - pyflex - INFO: Water level rejection retained 3 windows\n",
      "[2022-03-02 14:09:06,780] - pyflex - INFO: Single phase group rejection retained 3 windows\n",
      "[2022-03-02 14:09:06,781] - pyflex - INFO: Removing duplicates retains 2 windows.\n",
      "[2022-03-02 14:09:06,781] - pyflex - INFO: Rejection based on minimum window length retained 2 windows.\n",
      "[2022-03-02 14:09:06,781] - pyflex - INFO: SN amplitude ratio window rejection retained 2 windows\n",
      "[2022-03-02 14:09:06,791] - pyflex - INFO: Rejection based on data fit criteria retained 2 windows.\n",
      "[2022-03-02 14:09:06,791] - pyflex - INFO: Weighted interval schedule optimization retained 1 windows.\n",
      "[2022-03-02 14:09:08,021] - pyflex - INFO: Calculated travel times.\n",
      "[2022-03-02 14:09:08,022] - pyflex - INFO: Calculating envelope of synthetics.\n",
      "[2022-03-02 14:09:08,023] - pyflex - INFO: Calculating STA/LTA.\n",
      "[2022-03-02 14:09:08,024] - pyflex - INFO: Initial window selection yielded 22 possible windows.\n",
      "[2022-03-02 14:09:08,025] - pyflex - INFO: Rejection based on travel times retained 22 windows.\n",
      "[2022-03-02 14:09:08,025] - pyflex - INFO: Global SNR checks passed. Integrated SNR: 28382657308.924114, Amplitude SNR: 494242.727553\n",
      "[2022-03-02 14:09:08,026] - pyflex - INFO: Rejection based on minimum window length retained 20 windows.\n",
      "[2022-03-02 14:09:08,026] - pyflex - INFO: Water level rejection retained 8 windows\n",
      "[2022-03-02 14:09:08,026] - pyflex - INFO: Single phase group rejection retained 8 windows\n",
      "[2022-03-02 14:09:08,027] - pyflex - INFO: Removing duplicates retains 4 windows.\n",
      "[2022-03-02 14:09:08,027] - pyflex - INFO: Rejection based on minimum window length retained 4 windows.\n",
      "[2022-03-02 14:09:08,028] - pyflex - INFO: SN amplitude ratio window rejection retained 4 windows\n",
      "[2022-03-02 14:09:08,037] - pyflex - INFO: Rejection based on data fit criteria retained 4 windows.\n",
      "[2022-03-02 14:09:08,037] - pyflex - INFO: Weighted interval schedule optimization retained 1 windows.\n",
      "[2022-03-02 14:09:08,173] - pyflex - INFO: Calculated travel times.\n",
      "[2022-03-02 14:09:08,173] - pyflex - INFO: Calculating envelope of synthetics.\n",
      "[2022-03-02 14:09:08,174] - pyflex - INFO: Calculating STA/LTA.\n",
      "[2022-03-02 14:09:08,175] - pyflex - INFO: Initial window selection yielded 10 possible windows.\n",
      "[2022-03-02 14:09:08,176] - pyflex - INFO: Rejection based on travel times retained 10 windows.\n",
      "[2022-03-02 14:09:08,176] - pyflex - INFO: Global SNR checks passed. Integrated SNR: 60358322015.940735, Amplitude SNR: 576780.923206\n",
      "[2022-03-02 14:09:08,177] - pyflex - INFO: Rejection based on minimum window length retained 9 windows.\n",
      "[2022-03-02 14:09:08,177] - pyflex - INFO: Water level rejection retained 3 windows\n",
      "[2022-03-02 14:09:08,177] - pyflex - INFO: Single phase group rejection retained 3 windows\n",
      "[2022-03-02 14:09:08,178] - pyflex - INFO: Removing duplicates retains 2 windows.\n",
      "[2022-03-02 14:09:08,178] - pyflex - INFO: Rejection based on minimum window length retained 2 windows.\n",
      "[2022-03-02 14:09:08,178] - pyflex - INFO: SN amplitude ratio window rejection retained 2 windows\n",
      "[2022-03-02 14:09:08,182] - pyflex - DEBUG: Window rejected due to amplitude fit: 3.871042\n",
      "[2022-03-02 14:09:08,183] - pyflex - DEBUG: Window rejected due to amplitude fit: 3.793857\n",
      "[2022-03-02 14:09:08,183] - pyflex - INFO: Rejection based on data fit criteria retained 0 windows.\n",
      "[2022-03-02 14:09:08,183] - pyflex - INFO: Weighted interval schedule optimization retained 0 windows.\n",
      "[2022-03-02 14:09:08,320] - pyflex - INFO: Calculated travel times.\n",
      "[2022-03-02 14:09:08,321] - pyflex - INFO: Calculating envelope of synthetics.\n",
      "[2022-03-02 14:09:08,322] - pyflex - INFO: Calculating STA/LTA.\n",
      "[2022-03-02 14:09:08,323] - pyflex - INFO: Initial window selection yielded 10 possible windows.\n",
      "[2022-03-02 14:09:08,324] - pyflex - INFO: Rejection based on travel times retained 10 windows.\n",
      "[2022-03-02 14:09:08,324] - pyflex - INFO: Global SNR checks passed. Integrated SNR: 4763134899.314076, Amplitude SNR: 166126.234705\n",
      "[2022-03-02 14:09:08,325] - pyflex - INFO: Rejection based on minimum window length retained 9 windows.\n",
      "[2022-03-02 14:09:08,325] - pyflex - INFO: Water level rejection retained 3 windows\n",
      "[2022-03-02 14:09:08,325] - pyflex - INFO: Single phase group rejection retained 3 windows\n",
      "[2022-03-02 14:09:08,326] - pyflex - INFO: Removing duplicates retains 2 windows.\n",
      "[2022-03-02 14:09:08,326] - pyflex - INFO: Rejection based on minimum window length retained 2 windows.\n",
      "[2022-03-02 14:09:08,326] - pyflex - INFO: SN amplitude ratio window rejection retained 2 windows\n",
      "[2022-03-02 14:09:08,333] - pyflex - INFO: Rejection based on data fit criteria retained 2 windows.\n",
      "[2022-03-02 14:09:08,334] - pyflex - INFO: Weighted interval schedule optimization retained 1 windows.\n"
     ]
    },
    {
     "ename": "IndexError",
     "evalue": "list index out of range",
     "output_type": "error",
     "traceback": [
      "\u001b[0;31m---------------------------------------------------------------------------\u001b[0m",
      "\u001b[0;31m_RemoteTraceback\u001b[0m                          Traceback (most recent call last)",
      "\u001b[0;31m_RemoteTraceback\u001b[0m: \n\"\"\"\nTraceback (most recent call last):\n  File \"/home/bchow/miniconda3/envs/docs/lib/python3.7/concurrent/futures/process.py\", line 239, in _process_worker\n    r = call_item.fn(*call_item.args, **call_item.kwargs)\n  File \"/home/bchow/miniconda3/envs/docs/lib/python3.7/concurrent/futures/process.py\", line 198, in _process_chunk\n    return [fn(*args) for args in chunk]\n  File \"/home/bchow/miniconda3/envs/docs/lib/python3.7/concurrent/futures/process.py\", line 198, in <listcomp>\n    return [fn(*args) for args in chunk]\n  File \"/home/bchow/REPOSITORIES/pyatoa/pyatoa/core/pyaflowa.py\", line 420, in _process_event_multiprocess_true\n    return self.process_event(*args, **kwargs, multiprocess=True)\n  File \"/home/bchow/REPOSITORIES/pyatoa/pyatoa/core/pyaflowa.py\", line 407, in process_event\n    io=io, **kwargs)\n  File \"/home/bchow/REPOSITORIES/pyatoa/pyatoa/core/pyaflowa.py\", line 625, in process_station\n    mgmt.plot(corners=self.map_corners, show=False, save=save)\n  File \"/home/bchow/REPOSITORIES/pyatoa/pyatoa/core/manager.py\", line 1078, in plot\n    mp.plot(corners=corners, show=show, save=save, **kwargs)\n  File \"/home/bchow/REPOSITORIES/pyatoa/pyatoa/visuals/mgmt_plot.py\", line 149, in plot\n    **kwargs)\n  File \"/home/bchow/REPOSITORIES/pyatoa/pyatoa/visuals/wave_maker.py\", line 533, in plot\n    syn = self.st_syn.select(component=comp)[0]\n  File \"/home/bchow/miniconda3/envs/docs/lib/python3.7/site-packages/obspy/core/stream.py\", line 649, in __getitem__\n    return self.traces.__getitem__(index)\nIndexError: list index out of range\n\"\"\"",
      "\nThe above exception was the direct cause of the following exception:\n",
      "\u001b[0;31mIndexError\u001b[0m                                Traceback (most recent call last)",
      "\u001b[0;32m/tmp/ipykernel_78179/2476287388.py\u001b[0m in \u001b[0;36m<module>\u001b[0;34m\u001b[0m\n\u001b[1;32m      1\u001b[0m \u001b[0;31m# Now, all we need to do to invoke multiprocessing is input a list of source names to the run function\u001b[0m\u001b[0;34m\u001b[0m\u001b[0;34m\u001b[0m\u001b[0;34m\u001b[0m\u001b[0m\n\u001b[0;32m----> 2\u001b[0;31m \u001b[0mpf\u001b[0m\u001b[0;34m.\u001b[0m\u001b[0mmulti_event_process\u001b[0m\u001b[0;34m(\u001b[0m\u001b[0msource_names\u001b[0m\u001b[0;34m=\u001b[0m\u001b[0;34m[\u001b[0m\u001b[0;34m\"2018p130600\"\u001b[0m\u001b[0;34m,\u001b[0m \u001b[0;34m\"2012p242656\"\u001b[0m\u001b[0;34m]\u001b[0m\u001b[0;34m,\u001b[0m \u001b[0mcha\u001b[0m\u001b[0;34m=\u001b[0m\u001b[0;34m\"HH?\"\u001b[0m\u001b[0;34m,\u001b[0m \u001b[0mloc\u001b[0m\u001b[0;34m=\u001b[0m\u001b[0;34m\"*\"\u001b[0m\u001b[0;34m)\u001b[0m\u001b[0;34m\u001b[0m\u001b[0;34m\u001b[0m\u001b[0m\n\u001b[0m",
      "\u001b[0;32m~/REPOSITORIES/pyatoa/pyatoa/core/pyaflowa.py\u001b[0m in \u001b[0;36mmulti_event_process\u001b[0;34m(self, source_names, max_workers, **kwargs)\u001b[0m\n\u001b[1;32m    441\u001b[0m                     \u001b[0msource_names\u001b[0m\u001b[0;34m,\u001b[0m\u001b[0;34m\u001b[0m\u001b[0;34m\u001b[0m\u001b[0m\n\u001b[1;32m    442\u001b[0m                     executor.map(self._process_event_multiprocess_true,\n\u001b[0;32m--> 443\u001b[0;31m                                  source_names)\n\u001b[0m\u001b[1;32m    444\u001b[0m                     ):\n\u001b[1;32m    445\u001b[0m                 \u001b[0mmisfits\u001b[0m\u001b[0;34m[\u001b[0m\u001b[0mos\u001b[0m\u001b[0;34m.\u001b[0m\u001b[0mpath\u001b[0m\u001b[0;34m.\u001b[0m\u001b[0mbasename\u001b[0m\u001b[0;34m(\u001b[0m\u001b[0msource_name\u001b[0m\u001b[0;34m)\u001b[0m\u001b[0;34m]\u001b[0m \u001b[0;34m=\u001b[0m \u001b[0mmisfit\u001b[0m\u001b[0;34m\u001b[0m\u001b[0;34m\u001b[0m\u001b[0m\n",
      "\u001b[0;32m~/miniconda3/envs/docs/lib/python3.7/concurrent/futures/process.py\u001b[0m in \u001b[0;36m_chain_from_iterable_of_lists\u001b[0;34m(iterable)\u001b[0m\n\u001b[1;32m    481\u001b[0m     \u001b[0mcareful\u001b[0m \u001b[0;32mnot\u001b[0m \u001b[0mto\u001b[0m \u001b[0mkeep\u001b[0m \u001b[0mreferences\u001b[0m \u001b[0mto\u001b[0m \u001b[0myielded\u001b[0m \u001b[0mobjects\u001b[0m\u001b[0;34m.\u001b[0m\u001b[0;34m\u001b[0m\u001b[0;34m\u001b[0m\u001b[0m\n\u001b[1;32m    482\u001b[0m     \"\"\"\n\u001b[0;32m--> 483\u001b[0;31m     \u001b[0;32mfor\u001b[0m \u001b[0melement\u001b[0m \u001b[0;32min\u001b[0m \u001b[0miterable\u001b[0m\u001b[0;34m:\u001b[0m\u001b[0;34m\u001b[0m\u001b[0;34m\u001b[0m\u001b[0m\n\u001b[0m\u001b[1;32m    484\u001b[0m         \u001b[0melement\u001b[0m\u001b[0;34m.\u001b[0m\u001b[0mreverse\u001b[0m\u001b[0;34m(\u001b[0m\u001b[0;34m)\u001b[0m\u001b[0;34m\u001b[0m\u001b[0;34m\u001b[0m\u001b[0m\n\u001b[1;32m    485\u001b[0m         \u001b[0;32mwhile\u001b[0m \u001b[0melement\u001b[0m\u001b[0;34m:\u001b[0m\u001b[0;34m\u001b[0m\u001b[0;34m\u001b[0m\u001b[0m\n",
      "\u001b[0;32m~/miniconda3/envs/docs/lib/python3.7/concurrent/futures/_base.py\u001b[0m in \u001b[0;36mresult_iterator\u001b[0;34m()\u001b[0m\n\u001b[1;32m    596\u001b[0m                     \u001b[0;31m# Careful not to keep a reference to the popped future\u001b[0m\u001b[0;34m\u001b[0m\u001b[0;34m\u001b[0m\u001b[0;34m\u001b[0m\u001b[0m\n\u001b[1;32m    597\u001b[0m                     \u001b[0;32mif\u001b[0m \u001b[0mtimeout\u001b[0m \u001b[0;32mis\u001b[0m \u001b[0;32mNone\u001b[0m\u001b[0;34m:\u001b[0m\u001b[0;34m\u001b[0m\u001b[0;34m\u001b[0m\u001b[0m\n\u001b[0;32m--> 598\u001b[0;31m                         \u001b[0;32myield\u001b[0m \u001b[0mfs\u001b[0m\u001b[0;34m.\u001b[0m\u001b[0mpop\u001b[0m\u001b[0;34m(\u001b[0m\u001b[0;34m)\u001b[0m\u001b[0;34m.\u001b[0m\u001b[0mresult\u001b[0m\u001b[0;34m(\u001b[0m\u001b[0;34m)\u001b[0m\u001b[0;34m\u001b[0m\u001b[0;34m\u001b[0m\u001b[0m\n\u001b[0m\u001b[1;32m    599\u001b[0m                     \u001b[0;32melse\u001b[0m\u001b[0;34m:\u001b[0m\u001b[0;34m\u001b[0m\u001b[0;34m\u001b[0m\u001b[0m\n\u001b[1;32m    600\u001b[0m                         \u001b[0;32myield\u001b[0m \u001b[0mfs\u001b[0m\u001b[0;34m.\u001b[0m\u001b[0mpop\u001b[0m\u001b[0;34m(\u001b[0m\u001b[0;34m)\u001b[0m\u001b[0;34m.\u001b[0m\u001b[0mresult\u001b[0m\u001b[0;34m(\u001b[0m\u001b[0mend_time\u001b[0m \u001b[0;34m-\u001b[0m \u001b[0mtime\u001b[0m\u001b[0;34m.\u001b[0m\u001b[0mmonotonic\u001b[0m\u001b[0;34m(\u001b[0m\u001b[0;34m)\u001b[0m\u001b[0;34m)\u001b[0m\u001b[0;34m\u001b[0m\u001b[0;34m\u001b[0m\u001b[0m\n",
      "\u001b[0;32m~/miniconda3/envs/docs/lib/python3.7/concurrent/futures/_base.py\u001b[0m in \u001b[0;36mresult\u001b[0;34m(self, timeout)\u001b[0m\n\u001b[1;32m    426\u001b[0m                 \u001b[0;32mraise\u001b[0m \u001b[0mCancelledError\u001b[0m\u001b[0;34m(\u001b[0m\u001b[0;34m)\u001b[0m\u001b[0;34m\u001b[0m\u001b[0;34m\u001b[0m\u001b[0m\n\u001b[1;32m    427\u001b[0m             \u001b[0;32melif\u001b[0m \u001b[0mself\u001b[0m\u001b[0;34m.\u001b[0m\u001b[0m_state\u001b[0m \u001b[0;34m==\u001b[0m \u001b[0mFINISHED\u001b[0m\u001b[0;34m:\u001b[0m\u001b[0;34m\u001b[0m\u001b[0;34m\u001b[0m\u001b[0m\n\u001b[0;32m--> 428\u001b[0;31m                 \u001b[0;32mreturn\u001b[0m \u001b[0mself\u001b[0m\u001b[0;34m.\u001b[0m\u001b[0m__get_result\u001b[0m\u001b[0;34m(\u001b[0m\u001b[0;34m)\u001b[0m\u001b[0;34m\u001b[0m\u001b[0;34m\u001b[0m\u001b[0m\n\u001b[0m\u001b[1;32m    429\u001b[0m \u001b[0;34m\u001b[0m\u001b[0m\n\u001b[1;32m    430\u001b[0m             \u001b[0mself\u001b[0m\u001b[0;34m.\u001b[0m\u001b[0m_condition\u001b[0m\u001b[0;34m.\u001b[0m\u001b[0mwait\u001b[0m\u001b[0;34m(\u001b[0m\u001b[0mtimeout\u001b[0m\u001b[0;34m)\u001b[0m\u001b[0;34m\u001b[0m\u001b[0;34m\u001b[0m\u001b[0m\n",
      "\u001b[0;32m~/miniconda3/envs/docs/lib/python3.7/concurrent/futures/_base.py\u001b[0m in \u001b[0;36m__get_result\u001b[0;34m(self)\u001b[0m\n\u001b[1;32m    382\u001b[0m     \u001b[0;32mdef\u001b[0m \u001b[0m__get_result\u001b[0m\u001b[0;34m(\u001b[0m\u001b[0mself\u001b[0m\u001b[0;34m)\u001b[0m\u001b[0;34m:\u001b[0m\u001b[0;34m\u001b[0m\u001b[0;34m\u001b[0m\u001b[0m\n\u001b[1;32m    383\u001b[0m         \u001b[0;32mif\u001b[0m \u001b[0mself\u001b[0m\u001b[0;34m.\u001b[0m\u001b[0m_exception\u001b[0m\u001b[0;34m:\u001b[0m\u001b[0;34m\u001b[0m\u001b[0;34m\u001b[0m\u001b[0m\n\u001b[0;32m--> 384\u001b[0;31m             \u001b[0;32mraise\u001b[0m \u001b[0mself\u001b[0m\u001b[0;34m.\u001b[0m\u001b[0m_exception\u001b[0m\u001b[0;34m\u001b[0m\u001b[0;34m\u001b[0m\u001b[0m\n\u001b[0m\u001b[1;32m    385\u001b[0m         \u001b[0;32melse\u001b[0m\u001b[0;34m:\u001b[0m\u001b[0;34m\u001b[0m\u001b[0;34m\u001b[0m\u001b[0m\n\u001b[1;32m    386\u001b[0m             \u001b[0;32mreturn\u001b[0m \u001b[0mself\u001b[0m\u001b[0;34m.\u001b[0m\u001b[0m_result\u001b[0m\u001b[0;34m\u001b[0m\u001b[0;34m\u001b[0m\u001b[0m\n",
      "\u001b[0;31mIndexError\u001b[0m: list index out of range"
     ]
    }
   ],
   "source": [
    "# Now, all we need to do to invoke multiprocessing is input a list of source names to the run function\n",
    "pf.multi_event_process(source_names=[\"2018p130600\", \"2012p242656\"], cha=\"HH?\", loc=\"*\")"
   ]
  },
  {
   "cell_type": "markdown",
   "id": "d2ee7925",
   "metadata": {},
   "source": [
    "Unfortunately I don't think it's possible to run parallel tasks in a Jupyter notebook and I'm not prepared to put in the effort to figure out how to do this, so I hope you can take my word for it that this simply executes two parallel processing steps using the concurrent.futures multiprocessing machinery. neat!\n",
    "___"
   ]
  },
  {
   "cell_type": "markdown",
   "id": "a5ac25bc",
   "metadata": {},
   "source": [
    "## Automating earthquake-based FWT with Pyaflowa and SeisFlows3\n",
    "\n",
    "Earthquake-based full waveform tomography (FWT) is a complicated procedure involving performing data-synthetic comparisons for large numbers of source-receiver pairs. This is ideally done in parallel as this processing step is (mostly) identical and independent for each source-receiver pair. \n",
    "\n",
    "There are many available workflow tools for automating FWT, but here we show the combination of `Pyatoa` and [SeisFlows3](https://github.com/bch0w/seisflows3), a Python-based workflow tool for automating full waveform tomography, adjoint tomography, or full waveform inversion (FWI) on a variety of compute systems.\n",
    "\n",
    "`Pyaflowa` has already been implemented as a [SeisFlows3 preprocess module](https://github.com/bch0w/seisflows3/blob/master/seisflows3/preprocess/pyatoa.py). You can see Pyaflowa being called in the function [seisflows3.preprocess.prepare_eval_grad()](https://github.com/bch0w/seisflows3/blob/master/seisflows3/preprocess/pyatoa.py#L162). You can see that all of the complexity of Pyatoa is contained within itself, such that SeisFlows3 only needs to make essentially two calls to unleash all of the power of Pyatoa.\n",
    "\n",
    "In order to interact with `Pyaflowa` during a SeisFlows3 inversion, the user edits the [SeisFlows3 parameters.yaml file](https://github.com/bch0w/pyatoa/blob/master/pyatoa/tests/test_data/test_seisflows_parameters.yaml). Since we cannot run SeisFlows3 within this jupyter notebook (yet), we will simply invoke some of the SeisFlows specific calls in Pyaflowa to investigate what is going on inside the black box. \n",
    "\n",
    "Let's start by implement Pyaflowa in the same fashion that the [SeisFlows3 preprocess module does](https://github.com/bch0w/seisflows3/blob/master/seisflows3/preprocess/pyatoa.py#L180). The following cell defines two functions that are slightly modified from SeisFlows3 to allow us to interact with some SeisFlows3 objects without having to invoke the entire package"
   ]
  },
  {
   "cell_type": "code",
   "execution_count": 28,
   "id": "05f02943",
   "metadata": {
    "execution": {
     "iopub.execute_input": "2022-03-02T23:09:09.260056Z",
     "iopub.status.busy": "2022-03-02T23:09:09.254976Z",
     "iopub.status.idle": "2022-03-02T23:09:09.261015Z",
     "shell.execute_reply": "2022-03-02T23:09:09.261213Z"
    }
   },
   "outputs": [],
   "source": [
    "import re, yaml\n",
    "\n",
    "class Dict(object):\n",
    "    \"\"\"\n",
    "    At runtime, SeisFlows defines its parameters as Dict objects, \n",
    "    Re-defined dictionary-like object for holding parameters or paths\n",
    "    Allows for easier access of dictionary items, does not allow resets of\n",
    "    attributes once defined, only allows updates through new dictionaries.\n",
    "    \"\"\"\n",
    "    def __iter__(self):\n",
    "        return iter(sorted(self.__dict__.keys()))\n",
    "\n",
    "    def __getattr__(self, key):\n",
    "        return self.__dict__[key]\n",
    "\n",
    "    def __getitem__(self, key):\n",
    "        return self.__dict__[key]\n",
    "\n",
    "    def __setattr__(self, key, val):\n",
    "        if key in self.__dict__:\n",
    "            raise TypeError(\"Once defined, parameters cannot be changed.\")\n",
    "        self.__dict__[key] = val\n",
    "\n",
    "    def __delattr__(self, key):\n",
    "        if key in self.__dict__:\n",
    "            raise TypeError(\"Once defined, parameters cannot be deleted.\")\n",
    "        raise KeyError\n",
    "\n",
    "    def update(self, newdict):\n",
    "        super(Dict, self).__setattr__('__dict__', newdict)\n",
    "\n",
    "    def __init__(self, newdict):\n",
    "        self.update(newdict)\n",
    "    \n",
    "    def __str__(self):\n",
    "        \"\"\"\n",
    "        Pretty print dictionaries and first level nested dictionaries\n",
    "        \"\"\"\n",
    "        str_ = \"{\"\n",
    "        for key, item in vars(self).items():\n",
    "            if isinstance(item, str):\n",
    "                str_ += f\"{key}: '{item}'\\n\"\n",
    "            elif isinstance(item, dict):\n",
    "                str_ += key + \": {\\n\"\n",
    "                for key2, item2 in vars(self)[key].items():\n",
    "                    if isinstance(item2, str):\n",
    "                        str_ += f\"\\t{key2}: '{item2}'\\n\"\n",
    "                    else:\n",
    "                        str_ += f\"\\t{key2}: {item2}\\n\"\n",
    "                str_ += \"}\\n\"\n",
    "            else:\n",
    "                str_ += f\"{key}: {item}\\n\"\n",
    "        str_ += \"}\"\n",
    "        return str_\n",
    "    \n",
    "    \n",
    "def loadyaml(filename):\n",
    "    \"\"\"\n",
    "    Define how the PyYaml yaml loading function behaves. \n",
    "    Replaces None and inf strings with NoneType and numpy.inf respectively\n",
    "    \n",
    "    :type filename: str\n",
    "    :param filename: .yaml file to load in\n",
    "    \"\"\"\n",
    "    # work around PyYAML bugs\n",
    "    yaml.SafeLoader.add_implicit_resolver(\n",
    "        u'tag:yaml.org,2002:float',\n",
    "        re.compile(u'''^(?:\n",
    "         [-+]?(?:[0-9][0-9_]*)\\\\.[0-9_]*(?:[eE][-+]?[0-9]+)?\n",
    "        |[-+]?(?:[0-9][0-9_]*)(?:[eE][-+]?[0-9]+)\n",
    "        |\\\\.[0-9_]+(?:[eE][-+][0-9]+)?\n",
    "        |[-+]?[0-9][0-9_]*(?::[0-5]?[0-9])+\\\\.[0-9_]*\n",
    "        |[-+]?\\\\.(?:inf|Inf|INF)\n",
    "        |\\\\.(?:nan|NaN|NAN))$''', re.X),\n",
    "        list(u'-+0123456789.'))\n",
    "\n",
    "    with open(filename, 'r') as f:\n",
    "        mydict = yaml.safe_load(f)\n",
    "\n",
    "    if mydict is None:\n",
    "        mydict = dict()\n",
    "\n",
    "    # Replace 'None' and 'inf' values to match expectations\n",
    "    for key, val in mydict.items():\n",
    "        if val == \"None\":\n",
    "            mydict[key] = None\n",
    "        if val == \"inf\":\n",
    "            mydict[key] = np.inf\n",
    "\n",
    "    return mydict"
   ]
  },
  {
   "cell_type": "code",
   "execution_count": 29,
   "id": "ea6c6e2d",
   "metadata": {
    "execution": {
     "iopub.execute_input": "2022-03-02T23:09:09.263332Z",
     "iopub.status.busy": "2022-03-02T23:09:09.263106Z",
     "iopub.status.idle": "2022-03-02T23:09:09.269508Z",
     "shell.execute_reply": "2022-03-02T23:09:09.269302Z"
    }
   },
   "outputs": [
    {
     "ename": "FileNotFoundError",
     "evalue": "[Errno 2] No such file or directory: '../tests/test_data/test_seisflows_parameters.yaml'",
     "output_type": "error",
     "traceback": [
      "\u001b[0;31m---------------------------------------------------------------------------\u001b[0m",
      "\u001b[0;31mFileNotFoundError\u001b[0m                         Traceback (most recent call last)",
      "\u001b[0;32m/tmp/ipykernel_78179/1015256936.py\u001b[0m in \u001b[0;36m<module>\u001b[0;34m\u001b[0m\n\u001b[1;32m      2\u001b[0m \u001b[0;31m# dictionaries that contain all of the necessary user-defined information\u001b[0m\u001b[0;34m\u001b[0m\u001b[0;34m\u001b[0m\u001b[0;34m\u001b[0m\u001b[0m\n\u001b[1;32m      3\u001b[0m \u001b[0;31m# to run an inversion\u001b[0m\u001b[0;34m\u001b[0m\u001b[0;34m\u001b[0m\u001b[0;34m\u001b[0m\u001b[0m\n\u001b[0;32m----> 4\u001b[0;31m \u001b[0mPAR\u001b[0m \u001b[0;34m=\u001b[0m \u001b[0mloadyaml\u001b[0m\u001b[0;34m(\u001b[0m\u001b[0;34m\"../tests/test_data/test_seisflows_parameters.yaml\"\u001b[0m\u001b[0;34m)\u001b[0m\u001b[0;34m\u001b[0m\u001b[0;34m\u001b[0m\u001b[0m\n\u001b[0m\u001b[1;32m      5\u001b[0m \u001b[0mPATH\u001b[0m \u001b[0;34m=\u001b[0m \u001b[0mPAR\u001b[0m\u001b[0;34m[\u001b[0m\u001b[0;34m\"PATHS\"\u001b[0m\u001b[0;34m]\u001b[0m\u001b[0;34m\u001b[0m\u001b[0;34m\u001b[0m\u001b[0m\n\u001b[1;32m      6\u001b[0m \u001b[0mPAR\u001b[0m\u001b[0;34m.\u001b[0m\u001b[0mpop\u001b[0m\u001b[0;34m(\u001b[0m\u001b[0;34m\"PATHS\"\u001b[0m\u001b[0;34m)\u001b[0m\u001b[0;34m\u001b[0m\u001b[0;34m\u001b[0m\u001b[0m\n",
      "\u001b[0;32m/tmp/ipykernel_78179/2408363588.py\u001b[0m in \u001b[0;36mloadyaml\u001b[0;34m(filename)\u001b[0m\n\u001b[1;32m     75\u001b[0m         list(u'-+0123456789.'))\n\u001b[1;32m     76\u001b[0m \u001b[0;34m\u001b[0m\u001b[0m\n\u001b[0;32m---> 77\u001b[0;31m     \u001b[0;32mwith\u001b[0m \u001b[0mopen\u001b[0m\u001b[0;34m(\u001b[0m\u001b[0mfilename\u001b[0m\u001b[0;34m,\u001b[0m \u001b[0;34m'r'\u001b[0m\u001b[0;34m)\u001b[0m \u001b[0;32mas\u001b[0m \u001b[0mf\u001b[0m\u001b[0;34m:\u001b[0m\u001b[0;34m\u001b[0m\u001b[0;34m\u001b[0m\u001b[0m\n\u001b[0m\u001b[1;32m     78\u001b[0m         \u001b[0mmydict\u001b[0m \u001b[0;34m=\u001b[0m \u001b[0myaml\u001b[0m\u001b[0;34m.\u001b[0m\u001b[0msafe_load\u001b[0m\u001b[0;34m(\u001b[0m\u001b[0mf\u001b[0m\u001b[0;34m)\u001b[0m\u001b[0;34m\u001b[0m\u001b[0;34m\u001b[0m\u001b[0m\n\u001b[1;32m     79\u001b[0m \u001b[0;34m\u001b[0m\u001b[0m\n",
      "\u001b[0;31mFileNotFoundError\u001b[0m: [Errno 2] No such file or directory: '../tests/test_data/test_seisflows_parameters.yaml'"
     ]
    }
   ],
   "source": [
    "# Here we instantiate the SeisFlows3 PAR and PATH variables, which are\n",
    "# dictionaries that contain all of the necessary user-defined information\n",
    "# to run an inversion\n",
    "PAR = loadyaml(\"../tests/test_data/test_seisflows_parameters.yaml\")\n",
    "PATH = PAR[\"PATHS\"]\n",
    "PAR.pop(\"PATHS\")"
   ]
  },
  {
   "cell_type": "code",
   "execution_count": 30,
   "id": "366e3357",
   "metadata": {
    "execution": {
     "iopub.execute_input": "2022-03-02T23:09:09.273587Z",
     "iopub.status.busy": "2022-03-02T23:09:09.271151Z",
     "iopub.status.idle": "2022-03-02T23:09:09.275319Z",
     "shell.execute_reply": "2022-03-02T23:09:09.275087Z"
    }
   },
   "outputs": [
    {
     "ename": "NameError",
     "evalue": "name 'PAR' is not defined",
     "output_type": "error",
     "traceback": [
      "\u001b[0;31m---------------------------------------------------------------------------\u001b[0m",
      "\u001b[0;31mNameError\u001b[0m                                 Traceback (most recent call last)",
      "\u001b[0;32m/tmp/ipykernel_78179/2443140216.py\u001b[0m in \u001b[0;36m<module>\u001b[0;34m\u001b[0m\n\u001b[1;32m      1\u001b[0m \u001b[0;31m# Print out the PAR and PATH variables to see what they define\u001b[0m\u001b[0;34m\u001b[0m\u001b[0;34m\u001b[0m\u001b[0;34m\u001b[0m\u001b[0m\n\u001b[0;32m----> 2\u001b[0;31m \u001b[0;32mfor\u001b[0m \u001b[0mp\u001b[0m \u001b[0;32min\u001b[0m \u001b[0;34m[\u001b[0m\u001b[0mPAR\u001b[0m\u001b[0;34m,\u001b[0m \u001b[0mPATH\u001b[0m\u001b[0;34m]\u001b[0m\u001b[0;34m:\u001b[0m\u001b[0;34m\u001b[0m\u001b[0;34m\u001b[0m\u001b[0m\n\u001b[0m\u001b[1;32m      3\u001b[0m     \u001b[0;32mfor\u001b[0m \u001b[0mkey\u001b[0m\u001b[0;34m,\u001b[0m \u001b[0mval\u001b[0m \u001b[0;32min\u001b[0m \u001b[0mp\u001b[0m\u001b[0;34m.\u001b[0m\u001b[0mitems\u001b[0m\u001b[0;34m(\u001b[0m\u001b[0;34m)\u001b[0m\u001b[0;34m:\u001b[0m\u001b[0;34m\u001b[0m\u001b[0;34m\u001b[0m\u001b[0m\n\u001b[1;32m      4\u001b[0m         \u001b[0mprint\u001b[0m\u001b[0;34m(\u001b[0m\u001b[0;34mf\"{key:<15}: {val}\"\u001b[0m\u001b[0;34m)\u001b[0m\u001b[0;34m\u001b[0m\u001b[0;34m\u001b[0m\u001b[0m\n\u001b[1;32m      5\u001b[0m     \u001b[0mprint\u001b[0m\u001b[0;34m(\u001b[0m\u001b[0;34m\"\\n\"\u001b[0m\u001b[0;34m)\u001b[0m\u001b[0;34m\u001b[0m\u001b[0;34m\u001b[0m\u001b[0m\n",
      "\u001b[0;31mNameError\u001b[0m: name 'PAR' is not defined"
     ]
    }
   ],
   "source": [
    "# Print out the PAR and PATH variables to see what they define\n",
    "for p in [PAR, PATH]:\n",
    "    for key, val in p.items():\n",
    "        print(f\"{key:<15}: {val}\")\n",
    "    print(\"\\n\")"
   ]
  },
  {
   "cell_type": "code",
   "execution_count": 31,
   "id": "6b982923",
   "metadata": {
    "execution": {
     "iopub.execute_input": "2022-03-02T23:09:09.276938Z",
     "iopub.status.busy": "2022-03-02T23:09:09.276257Z",
     "iopub.status.idle": "2022-03-02T23:09:09.281011Z",
     "shell.execute_reply": "2022-03-02T23:09:09.280793Z"
    }
   },
   "outputs": [
    {
     "ename": "NameError",
     "evalue": "name 'PATH' is not defined",
     "output_type": "error",
     "traceback": [
      "\u001b[0;31m---------------------------------------------------------------------------\u001b[0m",
      "\u001b[0;31mNameError\u001b[0m                                 Traceback (most recent call last)",
      "\u001b[0;32m/tmp/ipykernel_78179/811192365.py\u001b[0m in \u001b[0;36m<module>\u001b[0;34m\u001b[0m\n\u001b[0;32m----> 1\u001b[0;31m pyaflowa = Pyaflowa(structure=\"seisflows\", sfpaths=PATH, \n\u001b[0m\u001b[1;32m      2\u001b[0m                     sfpar=PAR, iteration=1, step_count=0)\n",
      "\u001b[0;31mNameError\u001b[0m: name 'PATH' is not defined"
     ]
    }
   ],
   "source": [
    "pyaflowa = Pyaflowa(structure=\"seisflows\", sfpaths=PATH, \n",
    "                    sfpar=PAR, iteration=1, step_count=0)"
   ]
  },
  {
   "cell_type": "code",
   "execution_count": null,
   "id": "5311a0db",
   "metadata": {},
   "outputs": [],
   "source": []
  }
 ],
 "metadata": {
  "kernelspec": {
   "display_name": "Python 3 (ipykernel)",
   "language": "python",
   "name": "python3"
  },
  "language_info": {
   "codemirror_mode": {
    "name": "ipython",
    "version": 3
   },
   "file_extension": ".py",
   "mimetype": "text/x-python",
   "name": "python",
   "nbconvert_exporter": "python",
   "pygments_lexer": "ipython3",
   "version": "3.7.12"
  }
 },
 "nbformat": 4,
 "nbformat_minor": 5
}
