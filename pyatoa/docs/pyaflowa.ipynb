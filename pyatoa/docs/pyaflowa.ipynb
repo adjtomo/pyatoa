{
 "cells": [
  {
   "cell_type": "markdown",
   "metadata": {},
   "source": [
    "# Pyaflowa"
   ]
  },
  {
   "cell_type": "raw",
   "metadata": {},
   "source": [
    ":doc:`Pyaflowa </modules/core.pyaflowa` is Pyatoa's workflow management class. It is in charge of facilitating automation of the misfit quantification machinery defined by the Config, Manager and Gatherer classes. Pyaflowa provides a structure to process en-masse waveform data from multiple stations and multiple events using only a few function calls."
   ]
  },
  {
   "cell_type": "markdown",
   "metadata": {},
   "source": [
    "`Pyaflowa` can be used standalone, and also provides the necessary interface to work with SeisFlows3. When used within the SeisFlows3 preprocess module, Pyaflowa reduces the overhead required to include Pyatoa functionality into a SeisFlows3 inversion."
   ]
  },
  {
   "cell_type": "markdown",
   "metadata": {},
   "source": [
    "## Standalone (w/ SPECFEM3D)\n",
    "\n",
    "Let's say you want to run forward and adjoint simulations to generate synthetic seismograms and sensitivity kernels using SPECFEM3D. To make this happen, a user will need some specific pieces that correspond to the problem at hand.\n",
    "\n",
    "* Forward simulations: DATA/CMTSOLUTION, DATA/STATIONS  \n",
    "* Adjoint simulations: DATA/STATIONS_ADJOINT, /sem/\\*.adj \n",
    "\n",
    "We can use `Pyatoa` to prepare the necessary files for SPECFEM3D forward simulatinos, and then use `Pyaflowa` to: 1) compare synthetic seismograms with real data for a number of stations and generate adjoint sources which can be fed directly back into a SPECFEM3D adjoint simulation. \n",
    "\n",
    "### Prep: Generate CMTSOLUTION\n",
    "\n",
    "First we must generate the source file used to represent the moment tensor in our earthquake simulation. In this example, we'll use my favorite New Zealand [example event, 2018p130600](https://www.geonet.org.nz/earthquake/2018p130600), an M5.2 that occurred in the central North Island, New Zealand while I was doing my PhD in Wellington.\n",
    "\n",
    "With `ObsPy` + `Pyatoa` we'll be able to gather this event from FDSN webservices and save the resulting moment tensor and event information to the required [CMTSOLUTION format](https://www.globalcmt.org/CMTsearch.html) expected by SPECFEM3D. "
   ]
  },
  {
   "cell_type": "raw",
   "metadata": {},
   "source": [
    "We will use the Pyatoa function :doc:`append_focal_mechanism </modules/core.gatherer/append_focal_mechanism>`"
   ]
  },
  {
   "cell_type": "code",
   "execution_count": 1,
   "metadata": {
    "execution": {
     "iopub.execute_input": "2022-02-25T19:53:08.558161Z",
     "iopub.status.busy": "2022-02-25T19:53:08.557046Z",
     "iopub.status.idle": "2022-02-25T19:53:12.246848Z",
     "shell.execute_reply": "2022-02-25T19:53:12.245842Z"
    }
   },
   "outputs": [],
   "source": [
    "import os\n",
    "from pyatoa import append_focal_mechanism\n",
    "from obspy.clients.fdsn import Client"
   ]
  },
  {
   "cell_type": "code",
   "execution_count": 3,
   "metadata": {},
   "outputs": [
    {
     "name": "stdout",
     "output_type": "stream",
     "text": [
      "/home/bchow/REPOSITORIES/pyatoa/pyatoa/docs\n",
      "/home/bchow/REPOSITORIES/pyatoa/pyatoa/tests/test_data/docs_data/pyaflowa_doc\n"
     ]
    }
   ],
   "source": [
    "# We will just move to an empty directory for this example problem\n",
    "print(os.getcwd())\n",
    "docs_path = os.path.abspath(\"../tests/test_data/docs_data/pyaflowa_doc\")\n",
    "os.mkdir(docs_path)\n",
    "os.chdir(docs_path)\n",
    "print(os.getcwd())"
   ]
  },
  {
   "cell_type": "code",
   "execution_count": 4,
   "metadata": {
    "execution": {
     "iopub.execute_input": "2022-02-25T19:53:12.259151Z",
     "iopub.status.busy": "2022-02-25T19:53:12.258745Z",
     "iopub.status.idle": "2022-02-25T19:53:14.702153Z",
     "shell.execute_reply": "2022-02-25T19:53:14.701210Z"
    }
   },
   "outputs": [
    {
     "name": "stderr",
     "output_type": "stream",
     "text": [
      "/home/bchow/miniconda3/envs/docs/lib/python3.7/site-packages/obspy/io/cmtsolution/core.py:370: UserWarning: No body wave magnitude found. Will be replaced by the first magnitude in the event object.\n",
      "  warnings.warn(\"No body wave magnitude found. Will be replaced by the \"\n",
      "/home/bchow/miniconda3/envs/docs/lib/python3.7/site-packages/obspy/io/cmtsolution/core.py:376: UserWarning: No surface wave magnitude found. Will be replaced by the first magnitude in the event object.\n",
      "  warnings.warn(\"No surface wave magnitude found. Will be replaced by \"\n",
      "/home/bchow/miniconda3/envs/docs/lib/python3.7/site-packages/obspy/io/cmtsolution/core.py:397: UserWarning: Could not find a centroid origin. Will instead assume that the preferred or first origin is the centroid origin.\n",
      "  warnings.warn(\"Could not find a centroid origin. Will instead \"\n",
      "/home/bchow/miniconda3/envs/docs/lib/python3.7/site-packages/obspy/io/cmtsolution/core.py:410: UserWarning: Hypocentral origin will be identical to the centroid one.\n",
      "  warnings.warn(\"Hypocentral origin will be identical to the \"\n"
     ]
    }
   ],
   "source": [
    "# Using ObsPy's FDSN Client, we can retrieve event information using an event id\n",
    "c = Client(\"GEONET\")\n",
    "cat = c.get_events(eventid=\"2018p130600\")\n",
    "\n",
    "# Using Pyatoa, we can append a focal mechanism from the GeoNet moment tensor catalog\n",
    "cat[0] = append_focal_mechanism(cat[0], client=\"GEONET\")\n",
    "\n",
    "# ObsPy has built in support for writing CMTSOLUTION files expected by SPECFEM3D\n",
    "cat.write(\"CMTSOLUTION\", format=\"CMTSOLUTION\")"
   ]
  },
  {
   "cell_type": "code",
   "execution_count": 5,
   "metadata": {
    "execution": {
     "iopub.execute_input": "2022-02-25T19:53:14.714958Z",
     "iopub.status.busy": "2022-02-25T19:53:14.714694Z",
     "iopub.status.idle": "2022-02-25T19:53:14.831867Z",
     "shell.execute_reply": "2022-02-25T19:53:14.830769Z"
    }
   },
   "outputs": [
    {
     "name": "stdout",
     "output_type": "stream",
     "text": [
      " PDE 2018 02 18 07 43 48.13  -39.9490  176.2995  20.6 5.2 5.2 NORTH ISLAND, NEW ZEALAND\r\n",
      "event name:           103F99\r\n",
      "time shift:           0.0000\r\n",
      "half duration:        0.6989\r\n",
      "latitude:           -39.9490\r\n",
      "longitude:          176.2995\r\n",
      "depth:               20.5946\r\n",
      "Mrr:           -2.479380E+23\r\n",
      "Mtt:            1.314880E+23\r\n",
      "Mpp:            1.164500E+23\r\n",
      "Mrt:            5.032500E+22\r\n",
      "Mrp:            6.607700E+22\r\n",
      "Mtp:            9.359300E+22\r\n"
     ]
    }
   ],
   "source": [
    "# Lets just have a look at the file that's been created, which is a CMTSOLUTION that is ready\n",
    "# to be used in SPECFEM3D\n",
    "!cat \"CMTSOLUTION\""
   ]
  },
  {
   "cell_type": "markdown",
   "metadata": {},
   "source": [
    "### Prep: Generate STATIONS file\n",
    "\n",
    "SPECFEM3D also requires a STATIONS file which defines the locations of receivers for simulation output. \n",
    "As in Step 1 we'll generate a list of stations using `ObsPy` and write them into the required STATIONS file using `Pyatoa` and a corresponding obspy.Inventory object."
   ]
  },
  {
   "cell_type": "code",
   "execution_count": 6,
   "metadata": {
    "execution": {
     "iopub.execute_input": "2022-02-25T19:53:14.840287Z",
     "iopub.status.busy": "2022-02-25T19:53:14.839191Z",
     "iopub.status.idle": "2022-02-25T19:53:14.843979Z",
     "shell.execute_reply": "2022-02-25T19:53:14.843061Z"
    }
   },
   "outputs": [],
   "source": [
    "from pyatoa import write_stations"
   ]
  },
  {
   "cell_type": "code",
   "execution_count": 7,
   "metadata": {
    "execution": {
     "iopub.execute_input": "2022-02-25T19:53:14.851195Z",
     "iopub.status.busy": "2022-02-25T19:53:14.850101Z",
     "iopub.status.idle": "2022-02-25T19:53:15.173383Z",
     "shell.execute_reply": "2022-02-25T19:53:15.172603Z"
    }
   },
   "outputs": [
    {
     "name": "stderr",
     "output_type": "stream",
     "text": [
      "/home/bchow/miniconda3/envs/docs/lib/python3.7/site-packages/obspy/io/stationxml/core.py:98: UserWarning: The StationXML file has version 1, ObsPy can read versions (1.0, 1.1). Proceed with caution.\n",
      "  version, \", \".join(READABLE_VERSIONS)))\n"
     ]
    }
   ],
   "source": [
    "inv = c.get_stations(network=\"NZ\", station=\"??Z\", channel=\"HH?\",\n",
    "                     minlatitude=-41, maxlatitude=-39,\n",
    "                     minlongitude=173, maxlongitude=176)\n",
    "write_stations(inv, fid=\"STATIONS\")"
   ]
  },
  {
   "cell_type": "markdown",
   "metadata": {},
   "source": [
    "> **__NOTE:__**  \n",
    "In the ObsPy function get_stations(), the reasoning behind the following arguments provided:\n",
    "* __network = \"NZ\"__ refers to the code for New Zealand's permament seismic netnwork\n",
    "* __station = \"??Z\"__ means we only want 3 letter station codes that end in Z, which GeoNet usually reserves for broadband seismometers\n",
    "* __channel = \"HH?\"__ refers to a broadband (first 'H') seismometer (second 'H'), for any available component (wildcard '?'), usually N/E/Z. This follows [SEED naming convention](https://ds.iris.edu/ds/nodes/dmc/data/formats/seed-channel-naming/).\n",
    "* This __min__ and __max latitude / longitude__ defines a small region where we want to search for stations"
   ]
  },
  {
   "cell_type": "code",
   "execution_count": 8,
   "metadata": {},
   "outputs": [
    {
     "name": "stdout",
     "output_type": "stream",
     "text": [
      "Inventory created at 2022-02-25T02:50:53.000000Z\n",
      "\tCreated by: Delta\n",
      "\t\t    \n",
      "\tSending institution: GeoNet (WEL(GNS_Test))\n",
      "\tContains:\n",
      "\t\tNetworks (1):\n",
      "\t\t\tNZ\n",
      "\t\tStations (4):\n",
      "\t\t\tNZ.MRZ (Mangatainoka River)\n",
      "\t\t\tNZ.TSZ (Takapari Road)\n",
      "\t\t\tNZ.VRZ (Vera Road)\n",
      "\t\t\tNZ.WAZ (Wanganui)\n",
      "\t\tChannels (0):\n",
      "\n"
     ]
    }
   ],
   "source": [
    "# Let's have a look at the stations we picked up from FDSN\n",
    "print(inv)"
   ]
  },
  {
   "cell_type": "code",
   "execution_count": 9,
   "metadata": {
    "execution": {
     "iopub.execute_input": "2022-02-25T19:53:15.184082Z",
     "iopub.status.busy": "2022-02-25T19:53:15.178966Z",
     "iopub.status.idle": "2022-02-25T19:53:15.301853Z",
     "shell.execute_reply": "2022-02-25T19:53:15.300918Z"
    }
   },
   "outputs": [
    {
     "name": "stdout",
     "output_type": "stream",
     "text": [
      "   MRZ    NZ    -40.6605    175.5785    0.0    0.0\r\n",
      "   TSZ    NZ    -40.0586    175.9611    0.0    0.0\r\n",
      "   VRZ    NZ    -39.1243    174.7585    0.0    0.0\r\n",
      "   WAZ    NZ    -39.7546    174.9855    0.0    0.0\r\n"
     ]
    }
   ],
   "source": [
    "# And lets have a look at the STATIONS file that's been created\n",
    "!cat \"STATIONS\""
   ]
  },
  {
   "cell_type": "markdown",
   "metadata": {},
   "source": [
    "### Forward Simulation: Generate synthetics using SPECFEM3D [external]\n",
    "\n",
    "Unfortunately this cannot be shown in a Jupyter notebook as generating synthetics requires interfacing with the SPECFEM3D code, which usually takes place on a cluster. In this example we assume this step has been completed successfully, with resultant synthetic waveforms produced by SPECFEM3D for the given event and stations defined above. \n",
    "\n",
    "> **__NOTE:__**  \n",
    "Output synthetic seismograms are expected to be formatted as two-column ASCII files, which I have pre-generated for this example. File names follow the expected output from SPECFEM3D. Adherance to this format is very important for running Pyaflowa. \n",
    "\n",
    "> **__NOTE:__**\n",
    "By default synthetic waveform data is expected to be separated by event ID, e.g., PATH/TO/SYNTHETICS/{EVENT_ID}/*semd"
   ]
  },
  {
   "cell_type": "code",
   "execution_count": 15,
   "metadata": {
    "execution": {
     "iopub.execute_input": "2022-02-25T19:53:15.318201Z",
     "iopub.status.busy": "2022-02-25T19:53:15.317012Z",
     "iopub.status.idle": "2022-02-25T19:53:15.436704Z",
     "shell.execute_reply": "2022-02-25T19:53:15.435520Z"
    },
    "scrolled": true
   },
   "outputs": [
    {
     "name": "stdout",
     "output_type": "stream",
     "text": [
      "NZ.BFZ.BXE.semd  NZ.BFZ.BXN.semd  NZ.BFZ.BXZ.semd\r\n"
     ]
    }
   ],
   "source": [
    "# Let's copy the premade synthetic data into our current working directory\n",
    "!ls ../../synthetics\n",
    "!mkdir -p synthetics/2018p130600\n",
    "!cp ../../synthetics/* ./synthetics/2018p130600"
   ]
  },
  {
   "cell_type": "code",
   "execution_count": 16,
   "metadata": {
    "execution": {
     "iopub.execute_input": "2022-02-25T19:53:15.452839Z",
     "iopub.status.busy": "2022-02-25T19:53:15.451163Z",
     "iopub.status.idle": "2022-02-25T19:53:15.576914Z",
     "shell.execute_reply": "2022-02-25T19:53:15.577792Z"
    }
   },
   "outputs": [
    {
     "name": "stdout",
     "output_type": "stream",
     "text": [
      "==> ./synthetics/2018p130600/NZ.BFZ.BXE.semd <==\r\n",
      "  -20.0000000         0.0000000\r\n",
      "  -19.9700000         0.0000000\r\n",
      "  -19.9400000         0.0000000\r\n",
      "  -19.9100000         0.0000000\r\n",
      "  -19.8800000         0.0000000\r\n",
      "  -19.8500000         0.0000000\r\n",
      "  -19.8200000         0.0000000\r\n",
      "  -19.7900000         0.0000000\r\n",
      "  -19.7600000         0.0000000\r\n",
      "  -19.7300000         0.0000000\r\n",
      "\r\n",
      "==> ./synthetics/2018p130600/NZ.BFZ.BXN.semd <==\r\n",
      "  -20.0000000         0.0000000\r\n",
      "  -19.9700000         0.0000000\r\n",
      "  -19.9400000         0.0000000\r\n",
      "  -19.9100000         0.0000000\r\n",
      "  -19.8800000         0.0000000\r\n",
      "  -19.8500000         0.0000000\r\n",
      "  -19.8200000         0.0000000\r\n",
      "  -19.7900000         0.0000000\r\n",
      "  -19.7600000         0.0000000\r\n",
      "  -19.7300000         0.0000000\r\n",
      "\r\n",
      "==> ./synthetics/2018p130600/NZ.BFZ.BXZ.semd <==\r\n",
      "  -20.0000000         0.0000000\r\n",
      "  -19.9700000         0.0000000\r\n",
      "  -19.9400000         0.0000000\r\n",
      "  -19.9100000         0.0000000\r\n",
      "  -19.8800000         0.0000000\r\n",
      "  -19.8500000         0.0000000\r\n",
      "  -19.8200000         0.0000000\r\n",
      "  -19.7900000         0.0000000\r\n",
      "  -19.7600000         0.0000000\r\n",
      "  -19.7300000         0.0000000\r\n"
     ]
    }
   ],
   "source": [
    "!head ./synthetics/2018p130600/*"
   ]
  },
  {
   "cell_type": "markdown",
   "metadata": {},
   "source": [
    "### Pyaflowa's directory structure\n",
    "\n",
    "`Pyaflowa` abstracts away the enigmatic inner machinations of `Pyatoa`. To do so it manages an internal directory structure to search for inputs and store outputs.\n",
    "\n",
    "When used standalone, `Pyaflowa` creates its own directory structure within a given working directory. When used in conjunction with SeisFlows3, `Pyaflowa` will work within the preset internal directory structure of SeisFlows3 (see Pyaflowa + SeisFlows3).\n",
    "\n",
    "Let's start by initiating `Pyaflowa`. As with any usage of Pyatoa, a Config object is required to define internally used parameters which will inturn be used to control gathering, waveform processing, and misfit quantification."
   ]
  },
  {
   "cell_type": "code",
   "execution_count": 17,
   "metadata": {
    "execution": {
     "iopub.execute_input": "2022-02-25T19:53:15.586286Z",
     "iopub.status.busy": "2022-02-25T19:53:15.585160Z",
     "iopub.status.idle": "2022-02-25T19:53:15.588720Z",
     "shell.execute_reply": "2022-02-25T19:53:15.589601Z"
    }
   },
   "outputs": [],
   "source": [
    "from pyatoa import Pyaflowa, Config"
   ]
  },
  {
   "cell_type": "code",
   "execution_count": 18,
   "metadata": {
    "execution": {
     "iopub.execute_input": "2022-02-25T19:53:15.597276Z",
     "iopub.status.busy": "2022-02-25T19:53:15.596152Z",
     "iopub.status.idle": "2022-02-25T19:53:15.609898Z",
     "shell.execute_reply": "2022-02-25T19:53:15.610253Z"
    }
   },
   "outputs": [],
   "source": [
    "cfg = Config(iteration=1, step_count=0, client=\"GEONET\", min_period=10, max_period=30,\n",
    "             pyflex_preset=\"nznorth_10-30s\")\n",
    "\n",
    "pf = Pyaflowa(structure=\"standalone\", workdir=\"./\", config=cfg)"
   ]
  },
  {
   "cell_type": "code",
   "execution_count": 19,
   "metadata": {
    "execution": {
     "iopub.execute_input": "2022-02-25T19:53:15.611676Z",
     "iopub.status.busy": "2022-02-25T19:53:15.611444Z",
     "iopub.status.idle": "2022-02-25T19:53:15.623147Z",
     "shell.execute_reply": "2022-02-25T19:53:15.622935Z"
    }
   },
   "outputs": [
    {
     "data": {
      "text/plain": [
       "cwd          : './'\n",
       "data         : './input/DATA'\n",
       "datasets     : './datasets'\n",
       "figures      : './figures'\n",
       "logs         : './logs'\n",
       "ds_file      : './datasets/{source_name}.h5'\n",
       "stations_file: './{source_name}/STATIONS'\n",
       "responses    : './input/responses'\n",
       "waveforms    : './input/waveforms'\n",
       "synthetics   : './input/synthetics/{source_name}'\n",
       "adjsrcs      : './adjsrcs/{source_name}'\n",
       "event_figures: './figures/{source_name}'"
      ]
     },
     "execution_count": 19,
     "metadata": {},
     "output_type": "execute_result"
    }
   ],
   "source": [
    "# We can take a look at Pyaflowa's internal directory structure with the path_structure attribute\n",
    "pf.path_structure"
   ]
  },
  {
   "cell_type": "markdown",
   "metadata": {},
   "source": [
    "If you want different directories than the chosen defaults shown above, you can simply pass the keys of the `path_structure` attribute as keyword arguments in the initialization of Pyaflowa."
   ]
  },
  {
   "cell_type": "code",
   "execution_count": 40,
   "metadata": {
    "execution": {
     "iopub.execute_input": "2022-02-25T19:53:15.624909Z",
     "iopub.status.busy": "2022-02-25T19:53:15.624673Z",
     "iopub.status.idle": "2022-02-25T19:53:15.637819Z",
     "shell.execute_reply": "2022-02-25T19:53:15.637621Z"
    }
   },
   "outputs": [
    {
     "data": {
      "text/plain": [
       "cwd          : '../tests/test_data/docs_data'\n",
       "data         : '../tests/test_data/docs_data/'\n",
       "datasets     : '../tests/test_data/docs_data'\n",
       "figures      : '../tests/test_data/docs_data/figures'\n",
       "logs         : '../tests/test_data/docs_data/logs'\n",
       "ds_file      : '../tests/test_data/docs_data/{source_name}.h5'\n",
       "stations_file: '../tests/test_data/docs_data/STATIONS'\n",
       "responses    : '../tests/test_data/docs_data/input/responses'\n",
       "waveforms    : '../tests/test_data/docs_data/input/waveforms'\n",
       "synthetics   : '../tests/test_data/docs_data/synthetics/2018p130600'\n",
       "adjsrcs      : '../tests/test_data/docs_data/adjsrcs/{source_name}'\n",
       "event_figures: '../tests/test_data/docs_data/figures/{source_name}'"
      ]
     },
     "execution_count": 40,
     "metadata": {},
     "output_type": "execute_result"
    }
   ],
   "source": [
    "kwargs = {\"workdir\": \"../tests/test_data/docs_data\",\n",
    "          \"synthetics\": \"../tests/test_data/docs_data/synthetics/2018p130600\",\n",
    "          \"stations_file\": \"../tests/test_data/docs_data/STATIONS\",\n",
    "          \"data\": \"../tests/test_data/docs_data/\",\n",
    "          \"datasets\": \"../tests/test_data/docs_data\",\n",
    "         }\n",
    "\n",
    "pf = Pyaflowa(structure=\"standalone\", config=cfg, **kwargs)\n",
    "pf.path_structure"
   ]
  },
  {
   "cell_type": "markdown",
   "metadata": {},
   "source": [
    "----------------------\n",
    "\n",
    "### The IO (input/output) class\n",
    "\n",
    "By running the Pyaflowa.setup() function, Pyaflowa will make the required directory structure defined above. It will also return an `IO` object. This internally used object store information related to paths, configurations and processing.\n",
    "\n",
    "The user does __not__ need to interact with the `IO` object, but we can take a look at it for clarity. It contains the internal directory structure used by `Pyaflowa`, the `Config` object which will control all of the Manager processing that will take place, and internal attributes which keep track of how processing occurs."
   ]
  },
  {
   "cell_type": "code",
   "execution_count": 41,
   "metadata": {
    "execution": {
     "iopub.execute_input": "2022-02-25T19:53:15.639358Z",
     "iopub.status.busy": "2022-02-25T19:53:15.639121Z",
     "iopub.status.idle": "2022-02-25T19:53:15.725057Z",
     "shell.execute_reply": "2022-02-25T19:53:15.725273Z"
    }
   },
   "outputs": [
    {
     "name": "stderr",
     "output_type": "stream",
     "text": [
      "[2022-02-25 16:45:02] - pyatoa - DEBUG: gathering event\n",
      "[2022-02-25 16:45:02] - pyatoa - INFO: searching ASDFDataSet for event info\n",
      "[2022-02-25 16:45:02] - pyatoa - DEBUG: matching event found: 45DF97\n"
     ]
    }
   ],
   "source": [
    "io = pf.setup(source_name=\"2018p130600\")"
   ]
  },
  {
   "cell_type": "code",
   "execution_count": 44,
   "metadata": {
    "execution": {
     "iopub.execute_input": "2022-02-25T19:53:15.727576Z",
     "iopub.status.busy": "2022-02-25T19:53:15.727337Z",
     "iopub.status.idle": "2022-02-25T19:53:15.729025Z",
     "shell.execute_reply": "2022-02-25T19:53:15.729210Z"
    }
   },
   "outputs": [
    {
     "name": "stdout",
     "output_type": "stream",
     "text": [
      "paths cwd          : '/home/bchow/REPOSITORIES/pyatoa/pyatoa/tests/test_data/docs_data'\n",
      "data         : '/home/bchow/REPOSITORIES/pyatoa/pyatoa/tests/test_data/docs_data'\n",
      "datasets     : '/home/bchow/REPOSITORIES/pyatoa/pyatoa/tests/test_data/docs_data'\n",
      "figures      : '/home/bchow/REPOSITORIES/pyatoa/pyatoa/tests/test_data/docs_data/figures'\n",
      "logs         : '/home/bchow/REPOSITORIES/pyatoa/pyatoa/tests/test_data/docs_data/logs'\n",
      "ds_file      : '/home/bchow/REPOSITORIES/pyatoa/pyatoa/tests/test_data/docs_data/2018p130600.h5'\n",
      "stations_file: '/home/bchow/REPOSITORIES/pyatoa/pyatoa/tests/test_data/docs_data/STATIONS'\n",
      "responses    : '/home/bchow/REPOSITORIES/pyatoa/pyatoa/tests/test_data/docs_data/input/responses'\n",
      "waveforms    : '/home/bchow/REPOSITORIES/pyatoa/pyatoa/tests/test_data/docs_data/input/waveforms'\n",
      "synthetics   : '/home/bchow/REPOSITORIES/pyatoa/pyatoa/tests/test_data/docs_data/synthetics/2018p130600'\n",
      "adjsrcs      : '/home/bchow/REPOSITORIES/pyatoa/pyatoa/tests/test_data/docs_data/adjsrcs/2018p130600'\n",
      "event_figures: '/home/bchow/REPOSITORIES/pyatoa/pyatoa/tests/test_data/docs_data/figures/2018p130600'\n",
      "\n",
      "logger <Logger pyatoa (DEBUG)>\n",
      "config CONFIG\n",
      "    iteration:               i01\n",
      "    step_count:              s00\n",
      "    event_id:                2018p130600\n",
      "GATHER\n",
      "    client:                  GEONET\n",
      "    start_pad:               20\n",
      "    end_pad:                 500\n",
      "    save_to_ds:              True\n",
      "PROCESS\n",
      "    min_period:              10.0\n",
      "    max_period:              30.0\n",
      "    filter_corners:          2.0\n",
      "    unit_output:             DISP\n",
      "    rotate_to_rtz:           False\n",
      "    win_amp_ratio:           0.0\n",
      "    synthetics_only:         False\n",
      "LABELS\n",
      "    component_list:          ['E', 'N', 'Z']\n",
      "    observed_tag:            observed\n",
      "    synthetic_tag:           synthetic_i01s00\n",
      "    paths:                   {'responses': '/home/bchow/REPOSITORIES/pyatoa/pyatoa/tests/test_data/docs_data/input/responses', 'waveforms': '/home/bchow/REPOSITORIES/pyatoa/pyatoa/tests/test_data/docs_data/input/waveforms', 'synthetics': '/home/bchow/REPOSITORIES/pyatoa/pyatoa/tests/test_data/docs_data/synthetics/2018p130600', 'events': '/home/bchow/REPOSITORIES/pyatoa/pyatoa/tests/test_data/docs_data'}\n",
      "EXTERNAL\n",
      "    pyflex_preset:           nznorth_10-30s\n",
      "    adj_src_type:            cc_traveltime_misfit\n",
      "    pyflex_config:           <pyflex.config.Config object at 0x7fbafaabc050>\n",
      "    pyadjoint_config:        <pyadjoint.config.Config object at 0x7fbafaabcc50>\n",
      "\n",
      "misfit 0\n",
      "nwin 0\n",
      "stations 0\n",
      "processed 0\n",
      "exceptions 0\n",
      "plot_fids []\n"
     ]
    }
   ],
   "source": [
    "for key, val in io.items():\n",
    "    print(key, val)"
   ]
  },
  {
   "cell_type": "markdown",
   "metadata": {},
   "source": [
    "-----------------------\n",
    "### Running Pyaflowa (gather and process waveforms)\n",
    "\n",
    "Great, we're all set up to run `Pyaflowa`. Internally `Pyaflowa` knows the event, path structure and stations that we want to use for misfit quantification. Now when we run it, `Pyaflowa` will instantiate `Manager` classes, attempt to gather data from disk or from web services, preprocess data and synthetic waveforms according to the `Config` object, and generate misfit windows and adjoint sources."
   ]
  },
  {
   "cell_type": "code",
   "execution_count": 45,
   "metadata": {
    "execution": {
     "iopub.execute_input": "2022-02-25T19:53:15.730665Z",
     "iopub.status.busy": "2022-02-25T19:53:15.730426Z",
     "iopub.status.idle": "2022-02-25T19:53:22.027319Z",
     "shell.execute_reply": "2022-02-25T19:53:22.027105Z"
    }
   },
   "outputs": [
    {
     "name": "stderr",
     "output_type": "stream",
     "text": [
      "[2022-02-25 16:46:01] - pyatoa - DEBUG: gathering event\n",
      "[2022-02-25 16:46:01] - pyatoa - INFO: searching ASDFDataSet for event info\n",
      "[2022-02-25 16:46:01] - pyatoa - DEBUG: matching event found: 45DF97\n",
      "[2022-02-25 16:46:01] - pyatoa - INFO: \n",
      "================================================================================\n",
      "\n",
      "NZ.MRZ.*.*\n",
      "\n",
      "================================================================================\n",
      "[2022-02-25 16:46:01] - pyatoa - DEBUG: gathering event\n",
      "[2022-02-25 16:46:01] - pyatoa - INFO: searching ASDFDataSet for event info\n",
      "[2022-02-25 16:46:01] - pyatoa - DEBUG: matching event found: 45DF97\n",
      "[2022-02-25 16:46:01] - pyatoa - INFO: gathering data for NZ.MRZ.*.*\n",
      "[2022-02-25 16:46:01] - pyatoa - INFO: gathering observed waveforms\n",
      "[2022-02-25 16:46:01] - pyatoa - INFO: searching ASDFDataSet for observations\n",
      "[2022-02-25 16:46:01] - pyatoa - INFO: matching observed waveforms found\n",
      "[2022-02-25 16:46:01] - pyatoa - INFO: gathering StationXML\n",
      "[2022-02-25 16:46:01] - pyatoa - INFO: searching ASDFDataSet for station info\n",
      "[2022-02-25 16:46:01] - pyatoa - INFO: matching StationXML found\n",
      "[2022-02-25 16:46:01] - pyatoa - INFO: saved to ASDFDataSet\n",
      "[2022-02-25 16:46:01] - pyatoa - INFO: gathering synthetic waveforms\n",
      "[2022-02-25 16:46:01] - pyatoa - INFO: searching ASDFDataSet for synthetics\n",
      "[2022-02-25 16:46:01] - pyatoa - INFO: searching local filesystem for synthetics\n",
      "[2022-02-25 16:46:01] - pyatoa - DEBUG: searching for synthetics: /home/bchow/REPOSITORIES/pyatoa/pyatoa/tests/test_data/docs_data/synthetics/2018p130600/{net}.{sta}.*{cmp}.sem{dva}\n",
      "[2022-02-25 16:46:01] - pyatoa - WARNING: Data Gatherer could not find some data\n",
      "[2022-02-25 16:46:01] - pyatoa - INFO: \n",
      "================================================================================\n",
      "\n",
      "NZ.TSZ.*.*\n",
      "\n",
      "================================================================================\n",
      "[2022-02-25 16:46:01] - pyatoa - INFO: gathering data for NZ.TSZ.*.*\n",
      "[2022-02-25 16:46:01] - pyatoa - INFO: gathering observed waveforms\n",
      "[2022-02-25 16:46:01] - pyatoa - INFO: searching ASDFDataSet for observations\n",
      "[2022-02-25 16:46:01] - pyatoa - INFO: searching local filesystem for observations\n",
      "[2022-02-25 16:46:01] - pyatoa - DEBUG: searching for observations: /home/bchow/REPOSITORIES/pyatoa/pyatoa/tests/test_data/docs_data/input/waveforms/2018/NZ/TSZ/*/NZ.TSZ.*.*.2018.049\n",
      "[2022-02-25 16:46:01] - pyatoa - DEBUG: querying client GEONET\n",
      "[2022-02-25 16:46:06] - pyatoa - INFO: matching observed waveforms found\n",
      "[2022-02-25 16:46:06] - pyatoa - WARNING: The trace's dtype ('bytes8') is not allowed inside ASDF 1.0.3. Allowed are little and big endian 2, 4, and 8 byte signed integers and 4 and 8 byte floating point numbers.\n",
      "Traceback (most recent call last):\n",
      "  File \"/home/bchow/REPOSITORIES/pyatoa/pyatoa/core/manager.py\", line 543, in gather\n",
      "    self.st_obs = self.gatherer.gather_observed(code, **kwargs)\n",
      "  File \"/home/bchow/REPOSITORIES/pyatoa/pyatoa/core/gatherer.py\", line 844, in gather_observed\n",
      "    self._save_waveforms_to_dataset(st_obs, self.config.observed_tag)\n",
      "  File \"/home/bchow/REPOSITORIES/pyatoa/pyatoa/core/gatherer.py\", line 945, in _save_waveforms_to_dataset\n",
      "    self.ds.add_waveforms(waveform=st, tag=tag)\n",
      "  File \"/home/bchow/miniconda3/envs/docs/lib/python3.7/site-packages/pyasdf/asdf_data_set.py\", line 1314, in add_waveforms\n",
      "    waveform = self.__parse_waveform_input_and_validate(waveform)\n",
      "  File \"/home/bchow/miniconda3/envs/docs/lib/python3.7/site-packages/pyasdf/asdf_data_set.py\", line 1389, in __parse_waveform_input_and_validate\n",
      "    \"numbers.\" % trace.data.dtype.name\n",
      "TypeError: The trace's dtype ('bytes8') is not allowed inside ASDF 1.0.3. Allowed are little and big endian 2, 4, and 8 byte signed integers and 4 and 8 byte floating point numbers.\n",
      "[2022-02-25 16:46:06] - pyatoa - WARNING: Uncontrolled error in data gathering\n",
      "[2022-02-25 16:46:06] - pyatoa - INFO: \n",
      "================================================================================\n",
      "\n",
      "NZ.VRZ.*.*\n",
      "\n",
      "================================================================================\n",
      "[2022-02-25 16:46:06] - pyatoa - INFO: gathering data for NZ.VRZ.*.*\n",
      "[2022-02-25 16:46:06] - pyatoa - INFO: gathering observed waveforms\n",
      "[2022-02-25 16:46:06] - pyatoa - INFO: searching ASDFDataSet for observations\n",
      "[2022-02-25 16:46:06] - pyatoa - INFO: matching observed waveforms found\n",
      "[2022-02-25 16:46:06] - pyatoa - INFO: gathering StationXML\n",
      "[2022-02-25 16:46:06] - pyatoa - INFO: searching ASDFDataSet for station info\n",
      "[2022-02-25 16:46:06] - pyatoa - INFO: matching StationXML found\n",
      "[2022-02-25 16:46:06] - pyatoa - INFO: saved to ASDFDataSet\n",
      "[2022-02-25 16:46:06] - pyatoa - INFO: gathering synthetic waveforms\n",
      "[2022-02-25 16:46:06] - pyatoa - INFO: searching ASDFDataSet for synthetics\n",
      "[2022-02-25 16:46:06] - pyatoa - INFO: searching local filesystem for synthetics\n",
      "[2022-02-25 16:46:06] - pyatoa - DEBUG: searching for synthetics: /home/bchow/REPOSITORIES/pyatoa/pyatoa/tests/test_data/docs_data/synthetics/2018p130600/{net}.{sta}.*{cmp}.sem{dva}\n",
      "[2022-02-25 16:46:06] - pyatoa - WARNING: Data Gatherer could not find some data\n",
      "[2022-02-25 16:46:06] - pyatoa - INFO: \n",
      "================================================================================\n",
      "\n",
      "NZ.WAZ.*.*\n",
      "\n",
      "================================================================================\n",
      "[2022-02-25 16:46:06] - pyatoa - INFO: gathering data for NZ.WAZ.*.*\n",
      "[2022-02-25 16:46:06] - pyatoa - INFO: gathering observed waveforms\n",
      "[2022-02-25 16:46:06] - pyatoa - INFO: searching ASDFDataSet for observations\n",
      "[2022-02-25 16:46:06] - pyatoa - INFO: matching observed waveforms found\n",
      "[2022-02-25 16:46:06] - pyatoa - INFO: gathering StationXML\n",
      "[2022-02-25 16:46:06] - pyatoa - INFO: searching ASDFDataSet for station info\n",
      "[2022-02-25 16:46:06] - pyatoa - INFO: matching StationXML found\n",
      "[2022-02-25 16:46:06] - pyatoa - INFO: saved to ASDFDataSet\n",
      "[2022-02-25 16:46:06] - pyatoa - INFO: gathering synthetic waveforms\n",
      "[2022-02-25 16:46:06] - pyatoa - INFO: searching ASDFDataSet for synthetics\n",
      "[2022-02-25 16:46:06] - pyatoa - INFO: searching local filesystem for synthetics\n",
      "[2022-02-25 16:46:06] - pyatoa - DEBUG: searching for synthetics: /home/bchow/REPOSITORIES/pyatoa/pyatoa/tests/test_data/docs_data/synthetics/2018p130600/{net}.{sta}.*{cmp}.sem{dva}\n",
      "[2022-02-25 16:46:06] - pyatoa - WARNING: Data Gatherer could not find some data\n",
      "[2022-02-25 16:46:06] - pyatoa - INFO: generating STATIONS_ADJOINT file for SPECFEM\n",
      "[2022-02-25 16:46:06] - pyatoa - INFO: \n",
      "================================================================================\n",
      "\n",
      "SUMMARY\n",
      "\n",
      "================================================================================\n",
      "SOURCE NAME: 2018p130600\n",
      "STATIONS: 0 / 4\n",
      "WINDOWS: 0\n",
      "RAW MISFIT: 0.00\n",
      "UNEXPECTED ERRORS: 0\n"
     ]
    },
    {
     "data": {
      "text/plain": [
       "0.0"
      ]
     },
     "execution_count": 45,
     "metadata": {},
     "output_type": "execute_result"
    }
   ],
   "source": [
    "pf.process_event(source_name=\"2018p130600\")"
   ]
  },
  {
   "cell_type": "markdown",
   "metadata": {},
   "source": [
    "### Inspect Pyaflowa outputs\n",
    "\n",
    "Iwe have a look at the work directory, we can see the outputs of the Pyaflowa workflow, which will be:\n",
    "* An ASDFDataSet with waveforms, metadata, misfit windows and adjoint sources\n",
    "* Waveform figures for all the stations processed\n",
    "* Adjoint source ASCII files (.adj) required for a SPECFEM3D adjoint simulation\n",
    "* STATIONS_ADJOINT file required for a SPECFEM3D adjoint simulation\n",
    "* The output log which shows the "
   ]
  },
  {
   "cell_type": "code",
   "execution_count": 16,
   "metadata": {
    "execution": {
     "iopub.execute_input": "2022-02-25T19:53:22.029381Z",
     "iopub.status.busy": "2022-02-25T19:53:22.029134Z",
     "iopub.status.idle": "2022-02-25T19:53:22.147449Z",
     "shell.execute_reply": "2022-02-25T19:53:22.148337Z"
    }
   },
   "outputs": [
    {
     "name": "stdout",
     "output_type": "stream",
     "text": [
      "ls: cannot access /Users/Chow/Desktop/pyaflowa_example/workdir: No such file or directory\r\n"
     ]
    }
   ],
   "source": [
    "# Here is the working directory with all the inputs and outputs\n",
    "!ls \"/Users/Chow/Desktop/pyaflowa_example/workdir\""
   ]
  },
  {
   "cell_type": "code",
   "execution_count": 17,
   "metadata": {
    "execution": {
     "iopub.execute_input": "2022-02-25T19:53:22.162784Z",
     "iopub.status.busy": "2022-02-25T19:53:22.161808Z",
     "iopub.status.idle": "2022-02-25T19:53:22.281462Z",
     "shell.execute_reply": "2022-02-25T19:53:22.280320Z"
    }
   },
   "outputs": [
    {
     "name": "stdout",
     "output_type": "stream",
     "text": [
      "ls: cannot access /Users/Chow/Desktop/pyaflowa_example/workdir/datasets: No such file or directory\r\n"
     ]
    }
   ],
   "source": [
    "# The ASDFDataSet contains all the data and metadata collected and created during the workflow\n",
    "# This can be viewed using the functionalities of PyASDF\n",
    "!ls \"/Users/Chow/Desktop/pyaflowa_example/workdir/datasets\""
   ]
  },
  {
   "cell_type": "code",
   "execution_count": 18,
   "metadata": {
    "execution": {
     "iopub.execute_input": "2022-02-25T19:53:22.297894Z",
     "iopub.status.busy": "2022-02-25T19:53:22.296882Z",
     "iopub.status.idle": "2022-02-25T19:53:22.421146Z",
     "shell.execute_reply": "2022-02-25T19:53:22.420193Z"
    }
   },
   "outputs": [
    {
     "name": "stdout",
     "output_type": "stream",
     "text": [
      "ls: cannot access /Users/Chow/Desktop/pyaflowa_example/workdir/2018p130600: No such file or directory\r\n"
     ]
    }
   ],
   "source": [
    "# Each event will output figures and adjoint source files\n",
    "!ls \"/Users/Chow/Desktop/pyaflowa_example/workdir/2018p130600\""
   ]
  },
  {
   "cell_type": "code",
   "execution_count": 19,
   "metadata": {
    "execution": {
     "iopub.execute_input": "2022-02-25T19:53:22.438080Z",
     "iopub.status.busy": "2022-02-25T19:53:22.437043Z",
     "iopub.status.idle": "2022-02-25T19:53:22.554522Z",
     "shell.execute_reply": "2022-02-25T19:53:22.553513Z"
    }
   },
   "outputs": [
    {
     "name": "stdout",
     "output_type": "stream",
     "text": [
      "ls: cannot access /Users/Chow/Desktop/pyaflowa_example/workdir/2018p130600/adjsrcs: No such file or directory\r\n"
     ]
    }
   ],
   "source": [
    "# Adjoint sources are created for all components. Components that have no measurements will be written with zeros\n",
    "!ls \"/Users/Chow/Desktop/pyaflowa_example/workdir/2018p130600/adjsrcs\""
   ]
  },
  {
   "cell_type": "code",
   "execution_count": 20,
   "metadata": {
    "execution": {
     "iopub.execute_input": "2022-02-25T19:53:22.564203Z",
     "iopub.status.busy": "2022-02-25T19:53:22.563592Z",
     "iopub.status.idle": "2022-02-25T19:53:22.681756Z",
     "shell.execute_reply": "2022-02-25T19:53:22.680392Z"
    }
   },
   "outputs": [
    {
     "name": "stdout",
     "output_type": "stream",
     "text": [
      "head: cannot open ‘/Users/Chow/Desktop/pyaflowa_example/workdir/2018p130600/adjsrcs/NZ.MRZ.BXE.adj’ for reading: No such file or directory\r\n"
     ]
    }
   ],
   "source": [
    "# Adjoint source files are created as two-column ASCII files, in the same manner as the synthetics \n",
    "# generated by SPECFEM3D\n",
    "!head \"/Users/Chow/Desktop/pyaflowa_example/workdir/2018p130600/adjsrcs/NZ.MRZ.BXE.adj\""
   ]
  },
  {
   "cell_type": "code",
   "execution_count": 21,
   "metadata": {
    "execution": {
     "iopub.execute_input": "2022-02-25T19:53:22.691795Z",
     "iopub.status.busy": "2022-02-25T19:53:22.690518Z",
     "iopub.status.idle": "2022-02-25T19:53:22.815338Z",
     "shell.execute_reply": "2022-02-25T19:53:22.816229Z"
    }
   },
   "outputs": [
    {
     "name": "stdout",
     "output_type": "stream",
     "text": [
      "ls: cannot access /Users/Chow/Desktop/pyaflowa_example/workdir/2018p130600/figures: No such file or directory\r\n"
     ]
    }
   ],
   "source": [
    "!ls \"/Users/Chow/Desktop/pyaflowa_example/workdir/2018p130600/figures\""
   ]
  },
  {
   "cell_type": "code",
   "execution_count": 22,
   "metadata": {
    "execution": {
     "iopub.execute_input": "2022-02-25T19:53:22.832644Z",
     "iopub.status.busy": "2022-02-25T19:53:22.831630Z",
     "iopub.status.idle": "2022-02-25T19:53:22.951088Z",
     "shell.execute_reply": "2022-02-25T19:53:22.950838Z"
    }
   },
   "outputs": [
    {
     "name": "stdout",
     "output_type": "stream",
     "text": [
      "tail: cannot open ‘/Users/Chow/Desktop/pyaflowa_example/workdir/logs/i01s00_2018p130600.log’ for reading: No such file or directory\r\n"
     ]
    }
   ],
   "source": [
    "!tail \"/Users/Chow/Desktop/pyaflowa_example/workdir/logs/i01s00_2018p130600.log\""
   ]
  },
  {
   "cell_type": "markdown",
   "metadata": {},
   "source": [
    "### Multi-processing with Pyaflowa\n",
    "\n",
    "Pyaflowa allows for multi-processing using Python's concurrent.futures. This means that multiple events can be processed in parallel, potentially allowing for large speed up when running waveform processing. We'll include another event [2012p242656](https://www.geonet.org.nz/earthquake/2012p242656), in our work directory and show how simple it is to use this functionality."
   ]
  },
  {
   "cell_type": "code",
   "execution_count": 23,
   "metadata": {
    "execution": {
     "iopub.execute_input": "2022-02-25T19:53:22.956445Z",
     "iopub.status.busy": "2022-02-25T19:53:22.953209Z",
     "iopub.status.idle": "2022-02-25T19:53:23.070747Z",
     "shell.execute_reply": "2022-02-25T19:53:23.069749Z"
    }
   },
   "outputs": [
    {
     "name": "stdout",
     "output_type": "stream",
     "text": [
      "ls: cannot access /Users/Chow/Desktop/pyaflowa_example/synthetics/2012p242656: No such file or directory\r\n"
     ]
    }
   ],
   "source": [
    "!ls \"/Users/Chow/Desktop/pyaflowa_example/synthetics/2012p242656\""
   ]
  },
  {
   "cell_type": "code",
   "execution_count": 24,
   "metadata": {
    "execution": {
     "iopub.execute_input": "2022-02-25T19:53:23.081560Z",
     "iopub.status.busy": "2022-02-25T19:53:23.080431Z",
     "iopub.status.idle": "2022-02-25T19:53:23.085174Z",
     "shell.execute_reply": "2022-02-25T19:53:23.084919Z"
    }
   },
   "outputs": [
    {
     "data": {
      "text/plain": [
       "cwd          : '/Users/Chow/Desktop/pyaflowa_example/workdir'\n",
       "data         : '/Users/Chow/Desktop/pyaflowa_example/workdir/input/DATA'\n",
       "datasets     : '/Users/Chow/Desktop/pyaflowa_example/workdir/datasets'\n",
       "figures      : '/Users/Chow/Desktop/pyaflowa_example/workdir/figures'\n",
       "logs         : '/Users/Chow/Desktop/pyaflowa_example/workdir/logs'\n",
       "ds_file      : '/Users/Chow/Desktop/pyaflowa_example/workdir/datasets/{source_name}.h5'\n",
       "stations_file: '/Users/Chow/Desktop/pyaflowa_example/STATIONS'\n",
       "responses    : '/Users/Chow/Desktop/pyaflowa_example/workdir/input/responses'\n",
       "waveforms    : '/Users/Chow/Desktop/pyaflowa_example/workdir/input/waveforms'\n",
       "synthetics   : '/Users/Chow/Desktop/pyaflowa_example/synthetics/{source_name}'\n",
       "adjsrcs      : '/Users/Chow/Desktop/pyaflowa_example/workdir/adjsrcs/{source_name}'\n",
       "event_figures: '/Users/Chow/Desktop/pyaflowa_example/workdir/figures/{source_name}'"
      ]
     },
     "execution_count": 24,
     "metadata": {},
     "output_type": "execute_result"
    }
   ],
   "source": [
    "# Here we initiate almost the same key word arguments, however we add a formatting statement in the synthetics\n",
    "# kwarg so that Pyaflowa knows which directory to search when looking for synthetics.\n",
    "# Here the STATION FILE is the same\n",
    "kwargs = {\"workdir\": \"/Users/Chow/Desktop/pyaflowa_example/workdir\",\n",
    "          \"synthetics\": \"/Users/Chow/Desktop/pyaflowa_example/synthetics/{source_name}\",\n",
    "          \"stations_file\": \"/Users/Chow/Desktop/pyaflowa_example/STATIONS\"\n",
    "         }\n",
    "\n",
    "pf = Pyaflowa(structure=\"standalone\", config=cfg, **kwargs)\n",
    "pf.path_structure"
   ]
  },
  {
   "cell_type": "code",
   "execution_count": 25,
   "metadata": {
    "execution": {
     "iopub.execute_input": "2022-02-25T19:53:23.086713Z",
     "iopub.status.busy": "2022-02-25T19:53:23.086492Z",
     "iopub.status.idle": "2022-02-25T19:53:23.178490Z",
     "shell.execute_reply": "2022-02-25T19:53:23.178221Z"
    }
   },
   "outputs": [
    {
     "ename": "AttributeError",
     "evalue": "'Pyaflowa' object has no attribute 'run'",
     "output_type": "error",
     "traceback": [
      "\u001b[0;31m---------------------------------------------------------------------------\u001b[0m",
      "\u001b[0;31mAttributeError\u001b[0m                            Traceback (most recent call last)",
      "\u001b[0;32m/tmp/ipykernel_23118/2473450681.py\u001b[0m in \u001b[0;36m<module>\u001b[0;34m\u001b[0m\n\u001b[1;32m      1\u001b[0m \u001b[0;31m# Now, all we need to do to invoke multiprocessing is input a list of source names to the run function\u001b[0m\u001b[0;34m\u001b[0m\u001b[0;34m\u001b[0m\u001b[0;34m\u001b[0m\u001b[0m\n\u001b[0;32m----> 2\u001b[0;31m \u001b[0mpf\u001b[0m\u001b[0;34m.\u001b[0m\u001b[0mrun\u001b[0m\u001b[0;34m(\u001b[0m\u001b[0msource_names\u001b[0m\u001b[0;34m=\u001b[0m\u001b[0;34m[\u001b[0m\u001b[0;34m\"2018p130600\"\u001b[0m\u001b[0;34m,\u001b[0m \u001b[0;34m\"2012p242656\"\u001b[0m\u001b[0;34m]\u001b[0m\u001b[0;34m)\u001b[0m\u001b[0;34m\u001b[0m\u001b[0;34m\u001b[0m\u001b[0m\n\u001b[0m",
      "\u001b[0;31mAttributeError\u001b[0m: 'Pyaflowa' object has no attribute 'run'"
     ]
    }
   ],
   "source": [
    "# Now, all we need to do to invoke multiprocessing is input a list of source names to the run function\n",
    "pf.run(source_names=[\"2018p130600\", \"2012p242656\"])"
   ]
  },
  {
   "cell_type": "markdown",
   "metadata": {},
   "source": [
    "Unfortunately I don't think it's possible to run parallel tasks in a Jupyter notebook and I'm not prepared to put in the effort to figure out how to do this, so I hope you can take my word for it that this simply executes two parallel processing steps using the concurrent.futures multiprocessing machinery. neat!\n",
    "___"
   ]
  },
  {
   "cell_type": "markdown",
   "metadata": {},
   "source": [
    "## Pyaflowa + SeisFlows3\n",
    "\n",
    "Coming soon to a docs page near you."
   ]
  },
  {
   "cell_type": "code",
   "execution_count": null,
   "metadata": {},
   "outputs": [],
   "source": []
  }
 ],
 "metadata": {
  "kernelspec": {
   "display_name": "Python (docs)",
   "language": "python",
   "name": "docs"
  },
  "language_info": {
   "codemirror_mode": {
    "name": "ipython",
    "version": 3
   },
   "file_extension": ".py",
   "mimetype": "text/x-python",
   "name": "python",
   "nbconvert_exporter": "python",
   "pygments_lexer": "ipython3",
   "version": "3.7.12"
  }
 },
 "nbformat": 4,
 "nbformat_minor": 5
}
