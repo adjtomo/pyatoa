{
 "cells": [
  {
   "cell_type": "markdown",
   "metadata": {},
   "source": [
    "# Pyaflowa\n",
    "\n",
    "Pyaflowa is Pyatoa's workflow management class. It is in charge of facilitating automation of misfit quantification using the underlying machinery defined by the Config, Manager and Gatherer classes. Pyaflowa provides a structure to process en-masse waveform data from multiple stations and multiple events using only a few function calls.\n",
    "\n",
    "Pyaflowa can be used standalone in conjunction with SPECFEM3D, and also provides with SeisFlows. When used within the SeisFlows preprocess module, Pyaflowa reduces the overhead required to include Pyatoa functionality into a SeisFlows inversion.\n",
    "____\n",
    "\n",
    "## Pyaflowa + SPECFEM3D Cartesian \n",
    "\n",
    "Let's start with an example of running Pyaflowa standalone, e.g. if you are simply trying to retrieve an event-specific sensitivity kernels using the machinery of SPECFEM3D Cartesian, then you would need to compare observed and synthetic waveforms using misfit quantification, and output adjoint sources that SPECFEM3D will use in its adjoint simulation. Let's walk through step by step.\n",
    "\n",
    "### Generate CMTSOLUTION using ObsPy\n",
    "\n",
    "First we must generate the source file used to represent the moment tensor in our earthquake simulation. We'll use my favorite New Zealand [example event, 2018p130600](https://www.geonet.org.nz/earthquake/2018p130600), an M5.2 that occurred in the central North Island, New Zealand. \n",
    "\n",
    "With ObsPy + Pyatoa we'll be able to gather this event from FDSN webservices and save the resulting moment tensor and event information to the required [CMTSOLUTION format](https://www.globalcmt.org/CMTsearch.html) expected by SPECFEM3D."
   ]
  },
  {
   "cell_type": "code",
   "execution_count": 31,
   "metadata": {},
   "outputs": [],
   "source": [
    "from pyatoa import append_focal_mechanism\n",
    "from obspy.clients.fdsn import Client"
   ]
  },
  {
   "cell_type": "code",
   "execution_count": 32,
   "metadata": {},
   "outputs": [
    {
     "name": "stderr",
     "output_type": "stream",
     "text": [
      "[2020-10-14 14:24:03] - pyatoa - INFO: geonet moment tensor found for: 2018p130600\n",
      "[2020-10-14 14:24:03] - pyatoa - DEBUG: GeoNet moment tensor is in units of Newton*meters\n",
      "[2020-10-14 14:24:03] - pyatoa - INFO: GeoNet moment tensor appended to Event\n",
      "UserWarning: No body wave magnitude found. Will be replaced by the first magnitude in the event object. [core.py:370]\n",
      "UserWarning: No surface wave magnitude found. Will be replaced by the first magnitude in the event object. [core.py:376]\n",
      "UserWarning: Could not find a centroid origin. Will instead assume that the preferred or first origin is the centroid origin. [core.py:397]\n",
      "UserWarning: Hypocentral origin will be identical to the centroid one. [core.py:410]\n"
     ]
    }
   ],
   "source": [
    "# Using ObsPy's FDSN Client, we can retrieve event information using an event id\n",
    "c = Client(\"GEONET\")\n",
    "cat = c.get_events(eventid=\"2018p130600\")\n",
    "\n",
    "# Using Pyatoa, we can append a focal mechanism from the GeoNet moment tensor catalog\n",
    "cat[0] = append_focal_mechanism(cat[0], client=\"GEONET\")\n",
    "\n",
    "# ObsPy has built in support for writing CMTSOLUTION files expected by SPECFEM3D\n",
    "cat.write(\"/Users/Chow/Desktop/pyaflowa_example/CMTSOLUTION\", format=\"CMTSOLUTION\")"
   ]
  },
  {
   "cell_type": "code",
   "execution_count": 33,
   "metadata": {},
   "outputs": [
    {
     "name": "stdout",
     "output_type": "stream",
     "text": [
      " PDE 2018 02 18 07 43 48.13  -39.9490  176.2995  20.6 5.2 5.2 NORTH ISLAND, NEW ZEALAND\r\n",
      "event name:           5E4E8F\r\n",
      "time shift:           0.0000\r\n",
      "half duration:        0.6989\r\n",
      "latitude:           -39.9490\r\n",
      "longitude:          176.2995\r\n",
      "depth:               20.5946\r\n",
      "Mrr:           -2.479380E+23\r\n",
      "Mtt:            1.314880E+23\r\n",
      "Mpp:            1.164500E+23\r\n",
      "Mrt:            5.032500E+22\r\n",
      "Mrp:            6.607700E+22\r\n",
      "Mtp:            9.359300E+22\r\n"
     ]
    }
   ],
   "source": [
    "# Lets just have a look at the file that's been created\n",
    "!cat /Users/Chow/Desktop/pyaflowa_example/CMTSOLUTION"
   ]
  },
  {
   "cell_type": "markdown",
   "metadata": {},
   "source": [
    "### Generate STATIONS file using ObsPy + Pyatoa\n",
    "\n",
    "SPECFEM3D also requires a STATIONS file which defines the locations of receivers for simulation output. \n",
    "As in Step 1 we'll generate a list of stations using ObsPy and write them into the required STATIONS file using Pyatoa. "
   ]
  },
  {
   "cell_type": "code",
   "execution_count": 5,
   "metadata": {},
   "outputs": [],
   "source": [
    "from pyatoa import write_stations"
   ]
  },
  {
   "cell_type": "code",
   "execution_count": 12,
   "metadata": {},
   "outputs": [
    {
     "name": "stderr",
     "output_type": "stream",
     "text": [
      "/Users/Chow/miniconda3/envs/tomo/lib/python3.7/site-packages/obspy/io/stationxml/core.py:98: UserWarning: The StationXML file has version 1, ObsPy can read versions (1.0, 1.1). Proceed with caution.\n",
      "  version, \", \".join(READABLE_VERSIONS)))\n"
     ]
    }
   ],
   "source": [
    "inv = c.get_stations(network=\"NZ\", station=\"??Z\", channel=\"HH?\",\n",
    "                     minlatitude=-41, maxlatitude=-39,\n",
    "                     minlongitude=173, maxlongitude=176)\n",
    "write_stations(inv, fid=\"/Users/Chow/Desktop/pyaflowa_example/STATIONS\")"
   ]
  },
  {
   "cell_type": "markdown",
   "metadata": {},
   "source": [
    "> **__NOTE:__**  \n",
    "In the ObsPy function get_stations(), the following arguments are provided:\n",
    "* __network = \"NZ\"__ refers to the code for New Zealand's permament seismic netnwork\n",
    "* __station = \"??Z\"__ means we only want 3 letter station codes that end in Z, which GeoNet usually reserves for broadband seismometers\n",
    "* __channel = \"HH?\"__ refers to a broadband (first 'H') seismometer (second 'H'), for any available component (wildcard '?'), usually N/E/Z. This follows [SEED naming convention](https://ds.iris.edu/ds/nodes/dmc/data/formats/seed-channel-naming/).\n",
    "* This min and max latitude / longitude defines a small region where we want to search for stations"
   ]
  },
  {
   "cell_type": "code",
   "execution_count": 13,
   "metadata": {},
   "outputs": [
    {
     "name": "stdout",
     "output_type": "stream",
     "text": [
      "   MRZ    NZ    -40.6605    175.5785    0.0    0.0\r\n",
      "   TSZ    NZ    -40.0586    175.9611    0.0    0.0\r\n",
      "   VRZ    NZ    -39.1243    174.7585    0.0    0.0\r\n",
      "   WAZ    NZ    -39.7546    174.9855    0.0    0.0\r\n"
     ]
    }
   ],
   "source": [
    "# Lets just have a look at the file that's been created\n",
    "!cat \"/Users/Chow/Desktop/pyaflowa_example/STATIONS\""
   ]
  },
  {
   "cell_type": "markdown",
   "metadata": {},
   "source": [
    "### Generate synthetics using SPECFEM3D [EXTERNAL]\n",
    "\n",
    "Unfortunately this cannot be shown in a Jupyter notebook as generating synthetics requires interfacing with the SPECFEM3D code, usually on a cluster. Here we assume this step has been completed successfully, with resultant synthetic waveforms produced by SPECFEM3D for the given event and stations. \n",
    "\n",
    "The output synthetic seismograms are expected to be formatted as two-column ASCII files. I have placed my synthetic waveforms in the following directory. Note that the file names follow the expected output from SPECFEM3D. Adherance to this format is very important for running Pyaflowa:"
   ]
  },
  {
   "cell_type": "code",
   "execution_count": 15,
   "metadata": {},
   "outputs": [
    {
     "name": "stdout",
     "output_type": "stream",
     "text": [
      "NZ.MRZ.BXE.semd NZ.TSZ.BXE.semd NZ.VRZ.BXE.semd NZ.WAZ.BXE.semd\r\n",
      "NZ.MRZ.BXN.semd NZ.TSZ.BXN.semd NZ.VRZ.BXN.semd NZ.WAZ.BXN.semd\r\n",
      "NZ.MRZ.BXZ.semd NZ.TSZ.BXZ.semd NZ.VRZ.BXZ.semd NZ.WAZ.BXZ.semd\r\n"
     ]
    }
   ],
   "source": [
    "!ls /Users/Chow/Desktop/pyaflowa_example/synthetics/2018p130600"
   ]
  },
  {
   "cell_type": "markdown",
   "metadata": {},
   "source": [
    "### Initiate Pyaflowa directory structure\n",
    "\n",
    "Pyaflowa simplifies the enigmatic inner machinations of Pyatoa. To do so, it manages an internal directory structure to search for inputs and store outputs.\n",
    "\n",
    "When used standalone, Pyaflowa creates its own directory structure within a given working directory. When used in conjunction with SeisFlows, Pyaflowa will work within the bounds of the internal directory structure of SeisFlows.\n",
    "\n",
    "Let's start by initiating Pyaflowa. As with any usage of Pyatoa, a Config object is required to define internally used parameters."
   ]
  },
  {
   "cell_type": "code",
   "execution_count": 1,
   "metadata": {},
   "outputs": [],
   "source": [
    "from pyatoa import Pyaflowa, Config"
   ]
  },
  {
   "cell_type": "code",
   "execution_count": 34,
   "metadata": {},
   "outputs": [
    {
     "name": "stderr",
     "output_type": "stream",
     "text": [
      "[2020-10-14 14:57:37] - pyatoa - DEBUG: Component list set to E/N/Z\n"
     ]
    }
   ],
   "source": [
    "cfg = Config(iteration=1, step_count=0, client=\"GEONET\", min_period=10, max_period=30,\n",
    "             pyflex_preset=\"nznorth_10-30s\")\n",
    "\n",
    "pf = Pyaflowa(structure=\"standalone\", workdir=\"/Users/Chow/Desktop/pyaflowa_example/workdir\", config=cfg)"
   ]
  },
  {
   "cell_type": "code",
   "execution_count": 3,
   "metadata": {},
   "outputs": [
    {
     "data": {
      "text/plain": [
       "cwd: '/Users/Chow/Desktop/pyaflowa_example/workdir/{source_name}'\n",
       "datasets: '/Users/Chow/Desktop/pyaflowa_example/workdir/datasets'\n",
       "figures: '/Users/Chow/Desktop/pyaflowa_example/workdir/{source_name}/figures'\n",
       "logs: '/Users/Chow/Desktop/pyaflowa_example/workdir/logs'\n",
       "stations_file: '/Users/Chow/Desktop/pyaflowa_example/workdir/{source_name}/STATIONS'\n",
       "responses: '/Users/Chow/Desktop/pyaflowa_example/workdir/input/responses'\n",
       "waveforms: '/Users/Chow/Desktop/pyaflowa_example/workdir/input/waveforms'\n",
       "synthetics: '/Users/Chow/Desktop/pyaflowa_example/workdir/input/synthetics/{source_name}'\n",
       "adjsrcs: '/Users/Chow/Desktop/pyaflowa_example/workdir/{source_name}/adjsrcs'"
      ]
     },
     "execution_count": 3,
     "metadata": {},
     "output_type": "execute_result"
    }
   ],
   "source": [
    "# We can take a look at Pyaflowa's internal directory structure with the path_structure attribute\n",
    "pf.path_structure"
   ]
  },
  {
   "cell_type": "code",
   "execution_count": 35,
   "metadata": {},
   "outputs": [
    {
     "data": {
      "text/plain": [
       "cwd: '/Users/Chow/Desktop/pyaflowa_example/workdir/{source_name}'\n",
       "datasets: '/Users/Chow/Desktop/pyaflowa_example/workdir/datasets'\n",
       "figures: '/Users/Chow/Desktop/pyaflowa_example/workdir/{source_name}/figures'\n",
       "logs: '/Users/Chow/Desktop/pyaflowa_example/workdir/logs'\n",
       "stations_file: '/Users/Chow/Desktop/pyaflowa_example/STATIONS'\n",
       "responses: '/Users/Chow/Desktop/pyaflowa_example/workdir/input/responses'\n",
       "waveforms: '/Users/Chow/Desktop/pyaflowa_example/workdir/input/waveforms'\n",
       "synthetics: '/Users/Chow/Desktop/pyaflowa_example/synthetics/2018p130600'\n",
       "adjsrcs: '/Users/Chow/Desktop/pyaflowa_example/workdir/{source_name}/adjsrcs'"
      ]
     },
     "execution_count": 35,
     "metadata": {},
     "output_type": "execute_result"
    }
   ],
   "source": [
    "# If you want different directories than the chosen defaults shown above, you can simply pass the keys \n",
    "# path_strcuture attribute as keyword arguments in the intialization of Pyaflowa\n",
    "kwargs = {\"workdir\": \"/Users/Chow/Desktop/pyaflowa_example/workdir\",\n",
    "          \"synthetics\": \"/Users/Chow/Desktop/pyaflowa_example/synthetics/2018p130600\",\n",
    "          \"stations_file\": \"/Users/Chow/Desktop/pyaflowa_example/STATIONS\"\n",
    "         }\n",
    "\n",
    "pf = Pyaflowa(structure=\"standalone\", config=cfg, **kwargs)\n",
    "pf.path_structure"
   ]
  },
  {
   "cell_type": "code",
   "execution_count": 4,
   "metadata": {},
   "outputs": [],
   "source": [
    "# By running setup, Pyaflow will generate the required directory structure.\n",
    "# It will also return an IO object, which will be used to store internal attributes for\n",
    "# each source processing. You don't need to interact with the IO object, but we can take a look\n",
    "# at it for clarity\n",
    "io = pf.setup(source_name=\"2018p130600\")"
   ]
  },
  {
   "cell_type": "markdown",
   "metadata": {},
   "source": [
    "### Run Pyaflowa (gather and process waveforms)\n",
    "\n",
    "Great, that's all we need to do for setup, Pyaflowa knows the event, path structure and stations that we want to use for misfit quantification, all we have to do is run it."
   ]
  },
  {
   "cell_type": "code",
   "execution_count": 5,
   "metadata": {},
   "outputs": [
    {
     "name": "stderr",
     "output_type": "stream",
     "text": [
      "[2020-10-14 12:49:10] - pyatoa - INFO: \n",
      "================================================================================\n",
      "\n",
      "NZ.MRZ.??.HH?\n",
      "\n",
      "================================================================================\n",
      "[2020-10-14 12:49:10] - pyatoa - DEBUG: gathering event\n",
      "[2020-10-14 12:49:11] - pyatoa - DEBUG: matching event found: 2018p130600\n",
      "[2020-10-14 12:49:11] - pyatoa - INFO: gathering data for NZ.MRZ.??.HH?\n",
      "[2020-10-14 12:49:11] - pyatoa - INFO: gathering observed waveforms\n",
      "[2020-10-14 12:49:11] - pyatoa - DEBUG: searching ASDFDataSet\n",
      "[2020-10-14 12:49:11] - pyatoa - INFO: matching observed waveforms found\n",
      "[2020-10-14 12:49:11] - pyatoa - INFO: gathering StationXML\n",
      "[2020-10-14 12:49:11] - pyatoa - DEBUG: searching ASDFDataSet\n",
      "[2020-10-14 12:49:11] - pyatoa - INFO: matching StationXML found\n",
      "[2020-10-14 12:49:11] - pyatoa - INFO: gathering synthetic waveforms\n",
      "[2020-10-14 12:49:11] - pyatoa - DEBUG: searching ASDFDataSet\n",
      "[2020-10-14 12:49:11] - pyatoa - DEBUG: searching local filesystem\n",
      "[2020-10-14 12:49:11] - pyatoa - DEBUG: retrieved local file:\n",
      "/Users/Chow/Desktop/pyaflowa_example/synthetics/2018p130600/NZ.MRZ.BXZ.semd\n",
      "[2020-10-14 12:49:11] - pyatoa - DEBUG: retrieved local file:\n",
      "/Users/Chow/Desktop/pyaflowa_example/synthetics/2018p130600/NZ.MRZ.BXN.semd\n",
      "[2020-10-14 12:49:11] - pyatoa - DEBUG: retrieved local file:\n",
      "/Users/Chow/Desktop/pyaflowa_example/synthetics/2018p130600/NZ.MRZ.BXE.semd\n",
      "[2020-10-14 12:49:11] - pyatoa - INFO: matching synthetic waveforms found\n",
      "[2020-10-14 12:49:11] - pyatoa - INFO: saved to ASDFDataSet with tag 'synthetic_i01s00'\n",
      "[2020-10-14 12:49:11] - pyatoa - INFO: standardizing streams\n",
      "[2020-10-14 12:49:11] - pyatoa - DEBUG: zero pad NZ.MRZ.10.HHE (0, 0) samples\n",
      "[2020-10-14 12:49:11] - pyatoa - DEBUG: new starttime NZ.MRZ.10.HHE: 2018-02-18T07:43:28.127644Z\n",
      "[2020-10-14 12:49:11] - pyatoa - DEBUG: zero pad NZ.MRZ.10.HHN (0, 0) samples\n",
      "[2020-10-14 12:49:11] - pyatoa - DEBUG: new starttime NZ.MRZ.10.HHN: 2018-02-18T07:43:28.127644Z\n",
      "[2020-10-14 12:49:11] - pyatoa - DEBUG: zero pad NZ.MRZ.10.HHZ (0, 0) samples\n",
      "[2020-10-14 12:49:11] - pyatoa - DEBUG: new starttime NZ.MRZ.10.HHZ: 2018-02-18T07:43:28.127644Z\n",
      "[2020-10-14 12:49:11] - pyatoa - DEBUG: time offset is -20.0s\n",
      "[2020-10-14 12:49:11] - pyatoa - INFO: preprocessing observation data\n",
      "[2020-10-14 12:49:11] - pyatoa - INFO: adjusting taper to cover time offset -20.0\n",
      "[2020-10-14 12:49:11] - pyatoa - DEBUG: removing response, units to DISP\n",
      "[2020-10-14 12:49:11] - pyatoa - DEBUG: bandpass filter: 10.0 - 30.0s w/ 2.0 corners\n",
      "[2020-10-14 12:49:11] - pyatoa - INFO: preprocessing synthetic data\n",
      "[2020-10-14 12:49:11] - pyatoa - INFO: adjusting taper to cover time offset -20.0\n",
      "[2020-10-14 12:49:11] - pyatoa - DEBUG: bandpass filter: 10.0 - 30.0s w/ 2.0 corners\n",
      "[2020-10-14 12:49:11] - pyatoa - INFO: running Pyflex w/ map: nznorth_10-30s\n",
      "[2020-10-14 12:49:12,135] - pyflex - INFO: Calculated travel times.\n",
      "[2020-10-14 12:49:12,136] - pyflex - INFO: Calculating envelope of synthetics.\n",
      "[2020-10-14 12:49:12,138] - pyflex - INFO: Calculating STA/LTA.\n",
      "[2020-10-14 12:49:12,142] - pyflex - INFO: Initial window selection yielded 2 possible windows.\n",
      "[2020-10-14 12:49:12,143] - pyflex - INFO: Rejection based on travel times retained 2 windows.\n",
      "[2020-10-14 12:49:12,148] - pyflex - INFO: Global SNR checks passed. Integrated SNR: 264017440516.557770, Amplitude SNR: 1258959.382416\n",
      "[2020-10-14 12:49:12,150] - pyflex - INFO: Rejection based on minimum window length retained 2 windows.\n",
      "[2020-10-14 12:49:12,152] - pyflex - INFO: Water level rejection retained 1 windows\n",
      "[2020-10-14 12:49:12,154] - pyflex - INFO: Single phase group rejection retained 1 windows\n",
      "[2020-10-14 12:49:12,155] - pyflex - INFO: Removing duplicates retains 1 windows.\n",
      "[2020-10-14 12:49:12,159] - pyflex - INFO: Rejection based on minimum window length retained 1 windows.\n",
      "[2020-10-14 12:49:12,160] - pyflex - INFO: SN amplitude ratio window rejection retained 1 windows\n",
      "[2020-10-14 12:49:12,173] - pyflex - INFO: Rejection based on data fit criteria retained 1 windows.\n",
      "[2020-10-14 12:49:12,175] - pyflex - INFO: Weighted interval schedule optimization retained 1 windows.\n",
      "[2020-10-14 12:49:12] - pyatoa - INFO: 1 window(s) selected for comp E\n",
      "[2020-10-14 12:49:12,440] - pyflex - INFO: Calculated travel times.\n",
      "[2020-10-14 12:49:12,441] - pyflex - INFO: Calculating envelope of synthetics.\n",
      "[2020-10-14 12:49:12,444] - pyflex - INFO: Calculating STA/LTA.\n",
      "[2020-10-14 12:49:12,449] - pyflex - INFO: Initial window selection yielded 10 possible windows.\n",
      "[2020-10-14 12:49:12,454] - pyflex - INFO: Rejection based on travel times retained 10 windows.\n",
      "[2020-10-14 12:49:12,458] - pyflex - INFO: Global SNR checks passed. Integrated SNR: 77923017814.387436, Amplitude SNR: 910031.449340\n",
      "[2020-10-14 12:49:12,460] - pyflex - INFO: Rejection based on minimum window length retained 10 windows.\n",
      "[2020-10-14 12:49:12,461] - pyflex - INFO: Water level rejection retained 4 windows\n",
      "[2020-10-14 12:49:12,463] - pyflex - INFO: Single phase group rejection retained 4 windows\n",
      "[2020-10-14 12:49:12,464] - pyflex - INFO: Removing duplicates retains 3 windows.\n",
      "[2020-10-14 12:49:12,465] - pyflex - INFO: Rejection based on minimum window length retained 3 windows.\n",
      "[2020-10-14 12:49:12,473] - pyflex - INFO: SN amplitude ratio window rejection retained 3 windows\n",
      "[2020-10-14 12:49:12,487] - pyflex - DEBUG: Window rejected due to CC value: 0.635258\n",
      "[2020-10-14 12:49:12,488] - pyflex - INFO: Rejection based on data fit criteria retained 2 windows.\n",
      "[2020-10-14 12:49:12,489] - pyflex - INFO: Weighted interval schedule optimization retained 1 windows.\n",
      "[2020-10-14 12:49:12] - pyatoa - INFO: 1 window(s) selected for comp N\n",
      "[2020-10-14 12:49:12,753] - pyflex - INFO: Calculated travel times.\n",
      "[2020-10-14 12:49:12,755] - pyflex - INFO: Calculating envelope of synthetics.\n",
      "[2020-10-14 12:49:12,758] - pyflex - INFO: Calculating STA/LTA.\n",
      "[2020-10-14 12:49:12,762] - pyflex - INFO: Initial window selection yielded 10 possible windows.\n",
      "[2020-10-14 12:49:12,764] - pyflex - INFO: Rejection based on travel times retained 10 windows.\n",
      "[2020-10-14 12:49:12,766] - pyflex - INFO: Global SNR checks passed. Integrated SNR: 13630877757492734.000000, Amplitude SNR: 439117917.018032\n",
      "[2020-10-14 12:49:12,771] - pyflex - INFO: Rejection based on minimum window length retained 9 windows.\n",
      "[2020-10-14 12:49:12,775] - pyflex - INFO: Water level rejection retained 3 windows\n",
      "[2020-10-14 12:49:12,777] - pyflex - INFO: Single phase group rejection retained 3 windows\n",
      "[2020-10-14 12:49:12,779] - pyflex - INFO: Removing duplicates retains 2 windows.\n",
      "[2020-10-14 12:49:12,781] - pyflex - INFO: Rejection based on minimum window length retained 2 windows.\n",
      "[2020-10-14 12:49:12,786] - pyflex - INFO: SN amplitude ratio window rejection retained 2 windows\n",
      "[2020-10-14 12:49:12,812] - pyflex - INFO: Rejection based on data fit criteria retained 2 windows.\n",
      "[2020-10-14 12:49:12,814] - pyflex - INFO: Weighted interval schedule optimization retained 1 windows.\n",
      "[2020-10-14 12:49:12] - pyatoa - INFO: 1 window(s) selected for comp Z\n",
      "[2020-10-14 12:49:12] - pyatoa - DEBUG: saving misfit windows to ASDFDataSet\n",
      "[2020-10-14 12:49:12] - pyatoa - INFO: 3 window(s) total found\n",
      "[2020-10-14 12:49:12] - pyatoa - DEBUG: running Pyadjoint w/ type: cc_traveltime_misfit\n",
      "[2020-10-14 12:49:12] - pyatoa - INFO: 0.353 misfit for comp E\n",
      "[2020-10-14 12:49:12] - pyatoa - INFO: 0.162 misfit for comp N\n",
      "[2020-10-14 12:49:12] - pyatoa - INFO: 0.101 misfit for comp Z\n",
      "[2020-10-14 12:49:12] - pyatoa - DEBUG: saving adjoint sources to ASDFDataSet\n",
      "[2020-10-14 12:49:12] - pyatoa - INFO: total misfit 0.616\n",
      "/Users/Chow/Documents/academic/vuw/packages/pyatoa/pyatoa/visuals/map_maker.py:151: MatplotlibDeprecationWarning: \n",
      "The dedent function was deprecated in Matplotlib 3.1 and will be removed in 3.3. Use inspect.cleandoc instead.\n",
      "  area_thresh=area_thresh, ax=ax,\n",
      "[2020-10-14 12:49:15] - pyatoa - INFO: \n",
      "================================================================================\n",
      "\n",
      "NZ.TSZ.??.HH?\n",
      "\n",
      "================================================================================\n",
      "[2020-10-14 12:49:15] - pyatoa - INFO: gathering data for NZ.TSZ.??.HH?\n",
      "[2020-10-14 12:49:15] - pyatoa - INFO: gathering observed waveforms\n"
     ]
    },
    {
     "name": "stderr",
     "output_type": "stream",
     "text": [
      "[2020-10-14 12:49:15] - pyatoa - DEBUG: searching ASDFDataSet\n",
      "[2020-10-14 12:49:15] - pyatoa - DEBUG: searching local filesystem\n",
      "[2020-10-14 12:49:15] - pyatoa - DEBUG: querying client GEONET\n",
      "[2020-10-14 12:49:16] - pyatoa - INFO: matching observed waveforms found\n",
      "[2020-10-14 12:49:16] - pyatoa - INFO: saved to ASDFDataSet with tag 'observed'\n",
      "[2020-10-14 12:49:16] - pyatoa - INFO: gathering StationXML\n",
      "[2020-10-14 12:49:16] - pyatoa - DEBUG: searching ASDFDataSet\n",
      "[2020-10-14 12:49:16] - pyatoa - DEBUG: searching local filesystem\n",
      "[2020-10-14 12:49:16] - pyatoa - DEBUG: querying client GEONET\n",
      "/Users/Chow/miniconda3/envs/tomo/lib/python3.7/site-packages/obspy/io/stationxml/core.py:98: UserWarning: The StationXML file has version 1, ObsPy can read versions (1.0, 1.1). Proceed with caution.\n",
      "  version, \", \".join(READABLE_VERSIONS)))\n",
      "[2020-10-14 12:49:17] - pyatoa - INFO: matching StationXML found\n",
      "[2020-10-14 12:49:17] - pyatoa - INFO: saved to ASDFDataSet\n",
      "[2020-10-14 12:49:17] - pyatoa - INFO: gathering synthetic waveforms\n",
      "[2020-10-14 12:49:17] - pyatoa - DEBUG: searching ASDFDataSet\n",
      "[2020-10-14 12:49:17] - pyatoa - DEBUG: searching local filesystem\n",
      "[2020-10-14 12:49:17] - pyatoa - DEBUG: retrieved local file:\n",
      "/Users/Chow/Desktop/pyaflowa_example/synthetics/2018p130600/NZ.TSZ.BXN.semd\n",
      "[2020-10-14 12:49:17] - pyatoa - DEBUG: retrieved local file:\n",
      "/Users/Chow/Desktop/pyaflowa_example/synthetics/2018p130600/NZ.TSZ.BXZ.semd\n",
      "[2020-10-14 12:49:17] - pyatoa - DEBUG: retrieved local file:\n",
      "/Users/Chow/Desktop/pyaflowa_example/synthetics/2018p130600/NZ.TSZ.BXE.semd\n",
      "[2020-10-14 12:49:17] - pyatoa - INFO: matching synthetic waveforms found\n",
      "[2020-10-14 12:49:17] - pyatoa - INFO: saved to ASDFDataSet with tag 'synthetic_i01s00'\n",
      "[2020-10-14 12:49:17] - pyatoa - INFO: standardizing streams\n",
      "[2020-10-14 12:49:17] - pyatoa - DEBUG: shifting NZ.TSZ.10.HHE starttime by 0.004518s\n",
      "[2020-10-14 12:49:17] - pyatoa - DEBUG: shifting NZ.TSZ.10.HHN starttime by 0.004517s\n",
      "[2020-10-14 12:49:17] - pyatoa - DEBUG: shifting NZ.TSZ.10.HHZ starttime by 0.004517s\n",
      "[2020-10-14 12:49:17] - pyatoa - DEBUG: time offset is -20.0s\n",
      "[2020-10-14 12:49:17] - pyatoa - INFO: preprocessing observation data\n",
      "[2020-10-14 12:49:17] - pyatoa - INFO: adjusting taper to cover time offset -20.0\n",
      "[2020-10-14 12:49:17] - pyatoa - DEBUG: removing response, units to DISP\n",
      "[2020-10-14 12:49:17] - pyatoa - DEBUG: bandpass filter: 10.0 - 30.0s w/ 2.0 corners\n",
      "[2020-10-14 12:49:17] - pyatoa - INFO: preprocessing synthetic data\n",
      "[2020-10-14 12:49:17] - pyatoa - INFO: adjusting taper to cover time offset -20.0\n",
      "[2020-10-14 12:49:17] - pyatoa - DEBUG: bandpass filter: 10.0 - 30.0s w/ 2.0 corners\n",
      "[2020-10-14 12:49:17] - pyatoa - INFO: running Pyflex w/ map: nznorth_10-30s\n",
      "[2020-10-14 12:49:18,059] - pyflex - INFO: Calculated travel times.\n",
      "[2020-10-14 12:49:18,060] - pyflex - INFO: Calculating envelope of synthetics.\n",
      "[2020-10-14 12:49:18,063] - pyflex - INFO: Calculating STA/LTA.\n",
      "[2020-10-14 12:49:18] - pyatoa - WARNING: Cannot window, most likely because the source-receiver distance is too small w.r.t the minimum period\n",
      "/Users/Chow/Documents/academic/vuw/packages/pyatoa/pyatoa/visuals/map_maker.py:151: MatplotlibDeprecationWarning: \n",
      "The dedent function was deprecated in Matplotlib 3.1 and will be removed in 3.3. Use inspect.cleandoc instead.\n",
      "  area_thresh=area_thresh, ax=ax,\n",
      "[2020-10-14 12:49:19] - pyatoa - INFO: \n",
      "================================================================================\n",
      "\n",
      "NZ.VRZ.??.HH?\n",
      "\n",
      "================================================================================\n",
      "[2020-10-14 12:49:19] - pyatoa - INFO: gathering data for NZ.VRZ.??.HH?\n",
      "[2020-10-14 12:49:19] - pyatoa - INFO: gathering observed waveforms\n",
      "[2020-10-14 12:49:19] - pyatoa - DEBUG: searching ASDFDataSet\n",
      "[2020-10-14 12:49:19] - pyatoa - DEBUG: searching local filesystem\n",
      "[2020-10-14 12:49:19] - pyatoa - DEBUG: querying client GEONET\n",
      "[2020-10-14 12:49:21] - pyatoa - INFO: matching observed waveforms found\n",
      "[2020-10-14 12:49:21] - pyatoa - INFO: saved to ASDFDataSet with tag 'observed'\n",
      "[2020-10-14 12:49:21] - pyatoa - INFO: gathering StationXML\n",
      "[2020-10-14 12:49:21] - pyatoa - DEBUG: searching ASDFDataSet\n",
      "[2020-10-14 12:49:21] - pyatoa - DEBUG: searching local filesystem\n",
      "[2020-10-14 12:49:21] - pyatoa - DEBUG: querying client GEONET\n",
      "/Users/Chow/miniconda3/envs/tomo/lib/python3.7/site-packages/obspy/io/stationxml/core.py:98: UserWarning: The StationXML file has version 1, ObsPy can read versions (1.0, 1.1). Proceed with caution.\n",
      "  version, \", \".join(READABLE_VERSIONS)))\n",
      "[2020-10-14 12:49:21] - pyatoa - INFO: matching StationXML found\n",
      "[2020-10-14 12:49:21] - pyatoa - INFO: saved to ASDFDataSet\n",
      "[2020-10-14 12:49:21] - pyatoa - INFO: gathering synthetic waveforms\n",
      "[2020-10-14 12:49:21] - pyatoa - DEBUG: searching ASDFDataSet\n",
      "[2020-10-14 12:49:21] - pyatoa - DEBUG: searching local filesystem\n",
      "[2020-10-14 12:49:22] - pyatoa - DEBUG: retrieved local file:\n",
      "/Users/Chow/Desktop/pyaflowa_example/synthetics/2018p130600/NZ.VRZ.BXN.semd\n",
      "[2020-10-14 12:49:22] - pyatoa - DEBUG: retrieved local file:\n",
      "/Users/Chow/Desktop/pyaflowa_example/synthetics/2018p130600/NZ.VRZ.BXZ.semd\n",
      "[2020-10-14 12:49:22] - pyatoa - DEBUG: retrieved local file:\n",
      "/Users/Chow/Desktop/pyaflowa_example/synthetics/2018p130600/NZ.VRZ.BXE.semd\n",
      "[2020-10-14 12:49:22] - pyatoa - INFO: matching synthetic waveforms found\n",
      "[2020-10-14 12:49:22] - pyatoa - INFO: saved to ASDFDataSet with tag 'synthetic_i01s00'\n",
      "[2020-10-14 12:49:22] - pyatoa - INFO: standardizing streams\n",
      "[2020-10-14 12:49:22] - pyatoa - DEBUG: zero pad NZ.VRZ.10.HHE (0, 0) samples\n",
      "[2020-10-14 12:49:22] - pyatoa - DEBUG: new starttime NZ.VRZ.10.HHE: 2018-02-18T07:43:28.127644Z\n",
      "[2020-10-14 12:49:22] - pyatoa - DEBUG: zero pad NZ.VRZ.10.HHN (0, 0) samples\n",
      "[2020-10-14 12:49:22] - pyatoa - DEBUG: new starttime NZ.VRZ.10.HHN: 2018-02-18T07:43:28.127644Z\n",
      "[2020-10-14 12:49:22] - pyatoa - DEBUG: zero pad NZ.VRZ.10.HHZ (0, 0) samples\n",
      "[2020-10-14 12:49:22] - pyatoa - DEBUG: new starttime NZ.VRZ.10.HHZ: 2018-02-18T07:43:28.127644Z\n",
      "[2020-10-14 12:49:22] - pyatoa - DEBUG: time offset is -20.0s\n",
      "[2020-10-14 12:49:22] - pyatoa - INFO: preprocessing observation data\n",
      "[2020-10-14 12:49:22] - pyatoa - INFO: adjusting taper to cover time offset -20.0\n",
      "[2020-10-14 12:49:22] - pyatoa - DEBUG: removing response, units to DISP\n",
      "[2020-10-14 12:49:22] - pyatoa - DEBUG: bandpass filter: 10.0 - 30.0s w/ 2.0 corners\n",
      "[2020-10-14 12:49:22] - pyatoa - INFO: preprocessing synthetic data\n",
      "[2020-10-14 12:49:22] - pyatoa - INFO: adjusting taper to cover time offset -20.0\n",
      "[2020-10-14 12:49:22] - pyatoa - DEBUG: bandpass filter: 10.0 - 30.0s w/ 2.0 corners\n",
      "[2020-10-14 12:49:22] - pyatoa - INFO: running Pyflex w/ map: nznorth_10-30s\n",
      "[2020-10-14 12:49:22,983] - pyflex - INFO: Calculated travel times.\n",
      "[2020-10-14 12:49:22,984] - pyflex - INFO: Calculating envelope of synthetics.\n",
      "[2020-10-14 12:49:22,986] - pyflex - INFO: Calculating STA/LTA.\n",
      "[2020-10-14 12:49:22,990] - pyflex - INFO: Initial window selection yielded 13 possible windows.\n",
      "[2020-10-14 12:49:22,991] - pyflex - INFO: Rejection based on travel times retained 13 windows.\n",
      "[2020-10-14 12:49:22,993] - pyflex - INFO: Global SNR checks passed. Integrated SNR: 23466401785.848949, Amplitude SNR: 384703.121687\n",
      "[2020-10-14 12:49:22,994] - pyflex - INFO: Rejection based on minimum window length retained 13 windows.\n",
      "[2020-10-14 12:49:22,997] - pyflex - INFO: Water level rejection retained 4 windows\n",
      "[2020-10-14 12:49:22,999] - pyflex - INFO: Single phase group rejection retained 4 windows\n",
      "[2020-10-14 12:49:23,001] - pyflex - INFO: Removing duplicates retains 3 windows.\n",
      "[2020-10-14 12:49:23,002] - pyflex - INFO: Rejection based on minimum window length retained 3 windows.\n",
      "[2020-10-14 12:49:23,004] - pyflex - INFO: SN amplitude ratio window rejection retained 3 windows\n",
      "[2020-10-14 12:49:23,021] - pyflex - DEBUG: Window rejected due to CC value: 0.674051\n",
      "[2020-10-14 12:49:23,022] - pyflex - INFO: Rejection based on data fit criteria retained 2 windows.\n",
      "[2020-10-14 12:49:23,025] - pyflex - INFO: Weighted interval schedule optimization retained 1 windows.\n",
      "[2020-10-14 12:49:23] - pyatoa - INFO: 1 window(s) selected for comp E\n",
      "[2020-10-14 12:49:23,370] - pyflex - INFO: Calculated travel times.\n"
     ]
    },
    {
     "name": "stderr",
     "output_type": "stream",
     "text": [
      "[2020-10-14 12:49:23,371] - pyflex - INFO: Calculating envelope of synthetics.\n",
      "[2020-10-14 12:49:23,374] - pyflex - INFO: Calculating STA/LTA.\n",
      "[2020-10-14 12:49:23,377] - pyflex - INFO: Initial window selection yielded 13 possible windows.\n",
      "[2020-10-14 12:49:23,378] - pyflex - INFO: Rejection based on travel times retained 13 windows.\n",
      "[2020-10-14 12:49:23,379] - pyflex - INFO: Global SNR checks passed. Integrated SNR: 31526068792.084240, Amplitude SNR: 495295.417949\n",
      "[2020-10-14 12:49:23,381] - pyflex - INFO: Rejection based on minimum window length retained 13 windows.\n",
      "[2020-10-14 12:49:23,382] - pyflex - INFO: Water level rejection retained 4 windows\n",
      "[2020-10-14 12:49:23,384] - pyflex - INFO: Single phase group rejection retained 4 windows\n",
      "[2020-10-14 12:49:23,389] - pyflex - INFO: Removing duplicates retains 3 windows.\n",
      "[2020-10-14 12:49:23,391] - pyflex - INFO: Rejection based on minimum window length retained 3 windows.\n",
      "[2020-10-14 12:49:23,395] - pyflex - INFO: SN amplitude ratio window rejection retained 3 windows\n",
      "[2020-10-14 12:49:23,408] - pyflex - INFO: Rejection based on data fit criteria retained 3 windows.\n",
      "[2020-10-14 12:49:23,409] - pyflex - INFO: Weighted interval schedule optimization retained 1 windows.\n",
      "[2020-10-14 12:49:23] - pyatoa - INFO: 1 window(s) selected for comp N\n",
      "[2020-10-14 12:49:23,750] - pyflex - INFO: Calculated travel times.\n",
      "[2020-10-14 12:49:23,751] - pyflex - INFO: Calculating envelope of synthetics.\n",
      "[2020-10-14 12:49:23,753] - pyflex - INFO: Calculating STA/LTA.\n",
      "[2020-10-14 12:49:23,756] - pyflex - INFO: Initial window selection yielded 10 possible windows.\n",
      "[2020-10-14 12:49:23,757] - pyflex - INFO: Rejection based on travel times retained 10 windows.\n",
      "[2020-10-14 12:49:23,760] - pyflex - INFO: Global SNR checks passed. Integrated SNR: 26562645049.026962, Amplitude SNR: 378503.886561\n",
      "[2020-10-14 12:49:23,762] - pyflex - INFO: Rejection based on minimum window length retained 9 windows.\n",
      "[2020-10-14 12:49:23,764] - pyflex - INFO: Water level rejection retained 3 windows\n",
      "[2020-10-14 12:49:23,766] - pyflex - INFO: Single phase group rejection retained 3 windows\n",
      "[2020-10-14 12:49:23,768] - pyflex - INFO: Removing duplicates retains 2 windows.\n",
      "[2020-10-14 12:49:23,769] - pyflex - INFO: Rejection based on minimum window length retained 2 windows.\n",
      "[2020-10-14 12:49:23,770] - pyflex - INFO: SN amplitude ratio window rejection retained 2 windows\n",
      "[2020-10-14 12:49:23,799] - pyflex - INFO: Rejection based on data fit criteria retained 2 windows.\n",
      "[2020-10-14 12:49:23,801] - pyflex - INFO: Weighted interval schedule optimization retained 1 windows.\n",
      "[2020-10-14 12:49:23] - pyatoa - INFO: 1 window(s) selected for comp Z\n",
      "[2020-10-14 12:49:23] - pyatoa - DEBUG: saving misfit windows to ASDFDataSet\n",
      "[2020-10-14 12:49:23] - pyatoa - INFO: 3 window(s) total found\n",
      "[2020-10-14 12:49:23] - pyatoa - DEBUG: running Pyadjoint w/ type: cc_traveltime_misfit\n",
      "[2020-10-14 12:49:23] - pyatoa - INFO: 0.208 misfit for comp E\n",
      "[2020-10-14 12:49:23] - pyatoa - INFO: 0.014 misfit for comp N\n",
      "[2020-10-14 12:49:23] - pyatoa - INFO: 0.070 misfit for comp Z\n",
      "[2020-10-14 12:49:23] - pyatoa - DEBUG: saving adjoint sources to ASDFDataSet\n",
      "[2020-10-14 12:49:23] - pyatoa - INFO: total misfit 0.292\n",
      "/Users/Chow/Documents/academic/vuw/packages/pyatoa/pyatoa/visuals/map_maker.py:151: MatplotlibDeprecationWarning: \n",
      "The dedent function was deprecated in Matplotlib 3.1 and will be removed in 3.3. Use inspect.cleandoc instead.\n",
      "  area_thresh=area_thresh, ax=ax,\n",
      "[2020-10-14 12:49:25] - pyatoa - INFO: \n",
      "================================================================================\n",
      "\n",
      "NZ.WAZ.??.HH?\n",
      "\n",
      "================================================================================\n",
      "[2020-10-14 12:49:25] - pyatoa - INFO: gathering data for NZ.WAZ.??.HH?\n",
      "[2020-10-14 12:49:25] - pyatoa - INFO: gathering observed waveforms\n",
      "[2020-10-14 12:49:25] - pyatoa - DEBUG: searching ASDFDataSet\n",
      "[2020-10-14 12:49:25] - pyatoa - DEBUG: searching local filesystem\n",
      "[2020-10-14 12:49:25] - pyatoa - DEBUG: querying client GEONET\n",
      "[2020-10-14 12:49:28] - pyatoa - INFO: matching observed waveforms found\n",
      "[2020-10-14 12:49:28] - pyatoa - INFO: saved to ASDFDataSet with tag 'observed'\n",
      "[2020-10-14 12:49:28] - pyatoa - INFO: gathering StationXML\n",
      "[2020-10-14 12:49:28] - pyatoa - DEBUG: searching ASDFDataSet\n",
      "[2020-10-14 12:49:28] - pyatoa - DEBUG: searching local filesystem\n",
      "[2020-10-14 12:49:28] - pyatoa - DEBUG: querying client GEONET\n",
      "/Users/Chow/miniconda3/envs/tomo/lib/python3.7/site-packages/obspy/io/stationxml/core.py:98: UserWarning: The StationXML file has version 1, ObsPy can read versions (1.0, 1.1). Proceed with caution.\n",
      "  version, \", \".join(READABLE_VERSIONS)))\n",
      "[2020-10-14 12:49:28] - pyatoa - INFO: matching StationXML found\n",
      "[2020-10-14 12:49:28] - pyatoa - INFO: saved to ASDFDataSet\n",
      "[2020-10-14 12:49:28] - pyatoa - INFO: gathering synthetic waveforms\n",
      "[2020-10-14 12:49:28] - pyatoa - DEBUG: searching ASDFDataSet\n",
      "[2020-10-14 12:49:28] - pyatoa - DEBUG: searching local filesystem\n",
      "[2020-10-14 12:49:28] - pyatoa - DEBUG: retrieved local file:\n",
      "/Users/Chow/Desktop/pyaflowa_example/synthetics/2018p130600/NZ.WAZ.BXN.semd\n",
      "[2020-10-14 12:49:28] - pyatoa - DEBUG: retrieved local file:\n",
      "/Users/Chow/Desktop/pyaflowa_example/synthetics/2018p130600/NZ.WAZ.BXZ.semd\n",
      "[2020-10-14 12:49:28] - pyatoa - DEBUG: retrieved local file:\n",
      "/Users/Chow/Desktop/pyaflowa_example/synthetics/2018p130600/NZ.WAZ.BXE.semd\n",
      "[2020-10-14 12:49:28] - pyatoa - INFO: matching synthetic waveforms found\n",
      "[2020-10-14 12:49:28] - pyatoa - INFO: saved to ASDFDataSet with tag 'synthetic_i01s00'\n",
      "[2020-10-14 12:49:28] - pyatoa - INFO: standardizing streams\n",
      "[2020-10-14 12:49:28] - pyatoa - DEBUG: zero pad NZ.WAZ.10.HHE (0, 0) samples\n",
      "[2020-10-14 12:49:28] - pyatoa - DEBUG: new starttime NZ.WAZ.10.HHE: 2018-02-18T07:43:28.127644Z\n",
      "[2020-10-14 12:49:28] - pyatoa - DEBUG: zero pad NZ.WAZ.10.HHN (0, 0) samples\n",
      "[2020-10-14 12:49:28] - pyatoa - DEBUG: new starttime NZ.WAZ.10.HHN: 2018-02-18T07:43:28.127644Z\n",
      "[2020-10-14 12:49:28] - pyatoa - DEBUG: zero pad NZ.WAZ.10.HHZ (0, 0) samples\n",
      "[2020-10-14 12:49:28] - pyatoa - DEBUG: new starttime NZ.WAZ.10.HHZ: 2018-02-18T07:43:28.127644Z\n",
      "[2020-10-14 12:49:28] - pyatoa - DEBUG: time offset is -20.0s\n",
      "[2020-10-14 12:49:28] - pyatoa - INFO: preprocessing observation data\n",
      "[2020-10-14 12:49:28] - pyatoa - INFO: adjusting taper to cover time offset -20.0\n",
      "[2020-10-14 12:49:28] - pyatoa - DEBUG: removing response, units to DISP\n",
      "[2020-10-14 12:49:28] - pyatoa - DEBUG: bandpass filter: 10.0 - 30.0s w/ 2.0 corners\n",
      "[2020-10-14 12:49:28] - pyatoa - INFO: preprocessing synthetic data\n",
      "[2020-10-14 12:49:29] - pyatoa - INFO: adjusting taper to cover time offset -20.0\n",
      "[2020-10-14 12:49:29] - pyatoa - DEBUG: bandpass filter: 10.0 - 30.0s w/ 2.0 corners\n",
      "[2020-10-14 12:49:29] - pyatoa - INFO: running Pyflex w/ map: nznorth_10-30s\n",
      "[2020-10-14 12:49:29,296] - pyflex - INFO: Calculated travel times.\n",
      "[2020-10-14 12:49:29,297] - pyflex - INFO: Calculating envelope of synthetics.\n",
      "[2020-10-14 12:49:29,299] - pyflex - INFO: Calculating STA/LTA.\n",
      "[2020-10-14 12:49:29,303] - pyflex - INFO: Initial window selection yielded 22 possible windows.\n",
      "[2020-10-14 12:49:29,304] - pyflex - INFO: Rejection based on travel times retained 22 windows.\n",
      "[2020-10-14 12:49:29,305] - pyflex - INFO: Global SNR checks passed. Integrated SNR: 28382657308.913177, Amplitude SNR: 494242.727553\n",
      "[2020-10-14 12:49:29,309] - pyflex - INFO: Rejection based on minimum window length retained 20 windows.\n",
      "[2020-10-14 12:49:29,312] - pyflex - INFO: Water level rejection retained 8 windows\n",
      "[2020-10-14 12:49:29,314] - pyflex - INFO: Single phase group rejection retained 8 windows\n",
      "[2020-10-14 12:49:29,316] - pyflex - INFO: Removing duplicates retains 4 windows.\n",
      "[2020-10-14 12:49:29,318] - pyflex - INFO: Rejection based on minimum window length retained 4 windows.\n",
      "[2020-10-14 12:49:29,319] - pyflex - INFO: SN amplitude ratio window rejection retained 4 windows\n",
      "[2020-10-14 12:49:29,350] - pyflex - INFO: Rejection based on data fit criteria retained 4 windows.\n",
      "[2020-10-14 12:49:29,351] - pyflex - INFO: Weighted interval schedule optimization retained 1 windows.\n",
      "[2020-10-14 12:49:29] - pyatoa - INFO: 1 window(s) selected for comp E\n"
     ]
    },
    {
     "name": "stderr",
     "output_type": "stream",
     "text": [
      "[2020-10-14 12:49:29,626] - pyflex - INFO: Calculated travel times.\n",
      "[2020-10-14 12:49:29,627] - pyflex - INFO: Calculating envelope of synthetics.\n",
      "[2020-10-14 12:49:29,629] - pyflex - INFO: Calculating STA/LTA.\n",
      "[2020-10-14 12:49:29,632] - pyflex - INFO: Initial window selection yielded 10 possible windows.\n",
      "[2020-10-14 12:49:29,634] - pyflex - INFO: Rejection based on travel times retained 10 windows.\n",
      "[2020-10-14 12:49:29,637] - pyflex - INFO: Global SNR checks passed. Integrated SNR: 60358322016.511925, Amplitude SNR: 576780.923209\n",
      "[2020-10-14 12:49:29,639] - pyflex - INFO: Rejection based on minimum window length retained 9 windows.\n",
      "[2020-10-14 12:49:29,641] - pyflex - INFO: Water level rejection retained 3 windows\n",
      "[2020-10-14 12:49:29,648] - pyflex - INFO: Single phase group rejection retained 3 windows\n",
      "[2020-10-14 12:49:29,650] - pyflex - INFO: Removing duplicates retains 2 windows.\n",
      "[2020-10-14 12:49:29,651] - pyflex - INFO: Rejection based on minimum window length retained 2 windows.\n",
      "[2020-10-14 12:49:29,652] - pyflex - INFO: SN amplitude ratio window rejection retained 2 windows\n",
      "[2020-10-14 12:49:29,667] - pyflex - DEBUG: Window rejected due to amplitude fit: 3.869390\n",
      "[2020-10-14 12:49:29,668] - pyflex - DEBUG: Window rejected due to amplitude fit: 3.792440\n",
      "[2020-10-14 12:49:29,669] - pyflex - INFO: Rejection based on data fit criteria retained 0 windows.\n",
      "[2020-10-14 12:49:29,671] - pyflex - INFO: Weighted interval schedule optimization retained 0 windows.\n",
      "[2020-10-14 12:49:29] - pyatoa - INFO: 0 window(s) selected for comp N\n",
      "[2020-10-14 12:49:29,964] - pyflex - INFO: Calculated travel times.\n",
      "[2020-10-14 12:49:29,965] - pyflex - INFO: Calculating envelope of synthetics.\n",
      "[2020-10-14 12:49:29,967] - pyflex - INFO: Calculating STA/LTA.\n",
      "[2020-10-14 12:49:29,970] - pyflex - INFO: Initial window selection yielded 10 possible windows.\n",
      "[2020-10-14 12:49:29,971] - pyflex - INFO: Rejection based on travel times retained 10 windows.\n",
      "[2020-10-14 12:49:29,974] - pyflex - INFO: Global SNR checks passed. Integrated SNR: 4763134899.319845, Amplitude SNR: 166126.234705\n",
      "[2020-10-14 12:49:29,975] - pyflex - INFO: Rejection based on minimum window length retained 9 windows.\n",
      "[2020-10-14 12:49:29,978] - pyflex - INFO: Water level rejection retained 3 windows\n",
      "[2020-10-14 12:49:29,980] - pyflex - INFO: Single phase group rejection retained 3 windows\n",
      "[2020-10-14 12:49:29,982] - pyflex - INFO: Removing duplicates retains 2 windows.\n",
      "[2020-10-14 12:49:29,983] - pyflex - INFO: Rejection based on minimum window length retained 2 windows.\n",
      "[2020-10-14 12:49:29,984] - pyflex - INFO: SN amplitude ratio window rejection retained 2 windows\n",
      "[2020-10-14 12:49:29,999] - pyflex - INFO: Rejection based on data fit criteria retained 2 windows.\n",
      "[2020-10-14 12:49:30,000] - pyflex - INFO: Weighted interval schedule optimization retained 1 windows.\n",
      "[2020-10-14 12:49:30] - pyatoa - INFO: 1 window(s) selected for comp Z\n",
      "[2020-10-14 12:49:30] - pyatoa - DEBUG: saving misfit windows to ASDFDataSet\n",
      "[2020-10-14 12:49:30] - pyatoa - INFO: 2 window(s) total found\n",
      "[2020-10-14 12:49:30] - pyatoa - DEBUG: running Pyadjoint w/ type: cc_traveltime_misfit\n",
      "[2020-10-14 12:49:30] - pyatoa - INFO: 1.059 misfit for comp E\n",
      "[2020-10-14 12:49:30] - pyatoa - INFO: 0.304 misfit for comp Z\n",
      "[2020-10-14 12:49:30] - pyatoa - DEBUG: saving adjoint sources to ASDFDataSet\n",
      "[2020-10-14 12:49:30] - pyatoa - INFO: total misfit 1.363\n",
      "/Users/Chow/Documents/academic/vuw/packages/pyatoa/pyatoa/visuals/map_maker.py:151: MatplotlibDeprecationWarning: \n",
      "The dedent function was deprecated in Matplotlib 3.1 and will be removed in 3.3. Use inspect.cleandoc instead.\n",
      "  area_thresh=area_thresh, ax=ax,\n",
      "[2020-10-14 12:49:32] - pyatoa - INFO: \n",
      "================================================================================\n",
      "\n",
      "SUMMARY\n",
      "\n",
      "================================================================================\n",
      "SOURCE NAME: 2018p130600\n",
      "STATIONS: 3 / 4\n",
      "WINDOWS: 8\n",
      "RAW MISFIT: 2.27\n",
      "UNEXPECTED ERRORS: 0\n"
     ]
    }
   ],
   "source": [
    "pf.run(source_names=\"2018p130600\")"
   ]
  },
  {
   "cell_type": "markdown",
   "metadata": {},
   "source": [
    "### Inspect Pyaflowa outputs\n",
    "\n",
    "Iwe have a look at the work directory, we can see the outputs of the Pyaflowa workflow, which will be:\n",
    "* An ASDFDataSet with waveforms, metadata, misfit windows and adjoint sources\n",
    "* Waveform figures for all the stations processed\n",
    "* Adjoint source ASCII files (.adj) required for a SPECFEM3D adjoint simulation\n",
    "* STATIONS_ADJOINT file required for a SPECFEM3D adjoint simulation\n",
    "* The output log which shows the "
   ]
  },
  {
   "cell_type": "code",
   "execution_count": 6,
   "metadata": {},
   "outputs": [
    {
     "name": "stdout",
     "output_type": "stream",
     "text": [
      "\u001b[1m\u001b[32m2018p130600\u001b[m\u001b[m \u001b[1m\u001b[32mdatasets\u001b[m\u001b[m    \u001b[1m\u001b[32minput\u001b[m\u001b[m       \u001b[1m\u001b[32mlogs\u001b[m\u001b[m\r\n"
     ]
    }
   ],
   "source": [
    "# Here is the working directory with all the inputs and outputs\n",
    "!ls \"/Users/Chow/Desktop/pyaflowa_example/workdir\""
   ]
  },
  {
   "cell_type": "code",
   "execution_count": 7,
   "metadata": {},
   "outputs": [
    {
     "name": "stdout",
     "output_type": "stream",
     "text": [
      "2018p130600.h5\r\n"
     ]
    }
   ],
   "source": [
    "# The ASDFDataSet contains all the data and metadata collected and created during the workflow\n",
    "# This can be viewed using the functionalities of PyASDF\n",
    "!ls \"/Users/Chow/Desktop/pyaflowa_example/workdir/datasets\""
   ]
  },
  {
   "cell_type": "code",
   "execution_count": 15,
   "metadata": {},
   "outputs": [
    {
     "name": "stdout",
     "output_type": "stream",
     "text": [
      "\u001b[1m\u001b[32madjsrcs\u001b[m\u001b[m \u001b[1m\u001b[32mfigures\u001b[m\u001b[m\r\n"
     ]
    }
   ],
   "source": [
    "# Each event will output figures and adjoint source files\n",
    "!ls \"/Users/Chow/Desktop/pyaflowa_example/workdir/2018p130600\""
   ]
  },
  {
   "cell_type": "code",
   "execution_count": 18,
   "metadata": {},
   "outputs": [
    {
     "name": "stdout",
     "output_type": "stream",
     "text": [
      "NZ.MRZ.BXE.adj NZ.MRZ.BXZ.adj NZ.VRZ.BXN.adj NZ.WAZ.BXE.adj NZ.WAZ.BXZ.adj\r\n",
      "NZ.MRZ.BXN.adj NZ.VRZ.BXE.adj NZ.VRZ.BXZ.adj NZ.WAZ.BXN.adj\r\n"
     ]
    }
   ],
   "source": [
    "# Adjoint sources are created for all components. Components that have no measurements will be written with zeros\n",
    "!ls \"/Users/Chow/Desktop/pyaflowa_example/workdir/2018p130600/adjsrcs\""
   ]
  },
  {
   "cell_type": "code",
   "execution_count": 19,
   "metadata": {},
   "outputs": [
    {
     "name": "stdout",
     "output_type": "stream",
     "text": [
      "-2.000000000000000000e+01 0.000000000000000000e+00\r\n",
      "-1.998499999999999943e+01 0.000000000000000000e+00\r\n",
      "-1.996999999999999886e+01 0.000000000000000000e+00\r\n",
      "-1.995499999999999829e+01 0.000000000000000000e+00\r\n",
      "-1.994000000000000128e+01 0.000000000000000000e+00\r\n",
      "-1.992500000000000071e+01 0.000000000000000000e+00\r\n",
      "-1.991000000000000014e+01 0.000000000000000000e+00\r\n",
      "-1.989499999999999957e+01 0.000000000000000000e+00\r\n",
      "-1.987999999999999901e+01 0.000000000000000000e+00\r\n",
      "-1.986499999999999844e+01 0.000000000000000000e+00\r\n"
     ]
    }
   ],
   "source": [
    "# Adjoint source files are created as two-column ASCII files, in the same manner as the synthetics \n",
    "# generated by SPECFEM3D\n",
    "!head \"/Users/Chow/Desktop/pyaflowa_example/workdir/2018p130600/adjsrcs/NZ.MRZ.BXE.adj\""
   ]
  },
  {
   "cell_type": "code",
   "execution_count": 21,
   "metadata": {},
   "outputs": [
    {
     "name": "stdout",
     "output_type": "stream",
     "text": [
      "i01_s00_2018p130600.pdf\r\n"
     ]
    }
   ],
   "source": [
    "!ls \"/Users/Chow/Desktop/pyaflowa_example/workdir/2018p130600/figures\""
   ]
  },
  {
   "cell_type": "code",
   "execution_count": 12,
   "metadata": {},
   "outputs": [
    {
     "name": "stdout",
     "output_type": "stream",
     "text": [
      "================================================================================\r\n",
      "\r\n",
      "SUMMARY\r\n",
      "\r\n",
      "================================================================================\r\n",
      "SOURCE NAME: 2018p130600\r\n",
      "STATIONS: 3 / 4\r\n",
      "WINDOWS: 8\r\n",
      "RAW MISFIT: 2.27\r\n",
      "UNEXPECTED ERRORS: 0\r\n"
     ]
    }
   ],
   "source": [
    "!tail \"/Users/Chow/Desktop/pyaflowa_example/workdir/logs/i01s00_2018p130600.log\""
   ]
  },
  {
   "cell_type": "markdown",
   "metadata": {},
   "source": [
    "### Multi-processing with Pyaflowa\n",
    "\n",
    "Pyaflowa allows for multi-processing using Python's concurrent.futures. This means that multiple events can be processed in parallel, potentially allowing for large speed up when running waveform processing. We'll include another event [2012p242656](https://www.geonet.org.nz/earthquake/2012p242656), in our work directory and show how simple it is to use this functionality."
   ]
  },
  {
   "cell_type": "code",
   "execution_count": 22,
   "metadata": {},
   "outputs": [
    {
     "name": "stdout",
     "output_type": "stream",
     "text": [
      "NZ.MRZ.BXE.semd NZ.TSZ.BXE.semd NZ.VRZ.BXE.semd NZ.WAZ.BXE.semd\r\n",
      "NZ.MRZ.BXN.semd NZ.TSZ.BXN.semd NZ.VRZ.BXN.semd NZ.WAZ.BXN.semd\r\n",
      "NZ.MRZ.BXZ.semd NZ.TSZ.BXZ.semd NZ.VRZ.BXZ.semd NZ.WAZ.BXZ.semd\r\n"
     ]
    }
   ],
   "source": [
    "!ls \"/Users/Chow/Desktop/pyaflowa_example/synthetics/2012p242656\""
   ]
  },
  {
   "cell_type": "code",
   "execution_count": 26,
   "metadata": {},
   "outputs": [
    {
     "data": {
      "text/plain": [
       "cwd: '/Users/Chow/Desktop/pyaflowa_example/workdir/{source_name}'\n",
       "datasets: '/Users/Chow/Desktop/pyaflowa_example/workdir/datasets'\n",
       "figures: '/Users/Chow/Desktop/pyaflowa_example/workdir/{source_name}/figures'\n",
       "logs: '/Users/Chow/Desktop/pyaflowa_example/workdir/logs'\n",
       "stations_file: '/Users/Chow/Desktop/pyaflowa_example/STATIONS'\n",
       "responses: '/Users/Chow/Desktop/pyaflowa_example/workdir/input/responses'\n",
       "waveforms: '/Users/Chow/Desktop/pyaflowa_example/workdir/input/waveforms'\n",
       "synthetics: '/Users/Chow/Desktop/pyaflowa_example/synthetics/{source_name}'\n",
       "adjsrcs: '/Users/Chow/Desktop/pyaflowa_example/workdir/{source_name}/adjsrcs'"
      ]
     },
     "execution_count": 26,
     "metadata": {},
     "output_type": "execute_result"
    }
   ],
   "source": [
    "# Here we initiate almost the same key word arguments, however we add a formatting statement in the synthetics\n",
    "# kwarg so that Pyaflowa knows which directory to search when looking for synthetics.\n",
    "# Here the STATION FILE is the same\n",
    "kwargs = {\"workdir\": \"/Users/Chow/Desktop/pyaflowa_example/workdir\",\n",
    "          \"synthetics\": \"/Users/Chow/Desktop/pyaflowa_example/synthetics/{source_name}\",\n",
    "          \"stations_file\": \"/Users/Chow/Desktop/pyaflowa_example/STATIONS\"\n",
    "         }\n",
    "\n",
    "pf = Pyaflowa(structure=\"standalone\", config=cfg, **kwargs)\n",
    "pf.path_structure"
   ]
  },
  {
   "cell_type": "code",
   "execution_count": 29,
   "metadata": {},
   "outputs": [],
   "source": [
    "# Now, all we need to do to invoke multiprocessing is input a list of source names to the run function\n",
    "pf.run(source_names=[\"2018p130600\", \"2012p242656\"])"
   ]
  },
  {
   "cell_type": "markdown",
   "metadata": {},
   "source": [
    "Unfortunately I don't think it's possible to run parallel tasks in a Jupyter notebook and I'm not prepared to put in the effort to figure out how to do this, so I hope you can take my word for it that this simply executes two parallel processing steps using the concurrent.futures multiprocessing machinery. neat!\n",
    "___"
   ]
  },
  {
   "cell_type": "markdown",
   "metadata": {},
   "source": [
    "## Pyaflowa + SeisFlows\n",
    "\n",
    "Coming soon to a docs page near you."
   ]
  }
 ],
 "metadata": {
  "kernelspec": {
   "display_name": "Python 3",
   "language": "python",
   "name": "python3"
  },
  "language_info": {
   "codemirror_mode": {
    "name": "ipython",
    "version": 3
   },
   "file_extension": ".py",
   "mimetype": "text/x-python",
   "name": "python",
   "nbconvert_exporter": "python",
   "pygments_lexer": "ipython3",
   "version": "3.7.3"
  }
 },
 "nbformat": 4,
 "nbformat_minor": 2
}
