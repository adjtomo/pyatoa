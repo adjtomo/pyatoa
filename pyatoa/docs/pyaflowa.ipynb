{
 "cells": [
  {
   "cell_type": "markdown",
   "id": "403eb907",
   "metadata": {},
   "source": [
    "# Pyaflowa"
   ]
  },
  {
   "cell_type": "raw",
   "id": "ca1343a8",
   "metadata": {},
   "source": [
    ":doc:`Pyaflowa </modules/core.pyaflowa` is Pyatoa's workflow management class. It is in charge of facilitating automation of the misfit quantification machinery defined by the Config, Manager and Gatherer classes. Pyaflowa provides a structure to process en-masse waveform data from multiple stations and multiple events using only a few function calls."
   ]
  },
  {
   "cell_type": "markdown",
   "id": "5e77f758",
   "metadata": {},
   "source": [
    "`Pyaflowa` can be used standalone, and also provides the necessary interface to work with SeisFlows3. When used within the SeisFlows3 preprocess module, Pyaflowa reduces the overhead required to include Pyatoa functionality into a SeisFlows3 inversion."
   ]
  },
  {
   "cell_type": "markdown",
   "id": "b9b033ac",
   "metadata": {},
   "source": [
    "## Standalone (w/ SPECFEM3D)\n",
    "\n",
    "Let's say you want to run forward and adjoint simulations to generate synthetic seismograms and sensitivity kernels using SPECFEM3D. To make this happen, a user will need some specific pieces that correspond to the problem at hand.\n",
    "\n",
    "* Forward simulations: DATA/CMTSOLUTION, DATA/STATIONS  \n",
    "* Adjoint simulations: DATA/STATIONS_ADJOINT, /sem/\\*.adj \n",
    "\n",
    "We can use `Pyatoa` to prepare the necessary files for SPECFEM3D forward simulatinos, and then use `Pyaflowa` to: 1) compare synthetic seismograms with real data for a number of stations and generate adjoint sources which can be fed directly back into a SPECFEM3D adjoint simulation. \n",
    "\n",
    "### Prep: Generate CMTSOLUTION\n",
    "\n",
    "First we must generate the source file used to represent the moment tensor in our earthquake simulation. In this example, we'll use my favorite New Zealand [example event, 2018p130600](https://www.geonet.org.nz/earthquake/2018p130600), an M5.2 that occurred in the central North Island, New Zealand while I was doing my PhD in Wellington.\n",
    "\n",
    "With `ObsPy` + `Pyatoa` we'll be able to gather this event from FDSN webservices and save the resulting moment tensor and event information to the required [CMTSOLUTION format](https://www.globalcmt.org/CMTsearch.html) expected by SPECFEM3D. "
   ]
  },
  {
   "cell_type": "raw",
   "id": "78e779e0",
   "metadata": {},
   "source": [
    "We will use the Pyatoa function :doc:`append_focal_mechanism </modules/core.gatherer/append_focal_mechanism>`"
   ]
  },
  {
   "cell_type": "code",
   "execution_count": 1,
   "id": "a81d6040",
   "metadata": {
    "execution": {
     "iopub.execute_input": "2022-02-28T19:30:20.891083Z",
     "iopub.status.busy": "2022-02-28T19:30:20.890812Z",
     "iopub.status.idle": "2022-02-28T19:30:21.475184Z",
     "shell.execute_reply": "2022-02-28T19:30:21.474890Z"
    }
   },
   "outputs": [],
   "source": [
    "import os\n",
    "from pyatoa import append_focal_mechanism\n",
    "from obspy.clients.fdsn import Client"
   ]
  },
  {
   "cell_type": "code",
   "execution_count": 4,
   "id": "af7196ae",
   "metadata": {
    "execution": {
     "iopub.execute_input": "2022-02-28T19:30:21.477259Z",
     "iopub.status.busy": "2022-02-28T19:30:21.477016Z",
     "iopub.status.idle": "2022-02-28T19:30:21.478854Z",
     "shell.execute_reply": "2022-02-28T19:30:21.478621Z"
    }
   },
   "outputs": [
    {
     "name": "stdout",
     "output_type": "stream",
     "text": [
      "/home/bchow/REPOSITORIES/pyatoa/pyatoa/docs\n",
      "/home/bchow/REPOSITORIES/pyatoa/pyatoa/tests/test_data/docs_data/pyaflowa_doc\n"
     ]
    }
   ],
   "source": [
    "# We will just move to an empty directory for this example problem\n",
    "print(os.getcwd())\n",
    "docs_path = os.path.abspath(\"../tests/test_data/docs_data/pyaflowa_doc\")\n",
    "if not os.path.exists(docs_path):\n",
    "    os.mkdir(docs_path)\n",
    "os.chdir(docs_path)\n",
    "print(os.getcwd())"
   ]
  },
  {
   "cell_type": "code",
   "execution_count": 5,
   "id": "f2c0fb32",
   "metadata": {
    "execution": {
     "iopub.execute_input": "2022-02-28T19:30:21.482961Z",
     "iopub.status.busy": "2022-02-28T19:30:21.482708Z",
     "iopub.status.idle": "2022-02-28T19:30:22.544435Z",
     "shell.execute_reply": "2022-02-28T19:30:22.544191Z"
    }
   },
   "outputs": [
    {
     "name": "stderr",
     "output_type": "stream",
     "text": [
      "/home/bchow/miniconda3/envs/docs/lib/python3.7/site-packages/obspy/io/cmtsolution/core.py:370: UserWarning: No body wave magnitude found. Will be replaced by the first magnitude in the event object.\n",
      "  warnings.warn(\"No body wave magnitude found. Will be replaced by the \"\n",
      "/home/bchow/miniconda3/envs/docs/lib/python3.7/site-packages/obspy/io/cmtsolution/core.py:376: UserWarning: No surface wave magnitude found. Will be replaced by the first magnitude in the event object.\n",
      "  warnings.warn(\"No surface wave magnitude found. Will be replaced by \"\n",
      "/home/bchow/miniconda3/envs/docs/lib/python3.7/site-packages/obspy/io/cmtsolution/core.py:397: UserWarning: Could not find a centroid origin. Will instead assume that the preferred or first origin is the centroid origin.\n",
      "  warnings.warn(\"Could not find a centroid origin. Will instead \"\n",
      "/home/bchow/miniconda3/envs/docs/lib/python3.7/site-packages/obspy/io/cmtsolution/core.py:410: UserWarning: Hypocentral origin will be identical to the centroid one.\n",
      "  warnings.warn(\"Hypocentral origin will be identical to the \"\n"
     ]
    }
   ],
   "source": [
    "# Using ObsPy's FDSN Client, we can retrieve event information using an event id\n",
    "c = Client(\"GEONET\")\n",
    "cat = c.get_events(eventid=\"2018p130600\")\n",
    "\n",
    "# Using Pyatoa, we can append a focal mechanism from the GeoNet moment tensor catalog\n",
    "cat[0] = append_focal_mechanism(cat[0], client=\"GEONET\")\n",
    "\n",
    "# ObsPy has built in support for writing CMTSOLUTION files expected by SPECFEM3D\n",
    "cat.write(\"CMTSOLUTION\", format=\"CMTSOLUTION\")"
   ]
  },
  {
   "cell_type": "code",
   "execution_count": 6,
   "id": "c23f9300",
   "metadata": {
    "execution": {
     "iopub.execute_input": "2022-02-28T19:30:22.546261Z",
     "iopub.status.busy": "2022-02-28T19:30:22.546031Z",
     "iopub.status.idle": "2022-02-28T19:30:22.654727Z",
     "shell.execute_reply": "2022-02-28T19:30:22.654917Z"
    }
   },
   "outputs": [
    {
     "name": "stdout",
     "output_type": "stream",
     "text": [
      " PDE 2018 02 18 07 43 48.13  -39.9490  176.2995  20.6 5.2 5.2 NORTH ISLAND, NEW ZEALAND\r\n",
      "event name:           CBBE31\r\n",
      "time shift:           0.0000\r\n",
      "half duration:        0.6989\r\n",
      "latitude:           -39.9490\r\n",
      "longitude:          176.2995\r\n",
      "depth:               20.5946\r\n",
      "Mrr:           -2.479380E+23\r\n",
      "Mtt:            1.314880E+23\r\n",
      "Mpp:            1.164500E+23\r\n",
      "Mrt:            5.032500E+22\r\n",
      "Mrp:            6.607700E+22\r\n",
      "Mtp:            9.359300E+22\r\n"
     ]
    }
   ],
   "source": [
    "# Lets just have a look at the file that's been created, which is a CMTSOLUTION that is ready\n",
    "# to be used in SPECFEM3D\n",
    "!cat \"CMTSOLUTION\""
   ]
  },
  {
   "cell_type": "markdown",
   "id": "eb5a1c36",
   "metadata": {},
   "source": [
    "### Prep: Generate STATIONS file\n",
    "\n",
    "SPECFEM3D also requires a STATIONS file which defines the locations of receivers for simulation output. \n",
    "As in Step 1 we'll generate a list of stations using `ObsPy` and write them into the required STATIONS file using `Pyatoa` and a corresponding obspy.Inventory object."
   ]
  },
  {
   "cell_type": "markdown",
   "id": "da546e73",
   "metadata": {},
   "source": [
    "> **__NOTE:__**  \n",
    "In the ObsPy function get_stations(), the reasoning behind the following arguments provided:\n",
    "* __network = \"NZ\"__ refers to the code for New Zealand's permament seismic netnwork\n",
    "* __station = \"??Z\"__ means we only want 3 letter station codes that end in Z, which GeoNet usually reserves for broadband seismometers\n",
    "* __channel = \"HH?\"__ refers to a broadband (first 'H') seismometer (second 'H'), for any available component (wildcard '?'), usually N/E/Z. This follows [SEED naming convention](https://ds.iris.edu/ds/nodes/dmc/data/formats/seed-channel-naming/).\n",
    "* This __min__ and __max latitude / longitude__ defines a small region where we want to search for stations"
   ]
  },
  {
   "cell_type": "code",
   "execution_count": 7,
   "id": "7bff0d92",
   "metadata": {
    "execution": {
     "iopub.execute_input": "2022-02-28T19:30:22.657106Z",
     "iopub.status.busy": "2022-02-28T19:30:22.656870Z",
     "iopub.status.idle": "2022-02-28T19:30:22.658082Z",
     "shell.execute_reply": "2022-02-28T19:30:22.657843Z"
    }
   },
   "outputs": [],
   "source": [
    "from pyatoa import write_stations"
   ]
  },
  {
   "cell_type": "code",
   "execution_count": 38,
   "id": "9a9495aa",
   "metadata": {
    "execution": {
     "iopub.execute_input": "2022-02-28T19:30:22.660207Z",
     "iopub.status.busy": "2022-02-28T19:30:22.659960Z",
     "iopub.status.idle": "2022-02-28T19:30:22.990223Z",
     "shell.execute_reply": "2022-02-28T19:30:22.990020Z"
    }
   },
   "outputs": [
    {
     "name": "stderr",
     "output_type": "stream",
     "text": [
      "/home/bchow/miniconda3/envs/docs/lib/python3.7/site-packages/obspy/io/stationxml/core.py:98: UserWarning: The StationXML file has version 1, ObsPy can read versions (1.0, 1.1). Proceed with caution.\n",
      "  version, \", \".join(READABLE_VERSIONS)))\n"
     ]
    }
   ],
   "source": [
    "inv = c.get_stations(network=\"NZ\", station=\"BFZ\", channel=\"HH?\")\n",
    "write_stations(inv, fid=\"STATIONS\")"
   ]
  },
  {
   "cell_type": "code",
   "execution_count": 39,
   "id": "d54fb6c9",
   "metadata": {
    "execution": {
     "iopub.execute_input": "2022-02-28T19:30:22.992174Z",
     "iopub.status.busy": "2022-02-28T19:30:22.991931Z",
     "iopub.status.idle": "2022-02-28T19:30:22.993464Z",
     "shell.execute_reply": "2022-02-28T19:30:22.993220Z"
    }
   },
   "outputs": [
    {
     "name": "stdout",
     "output_type": "stream",
     "text": [
      "Inventory created at 2022-02-27T20:54:58.000000Z\n",
      "\tCreated by: Delta\n",
      "\t\t    \n",
      "\tSending institution: GeoNet (WEL(GNS_Test))\n",
      "\tContains:\n",
      "\t\tNetworks (1):\n",
      "\t\t\tNZ\n",
      "\t\tStations (1):\n",
      "\t\t\tNZ.BFZ (Birch Farm)\n",
      "\t\tChannels (0):\n",
      "\n"
     ]
    }
   ],
   "source": [
    "# Let's have a look at the stations we picked up from FDSN\n",
    "print(inv)"
   ]
  },
  {
   "cell_type": "code",
   "execution_count": 40,
   "id": "eec93ff2",
   "metadata": {
    "execution": {
     "iopub.execute_input": "2022-02-28T19:30:22.995173Z",
     "iopub.status.busy": "2022-02-28T19:30:22.994942Z",
     "iopub.status.idle": "2022-02-28T19:30:23.103918Z",
     "shell.execute_reply": "2022-02-28T19:30:23.103713Z"
    }
   },
   "outputs": [
    {
     "name": "stdout",
     "output_type": "stream",
     "text": [
      "   BFZ    NZ    -40.6796    176.2462    0.0    0.0\r\n"
     ]
    }
   ],
   "source": [
    "# And lets have a look at the STATIONS file that's been created\n",
    "!cat \"STATIONS\""
   ]
  },
  {
   "cell_type": "markdown",
   "id": "e8e9cb11",
   "metadata": {},
   "source": [
    "### Forward Simulation: Generate synthetics using SPECFEM3D [external]\n",
    "\n",
    "Unfortunately this cannot be shown in a Jupyter notebook as generating synthetics requires interfacing with the SPECFEM3D code, which usually takes place on a cluster. In this example we assume this step has been completed successfully, with resultant synthetic waveforms produced by SPECFEM3D for the given event and stations defined above. \n",
    "\n",
    "> **__NOTE:__**  \n",
    "Output synthetic seismograms are expected to be formatted as two-column ASCII files, which I have pre-generated for this example. File names follow the expected output from SPECFEM3D. Adherance to this format is very important for running Pyaflowa. \n",
    "\n",
    "> **__NOTE:__**\n",
    "By default synthetic waveform data is expected to be separated by event ID, e.g., PATH/TO/SYNTHETICS/{EVENT_ID}/*semd"
   ]
  },
  {
   "cell_type": "code",
   "execution_count": 11,
   "id": "993c4b14",
   "metadata": {
    "execution": {
     "iopub.execute_input": "2022-02-28T19:30:23.106813Z",
     "iopub.status.busy": "2022-02-28T19:30:23.106574Z",
     "iopub.status.idle": "2022-02-28T19:30:23.428327Z",
     "shell.execute_reply": "2022-02-28T19:30:23.428078Z"
    },
    "scrolled": true
   },
   "outputs": [
    {
     "name": "stdout",
     "output_type": "stream",
     "text": [
      "NZ.BFZ.BXE.semd  NZ.BFZ.BXN.semd  NZ.BFZ.BXZ.semd\r\n"
     ]
    }
   ],
   "source": [
    "# Let's copy the premade synthetic data into our current working directory\n",
    "!ls ../../synthetics\n",
    "!mkdir -p synthetics/2018p130600\n",
    "!cp ../../synthetics/* ./synthetics/2018p130600"
   ]
  },
  {
   "cell_type": "code",
   "execution_count": 12,
   "id": "ac2a6ce1",
   "metadata": {
    "execution": {
     "iopub.execute_input": "2022-02-28T19:30:23.430539Z",
     "iopub.status.busy": "2022-02-28T19:30:23.430301Z",
     "iopub.status.idle": "2022-02-28T19:30:23.540418Z",
     "shell.execute_reply": "2022-02-28T19:30:23.540175Z"
    }
   },
   "outputs": [
    {
     "name": "stdout",
     "output_type": "stream",
     "text": [
      "==> ./synthetics/2018p130600/NZ.BFZ.BXE.semd <==\r\n",
      "  -20.0000000         0.0000000\r\n",
      "  -19.9700000         0.0000000\r\n",
      "  -19.9400000         0.0000000\r\n",
      "  -19.9100000         0.0000000\r\n",
      "  -19.8800000         0.0000000\r\n",
      "  -19.8500000         0.0000000\r\n",
      "  -19.8200000         0.0000000\r\n",
      "  -19.7900000         0.0000000\r\n",
      "  -19.7600000         0.0000000\r\n",
      "  -19.7300000         0.0000000\r\n",
      "\r\n",
      "==> ./synthetics/2018p130600/NZ.BFZ.BXN.semd <==\r\n",
      "  -20.0000000         0.0000000\r\n",
      "  -19.9700000         0.0000000\r\n",
      "  -19.9400000         0.0000000\r\n",
      "  -19.9100000         0.0000000\r\n",
      "  -19.8800000         0.0000000\r\n",
      "  -19.8500000         0.0000000\r\n",
      "  -19.8200000         0.0000000\r\n",
      "  -19.7900000         0.0000000\r\n",
      "  -19.7600000         0.0000000\r\n",
      "  -19.7300000         0.0000000\r\n",
      "\r\n",
      "==> ./synthetics/2018p130600/NZ.BFZ.BXZ.semd <==\r\n",
      "  -20.0000000         0.0000000\r\n",
      "  -19.9700000         0.0000000\r\n",
      "  -19.9400000         0.0000000\r\n",
      "  -19.9100000         0.0000000\r\n",
      "  -19.8800000         0.0000000\r\n",
      "  -19.8500000         0.0000000\r\n",
      "  -19.8200000         0.0000000\r\n",
      "  -19.7900000         0.0000000\r\n",
      "  -19.7600000         0.0000000\r\n",
      "  -19.7300000         0.0000000\r\n"
     ]
    }
   ],
   "source": [
    "!head ./synthetics/2018p130600/*"
   ]
  },
  {
   "cell_type": "markdown",
   "id": "9ee5c689",
   "metadata": {},
   "source": [
    "### Pyaflowa's directory structure\n",
    "\n",
    "`Pyaflowa` abstracts away the enigmatic inner machinations of `Pyatoa`. To do so it manages an internal directory structure to search for inputs and store outputs.\n",
    "\n",
    "When used standalone, `Pyaflowa` creates its own directory structure within a given working directory. When used in conjunction with SeisFlows3, `Pyaflowa` will work within the preset internal directory structure of SeisFlows3 (see Pyaflowa + SeisFlows3).\n",
    "\n",
    "Let's start by initiating `Pyaflowa`. As with any usage of Pyatoa, a Config object is required to define internally used parameters which will inturn be used to control gathering, waveform processing, and misfit quantification."
   ]
  },
  {
   "cell_type": "code",
   "execution_count": 13,
   "id": "9a01f38c",
   "metadata": {
    "execution": {
     "iopub.execute_input": "2022-02-28T19:30:23.542683Z",
     "iopub.status.busy": "2022-02-28T19:30:23.542453Z",
     "iopub.status.idle": "2022-02-28T19:30:23.543983Z",
     "shell.execute_reply": "2022-02-28T19:30:23.543739Z"
    }
   },
   "outputs": [],
   "source": [
    "from pyatoa import Pyaflowa, Config"
   ]
  },
  {
   "cell_type": "code",
   "execution_count": 14,
   "id": "3d4b43a4",
   "metadata": {
    "execution": {
     "iopub.execute_input": "2022-02-28T19:30:23.546139Z",
     "iopub.status.busy": "2022-02-28T19:30:23.545906Z",
     "iopub.status.idle": "2022-02-28T19:30:23.547121Z",
     "shell.execute_reply": "2022-02-28T19:30:23.546909Z"
    }
   },
   "outputs": [],
   "source": [
    "cfg = Config(iteration=1, step_count=0, client=\"GEONET\", min_period=10, max_period=30,\n",
    "             pyflex_preset=\"nznorth_10-30s\")\n",
    "\n",
    "pf = Pyaflowa(structure=\"standalone\", workdir=\"./\", config=cfg)"
   ]
  },
  {
   "cell_type": "code",
   "execution_count": 15,
   "id": "1d9aa8d0",
   "metadata": {
    "execution": {
     "iopub.execute_input": "2022-02-28T19:30:23.549875Z",
     "iopub.status.busy": "2022-02-28T19:30:23.549615Z",
     "iopub.status.idle": "2022-02-28T19:30:23.551154Z",
     "shell.execute_reply": "2022-02-28T19:30:23.550918Z"
    }
   },
   "outputs": [
    {
     "data": {
      "text/plain": [
       "cwd          : './'\n",
       "data         : './input/DATA'\n",
       "datasets     : './datasets'\n",
       "figures      : './figures'\n",
       "logs         : './logs'\n",
       "ds_file      : './datasets/{source_name}.h5'\n",
       "stations_file: './{source_name}/STATIONS'\n",
       "responses    : './input/responses'\n",
       "waveforms    : './input/waveforms'\n",
       "synthetics   : './input/synthetics/{source_name}'\n",
       "adjsrcs      : './adjsrcs/{source_name}'\n",
       "event_figures: './figures/{source_name}'"
      ]
     },
     "execution_count": 15,
     "metadata": {},
     "output_type": "execute_result"
    }
   ],
   "source": [
    "# We can take a look at Pyaflowa's internal directory structure with the path_structure attribute\n",
    "pf.path_structure"
   ]
  },
  {
   "cell_type": "markdown",
   "id": "b1e55db7",
   "metadata": {},
   "source": [
    "If you want different directories than the chosen defaults shown above, you can simply pass the keys of the `path_structure` attribute as keyword arguments in the initialization of Pyaflowa. Let's generate a non-standard path structure to point to our existing data."
   ]
  },
  {
   "cell_type": "code",
   "execution_count": 23,
   "id": "1e4d4e93",
   "metadata": {
    "execution": {
     "iopub.execute_input": "2022-02-28T19:30:23.553547Z",
     "iopub.status.busy": "2022-02-28T19:30:23.553299Z",
     "iopub.status.idle": "2022-02-28T19:30:23.554847Z",
     "shell.execute_reply": "2022-02-28T19:30:23.554605Z"
    }
   },
   "outputs": [
    {
     "data": {
      "text/plain": [
       "cwd          : '/home/bchow/REPOSITORIES/pyatoa/pyatoa/tests/test_data/docs_data/pyaflowa_doc'\n",
       "data         : '/home/bchow/REPOSITORIES/pyatoa/pyatoa/tests/test_data/docs_data/pyaflowa_doc'\n",
       "datasets     : '/home/bchow/REPOSITORIES/pyatoa/pyatoa/tests/test_data/docs_data/pyaflowa_doc'\n",
       "figures      : '/home/bchow/REPOSITORIES/pyatoa/pyatoa/tests/test_data/docs_data/pyaflowa_doc/figures'\n",
       "logs         : '/home/bchow/REPOSITORIES/pyatoa/pyatoa/tests/test_data/docs_data/pyaflowa_doc/logs'\n",
       "ds_file      : '/home/bchow/REPOSITORIES/pyatoa/pyatoa/tests/test_data/docs_data/pyaflowa_doc/{source_name}.h5'\n",
       "stations_file: '/home/bchow/REPOSITORIES/pyatoa/pyatoa/tests/test_data/docs_data/pyaflowa_doc/STATIONS'\n",
       "responses    : '/home/bchow/REPOSITORIES/pyatoa/pyatoa/tests/test_data/docs_data/pyaflowa_doc/input/responses'\n",
       "waveforms    : '/home/bchow/REPOSITORIES/pyatoa/pyatoa/tests/test_data/docs_data/pyaflowa_doc/input/waveforms'\n",
       "synthetics   : '/home/bchow/REPOSITORIES/pyatoa/pyatoa/tests/test_data/docs_data/pyaflowa_doc/synthetics/{source_name}'\n",
       "adjsrcs      : '/home/bchow/REPOSITORIES/pyatoa/pyatoa/tests/test_data/docs_data/pyaflowa_doc/adjsrcs/{source_name}'\n",
       "event_figures: '/home/bchow/REPOSITORIES/pyatoa/pyatoa/tests/test_data/docs_data/pyaflowa_doc/figures/{source_name}'"
      ]
     },
     "execution_count": 23,
     "metadata": {},
     "output_type": "execute_result"
    }
   ],
   "source": [
    "# Make sure we're in the correct directory so that we don't start making dir. randomly\n",
    "assert os.path.basename(os.getcwd()) == \"pyaflowa_doc\"\n",
    "\n",
    "# Custom set directory structure\n",
    "base_path = os.getcwd()\n",
    "kwargs = {\"workdir\": base_path,\n",
    "          \"synthetics\": os.path.join(base_path, \"synthetics\", \"{source_name}\"),\n",
    "          \"stations_file\": os.path.join(base_path, \"STATIONS\"),\n",
    "          \"data\": base_path,\n",
    "          \"datasets\": base_path,\n",
    "         }\n",
    "\n",
    "pf = Pyaflowa(structure=\"standalone\", config=cfg, **kwargs)\n",
    "pf.path_structure"
   ]
  },
  {
   "cell_type": "markdown",
   "id": "96bd8f84",
   "metadata": {},
   "source": [
    "----------------------\n",
    "\n",
    "### The IO (input/output) class\n",
    "\n",
    "By running the Pyaflowa.setup() function, Pyaflowa will make the required directory structure defined above. It will also return an `IO` object. This internally used object store information related to paths, configurations and processing.\n",
    "\n",
    "The user does __not__ need to interact with the `IO` object, but we can take a look at it for clarity. It contains the internal directory structure used by `Pyaflowa`, the `Config` object which will control all of the Manager processing that will take place, and internal attributes which keep track of how processing occurs."
   ]
  },
  {
   "cell_type": "code",
   "execution_count": 41,
   "id": "3ebec3b5",
   "metadata": {
    "execution": {
     "iopub.execute_input": "2022-02-28T19:30:23.556487Z",
     "iopub.status.busy": "2022-02-28T19:30:23.556253Z",
     "iopub.status.idle": "2022-02-28T19:30:23.626469Z",
     "shell.execute_reply": "2022-02-28T19:30:23.626213Z"
    }
   },
   "outputs": [
    {
     "name": "stderr",
     "output_type": "stream",
     "text": [
      "[2022-02-28 12:08:24] - pyatoa - DEBUG: gathering event\n",
      "[2022-02-28 12:08:24] - pyatoa - INFO: searching ASDFDataSet for event info\n",
      "[2022-02-28 12:08:24] - pyatoa - DEBUG: matching event found: 2018p130600\n"
     ]
    }
   ],
   "source": [
    "io = pf.setup(source_name=\"2018p130600\")"
   ]
  },
  {
   "cell_type": "code",
   "execution_count": 26,
   "id": "86d5954d",
   "metadata": {
    "execution": {
     "iopub.execute_input": "2022-02-28T19:30:23.630136Z",
     "iopub.status.busy": "2022-02-28T19:30:23.627988Z",
     "iopub.status.idle": "2022-02-28T19:30:23.631547Z",
     "shell.execute_reply": "2022-02-28T19:30:23.631750Z"
    }
   },
   "outputs": [
    {
     "name": "stdout",
     "output_type": "stream",
     "text": [
      "paths cwd          : '/home/bchow/REPOSITORIES/pyatoa/pyatoa/tests/test_data/docs_data/pyaflowa_doc'\n",
      "data         : '/home/bchow/REPOSITORIES/pyatoa/pyatoa/tests/test_data/docs_data/pyaflowa_doc'\n",
      "datasets     : '/home/bchow/REPOSITORIES/pyatoa/pyatoa/tests/test_data/docs_data/pyaflowa_doc'\n",
      "figures      : '/home/bchow/REPOSITORIES/pyatoa/pyatoa/tests/test_data/docs_data/pyaflowa_doc/figures'\n",
      "logs         : '/home/bchow/REPOSITORIES/pyatoa/pyatoa/tests/test_data/docs_data/pyaflowa_doc/logs'\n",
      "ds_file      : '/home/bchow/REPOSITORIES/pyatoa/pyatoa/tests/test_data/docs_data/pyaflowa_doc/2018p130600.h5'\n",
      "stations_file: '/home/bchow/REPOSITORIES/pyatoa/pyatoa/tests/test_data/docs_data/pyaflowa_doc/STATIONS'\n",
      "responses    : '/home/bchow/REPOSITORIES/pyatoa/pyatoa/tests/test_data/docs_data/pyaflowa_doc/input/responses'\n",
      "waveforms    : '/home/bchow/REPOSITORIES/pyatoa/pyatoa/tests/test_data/docs_data/pyaflowa_doc/input/waveforms'\n",
      "synthetics   : '/home/bchow/REPOSITORIES/pyatoa/pyatoa/tests/test_data/docs_data/pyaflowa_doc/synthetics/2018p130600'\n",
      "adjsrcs      : '/home/bchow/REPOSITORIES/pyatoa/pyatoa/tests/test_data/docs_data/pyaflowa_doc/adjsrcs/2018p130600'\n",
      "event_figures: '/home/bchow/REPOSITORIES/pyatoa/pyatoa/tests/test_data/docs_data/pyaflowa_doc/figures/2018p130600'\n",
      "\n",
      "logger <Logger pyatoa (DEBUG)>\n",
      "config CONFIG\n",
      "    iteration:               i01\n",
      "    step_count:              s00\n",
      "    event_id:                2018p130600\n",
      "GATHER\n",
      "    client:                  GEONET\n",
      "    start_pad:               20\n",
      "    end_pad:                 500\n",
      "    save_to_ds:              True\n",
      "PROCESS\n",
      "    min_period:              10.0\n",
      "    max_period:              30.0\n",
      "    filter_corners:          2.0\n",
      "    unit_output:             DISP\n",
      "    rotate_to_rtz:           False\n",
      "    win_amp_ratio:           0.0\n",
      "    synthetics_only:         False\n",
      "LABELS\n",
      "    component_list:          ['E', 'N', 'Z']\n",
      "    observed_tag:            observed\n",
      "    synthetic_tag:           synthetic_i01s00\n",
      "    paths:                   {'responses': '/home/bchow/REPOSITORIES/pyatoa/pyatoa/tests/test_data/docs_data/pyaflowa_doc/input/responses', 'waveforms': '/home/bchow/REPOSITORIES/pyatoa/pyatoa/tests/test_data/docs_data/pyaflowa_doc/input/waveforms', 'synthetics': '/home/bchow/REPOSITORIES/pyatoa/pyatoa/tests/test_data/docs_data/pyaflowa_doc/synthetics/2018p130600', 'events': '/home/bchow/REPOSITORIES/pyatoa/pyatoa/tests/test_data/docs_data/pyaflowa_doc'}\n",
      "EXTERNAL\n",
      "    pyflex_preset:           nznorth_10-30s\n",
      "    adj_src_type:            cc_traveltime_misfit\n",
      "    pyflex_config:           <pyflex.config.Config object at 0x7fd790b8dd50>\n",
      "    pyadjoint_config:        <pyadjoint.config.Config object at 0x7fd7b4b80f50>\n",
      "\n",
      "misfit 0\n",
      "nwin 0\n",
      "stations 0\n",
      "processed 0\n",
      "exceptions 0\n",
      "plot_fids []\n"
     ]
    }
   ],
   "source": [
    "for key, val in io.items():\n",
    "    print(key, val)"
   ]
  },
  {
   "cell_type": "markdown",
   "id": "37cc1806",
   "metadata": {},
   "source": [
    "-----------------------\n",
    "### Running Pyaflowa (gather and process waveforms)\n",
    "\n",
    "Great, we're all set up to run `Pyaflowa`. Internally `Pyaflowa` knows the event, path structure and stations that we want to use for misfit quantification. Now when we run it, `Pyaflowa` will instantiate `Manager` classes, attempt to gather data from disk or from web services, preprocess data and synthetic waveforms according to the `Config` object, and generate misfit windows and adjoint sources."
   ]
  },
  {
   "cell_type": "markdown",
   "id": "94e949ca",
   "metadata": {},
   "source": [
    "The example code block below is a an example of what Pyaflowa is doing under the hood: it simply abstracts commands that are used to run processing for multiple stations. It also contains a few internal checks to make sure unexpected errors don't throw the processing step off the rails.::\n",
    "\n",
    "    from pyasdf import ASDFDataSet \n",
    "    from pyatoa import Manager\n",
    "\n",
    "    with ASDFDataSet(io.paths.ds_file) as ds:\n",
    "        mgmt = Manager(ds=ds, config=io.config)\n",
    "        for code in [\"NZ.BFZ.*.*\"]:\n",
    "            mgmt.gather(code=code)\n",
    "            mgmt.flow()"
   ]
  },
  {
   "cell_type": "code",
   "execution_count": 42,
   "id": "5ddd08b4",
   "metadata": {
    "execution": {
     "iopub.execute_input": "2022-02-28T19:30:23.633358Z",
     "iopub.status.busy": "2022-02-28T19:30:23.632670Z",
     "iopub.status.idle": "2022-02-28T19:30:23.637662Z",
     "shell.execute_reply": "2022-02-28T19:30:23.637902Z"
    }
   },
   "outputs": [
    {
     "name": "stderr",
     "output_type": "stream",
     "text": [
      "[2022-02-28 12:08:27] - pyatoa - DEBUG: gathering event\n",
      "[2022-02-28 12:08:27] - pyatoa - INFO: searching ASDFDataSet for event info\n",
      "[2022-02-28 12:08:27] - pyatoa - DEBUG: matching event found: 2018p130600\n",
      "[2022-02-28 12:08:27] - pyatoa - INFO: \n",
      "================================================================================\n",
      "\n",
      "NZ.BFZ.*.*\n",
      "\n",
      "================================================================================\n",
      "[2022-02-28 12:08:27] - pyatoa - DEBUG: gathering event\n",
      "[2022-02-28 12:08:27] - pyatoa - INFO: searching ASDFDataSet for event info\n",
      "[2022-02-28 12:08:28] - pyatoa - DEBUG: matching event found: 2018p130600\n",
      "[2022-02-28 12:08:28] - pyatoa - INFO: gathering data for NZ.BFZ.*.*\n",
      "[2022-02-28 12:08:28] - pyatoa - INFO: gathering observed waveforms\n",
      "[2022-02-28 12:08:28] - pyatoa - INFO: searching ASDFDataSet for observations\n",
      "[2022-02-28 12:08:28] - pyatoa - INFO: matching observed waveforms found\n",
      "[2022-02-28 12:08:28] - pyatoa - INFO: gathering StationXML\n",
      "[2022-02-28 12:08:28] - pyatoa - INFO: searching ASDFDataSet for station info\n",
      "[2022-02-28 12:08:28] - pyatoa - INFO: matching StationXML found\n",
      "[2022-02-28 12:08:28] - pyatoa - INFO: saved to ASDFDataSet\n",
      "[2022-02-28 12:08:28] - pyatoa - INFO: gathering synthetic waveforms\n",
      "[2022-02-28 12:08:28] - pyatoa - INFO: searching ASDFDataSet for synthetics\n",
      "[2022-02-28 12:08:28] - pyatoa - INFO: searching local filesystem for synthetics\n",
      "[2022-02-28 12:08:28] - pyatoa - DEBUG: searching for synthetics: /home/bchow/REPOSITORIES/pyatoa/pyatoa/tests/test_data/docs_data/pyaflowa_doc/synthetics/2018p130600/{net}.{sta}.*{cmp}.sem{dva}\n",
      "[2022-02-28 12:08:28] - pyatoa - INFO: retrieved synthetics locally:\n",
      "/home/bchow/REPOSITORIES/pyatoa/pyatoa/tests/test_data/docs_data/pyaflowa_doc/synthetics/2018p130600/NZ.BFZ.BXE.semd\n",
      "[2022-02-28 12:08:28] - pyatoa - INFO: retrieved synthetics locally:\n",
      "/home/bchow/REPOSITORIES/pyatoa/pyatoa/tests/test_data/docs_data/pyaflowa_doc/synthetics/2018p130600/NZ.BFZ.BXN.semd\n",
      "[2022-02-28 12:08:28] - pyatoa - INFO: retrieved synthetics locally:\n",
      "/home/bchow/REPOSITORIES/pyatoa/pyatoa/tests/test_data/docs_data/pyaflowa_doc/synthetics/2018p130600/NZ.BFZ.BXZ.semd\n",
      "[2022-02-28 12:08:28] - pyatoa - INFO: matching synthetic waveforms found\n",
      "[2022-02-28 12:08:28] - pyatoa - INFO: saved to ASDFDataSet with tag 'synthetic_i01s00'\n",
      "[2022-02-28 12:08:28] - pyatoa - INFO: standardizing streams\n",
      "[2022-02-28 12:08:28] - pyatoa - DEBUG: zero pad NZ.BFZ.10.HHE (0, 0) samples\n",
      "[2022-02-28 12:08:28] - pyatoa - DEBUG: new starttime NZ.BFZ.10.HHE: 2018-02-18T07:43:28.127644Z\n",
      "[2022-02-28 12:08:28] - pyatoa - DEBUG: zero pad NZ.BFZ.10.HHN (0, 0) samples\n",
      "[2022-02-28 12:08:28] - pyatoa - DEBUG: new starttime NZ.BFZ.10.HHN: 2018-02-18T07:43:28.127644Z\n",
      "[2022-02-28 12:08:28] - pyatoa - DEBUG: zero pad NZ.BFZ.10.HHZ (0, 0) samples\n",
      "[2022-02-28 12:08:28] - pyatoa - DEBUG: new starttime NZ.BFZ.10.HHZ: 2018-02-18T07:43:28.127644Z\n",
      "[2022-02-28 12:08:28] - pyatoa - DEBUG: time offset is -20.0s\n",
      "[2022-02-28 12:08:28] - pyatoa - INFO: preprocessing observation data\n",
      "[2022-02-28 12:08:28] - pyatoa - INFO: adjusting taper to cover time offset -20.0\n",
      "[2022-02-28 12:08:28] - pyatoa - DEBUG: removing response, units to DISP\n",
      "[2022-02-28 12:08:28] - pyatoa - DEBUG: rotating from generic coordinate system to ZNE\n",
      "[2022-02-28 12:08:28] - pyatoa - DEBUG: bandpass filter: 10.0 - 30.0s w/ 2.0 corners\n",
      "[2022-02-28 12:08:28] - pyatoa - INFO: preprocessing synthetic data\n",
      "[2022-02-28 12:08:28] - pyatoa - INFO: adjusting taper to cover time offset -20.0\n",
      "[2022-02-28 12:08:28] - pyatoa - DEBUG: no response removal, synthetic data or requested not to\n",
      "[2022-02-28 12:08:28] - pyatoa - DEBUG: bandpass filter: 10.0 - 30.0s w/ 2.0 corners\n",
      "[2022-02-28 12:08:28] - pyatoa - DEBUG: convolving data w/ Gaussian (t/2=0.70s)\n",
      "[2022-02-28 12:08:28] - pyatoa - INFO: running Pyflex w/ map: nznorth_10-30s\n",
      "[2022-02-28 12:08:28,772] - pyflex - INFO: Calculated travel times.\n",
      "[2022-02-28 12:08:28,773] - pyflex - INFO: Calculating envelope of synthetics.\n",
      "[2022-02-28 12:08:28,773] - pyflex - INFO: Calculating STA/LTA.\n",
      "[2022-02-28 12:08:28,774] - pyflex - INFO: Initial window selection yielded 4 possible windows.\n",
      "[2022-02-28 12:08:28,774] - pyflex - INFO: Rejection based on travel times retained 4 windows.\n",
      "[2022-02-28 12:08:28,775] - pyflex - INFO: Global SNR checks passed. Integrated SNR: 1491736118526.783203, Amplitude SNR: 3674599.839129\n",
      "[2022-02-28 12:08:28,775] - pyflex - INFO: Rejection based on minimum window length retained 4 windows.\n",
      "[2022-02-28 12:08:28,775] - pyflex - INFO: Water level rejection retained 2 windows\n",
      "[2022-02-28 12:08:28,776] - pyflex - INFO: Single phase group rejection retained 2 windows\n",
      "[2022-02-28 12:08:28,776] - pyflex - INFO: Removing duplicates retains 2 windows.\n",
      "[2022-02-28 12:08:28,776] - pyflex - INFO: Rejection based on minimum window length retained 2 windows.\n",
      "[2022-02-28 12:08:28,776] - pyflex - INFO: SN amplitude ratio window rejection retained 2 windows\n",
      "[2022-02-28 12:08:28,778] - pyflex - INFO: Rejection based on data fit criteria retained 2 windows.\n",
      "[2022-02-28 12:08:28,778] - pyflex - INFO: Weighted interval schedule optimization retained 1 windows.\n",
      "[2022-02-28 12:08:28] - pyatoa - INFO: 1 window(s) selected for comp E\n",
      "[2022-02-28 12:08:28,870] - pyflex - INFO: Calculated travel times.\n",
      "[2022-02-28 12:08:28,870] - pyflex - INFO: Calculating envelope of synthetics.\n",
      "[2022-02-28 12:08:28,871] - pyflex - INFO: Calculating STA/LTA.\n",
      "[2022-02-28 12:08:28,872] - pyflex - INFO: Initial window selection yielded 10 possible windows.\n",
      "[2022-02-28 12:08:28,872] - pyflex - INFO: Rejection based on travel times retained 10 windows.\n",
      "[2022-02-28 12:08:28,873] - pyflex - INFO: Global SNR checks passed. Integrated SNR: 430243312571.527222, Amplitude SNR: 2193818.774050\n",
      "[2022-02-28 12:08:28,873] - pyflex - INFO: Rejection based on minimum window length retained 9 windows.\n",
      "[2022-02-28 12:08:28,873] - pyflex - INFO: Water level rejection retained 3 windows\n",
      "[2022-02-28 12:08:28,874] - pyflex - INFO: Single phase group rejection retained 3 windows\n",
      "[2022-02-28 12:08:28,874] - pyflex - INFO: Removing duplicates retains 2 windows.\n",
      "[2022-02-28 12:08:28,874] - pyflex - INFO: Rejection based on minimum window length retained 2 windows.\n",
      "[2022-02-28 12:08:28,875] - pyflex - INFO: SN amplitude ratio window rejection retained 2 windows\n",
      "[2022-02-28 12:08:28,876] - pyflex - INFO: Rejection based on data fit criteria retained 2 windows.\n",
      "[2022-02-28 12:08:28,876] - pyflex - INFO: Weighted interval schedule optimization retained 1 windows.\n",
      "[2022-02-28 12:08:28] - pyatoa - INFO: 1 window(s) selected for comp N\n",
      "[2022-02-28 12:08:28,968] - pyflex - INFO: Calculated travel times.\n",
      "[2022-02-28 12:08:28,969] - pyflex - INFO: Calculating envelope of synthetics.\n",
      "[2022-02-28 12:08:28,969] - pyflex - INFO: Calculating STA/LTA.\n",
      "[2022-02-28 12:08:28,970] - pyflex - INFO: Initial window selection yielded 7 possible windows.\n",
      "[2022-02-28 12:08:28,970] - pyflex - INFO: Rejection based on travel times retained 7 windows.\n",
      "[2022-02-28 12:08:28,971] - pyflex - INFO: Global SNR checks passed. Integrated SNR: 12404329094867.441406, Amplitude SNR: 11416222.804038\n",
      "[2022-02-28 12:08:28,971] - pyflex - INFO: Rejection based on minimum window length retained 6 windows.\n",
      "[2022-02-28 12:08:28,971] - pyflex - INFO: Water level rejection retained 3 windows\n",
      "[2022-02-28 12:08:28,972] - pyflex - INFO: Single phase group rejection retained 3 windows\n",
      "[2022-02-28 12:08:28,972] - pyflex - INFO: Removing duplicates retains 2 windows.\n",
      "[2022-02-28 12:08:28,972] - pyflex - INFO: Rejection based on minimum window length retained 2 windows.\n",
      "[2022-02-28 12:08:28,973] - pyflex - INFO: SN amplitude ratio window rejection retained 2 windows\n",
      "[2022-02-28 12:08:28,974] - pyflex - INFO: Rejection based on data fit criteria retained 2 windows.\n",
      "[2022-02-28 12:08:28,974] - pyflex - INFO: Weighted interval schedule optimization retained 1 windows.\n",
      "[2022-02-28 12:08:28] - pyatoa - INFO: 1 window(s) selected for comp Z\n",
      "[2022-02-28 12:08:28] - pyatoa - DEBUG: saving misfit windows to ASDFDataSet\n",
      "[2022-02-28 12:08:28] - pyatoa - INFO: 3 window(s) total found\n",
      "[2022-02-28 12:08:28] - pyatoa - DEBUG: running Pyadjoint w/ type: cc_traveltime_misfit\n"
     ]
    },
    {
     "name": "stderr",
     "output_type": "stream",
     "text": [
      "[2022-02-28 12:08:28] - pyatoa - INFO: 0.365 misfit for comp E\n",
      "[2022-02-28 12:08:28] - pyatoa - INFO: 1.620 misfit for comp N\n",
      "[2022-02-28 12:08:28] - pyatoa - INFO: 3.251 misfit for comp Z\n",
      "[2022-02-28 12:08:28] - pyatoa - DEBUG: saving adjoint sources to ASDFDataSet\n",
      "[2022-02-28 12:08:29] - pyatoa - INFO: total misfit 5.237\n",
      "[2022-02-28 12:08:29] - pyatoa - INFO: \n",
      "\n",
      "\tOBS WAVS:  3\n",
      "\tSYN WAVS:  3\n",
      "\tWINDOWS:   3\n",
      "\tMISFIT:    5.24\n",
      "\n",
      "[2022-02-28 12:08:29] - pyatoa - INFO: saving figure to: /home/bchow/REPOSITORIES/pyatoa/pyatoa/tests/test_data/docs_data/pyaflowa_doc/figures/2018p130600/i01_s00_NZ_BFZ.pdf\n",
      "[2022-02-28 12:08:29] - pyatoa - INFO: \n",
      "================================================================================\n",
      "\n",
      "FINALIZE\n",
      "\n",
      "================================================================================\n",
      "[2022-02-28 12:08:29] - pyatoa - INFO: creating single .pdf file of all output figures\n",
      "[2022-02-28 12:08:29] - pyatoa - INFO: generating STATIONS_ADJOINT file for SPECFEM\n",
      "[2022-02-28 12:08:29] - pyatoa - INFO: \n",
      "================================================================================\n",
      "\n",
      "SUMMARY\n",
      "\n",
      "================================================================================\n",
      "SOURCE NAME: 2018p130600\n",
      "STATIONS: 1 / 1\n",
      "WINDOWS: 3\n",
      "RAW MISFIT: 5.24\n",
      "UNEXPECTED ERRORS: 0\n"
     ]
    },
    {
     "data": {
      "text/plain": [
       "0.8727564202568289"
      ]
     },
     "execution_count": 42,
     "metadata": {},
     "output_type": "execute_result"
    }
   ],
   "source": [
    "pf.process_event(source_name=\"2018p130600\")"
   ]
  },
  {
   "cell_type": "markdown",
   "id": "55d89aae",
   "metadata": {},
   "source": [
    "### Inspect Pyaflowa outputs\n",
    "\n",
    "Iwe have a look at the work directory, we can see the outputs of the Pyaflowa workflow, which will be:\n",
    "* An ASDFDataSet with waveforms, metadata, misfit windows and adjoint sources\n",
    "* Waveform figures for all the stations processed\n",
    "* Adjoint source ASCII files (.adj) required for a SPECFEM3D adjoint simulation\n",
    "* STATIONS_ADJOINT file required for a SPECFEM3D adjoint simulation\n",
    "* The output log which shows the "
   ]
  },
  {
   "cell_type": "code",
   "execution_count": 44,
   "id": "7f8c6bb2",
   "metadata": {
    "execution": {
     "iopub.execute_input": "2022-02-28T19:30:23.639456Z",
     "iopub.status.busy": "2022-02-28T19:30:23.638844Z",
     "iopub.status.idle": "2022-02-28T19:30:23.748309Z",
     "shell.execute_reply": "2022-02-28T19:30:23.748097Z"
    }
   },
   "outputs": [
    {
     "name": "stdout",
     "output_type": "stream",
     "text": [
      "2018p130600.h5\tCMTSOLUTION  input  STATIONS\t      synthetics\r\n",
      "adjsrcs\t\tfigures      logs   STATIONS_ADJOINT\r\n"
     ]
    }
   ],
   "source": [
    "# Here is the working directory with all the inputs and outputs\n",
    "!ls"
   ]
  },
  {
   "cell_type": "raw",
   "id": "1901d1f6",
   "metadata": {
    "execution": {
     "iopub.execute_input": "2022-02-28T19:30:23.750349Z",
     "iopub.status.busy": "2022-02-28T19:30:23.750105Z",
     "iopub.status.idle": "2022-02-28T19:30:23.859209Z",
     "shell.execute_reply": "2022-02-28T19:30:23.858998Z"
    }
   },
   "source": [
    "The ASDFDataSet contains all the data and metadata collected and created during the workflow. This can be viewed using the functionalities of PyASDF, which is detailed further in the :doc:`Data Storage </storage>` documentation page."
   ]
  },
  {
   "cell_type": "code",
   "execution_count": 49,
   "id": "a9447720",
   "metadata": {
    "execution": {
     "iopub.execute_input": "2022-02-28T19:30:23.864106Z",
     "iopub.status.busy": "2022-02-28T19:30:23.863800Z",
     "iopub.status.idle": "2022-02-28T19:30:23.970098Z",
     "shell.execute_reply": "2022-02-28T19:30:23.969860Z"
    }
   },
   "outputs": [
    {
     "name": "stdout",
     "output_type": "stream",
     "text": [
      "NZ.BFZ.BXE.adj\tNZ.BFZ.BXN.adj\tNZ.BFZ.BXZ.adj\r\n"
     ]
    }
   ],
   "source": [
    "# Each event will output adjoint source files that can be fed directly into SPECFEM3D\n",
    "!ls adjsrcs/2018p130600"
   ]
  },
  {
   "cell_type": "code",
   "execution_count": 50,
   "id": "4e716201",
   "metadata": {
    "execution": {
     "iopub.execute_input": "2022-02-28T19:30:24.083362Z",
     "iopub.status.busy": "2022-02-28T19:30:24.083124Z",
     "iopub.status.idle": "2022-02-28T19:30:24.191764Z",
     "shell.execute_reply": "2022-02-28T19:30:24.191540Z"
    }
   },
   "outputs": [
    {
     "name": "stdout",
     "output_type": "stream",
     "text": [
      "==> adjsrcs/2018p130600/NZ.BFZ.BXE.adj <==\r\n",
      "-2.000000000000000000e+01 0.000000000000000000e+00\r\n",
      "-1.996999999999999886e+01 0.000000000000000000e+00\r\n",
      "-1.994000000000000128e+01 0.000000000000000000e+00\r\n",
      "-1.991000000000000014e+01 0.000000000000000000e+00\r\n",
      "-1.987999999999999901e+01 0.000000000000000000e+00\r\n",
      "-1.985000000000000142e+01 0.000000000000000000e+00\r\n",
      "-1.982000000000000028e+01 0.000000000000000000e+00\r\n",
      "-1.978999999999999915e+01 0.000000000000000000e+00\r\n",
      "-1.976000000000000156e+01 0.000000000000000000e+00\r\n",
      "-1.973000000000000043e+01 0.000000000000000000e+00\r\n",
      "\r\n",
      "==> adjsrcs/2018p130600/NZ.BFZ.BXN.adj <==\r\n",
      "-2.000000000000000000e+01 0.000000000000000000e+00\r\n",
      "-1.996999999999999886e+01 0.000000000000000000e+00\r\n",
      "-1.994000000000000128e+01 0.000000000000000000e+00\r\n",
      "-1.991000000000000014e+01 0.000000000000000000e+00\r\n",
      "-1.987999999999999901e+01 0.000000000000000000e+00\r\n",
      "-1.985000000000000142e+01 0.000000000000000000e+00\r\n",
      "-1.982000000000000028e+01 0.000000000000000000e+00\r\n",
      "-1.978999999999999915e+01 0.000000000000000000e+00\r\n",
      "-1.976000000000000156e+01 0.000000000000000000e+00\r\n",
      "-1.973000000000000043e+01 0.000000000000000000e+00\r\n",
      "\r\n",
      "==> adjsrcs/2018p130600/NZ.BFZ.BXZ.adj <==\r\n",
      "-2.000000000000000000e+01 0.000000000000000000e+00\r\n",
      "-1.996999999999999886e+01 0.000000000000000000e+00\r\n",
      "-1.994000000000000128e+01 0.000000000000000000e+00\r\n",
      "-1.991000000000000014e+01 0.000000000000000000e+00\r\n",
      "-1.987999999999999901e+01 0.000000000000000000e+00\r\n",
      "-1.985000000000000142e+01 0.000000000000000000e+00\r\n",
      "-1.982000000000000028e+01 0.000000000000000000e+00\r\n",
      "-1.978999999999999915e+01 0.000000000000000000e+00\r\n",
      "-1.976000000000000156e+01 0.000000000000000000e+00\r\n",
      "-1.973000000000000043e+01 0.000000000000000000e+00\r\n"
     ]
    }
   ],
   "source": [
    "# Adjoint source files are created as two-column ASCII files, in the same manner as the synthetics \n",
    "# generated by SPECFEM3D\n",
    "!head adjsrcs/2018p130600/*adj"
   ]
  },
  {
   "cell_type": "code",
   "execution_count": 52,
   "id": "480e7146",
   "metadata": {
    "execution": {
     "iopub.execute_input": "2022-02-28T19:30:24.196266Z",
     "iopub.status.busy": "2022-02-28T19:30:24.193078Z",
     "iopub.status.idle": "2022-02-28T19:30:24.302681Z",
     "shell.execute_reply": "2022-02-28T19:30:24.302432Z"
    }
   },
   "outputs": [
    {
     "name": "stdout",
     "output_type": "stream",
     "text": [
      "i01s00_2018p130600.pdf\r\n"
     ]
    }
   ],
   "source": [
    "# A composite PDF of all waveform figures for each source-receiver pair will be generated\n",
    "# for the user to quickly evaluate data-synthetic misfit graphically\n",
    "!ls figures/2018p130600"
   ]
  },
  {
   "cell_type": "code",
   "execution_count": 58,
   "id": "b2eb561c",
   "metadata": {},
   "outputs": [],
   "source": [
    "# This doesn't work, image needs to be stored within the dir. that I opened jupyter notebook with\n",
    "# from IPython.display import IFrame\n",
    "# IFrame(\"figures/2018p130600/i01s00_2018p130600.pdf\", width=600, height=300)"
   ]
  },
  {
   "cell_type": "code",
   "execution_count": 59,
   "id": "f332de2a",
   "metadata": {
    "execution": {
     "iopub.execute_input": "2022-02-28T19:30:24.307191Z",
     "iopub.status.busy": "2022-02-28T19:30:24.304766Z",
     "iopub.status.idle": "2022-02-28T19:30:24.413249Z",
     "shell.execute_reply": "2022-02-28T19:30:24.413432Z"
    }
   },
   "outputs": [
    {
     "name": "stdout",
     "output_type": "stream",
     "text": [
      "i01s00_2018p130600.log\r\n"
     ]
    }
   ],
   "source": [
    "# Text log files help the user keep track of all processing steps, and misfit information\n",
    "!ls logs"
   ]
  },
  {
   "cell_type": "code",
   "execution_count": 60,
   "id": "422682e6",
   "metadata": {},
   "outputs": [
    {
     "name": "stdout",
     "output_type": "stream",
     "text": [
      "[2022-02-28 12:08:27] - pyatoa - INFO: \r\n",
      "================================================================================\r\n",
      "\r\n",
      "NZ.BFZ.*.*\r\n",
      "\r\n",
      "================================================================================\r\n",
      "[2022-02-28 12:08:27] - pyatoa - DEBUG: gathering event\r\n",
      "[2022-02-28 12:08:27] - pyatoa - INFO: searching ASDFDataSet for event info\r\n",
      "[2022-02-28 12:08:28] - pyatoa - DEBUG: matching event found: 2018p130600\r\n",
      "[2022-02-28 12:08:28] - pyatoa - INFO: gathering data for NZ.BFZ.*.*\r\n",
      "[2022-02-28 12:08:28] - pyatoa - INFO: gathering observed waveforms\r\n",
      "[2022-02-28 12:08:28] - pyatoa - INFO: searching ASDFDataSet for observations\r\n",
      "[2022-02-28 12:08:28] - pyatoa - INFO: matching observed waveforms found\r\n",
      "[2022-02-28 12:08:28] - pyatoa - INFO: gathering StationXML\r\n",
      "[2022-02-28 12:08:28] - pyatoa - INFO: searching ASDFDataSet for station info\r\n",
      "[2022-02-28 12:08:28] - pyatoa - INFO: matching StationXML found\r\n",
      "[2022-02-28 12:08:28] - pyatoa - INFO: saved to ASDFDataSet\r\n",
      "[2022-02-28 12:08:28] - pyatoa - INFO: gathering synthetic waveforms\r\n",
      "[2022-02-28 12:08:28] - pyatoa - INFO: searching ASDFDataSet for synthetics\r\n",
      "[2022-02-28 12:08:28] - pyatoa - INFO: searching local filesystem for synthetics\r\n",
      "[2022-02-28 12:08:28] - pyatoa - DEBUG: searching for synthetics: /home/bchow/REPOSITORIES/pyatoa/pyatoa/tests/test_data/docs_data/pyaflowa_doc/synthetics/2018p130600/{net}.{sta}.*{cmp}.sem{dva}\r\n",
      "[2022-02-28 12:08:28] - pyatoa - INFO: retrieved synthetics locally:\r\n",
      "/home/bchow/REPOSITORIES/pyatoa/pyatoa/tests/test_data/docs_data/pyaflowa_doc/synthetics/2018p130600/NZ.BFZ.BXE.semd\r\n",
      "[2022-02-28 12:08:28] - pyatoa - INFO: retrieved synthetics locally:\r\n",
      "/home/bchow/REPOSITORIES/pyatoa/pyatoa/tests/test_data/docs_data/pyaflowa_doc/synthetics/2018p130600/NZ.BFZ.BXN.semd\r\n",
      "[2022-02-28 12:08:28] - pyatoa - INFO: retrieved synthetics locally:\r\n",
      "/home/bchow/REPOSITORIES/pyatoa/pyatoa/tests/test_data/docs_data/pyaflowa_doc/synthetics/2018p130600/NZ.BFZ.BXZ.semd\r\n",
      "[2022-02-28 12:08:28] - pyatoa - INFO: matching synthetic waveforms found\r\n",
      "[2022-02-28 12:08:28] - pyatoa - INFO: saved to ASDFDataSet with tag 'synthetic_i01s00'\r\n",
      "[2022-02-28 12:08:28] - pyatoa - INFO: standardizing streams\r\n",
      "[2022-02-28 12:08:28] - pyatoa - DEBUG: zero pad NZ.BFZ.10.HHE (0, 0) samples\r\n",
      "[2022-02-28 12:08:28] - pyatoa - DEBUG: new starttime NZ.BFZ.10.HHE: 2018-02-18T07:43:28.127644Z\r\n",
      "[2022-02-28 12:08:28] - pyatoa - DEBUG: zero pad NZ.BFZ.10.HHN (0, 0) samples\r\n",
      "[2022-02-28 12:08:28] - pyatoa - DEBUG: new starttime NZ.BFZ.10.HHN: 2018-02-18T07:43:28.127644Z\r\n",
      "[2022-02-28 12:08:28] - pyatoa - DEBUG: zero pad NZ.BFZ.10.HHZ (0, 0) samples\r\n",
      "[2022-02-28 12:08:28] - pyatoa - DEBUG: new starttime NZ.BFZ.10.HHZ: 2018-02-18T07:43:28.127644Z\r\n",
      "[2022-02-28 12:08:28] - pyatoa - DEBUG: time offset is -20.0s\r\n",
      "[2022-02-28 12:08:28] - pyatoa - INFO: preprocessing observation data\r\n",
      "[2022-02-28 12:08:28] - pyatoa - INFO: adjusting taper to cover time offset -20.0\r\n",
      "[2022-02-28 12:08:28] - pyatoa - DEBUG: removing response, units to DISP\r\n",
      "[2022-02-28 12:08:28] - pyatoa - DEBUG: rotating from generic coordinate system to ZNE\r\n",
      "[2022-02-28 12:08:28] - pyatoa - DEBUG: bandpass filter: 10.0 - 30.0s w/ 2.0 corners\r\n",
      "[2022-02-28 12:08:28] - pyatoa - INFO: preprocessing synthetic data\r\n",
      "[2022-02-28 12:08:28] - pyatoa - INFO: adjusting taper to cover time offset -20.0\r\n",
      "[2022-02-28 12:08:28] - pyatoa - DEBUG: no response removal, synthetic data or requested not to\r\n",
      "[2022-02-28 12:08:28] - pyatoa - DEBUG: bandpass filter: 10.0 - 30.0s w/ 2.0 corners\r\n",
      "[2022-02-28 12:08:28] - pyatoa - DEBUG: convolving data w/ Gaussian (t/2=0.70s)\r\n",
      "[2022-02-28 12:08:28] - pyatoa - INFO: running Pyflex w/ map: nznorth_10-30s\r\n",
      "[2022-02-28 12:08:28] - pyflex - INFO: Calculated travel times.\r\n",
      "[2022-02-28 12:08:28] - pyflex - INFO: Calculating envelope of synthetics.\r\n",
      "[2022-02-28 12:08:28] - pyflex - INFO: Calculating STA/LTA.\r\n",
      "[2022-02-28 12:08:28] - pyflex - INFO: Initial window selection yielded 4 possible windows.\r\n",
      "[2022-02-28 12:08:28] - pyflex - INFO: Rejection based on travel times retained 4 windows.\r\n",
      "[2022-02-28 12:08:28] - pyflex - INFO: Global SNR checks passed. Integrated SNR: 1491736118526.783203, Amplitude SNR: 3674599.839129\r\n",
      "[2022-02-28 12:08:28] - pyflex - INFO: Rejection based on minimum window length retained 4 windows.\r\n",
      "[2022-02-28 12:08:28] - pyflex - INFO: Water level rejection retained 2 windows\r\n",
      "[2022-02-28 12:08:28] - pyflex - INFO: Single phase group rejection retained 2 windows\r\n",
      "[2022-02-28 12:08:28] - pyflex - INFO: Removing duplicates retains 2 windows.\r\n",
      "[2022-02-28 12:08:28] - pyflex - INFO: Rejection based on minimum window length retained 2 windows.\r\n",
      "[2022-02-28 12:08:28] - pyflex - INFO: SN amplitude ratio window rejection retained 2 windows\r\n",
      "[2022-02-28 12:08:28] - pyflex - INFO: Rejection based on data fit criteria retained 2 windows.\r\n",
      "[2022-02-28 12:08:28] - pyflex - INFO: Weighted interval schedule optimization retained 1 windows.\r\n",
      "[2022-02-28 12:08:28] - pyatoa - INFO: 1 window(s) selected for comp E\r\n",
      "[2022-02-28 12:08:28] - pyflex - INFO: Calculated travel times.\r\n",
      "[2022-02-28 12:08:28] - pyflex - INFO: Calculating envelope of synthetics.\r\n",
      "[2022-02-28 12:08:28] - pyflex - INFO: Calculating STA/LTA.\r\n",
      "[2022-02-28 12:08:28] - pyflex - INFO: Initial window selection yielded 10 possible windows.\r\n",
      "[2022-02-28 12:08:28] - pyflex - INFO: Rejection based on travel times retained 10 windows.\r\n",
      "[2022-02-28 12:08:28] - pyflex - INFO: Global SNR checks passed. Integrated SNR: 430243312571.527222, Amplitude SNR: 2193818.774050\r\n",
      "[2022-02-28 12:08:28] - pyflex - INFO: Rejection based on minimum window length retained 9 windows.\r\n",
      "[2022-02-28 12:08:28] - pyflex - INFO: Water level rejection retained 3 windows\r\n",
      "[2022-02-28 12:08:28] - pyflex - INFO: Single phase group rejection retained 3 windows\r\n",
      "[2022-02-28 12:08:28] - pyflex - INFO: Removing duplicates retains 2 windows.\r\n",
      "[2022-02-28 12:08:28] - pyflex - INFO: Rejection based on minimum window length retained 2 windows.\r\n",
      "[2022-02-28 12:08:28] - pyflex - INFO: SN amplitude ratio window rejection retained 2 windows\r\n",
      "[2022-02-28 12:08:28] - pyflex - INFO: Rejection based on data fit criteria retained 2 windows.\r\n",
      "[2022-02-28 12:08:28] - pyflex - INFO: Weighted interval schedule optimization retained 1 windows.\r\n",
      "[2022-02-28 12:08:28] - pyatoa - INFO: 1 window(s) selected for comp N\r\n",
      "[2022-02-28 12:08:28] - pyflex - INFO: Calculated travel times.\r\n",
      "[2022-02-28 12:08:28] - pyflex - INFO: Calculating envelope of synthetics.\r\n",
      "[2022-02-28 12:08:28] - pyflex - INFO: Calculating STA/LTA.\r\n",
      "[2022-02-28 12:08:28] - pyflex - INFO: Initial window selection yielded 7 possible windows.\r\n",
      "[2022-02-28 12:08:28] - pyflex - INFO: Rejection based on travel times retained 7 windows.\r\n",
      "[2022-02-28 12:08:28] - pyflex - INFO: Global SNR checks passed. Integrated SNR: 12404329094867.441406, Amplitude SNR: 11416222.804038\r\n",
      "[2022-02-28 12:08:28] - pyflex - INFO: Rejection based on minimum window length retained 6 windows.\r\n",
      "[2022-02-28 12:08:28] - pyflex - INFO: Water level rejection retained 3 windows\r\n",
      "[2022-02-28 12:08:28] - pyflex - INFO: Single phase group rejection retained 3 windows\r\n",
      "[2022-02-28 12:08:28] - pyflex - INFO: Removing duplicates retains 2 windows.\r\n",
      "[2022-02-28 12:08:28] - pyflex - INFO: Rejection based on minimum window length retained 2 windows.\r\n",
      "[2022-02-28 12:08:28] - pyflex - INFO: SN amplitude ratio window rejection retained 2 windows\r\n",
      "[2022-02-28 12:08:28] - pyflex - INFO: Rejection based on data fit criteria retained 2 windows.\r\n",
      "[2022-02-28 12:08:28] - pyflex - INFO: Weighted interval schedule optimization retained 1 windows.\r\n",
      "[2022-02-28 12:08:28] - pyatoa - INFO: 1 window(s) selected for comp Z\r\n",
      "[2022-02-28 12:08:28] - pyatoa - DEBUG: saving misfit windows to ASDFDataSet\r\n",
      "[2022-02-28 12:08:28] - pyatoa - INFO: 3 window(s) total found\r\n",
      "[2022-02-28 12:08:28] - pyatoa - DEBUG: running Pyadjoint w/ type: cc_traveltime_misfit\r\n",
      "[2022-02-28 12:08:28] - pyatoa - INFO: 0.365 misfit for comp E\r\n",
      "[2022-02-28 12:08:28] - pyatoa - INFO: 1.620 misfit for comp N\r\n",
      "[2022-02-28 12:08:28] - pyatoa - INFO: 3.251 misfit for comp Z\r\n",
      "[2022-02-28 12:08:28] - pyatoa - DEBUG: saving adjoint sources to ASDFDataSet\r\n",
      "[2022-02-28 12:08:29] - pyatoa - INFO: total misfit 5.237\r\n",
      "[2022-02-28 12:08:29] - pyatoa - INFO: \r\n",
      "\r\n",
      "\tOBS WAVS:  3\r\n",
      "\tSYN WAVS:  3\r\n",
      "\tWINDOWS:   3\r\n",
      "\tMISFIT:    5.24\r\n",
      "\r\n",
      "[2022-02-28 12:08:29] - pyatoa - INFO: saving figure to: /home/bchow/REPOSITORIES/pyatoa/pyatoa/tests/test_data/docs_data/pyaflowa_doc/figures/2018p130600/i01_s00_NZ_BFZ.pdf\r\n",
      "[2022-02-28 12:08:29] - pyatoa - INFO: \r\n",
      "================================================================================\r\n",
      "\r\n",
      "FINALIZE\r\n",
      "\r\n",
      "================================================================================\r\n",
      "[2022-02-28 12:08:29] - pyatoa - INFO: creating single .pdf file of all output figures\r\n",
      "[2022-02-28 12:08:29] - pyatoa - INFO: generating STATIONS_ADJOINT file for SPECFEM\r\n",
      "[2022-02-28 12:08:29] - pyatoa - INFO: \r\n",
      "================================================================================\r\n",
      "\r\n",
      "SUMMARY\r\n",
      "\r\n",
      "================================================================================\r\n",
      "SOURCE NAME: 2018p130600\r\n",
      "STATIONS: 1 / 1\r\n",
      "WINDOWS: 3\r\n",
      "RAW MISFIT: 5.24\r\n",
      "UNEXPECTED ERRORS: 0\r\n",
      "========================\r\n",
      "\r\n",
      "SUMMARY\r\n",
      "\r\n",
      "================================================================================\r\n",
      "SOURCE NAME: 2018p130600\r\n",
      "STATIONS: 1 / 1\r\n",
      "WINDOWS: 3\r\n",
      "RAW MISFIT: 5.24\r\n",
      "UNEXPECTED ERRORS: 0\r\n",
      "\u0000\u0000\u0000\u0000\u0000\u0000\u0000\u0000\u0000\u0000\u0000\u0000\u0000\u0000\u0000\u0000\u0000\u0000\u0000\u0000\u0000\u0000\u0000\u0000\u0000\u0000\u0000\u0000\u0000\u0000\u0000\u0000\u0000\u0000\u0000\u0000\u0000\u0000\u0000\u0000\u0000\u0000\u0000\u0000\u0000\u0000\u0000\u0000\u0000\u0000\u0000\u0000\u0000\u0000\u0000\u0000\u0000\u0000\u0000\u0000\u0000\u0000\u0000\u0000\u0000\u0000\u0000\u0000\u0000\u0000\u0000\u0000\u0000\u0000\u0000\u0000\u0000\u0000\u0000\u0000\u0000\u0000\u0000\u0000\u0000\u0000\u0000\u0000\u0000\u0000\u0000\u0000\u0000\u0000\u0000\u0000\u0000\u0000\u0000\u0000\u0000\u0000\u0000\u0000\u0000\u0000\u0000\u0000\u0000\u0000\u0000\u0000\u0000\u0000\u0000\u0000\u0000\u0000\u0000\u0000\u0000\u0000\u0000\u0000\u0000\u0000\u0000\u0000\u0000\u0000\u0000\u0000\u0000\u0000\u0000\u0000\u0000\u0000\u0000\u0000\u0000\u0000\u0000\u0000\u0000\u0000\u0000\u0000\u0000\u0000\u0000\u0000\u0000\u0000\u0000\u0000\u0000\u0000\u0000\u0000\u0000\u0000\u0000\u0000\u0000\u0000\u0000\u0000\u0000\u0000\u0000\u0000\u0000\u0000\u0000\u0000\u0000\u0000\u0000\u0000\u0000\u0000\u0000\u0000\u0000\u0000\u0000\u0000\u0000\u0000\u0000\u0000\u0000\u0000\u0000\u0000\u0000\u0000\u0000\u0000\u0000\u0000\u0000\u0000\u0000\u0000\u0000\u0000\u0000\u0000\u0000\u0000\u0000\u0000\u0000\u0000\u0000\u0000\u0000\u0000\u0000\u0000\u0000\u0000\u0000\u0000\u0000\u0000\u0000\u0000\u0000\u0000\u0000\u0000\u0000\u0000\u0000\u0000\u0000\u0000\u0000\u0000\u0000\u0000\u0000\u0000\u0000\u0000\u0000\u0000\u0000\u0000\u0000\u0000\u0000\u0000\u0000\u0000\u0000\u0000\u0000\u0000\u0000\u0000\u0000\u0000\u0000\u0000\u0000\u0000\u0000\u0000\u0000\u0000\u0000\u0000\u0000\u0000\u0000\u0000\u0000\u0000\u0000\u0000\u0000\u0000\u0000\u0000\u0000\u0000\u0000\u0000\u0000\u0000\u0000\u0000\u0000\u0000\u0000\u0000\u0000\u0000\u0000\u0000\u0000\u0000\u0000\u0000\u0000\u0000\u0000\u0000\u0000\u0000\u0000\u0000\u0000\u0000\u0000\u0000\u0000\u0000\u0000\u0000\u0000\u0000\u0000\u0000\u0000\u0000\u0000\u0000\u0000\u0000\u0000\u0000\u0000\u0000\u0000\u0000\u0000\u0000\u0000\u0000\u0000\u0000\u0000\u0000\u0000\u0000\u0000\u0000\u0000\u0000\u0000\u0000\u0000\u0000\u0000\u0000\u0000\u0000\u0000\u0000\u0000\u0000\u0000\u0000\u0000\u0000\u0000\u0000\u0000\u0000\u0000\u0000\u0000\u0000\u0000\u0000\u0000\u0000\u0000\u0000\u0000\u0000\u0000\u0000\u0000\u0000\u0000\u0000\u0000\u0000\u0000\u0000\u0000\u0000\u0000\u0000\u0000\u0000\u0000\u0000\u0000\u0000\u0000\u0000\u0000\u0000\u0000\u0000\u0000\u0000\u0000\u0000\u0000\u0000\u0000\u0000\u0000\u0000\u0000\u0000\u0000\u0000\u0000\u0000\u0000\u0000\u0000\u0000\u0000\u0000\u0000\u0000\u0000\u0000\u0000\u0000\u0000\u0000\u0000\u0000\u0000\u0000\u0000\u0000\u0000\u0000\u0000\u0000\u0000\u0000\u0000\u0000\u0000\u0000\u0000\u0000\u0000\u0000\u0000\u0000\u0000\u0000\u0000\u0000\u0000\u0000\u0000\u0000\u0000\u0000\u0000\u0000\u0000\u0000\u0000\u0000\u0000\u0000\u0000\u0000\u0000\u0000\u0000\u0000\u0000\u0000\u0000\u0000\u0000\u0000\u0000\u0000\u0000\u0000\u0000\u0000\u0000\u0000\u0000\u0000\u0000\u0000\u0000\u0000\u0000\u0000\u0000\u0000\u0000\u0000\u0000\u0000\u0000\u0000\u0000\u0000\u0000\u0000\u0000\u0000\u0000\u0000\u0000\u0000\u0000\u0000\u0000\u0000\u0000\u0000\u0000\u0000\u0000\u0000\u0000\u0000\u0000\u0000\u0000\u0000\u0000\u0000\u0000\u0000\u0000\u0000\u0000\u0000\u0000\u0000\u0000\u0000\u0000\u0000\u0000\u0000\u0000\u0000\u0000\u0000\u0000\u0000\u0000\u0000\u0000\u0000\u0000\u0000\u0000\u0000\u0000\u0000\u0000\u0000\u0000\u0000\u0000\u0000\u0000\u0000\u0000\u0000\u0000\u0000\u0000\u0000\u0000\u0000\u0000\u0000\u0000\u0000\u0000\u0000\u0000\u0000\u0000\u0000\u0000\u0000\u0000\u0000\u0000\u0000\u0000\u0000\u0000\u0000\u0000\u0000\u0000\u0000\u0000\u0000\u0000\u0000\u0000\u0000\u0000\u0000\u0000\u0000\u0000\u0000\u0000\u0000\u0000\u0000\u0000\u0000\u0000\u0000\u0000\u0000\u0000\u0000\u0000\u0000\u0000\u0000\u0000\u0000\u0000\u0000\u0000\u0000\u0000\u0000\u0000\u0000\u0000\u0000\u0000\u0000\u0000\u0000\u0000\u0000\u0000\u0000\u0000\u0000\u0000\u0000\u0000\u0000\u0000\u0000\u0000\u0000\u0000\u0000\u0000\u0000\u0000\u0000\u0000\u0000\u0000\u0000\u0000\u0000\u0000\u0000\u0000\u0000\u0000\u0000\u0000\u0000\u0000\u0000\u0000\u0000\u0000\u0000\u0000\u0000\u0000\u0000\u0000\u0000\u0000\u0000\u0000\u0000\u0000\u0000\u0000\u0000\u0000\u0000\u0000\u0000\u0000\u0000\u0000\u0000\u0000\u0000\u0000\u0000\u0000\u0000\u0000\u0000\u0000\u0000\u0000\u0000\u0000\u0000\u0000\u0000\u0000\u0000\u0000\u0000\u0000\u0000\u0000\u0000\u0000\u0000\u0000\u0000\u0000\u0000\u0000\u0000\u0000\u0000\u0000\u0000\u0000\u0000\u0000\u0000\u0000\u0000\u0000\u0000\u0000\u0000\u0000\u0000\u0000\u0000\u0000\u0000\u0000\u0000\u0000\u0000\u0000\u0000\u0000\u0000\u0000\u0000\u0000\u0000\u0000\u0000\u0000\u0000\u0000\u0000\u0000\u0000\u0000\u0000\u0000\u0000\u0000\u0000\u0000\u0000\u0000\u0000\u0000\u0000\u0000\u0000\u0000\u0000\u0000\u0000\u0000\u0000\u0000\u0000\u0000\u0000\u0000\u0000\u0000\u0000\u0000\u0000\u0000\u0000\u0000\u0000\u0000\u0000\u0000\u0000\u0000\u0000\u0000\u0000\u0000\u0000\u0000\u0000\u0000\u0000\u0000\u0000\u0000\u0000\u0000\u0000\u0000\u0000\u0000\u0000\u0000\u0000\u0000\u0000\u0000\u0000\u0000\u0000\u0000\u0000\u0000\u0000\u0000\u0000\u0000\u0000\u0000\u0000\u0000\u0000\u0000\u0000\u0000\u0000\u0000\u0000\u0000\u0000\u0000\u0000\u0000\u0000\u0000\u0000\u0000\u0000\u0000\u0000\u0000\u0000\u0000\u0000\u0000\u0000\u0000\u0000\u0000\u0000\u0000\u0000\u0000\u0000\u0000\u0000\u0000\u0000\u0000\u0000\u0000\u0000\u0000\u0000\u0000\u0000\u0000\u0000\u0000\u0000\u0000\u0000\u0000\u0000\u0000\u0000\u0000\u0000\u0000\u0000\u0000\u0000\u0000\u0000\u0000\u0000\u0000\u0000\u0000\u0000\u0000\u0000\u0000\u0000\u0000\u0000\u0000\u0000\u0000\u0000\u0000\u0000\u0000\u0000\u0000\u0000\u0000\u0000\u0000\u0000\u0000\u0000\u0000\u0000\u0000\u0000\u0000\u0000\u0000\u0000\u0000\u0000\u0000\u0000\u0000\u0000\u0000\u0000\u0000\u0000\u0000\u0000\u0000\u0000\u0000\u0000\u0000\u0000\u0000\u0000\u0000\u0000\u0000\u0000\u0000\u0000\u0000\u0000\u0000\u0000\u0000\u0000\u0000\u0000\u0000\u0000\u0000\u0000\u0000\u0000\u0000\u0000\u0000\u0000\u0000\u0000\u0000\u0000\u0000\u0000\u0000\u0000\u0000\u0000\u0000\u0000\u0000\u0000\u0000\u0000\u0000\u0000\u0000\u0000\u0000\u0000\u0000\u0000\u0000\u0000\u0000\u0000\u0000\u0000\u0000\u0000\u0000\u0000\u0000\u0000\u0000\u0000\u0000\u0000\u0000\u0000\u0000\u0000\u0000\u0000\u0000\u0000\u0000\u0000\u0000\u0000\u0000\u0000\u0000\u0000\u0000\u0000\u0000\u0000\u0000\u0000\u0000\u0000\u0000\u0000\u0000\u0000\u0000\u0000\u0000\u0000\u0000\u0000\u0000\u0000\u0000\u0000\u0000\u0000\u0000\u0000\u0000\u0000\u0000\u0000\u0000\u0000\u0000\u0000\u0000\u0000\u0000\u0000\u0000\u0000\u0000\u0000\u0000\u0000\u0000\u0000\u0000\u0000\u0000\u0000\u0000\u0000\u0000\u0000\u0000\u0000\u0000\u0000\u0000\u0000\u0000\u0000\u0000\u0000\u0000\u0000\u0000\u0000\u0000\u0000\u0000\u0000\u0000\u0000\u0000\u0000\u0000\u0000\u0000\u0000\u0000\u0000\u0000\u0000\u0000\u0000\u0000\u0000\u0000\u0000\u0000\u0000\u0000\u0000\u0000\u0000\u0000\u0000\u0000\u0000\u0000\u0000\u0000\u0000\u0000\u0000\u0000\u0000\u0000\u0000\u0000\u0000\u0000\u0000\u0000\u0000\u0000\u0000\u0000\u0000\u0000\u0000\u0000\u0000\u0000\u0000\u0000\u0000\u0000\u0000\u0000\u0000\u0000\u0000\u0000\u0000\u0000\u0000\u0000\u0000\u0000\u0000\u0000\u0000\u0000\u0000\u0000\u0000\u0000\u0000\u0000\u0000\u0000\u0000\u0000\u0000\u0000\u0000\u0000\u0000\u0000\u0000\u0000\u0000\u0000\u0000\u0000\u0000\u0000\u0000\u0000\u0000\u0000\u0000\u0000\u0000\u0000\u0000\u0000\u0000\u0000\u0000\u0000\u0000\u0000\u0000\u0000\u0000\u0000\u0000\u0000\u0000\u0000\u0000\u0000\u0000\u0000\u0000\u0000\u0000\u0000\u0000\u0000\u0000\u0000\u0000\u0000\u0000\u0000\u0000\u0000\u0000\u0000\u0000\u0000\u0000\u0000\u0000\u0000\u0000\u0000\u0000\u0000\u0000\u0000\u0000\u0000\u0000\u0000\u0000\u0000\u0000\u0000\u0000\u0000\u0000\u0000\u0000\u0000\u0000\u0000\u0000\u0000\u0000\u0000\u0000\u0000\u0000\u0000\u0000\u0000\u0000\u0000\u0000\u0000\u0000\u0000\u0000\u0000\u0000\u0000\u0000\u0000\u0000\u0000\u0000\u0000\u0000\u0000\u0000\u0000\u0000\u0000\u0000\u0000\u0000\u0000\u0000\u0000\u0000\u0000\u0000\u0000\u0000\u0000\u0000\u0000\u0000\u0000\u0000\u0000\u0000\u0000\u0000\u0000\u0000\u0000\u0000\u0000\u0000\u0000\u0000\u0000\u0000\u0000\u0000\u0000\u0000\u0000\u0000\u0000\u0000\u0000\u0000\u0000\u0000\u0000\u0000\u0000\u0000\u0000\u0000\u0000\u0000\u0000\u0000\u0000\u0000\u0000\u0000\u0000\u0000\u0000\u0000\u0000\u0000\u0000\u0000\u0000\u0000\u0000\u0000\u0000\u0000\u0000\u0000\u0000\u0000\u0000\u0000\u0000\u0000\u0000\u0000\u0000\u0000\u0000\u0000\u0000\u0000\u0000\u0000\u0000\u0000\u0000\u0000\u0000\u0000\u0000\u0000\u0000\u0000\u0000\u0000\u0000\u0000\u0000\u0000\u0000\u0000\u0000\u0000\u0000\u0000\u0000\u0000\u0000\u0000\u0000\u0000\u0000\u0000\u0000\u0000\u0000\u0000\u0000\u0000\u0000\u0000\u0000\u0000\u0000\u0000\u0000\u0000\u0000\u0000\u0000\u0000\u0000\u0000\u0000\u0000\u0000\u0000\u0000\u0000\u0000\u0000\u0000\u0000\u0000\u0000\u0000\u0000\u0000\u0000\u0000\u0000\u0000\u0000\u0000\u0000\u0000\u0000\u0000\u0000\u0000\u0000\u0000\u0000\u0000\u0000\u0000\u0000\u0000\u0000\u0000\u0000\u0000\u0000\u0000\u0000\u0000\u0000\u0000\u0000\u0000\u0000\u0000\u0000\u0000\u0000\u0000\u0000\u0000\u0000\u0000\u0000\u0000\u0000\u0000\u0000\u0000\u0000\u0000\u0000\u0000\u0000\u0000\u0000\u0000\u0000\u0000\u0000\u0000\u0000\u0000\u0000\u0000\u0000\u0000\u0000\u0000\u0000\u0000\u0000\u0000\u0000\u0000\u0000\u0000\u0000\u0000\u0000\u0000\u0000\u0000\u0000\u0000\u0000\u0000\u0000\u0000\u0000\u0000\u0000\u0000\u0000\u0000\u0000\u0000\u0000\u0000\u0000\u0000\u0000\u0000\u0000\u0000\u0000\u0000\u0000\u0000\u0000\u0000\u0000\u0000\u0000\u0000\u0000\u0000\u0000\u0000\u0000\u0000\u0000\u0000\u0000\u0000\u0000\u0000\u0000\u0000\u0000\u0000\u0000\u0000\u0000\u0000\u0000\u0000\u0000\u0000\u0000\u0000\u0000\u0000\u0000\u0000\u0000\u0000\u0000\u0000\u0000\u0000\u0000\u0000\u0000\u0000\u0000\u0000\u0000\u0000\u0000\u0000\u0000\u0000\u0000\u0000\u0000\u0000\u0000\u0000\u0000\u0000\u0000\u0000\u0000\u0000\u0000\u0000\u0000\u0000\u0000\u0000\u0000\u0000\u0000\u0000\u0000\u0000\u0000\u0000\u0000\u0000\u0000\u0000\u0000\u0000\u0000\u0000\u0000\u0000\u0000\u0000\u0000\u0000\u0000\u0000\u0000\u0000\u0000\u0000\u0000\u0000\u0000\u0000\u0000\u0000\u0000\u0000\u0000\u0000\u0000\u0000\u0000\u0000\u0000\u0000\u0000\u0000\u0000\u0000\u0000\u0000\u0000\u0000\u0000\u0000\u0000\u0000\u0000\u0000\u0000\u0000\u0000\u0000\u0000\u0000\u0000\u0000\u0000\u0000\u0000\u0000\u0000\u0000\u0000\u0000\u0000\u0000\u0000\u0000\u0000\u0000\u0000\u0000\u0000\u0000\u0000\u0000\u0000\u0000\u0000\u0000\u0000\u0000\u0000\u0000\u0000\u0000\u0000\u0000\u0000\u0000\u0000\u0000\u0000\u0000\u0000\u0000\u0000\u0000\u0000\u0000\u0000\u0000\u0000\u0000\u0000\u0000\u0000\u0000\u0000\u0000\u0000\u0000\u0000\u0000\u0000\u0000\u0000\u0000\u0000\u0000\u0000\u0000\u0000\u0000\u0000\u0000\u0000\u0000\u0000\u0000\u0000\u0000\u0000\u0000\u0000\u0000\u0000\u0000\u0000\u0000\u0000\u0000\u0000\u0000\u0000\u0000\u0000\u0000\u0000\u0000\u0000\u0000\u0000\u0000\u0000\u0000\u0000\u0000\u0000\u0000\u0000\u0000\u0000\u0000\u0000\u0000\u0000\u0000\u0000\u0000\u0000\u0000\u0000\u0000\u0000\u0000\u0000\u0000\u0000\u0000\u0000\u0000\u0000\u0000\u0000\u0000\u0000\u0000\u0000\u0000\u0000\u0000\u0000\u0000\u0000\u0000\u0000\u0000\u0000\u0000\u0000\u0000\u0000\u0000\u0000\u0000\u0000\u0000\u0000\u0000\u0000\u0000\u0000\u0000\u0000\u0000\u0000\u0000\u0000\u0000\u0000\u0000\u0000\u0000\u0000\u0000\u0000\u0000\u0000\u0000\u0000\u0000\u0000\u0000\u0000\u0000\u0000\u0000\u0000\u0000\u0000\u0000\u0000\u0000\u0000\u0000\u0000\u0000\u0000\u0000\u0000\u0000\u0000\u0000\u0000\u0000\u0000\u0000\u0000\u0000\u0000\u0000\u0000\u0000\u0000\u0000\u0000\u0000\u0000\u0000\u0000\u0000\u0000\u0000\u0000\u0000\u0000\u0000\u0000\u0000\u0000\u0000\u0000\u0000\u0000\u0000\u0000\u0000\u0000\u0000\u0000\u0000\u0000\u0000\u0000\u0000\u0000\u0000\u0000\u0000\u0000\u0000\u0000\u0000\u0000\u0000\u0000\u0000\u0000\u0000\u0000\u0000\u0000\u0000\u0000\u0000\u0000\u0000\u0000\u0000\u0000\u0000\u0000\u0000\u0000\u0000\u0000\u0000\u0000\u0000\u0000\u0000\u0000\u0000\u0000\u0000\u0000\u0000\u0000\u0000\u0000\u0000\u0000\u0000\u0000\u0000\u0000\u0000\u0000\u0000\u0000\u0000\u0000\u0000\u0000\u0000\u0000\u0000\u0000\u0000\u0000\u0000\u0000\u0000\u0000\u0000\u0000\u0000\u0000\u0000\u0000\u0000\u0000\u0000\u0000\u0000\u0000\u0000\u0000\u0000\u0000\u0000\u0000\u0000\u0000\u0000\u0000\u0000\u0000\u0000\u0000\u0000\u0000\u0000\u0000\u0000\u0000\u0000\u0000\u0000\u0000\u0000\u0000\u0000\u0000\u0000\u0000\u0000\u0000\u0000\u0000\u0000\u0000\u0000\u0000\u0000\u0000\u0000\u0000\u0000\u0000\u0000\u0000\u0000\u0000\u0000\u0000\u0000\u0000\u0000\u0000\u0000\u0000\u0000\u0000\u0000\u0000\u0000\u0000\u0000\u0000\u0000\u0000\u0000\u0000\u0000\u0000\u0000\u0000\u0000\u0000\u0000\u0000\u0000\u0000\u0000\u0000\u0000\u0000\u0000\u0000\u0000\u0000\u0000\u0000\u0000\u0000\u0000\u0000\u0000\u0000\u0000\u0000\u0000\u0000\u0000\u0000\u0000\u0000\u0000\u0000\u0000\u0000\u0000\u0000\u0000\u0000\u0000\u0000\u0000\u0000\u0000\u0000\u0000\u0000\u0000\u0000\u0000\u0000\u0000\u0000\u0000\u0000\u0000\u0000\u0000\u0000\u0000\u0000\u0000\u0000\u0000\u0000\u0000\u0000\u0000\u0000\u0000\u0000\u0000\u0000\u0000\u0000\u0000\u0000\u0000\u0000\u0000\u0000\u0000\u0000\u0000\u0000\u0000\u0000\u0000\u0000\u0000\u0000\u0000\u0000\u0000\u0000\u0000\u0000\u0000\u0000\u0000\u0000\u0000\u0000\u0000\u0000\u0000\u0000\u0000\u0000\u0000\u0000\u0000\u0000\u0000\u0000\u0000\u0000\u0000\u0000\u0000\u0000\u0000\u0000\u0000\u0000\u0000\u0000\u0000\u0000\u0000\u0000\u0000\u0000\u0000\u0000\u0000\u0000\u0000\u0000\u0000\u0000\u0000\u0000\u0000\u0000\u0000\u0000\u0000\u0000\u0000\u0000\u0000\u0000\u0000\u0000\u0000\u0000\u0000\u0000\u0000\u0000\u0000\u0000\u0000\u0000\u0000\u0000\u0000\u0000\u0000\u0000\u0000\u0000\u0000\u0000\u0000\u0000\u0000\u0000\u0000\u0000\u0000\u0000\u0000\u0000\u0000\u0000\u0000\u0000\u0000\u0000\u0000\u0000\u0000\u0000\u0000\u0000\u0000\u0000\u0000\u0000\u0000\u0000\u0000\u0000\u0000\u0000\u0000\u0000\u0000\u0000\u0000\u0000\u0000\u0000\u0000\u0000\u0000\u0000\u0000\u0000\u0000\u0000\u0000\u0000\u0000\u0000\u0000\u0000\u0000\u0000\u0000\u0000\u0000\u0000\u0000\u0000\u0000\u0000\u0000\u0000\u0000\u0000\u0000\u0000\u0000\u0000\u0000\u0000\u0000\u0000\u0000\u0000\u0000\u0000\u0000\u0000\u0000\u0000\u0000\u0000\u0000\u0000\u0000\u0000\u0000\u0000\u0000\u0000\u0000\u0000\u0000\u0000\u0000\u0000\u0000\u0000\u0000\u0000\u0000\u0000\u0000\u0000\u0000\u0000\u0000\u0000\u0000\u0000\u0000\u0000\u0000\u0000\u0000\u0000\u0000\u0000\u0000\u0000\u0000\u0000\u0000\u0000\u0000\u0000\u0000\u0000\u0000\u0000\u0000\u0000\u0000\u0000\u0000\u0000\u0000\u0000\u0000\u0000\u0000\u0000\u0000\u0000\u0000\u0000\u0000\u0000\u0000\u0000\u0000\u0000\u0000\u0000\u0000\u0000\u0000\u0000\u0000\u0000\u0000\u0000\u0000\u0000\u0000\u0000\u0000\u0000\u0000\u0000\u0000\u0000\u0000\u0000\u0000\u0000\u0000\u0000\u0000\u0000\u0000\u0000\u0000\u0000\u0000\u0000\u0000\u0000\u0000\u0000\u0000\u0000\u0000\u0000\u0000\u0000\u0000\u0000\u0000\u0000\u0000\u0000\u0000\u0000\u0000\u0000\u0000\u0000\u0000\u0000\u0000\u0000\u0000\u0000\u0000\u0000\u0000\u0000\u0000\u0000\u0000\u0000\u0000\u0000\u0000\u0000\u0000\u0000\u0000\u0000\u0000\u0000\u0000\u0000\u0000\u0000\u0000\u0000\u0000\u0000\u0000\u0000\u0000\u0000\u0000\u0000\u0000\u0000\u0000\u0000\u0000\u0000\u0000\u0000\u0000\u0000\u0000\u0000\u0000\u0000\u0000\u0000\u0000\u0000\u0000\u0000\u0000\u0000\u0000\u0000\u0000\u0000\u0000\u0000\u0000\u0000\u0000\u0000\u0000\u0000\u0000\u0000\u0000\u0000\u0000\u0000\u0000\u0000\u0000\u0000\u0000\u0000\u0000\u0000\u0000\u0000\u0000\u0000\u0000\u0000\u0000\u0000\u0000\u0000\u0000\u0000\u0000\u0000\u0000\u0000\u0000\u0000\u0000\u0000\u0000\u0000\u0000\u0000\u0000\u0000\u0000\u0000\u0000\u0000\u0000\u0000\u0000\u0000\u0000\u0000\u0000\u0000\u0000\u0000\u0000\u0000\u0000\u0000\u0000\u0000\u0000\u0000\u0000\u0000\u0000\u0000\u0000\u0000\u0000\u0000\u0000\u0000\u0000\u0000\u0000\u0000\u0000\u0000\u0000\u0000\u0000\u0000\u0000\u0000\u0000\u0000\u0000\u0000\u0000\u0000\u0000\u0000\u0000\u0000\u0000\u0000\u0000\u0000\u0000\u0000\u0000\u0000\u0000\u0000\u0000\u0000\u0000\u0000\u0000\u0000\u0000\u0000\u0000\u0000\u0000\u0000\u0000\u0000\u0000\u0000\u0000\u0000\u0000\u0000\u0000\u0000\u0000\u0000\u0000\u0000\u0000\u0000\u0000\u0000\u0000\u0000\u0000\u0000\u0000\u0000\u0000\u0000\u0000\u0000\u0000\u0000\u0000\u0000\u0000\u0000\u0000\u0000\u0000\u0000\u0000\u0000\u0000\u0000\u0000\u0000\u0000\u0000\u0000\u0000\u0000\u0000\u0000\u0000\u0000\u0000\u0000\u0000\u0000\u0000\u0000\u0000\u0000\u0000\u0000\u0000\u0000\u0000\u0000\u0000\u0000\u0000\u0000\u0000\u0000\u0000\u0000\u0000\u0000\u0000\u0000\u0000\u0000\u0000\u0000\u0000\u0000\u0000\u0000\u0000\u0000\u0000\u0000\u0000\u0000\u0000\u0000\u0000\u0000\u0000\u0000\u0000\u0000\u0000\u0000\u0000\u0000\u0000\u0000\u0000\u0000\u0000\u0000\u0000\u0000\u0000\u0000\u0000\u0000\u0000\u0000\u0000\u0000\u0000\u0000\u0000\u0000\u0000\u0000\u0000\u0000\u0000\u0000\u0000\u0000\u0000\u0000\u0000\u0000\u0000\u0000\u0000\u0000\u0000\u0000\u0000\u0000\u0000\u0000\u0000\u0000\u0000\u0000\u0000\u0000\u0000\u0000\u0000\u0000\u0000\u0000\u0000\u0000\u0000\u0000\u0000\u0000\u0000\u0000\u0000\u0000\u0000\u0000\u0000\u0000\u0000\u0000\u0000\u0000\u0000\u0000\u0000\u0000\u0000\u0000\u0000\u0000\u0000\u0000\u0000\u0000\u0000\u0000\u0000\u0000\u0000\u0000\u0000\u0000\u0000\u0000\u0000\u0000\u0000\u0000\u0000\u0000\u0000\u0000\u0000\u0000\u0000\u0000\u0000\u0000\u0000\u0000\u0000\u0000\u0000\u0000\u0000\u0000\u0000\u0000\u0000\u0000\u0000\u0000\u0000\u0000\u0000\u0000\u0000\u0000\u0000\u0000\u0000\u0000\u0000\u0000\u0000\u0000\u0000\u0000\u0000\u0000\u0000\u0000\u0000\u0000\u0000\u0000\u0000\u0000\u0000\u0000\u0000\u0000\u0000\u0000\u0000\u0000\u0000\u0000\u0000\u0000\u0000\u0000\u0000\u0000\u0000\u0000\u0000\u0000\u0000\u0000\u0000\u0000\u0000\u0000\u0000\u0000\u0000\u0000\u0000\u0000\u0000\u0000\u0000\u0000\u0000\u0000\u0000\u0000\u0000\u0000\u0000\u0000\u0000\u0000\u0000\u0000\u0000\u0000\u0000\u0000\u0000\u0000\u0000\u0000\u0000\u0000\u0000\u0000\u0000\u0000\u0000\u0000\u0000\u0000\u0000\u0000\u0000\u0000\u0000\u0000\u0000\u0000\u0000\u0000\u0000\u0000\u0000\u0000\u0000\u0000\u0000\u0000\u0000\u0000\u0000\u0000\u0000\u0000\u0000\u0000\u0000\u0000\u0000\u0000\u0000\u0000\u0000\u0000\u0000\u0000\u0000\u0000\u0000\u0000\u0000\u0000\u0000\u0000\u0000\u0000\u0000\u0000\u0000\u0000\u0000\u0000\u0000\u0000\u0000\u0000\u0000\u0000\u0000\u0000\u0000\u0000\u0000\u0000\u0000\u0000\u0000\u0000\u0000\u0000\u0000\u0000\u0000\u0000\u0000\u0000\u0000\u0000\u0000\u0000\u0000\u0000\u0000\u0000\u0000\u0000\u0000\u0000\u0000\u0000\u0000\u0000\u0000\u0000\u0000\u0000\u0000\u0000\u0000\u0000\u0000\u0000\u0000\u0000\u0000\u0000\u0000\u0000\u0000\u0000\u0000\u0000\u0000\u0000\u0000\u0000\u0000\u0000\u0000\u0000\u0000\u0000\u0000\u0000\u0000\u0000\u0000\u0000\u0000\u0000\u0000\u0000\u0000\u0000\u0000\u0000\u0000\u0000\u0000\u0000\u0000\u0000\u0000\u0000\u0000\u0000\u0000\u0000\u0000\u0000\u0000\u0000\u0000\u0000\u0000\u0000\u0000\u0000\u0000\u0000\u0000\u0000\u0000\u0000\u0000\u0000\u0000\u0000\u0000\u0000\u0000\u0000\u0000\u0000\u0000\u0000\u0000\u0000\u0000\u0000\u0000\u0000\u0000\u0000\u0000\u0000\u0000\u0000\u0000\u0000\u0000\u0000\u0000\u0000\u0000\u0000\u0000\u0000\u0000\u0000\u0000\u0000\u0000\u0000\u0000\u0000\u0000\u0000\u0000\u0000\u0000\u0000\u0000\u0000\u0000\u0000\u0000\u0000\u0000\u0000\u0000\u0000\u0000\u0000\u0000\u0000\u0000\u0000\u0000\u0000\u0000\u0000\u0000\u0000\u0000\u0000\u0000\u0000\u0000\u0000\u0000\u0000\u0000\u0000\u0000\u0000\u0000\u0000\u0000\u0000\u0000\u0000\u0000\u0000\u0000\u0000\u0000\u0000\u0000\u0000\u0000\u0000\u0000\u0000\u0000\u0000\u0000\u0000\u0000\u0000\u0000\u0000\u0000\u0000\u0000\u0000\u0000\u0000\u0000\u0000\u0000\u0000\u0000\u0000\u0000\u0000\u0000\u0000\u0000\u0000\u0000\u0000\u0000\u0000\u0000\u0000\u0000\u0000\u0000\u0000\u0000\u0000\u0000\u0000\u0000\u0000\u0000\u0000\u0000\u0000\u0000\u0000\u0000\u0000\u0000\u0000\u0000\u0000\u0000\u0000\u0000\u0000\u0000\u0000\u0000\u0000\u0000\u0000\u0000\u0000\u0000\u0000\u0000\u0000\u0000\u0000\u0000\u0000\u0000\u0000\u0000\u0000\u0000\u0000\u0000\u0000\u0000\u0000\u0000\u0000\u0000\u0000\u0000\u0000\u0000\u0000\u0000\u0000\u0000\u0000\u0000\u0000\u0000\u0000\u0000\u0000\u0000\u0000\u0000\u0000\u0000\u0000\u0000\u0000\u0000\u0000\u0000\u0000\u0000\u0000\u0000\u0000\u0000\u0000\u0000\u0000\u0000\u0000\u0000\u0000\u0000\u0000\u0000\u0000\u0000\u0000\u0000\u0000\u0000\u0000\u0000\u0000\u0000\u0000\u0000\u0000\u0000\u0000\u0000\u0000\u0000\u0000\u0000\u0000\u0000\u0000\u0000\u0000\u0000\u0000\u0000\u0000\u0000\u0000\u0000\u0000\u0000\u0000\u0000\u0000\u0000\u0000\u0000\u0000\u0000\u0000\u0000\u0000\u0000\u0000\u0000\u0000\u0000\u0000\u0000\u0000\u0000\u0000\u0000\u0000\u0000\u0000\u0000\u0000\u0000\u0000\u0000\u0000\u0000\u0000\u0000\u0000\u0000\u0000\u0000\u0000\u0000\u0000\u0000\u0000\u0000\u0000\u0000\u0000\u0000\u0000\u0000\u0000\u0000\u0000\u0000\u0000\u0000\u0000\u0000\u0000\u0000\u0000\u0000\u0000\u0000\u0000\u0000\u0000\u0000\u0000\u0000\u0000\u0000\u0000\u0000\u0000\u0000\u0000\u0000\u0000\u0000\u0000\u0000\u0000\u0000\u0000\u0000\u0000\u0000\u0000\u0000\u0000\u0000\u0000\u0000\u0000\u0000\u0000\u0000\u0000\u0000\u0000\u0000\u0000\u0000\u0000\u0000\u0000\u0000\u0000\u0000\u0000\u0000\u0000\u0000\u0000\u0000\u0000\u0000\u0000\u0000\u0000\u0000\u0000\u0000\u0000\u0000\u0000\u0000\u0000\u0000\u0000\u0000\u0000\u0000\u0000\u0000\u0000\u0000\u0000\u0000\u0000\u0000\u0000\u0000\u0000\u0000\u0000\u0000\u0000\u0000\u0000\u0000\u0000\u0000\u0000\u0000\u0000\u0000\u0000\u0000\u0000\u0000\u0000\u0000\u0000\u0000\u0000\u0000\u0000\u0000\u0000\u0000\u0000\u0000\u0000\u0000\u0000\u0000\u0000\u0000\u0000\u0000\u0000\u0000\u0000\u0000\u0000\u0000\u0000\u0000\u0000\u0000\u0000\u0000\u0000\u0000\u0000\u0000\u0000\u0000\u0000\u0000\u0000\u0000\u0000\u0000\u0000\u0000\u0000\u0000\u0000\u0000\u0000\u0000\u0000\u0000\u0000\u0000\u0000\u0000\u0000\u0000\u0000\u0000\u0000\u0000\u0000\u0000\u0000\u0000\u0000\u0000\u0000\u0000\u0000\u0000\u0000\u0000\u0000\u0000\u0000\u0000\u0000\u0000\u0000\u0000\u0000\u0000\u0000\u0000\u0000\u0000\u0000\u0000\u0000\u0000\u0000\u0000\u0000\u0000\u0000\u0000\u0000\u0000\u0000\u0000\u0000\u0000\u0000\u0000\u0000\u0000\u0000\u0000\u0000\u0000\u0000\u0000\u0000\u0000\u0000\u0000\u0000\u0000\u0000\u0000\u0000\u0000\u0000\u0000\u0000\u0000\u0000\u0000\u0000\u0000\u0000\u0000\u0000\u0000\u0000\u0000\u0000\u0000\u0000\u0000\u0000\u0000\u0000\u0000\u0000\u0000\u0000\u0000\u0000\u0000\u0000\u0000\u0000\u0000\u0000\u0000\u0000\u0000\u0000\u0000\u0000\u0000\u0000\u0000\u0000\u0000\u0000\u0000\u0000\u0000\u0000\u0000\u0000\u0000\u0000\u0000\u0000\u0000\u0000\u0000\u0000\u0000\u0000\u0000\u0000\u0000\u0000\u0000\u0000\u0000\u0000\u0000\u0000\u0000\u0000\u0000\u0000\u0000\u0000\u0000\u0000\u0000\u0000\u0000\u0000\u0000\u0000\u0000\u0000\u0000\u0000\u0000\u0000\u0000\u0000\u0000\u0000\u0000\u0000\u0000\u0000\u0000\u0000\u0000\u0000\u0000\u0000\u0000\u0000\u0000\u0000\u0000\u0000\u0000\u0000\u0000\u0000\u0000\u0000\u0000\u0000\u0000\u0000\u0000\u0000\u0000\u0000\u0000\u0000\u0000\u0000\u0000\u0000\u0000\u0000\u0000\u0000\u0000\u0000\u0000\u0000\u0000\u0000\u0000\u0000\u0000\u0000\u0000\u0000\u0000\u0000\u0000\u0000\u0000\u0000\u0000\u0000\u0000\u0000\u0000\u0000\u0000\u0000\u0000\u0000\u0000\u0000\u0000\u0000\u0000\u0000\u0000\u0000\u0000\u0000\u0000\u0000\u0000\u0000\u0000\u0000\u0000\u0000\u0000\u0000\u0000\u0000\u0000\u0000\u0000\u0000\u0000\u0000\u0000\u0000\u0000\u0000\u0000\u0000\u0000\u0000\u0000\u0000\u0000\u0000\u0000\u0000\u0000\u0000\u0000\u0000\u0000\u0000\u0000\u0000\u0000\u0000\u0000\u0000\u0000\u0000\u0000\u0000\u0000\u0000\u0000\u0000\u0000\u0000\u0000\u0000\u0000\u0000\u0000\u0000\u0000\u0000\u0000\u0000\u0000\u0000\u0000\u0000\u0000\u0000\u0000\u0000\u0000\u0000\u0000\u0000\u0000\u0000\u0000\u0000\u0000\u0000\u0000\u0000\u0000\u0000\u0000\u0000\u0000\u0000\u0000\u0000\u0000\u0000\u0000\u0000\u0000\u0000\u0000\u0000\u0000\u0000\u0000\u0000\u0000\u0000\u0000\u0000\u0000\u0000\u0000\u0000\u0000\u0000\u0000\u0000\u0000\u0000\u0000\u0000\u0000\u0000\u0000\u0000\u0000\u0000\u0000\u0000\u0000\u0000\u0000\u0000\u0000\u0000\u0000\u0000\u0000\u0000\u0000\u0000\u0000\u0000\u0000\u0000\u0000\u0000\u0000\u0000\u0000\u0000\u0000\u0000\u0000\u0000\u0000\u0000\u0000\u0000\u0000\u0000\u0000\u0000\u0000\u0000\u0000\u0000\u0000\u0000\u0000\u0000\u0000\u0000\u0000\u0000\u0000\u0000\u0000\u0000\u0000\u0000\u0000\u0000\u0000\u0000\u0000\u0000\u0000\u0000\u0000\u0000\u0000\u0000\u0000\u0000\u0000\u0000\u0000\u0000\u0000\u0000\u0000\u0000\u0000\u0000\u0000\u0000\u0000\u0000\u0000\u0000\u0000\u0000\u0000\u0000\u0000\u0000\u0000\u0000\u0000\u0000\u0000\u0000\u0000\u0000\u0000\u0000\u0000\u0000\u0000\u0000\u0000\u0000\u0000\u0000\u0000\u0000\u0000\u0000\u0000\u0000\u0000\u0000\u0000\u0000\u0000\u0000\u0000\u0000\u0000\u0000\u0000\u0000\u0000\u0000\u0000\u0000\u0000\u0000\u0000\u0000\u0000\u0000\u0000\u0000\u0000\u0000\u0000\u0000\u0000\u0000\u0000\u0000\u0000\u0000\u0000\u0000\u0000\u0000\u0000\u0000\u0000\u0000\u0000\u0000\u0000\u0000\u0000\u0000\u0000\u0000\u0000\u0000\u0000\u0000\u0000\u0000\u0000\u0000\u0000\u0000\u0000\u0000\u0000\u0000\u0000\u0000\u0000\u0000\u0000\u0000\u0000\u0000\u0000\u0000\u0000\u0000\u0000\u0000\u0000\u0000\u0000\u0000\u0000\u0000\u0000\u0000\u0000\u0000\u0000\u0000\u0000\u0000\u0000\u0000\u0000\u0000\u0000\u0000\u0000\u0000\u0000\u0000\u0000\u0000\u0000\u0000\u0000\u0000\u0000\u0000\u0000\u0000\u0000\u0000\u0000\u0000\u0000\u0000\u0000\u0000\u0000\u0000\u0000\u0000\u0000\u0000\u0000\u0000\u0000\u0000\u0000\u0000\u0000\u0000\u0000\u0000\u0000\u0000\u0000\u0000\u0000\u0000\u0000\u0000\u0000\u0000\u0000\u0000\u0000\u0000\u0000\u0000\u0000\u0000\u0000\u0000\u0000\u0000\u0000\u0000\u0000\u0000\u0000\u0000\u0000\u0000\u0000\u0000\u0000\u0000\u0000\u0000\u0000\u0000\u0000\u0000\u0000\u0000\u0000\u0000\u0000\u0000\u0000\u0000\u0000\u0000\u0000\u0000\u0000\u0000\u0000\u0000\u0000\u0000\u0000\u0000\u0000\u0000\u0000\u0000\u0000\u0000\u0000\u0000\u0000\u0000\u0000\u0000\u0000\u0000\u0000\u0000\u0000\u0000\u0000\u0000\u0000\u0000\u0000\u0000\u0000\u0000\u0000\u0000\u0000\u0000\u0000\u0000\u0000\u0000\u0000\u0000\u0000\u0000\u0000\u0000\u0000\u0000\u0000\u0000\u0000\u0000\u0000\u0000\u0000\u0000\u0000\u0000\u0000\u0000\u0000\u0000\u0000\u0000\u0000\u0000\u0000\u0000\u0000\u0000\u0000\u0000\u0000\u0000\u0000\u0000\u0000\u0000\u0000\u0000\u0000\u0000\u0000\u0000\u0000\u0000\u0000\u0000\u0000[2022-02-28 12:08:27] - pyatoa - INFO: \r\n",
      "================================================================================\r\n",
      "\r\n",
      "NZ.BFZ.*.*\r\n",
      "\r\n",
      "================================================================================\r\n",
      "[2022-02-28 12:08:27] - pyatoa - DEBUG: gathering event\r\n",
      "[2022-02-28 12:08:27] - pyatoa - INFO: searching ASDFDataSet for event info\r\n",
      "[2022-02-28 12:08:28] - pyatoa - DEBUG: matching event found: 2018p130600\r\n",
      "[2022-02-28 12:08:28] - pyatoa - INFO: gathering data for NZ.BFZ.*.*\r\n",
      "[2022-02-28 12:08:28] - pyatoa - INFO: gathering observed waveforms\r\n",
      "[2022-02-28 12:08:28] - pyatoa - INFO: searching ASDFDataSet for observations\r\n",
      "[2022-02-28 12:08:28] - pyatoa - INFO: matching observed waveforms found\r\n",
      "[2022-02-28 12:08:28] - pyatoa - INFO: gathering StationXML\r\n",
      "[2022-02-28 12:08:28] - pyatoa - INFO: searching ASDFDataSet for station info\r\n",
      "[2022-02-28 12:08:28] - pyatoa - INFO: matching StationXML found\r\n",
      "[2022-02-28 12:08:28] - pyatoa - INFO: saved to ASDFDataSet\r\n",
      "[2022-02-28 12:08:28] - pyatoa - INFO: gathering synthetic waveforms\r\n",
      "[2022-02-28 12:08:28] - pyatoa - INFO: searching ASDFDataSet for synthetics\r\n",
      "[2022-02-28 12:08:28] - pyatoa - INFO: searching local filesystem for synthetics\r\n",
      "[2022-02-28 12:08:28] - pyatoa - DEBUG: searching for synthetics: /home/bchow/REPOSITORIES/pyatoa/pyatoa/tests/test_data/docs_data/pyaflowa_doc/synthetics/2018p130600/{net}.{sta}.*{cmp}.sem{dva}\r\n",
      "[2022-02-28 12:08:28] - pyatoa - INFO: retrieved synthetics locally:\r\n",
      "/home/bchow/REPOSITORIES/pyatoa/pyatoa/tests/test_data/docs_data/pyaflowa_doc/synthetics/2018p130600/NZ.BFZ.BXE.semd\r\n",
      "[2022-02-28 12:08:28] - pyatoa - INFO: retrieved synthetics locally:\r\n",
      "/home/bchow/REPOSITORIES/pyatoa/pyatoa/tests/test_data/docs_data/pyaflowa_doc/synthetics/2018p130600/NZ.BFZ.BXN.semd\r\n",
      "[2022-02-28 12:08:28] - pyatoa - INFO: retrieved synthetics locally:\r\n",
      "/home/bchow/REPOSITORIES/pyatoa/pyatoa/tests/test_data/docs_data/pyaflowa_doc/synthetics/2018p130600/NZ.BFZ.BXZ.semd\r\n",
      "[2022-02-28 12:08:28] - pyatoa - INFO: matching synthetic waveforms found\r\n",
      "[2022-02-28 12:08:28] - pyatoa - INFO: saved to ASDFDataSet with tag 'synthetic_i01s00'\r\n",
      "[2022-02-28 12:08:28] - pyatoa - INFO: standardizing streams\r\n",
      "[2022-02-28 12:08:28] - pyatoa - DEBUG: zero pad NZ.BFZ.10.HHE (0, 0) samples\r\n",
      "[2022-02-28 12:08:28] - pyatoa - DEBUG: new starttime NZ.BFZ.10.HHE: 2018-02-18T07:43:28.127644Z\r\n",
      "[2022-02-28 12:08:28] - pyatoa - DEBUG: zero pad NZ.BFZ.10.HHN (0, 0) samples\r\n",
      "[2022-02-28 12:08:28] - pyatoa - DEBUG: new starttime NZ.BFZ.10.HHN: 2018-02-18T07:43:28.127644Z\r\n",
      "[2022-02-28 12:08:28] - pyatoa - DEBUG: zero pad NZ.BFZ.10.HHZ (0, 0) samples\r\n",
      "[2022-02-28 12:08:28] - pyatoa - DEBUG: new starttime NZ.BFZ.10.HHZ: 2018-02-18T07:43:28.127644Z\r\n",
      "[2022-02-28 12:08:28] - pyatoa - DEBUG: time offset is -20.0s\r\n",
      "[2022-02-28 12:08:28] - pyatoa - INFO: preprocessing observation data\r\n",
      "[2022-02-28 12:08:28] - pyatoa - INFO: adjusting taper to cover time offset -20.0\r\n",
      "[2022-02-28 12:08:28] - pyatoa - DEBUG: removing response, units to DISP\r\n",
      "[2022-02-28 12:08:28] - pyatoa - DEBUG: rotating from generic coordinate system to ZNE\r\n",
      "[2022-02-28 12:08:28] - pyatoa - DEBUG: bandpass filter: 10.0 - 30.0s w/ 2.0 corners\r\n",
      "[2022-02-28 12:08:28] - pyatoa - INFO: preprocessing synthetic data\r\n",
      "[2022-02-28 12:08:28] - pyatoa - INFO: adjusting taper to cover time offset -20.0\r\n",
      "[2022-02-28 12:08:28] - pyatoa - DEBUG: no response removal, synthetic data or requested not to\r\n",
      "[2022-02-28 12:08:28] - pyatoa - DEBUG: bandpass filter: 10.0 - 30.0s w/ 2.0 corners\r\n",
      "[2022-02-28 12:08:28] - pyatoa - DEBUG: convolving data w/ Gaussian (t/2=0.70s)\r\n",
      "[2022-02-28 12:08:28] - pyatoa - INFO: running Pyflex w/ map: nznorth_10-30s\r\n",
      "[2022-02-28 12:08:28] - pyflex - INFO: Calculated travel times.\r\n",
      "[2022-02-28 12:08:28] - pyflex - INFO: Calculating envelope of synthetics.\r\n",
      "[2022-02-28 12:08:28] - pyflex - INFO: Calculating STA/LTA.\r\n",
      "[2022-02-28 12:08:28] - pyflex - INFO: Initial window selection yielded 4 possible windows.\r\n",
      "[2022-02-28 12:08:28] - pyflex - INFO: Rejection based on travel times retained 4 windows.\r\n",
      "[2022-02-28 12:08:28] - pyflex - INFO: Global SNR checks passed. Integrated SNR: 1491736118526.783203, Amplitude SNR: 3674599.839129\r\n",
      "[2022-02-28 12:08:28] - pyflex - INFO: Rejection based on minimum window length retained 4 windows.\r\n",
      "[2022-02-28 12:08:28] - pyflex - INFO: Water level rejection retained 2 windows\r\n",
      "[2022-02-28 12:08:28] - pyflex - INFO: Single phase group rejection retained 2 windows\r\n",
      "[2022-02-28 12:08:28] - pyflex - INFO: Removing duplicates retains 2 windows.\r\n",
      "[2022-02-28 12:08:28] - pyflex - INFO: Rejection based on minimum window length retained 2 windows.\r\n",
      "[2022-02-28 12:08:28] - pyflex - INFO: SN amplitude ratio window rejection retained 2 windows\r\n",
      "[2022-02-28 12:08:28] - pyflex - INFO: Rejection based on data fit criteria retained 2 windows.\r\n",
      "[2022-02-28 12:08:28] - pyflex - INFO: Weighted interval schedule optimization retained 1 windows.\r\n",
      "[2022-02-28 12:08:28] - pyatoa - INFO: 1 window(s) selected for comp E\r\n",
      "[2022-02-28 12:08:28] - pyflex - INFO: Calculated travel times.\r\n",
      "[2022-02-28 12:08:28] - pyflex - INFO: Calculating envelope of synthetics.\r\n",
      "[2022-02-28 12:08:28] - pyflex - INFO: Calculating STA/LTA.\r\n",
      "[2022-02-28 12:08:28] - pyflex - INFO: Initial window selection yielded 10 possible windows.\r\n",
      "[2022-02-28 12:08:28] - pyflex - INFO: Rejection based on travel times retained 10 windows.\r\n",
      "[2022-02-28 12:08:28] - pyflex - INFO: Global SNR checks passed. Integrated SNR: 430243312571.527222, Amplitude SNR: 2193818.774050\r\n",
      "[2022-02-28 12:08:28] - pyflex - INFO: Rejection based on minimum window length retained 9 windows.\r\n",
      "[2022-02-28 12:08:28] - pyflex - INFO: Water level rejection retained 3 windows\r\n",
      "[2022-02-28 12:08:28] - pyflex - INFO: Single phase group rejection retained 3 windows\r\n",
      "[2022-02-28 12:08:28] - pyflex - INFO: Removing duplicates retains 2 windows.\r\n",
      "[2022-02-28 12:08:28] - pyflex - INFO: Rejection based on minimum window length retained 2 windows.\r\n",
      "[2022-02-28 12:08:28] - pyflex - INFO: SN amplitude ratio window rejection retained 2 windows\r\n",
      "[2022-02-28 12:08:28] - pyflex - INFO: Rejection based on data fit criteria retained 2 windows.\r\n",
      "[2022-02-28 12:08:28] - pyflex - INFO: Weighted interval schedule optimization retained 1 windows.\r\n",
      "[2022-02-28 12:08:28] - pyatoa - INFO: 1 window(s) selected for comp N\r\n",
      "[2022-02-28 12:08:28] - pyflex - INFO: Calculated travel times.\r\n",
      "[2022-02-28 12:08:28] - pyflex - INFO: Calculating envelope of synthetics.\r\n",
      "[2022-02-28 12:08:28] - pyflex - INFO: Calculating STA/LTA.\r\n",
      "[2022-02-28 12:08:28] - pyflex - INFO: Initial window selection yielded 7 possible windows.\r\n",
      "[2022-02-28 12:08:28] - pyflex - INFO: Rejection based on travel times retained 7 windows.\r\n",
      "[2022-02-28 12:08:28] - pyflex - INFO: Global SNR checks passed. Integrated SNR: 12404329094867.441406, Amplitude SNR: 11416222.804038\r\n",
      "[2022-02-28 12:08:28] - pyflex - INFO: Rejection based on minimum window length retained 6 windows.\r\n",
      "[2022-02-28 12:08:28] - pyflex - INFO: Water level rejection retained 3 windows\r\n",
      "[2022-02-28 12:08:28] - pyflex - INFO: Single phase group rejection retained 3 windows\r\n",
      "[2022-02-28 12:08:28] - pyflex - INFO: Removing duplicates retains 2 windows.\r\n",
      "[2022-02-28 12:08:28] - pyflex - INFO: Rejection based on minimum window length retained 2 windows.\r\n",
      "[2022-02-28 12:08:28] - pyflex - INFO: SN amplitude ratio window rejection retained 2 windows\r\n",
      "[2022-02-28 12:08:28] - pyflex - INFO: Rejection based on data fit criteria retained 2 windows.\r\n",
      "[2022-02-28 12:08:28] - pyflex - INFO: Weighted interval schedule optimization retained 1 windows.\r\n",
      "[2022-02-28 12:08:28] - pyatoa - INFO: 1 window(s) selected for comp Z\r\n",
      "[2022-02-28 12:08:28] - pyatoa - DEBUG: saving misfit windows to ASDFDataSet\r\n",
      "[2022-02-28 12:08:28] - pyatoa - INFO: 3 window(s) total found\r\n",
      "[2022-02-28 12:08:28] - pyatoa - DEBUG: running Pyadjoint w/ type: cc_traveltime_misfit\r\n",
      "[2022-02-28 12:08:28] - pyatoa - INFO: 0.365 misfit for comp E\r\n",
      "[2022-02-28 12:08:28] - pyatoa - INFO: 1.620 misfit for comp N\r\n",
      "[2022-02-28 12:08:28] - pyatoa - INFO: 3.251 misfit for comp Z\r\n",
      "[2022-02-28 12:08:28] - pyatoa - DEBUG: saving adjoint sources to ASDFDataSet\r\n",
      "[2022-02-28 12:08:29] - pyatoa - INFO: total misfit 5.237\r\n",
      "[2022-02-28 12:08:29] - pyatoa - INFO: \r\n",
      "\r\n",
      "\tOBS WAVS:  3\r\n",
      "\tSYN WAVS:  3\r\n",
      "\tWINDOWS:   3\r\n",
      "\tMISFIT:    5.24\r\n",
      "\r\n",
      "[2022-02-28 12:08:29] - pyatoa - INFO: saving figure to: /home/bchow/REPOSITORIES/pyatoa/pyatoa/tests/test_data/docs_data/pyaflowa_doc/figures/2018p130600/i01_s00_NZ_BFZ.pdf\r\n",
      "[2022-02-28 12:08:29] - pyatoa - INFO: \r\n",
      "================================================================================\r\n",
      "\r\n",
      "FINALIZE\r\n",
      "\r\n",
      "================================================================================\r\n",
      "[2022-02-28 12:08:29] - pyatoa - INFO: creating single .pdf file of all output figures\r\n",
      "[2022-02-28 12:08:29] - pyatoa - INFO: generating STATIONS_ADJOINT file for SPECFEM\r\n",
      "[2022-02-28 12:08:29] - pyatoa - INFO: \r\n",
      "================================================================================\r\n",
      "\r\n",
      "SUMMARY\r\n",
      "\r\n",
      "================================================================================\r\n",
      "SOURCE NAME: 2018p130600\r\n",
      "STATIONS: 1 / 1\r\n",
      "WINDOWS: 3\r\n",
      "RAW MISFIT: 5.24\r\n",
      "UNEXPECTED ERRORS: 0\r\n",
      "===================\r\n",
      "\r\n",
      "SUMMARY\r\n",
      "\r\n",
      "================================================================================\r\n",
      "SOURCE NAME: 2018p130600\r\n",
      "STATIONS: 1 / 1\r\n",
      "WINDOWS: 3\r\n",
      "RAW MISFIT: 5.24\r\n",
      "UNEXPECTED ERRORS: 0\r\n",
      "===================\r\n",
      "\r\n",
      "SUMMARY\r\n",
      "\r\n",
      "================================================================================\r\n",
      "SOURCE NAME: 2018p130600\r\n",
      "STATIONS: 1 / 1\r\n",
      "WINDOWS: 3\r\n",
      "RAW MISFIT: 5.24\r\n",
      "UNEXPECTED ERRORS: 0\r\n"
     ]
    }
   ],
   "source": [
    "!cat logs/i01s00_2018p130600.log"
   ]
  },
  {
   "cell_type": "markdown",
   "id": "ed128633",
   "metadata": {},
   "source": [
    "### Multi-processing with Pyaflowa\n",
    "\n",
    "Pyaflowa allows for multi-processing using Python's concurrent.futures. This means that multiple events can be processed in parallel, potentially allowing for large speed up when running waveform processing. We'll include another event [2012p242656](https://www.geonet.org.nz/earthquake/2012p242656), in our work directory and show how simple it is to use this functionality."
   ]
  },
  {
   "cell_type": "code",
   "execution_count": 25,
   "id": "40328143",
   "metadata": {
    "execution": {
     "iopub.execute_input": "2022-02-28T19:30:24.417836Z",
     "iopub.status.busy": "2022-02-28T19:30:24.415376Z",
     "iopub.status.idle": "2022-02-28T19:30:24.523966Z",
     "shell.execute_reply": "2022-02-28T19:30:24.524155Z"
    }
   },
   "outputs": [
    {
     "name": "stdout",
     "output_type": "stream",
     "text": [
      "ls: cannot access '/Users/Chow/Desktop/pyaflowa_example/synthetics/2012p242656': No such file or directory\r\n"
     ]
    }
   ],
   "source": [
    "!ls \"/Users/Chow/Desktop/pyaflowa_example/synthetics/2012p242656\""
   ]
  },
  {
   "cell_type": "code",
   "execution_count": 26,
   "id": "fc35c2f4",
   "metadata": {
    "execution": {
     "iopub.execute_input": "2022-02-28T19:30:24.527019Z",
     "iopub.status.busy": "2022-02-28T19:30:24.526771Z",
     "iopub.status.idle": "2022-02-28T19:30:24.528351Z",
     "shell.execute_reply": "2022-02-28T19:30:24.528119Z"
    }
   },
   "outputs": [
    {
     "data": {
      "text/plain": [
       "cwd          : '/Users/Chow/Desktop/pyaflowa_example/workdir'\n",
       "data         : '/Users/Chow/Desktop/pyaflowa_example/workdir/input/DATA'\n",
       "datasets     : '/Users/Chow/Desktop/pyaflowa_example/workdir/datasets'\n",
       "figures      : '/Users/Chow/Desktop/pyaflowa_example/workdir/figures'\n",
       "logs         : '/Users/Chow/Desktop/pyaflowa_example/workdir/logs'\n",
       "ds_file      : '/Users/Chow/Desktop/pyaflowa_example/workdir/datasets/{source_name}.h5'\n",
       "stations_file: '/Users/Chow/Desktop/pyaflowa_example/STATIONS'\n",
       "responses    : '/Users/Chow/Desktop/pyaflowa_example/workdir/input/responses'\n",
       "waveforms    : '/Users/Chow/Desktop/pyaflowa_example/workdir/input/waveforms'\n",
       "synthetics   : '/Users/Chow/Desktop/pyaflowa_example/synthetics/{source_name}'\n",
       "adjsrcs      : '/Users/Chow/Desktop/pyaflowa_example/workdir/adjsrcs/{source_name}'\n",
       "event_figures: '/Users/Chow/Desktop/pyaflowa_example/workdir/figures/{source_name}'"
      ]
     },
     "execution_count": 26,
     "metadata": {},
     "output_type": "execute_result"
    }
   ],
   "source": [
    "# Here we initiate almost the same key word arguments, however we add a formatting statement in the synthetics\n",
    "# kwarg so that Pyaflowa knows which directory to search when looking for synthetics.\n",
    "# Here the STATION FILE is the same\n",
    "kwargs = {\"workdir\": \"/Users/Chow/Desktop/pyaflowa_example/workdir\",\n",
    "          \"synthetics\": \"/Users/Chow/Desktop/pyaflowa_example/synthetics/{source_name}\",\n",
    "          \"stations_file\": \"/Users/Chow/Desktop/pyaflowa_example/STATIONS\"\n",
    "         }\n",
    "\n",
    "pf = Pyaflowa(structure=\"standalone\", config=cfg, **kwargs)\n",
    "pf.path_structure"
   ]
  },
  {
   "cell_type": "code",
   "execution_count": 27,
   "id": "74a1b290",
   "metadata": {
    "execution": {
     "iopub.execute_input": "2022-02-28T19:30:24.530080Z",
     "iopub.status.busy": "2022-02-28T19:30:24.529849Z",
     "iopub.status.idle": "2022-02-28T19:30:24.535886Z",
     "shell.execute_reply": "2022-02-28T19:30:24.535680Z"
    }
   },
   "outputs": [
    {
     "ename": "AttributeError",
     "evalue": "'Pyaflowa' object has no attribute 'run'",
     "output_type": "error",
     "traceback": [
      "\u001b[0;31m---------------------------------------------------------------------------\u001b[0m",
      "\u001b[0;31mAttributeError\u001b[0m                            Traceback (most recent call last)",
      "\u001b[0;32m/tmp/ipykernel_29654/2473450681.py\u001b[0m in \u001b[0;36m<module>\u001b[0;34m\u001b[0m\n\u001b[1;32m      1\u001b[0m \u001b[0;31m# Now, all we need to do to invoke multiprocessing is input a list of source names to the run function\u001b[0m\u001b[0;34m\u001b[0m\u001b[0;34m\u001b[0m\u001b[0;34m\u001b[0m\u001b[0m\n\u001b[0;32m----> 2\u001b[0;31m \u001b[0mpf\u001b[0m\u001b[0;34m.\u001b[0m\u001b[0mrun\u001b[0m\u001b[0;34m(\u001b[0m\u001b[0msource_names\u001b[0m\u001b[0;34m=\u001b[0m\u001b[0;34m[\u001b[0m\u001b[0;34m\"2018p130600\"\u001b[0m\u001b[0;34m,\u001b[0m \u001b[0;34m\"2012p242656\"\u001b[0m\u001b[0;34m]\u001b[0m\u001b[0;34m)\u001b[0m\u001b[0;34m\u001b[0m\u001b[0;34m\u001b[0m\u001b[0m\n\u001b[0m",
      "\u001b[0;31mAttributeError\u001b[0m: 'Pyaflowa' object has no attribute 'run'"
     ]
    }
   ],
   "source": [
    "# Now, all we need to do to invoke multiprocessing is input a list of source names to the run function\n",
    "pf.run(source_names=[\"2018p130600\", \"2012p242656\"])"
   ]
  },
  {
   "cell_type": "markdown",
   "id": "d2ee7925",
   "metadata": {},
   "source": [
    "Unfortunately I don't think it's possible to run parallel tasks in a Jupyter notebook and I'm not prepared to put in the effort to figure out how to do this, so I hope you can take my word for it that this simply executes two parallel processing steps using the concurrent.futures multiprocessing machinery. neat!\n",
    "___"
   ]
  },
  {
   "cell_type": "markdown",
   "id": "a5ac25bc",
   "metadata": {},
   "source": [
    "## Pyaflowa + SeisFlows3\n",
    "\n",
    "Coming soon to a docs page near you."
   ]
  },
  {
   "cell_type": "code",
   "execution_count": null,
   "id": "05f02943",
   "metadata": {},
   "outputs": [],
   "source": []
  }
 ],
 "metadata": {
  "kernelspec": {
   "display_name": "Python 3 (ipykernel)",
   "language": "python",
   "name": "python3"
  },
  "language_info": {
   "codemirror_mode": {
    "name": "ipython",
    "version": 3
   },
   "file_extension": ".py",
   "mimetype": "text/x-python",
   "name": "python",
   "nbconvert_exporter": "python",
   "pygments_lexer": "ipython3",
   "version": "3.7.12"
  }
 },
 "nbformat": 4,
 "nbformat_minor": 5
}
