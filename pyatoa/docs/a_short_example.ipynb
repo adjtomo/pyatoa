{
 "metadata": {
  "kernelspec": {
   "display_name": "Python 3",
   "language": "python",
   "name": "python3"
  },
  "language_info": {
   "codemirror_mode": {
    "name": "ipython",
    "version": 3
   },
   "file_extension": ".py",
   "mimetype": "text/x-python",
   "name": "python",
   "nbconvert_exporter": "python",
   "pygments_lexer": "ipython3",
   "version": "3.7.6"
  },
  "name": ""
 },
 "nbformat": 3,
 "nbformat_minor": 0,
 "worksheets": [
  {
   "cells": [
    {
     "cell_type": "markdown",
     "metadata": {},
     "source": [
      "# A short example\n",
      "\n",
      "`Pyatoa` provides functionality to address misfit quantification within a seismic tomography workflow. Operations include: seismic data gathering, waveform time-windowing, adjoint source creation, data storage, and measurement aggregation. In this Quickstart page, we demonstrate the capabilities of `Pyatoa` by collecting and processing seismic data. For more in-depth descriptions and tutorials, see the other pages in this documentation page, as well as the Pyatoa API.\n",
      "\n",
      "### A New Zealand example\n",
      "To illustrate functionality, we need to use a real earthquake and its recorded seismic waveforms. For the purposes of this tutorial, we'll be using the [M6.2 Eketahuna earthquake](https://www.geonet.org.nz/earthquake/story/2014p051675) that occurred in New Zealand in 2014. For this event, seismic waveform data was collected by the broadband seismic network of New Zealand [(GeoNet)](https://www.geonet.org.nz/data/network/sensor/search). We begin with imports of some of Pyatoa's core classes, and set the logging to be verbose using the DEBUG option."
     ]
    },
    {
     "cell_type": "code",
     "collapsed": false,
     "input": [
      "from pyasdf import ASDFDataSet\n",
      "from pyatoa import logger, Config, Manager, Inspector\n",
      "logger.setLevel(\"DEBUG\")"
     ],
     "language": "python",
     "metadata": {},
     "outputs": [],
     "prompt_number": null
    },
    {
     "cell_type": "markdown",
     "metadata": {},
     "source": [
      "The `ASDFDataSet` is used for storage of seismic data. It is preferable to name the dataset after a unique event identifier."
     ]
    },
    {
     "cell_type": "code",
     "collapsed": false,
     "input": [
      "event_id = \"2018p130600\"  # this is the unique GeoNet ID for the Eketahuna event\n",
      "dataset_fid = f\"../tests/test_data/{event_id}.h5\"  # it is preferable to name the dataset after the event id\n",
      "ds = ASDFDataSet(dataset_fid)"
     ],
     "language": "python",
     "metadata": {},
     "outputs": [],
     "prompt_number": null
    },
    {
     "cell_type": "markdown",
     "metadata": {},
     "source": [
      "The Pyatoa `Config` object contains parameters which control the misfit quantification workflow. Since `Pyatoa` was designed to be used within seismic inversion tools, `iteration` and `step_count` attributes are available to keep track of where in the inversion we are. Let's say this is the beginning of the inversion, so the first iteration and the zeroth step count.  \n",
      "\n",
      "We also choose some preset parameters for our preprocessing, time windowing and adjoint source generation algorithms."
     ]
    },
    {
     "cell_type": "code",
     "collapsed": false,
     "input": [
      "cfg = Config(iteration=1, step_count=0, \n",
      "             event_id=event_id,\n",
      "             client=\"GEONET\",\n",
      "             min_period=10, \n",
      "             max_period=30,\n",
      "             start_pad=20,\n",
      "             end_pad=200,\n",
      "             pyflex_preset=\"nznorth_10-30s\", \n",
      "             adj_src_type=\"cc_traveltime_misfit\",\n",
      "             )"
     ],
     "language": "python",
     "metadata": {},
     "outputs": [],
     "prompt_number": null
    },
    {
     "cell_type": "markdown",
     "metadata": {},
     "source": [
      "Finally, the `Manager` class is instantiated. The `Manager` is responsible for gathering, processing and storing data. It uses its `config` attribute to control the gathering and processing, and stores data to the `ASDFDataSet`."
     ]
    },
    {
     "cell_type": "code",
     "collapsed": false,
     "input": [
      "mgmt = Manager(config=cfg, ds=ds)"
     ],
     "language": "python",
     "metadata": {},
     "outputs": [],
     "prompt_number": null
    },
    {
     "cell_type": "markdown",
     "metadata": {},
     "source": [
      "### Gathering metadata and observed waveforms\n",
      "\n",
      "First we need event metadata for this earthquake. Since we are working in the New Zealand domain, a moment tensor will automatically be appended from the GeoNet moment tensor catalog. \n",
      "\n",
      "> **__NOTE:__** Moment tensors are only available from the GeoNet moment tensor catalog, and from the Global Centroid Moment Tensor catalog."
     ]
    },
    {
     "cell_type": "code",
     "collapsed": false,
     "input": [
      "mgmt.gather(choice=\"event\")"
     ],
     "language": "python",
     "metadata": {},
     "outputs": [],
     "prompt_number": null
    },
    {
     "cell_type": "code",
     "collapsed": false,
     "input": [
      "mgmt.event"
     ],
     "language": "python",
     "metadata": {},
     "outputs": [],
     "prompt_number": null
    },
    {
     "cell_type": "markdown",
     "metadata": {},
     "source": [
      "With event information, we can now gather observation waveforms and station metadata. We will choose the station [NZ.WEL](https://www.geonet.org.nz/data/network/sensor/WEL), located in Wellington, New Zealand. We can use wildcards in the channel code to gather all available components, which are N, E and Z. Under the hood, Pyatoa is calling the ObsPy FDSN webservice client."
     ]
    },
    {
     "cell_type": "code",
     "collapsed": false,
     "input": [
      "mgmt.gather(code=\"NZ.WEL.??.HH?\", choice=[\"inv\", \"st_obs\"])"
     ],
     "language": "python",
     "metadata": {},
     "outputs": [],
     "prompt_number": null
    },
    {
     "cell_type": "code",
     "collapsed": false,
     "input": [
      "mgmt.inv"
     ],
     "language": "python",
     "metadata": {},
     "outputs": [],
     "prompt_number": null
    },
    {
     "cell_type": "code",
     "collapsed": false,
     "input": [
      "# mgmt.st_obs = st_obs\n",
      "mgmt.st_obs"
     ],
     "language": "python",
     "metadata": {},
     "outputs": [],
     "prompt_number": null
    },
    {
     "cell_type": "markdown",
     "metadata": {},
     "source": [
      "### Creating synthetic waveforms\n",
      "\n",
      "Unfortunately we can't easily gather synthetic data (st_syn), as this needs to be generated using an external numerical solver. For the sake of this tutorial, we'll simply shift the phase and scale the amplitude of our observed data to create our \"synthetic\" data."
     ]
    },
    {
     "cell_type": "code",
     "collapsed": false,
     "input": [
      "def generate_synthetic_data(st, shift_sec=4, multiply_amp=0.8, \n",
      "                            tail_taper_pct=0.5):\n",
      "    \"\"\"\n",
      "    Generate synthetic data using observed data by shifting waveform\n",
      "    then padding zeros.\n",
      "    \n",
      "    :type shift_sec: float\n",
      "    :param shift_sec: the number of seconds to shift data by\n",
      "    \"\"\"\n",
      "    import numpy as np\n",
      "\n",
      "    st = st.copy()\n",
      "    \n",
      "    # First we need to remove instrument response because Pyatoa wont\n",
      "    # do that for synthetic traces\n",
      "    st.detrend(\"linear\").detrend(\"demean\").taper(0.05)\n",
      "    st.remove_response(inventory=mgmt.inv, output=\"DISP\")\n",
      "    \n",
      "    for tr in st:\n",
      "        # Time delay the waveform by a certain number of seconds\n",
      "        num_samples = int(tr.stats.sampling_rate * shift_sec)\n",
      "        tr.data = np.concatenate([np.zeros(num_samples), tr.data[:-num_samples]])\n",
      "        \n",
      "        # Multiply amplitudes by some percentage\n",
      "        tr.data *= multiply_amp\n",
      "        \n",
      "        # Taper ends to make data look more 'synthetic'\n",
      "        tr.taper(tail_taper_pct, side=\"both\")\n",
      "        \n",
      "        # Change the channel naming for clarity\n",
      "        cha = tr.stats.channel\n",
      "        tr.stats.channel = f\"{cha[0]}X{cha[2]}\"\n",
      "\n",
      "    return st\n",
      "\n",
      "mgmt.st_syn = generate_synthetic_data(mgmt.st_obs)"
     ],
     "language": "python",
     "metadata": {},
     "outputs": [],
     "prompt_number": null
    },
    {
     "cell_type": "markdown",
     "metadata": {},
     "source": [
      "Now we can standardize and preprocess our waveforms. Standardization involves matching the time series of the observation and synthetic waveforms. Preprocessing involves instrument response removal and frequency domain filtering."
     ]
    },
    {
     "cell_type": "code",
     "collapsed": false,
     "input": [
      "mgmt.standardize().preprocess()"
     ],
     "language": "python",
     "metadata": {},
     "outputs": [],
     "prompt_number": null
    },
    {
     "cell_type": "code",
     "collapsed": false,
     "input": [
      "mgmt.plot(choice=\"wav\")"
     ],
     "language": "python",
     "metadata": {},
     "outputs": [],
     "prompt_number": null
    },
    {
     "cell_type": "markdown",
     "metadata": {},
     "source": [
      "### Time windowing \n",
      "\n",
      "Great, now that we have similar looking waveforms, we can use `Pyflex` to generate time windows in which the two waveforms are in good agreement."
     ]
    },
    {
     "cell_type": "code",
     "collapsed": false,
     "input": [
      "mgmt.window()"
     ],
     "language": "python",
     "metadata": {},
     "outputs": [],
     "prompt_number": null
    },
    {
     "cell_type": "code",
     "collapsed": false,
     "input": [
      "mgmt.windows"
     ],
     "language": "python",
     "metadata": {},
     "outputs": [],
     "prompt_number": null
    },
    {
     "cell_type": "code",
     "collapsed": false,
     "input": [
      "mgmt.plot(choice=\"wav\")"
     ],
     "language": "python",
     "metadata": {},
     "outputs": [],
     "prompt_number": null
    },
    {
     "cell_type": "markdown",
     "metadata": {},
     "source": [
      "### Adjoint source creation\n",
      "Now we can use `Pyadjoint` to calculate the misfit and generate adjoint sources within each of these time windows."
     ]
    },
    {
     "cell_type": "code",
     "collapsed": false,
     "input": [
      "mgmt.measure()"
     ],
     "language": "python",
     "metadata": {},
     "outputs": [],
     "prompt_number": null
    },
    {
     "cell_type": "code",
     "collapsed": false,
     "input": [
      "mgmt.adjsrcs"
     ],
     "language": "python",
     "metadata": {},
     "outputs": [],
     "prompt_number": null
    },
    {
     "cell_type": "code",
     "collapsed": false,
     "input": [
      "mgmt.plot(choice=\"both\")"
     ],
     "language": "python",
     "metadata": {},
     "outputs": [],
     "prompt_number": null
    },
    {
     "cell_type": "markdown",
     "metadata": {},
     "source": [
      "### Stored data\n",
      "\n",
      "All the data that we have collected during this workflow is stored in the `ASDFDataSet`. We can access it by querying the data set itself, or by re-loading data using the `Manager` class. See the other tutorials for more information about these features."
     ]
    },
    {
     "cell_type": "code",
     "collapsed": false,
     "input": [
      "ds"
     ],
     "language": "python",
     "metadata": {},
     "outputs": [],
     "prompt_number": null
    },
    {
     "cell_type": "code",
     "collapsed": false,
     "input": [
      "ds.waveforms.NZ_WEL"
     ],
     "language": "python",
     "metadata": {},
     "outputs": [],
     "prompt_number": null
    },
    {
     "cell_type": "code",
     "collapsed": false,
     "input": [
      "ds.auxiliary_data.MisfitWindows.i01.s00"
     ],
     "language": "python",
     "metadata": {},
     "outputs": [],
     "prompt_number": null
    },
    {
     "cell_type": "code",
     "collapsed": false,
     "input": [
      "ds.auxiliary_data.AdjointSources.i01.s00"
     ],
     "language": "python",
     "metadata": {},
     "outputs": [],
     "prompt_number": null
    },
    {
     "cell_type": "markdown",
     "metadata": {},
     "source": [
      "Further capabilities for measurement aggregation are contained in the `Inspector` class, which has its own tutorial. Hopefully this initial quickstart has provided some introiduction to the capabilities of the `Pyatoa` package!"
     ]
    }
   ],
   "metadata": {}
  }
 ]
}