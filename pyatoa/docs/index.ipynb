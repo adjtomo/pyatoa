{
 "cells": [
  {
   "cell_type": "markdown",
   "metadata": {},
   "source": [
    "### Python's   \n",
    "## Adjoint Tomography Operations Assistant\n",
    "\n",
    "`Pyatoa` is a misfit quantification toolbox for the modern tomographer. It provides abstraction over key Python packages to facilitate data gathering, preprocessing, misfit analysis and visualization in a seismic tomography problem. The design of `Pyatoa` was inspired by `Obspy`, translating to a design ethos of rapid development, through scripting or shell interaction, and useful abstractions to accomplish tasks in tomography.\n",
    "\n",
    "The source code of `Pyatoa` can be found here: https://github.com/bch0w/pyatoa\n",
    "\n",
    "\n",
    "---\n",
    "\n",
    "`Pyatoa` is built around a handful of Python packages:\n",
    "\n",
    "\n",
    "[Obspy:](https://github.com/obspy/obspy/wiki) for seismic data fetching, handling, processing and organization.   \n",
    "[Pyflex:](https://krischer.github.io/pyflex/) a Python port of Flexwin, an automatic time window selection algorithm.   \n",
    "[Pyadjoint:](http://krischer.github.io/pyadjoint/) a package for calculating misfit and creating adjoint sources.   \n",
    "[PyASDF:](https://seismicdata.github.io/pyasdf/) heirarchical data storage for seismic data.  \n",
    "[Matplotlib:](https://matplotlib.org/) 2D plotting library for visualization of waveforms, statistics, misfit etc  \n",
    "[Basemap:](https://matplotlib.org/basemap/) A mapping library for source receiver distributions, raypaths, etc. (deprecated, Cartopy in the future).  \n",
    "\n",
    "\n",
    "---"
   ]
  },
  {
   "cell_type": "markdown",
   "metadata": {},
   "source": [
    "## Installation \n",
    "Pyatoa is still currently under development so a package manager install has not been implemented.  \n",
    "Install will have to be through the Github repository:\n",
    "```bash\n",
    "$ git clone https://github.com/bch0w/pyatoa.git\n",
    "$ cd pyatoa\n",
    "$ python setup.py install\n",
    "```\n",
    "\n",
    "---"
   ]
  },
  {
   "cell_type": "markdown",
   "metadata": {},
   "source": [
    ".. toctree::\n",
    "   :maxdepth: 2\n",
    "\n",
    "   tutorials"
   ]
  },
  {
   "cell_type": "code",
   "execution_count": null,
   "metadata": {},
   "outputs": [],
   "source": []
  }
 ],
 "metadata": {
  "kernelspec": {
   "display_name": "Python 3",
   "language": "python",
   "name": "python3"
  },
  "language_info": {
   "codemirror_mode": {
    "name": "ipython",
    "version": 3
   },
   "file_extension": ".py",
   "mimetype": "text/x-python",
   "name": "python",
   "nbconvert_exporter": "python",
   "pygments_lexer": "ipython3",
   "version": "3.7.3"
  }
 },
 "nbformat": 4,
 "nbformat_minor": 1
}
