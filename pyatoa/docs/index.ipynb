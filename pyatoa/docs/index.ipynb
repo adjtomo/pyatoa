{
 "metadata": {
  "kernelspec": {
   "display_name": "Python 3",
   "language": "python",
   "name": "python3"
  },
  "language_info": {
   "codemirror_mode": {
    "name": "ipython",
    "version": 3
   },
   "file_extension": ".py",
   "mimetype": "text/x-python",
   "name": "python",
   "nbconvert_exporter": "python",
   "pygments_lexer": "ipython3",
   "version": "3.7.3"
  },
  "name": ""
 },
 "nbformat": 3,
 "nbformat_minor": 0,
 "worksheets": [
  {
   "cells": [
    {
     "cell_type": "markdown",
     "metadata": {},
     "source": [
      "## PYATOA\n",
      "Python's Adjoint Tomography Operations Assistant\n",
      "\n",
      "---\n",
      "\n",
      "`Pyatoa` is a Python-based toolbox for misfit assessment in seismic tomography. `Pyatoa` was designed to facilitate automation within the adjoint tomography workflow by abstracting the following operations: data gathering, waveform standardization, preprocessing, time-windowing, misfit measurement, misfit assesment, and visualization. To accomplish this, `Pyatoa` is built ontop of the following Python packages.\n",
      "\n",
      "\n",
      "[Obspy:](https://github.com/obspy/obspy/wiki) to tackle seismic data handling and processing  \n",
      "[Pyflex:](https://krischer.github.io/pyflex/) for automatic time window selection of waveform data  \n",
      "[Pyadjoint:](http://krischer.github.io/pyadjoint/) to calculate waveform misfit and generate adjoint sources  \n",
      "[PyASDF:](https://seismicdata.github.io/pyasdf/) for efficient, hierarchical, self-describing storage of seismic data    \n",
      "[Pandas:](https://pandas.pydata.org/) to simplify data aggregation and misfit assessment\n",
      "\n",
      "\n",
      "---\n",
      "\n",
      "### Source code\n",
      "\n",
      "Can be found in the Github repository. The `devel` branch contains the latest changes and is normally quite ahead of the `master` branch.\n",
      "https://github.com/bch0w/pyatoa\n",
      "\n",
      "---\n",
      "\n",
      "### Installation \n",
      "Install is currently done through cloning the Github repository.   \n",
      "```bash\n",
      "$ git clone https://github.com/bch0w/pyatoa.git\n",
      "$ cd pyatoa\n",
      "$ python setup.py install\n",
      "```\n",
      "Package manager installation coming soon."
     ]
    },
    {
     "cell_type": "raw",
     "metadata": {},
     "source": [
      ".. toctree::\n",
      "   :maxdepth: 3\n",
      "   :hidden:\n",
      "\n",
      "   config.ipynb\n",
      "   manager.ipynb\n",
      "   gathering.ipynb\n",
      "   storage.ipynb\n",
      "   inspector.ipynb\n",
      "   logging.ipynb"
     ]
    },
    {
     "cell_type": "raw",
     "metadata": {},
     "source": []
    },
    {
     "cell_type": "code",
     "collapsed": false,
     "input": [],
     "language": "python",
     "metadata": {},
     "outputs": [],
     "prompt_number": null
    }
   ],
   "metadata": {}
  }
 ]
}