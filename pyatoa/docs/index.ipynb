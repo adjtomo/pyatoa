{
 "metadata": {
  "kernelspec": {
   "display_name": "Python 3",
   "language": "python",
   "name": "python3"
  },
  "language_info": {
   "codemirror_mode": {
    "name": "ipython",
    "version": 3
   },
   "file_extension": ".py",
   "mimetype": "text/x-python",
   "name": "python",
   "nbconvert_exporter": "python",
   "pygments_lexer": "ipython3",
   "version": "3.7.3"
  },
  "name": ""
 },
 "nbformat": 3,
 "nbformat_minor": 0,
 "worksheets": [
  {
   "cells": [
    {
     "cell_type": "markdown",
     "metadata": {},
     "source": [
      "## PYATOA\n",
      "\n",
      "`Pyatoa` is Python's Adjoint Tomography Operations Assistant, a Python-based toolbox for misfit assessment in seismic tomography. `Pyatoa` is built to tackle the adjoint tomography problem by addressing data gathering, waveform standardization and preprocessing, waveform time-windowing, misfit measurement, misfit assesment, and visualization. \n",
      "\n",
      "---\n",
      "\n",
      "The source code of can be found here: https://github.com/bch0w/pyatoa\n",
      "\n",
      "---\n",
      "\n",
      "`Pyatoa` is built ontop of the following Python packages:\n",
      "\n",
      "\n",
      "[Obspy:](https://github.com/obspy/obspy/wiki) for seismic data fetching, handling, processing and organization.   \n",
      "[Pyflex:](https://krischer.github.io/pyflex/) a Python port of Flexwin, an automatic time window selection algorithm.  \n",
      "[Pyadjoint:](http://krischer.github.io/pyadjoint/) a package for calculating misfit and creating adjoint sources.   \n",
      "[PyASDF:](https://seismicdata.github.io/pyasdf/) heirarchical data storage for seismic data.  \n",
      "[Pandas:](https://pandas.pydata.org/) data analysis and manipulation tool for misfit assessment.\n",
      "\n",
      "\n",
      "---"
     ]
    },
    {
     "cell_type": "markdown",
     "metadata": {},
     "source": [
      "## Installation \n",
      "Pyatoa is still currently under development so a package manager install has not been implemented.  \n",
      "Install will have to be through the Github repository:\n",
      "```bash\n",
      "$ git clone https://github.com/bch0w/pyatoa.git\n",
      "$ cd pyatoa\n",
      "$ python setup.py install\n",
      "```\n",
      "\n",
      "---\n",
      "\n",
      "## Doc Contents"
     ]
    },
    {
     "cell_type": "raw",
     "metadata": {},
     "source": [
      ".. toctree::\n",
      "   :maxdepth: 2\n",
      "\n",
      "   config\n",
      "   gathering\n",
      "   manager\n",
      "   storage\n",
      "   "
     ]
    },
    {
     "cell_type": "code",
     "collapsed": false,
     "input": [],
     "language": "python",
     "metadata": {},
     "outputs": [],
     "prompt_number": null
    }
   ],
   "metadata": {}
  }
 ]
}