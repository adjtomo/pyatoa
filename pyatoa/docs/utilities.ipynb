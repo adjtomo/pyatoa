{
 "metadata": {
  "kernelspec": {
   "display_name": "Python 3",
   "language": "python",
   "name": "python3"
  },
  "name": ""
 },
 "nbformat": 3,
 "nbformat_minor": 0,
 "worksheets": [
  {
   "cells": [
    {
     "cell_type": "markdown",
     "metadata": {},
     "source": [
      "# Utilities\n",
      "\n",
      "`Pyatoa` comes with utilities that facilitate interaction with a few core packages.\n",
      "\n",
      "---\n",
      "\n",
      "## ASDFDataSets\n",
      "\n",
      "By default PyASDF is a powerful package that natively contains almost all the functions we need to store seismological data. However since time windows and adjoint sources are non-standard seismological objects, some additional utility functions are required to read and write them to/from an ASDFDataSet."
     ]
    },
    {
     "cell_type": "markdown",
     "metadata": {},
     "source": [
      "---\n",
      "\n",
      "## SPECFEM I/O\n",
      "\n",
      "`SPECFEM` reads and writes its own native file systems. `Pyatoa` contains custom functions to read in SPECFEM file formats as ObsPy objects, and conversely write ObsPy objects into SPECFEM-ready files.\n",
      "\n",
      "### Catalogs <=> CMTSOLUTIONS\n",
      "\n",
      "`SPECFEM` requires earthquake sources to be input as CMTSOLUTION files, "
     ]
    },
    {
     "cell_type": "code",
     "collapsed": false,
     "input": [],
     "language": "python",
     "metadata": {},
     "outputs": [],
     "prompt_number": null
    },
    {
     "cell_type": "markdown",
     "metadata": {},
     "source": [
      "---\n",
      "\n",
      "## Seisflows"
     ]
    },
    {
     "cell_type": "markdown",
     "metadata": {},
     "source": [
      "---\n",
      "\n",
      "## Plotting models from .VTK files\n",
      "\n",
      "`SPECFEM` outputs [Visualization ToolKit (.vtk)](https://vtk.org/) files for visualizing meshes, models, gradients etc. Although standalone programs can be used to visualize these models, Pyatoa uses the Python package [Mayavi](https://docs.enthought.com/mayavi/mayavi/) to produce standard visualizations of Cartesian meshes. This facilitates rapid assessment of models, but higher-quality model visualizations are deferred to other packages like [ParaView](https://www.paraview.org/)."
     ]
    },
    {
     "cell_type": "code",
     "collapsed": false,
     "input": [
      "# Allow mayavi visualizations to appear in notebook\n",
      "from mayavi import mlab\n",
      "mlab.init_notebook()\n",
      "\n",
      "from pyatoa.visuals.vtk_modeler import VTKModeler\n",
      "\n",
      "vm = VTKModeler()\n",
      "vm.load(fid=\"../tests/test_data/big_test_data/test_vs_model.vtk\")\n",
      "vm.depth_slice(depth_km=5, show=True)"
     ],
     "language": "python",
     "metadata": {},
     "outputs": [],
     "prompt_number": null
    },
    {
     "cell_type": "markdown",
     "metadata": {},
     "source": [
      "---\n",
      "\n",
      "## Plotting waveform improvement using ASDFDataSets"
     ]
    },
    {
     "cell_type": "code",
     "collapsed": false,
     "input": [],
     "language": "python",
     "metadata": {},
     "outputs": [],
     "prompt_number": null
    }
   ],
   "metadata": {}
  }
 ]
}