{
 "cells": [
  {
   "cell_type": "markdown",
   "id": "fe6cbe51",
   "metadata": {},
   "source": [
    "# Utilities\n",
    "\n",
    "`Pyatoa` comes with utilities that facilitate interaction with a few core packages.\n",
    "\n",
    "---\n",
    "\n",
    "## ASDFDataSets\n",
    "\n",
    "By default PyASDF is a powerful package that natively contains almost all the functions we need to store seismological data. However since time windows and adjoint sources are non-standard seismological objects, some additional utility functions are required to read and write them to/from an ASDFDataSet."
   ]
  },
  {
   "cell_type": "markdown",
   "id": "e3b5ada0",
   "metadata": {},
   "source": [
    "---\n",
    "\n",
    "## SPECFEM I/O\n",
    "\n",
    "`SPECFEM` reads and writes its own native file systems. `Pyatoa` contains custom functions to read in SPECFEM file formats as ObsPy objects, and conversely write ObsPy objects into SPECFEM-ready files.\n",
    "\n",
    "### Catalogs <=> CMTSOLUTIONS\n",
    "\n",
    "`SPECFEM` requires earthquake sources to be input as CMTSOLUTION files, "
   ]
  },
  {
   "cell_type": "code",
   "execution_count": null,
   "id": "0a379777",
   "metadata": {},
   "outputs": [],
   "source": []
  },
  {
   "cell_type": "markdown",
   "id": "8e1b1678",
   "metadata": {},
   "source": [
    "---\n",
    "\n",
    "## Seisflows"
   ]
  },
  {
   "cell_type": "markdown",
   "id": "43755d2d",
   "metadata": {},
   "source": [
    "---\n",
    "\n",
    "## Plotting models from .VTK files\n",
    "\n",
    "`SPECFEM` outputs [Visualization ToolKit (.vtk)](https://vtk.org/) files for visualizing meshes, models, gradients etc. Although standalone programs can be used to visualize these models, Pyatoa uses the Python package [Mayavi](https://docs.enthought.com/mayavi/mayavi/) to produce standard visualizations of Cartesian meshes. This facilitates rapid assessment of models, but higher-quality model visualizations are deferred to other packages like [ParaView](https://www.paraview.org/)."
   ]
  },
  {
   "cell_type": "code",
   "execution_count": 1,
   "id": "83ece4b1",
   "metadata": {
    "execution": {
     "iopub.execute_input": "2022-03-03T00:08:52.270541Z",
     "iopub.status.busy": "2022-03-03T00:08:52.270132Z",
     "iopub.status.idle": "2022-03-03T00:08:52.272313Z",
     "shell.execute_reply": "2022-03-03T00:08:52.272031Z"
    }
   },
   "outputs": [],
   "source": [
    "# Allow mayavi visualizations to appear in notebook\n",
    "# from mayavi import mlab\n",
    "# mlab.init_notebook()\n",
    "\n",
    "# from pyatoa.visuals.vtk_modeler import VTKModeler\n",
    "\n",
    "# vm = VTKModeler()\n",
    "# vm.load(fid=\"../tests/test_data/big_test_data/test_vs_model.vtk\")\n",
    "# vm.depth_slice(depth_km=5, show=True)"
   ]
  },
  {
   "cell_type": "markdown",
   "id": "a3c5f4a0",
   "metadata": {},
   "source": [
    "---\n",
    "\n",
    "## Plotting waveform improvement using ASDFDataSets"
   ]
  },
  {
   "cell_type": "code",
   "execution_count": null,
   "id": "50f092d8",
   "metadata": {},
   "outputs": [],
   "source": []
  }
 ],
 "metadata": {
  "kernelspec": {
   "display_name": "Python 3 (ipykernel)",
   "language": "python",
   "name": "python3"
  },
  "language_info": {
   "codemirror_mode": {
    "name": "ipython",
    "version": 3
   },
   "file_extension": ".py",
   "mimetype": "text/x-python",
   "name": "python",
   "nbconvert_exporter": "python",
   "pygments_lexer": "ipython3",
   "version": "3.7.12"
  }
 },
 "nbformat": 4,
 "nbformat_minor": 5
}
