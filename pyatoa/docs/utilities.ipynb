{
 "cells": [
  {
   "cell_type": "markdown",
   "metadata": {},
   "source": [
    "# Utilities\n",
    "\n",
    "`Pyatoa` comes with utilities that facilitate interaction with a few core packages.\n",
    "\n",
    "---\n",
    "\n",
    "## ASDFDataSets\n",
    "\n",
    "By default PyASDF is a powerful package that natively contains almost all the functions we need to store seismological data. However since time windows and adjoint sources are non-standard seismological objects, some additional utility functions are required to read and write them to/from an ASDFDataSet."
   ]
  },
  {
   "cell_type": "markdown",
   "metadata": {},
   "source": [
    "---\n",
    "\n",
    "## SPECFEM I/O\n",
    "\n",
    "`SPECFEM` reads and writes its own native file systems. `Pyatoa` contains custom functions to read in SPECFEM file formats as ObsPy objects, and conversely write ObsPy objects into SPECFEM-ready files.\n",
    "\n",
    "### Catalogs <=> CMTSOLUTIONS"
   ]
  },
  {
   "cell_type": "markdown",
   "metadata": {},
   "source": [
    "---\n",
    "\n",
    "## Seisflows"
   ]
  },
  {
   "cell_type": "markdown",
   "metadata": {},
   "source": [
    "---\n",
    "\n",
    "## Plotting models from .VTK files"
   ]
  },
  {
   "cell_type": "markdown",
   "metadata": {},
   "source": [
    "---\n",
    "\n",
    "## Plotting waveform improvement using ASDFDataSets"
   ]
  },
  {
   "cell_type": "code",
   "execution_count": null,
   "metadata": {},
   "outputs": [],
   "source": []
  }
 ],
 "metadata": {
  "kernelspec": {
   "display_name": "Python 3",
   "language": "python",
   "name": "python3"
  },
  "language_info": {
   "codemirror_mode": {
    "name": "ipython",
    "version": 3
   },
   "file_extension": ".py",
   "mimetype": "text/x-python",
   "name": "python",
   "nbconvert_exporter": "python",
   "pygments_lexer": "ipython3",
   "version": "3.7.3"
  }
 },
 "nbformat": 4,
 "nbformat_minor": 2
}
