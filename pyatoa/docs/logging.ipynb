{
 "metadata": {
  "kernelspec": {
   "display_name": "Python 3",
   "language": "python",
   "name": "python3"
  },
  "language_info": {
   "codemirror_mode": {
    "name": "ipython",
    "version": 3
   },
   "file_extension": ".py",
   "mimetype": "text/x-python",
   "name": "python",
   "nbconvert_exporter": "python",
   "pygments_lexer": "ipython3",
   "version": "3.7.3"
  },
  "name": ""
 },
 "nbformat": 3,
 "nbformat_minor": 0,
 "worksheets": [
  {
   "cells": [
    {
     "cell_type": "markdown",
     "metadata": {},
     "source": [
      "# Logging\n",
      "\n",
      "Pyatoa comes with a detailed `logger`, which has varying levels of output information. For simple statements denoting the status of the workflow, use the `INFO` setting. For detailed logging which details each step of a Pyatoa workflow, including output values, use the `DEBUG` setting. By default, the logger is set to `WARNING` only, which only outputs information when something unexpected occurs.\n",
      "\n",
      "To instantiate a logger, just import and set. Pyflex and Pyadjoint loggers can be set in the same manner."
     ]
    },
    {
     "cell_type": "code",
     "collapsed": false,
     "input": [
      "import obspy\n",
      "from pyatoa import logger, Manager, Config\n",
      "from pyflex import logger as pflogger\n",
      "from pyadjoint import logger as palogger\n",
      "logger.setLevel(\"DEBUG\")\n",
      "pflogger.setLevel(\"DEBUG\")\n",
      "palogger.setLevel(\"DEBUG\")\n",
      "\n",
      "# Read in test data\n",
      "inv = obspy.read_inventory(\"../tests/test_data/test_dataless_NZ_BFZ.xml\")\n",
      "cat = obspy.read_events(\"../tests/test_data/test_catalog_2018p130600.xml\")\n",
      "event = cat[0]\n",
      "st_obs = obspy.read(\"../tests/test_data/test_obs_data_NZ_BFZ_2018p130600.ascii\")\n",
      "st_syn = obspy.read(\"../tests/test_data/test_syn_data_NZ_BFZ_2018p130600.ascii\")\n",
      "\n",
      "mgmt = Manager(config=Config(), inv=inv, event=event, st_obs=st_obs, st_syn=st_syn)\n",
      "mgmt.flow()"
     ],
     "language": "python",
     "metadata": {},
     "outputs": [],
     "prompt_number": null
    },
    {
     "cell_type": "code",
     "collapsed": false,
     "input": [],
     "language": "python",
     "metadata": {},
     "outputs": [],
     "prompt_number": null
    }
   ],
   "metadata": {}
  }
 ]
}