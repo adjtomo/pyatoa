{
 "cells": [
  {
   "cell_type": "markdown",
   "metadata": {},
   "source": [
    "# Data gathering\n",
    "\n",
    "Data gathering is an integral part of a seismic inversion workflow. Although data can directly be passed to the `Manager` class by the user, Pyatoa provides some mid-level classes that deal with automated data gathering, from local directory structures, `ASDFDataSet`s or with queries to the International Federation of Digital Seismographs web service using the ObsPy `Client` module."
   ]
  },
  {
   "cell_type": "markdown",
   "metadata": {},
   "source": [
    "---\n",
    "## Event metadata\n",
    "\n",
    "Event data can be gathered using the ObsPy FDSN web service client using the `Config.client` parameter.  \n",
    "\n",
    "As an example we'll gather event information from the [M<sub>w</sub>7.8 Kaikoura Earthquake, New Zealand](http://ds.iris.edu/ds/nodes/dmc/tools/event/5197722).\n"
   ]
  },
  {
   "cell_type": "code",
   "execution_count": 2,
   "metadata": {},
   "outputs": [],
   "source": [
    "from pyatoa import logger, Config, Manager\n",
    "logger.setLevel(\"DEBUG\")"
   ]
  },
  {
   "cell_type": "code",
   "execution_count": 5,
   "metadata": {},
   "outputs": [
    {
     "name": "stderr",
     "output_type": "stream",
     "text": [
      "[2020-08-11 17:28:22] - pyatoa - DEBUG: gathering event\n",
      "[2020-08-11 17:28:22] - pyatoa - DEBUG: event ID: 5197722, querying client IRIS\n",
      "[2020-08-11 17:28:23] - pyatoa - DEBUG: matching event found: query?eventid=5197722\n"
     ]
    },
    {
     "data": {
      "text/plain": [
       "Event:\t2016-11-13T11:02:59.070000Z | -42.724, +173.065 | 7.8 Mww\n",
       "\n",
       "\t            resource_id: ResourceIdentifier(id=\"smi:service.iris.edu/fdsnws/event/1/query?eventid=5197722\")\n",
       "\t             event_type: 'earthquake'\n",
       "\t    preferred_origin_id: ResourceIdentifier(id=\"smi:service.iris.edu/fdsnws/event/1/query?originid=11363410\")\n",
       "\t preferred_magnitude_id: ResourceIdentifier(id=\"smi:service.iris.edu/fdsnws/event/1/query?magnitudeid=177181336\")\n",
       "\t                   ---------\n",
       "\t     event_descriptions: 1 Elements\n",
       "\t                origins: 1 Elements\n",
       "\t             magnitudes: 1 Elements"
      ]
     },
     "execution_count": 5,
     "metadata": {},
     "output_type": "execute_result"
    }
   ],
   "source": [
    "cfg = Config(client=\"IRIS\", event_id=\"5197722\")\n",
    "mgmt = Manager(config=cfg)\n",
    "mgmt.gather(choice=\"event\", try_fm=False)  # try_fm argument addressed next\n",
    "mgmt.event"
   ]
  },
  {
   "cell_type": "markdown",
   "metadata": {},
   "source": [
    "### GCMT focal mechanisms\n",
    "\n",
    "Events gathered using the IRIS webservice may also query the [Harvard GCMT moment tensor catalog](https://www.globalcmt.org/CMTsearch.html) for matching focal mechanism information. If we set the `try_fm` argument to `True` in the `gather` function, it will search for matching moment tensor information using the `Event` origin time and magnitude."
   ]
  },
  {
   "cell_type": "code",
   "execution_count": null,
   "metadata": {},
   "outputs": [],
   "source": [
    "mgmt = Manager(config=cfg)\n",
    "mgmt.gather(choice=\"event\", try_fm=True)"
   ]
  },
  {
   "cell_type": "code",
   "execution_count": null,
   "metadata": {},
   "outputs": [],
   "source": [
    "mgmt.event"
   ]
  },
  {
   "cell_type": "code",
   "execution_count": null,
   "metadata": {},
   "outputs": [],
   "source": [
    "mgmt.event.preferred_focal_mechanism().moment_tensor"
   ]
  },
  {
   "cell_type": "code",
   "execution_count": null,
   "metadata": {},
   "outputs": [],
   "source": [
    "mgmt.event.plot();"
   ]
  },
  {
   "cell_type": "markdown",
   "metadata": {},
   "source": [
    "### New Zealand event metadata from GeoNet\n",
    "\n",
    "Pyatoa was originally designed for the New Zealand tomography problem, so functions are available for querying the [GeoNet regional moment tensor catalog](https://github.com/GeoNet/data/blob/master/moment-tensor/GeoNet_CMT_solutions.csv\n",
    "). \n",
    "\n",
    "> **__NOTE__:** GeoNet moment tensors are automatically converted to GCMT convention, i.e. from XYZ to RTP (m_rr, m_tt, m_pp...) coordinates and into units of N*m.\n",
    "\n",
    "Let's try to grab to same [M<sub>w</sub>7.8 Kaikoura Earthquake](https://www.geonet.org.nz/earthquake/2016p858000) using its unique GeoNet identifier."
   ]
  },
  {
   "cell_type": "code",
   "execution_count": 10,
   "metadata": {},
   "outputs": [
    {
     "name": "stderr",
     "output_type": "stream",
     "text": [
      "[2020-08-11 16:33:05] - pyatoa - DEBUG: gathering event\n",
      "[2020-08-11 16:33:05] - pyatoa - DEBUG: event ID: 2016p858000, querying client GEONET\n",
      "[2020-08-11 16:33:06] - pyatoa - DEBUG: matching event found: 2016p858000\n",
      "[2020-08-11 16:33:07] - pyatoa - INFO: geonet moment tensor found for: 2016p858000\n",
      "[2020-08-11 16:33:07] - pyatoa - DEBUG: GeoNet moment tensor is in units of Newton*meters\n",
      "[2020-08-11 16:33:07] - pyatoa - INFO: GeoNet moment tensor appended to Event\n"
     ]
    },
    {
     "name": "stdout",
     "output_type": "stream",
     "text": [
      ">>> print(mgmt.event)\n",
      "Event:\t2016-11-13T11:02:56.346094Z | -42.693, +173.022 | 7.820379733 Mw(mB) | manual\n",
      "\n",
      "\t                  resource_id: ResourceIdentifier(id=\"smi:nz.org.geonet/2016p858000\")\n",
      "\t                   event_type: 'earthquake'\n",
      "\t                creation_info: CreationInfo(agency_id='WEL(GNS_Primary)', author='scevent@akeqp01.geonet.org.nz', creation_time=UTCDateTime(2016, 11, 13, 11, 3, 27, 886738))\n",
      "\t          preferred_origin_id: ResourceIdentifier(id=\"smi:nz.org.geonet/Origin#20161116052725.210418.52361\")\n",
      "\t       preferred_magnitude_id: ResourceIdentifier(id=\"smi:nz.org.geonet/Magnitude#20161116052734.469407.55057\")\n",
      "\t preferred_focal_mechanism_id: ResourceIdentifier(id=\"smi:local/4ce83d99-e567-4eb8-b4e1-459431a043b5\")\n",
      "\t                         ---------\n",
      "\t           event_descriptions: 1 Elements\n",
      "\t                     comments: 1 Elements\n",
      "\t                        picks: 189 Elements\n",
      "\t                   amplitudes: 200 Elements\n",
      "\t             focal_mechanisms: 1 Elements\n",
      "\t                      origins: 1 Elements\n",
      "\t                   magnitudes: 5 Elements\n",
      "\t           station_magnitudes: 200 Elements\n",
      "\n",
      ">>> print(mgmt.event.preferred_focal_mechanism().moment_tensor)\n",
      "MomentTensor\n",
      "\t          resource_id: ResourceIdentifier(id=\"smi:local/64270c1b-0c92-4dc8-88c1-5c3057c32386\")\n",
      "\t    derived_origin_id: ResourceIdentifier(id=\"smi:local/geonetcsv/2016p858000/origin#ristau\")\n",
      "\t        scalar_moment: 7.04e+20\n",
      "\t               tensor: Tensor(m_rr=4.8e+20, m_tt=1.73e+20, m_pp=-6.53e+20, m_rt=-9.32e+19, m_rp=2.95e+20, m_tp=-2.39e+20)\n",
      "\t   variance_reduction: -1.0\n",
      "\t        double_couple: 0.57\n",
      "\t source_time_function: SourceTimeFunction(duration=42.70041773893082)\n"
     ]
    }
   ],
   "source": [
    "cfg = Config(client=\"GEONET\", event_id=\"2016p858000\")\n",
    "mgmt = Manager(config=cfg)\n",
    "mgmt.gather(choice=\"event\", try_fm=True)"
   ]
  },
  {
   "cell_type": "code",
   "execution_count": null,
   "metadata": {},
   "outputs": [],
   "source": [
    "mgmt.event"
   ]
  },
  {
   "cell_type": "code",
   "execution_count": null,
   "metadata": {},
   "outputs": [],
   "source": [
    "mgmt.event.preferred_focal_mechanism().moment_tensor"
   ]
  },
  {
   "cell_type": "code",
   "execution_count": null,
   "metadata": {},
   "outputs": [],
   "source": [
    "mgmt.event.plot();"
   ]
  },
  {
   "cell_type": "markdown",
   "metadata": {},
   "source": [
    "---\n",
    "## Station metadata from local file system\n",
    "\n",
    "Station metadata can be gathered from local file systems following SEED response file naming conventions. The paths to response files can be specified in the `Config.paths['responses']` list.\n",
    "\n",
    "### Naming Convention\n",
    "\n",
    "By default, responses are searched for using file name and directory structure templates that follow SEED formatting. This is defined as:\n",
    "\n",
    "**Default Directory Template:** path/to/responses/SSS.NN  \n",
    "**Default File ID Template:** RESP.NN.SSS.LL.CCC\n",
    "\n",
    "* NN: The network code (e.g. NZ)  \n",
    "* SSS: The station code (e.g. BFZ)  \n",
    "* LL: The location code (e.g. 10)  \n",
    "* CCC: The channel code (e.g. HHZ.D)  \n",
    "\n",
    "An example directory for station NZ.BFZ: **path/to/response/BFZ.NZ/RESP.NZ.BFZ.10.HHZ**\n",
    "\n",
    "!!! Include a link to the distribute_dataless script !!!"
   ]
  },
  {
   "cell_type": "code",
   "execution_count": 24,
   "metadata": {},
   "outputs": [
    {
     "name": "stderr",
     "output_type": "stream",
     "text": [
      "[2020-08-11 16:55:06] - pyatoa - INFO: gathering data for NZ.BFZ.??.HH?\n",
      "[2020-08-11 16:55:06] - pyatoa - INFO: gathering StationXML\n",
      "[2020-08-11 16:55:06] - pyatoa - DEBUG: searching local filesystem\n",
      "[2020-08-11 16:55:06] - pyatoa - DEBUG: retrieved local file:\n",
      "../tests/test_data/test_seed/BFZ.NZ/RESP.NZ.BFZ.10.HHZ\n",
      "[2020-08-11 16:55:06] - pyatoa - INFO: matching StationXML found\n"
     ]
    }
   ],
   "source": [
    "cfg = Config(paths={\"responses\": [\"../tests/test_data/test_seed\"]})\n",
    "mgmt = Manager(config=cfg)\n",
    "mgmt.gather(code=\"NZ.BFZ.??.HH?\", choice=[\"inv\"]);"
   ]
  },
  {
   "cell_type": "markdown",
   "metadata": {},
   "source": [
    "---\n",
    "## Observed waveforms from local file system\n",
    "\n",
    "Observed waveforms can either be collected from a local file system or using the ObsPy webservice client. Waveform gathering is based on event origin time, therefore an `Event` object must be present for data gathering to work properly.\n",
    "\n",
    "### Naming convention\n",
    "\n",
    "By default, observed waveforms are searched for using file name and directory structure templates that follow SEED formatting. This is defined as:\n",
    "\n",
    "**Default Directory Template:** path/to/observed/YYYY/NN/SSS/CCC/  \n",
    "**Default File ID Template:** NN.SSS.LL.CCC.YYYY.DDD  \n",
    "\n",
    "* YYYY: The year with the century (e.g., 1987)  \n",
    "* NN: The network code (e.g. NZ)  \n",
    "* SSS: The station code (e.g. BFZ)  \n",
    "* LL: The location code (e.g. 10)  \n",
    "* CCC: The channel code (e.g. HHZ.D)  \n",
    "* DDD: The julian day of the year (January 1 is 001)\n",
    "\n",
    "An example directory for station NZ.BFZ, for the day 2018-02-18: **path/to/observed/2018/NZ/BFZ/HHZ/NZ.BFZ.10.HHZ.D.2018.049**\n",
    "\n",
    "User-defined paths can be provided to the `Config.paths` attribute, which takes the form of a dictionary of lists. Multiple paths can be passed to each list, and data gathering routines will search each path in order until relevant data is found. \n",
    "\n",
    "### Eketahuna example\n",
    "\n",
    "Here we will gather event metadata for the [M6.2 Eketahuna earthquake, New Zealand](https://www.geonet.org.nz/earthquake/2014p051675), and use its origintime to gather observed waveforms from the test data directory, for which a matching directory structure has already been created. We add a dummy path to show that how multiple paths can be passed to the `paths` attribute. The logger output shows the location of the waveforms found, which matches the example path shown above."
   ]
  },
  {
   "cell_type": "code",
   "execution_count": 19,
   "metadata": {},
   "outputs": [
    {
     "name": "stdout",
     "output_type": "stream",
     "text": [
      ">>> print(cfg.paths)\n",
      "{'waveforms': ['./dummy_path', '../tests/test_data/test_mseeds'], 'synthetics': [], 'responses': []}\n"
     ]
    }
   ],
   "source": [
    "cfg = Config(event_id=\"2018p130600\", client=\"GEONET\", paths={\"waveforms\": [\"./dummy_path\", \"../tests/test_data/test_mseeds\"]})\n",
    "cfg.paths"
   ]
  },
  {
   "cell_type": "code",
   "execution_count": 21,
   "metadata": {},
   "outputs": [
    {
     "name": "stderr",
     "output_type": "stream",
     "text": [
      "[2020-08-11 16:41:20] - pyatoa - DEBUG: gathering event\n",
      "[2020-08-11 16:41:20] - pyatoa - DEBUG: event ID: 2018p130600, querying client GEONET\n",
      "[2020-08-11 16:41:21] - pyatoa - DEBUG: matching event found: 2018p130600\n",
      "[2020-08-11 16:41:21] - pyatoa - INFO: geonet moment tensor found for: 2018p130600\n",
      "[2020-08-11 16:41:21] - pyatoa - DEBUG: GeoNet moment tensor is in units of Newton*meters\n",
      "[2020-08-11 16:41:21] - pyatoa - INFO: GeoNet moment tensor appended to Event\n",
      "[2020-08-11 16:41:21] - pyatoa - INFO: gathering data for NZ.BFZ.??.HH?\n",
      "[2020-08-11 16:41:21] - pyatoa - INFO: gathering observed waveforms\n",
      "[2020-08-11 16:41:21] - pyatoa - DEBUG: searching local filesystem\n",
      "[2020-08-11 16:41:21] - pyatoa - DEBUG: retrieved local file:\n",
      "../tests/test_data/test_mseeds/2018/NZ/BFZ/HHE/NZ.BFZ.10.HHE.D.2018.049\n",
      "[2020-08-11 16:41:21] - pyatoa - DEBUG: retrieved local file:\n",
      "../tests/test_data/test_mseeds/2018/NZ/BFZ/HHN/NZ.BFZ.10.HHN.D.2018.049\n",
      "[2020-08-11 16:41:21] - pyatoa - DEBUG: retrieved local file:\n",
      "../tests/test_data/test_mseeds/2018/NZ/BFZ/HHZ/NZ.BFZ.10.HHZ.D.2018.049\n",
      "[2020-08-11 16:41:21] - pyatoa - INFO: matching observed waveforms found\n"
     ]
    }
   ],
   "source": [
    "mgmt = Manager(config=cfg)\n",
    "mgmt.gather(code=\"NZ.BFZ.??.HH?\", choice=[\"event\", \"st_obs\"]);"
   ]
  },
  {
   "cell_type": "markdown",
   "metadata": {},
   "source": [
    "---\n",
    "## Waveforms and station metadata from FDSN\n",
    "\n",
    "Observed waveforms and station metdata may also be fetched from FDSN webservices using the [ObsPy Client module](https://docs.obspy.org/packages/obspy.clients.fdsn.html). If paths are provided to the `Config` class, searches in local filesystems will occur first, but if not matching waveforms or metadata are found, then gathering will default to querying FDSN. Lets gather the same waveform data from the Eketahuna example."
   ]
  },
  {
   "cell_type": "code",
   "execution_count": 2,
   "metadata": {},
   "outputs": [
    {
     "name": "stderr",
     "output_type": "stream",
     "text": [
      "[2020-08-11 17:22:51] - pyatoa - DEBUG: gathering event\n",
      "[2020-08-11 17:22:51] - pyatoa - DEBUG: event ID: 2018p130600, querying client GEONET\n",
      "[2020-08-11 17:22:52] - pyatoa - DEBUG: matching event found: 2018p130600\n",
      "[2020-08-11 17:22:52] - pyatoa - INFO: geonet moment tensor found for: 2018p130600\n",
      "[2020-08-11 17:22:52] - pyatoa - DEBUG: GeoNet moment tensor is in units of Newton*meters\n",
      "[2020-08-11 17:22:52] - pyatoa - INFO: GeoNet moment tensor appended to Event\n",
      "[2020-08-11 17:22:52] - pyatoa - INFO: gathering data for NZ.BFZ.??.HH?\n",
      "[2020-08-11 17:22:52] - pyatoa - INFO: gathering observed waveforms\n",
      "[2020-08-11 17:22:52] - pyatoa - DEBUG: searching local filesystem\n",
      "[2020-08-11 17:22:52] - pyatoa - DEBUG: querying client GEONET\n",
      "[2020-08-11 17:22:52] - pyatoa - INFO: matching observed waveforms found\n",
      "[2020-08-11 17:22:52] - pyatoa - INFO: gathering StationXML\n",
      "[2020-08-11 17:22:52] - pyatoa - DEBUG: searching local filesystem\n",
      "[2020-08-11 17:22:52] - pyatoa - DEBUG: querying client GEONET\n",
      "/Users/Chow/miniconda3/envs/tomo/lib/python3.7/site-packages/obspy/io/stationxml/core.py:98: UserWarning: The StationXML file has version 1, ObsPy can read versions (1.0, 1.1). Proceed with caution.\n",
      "  version, \", \".join(READABLE_VERSIONS)))\n",
      "[2020-08-11 17:22:53] - pyatoa - INFO: matching StationXML found\n"
     ]
    }
   ],
   "source": [
    "cfg = Config(event_id=\"2018p130600\", client=\"GEONET\")\n",
    "mgmt = Manager(config=cfg)\n",
    "mgmt.gather(code=\"NZ.BFZ.??.HH?\", choice=[\"event\", \"inv\", \"st_obs\"]);"
   ]
  },
  {
   "cell_type": "markdown",
   "metadata": {},
   "source": [
    "---\n",
    "## Gathering synthetic waveforms\n",
    "\n",
    "Pyatoa was designed around SPECFEM3D Cartesian, and so synthetic waveforms are expected in the ASCII outputs of SPECFEM. Synthetic waveforms can only be gathered from a local file system and are searched for using the `Config.paths['synthetics']` list.\n",
    "\n",
    "Synthetic data will be read in as an ObsPy Stream object. Since SPECFEM ASCII files have no header information, an `Event` attribute is required to set the origin time of the synthetic data.\n",
    "### Naming convention\n",
    "\n",
    "The naming convention by default is set by ASCII output files of SPECFEM.\n",
    "\n",
    "**Default File ID Template:** NN.SSS.CCC.EEEE\n",
    "* NN: The network code (e.g. NZ)  \n",
    "* SSS: The station code (e.g. BFZ)  \n",
    "* CCC: The channel code, where the instrument code (second letter) is always 'X', to denote generated data, as per SEED convention (e.g. BXZ)  \n",
    "* EEEE: The SEM extension which denotes the units of the synthetics. Usually something like 'semd', where 'd' stands for displacement. \n",
    "\n",
    "An example directory for station NZ.BFZ, for the day 2018-02-18: **path/to/synthetics/NZ.BFZ.BXZ.semd** \n",
    "\n",
    "> **__NOTE__:** An optional `syn_dir_template` can be passed to to the `gather` function to prepend additional paths, e.g. if many synthetics have been generated and grouped by event."
   ]
  },
  {
   "cell_type": "code",
   "execution_count": 3,
   "metadata": {},
   "outputs": [
    {
     "name": "stderr",
     "output_type": "stream",
     "text": [
      "[2020-08-11 17:22:56] - pyatoa - INFO: gathering data for NZ.BFZ.??.BX?\n",
      "[2020-08-11 17:22:56] - pyatoa - INFO: gathering synthetic waveforms\n",
      "[2020-08-11 17:22:56] - pyatoa - DEBUG: searching local filesystem\n",
      "[2020-08-11 17:22:56] - pyatoa - DEBUG: retrieved local file:\n",
      "../tests/test_data/synthetics/NZ.BFZ.BXZ.semd\n",
      "[2020-08-11 17:22:56] - pyatoa - DEBUG: retrieved local file:\n",
      "../tests/test_data/synthetics/NZ.BFZ.BXN.semd\n",
      "[2020-08-11 17:22:56] - pyatoa - DEBUG: retrieved local file:\n",
      "../tests/test_data/synthetics/NZ.BFZ.BXE.semd\n",
      "[2020-08-11 17:22:56] - pyatoa - INFO: matching synthetic waveforms found\n"
     ]
    },
    {
     "data": {
      "text/plain": [
       "Manager Data\n",
       "    dataset   [ds]:        None\n",
       "    quakeml   [event]:     smi:nz.org.geonet/2018p130600\n",
       "    station   [inv]:       NZ.BFZ\n",
       "    observed  [st_obs]:    3\n",
       "    synthetic [st_syn]:    3\n",
       "Stats and Status\n",
       "    half_dur:              0\n",
       "    time_offset_sec:       0\n",
       "    standardized:          False\n",
       "    obs_filtered:          False\n",
       "    syn_filtered:          False\n",
       "    nwin (windows):        0\n",
       "    misfit (adjsrcs):      0.00E+00"
      ]
     },
     "execution_count": 3,
     "metadata": {},
     "output_type": "execute_result"
    }
   ],
   "source": [
    "mgmt.config.paths[\"synthetics\"].append(\"../tests/test_data/\")\n",
    "mgmt.gather(code=\"NZ.BFZ.??.BX?\", choice=[\"st_syn\"], syn_dir_template=\"synthetics\")"
   ]
  },
  {
   "cell_type": "markdown",
   "metadata": {},
   "source": [
    "---\n",
    "## One-time mass data gathering\n",
    "\n",
    "It may be useful to do a one-time mass data gathering prior to a seismic inversion, to assess for example how many stations a given event is recorded on, or to assess which stations show good data quality. Pyatoa provides a multithreaded data gathering scheme to set up the ASDFDataSets that will be used in a future seismic inversion.\n",
    "\n",
    "We need a few prerequisite pieces of data: \n",
    "* Event origin time\n",
    "* ASDFDataSet\n",
    "* Station codes for desired data"
   ]
  },
  {
   "cell_type": "code",
   "execution_count": 24,
   "metadata": {},
   "outputs": [
    {
     "name": "stderr",
     "output_type": "stream",
     "text": [
      "[2020-10-07 11:03:36] - pyatoa - DEBUG: Component list set to E/N/Z\n",
      "[2020-10-07 11:03:36] - pyatoa - DEBUG: gathering event\n",
      "[2020-10-07 11:03:36] - pyatoa - DEBUG: event ID: 2016p858000, querying client GEONET\n",
      "[2020-10-07 11:03:37] - pyatoa - DEBUG: matching event found: 2016p858000\n",
      "[2020-10-07 11:03:37] - pyatoa - DEBUG: event QuakeML added to ASDFDataSet\n"
     ]
    },
    {
     "data": {
      "text/plain": [
       "Manager Data\n",
       "    dataset   [ds]:        2016p858000.h5\n",
       "    quakeml   [event]:     smi:nz.org.geonet/2016p858000\n",
       "    station   [inv]:       None\n",
       "    observed  [st_obs]:    0\n",
       "    synthetic [st_syn]:    0\n",
       "Stats & Status\n",
       "    half_dur:              0\n",
       "    time_offset_sec:       0\n",
       "    standardized:          False\n",
       "    obs_processed:         False\n",
       "    syn_processed:         False\n",
       "    nwin   [windows]:      0\n",
       "    misfit [adjsrcs]:      0.00E+00"
      ]
     },
     "execution_count": 24,
     "metadata": {},
     "output_type": "execute_result"
    }
   ],
   "source": [
    "from pyasdf import ASDFDataSet\n",
    "\n",
    "event_id = \"2016p858000\"\n",
    "ds = ASDFDataSet(f\"../tests/test_data/{event_id}.h5\")\n",
    "cfg = Config(client=\"GEONET\", event_id=event_id)\n",
    "\n",
    "mgmt = Manager(config=cfg, ds=ds)\n",
    "mgmt.gather(choice=\"event\", try_fm=False)"
   ]
  },
  {
   "cell_type": "markdown",
   "metadata": {},
   "source": [
    "Now we can gather data en masse using the desired stations codes. Wildcards are accepted and passed into the ObsPy webservice client query. Gathered data will be saved to the ASDFDataSet in the Pyatoa format, which can be used for subsequent inversion efforts. The multithreaded process will tell the user how many pieces of information were retrieved for each station, in this case 1 dataless file and 3 waveforms, 1 per component."
   ]
  },
  {
   "cell_type": "code",
   "execution_count": 25,
   "metadata": {},
   "outputs": [
    {
     "name": "stderr",
     "output_type": "stream",
     "text": [
      "[2020-10-07 11:03:44] - pyatoa - INFO: mass gathering observation data\n"
     ]
    },
    {
     "name": "stdout",
     "output_type": "stream",
     "text": [
      "NZ.KNZ.??.HH? status: 4\n",
      "NZ.PUZ.??.HH? status: 4\n",
      "NZ.BFZ.??.HH? status: 4\n",
      "NZ.WEL.??.HH? status: 4\n"
     ]
    }
   ],
   "source": [
    "import warnings\n",
    "\n",
    "station_codes = [\"NZ.BFZ.??.HH?\", \"NZ.KNZ.??.HH?\", \"NZ.PUZ.??.HH?\", \"NZ.WEL.??.HH?\"]\n",
    "\n",
    "# We will ignore the UserWarning regarding ObsPy read versions\n",
    "with warnings.catch_warnings():\n",
    "    warnings.simplefilter(\"ignore\")\n",
    "    mgmt.gatherer.gather_obs_threaded(station_codes)"
   ]
  },
  {
   "cell_type": "code",
   "execution_count": 26,
   "metadata": {},
   "outputs": [
    {
     "name": "stdout",
     "output_type": "stream",
     "text": [
      "['NZ.BFZ', 'NZ.KNZ', 'NZ.PUZ', 'NZ.WEL']\n"
     ]
    },
    {
     "data": {
      "text/plain": [
       "Contents of the data set for station NZ.BFZ:\n",
       "    - Has a StationXML file\n",
       "    - 1 Waveform Tag(s):\n",
       "        observed"
      ]
     },
     "execution_count": 26,
     "metadata": {},
     "output_type": "execute_result"
    }
   ],
   "source": [
    "print(ds.waveforms.list())\n",
    "ds.waveforms.NZ_BFZ"
   ]
  },
  {
   "cell_type": "markdown",
   "metadata": {},
   "source": [
    "---\n",
    "## From an ASDFDataSet\n",
    "\n",
    "Once stored in an ASDFDataSet, data can be re-retrieved using the gather function. ASDFDataSet retrieval is prioritized above local file system recovery. See the 'Data Storage' section for some examples of reading/writing data from ASDFDataSets."
   ]
  },
  {
   "cell_type": "code",
   "execution_count": null,
   "metadata": {},
   "outputs": [],
   "source": []
  }
 ],
 "metadata": {
  "kernelspec": {
   "display_name": "Python 3",
   "language": "python",
   "name": "python3"
  },
  "language_info": {
   "codemirror_mode": {
    "name": "ipython",
    "version": 3
   },
   "file_extension": ".py",
   "mimetype": "text/x-python",
   "name": "python",
   "nbconvert_exporter": "python",
   "pygments_lexer": "ipython3",
   "version": "3.7.3"
  }
 },
 "nbformat": 4,
 "nbformat_minor": 1
}
