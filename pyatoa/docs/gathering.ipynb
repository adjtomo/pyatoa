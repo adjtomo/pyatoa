{
 "metadata": {
  "kernelspec": {
   "display_name": "Python 3",
   "language": "python",
   "name": "python3"
  },
  "language_info": {
   "codemirror_mode": {
    "name": "ipython",
    "version": 3
   },
   "file_extension": ".py",
   "mimetype": "text/x-python",
   "name": "python",
   "nbconvert_exporter": "python",
   "pygments_lexer": "ipython3",
   "version": "3.7.3"
  },
  "name": ""
 },
 "nbformat": 3,
 "nbformat_minor": 0,
 "worksheets": [
  {
   "cells": [
    {
     "cell_type": "code",
     "collapsed": false,
     "input": [
      "from pyatoa import logger\n",
      "logger.setLevel(\"DEBUG\")"
     ],
     "language": "python",
     "metadata": {},
     "outputs": [],
     "prompt_number": null
    },
    {
     "cell_type": "markdown",
     "metadata": {},
     "source": [
      "# Data Gathering\n",
      "\n",
      "Data gathering is an integral part of a seismic inversion workflow. Although data can directly be passed to the `Manager` class by the user, Pyatoa provides some mid-level classes that deal with automated data gathering, from local directory structures, `ASDFDataSet`s or with queries to the International Federation of Digital Seismographs web service using the ObsPy `Client` module."
     ]
    },
    {
     "cell_type": "markdown",
     "metadata": {},
     "source": [
      "## Gathering Event metadata\n",
      "\n",
      "Event data can be gathered using the ObsPy FDSN web service client using the `Config.client` parameter.  \n",
      "\n",
      "As an example we'll gather event information from the M<sub>w</sub>7.8 Kaikoura Earthquake, New Zealand \n",
      "(http://ds.iris.edu/ds/nodes/dmc/tools/event/5197722).\n"
     ]
    },
    {
     "cell_type": "code",
     "collapsed": false,
     "input": [
      "cfg = Config(client=\"IRIS\", event_id=\"5197722\")\n",
      "mgmt = Manager(config=cfg)\n",
      "mgmt.gather(choice=\"event\", try_fm=False)  # try_fm argument addressed next\n",
      "print(f\">>> print(mgmt.event)\\n{mgmt.event}\")"
     ],
     "language": "python",
     "metadata": {},
     "outputs": [],
     "prompt_number": null
    },
    {
     "cell_type": "markdown",
     "metadata": {},
     "source": [
      "### Focal Mechanisms\n",
      "\n",
      "Events gathered using the IRIS webservice may also query the Harvard GCMT moment tensor catalog (https://www.globalcmt.org/CMTsearch.html) for matching focal mechanism information. If we set the `try_fm` argument to `True` in the `Manager.gather()` function, the `Gatherer` class will search for matching moment tensor information using the `Event` origin time and magnitude."
     ]
    },
    {
     "cell_type": "code",
     "collapsed": false,
     "input": [
      "mgmt = Manager(config=cfg)\n",
      "mgmt.gather(choice=\"event\", try_fm=True)\n",
      "print(f\">>> print(mgmt.event)\\n{mgmt.event}\\n\")\n",
      "print(f\">>> print(mgmt.event.preferred_focal_mechanism().moment_tensor)\\n{mgmt.event.preferred_focal_mechanism().moment_tensor}\")"
     ],
     "language": "python",
     "metadata": {},
     "outputs": [],
     "prompt_number": null
    },
    {
     "cell_type": "code",
     "collapsed": false,
     "input": [
      "mgmt.event.plot();"
     ],
     "language": "python",
     "metadata": {},
     "outputs": [],
     "prompt_number": null
    },
    {
     "cell_type": "markdown",
     "metadata": {},
     "source": [
      "### Gathering event metadata from GeoNet\n",
      "\n",
      "Pyatoa was originally designed for the New Zealand tomography problem, so additional functions are available for querying the GeoNet regional moment tensor catalog (https://github.com/GeoNet/data/blob/master/moment-tensor/GeoNet_CMT_solutions.csv\n",
      "). \n",
      "\n",
      "Moment tensors are automatically converted to standard GCMT convention, that is the RTP (m_rr, m_tt, m_pp...) coordinate system in units of N*m.\n",
      "\n",
      "Let's try to grab to same M<sub>w</sub>7.8 Kaikoura Earthquake using its unique GeoNet identifier, found in the moment tensor catalog."
     ]
    },
    {
     "cell_type": "code",
     "collapsed": false,
     "input": [
      "cfg = Config(client=\"GEONET\", event_id=\"2016p858000\")\n",
      "mgmt = Manager(config=cfg)\n",
      "mgmt.gather(choice=\"event\", try_fm=True)\n",
      "\n",
      "print(f\">>> print(mgmt.event)\\n{mgmt.event}\\n\")\n",
      "print(f\">>> print(mgmt.event.preferred_focal_mechanism().moment_tensor)\\n{mgmt.event.preferred_focal_mechanism().moment_tensor}\")"
     ],
     "language": "python",
     "metadata": {},
     "outputs": [],
     "prompt_number": null
    },
    {
     "cell_type": "code",
     "collapsed": false,
     "input": [
      "mgmt.event.plot();"
     ],
     "language": "python",
     "metadata": {},
     "outputs": [],
     "prompt_number": null
    },
    {
     "cell_type": "markdown",
     "metadata": {},
     "source": [
      "## Gathering observed waveforms\n",
      "\n",
      "Observed waveforms can either be collected from a local file system or using the ObsPy webservice client.\n",
      "\n",
      "### From a local file system\n",
      "\n",
      "By default, observed waveforms are searched using a file naming template and directory structure template that follows SEED formatting. This is defined as:\n",
      "\n",
      "**Default Directory Template:** path/to/observed/YYYY/NN/SSS/CCC/  \n",
      "**Default File ID Template:** NN.SSS.LL.CCC.YYYY.DDD**  \n",
      "\n",
      "YYYY: The year with the century (e.g., 1987)  \n",
      "NN: The network code (e.g. NZ)  \n",
      "SSS: The station code (e.g. BFZ)  \n",
      "LL: The location code (e.g. 10)  \n",
      "CCC: The channel code (e.g. HHZ.D)  \n",
      "DDD: The julian day of the year (January 1 is 001)\n",
      "\n",
      "An example directory for station NZ.BFZ, for the day 2018-02-18: **path/to/observed/2018/NZ/BFZ/HHZ.D/NZ.BFZ.10.HHZ.D.2018.049**\n",
      "\n",
      "User-defined paths can be provided to the `Config.paths` attribute, which takes the form of a dictionary of lists.  \n",
      "Multiple paths can be passed to each list, and data gathering routines will search each path in order until relevant data is found.\n",
      "\n"
     ]
    },
    {
     "cell_type": "code",
     "collapsed": false,
     "input": [
      "from pyatoa import Config, Manager\n",
      "\n",
      "cfg = Config()\n",
      "print(f\">>> print(cfg.paths)\\n{cfg.paths}\")"
     ],
     "language": "python",
     "metadata": {},
     "outputs": [],
     "prompt_number": null
    },
    {
     "cell_type": "code",
     "collapsed": false,
     "input": [
      "cfg.paths[\"waveforms\"].append(\"../tests/test_data/test_mseeds\")\n",
      "mgmt = Manager(config=cfg)\n",
      "mgmt.gather(station_code=\"NZ.BFZ\", choice=\"obs\")"
     ],
     "language": "python",
     "metadata": {},
     "outputs": [],
     "prompt_number": null
    },
    {
     "cell_type": "markdown",
     "metadata": {},
     "source": []
    },
    {
     "cell_type": "code",
     "collapsed": false,
     "input": [],
     "language": "python",
     "metadata": {},
     "outputs": [],
     "prompt_number": null
    }
   ],
   "metadata": {}
  }
 ]
}