{
 "metadata": {
  "kernelspec": {
   "display_name": "Python 3",
   "language": "python",
   "name": "python3"
  },
  "language_info": {
   "codemirror_mode": {
    "name": "ipython",
    "version": 3
   },
   "file_extension": ".py",
   "mimetype": "text/x-python",
   "name": "python",
   "nbconvert_exporter": "python",
   "pygments_lexer": "ipython3",
   "version": "3.7.3"
  },
  "name": ""
 },
 "nbformat": 3,
 "nbformat_minor": 0,
 "worksheets": [
  {
   "cells": [
    {
     "cell_type": "markdown",
     "metadata": {},
     "source": [
      "# Data storage\n",
      "\n",
      "Pyatoa stores data using [PyASDF ASDFDataSets](https://seismicdata.github.io/pyasdf/asdf_data_set.html), which are seismological data structures built upon the HDF5 file format. \n",
      "\n",
      "Datasets are hierarchical (tree-like), portable, compressible, and self-describing or containing both data and metadata.  They are built around ObsPy objects, removing any need for conversions in the transition from data storage to data processing.\n",
      "\n",
      "An `ASDFDataSet` can be passed directly to the `Manager` class. By default, gathered data and processed results will automatically be stored inside the dataset following a pre-defined naming convention. Naming schemes are set using parameters in the `Config` object. \n",
      "\n",
      "Below we show how data is saved throughout a workflow, and how it can be accessed using PyASDF and Pyatoa.\n",
      "\n",
      "For a detailed tutorial on the `ASDFDataSet`, see: https://seismicdata.github.io/pyasdf/tutorial.html"
     ]
    },
    {
     "cell_type": "code",
     "collapsed": false,
     "input": [
      "import os\n",
      "import obspy\n",
      "from pyatoa import Config, Manager, logger\n",
      "from pyasdf import ASDFDataSet\n",
      "\n",
      "logger.setLevel(\"DEBUG\")\n",
      "\n",
      "# Load in the test data\n",
      "inv = obspy.read_inventory(\"../tests/test_data/test_dataless_NZ_BFZ.xml\")\n",
      "cat = obspy.read_events(\"../tests/test_data/test_catalog_2018p130600.xml\")\n",
      "event = cat[0]\n",
      "st_obs = obspy.read(\"../tests/test_data/test_obs_data_NZ_BFZ_2018p130600.ascii\")\n",
      "st_syn = obspy.read(\"../tests/test_data/test_syn_data_NZ_BFZ_2018p130600.ascii\")"
     ],
     "language": "python",
     "metadata": {},
     "outputs": [],
     "prompt_number": null
    },
    {
     "cell_type": "markdown",
     "metadata": {},
     "source": [
      "---\n",
      "## Initializing \n",
      "\n",
      "First we must open a new `ASDFDataSet` file. We will fill it with data from the `Manager`.  \n",
      "`ASDFDataSet`s can also be used as a context manager, using the `with` argument. This ensures the file is closed after use."
     ]
    },
    {
     "cell_type": "code",
     "collapsed": false,
     "input": [
      "# Make sure we aren't trying to write to a file that exists\n",
      "ds_fid = \"../tests/test_data/test_ASDFDataSet.h5\"\n",
      "os.remove(ds_fid)\n",
      "\n",
      "ds = ASDFDataSet(ds_fid)\n",
      "print(ds)"
     ],
     "language": "python",
     "metadata": {},
     "outputs": [],
     "prompt_number": null
    },
    {
     "cell_type": "markdown",
     "metadata": {},
     "source": [
      "We can pass the `ASDFDataSet` ds directly to the initialization of the `Manager` class.  \n",
      "The string representation of the `Manager` class shows us that the `ASDFDataSet` has been attached, by showing the name of the dataset.\n",
      "\n",
      "> **__NOTE__:** In Pyatoa, by convention, each event gets its own `ASDFDataSet`; each `ASDFDataSet` should be named using a unique event identifier. This ensures that files are kept a reasonable size and avoids the need for more complicated internal naming schemes. "
     ]
    },
    {
     "cell_type": "code",
     "collapsed": false,
     "input": [
      "mgmt = Manager(ds=ds, config=Config(), inv=inv, event=event, st_obs=st_obs, st_syn=st_syn)\n",
      "print(mgmt)"
     ],
     "language": "python",
     "metadata": {},
     "outputs": [],
     "prompt_number": null
    },
    {
     "cell_type": "markdown",
     "metadata": {},
     "source": [
      "---\n",
      "## Manually writing data\n",
      "\n",
      "We can save the current Manager data using the `Manager.write()` function. \n",
      "The Pyatoa `Config` object can also be written to the `ASDFDataSet` using the `Config.write()` function.  \n",
      "\n",
      "Once written, we see the `ASDFDataSet` has been populated with event and station metadata, waveform data, and Config information."
     ]
    },
    {
     "cell_type": "code",
     "collapsed": false,
     "input": [
      "mgmt.write()\n",
      "mgmt.config.write(write_to=ds)"
     ],
     "language": "python",
     "metadata": {},
     "outputs": [],
     "prompt_number": null
    },
    {
     "cell_type": "code",
     "collapsed": false,
     "input": [
      "ds"
     ],
     "language": "python",
     "metadata": {},
     "outputs": [],
     "prompt_number": null
    },
    {
     "cell_type": "code",
     "collapsed": false,
     "input": [
      "ds.events"
     ],
     "language": "python",
     "metadata": {},
     "outputs": [],
     "prompt_number": null
    },
    {
     "cell_type": "code",
     "collapsed": false,
     "input": [
      "ds.waveforms.list()"
     ],
     "language": "python",
     "metadata": {},
     "outputs": [],
     "prompt_number": null
    },
    {
     "cell_type": "code",
     "collapsed": false,
     "input": [
      "ds.auxiliary_data.Configs"
     ],
     "language": "python",
     "metadata": {},
     "outputs": [],
     "prompt_number": null
    },
    {
     "cell_type": "markdown",
     "metadata": {},
     "source": [
      "---\n",
      "## Automatically written data\n",
      "\n",
      "During a Pyatoa workflow, individual functions will automatically write their outputs into the given `ASDFDataSet`.  \n",
      "Here the log statements show the `Manager.window()` and `Manager.measure()` functions saving their outputs into the data set."
     ]
    },
    {
     "cell_type": "code",
     "collapsed": false,
     "input": [
      "mgmt.standardize().preprocess();"
     ],
     "language": "python",
     "metadata": {},
     "outputs": [],
     "prompt_number": null
    },
    {
     "cell_type": "code",
     "collapsed": false,
     "input": [
      "mgmt.window();"
     ],
     "language": "python",
     "metadata": {},
     "outputs": [],
     "prompt_number": null
    },
    {
     "cell_type": "code",
     "collapsed": false,
     "input": [
      "mgmt.measure();"
     ],
     "language": "python",
     "metadata": {},
     "outputs": [],
     "prompt_number": null
    },
    {
     "cell_type": "markdown",
     "metadata": {},
     "source": [
      "---\n",
      "## Accessing saved data using PyASDF\n",
      "\n",
      "All saved data can be accessed using `ASDFDataSet` attributes.  \n",
      "For a more thorough explanation of accessing data with an `ASDFDataSet`, see: https://seismicdata.github.io/pyasdf/index.html\n",
      "\n",
      "**Event metadata** is stored as an ObsPy `Catalog` object in the `ASDFDataSet.events` attribute.  "
     ]
    },
    {
     "cell_type": "code",
     "collapsed": false,
     "input": [
      "ds.events[0]"
     ],
     "language": "python",
     "metadata": {},
     "outputs": [],
     "prompt_number": null
    },
    {
     "cell_type": "markdown",
     "metadata": {},
     "source": [
      "---\n",
      "**Waveforms** are stored as ObsPy `Stream` objects, and **station metadata** is stored as ObsPy `Inventory` objects.  \n",
      "They are stored together in the `ASDFDataSet.waveforms` attribute.  "
     ]
    },
    {
     "cell_type": "code",
     "collapsed": false,
     "input": [
      "ds.waveforms.NZ_BFZ.StationXML"
     ],
     "language": "python",
     "metadata": {},
     "outputs": [],
     "prompt_number": null
    },
    {
     "cell_type": "code",
     "collapsed": false,
     "input": [
      "ds.waveforms.NZ_BFZ.observed + ds.waveforms.NZ_BFZ.synthetic"
     ],
     "language": "python",
     "metadata": {},
     "outputs": [],
     "prompt_number": null
    },
    {
     "cell_type": "markdown",
     "metadata": {},
     "source": [
      "-----\n",
      "**Misfit windows**, **Adjoint Sources**, and **Configuration parameters** are stored in the `ADSFDataSet.auxiliary_data` attribute."
     ]
    },
    {
     "cell_type": "code",
     "collapsed": false,
     "input": [
      "ds.auxiliary_data"
     ],
     "language": "python",
     "metadata": {},
     "outputs": [],
     "prompt_number": null
    },
    {
     "cell_type": "markdown",
     "metadata": {},
     "source": [
      "If no `iteration` or `step_count` attributes are provided to the `Config` object, auxiliary data will be stored using the `default` tag."
     ]
    },
    {
     "cell_type": "code",
     "collapsed": false,
     "input": [
      "ds.auxiliary_data.MisfitWindows"
     ],
     "language": "python",
     "metadata": {},
     "outputs": [],
     "prompt_number": null
    },
    {
     "cell_type": "code",
     "collapsed": false,
     "input": [
      "ds.auxiliary_data.MisfitWindows['default']"
     ],
     "language": "python",
     "metadata": {},
     "outputs": [],
     "prompt_number": null
    },
    {
     "cell_type": "code",
     "collapsed": false,
     "input": [
      "ds.auxiliary_data.MisfitWindows.default.NZ_BFZ_E_0"
     ],
     "language": "python",
     "metadata": {},
     "outputs": [],
     "prompt_number": null
    },
    {
     "cell_type": "code",
     "collapsed": false,
     "input": [
      "ds.auxiliary_data.AdjointSources"
     ],
     "language": "python",
     "metadata": {},
     "outputs": [],
     "prompt_number": null
    },
    {
     "cell_type": "code",
     "collapsed": false,
     "input": [
      "ds.auxiliary_data.AdjointSources.default"
     ],
     "language": "python",
     "metadata": {},
     "outputs": [],
     "prompt_number": null
    },
    {
     "cell_type": "code",
     "collapsed": false,
     "input": [
      "ds.auxiliary_data.AdjointSources.default.NZ_BFZ_BXE"
     ],
     "language": "python",
     "metadata": {},
     "outputs": [],
     "prompt_number": null
    },
    {
     "cell_type": "markdown",
     "metadata": {},
     "source": [
      "---\n",
      "## Re-loading data using the Manager\n",
      "\n",
      "Data previously saved into an `ASDFDataSet` can be loaded back into a `Manager` class using the `Manager.load()` function. The `load()` function will search for matching metadata, waveforms and configuration parameters, based on the `path` argument provided."
     ]
    },
    {
     "cell_type": "code",
     "collapsed": false,
     "input": [
      "mgmt = Manager(ds=ds)\n",
      "mgmt.load(code=\"NZ.BFZ\", path=\"default\")"
     ],
     "language": "python",
     "metadata": {},
     "outputs": [],
     "prompt_number": null
    },
    {
     "cell_type": "markdown",
     "metadata": {},
     "source": [
      "Misfit windows and adjoint sources are not explicitely re-loaded. Windows can be loaded using optional arguments in the `Manager.window()` function."
     ]
    },
    {
     "cell_type": "markdown",
     "metadata": {},
     "source": [
      "---\n",
      "## Saving data during an inversion\n",
      "\n",
      "For each function evaluation, a new set of synthetic waveforms, misfit windows, adjoint sources and (potentially) configuration parameters, are defined. Therefore, unique tags are required to save and load this information in a reliable manner. \n",
      "\n",
      "Pyatoa tags using the `Config.iteration` and `Config.step_count` attributes to define unique tags during an inversion."
     ]
    },
    {
     "cell_type": "code",
     "collapsed": false,
     "input": [
      "# Set the config iteration and step_count parameters\n",
      "cfg = Config(iteration=1, step_count=0)\n",
      "\n",
      "# Remove the previously created dataset\n",
      "os.remove(ds_fid)\n",
      "ds = ASDFDataSet(ds_fid)\n",
      "\n",
      "cfg.write(write_to=ds)\n",
      "mgmt = Manager(ds=ds, config=cfg, inv=inv, event=event, st_obs=st_obs, st_syn=st_syn)\n",
      "mgmt.write()\n",
      "mgmt.flow()"
     ],
     "language": "python",
     "metadata": {},
     "outputs": [],
     "prompt_number": null
    },
    {
     "cell_type": "markdown",
     "metadata": {},
     "source": [
      "The `ASDFDataSet` is now populated with appropriately tagged data, denoting which function evaluation it belongs to."
     ]
    },
    {
     "cell_type": "code",
     "collapsed": false,
     "input": [
      "ds.waveforms.NZ_BFZ"
     ],
     "language": "python",
     "metadata": {},
     "outputs": [],
     "prompt_number": null
    },
    {
     "cell_type": "code",
     "collapsed": false,
     "input": [
      "ds.waveforms.NZ_BFZ.synthetic_i01s00"
     ],
     "language": "python",
     "metadata": {},
     "outputs": [],
     "prompt_number": null
    },
    {
     "cell_type": "markdown",
     "metadata": {},
     "source": [
      "Auxiliary data will be tagged in a similar fashion, making it simple to re-access specific function evaluations."
     ]
    },
    {
     "cell_type": "code",
     "collapsed": false,
     "input": [
      "ds.auxiliary_data.MisfitWindows"
     ],
     "language": "python",
     "metadata": {},
     "outputs": [],
     "prompt_number": null
    },
    {
     "cell_type": "code",
     "collapsed": false,
     "input": [
      "ds.auxiliary_data.MisfitWindows.i01"
     ],
     "language": "python",
     "metadata": {},
     "outputs": [],
     "prompt_number": null
    },
    {
     "cell_type": "code",
     "collapsed": false,
     "input": [
      "ds.auxiliary_data.MisfitWindows.i01.s00"
     ],
     "language": "python",
     "metadata": {},
     "outputs": [],
     "prompt_number": null
    },
    {
     "cell_type": "markdown",
     "metadata": {},
     "source": [
      "Using the `Manager.load()` function, we can specify the unique `path` to determine which function evaluation we want to retrieve data from."
     ]
    },
    {
     "cell_type": "code",
     "collapsed": false,
     "input": [
      "mgmt = Manager(ds=ds)\n",
      "mgmt.load(\"NZ.BFZ\", path=\"i01/s00\", synthetic_tag=\"synthetic_i01s00\")\n",
      "mgmt.standardize().preprocess()"
     ],
     "language": "python",
     "metadata": {},
     "outputs": [],
     "prompt_number": null
    },
    {
     "cell_type": "markdown",
     "metadata": {},
     "source": [
      "We can now load in previously retrieved windows from the dataset, using the `Manager.window()` function.  \n",
      "Windows misfit criteria will be re-evaluated using the current set of data. We can turn off automatic window saving using the optional `save` argument."
     ]
    },
    {
     "cell_type": "code",
     "collapsed": false,
     "input": [
      "mgmt.window(fix_windows=True, iteration=1, step_count=0, save=False)"
     ],
     "language": "python",
     "metadata": {},
     "outputs": [],
     "prompt_number": null
    },
    {
     "cell_type": "markdown",
     "metadata": {},
     "source": [
      "*easy peasy mate*"
     ]
    }
   ],
   "metadata": {}
  }
 ]
}