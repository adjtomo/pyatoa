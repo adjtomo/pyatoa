{
 "cells": [
  {
   "cell_type": "markdown",
   "metadata": {},
   "source": [
    "# Data storage\n",
    "\n",
    "Pyatoa stores data using [PyASDF ASDFDataSets](https://seismicdata.github.io/pyasdf/asdf_data_set.html), which are seismological data structures built upon the HDF5 file format. \n",
    "\n",
    "Datasets are hierarchical (tree-like), portable, compressible, and self-describing or containing both data and metadata.  They are built around ObsPy objects, removing any need for conversions in the transition from data storage to data processing.\n",
    "\n",
    "An `ASDFDataSet` can be passed directly to the `Manager` class. By default, gathered data and processed results will automatically be stored inside the dataset following a pre-defined naming convention. Naming schemes are set using parameters in the `Config` object. \n",
    "\n",
    "Below we show how data is saved throughout a workflow, and how it can be accessed using PyASDF and Pyatoa.\n",
    "\n",
    "For a detailed tutorial on the `ASDFDataSet`, see: https://seismicdata.github.io/pyasdf/tutorial.html"
   ]
  },
  {
   "cell_type": "code",
   "execution_count": 1,
   "metadata": {},
   "outputs": [],
   "source": [
    "import os\n",
    "import obspy\n",
    "from pyatoa import Config, Manager, logger\n",
    "from pyasdf import ASDFDataSet\n",
    "\n",
    "logger.setLevel(\"DEBUG\")\n",
    "\n",
    "# Load in the test data\n",
    "inv = obspy.read_inventory(\"../tests/test_data/test_dataless_NZ_BFZ.xml\")\n",
    "cat = obspy.read_events(\"../tests/test_data/test_catalog_2018p130600.xml\")\n",
    "event = cat[0]\n",
    "st_obs = obspy.read(\"../tests/test_data/test_obs_data_NZ_BFZ_2018p130600.ascii\")\n",
    "st_syn = obspy.read(\"../tests/test_data/test_syn_data_NZ_BFZ_2018p130600.ascii\")"
   ]
  },
  {
   "cell_type": "markdown",
   "metadata": {},
   "source": [
    "---\n",
    "## Initializing \n",
    "\n",
    "First we must open a new `ASDFDataSet` file. We will fill it with data from the `Manager`.  \n",
    "`ASDFDataSet`s can also be used as a context manager, using the `with` argument. This ensures the file is closed after use."
   ]
  },
  {
   "cell_type": "code",
   "execution_count": 2,
   "metadata": {},
   "outputs": [
    {
     "name": "stdout",
     "output_type": "stream",
     "text": [
      "ASDF file [format version: 1.0.3]: '../tests/test_data/test_ASDFDataSet.h5' (96.0 bytes)\n",
      "\tContains 0 event(s)\n",
      "\tContains waveform data from 0 station(s).\n"
     ]
    }
   ],
   "source": [
    "# Make sure we aren't trying to write to a file that exists\n",
    "ds_fid = \"../tests/test_data/test_ASDFDataSet.h5\"\n",
    "os.remove(ds_fid)\n",
    "\n",
    "ds = ASDFDataSet(ds_fid)\n",
    "print(ds)"
   ]
  },
  {
   "cell_type": "markdown",
   "metadata": {},
   "source": [
    "We can pass the `ASDFDataSet` ds directly to the initialization of the `Manager` class.  \n",
    "The string representation of the `Manager` class shows us that the `ASDFDataSet` has been attached, by showing the name of the dataset.\n",
    "\n",
    "**Note:** In Pyatoa, by convention, each event gets its own `ASDFDataSet`; each `ASDFDataSet` should be named using a unique event identifier.  \n",
    "This ensures that files are kept a reasonable size and avoids the need for more complicated internal naming schemes. "
   ]
  },
  {
   "cell_type": "code",
   "execution_count": 3,
   "metadata": {},
   "outputs": [
    {
     "name": "stdout",
     "output_type": "stream",
     "text": [
      "Manager Data\n",
      "    dataset   [ds]:        test_ASDFDataSet.h5\n",
      "    quakeml   [event]:     smi:nz.org.geonet/2018p130600\n",
      "    station   [inv]:       NZ.BFZ\n",
      "    observed  [st_obs]:    3\n",
      "    synthetic [st_syn]:    3\n",
      "Stats and Status\n",
      "    half_dur:              0\n",
      "    time_offset_sec:       0\n",
      "    standardized:          False\n",
      "    obs_filtered:          False\n",
      "    syn_filtered:          False\n",
      "    nwin (windows):        0\n",
      "    misfit (adjsrcs):      0.00E+00\n",
      "\n"
     ]
    }
   ],
   "source": [
    "mgmt = Manager(ds=ds, config=Config(), inv=inv, event=event, st_obs=st_obs, st_syn=st_syn)\n",
    "print(mgmt)"
   ]
  },
  {
   "cell_type": "markdown",
   "metadata": {},
   "source": [
    "---\n",
    "## Manually writing data\n",
    "\n",
    "We can save the current Manager data using the `Manager.write()` function. \n",
    "The Pyatoa `Config` object can also be written to the `ASDFDataSet` using the `Config.write()` function.  \n",
    "\n",
    "Once written, we see the `ASDFDataSet` has been populated with event and station metadata, waveform data, and Config information."
   ]
  },
  {
   "cell_type": "code",
   "execution_count": 4,
   "metadata": {},
   "outputs": [],
   "source": [
    "mgmt.write()\n",
    "mgmt.config.write(write_to=ds)"
   ]
  },
  {
   "cell_type": "code",
   "execution_count": 5,
   "metadata": {},
   "outputs": [
    {
     "data": {
      "text/plain": [
       "ASDF file [format version: 1.0.3]: '../tests/test_data/test_ASDFDataSet.h5' (495.4 KB)\n",
       "\tContains 1 event(s)\n",
       "\tContains waveform data from 1 station(s).\n",
       "\tContains 1 type(s) of auxiliary data: Configs"
      ]
     },
     "execution_count": 5,
     "metadata": {},
     "output_type": "execute_result"
    }
   ],
   "source": [
    "ds"
   ]
  },
  {
   "cell_type": "code",
   "execution_count": 6,
   "metadata": {},
   "outputs": [
    {
     "data": {
      "text/plain": [
       "1 Event(s) in Catalog:\n",
       "2018-02-18T07:43:48.127644Z | -39.949, +176.300 | 5.156706293 M  | manual"
      ]
     },
     "execution_count": 6,
     "metadata": {},
     "output_type": "execute_result"
    }
   ],
   "source": [
    "ds.events"
   ]
  },
  {
   "cell_type": "code",
   "execution_count": 7,
   "metadata": {},
   "outputs": [
    {
     "data": {
      "text/plain": [
       "['NZ.BFZ']"
      ]
     },
     "execution_count": 7,
     "metadata": {},
     "output_type": "execute_result"
    }
   ],
   "source": [
    "ds.waveforms.list()"
   ]
  },
  {
   "cell_type": "code",
   "execution_count": 8,
   "metadata": {},
   "outputs": [
    {
     "data": {
      "text/plain": [
       "1 auxiliary data item(s) of type 'Configs' available:\n",
       "\tdefault"
      ]
     },
     "execution_count": 8,
     "metadata": {},
     "output_type": "execute_result"
    }
   ],
   "source": [
    "ds.auxiliary_data.Configs"
   ]
  },
  {
   "cell_type": "markdown",
   "metadata": {},
   "source": [
    "---\n",
    "## Automatically written data\n",
    "\n",
    "During a Pyatoa workflow, individual functions will automatically write their outputs into the given `ASDFDataSet`.  \n",
    "Here the log statements show the `Manager.window()` and `Manager.measure()` functions saving their outputs into the data set."
   ]
  },
  {
   "cell_type": "code",
   "execution_count": 9,
   "metadata": {},
   "outputs": [
    {
     "name": "stderr",
     "output_type": "stream",
     "text": [
      "[2020-08-11 17:36:54] - pyatoa - INFO: standardizing streams\n",
      "[2020-08-11 17:36:54] - pyatoa - DEBUG: zero pad NZ.BFZ.10.HHE (0, 0) samples\n",
      "[2020-08-11 17:36:54] - pyatoa - DEBUG: new starttime NZ.BFZ.10.HHE: 2018-02-18T07:43:28.127644Z\n",
      "[2020-08-11 17:36:54] - pyatoa - DEBUG: zero pad NZ.BFZ.10.HHN (0, 0) samples\n",
      "[2020-08-11 17:36:54] - pyatoa - DEBUG: new starttime NZ.BFZ.10.HHN: 2018-02-18T07:43:28.127644Z\n",
      "[2020-08-11 17:36:54] - pyatoa - DEBUG: zero pad NZ.BFZ.10.HHZ (0, 0) samples\n",
      "[2020-08-11 17:36:54] - pyatoa - DEBUG: new starttime NZ.BFZ.10.HHZ: 2018-02-18T07:43:28.127644Z\n",
      "[2020-08-11 17:36:54] - pyatoa - DEBUG: time offset is -20.0s\n",
      "[2020-08-11 17:36:54] - pyatoa - INFO: preprocessing observation data\n",
      "[2020-08-11 17:36:54] - pyatoa - INFO: adjusting taper to cover time offset\n",
      "[2020-08-11 17:36:54] - pyatoa - DEBUG: remove response, units of DISP\n",
      "[2020-08-11 17:36:55] - pyatoa - DEBUG: bandpass filter 10.0-30.0s w/ 2.0 corners\n",
      "[2020-08-11 17:36:55] - pyatoa - INFO: preprocessing synthetic data\n",
      "[2020-08-11 17:36:55] - pyatoa - INFO: adjusting taper to cover time offset\n",
      "[2020-08-11 17:36:55] - pyatoa - DEBUG: bandpass filter 10.0-30.0s w/ 2.0 corners\n"
     ]
    }
   ],
   "source": [
    "mgmt.standardize().preprocess();"
   ]
  },
  {
   "cell_type": "code",
   "execution_count": 10,
   "metadata": {},
   "outputs": [
    {
     "name": "stderr",
     "output_type": "stream",
     "text": [
      "[2020-08-11 17:36:55] - pyatoa - INFO: running Pyflex w/ map: default\n",
      "[2020-08-11 17:36:55] - pyatoa - INFO: 1 window(s) selected for comp Z\n",
      "[2020-08-11 17:36:55] - pyatoa - INFO: 1 window(s) selected for comp N\n",
      "[2020-08-11 17:36:55] - pyatoa - INFO: 1 window(s) selected for comp E\n",
      "[2020-08-11 17:36:55] - pyatoa - DEBUG: saving misfit windows to ASDFDataSet\n",
      "[2020-08-11 17:36:55] - pyatoa - INFO: 3 window(s) total found\n"
     ]
    }
   ],
   "source": [
    "mgmt.window();"
   ]
  },
  {
   "cell_type": "code",
   "execution_count": 11,
   "metadata": {},
   "outputs": [
    {
     "name": "stderr",
     "output_type": "stream",
     "text": [
      "[2020-08-11 17:36:55] - pyatoa - DEBUG: running Pyadjoint w/ type: cc_traveltime_misfit\n",
      "[2020-08-11 17:36:55] - pyatoa - INFO: 0.007 misfit for comp Z\n",
      "[2020-08-11 17:36:55] - pyatoa - INFO: 1.786 misfit for comp N\n",
      "[2020-08-11 17:36:55] - pyatoa - INFO: 0.389 misfit for comp E\n",
      "[2020-08-11 17:36:55] - pyatoa - DEBUG: saving adjoint sources to ASDFDataSet\n",
      "[2020-08-11 17:36:55] - pyatoa - INFO: total misfit 2.182\n"
     ]
    }
   ],
   "source": [
    "mgmt.measure();"
   ]
  },
  {
   "cell_type": "markdown",
   "metadata": {},
   "source": [
    "---\n",
    "## Accessing saved data using PyASDF\n",
    "\n",
    "All saved data can be accessed using `ASDFDataSet` attributes.  \n",
    "For a more thorough explanation of accessing data with an `ASDFDataSet`, see: https://seismicdata.github.io/pyasdf/index.html\n",
    "\n",
    "**Event metadata** is stored as an ObsPy `Catalog` object in the `ASDFDataSet.events` attribute.  "
   ]
  },
  {
   "cell_type": "code",
   "execution_count": 12,
   "metadata": {},
   "outputs": [
    {
     "data": {
      "text/plain": [
       "Event:\t2018-02-18T07:43:48.127644Z | -39.949, +176.300 | 5.156706293 M  | manual\n",
       "\n",
       "\t                  resource_id: ResourceIdentifier(id=\"smi:nz.org.geonet/2018p130600\")\n",
       "\t                   event_type: 'earthquake'\n",
       "\t                creation_info: CreationInfo(agency_id='WEL(GNS_Primary)', author='scevent@kseqp01.geonet.org.nz', creation_time=UTCDateTime(2018, 2, 18, 7, 44, 9, 156454))\n",
       "\t          preferred_origin_id: ResourceIdentifier(id=\"smi:nz.org.geonet/Origin#20180226021110.13419.62761\")\n",
       "\t       preferred_magnitude_id: ResourceIdentifier(id=\"smi:nz.org.geonet/Origin#20180226021110.13419.62761#netMag.M\")\n",
       "\t preferred_focal_mechanism_id: ResourceIdentifier(id=\"smi:local/ad83e11b-cc91-4de7-9cd0-5c51f99e1062\")\n",
       "\t                         ---------\n",
       "\t           event_descriptions: 1 Elements\n",
       "\t             focal_mechanisms: 1 Elements\n",
       "\t                      origins: 1 Elements\n",
       "\t                   magnitudes: 3 Elements"
      ]
     },
     "execution_count": 12,
     "metadata": {},
     "output_type": "execute_result"
    }
   ],
   "source": [
    "ds.events[0]"
   ]
  },
  {
   "cell_type": "markdown",
   "metadata": {},
   "source": [
    "---\n",
    "**Waveforms** are stored as ObsPy `Stream` objects, and **station metadata** is stored as ObsPy `Inventory` objects.  \n",
    "They are stored together in the `ASDFDataSet.waveforms` attribute.  "
   ]
  },
  {
   "cell_type": "code",
   "execution_count": 13,
   "metadata": {},
   "outputs": [
    {
     "data": {
      "text/plain": [
       "Inventory created at 2020-02-02T22:21:59.000000Z\n",
       "\tCreated by: Delta\n",
       "\t\t    None\n",
       "\tSending institution: GeoNet (WEL(GNS_Test))\n",
       "\tContains:\n",
       "\t\tNetworks (1):\n",
       "\t\t\tNZ\n",
       "\t\tStations (1):\n",
       "\t\t\tNZ.BFZ (Birch Farm)\n",
       "\t\tChannels (3):\n",
       "\t\t\tNZ.BFZ.10.HHZ, NZ.BFZ.10.HHN, NZ.BFZ.10.HHE"
      ]
     },
     "execution_count": 13,
     "metadata": {},
     "output_type": "execute_result"
    }
   ],
   "source": [
    "ds.waveforms.NZ_BFZ.StationXML"
   ]
  },
  {
   "cell_type": "code",
   "execution_count": 14,
   "metadata": {},
   "outputs": [
    {
     "data": {
      "text/plain": [
       "6 Trace(s) in Stream:\n",
       "NZ.BFZ.10.HHE | 2018-02-18T07:43:28.128394Z - 2018-02-18T07:49:38.128394Z | 100.0 Hz, 37001 samples\n",
       "NZ.BFZ.10.HHN | 2018-02-18T07:43:28.128394Z - 2018-02-18T07:49:38.128394Z | 100.0 Hz, 37001 samples\n",
       "NZ.BFZ.10.HHZ | 2018-02-18T07:43:28.128394Z - 2018-02-18T07:49:38.128394Z | 100.0 Hz, 37001 samples\n",
       "NZ.BFZ..BXE   | 2018-02-18T07:43:28.127644Z - 2018-02-18T07:48:28.097644Z | 33.3 Hz, 10000 samples\n",
       "NZ.BFZ..BXN   | 2018-02-18T07:43:28.127644Z - 2018-02-18T07:48:28.097644Z | 33.3 Hz, 10000 samples\n",
       "NZ.BFZ..BXZ   | 2018-02-18T07:43:28.127644Z - 2018-02-18T07:48:28.097644Z | 33.3 Hz, 10000 samples"
      ]
     },
     "execution_count": 14,
     "metadata": {},
     "output_type": "execute_result"
    }
   ],
   "source": [
    "ds.waveforms.NZ_BFZ.observed + ds.waveforms.NZ_BFZ.synthetic"
   ]
  },
  {
   "cell_type": "markdown",
   "metadata": {},
   "source": [
    "-----\n",
    "**Misfit windows**, **Adjoint Sources**, and **Configuration parameters** are stored in the `ADSFDataSet.auxiliary_data` attribute."
   ]
  },
  {
   "cell_type": "code",
   "execution_count": 15,
   "metadata": {},
   "outputs": [
    {
     "data": {
      "text/plain": [
       "Data set contains the following auxiliary data types:\n",
       "\tAdjointSources (1 item(s))\n",
       "\tConfigs (1 item(s))\n",
       "\tMisfitWindows (1 item(s))"
      ]
     },
     "execution_count": 15,
     "metadata": {},
     "output_type": "execute_result"
    }
   ],
   "source": [
    "ds.auxiliary_data"
   ]
  },
  {
   "cell_type": "markdown",
   "metadata": {},
   "source": [
    "If no `iteration` or `step_count` attributes are provided to the `Config` object, auxiliary data will be stored using the `default` tag."
   ]
  },
  {
   "cell_type": "code",
   "execution_count": 16,
   "metadata": {},
   "outputs": [
    {
     "data": {
      "text/plain": [
       "1 auxiliary data sub group(s) of type 'MisfitWindows' available:\n",
       "\tdefault"
      ]
     },
     "execution_count": 16,
     "metadata": {},
     "output_type": "execute_result"
    }
   ],
   "source": [
    "ds.auxiliary_data.MisfitWindows"
   ]
  },
  {
   "cell_type": "code",
   "execution_count": 17,
   "metadata": {},
   "outputs": [
    {
     "data": {
      "text/plain": [
       "3 auxiliary data item(s) of type 'MisfitWindows/default' available:\n",
       "\tNZ_BFZ_E_0\n",
       "\tNZ_BFZ_N_0\n",
       "\tNZ_BFZ_Z_0"
      ]
     },
     "execution_count": 17,
     "metadata": {},
     "output_type": "execute_result"
    }
   ],
   "source": [
    "ds.auxiliary_data.MisfitWindows['default']"
   ]
  },
  {
   "cell_type": "code",
   "execution_count": 18,
   "metadata": {},
   "outputs": [
    {
     "data": {
      "text/plain": [
       "Auxiliary Data of Type 'MisfitWindows'\n",
       "\tPath: 'default/NZ_BFZ_E_0'\n",
       "\tData shape: '(2,)', dtype: 'int64'\n",
       "\tParameters:\n",
       "\t\tabsolute_endtime: 2018-02-18T07:44:45.197644Z\n",
       "\t\tabsolute_starttime: 2018-02-18T07:43:59.297644Z\n",
       "\t\tcc_shift_in_samples: 37\n",
       "\t\tcc_shift_in_seconds: 1.11\n",
       "\t\tcenter_index: 1804\n",
       "\t\tchannel_id: NZ.BFZ.10.HHE\n",
       "\t\tdlnA: -0.711305050319\n",
       "\t\tdt: 0.03\n",
       "\t\tleft_index: 1039\n",
       "\t\tmax_cc_value: 0.870828774375\n",
       "\t\tmin_period: 10.0\n",
       "\t\tphase_arrival_P: 15.2626263355\n",
       "\t\tphase_arrival_Pn: 15.1318939626\n",
       "\t\tphase_arrival_S: 25.7016469855\n",
       "\t\tphase_arrival_Sn: 25.6750945772\n",
       "\t\tphase_arrival_p: 14.0460406583\n",
       "\t\tphase_arrival_s: 23.6216670031\n",
       "\t\tphase_arrival_sP: 18.7800304978\n",
       "\t\trelative_endtime: 77.07\n",
       "\t\trelative_starttime: 31.17\n",
       "\t\tright_index: 2569\n",
       "\t\ttime_of_first_sample: 2018-02-18T07:43:28.127644Z\n",
       "\t\twindow_weight: 3.99710407438"
      ]
     },
     "execution_count": 18,
     "metadata": {},
     "output_type": "execute_result"
    }
   ],
   "source": [
    "ds.auxiliary_data.MisfitWindows.default.NZ_BFZ_E_0"
   ]
  },
  {
   "cell_type": "code",
   "execution_count": 19,
   "metadata": {},
   "outputs": [
    {
     "data": {
      "text/plain": [
       "1 auxiliary data sub group(s) of type 'AdjointSources' available:\n",
       "\tdefault"
      ]
     },
     "execution_count": 19,
     "metadata": {},
     "output_type": "execute_result"
    }
   ],
   "source": [
    "ds.auxiliary_data.AdjointSources"
   ]
  },
  {
   "cell_type": "code",
   "execution_count": 20,
   "metadata": {},
   "outputs": [
    {
     "data": {
      "text/plain": [
       "3 auxiliary data item(s) of type 'AdjointSources/default' available:\n",
       "\tNZ_BFZ_BXE\n",
       "\tNZ_BFZ_BXN\n",
       "\tNZ_BFZ_BXZ"
      ]
     },
     "execution_count": 20,
     "metadata": {},
     "output_type": "execute_result"
    }
   ],
   "source": [
    "ds.auxiliary_data.AdjointSources.default"
   ]
  },
  {
   "cell_type": "code",
   "execution_count": 21,
   "metadata": {},
   "outputs": [
    {
     "data": {
      "text/plain": [
       "Auxiliary Data of Type 'AdjointSources'\n",
       "\tPath: 'default/NZ_BFZ_BXE'\n",
       "\tData shape: '(10000, 2)', dtype: 'float64'\n",
       "\tParameters:\n",
       "\t\tadjoint_source_type: cc_traveltime_misfit\n",
       "\t\tcomponent: HHE\n",
       "\t\tdt: 0.03\n",
       "\t\televation_in_m: 283.0\n",
       "\t\tlatitude: -40.679647283\n",
       "\t\tlongitude: 176.246245098\n",
       "\t\tmax_period: 30.0\n",
       "\t\tmin_period: 10.0\n",
       "\t\tmisfit_value: 0.389050660535\n",
       "\t\tstation_id: NZ.BFZ\n",
       "\t\tunits: m"
      ]
     },
     "execution_count": 21,
     "metadata": {},
     "output_type": "execute_result"
    }
   ],
   "source": [
    "ds.auxiliary_data.AdjointSources.default.NZ_BFZ_BXE"
   ]
  },
  {
   "cell_type": "markdown",
   "metadata": {},
   "source": [
    "---\n",
    "## Re-loading data using the Manager\n",
    "\n",
    "Data previously saved into an `ASDFDataSet` can be loaded back into a `Manager` class using the `Manager.load()` function. The `load()` function will search for matching metadata, waveforms and configuration parameters, based on the `path` argument provided."
   ]
  },
  {
   "cell_type": "code",
   "execution_count": 22,
   "metadata": {},
   "outputs": [
    {
     "name": "stderr",
     "output_type": "stream",
     "text": [
      "[2020-08-11 17:36:56] - pyatoa - INFO: no Config found, initiating default\n"
     ]
    },
    {
     "data": {
      "text/plain": [
       "Manager Data\n",
       "    dataset   [ds]:        test_ASDFDataSet.h5\n",
       "    quakeml   [event]:     smi:nz.org.geonet/2018p130600\n",
       "    station   [inv]:       NZ.BFZ\n",
       "    observed  [st_obs]:    3\n",
       "    synthetic [st_syn]:    3\n",
       "Stats and Status\n",
       "    half_dur:              0\n",
       "    time_offset_sec:       0\n",
       "    standardized:          False\n",
       "    obs_filtered:          False\n",
       "    syn_filtered:          False\n",
       "    nwin (windows):        0\n",
       "    misfit (adjsrcs):      0.00E+00"
      ]
     },
     "execution_count": 22,
     "metadata": {},
     "output_type": "execute_result"
    }
   ],
   "source": [
    "mgmt = Manager(ds=ds)\n",
    "mgmt.load(code=\"NZ.BFZ\", path=\"default\")"
   ]
  },
  {
   "cell_type": "markdown",
   "metadata": {},
   "source": [
    "Misfit windows and adjoint sources are not explicitely re-loaded. Windows can be loaded using optional arguments in the `Manager.window()` function."
   ]
  },
  {
   "cell_type": "markdown",
   "metadata": {},
   "source": [
    "---\n",
    "## Saving data during an inversion\n",
    "\n",
    "For each function evaluation, a new set of synthetic waveforms, misfit windows, adjoint sources and (potentially) configuration parameters, are defined. Therefore, unique tags are required to save and load this information in a reliable manner. \n",
    "\n",
    "Pyatoa tags using the `Config.iteration` and `Config.step_count` attributes to define unique tags during an inversion."
   ]
  },
  {
   "cell_type": "code",
   "execution_count": 23,
   "metadata": {},
   "outputs": [
    {
     "name": "stderr",
     "output_type": "stream",
     "text": [
      "[2020-08-11 17:36:56] - pyatoa - INFO: standardizing streams\n",
      "[2020-08-11 17:36:56] - pyatoa - DEBUG: zero pad NZ.BFZ.10.HHE (0, 0) samples\n",
      "[2020-08-11 17:36:56] - pyatoa - DEBUG: new starttime NZ.BFZ.10.HHE: 2018-02-18T07:43:28.127644Z\n",
      "[2020-08-11 17:36:56] - pyatoa - DEBUG: zero pad NZ.BFZ.10.HHN (0, 0) samples\n",
      "[2020-08-11 17:36:56] - pyatoa - DEBUG: new starttime NZ.BFZ.10.HHN: 2018-02-18T07:43:28.127644Z\n",
      "[2020-08-11 17:36:56] - pyatoa - DEBUG: zero pad NZ.BFZ.10.HHZ (0, 0) samples\n",
      "[2020-08-11 17:36:56] - pyatoa - DEBUG: new starttime NZ.BFZ.10.HHZ: 2018-02-18T07:43:28.127644Z\n",
      "[2020-08-11 17:36:56] - pyatoa - DEBUG: time offset is -20.0s\n",
      "[2020-08-11 17:36:56] - pyatoa - INFO: preprocessing observation data\n",
      "[2020-08-11 17:36:56] - pyatoa - INFO: adjusting taper to cover time offset\n",
      "[2020-08-11 17:36:56] - pyatoa - DEBUG: remove response, units of DISP\n",
      "[2020-08-11 17:36:56] - pyatoa - DEBUG: bandpass filter 10.0-30.0s w/ 2.0 corners\n",
      "[2020-08-11 17:36:56] - pyatoa - INFO: preprocessing synthetic data\n",
      "[2020-08-11 17:36:56] - pyatoa - INFO: adjusting taper to cover time offset\n",
      "[2020-08-11 17:36:56] - pyatoa - DEBUG: bandpass filter 10.0-30.0s w/ 2.0 corners\n",
      "[2020-08-11 17:36:56] - pyatoa - INFO: running Pyflex w/ map: default\n",
      "[2020-08-11 17:36:56] - pyatoa - INFO: 1 window(s) selected for comp Z\n",
      "[2020-08-11 17:36:56] - pyatoa - INFO: 1 window(s) selected for comp N\n",
      "[2020-08-11 17:36:57] - pyatoa - INFO: 1 window(s) selected for comp E\n",
      "[2020-08-11 17:36:57] - pyatoa - DEBUG: saving misfit windows to ASDFDataSet\n",
      "[2020-08-11 17:36:57] - pyatoa - INFO: 3 window(s) total found\n",
      "[2020-08-11 17:36:57] - pyatoa - DEBUG: running Pyadjoint w/ type: cc_traveltime_misfit\n",
      "[2020-08-11 17:36:57] - pyatoa - INFO: 0.007 misfit for comp Z\n",
      "[2020-08-11 17:36:57] - pyatoa - INFO: 1.786 misfit for comp N\n",
      "[2020-08-11 17:36:57] - pyatoa - INFO: 0.389 misfit for comp E\n",
      "[2020-08-11 17:36:57] - pyatoa - DEBUG: saving adjoint sources to ASDFDataSet\n",
      "[2020-08-11 17:36:57] - pyatoa - INFO: total misfit 2.182\n"
     ]
    }
   ],
   "source": [
    "# Set the config iteration and step_count parameters\n",
    "cfg = Config(iteration=1, step_count=0)\n",
    "\n",
    "# Remove the previously created dataset\n",
    "os.remove(ds_fid)\n",
    "ds = ASDFDataSet(ds_fid)\n",
    "\n",
    "cfg.write(write_to=ds)\n",
    "mgmt = Manager(ds=ds, config=cfg, inv=inv, event=event, st_obs=st_obs, st_syn=st_syn)\n",
    "mgmt.write()\n",
    "mgmt.flow()"
   ]
  },
  {
   "cell_type": "markdown",
   "metadata": {},
   "source": [
    "The `ASDFDataSet` is now populated with appropriately tagged data, denoting which function evaluation it belongs to."
   ]
  },
  {
   "cell_type": "code",
   "execution_count": 24,
   "metadata": {},
   "outputs": [
    {
     "data": {
      "text/plain": [
       "Contents of the data set for station NZ.BFZ:\n",
       "    - Has a StationXML file\n",
       "    - 2 Waveform Tag(s):\n",
       "        observed\n",
       "        synthetic_i01s00"
      ]
     },
     "execution_count": 24,
     "metadata": {},
     "output_type": "execute_result"
    }
   ],
   "source": [
    "ds.waveforms.NZ_BFZ"
   ]
  },
  {
   "cell_type": "code",
   "execution_count": 25,
   "metadata": {},
   "outputs": [
    {
     "data": {
      "text/plain": [
       "3 Trace(s) in Stream:\n",
       "NZ.BFZ..BXE | 2018-02-18T07:43:28.127644Z - 2018-02-18T07:48:28.097644Z | 33.3 Hz, 10000 samples\n",
       "NZ.BFZ..BXN | 2018-02-18T07:43:28.127644Z - 2018-02-18T07:48:28.097644Z | 33.3 Hz, 10000 samples\n",
       "NZ.BFZ..BXZ | 2018-02-18T07:43:28.127644Z - 2018-02-18T07:48:28.097644Z | 33.3 Hz, 10000 samples"
      ]
     },
     "execution_count": 25,
     "metadata": {},
     "output_type": "execute_result"
    }
   ],
   "source": [
    "ds.waveforms.NZ_BFZ.synthetic_i01s00"
   ]
  },
  {
   "cell_type": "markdown",
   "metadata": {},
   "source": [
    "Auxiliary data will be tagged in a similar fashion, making it simple to re-access specific function evaluations."
   ]
  },
  {
   "cell_type": "code",
   "execution_count": 26,
   "metadata": {},
   "outputs": [
    {
     "data": {
      "text/plain": [
       "1 auxiliary data sub group(s) of type 'MisfitWindows' available:\n",
       "\ti01"
      ]
     },
     "execution_count": 26,
     "metadata": {},
     "output_type": "execute_result"
    }
   ],
   "source": [
    "ds.auxiliary_data.MisfitWindows"
   ]
  },
  {
   "cell_type": "code",
   "execution_count": 27,
   "metadata": {},
   "outputs": [
    {
     "data": {
      "text/plain": [
       "1 auxiliary data sub group(s) of type 'MisfitWindows/i01' available:\n",
       "\ts00"
      ]
     },
     "execution_count": 27,
     "metadata": {},
     "output_type": "execute_result"
    }
   ],
   "source": [
    "ds.auxiliary_data.MisfitWindows.i01"
   ]
  },
  {
   "cell_type": "code",
   "execution_count": 28,
   "metadata": {},
   "outputs": [
    {
     "data": {
      "text/plain": [
       "3 auxiliary data item(s) of type 'MisfitWindows/i01/s00' available:\n",
       "\tNZ_BFZ_E_0\n",
       "\tNZ_BFZ_N_0\n",
       "\tNZ_BFZ_Z_0"
      ]
     },
     "execution_count": 28,
     "metadata": {},
     "output_type": "execute_result"
    }
   ],
   "source": [
    "ds.auxiliary_data.MisfitWindows.i01.s00"
   ]
  },
  {
   "cell_type": "markdown",
   "metadata": {},
   "source": [
    "Using the `Manager.load()` function, we can specify the unique `path` to determine which function evaluation we want to retrieve data from."
   ]
  },
  {
   "cell_type": "code",
   "execution_count": 31,
   "metadata": {},
   "outputs": [
    {
     "name": "stderr",
     "output_type": "stream",
     "text": [
      "[2020-08-11 17:39:02] - pyatoa - INFO: no Config found, initiating default\n",
      "[2020-08-11 17:39:02] - pyatoa - INFO: standardizing streams\n",
      "[2020-08-11 17:39:02] - pyatoa - DEBUG: zero pad NZ.BFZ.10.HHE (0, 0) samples\n",
      "[2020-08-11 17:39:02] - pyatoa - DEBUG: new starttime NZ.BFZ.10.HHE: 2018-02-18T07:43:28.127644Z\n",
      "[2020-08-11 17:39:02] - pyatoa - DEBUG: zero pad NZ.BFZ.10.HHN (0, 0) samples\n",
      "[2020-08-11 17:39:02] - pyatoa - DEBUG: new starttime NZ.BFZ.10.HHN: 2018-02-18T07:43:28.127644Z\n",
      "[2020-08-11 17:39:02] - pyatoa - DEBUG: zero pad NZ.BFZ.10.HHZ (0, 0) samples\n",
      "[2020-08-11 17:39:02] - pyatoa - DEBUG: new starttime NZ.BFZ.10.HHZ: 2018-02-18T07:43:28.127644Z\n",
      "[2020-08-11 17:39:02] - pyatoa - DEBUG: time offset is -20.0s\n",
      "[2020-08-11 17:39:02] - pyatoa - INFO: preprocessing observation data\n",
      "[2020-08-11 17:39:02] - pyatoa - INFO: adjusting taper to cover time offset\n",
      "[2020-08-11 17:39:02] - pyatoa - DEBUG: remove response, units of DISP\n",
      "[2020-08-11 17:39:02] - pyatoa - DEBUG: bandpass filter 10.0-30.0s w/ 2.0 corners\n",
      "[2020-08-11 17:39:02] - pyatoa - INFO: preprocessing synthetic data\n",
      "[2020-08-11 17:39:02] - pyatoa - INFO: adjusting taper to cover time offset\n",
      "[2020-08-11 17:39:02] - pyatoa - DEBUG: bandpass filter 10.0-30.0s w/ 2.0 corners\n"
     ]
    },
    {
     "data": {
      "text/plain": [
       "Manager Data\n",
       "    dataset   [ds]:        test_ASDFDataSet.h5\n",
       "    quakeml   [event]:     smi:nz.org.geonet/2018p130600\n",
       "    station   [inv]:       NZ.BFZ\n",
       "    observed  [st_obs]:    3\n",
       "    synthetic [st_syn]:    3\n",
       "Stats and Status\n",
       "    half_dur:              0\n",
       "    time_offset_sec:       -20.0\n",
       "    standardized:          True\n",
       "    obs_filtered:          True\n",
       "    syn_filtered:          True\n",
       "    nwin (windows):        0\n",
       "    misfit (adjsrcs):      0.00E+00"
      ]
     },
     "execution_count": 31,
     "metadata": {},
     "output_type": "execute_result"
    }
   ],
   "source": [
    "mgmt = Manager(ds=ds)\n",
    "mgmt.load(\"NZ.BFZ\", path=\"i01/s00\", synthetic_tag=\"synthetic_i01s00\")\n",
    "mgmt.standardize().preprocess()"
   ]
  },
  {
   "cell_type": "markdown",
   "metadata": {},
   "source": [
    "We can now load in previously retrieved windows from the dataset, using the `Manager.window()` function.  \n",
    "Windows misfit criteria will be re-evaluated using the current set of data. We can turn off automatic window saving using the optional `save` argument."
   ]
  },
  {
   "cell_type": "code",
   "execution_count": 32,
   "metadata": {},
   "outputs": [
    {
     "name": "stderr",
     "output_type": "stream",
     "text": [
      "[2020-08-11 17:39:10] - pyatoa - INFO: retrieving windows from dataset\n",
      "[2020-08-11 17:39:10] - pyatoa - DEBUG: searching for windows in i01s00\n",
      "[2020-08-11 17:39:10] - pyatoa - DEBUG: 3 window(s) found in dataset for NZ.BFZ\n",
      "[2020-08-11 17:39:10] - pyatoa - DEBUG: recalculating window criteria\n",
      "[2020-08-11 17:39:10] - pyatoa - DEBUG: E0_old - cc:0.87 / dt:37.0 / dlnA:-0.71\n",
      "[2020-08-11 17:39:10] - pyatoa - DEBUG: E0_new - cc:0.87 / dt:37.0 / dlnA:-0.71\n",
      "[2020-08-11 17:39:10] - pyatoa - DEBUG: N0_old - cc:0.99 / dt:64.0 / dlnA:-0.83\n",
      "[2020-08-11 17:39:10] - pyatoa - DEBUG: N0_new - cc:0.99 / dt:64.0 / dlnA:-0.83\n",
      "[2020-08-11 17:39:10] - pyatoa - DEBUG: Z0_old - cc:0.99 / dt:0.0 / dlnA:-0.89\n",
      "[2020-08-11 17:39:10] - pyatoa - DEBUG: Z0_new - cc:0.99 / dt:0.0 / dlnA:-0.89\n",
      "[2020-08-11 17:39:10] - pyatoa - INFO: 3 window(s) total found\n"
     ]
    },
    {
     "data": {
      "text/plain": [
       "Manager Data\n",
       "    dataset   [ds]:        test_ASDFDataSet.h5\n",
       "    quakeml   [event]:     smi:nz.org.geonet/2018p130600\n",
       "    station   [inv]:       NZ.BFZ\n",
       "    observed  [st_obs]:    3\n",
       "    synthetic [st_syn]:    3\n",
       "Stats and Status\n",
       "    half_dur:              0\n",
       "    time_offset_sec:       -20.0\n",
       "    standardized:          True\n",
       "    obs_filtered:          True\n",
       "    syn_filtered:          True\n",
       "    nwin (windows):        3\n",
       "    misfit (adjsrcs):      0.00E+00"
      ]
     },
     "execution_count": 32,
     "metadata": {},
     "output_type": "execute_result"
    }
   ],
   "source": [
    "mgmt.window(fix_windows=True, iteration=1, step_count=0, save=False)"
   ]
  },
  {
   "cell_type": "markdown",
   "metadata": {},
   "source": [
    "*easy peasy mate*"
   ]
  }
 ],
 "metadata": {
  "kernelspec": {
   "display_name": "Python 3",
   "language": "python",
   "name": "python3"
  },
  "language_info": {
   "codemirror_mode": {
    "name": "ipython",
    "version": 3
   },
   "file_extension": ".py",
   "mimetype": "text/x-python",
   "name": "python",
   "nbconvert_exporter": "python",
   "pygments_lexer": "ipython3",
   "version": "3.7.3"
  }
 },
 "nbformat": 4,
 "nbformat_minor": 1
}
