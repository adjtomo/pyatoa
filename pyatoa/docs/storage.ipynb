{
 "cells": [
  {
   "cell_type": "markdown",
   "id": "541c2f68",
   "metadata": {},
   "source": [
    "# Data Storage\n",
    "\n",
    "Pyatoa stores data using [PyASDF ASDFDataSets](https://seismicdata.github.io/pyasdf/asdf_data_set.html), which are seismological data structures built upon the HDF5 file format. \n",
    "\n",
    "Datasets are hierarchical (tree-like), portable, compressible, and self-describing or containing both data and metadata.  They are built around ObsPy objects, removing any need for conversions in the transition from data storage to data processing.\n",
    "\n",
    "An `ASDFDataSet` can be passed directly to the `Manager` class. By default, gathered data and processed results will automatically be stored inside the dataset following a pre-defined naming convention. Naming schemes are set using parameters in the `Config` object. \n",
    "\n",
    "Below we show how data is saved throughout a workflow, and how it can be accessed using PyASDF and Pyatoa.\n",
    "\n",
    "For a detailed tutorial on the `ASDFDataSet`, see: https://seismicdata.github.io/pyasdf/tutorial.html"
   ]
  },
  {
   "cell_type": "code",
   "execution_count": 1,
   "id": "eb93f51d",
   "metadata": {
    "execution": {
     "iopub.execute_input": "2022-03-02T19:37:47.736099Z",
     "iopub.status.busy": "2022-03-02T19:37:47.735830Z",
     "iopub.status.idle": "2022-03-02T19:37:48.533366Z",
     "shell.execute_reply": "2022-03-02T19:37:48.533074Z"
    }
   },
   "outputs": [],
   "source": [
    "import os\n",
    "import obspy\n",
    "from pyatoa import Config, Manager, logger\n",
    "from pyasdf import ASDFDataSet\n",
    "\n",
    "logger.setLevel(\"DEBUG\")\n",
    "\n",
    "# Load in the test data\n",
    "inv = obspy.read_inventory(\"../tests/test_data/test_dataless_NZ_BFZ.xml\")\n",
    "cat = obspy.read_events(\"../tests/test_data/test_catalog_2018p130600.xml\")\n",
    "event = cat[0]\n",
    "st_obs = obspy.read(\"../tests/test_data/test_obs_data_NZ_BFZ_2018p130600.ascii\")\n",
    "st_syn = obspy.read(\"../tests/test_data/test_syn_data_NZ_BFZ_2018p130600.ascii\")"
   ]
  },
  {
   "cell_type": "markdown",
   "id": "50fbca62",
   "metadata": {},
   "source": [
    "---\n",
    "## Initializing \n",
    "\n",
    "First we must open a new `ASDFDataSet` file. We will fill it with data from the `Manager`.  \n",
    "`ASDFDataSet`s can also be used as a context manager, using the `with` argument. This ensures the file is closed after use."
   ]
  },
  {
   "cell_type": "code",
   "execution_count": 2,
   "id": "3b8b3412",
   "metadata": {
    "execution": {
     "iopub.execute_input": "2022-03-02T19:37:48.538288Z",
     "iopub.status.busy": "2022-03-02T19:37:48.538006Z",
     "iopub.status.idle": "2022-03-02T19:37:48.540077Z",
     "shell.execute_reply": "2022-03-02T19:37:48.539862Z"
    }
   },
   "outputs": [
    {
     "name": "stdout",
     "output_type": "stream",
     "text": [
      "ASDF file [format version: 1.0.3]: '../tests/test_data/docs_data/test_ASDFDataSet.h5' (96.0 bytes)\n",
      "\tContains 0 event(s)\n",
      "\tContains waveform data from 0 station(s).\n"
     ]
    }
   ],
   "source": [
    "# Fresh dataset: make sure we aren't trying to work with existing data\n",
    "ds_fid = \"../tests/test_data/docs_data/test_ASDFDataSet.h5\"\n",
    "if os.path.exists(ds_fid):\n",
    "    os.remove(ds_fid)\n",
    "\n",
    "ds = ASDFDataSet(ds_fid)\n",
    "print(ds)"
   ]
  },
  {
   "cell_type": "markdown",
   "id": "41ffce80",
   "metadata": {},
   "source": [
    "We can pass the `ASDFDataSet` ds directly to the initialization of the `Manager` class.  \n",
    "The string representation of the `Manager` class shows us that the `ASDFDataSet` has been attached, by showing the name of the dataset.\n",
    "\n",
    "> **__NOTE__:** In Pyatoa, by convention, each event gets its own `ASDFDataSet`; each `ASDFDataSet` should be named using a unique event identifier. This ensures that files are kept a reasonable size and avoids the need for more complicated internal naming schemes. "
   ]
  },
  {
   "cell_type": "code",
   "execution_count": 3,
   "id": "1f967db0",
   "metadata": {
    "execution": {
     "iopub.execute_input": "2022-03-02T19:37:48.542201Z",
     "iopub.status.busy": "2022-03-02T19:37:48.541964Z",
     "iopub.status.idle": "2022-03-02T19:37:48.544542Z",
     "shell.execute_reply": "2022-03-02T19:37:48.544346Z"
    }
   },
   "outputs": [
    {
     "name": "stderr",
     "output_type": "stream",
     "text": [
      "[2022-03-02 10:37:48] - pyatoa - DEBUG: Component list set to E/N/Z\n"
     ]
    },
    {
     "name": "stdout",
     "output_type": "stream",
     "text": [
      "Manager Data\n",
      "    dataset   [ds]:        test_ASDFDataSet.h5\n",
      "    quakeml   [event]:     smi:nz.org.geonet/2018p130600\n",
      "    station   [inv]:       NZ.BFZ\n",
      "    observed  [st_obs]:    3\n",
      "    synthetic [st_syn]:    3\n",
      "Stats & Status\n",
      "    half_dur:              0.6989458964552759\n",
      "    time_offset_sec:       None\n",
      "    standardized:          False\n",
      "    obs_processed:         False\n",
      "    syn_processed:         False\n",
      "    nwin   [windows]:      None\n",
      "    misfit [adjsrcs]:      None\n",
      "\n"
     ]
    }
   ],
   "source": [
    "mgmt = Manager(ds=ds, config=Config(), inv=inv, event=event, st_obs=st_obs, st_syn=st_syn)\n",
    "print(mgmt)"
   ]
  },
  {
   "cell_type": "markdown",
   "id": "4c6fd40d",
   "metadata": {},
   "source": [
    "---\n",
    "## Manually writing data\n",
    "\n",
    "We can save the current Manager data using the `Manager.write()` function. \n",
    "The Pyatoa `Config` object can also be written to the `ASDFDataSet` using the `Config.write()` function.  \n",
    "\n",
    "Once written, we see the `ASDFDataSet` has been populated with event and station metadata, waveform data, and Config information."
   ]
  },
  {
   "cell_type": "code",
   "execution_count": 4,
   "id": "b9b03108",
   "metadata": {
    "execution": {
     "iopub.execute_input": "2022-03-02T19:37:48.546016Z",
     "iopub.status.busy": "2022-03-02T19:37:48.545498Z",
     "iopub.status.idle": "2022-03-02T19:37:48.581541Z",
     "shell.execute_reply": "2022-03-02T19:37:48.581298Z"
    }
   },
   "outputs": [],
   "source": [
    "mgmt.write()\n",
    "mgmt.config.write(write_to=ds)"
   ]
  },
  {
   "cell_type": "code",
   "execution_count": 5,
   "id": "c996d9ea",
   "metadata": {
    "execution": {
     "iopub.execute_input": "2022-03-02T19:37:48.584441Z",
     "iopub.status.busy": "2022-03-02T19:37:48.584219Z",
     "iopub.status.idle": "2022-03-02T19:37:48.669423Z",
     "shell.execute_reply": "2022-03-02T19:37:48.669224Z"
    }
   },
   "outputs": [
    {
     "data": {
      "text/plain": [
       "ASDF file [format version: 1.0.3]: '../tests/test_data/docs_data/test_ASDFDataSet.h5' (495.4 KB)\n",
       "\tContains 1 event(s)\n",
       "\tContains waveform data from 1 station(s).\n",
       "\tContains 1 type(s) of auxiliary data: Configs"
      ]
     },
     "execution_count": 5,
     "metadata": {},
     "output_type": "execute_result"
    }
   ],
   "source": [
    "ds"
   ]
  },
  {
   "cell_type": "code",
   "execution_count": 6,
   "id": "1c49407a",
   "metadata": {
    "execution": {
     "iopub.execute_input": "2022-03-02T19:37:48.671307Z",
     "iopub.status.busy": "2022-03-02T19:37:48.671074Z",
     "iopub.status.idle": "2022-03-02T19:37:48.726359Z",
     "shell.execute_reply": "2022-03-02T19:37:48.726139Z"
    }
   },
   "outputs": [
    {
     "data": {
      "text/plain": [
       "1 Event(s) in Catalog:\n",
       "2018-02-18T07:43:48.127644Z | -39.949, +176.300 | 5.156706293 M  | manual"
      ]
     },
     "execution_count": 6,
     "metadata": {},
     "output_type": "execute_result"
    }
   ],
   "source": [
    "ds.events"
   ]
  },
  {
   "cell_type": "code",
   "execution_count": 7,
   "id": "8aa5ccc7",
   "metadata": {
    "execution": {
     "iopub.execute_input": "2022-03-02T19:37:48.728270Z",
     "iopub.status.busy": "2022-03-02T19:37:48.727992Z",
     "iopub.status.idle": "2022-03-02T19:37:48.729998Z",
     "shell.execute_reply": "2022-03-02T19:37:48.729795Z"
    }
   },
   "outputs": [
    {
     "data": {
      "text/plain": [
       "['NZ.BFZ']"
      ]
     },
     "execution_count": 7,
     "metadata": {},
     "output_type": "execute_result"
    }
   ],
   "source": [
    "ds.waveforms.list()"
   ]
  },
  {
   "cell_type": "code",
   "execution_count": 8,
   "id": "b888a02a",
   "metadata": {
    "execution": {
     "iopub.execute_input": "2022-03-02T19:37:48.731634Z",
     "iopub.status.busy": "2022-03-02T19:37:48.731414Z",
     "iopub.status.idle": "2022-03-02T19:37:48.734198Z",
     "shell.execute_reply": "2022-03-02T19:37:48.734374Z"
    }
   },
   "outputs": [
    {
     "data": {
      "text/plain": [
       "1 auxiliary data item(s) of type 'Configs' available:\n",
       "\tdefault"
      ]
     },
     "execution_count": 8,
     "metadata": {},
     "output_type": "execute_result"
    }
   ],
   "source": [
    "ds.auxiliary_data.Configs"
   ]
  },
  {
   "cell_type": "markdown",
   "id": "49643198",
   "metadata": {},
   "source": [
    "---\n",
    "## Automatically written data\n",
    "\n",
    "During a Pyatoa workflow, individual functions will automatically write their outputs into the given `ASDFDataSet`.  \n",
    "Here the log statements show the `Manager.window()` and `Manager.measure()` functions saving their outputs into the data set."
   ]
  },
  {
   "cell_type": "code",
   "execution_count": 9,
   "id": "a6140e5b",
   "metadata": {
    "execution": {
     "iopub.execute_input": "2022-03-02T19:37:48.736157Z",
     "iopub.status.busy": "2022-03-02T19:37:48.735915Z",
     "iopub.status.idle": "2022-03-02T19:37:48.800030Z",
     "shell.execute_reply": "2022-03-02T19:37:48.799827Z"
    }
   },
   "outputs": [
    {
     "name": "stderr",
     "output_type": "stream",
     "text": [
      "[2022-03-02 10:37:48] - pyatoa - INFO: standardizing streams\n",
      "[2022-03-02 10:37:48] - pyatoa - DEBUG: zero pad NZ.BFZ.10.HHE (0, 0) samples\n",
      "[2022-03-02 10:37:48] - pyatoa - DEBUG: new starttime NZ.BFZ.10.HHE: 2018-02-18T07:43:28.127644Z\n",
      "[2022-03-02 10:37:48] - pyatoa - DEBUG: zero pad NZ.BFZ.10.HHN (0, 0) samples\n",
      "[2022-03-02 10:37:48] - pyatoa - DEBUG: new starttime NZ.BFZ.10.HHN: 2018-02-18T07:43:28.127644Z\n",
      "[2022-03-02 10:37:48] - pyatoa - DEBUG: zero pad NZ.BFZ.10.HHZ (0, 0) samples\n",
      "[2022-03-02 10:37:48] - pyatoa - DEBUG: new starttime NZ.BFZ.10.HHZ: 2018-02-18T07:43:28.127644Z\n",
      "[2022-03-02 10:37:48] - pyatoa - DEBUG: time offset is -20.0s\n",
      "[2022-03-02 10:37:48] - pyatoa - INFO: preprocessing observation data\n",
      "[2022-03-02 10:37:48] - pyatoa - INFO: adjusting taper to cover time offset -20.0\n",
      "[2022-03-02 10:37:48] - pyatoa - DEBUG: removing response, units to DISP\n",
      "[2022-03-02 10:37:48] - pyatoa - DEBUG: rotating from generic coordinate system to ZNE\n",
      "[2022-03-02 10:37:48] - pyatoa - DEBUG: bandpass filter: 10.0 - 30.0s w/ 2.0 corners\n",
      "[2022-03-02 10:37:48] - pyatoa - INFO: preprocessing synthetic data\n",
      "[2022-03-02 10:37:48] - pyatoa - INFO: adjusting taper to cover time offset -20.0\n",
      "[2022-03-02 10:37:48] - pyatoa - DEBUG: no response removal, synthetic data or requested not to\n",
      "[2022-03-02 10:37:48] - pyatoa - DEBUG: bandpass filter: 10.0 - 30.0s w/ 2.0 corners\n",
      "[2022-03-02 10:37:48] - pyatoa - DEBUG: convolving data w/ Gaussian (t/2=0.70s)\n"
     ]
    }
   ],
   "source": [
    "mgmt.standardize().preprocess();"
   ]
  },
  {
   "cell_type": "code",
   "execution_count": 10,
   "id": "acbe447f",
   "metadata": {
    "execution": {
     "iopub.execute_input": "2022-03-02T19:37:48.802045Z",
     "iopub.status.busy": "2022-03-02T19:37:48.801804Z",
     "iopub.status.idle": "2022-03-02T19:37:49.087115Z",
     "shell.execute_reply": "2022-03-02T19:37:49.086886Z"
    }
   },
   "outputs": [
    {
     "name": "stderr",
     "output_type": "stream",
     "text": [
      "[2022-03-02 10:37:48] - pyatoa - INFO: running Pyflex w/ map: default\n",
      "[2022-03-02 10:37:48] - pyatoa - INFO: 1 window(s) selected for comp E\n",
      "[2022-03-02 10:37:48] - pyatoa - INFO: 1 window(s) selected for comp N\n",
      "[2022-03-02 10:37:49] - pyatoa - INFO: 1 window(s) selected for comp Z\n",
      "[2022-03-02 10:37:49] - pyatoa - DEBUG: saving misfit windows to ASDFDataSet\n",
      "[2022-03-02 10:37:49] - pyatoa - INFO: 3 window(s) total found\n"
     ]
    }
   ],
   "source": [
    "mgmt.window();"
   ]
  },
  {
   "cell_type": "code",
   "execution_count": 11,
   "id": "1b63980d",
   "metadata": {
    "execution": {
     "iopub.execute_input": "2022-03-02T19:37:49.088898Z",
     "iopub.status.busy": "2022-03-02T19:37:49.088202Z",
     "iopub.status.idle": "2022-03-02T19:37:49.104957Z",
     "shell.execute_reply": "2022-03-02T19:37:49.104761Z"
    }
   },
   "outputs": [
    {
     "name": "stderr",
     "output_type": "stream",
     "text": [
      "[2022-03-02 10:37:49] - pyatoa - DEBUG: running Pyadjoint w/ type: cc_traveltime_misfit\n",
      "[2022-03-02 10:37:49] - pyatoa - INFO: 0.365 misfit for comp E\n",
      "[2022-03-02 10:37:49] - pyatoa - INFO: 1.620 misfit for comp N\n",
      "[2022-03-02 10:37:49] - pyatoa - INFO: 0.004 misfit for comp Z\n",
      "[2022-03-02 10:37:49] - pyatoa - DEBUG: saving adjoint sources to ASDFDataSet\n",
      "[2022-03-02 10:37:49] - pyatoa - INFO: total misfit 1.989\n"
     ]
    }
   ],
   "source": [
    "mgmt.measure();"
   ]
  },
  {
   "cell_type": "markdown",
   "id": "43c83834",
   "metadata": {},
   "source": [
    "---\n",
    "## Accessing saved data using PyASDF\n",
    "\n",
    "All saved data can be accessed using `ASDFDataSet` attributes.  \n",
    "For a more thorough explanation of accessing data with an `ASDFDataSet`, see: https://seismicdata.github.io/pyasdf/index.html\n",
    "\n",
    "**Event metadata** is stored as an ObsPy `Catalog` object in the `ASDFDataSet.events` attribute.  "
   ]
  },
  {
   "cell_type": "code",
   "execution_count": 12,
   "id": "5303fafe",
   "metadata": {
    "execution": {
     "iopub.execute_input": "2022-03-02T19:37:49.106664Z",
     "iopub.status.busy": "2022-03-02T19:37:49.106062Z",
     "iopub.status.idle": "2022-03-02T19:37:49.161731Z",
     "shell.execute_reply": "2022-03-02T19:37:49.161921Z"
    }
   },
   "outputs": [
    {
     "data": {
      "text/plain": [
       "Event:\t2018-02-18T07:43:48.127644Z | -39.949, +176.300 | 5.156706293 M  | manual\n",
       "\n",
       "\t                  resource_id: ResourceIdentifier(id=\"smi:nz.org.geonet/2018p130600\")\n",
       "\t                   event_type: 'earthquake'\n",
       "\t                creation_info: CreationInfo(agency_id='WEL(GNS_Primary)', author='scevent@kseqp01.geonet.org.nz', creation_time=UTCDateTime(2018, 2, 18, 7, 44, 9, 156454))\n",
       "\t          preferred_origin_id: ResourceIdentifier(id=\"smi:nz.org.geonet/Origin#20180226021110.13419.62761\")\n",
       "\t       preferred_magnitude_id: ResourceIdentifier(id=\"smi:nz.org.geonet/Origin#20180226021110.13419.62761#netMag.M\")\n",
       "\t preferred_focal_mechanism_id: ResourceIdentifier(id=\"smi:local/ad83e11b-cc91-4de7-9cd0-5c51f99e1062\")\n",
       "\t                         ---------\n",
       "\t           event_descriptions: 1 Elements\n",
       "\t             focal_mechanisms: 1 Elements\n",
       "\t                      origins: 1 Elements\n",
       "\t                   magnitudes: 3 Elements"
      ]
     },
     "execution_count": 12,
     "metadata": {},
     "output_type": "execute_result"
    }
   ],
   "source": [
    "ds.events[0]"
   ]
  },
  {
   "cell_type": "markdown",
   "id": "6758a67f",
   "metadata": {},
   "source": [
    "---\n",
    "**Waveforms** are stored as ObsPy `Stream` objects, and **station metadata** is stored as ObsPy `Inventory` objects.  \n",
    "They are stored together in the `ASDFDataSet.waveforms` attribute.  "
   ]
  },
  {
   "cell_type": "code",
   "execution_count": 13,
   "id": "4bab21ab",
   "metadata": {
    "execution": {
     "iopub.execute_input": "2022-03-02T19:37:49.163799Z",
     "iopub.status.busy": "2022-03-02T19:37:49.162976Z",
     "iopub.status.idle": "2022-03-02T19:37:49.169066Z",
     "shell.execute_reply": "2022-03-02T19:37:49.168841Z"
    }
   },
   "outputs": [
    {
     "data": {
      "text/plain": [
       "Inventory created at 2020-02-02T22:21:59.000000Z\n",
       "\tCreated by: Delta\n",
       "\t\t    None\n",
       "\tSending institution: GeoNet (WEL(GNS_Test))\n",
       "\tContains:\n",
       "\t\tNetworks (1):\n",
       "\t\t\tNZ\n",
       "\t\tStations (1):\n",
       "\t\t\tNZ.BFZ (Birch Farm)\n",
       "\t\tChannels (3):\n",
       "\t\t\tNZ.BFZ.10.HHZ, NZ.BFZ.10.HHN, NZ.BFZ.10.HHE"
      ]
     },
     "execution_count": 13,
     "metadata": {},
     "output_type": "execute_result"
    }
   ],
   "source": [
    "ds.waveforms.NZ_BFZ.StationXML"
   ]
  },
  {
   "cell_type": "code",
   "execution_count": 14,
   "id": "65107beb",
   "metadata": {
    "execution": {
     "iopub.execute_input": "2022-03-02T19:37:49.171072Z",
     "iopub.status.busy": "2022-03-02T19:37:49.170832Z",
     "iopub.status.idle": "2022-03-02T19:37:49.178092Z",
     "shell.execute_reply": "2022-03-02T19:37:49.177831Z"
    }
   },
   "outputs": [
    {
     "data": {
      "text/plain": [
       "6 Trace(s) in Stream:\n",
       "NZ.BFZ.10.HHE | 2018-02-18T07:43:28.128394Z - 2018-02-18T07:49:38.128394Z | 100.0 Hz, 37001 samples\n",
       "NZ.BFZ.10.HHN | 2018-02-18T07:43:28.128394Z - 2018-02-18T07:49:38.128394Z | 100.0 Hz, 37001 samples\n",
       "NZ.BFZ.10.HHZ | 2018-02-18T07:43:28.128394Z - 2018-02-18T07:49:38.128394Z | 100.0 Hz, 37001 samples\n",
       "NZ.BFZ..BXE   | 2018-02-18T07:43:28.127644Z - 2018-02-18T07:48:28.097644Z | 33.3 Hz, 10000 samples\n",
       "NZ.BFZ..BXN   | 2018-02-18T07:43:28.127644Z - 2018-02-18T07:48:28.097644Z | 33.3 Hz, 10000 samples\n",
       "NZ.BFZ..BXZ   | 2018-02-18T07:43:28.127644Z - 2018-02-18T07:48:28.097644Z | 33.3 Hz, 10000 samples"
      ]
     },
     "execution_count": 14,
     "metadata": {},
     "output_type": "execute_result"
    }
   ],
   "source": [
    "ds.waveforms.NZ_BFZ.observed + ds.waveforms.NZ_BFZ.synthetic"
   ]
  },
  {
   "cell_type": "markdown",
   "id": "7af1fa15",
   "metadata": {},
   "source": [
    "-----\n",
    "**Misfit windows**, **Adjoint Sources**, and **Configuration parameters** are stored in the `ADSFDataSet.auxiliary_data` attribute."
   ]
  },
  {
   "cell_type": "code",
   "execution_count": 15,
   "id": "9fd6ec1b",
   "metadata": {
    "execution": {
     "iopub.execute_input": "2022-03-02T19:37:49.180854Z",
     "iopub.status.busy": "2022-03-02T19:37:49.180625Z",
     "iopub.status.idle": "2022-03-02T19:37:49.181952Z",
     "shell.execute_reply": "2022-03-02T19:37:49.182130Z"
    }
   },
   "outputs": [
    {
     "data": {
      "text/plain": [
       "Data set contains the following auxiliary data types:\n",
       "\tAdjointSources (1 item(s))\n",
       "\tConfigs (1 item(s))\n",
       "\tMisfitWindows (1 item(s))"
      ]
     },
     "execution_count": 15,
     "metadata": {},
     "output_type": "execute_result"
    }
   ],
   "source": [
    "ds.auxiliary_data"
   ]
  },
  {
   "cell_type": "markdown",
   "id": "e2aff3d0",
   "metadata": {},
   "source": [
    "If no `iteration` or `step_count` attributes are provided to the `Config` object, auxiliary data will be stored using the `default` tag."
   ]
  },
  {
   "cell_type": "code",
   "execution_count": 16,
   "id": "2a25a636",
   "metadata": {
    "execution": {
     "iopub.execute_input": "2022-03-02T19:37:49.183790Z",
     "iopub.status.busy": "2022-03-02T19:37:49.183562Z",
     "iopub.status.idle": "2022-03-02T19:37:49.186191Z",
     "shell.execute_reply": "2022-03-02T19:37:49.186372Z"
    }
   },
   "outputs": [
    {
     "data": {
      "text/plain": [
       "1 auxiliary data sub group(s) of type 'MisfitWindows' available:\n",
       "\tdefault"
      ]
     },
     "execution_count": 16,
     "metadata": {},
     "output_type": "execute_result"
    }
   ],
   "source": [
    "ds.auxiliary_data.MisfitWindows"
   ]
  },
  {
   "cell_type": "code",
   "execution_count": 17,
   "id": "d03ce460",
   "metadata": {
    "execution": {
     "iopub.execute_input": "2022-03-02T19:37:49.188703Z",
     "iopub.status.busy": "2022-03-02T19:37:49.188464Z",
     "iopub.status.idle": "2022-03-02T19:37:49.191140Z",
     "shell.execute_reply": "2022-03-02T19:37:49.190951Z"
    }
   },
   "outputs": [
    {
     "data": {
      "text/plain": [
       "3 auxiliary data item(s) of type 'MisfitWindows/default' available:\n",
       "\tNZ_BFZ_E_0\n",
       "\tNZ_BFZ_N_0\n",
       "\tNZ_BFZ_Z_0"
      ]
     },
     "execution_count": 17,
     "metadata": {},
     "output_type": "execute_result"
    }
   ],
   "source": [
    "ds.auxiliary_data.MisfitWindows['default']"
   ]
  },
  {
   "cell_type": "code",
   "execution_count": 18,
   "id": "8eec540b",
   "metadata": {
    "execution": {
     "iopub.execute_input": "2022-03-02T19:37:49.192611Z",
     "iopub.status.busy": "2022-03-02T19:37:49.192022Z",
     "iopub.status.idle": "2022-03-02T19:37:49.195125Z",
     "shell.execute_reply": "2022-03-02T19:37:49.195326Z"
    }
   },
   "outputs": [
    {
     "data": {
      "text/plain": [
       "Auxiliary Data of Type 'MisfitWindows'\n",
       "\tPath: 'default/NZ_BFZ_E_0'\n",
       "\tData shape: '(2,)', dtype: 'int64'\n",
       "\tParameters:\n",
       "\t\tabsolute_endtime: 2018-02-18T07:44:45.197644Z\n",
       "\t\tabsolute_starttime: 2018-02-18T07:43:42.437644Z\n",
       "\t\tcc_shift_in_samples: 36\n",
       "\t\tcc_shift_in_seconds: 1.08\n",
       "\t\tcenter_index: 1523\n",
       "\t\tchannel_id: NZ.BFZ.10.HHE\n",
       "\t\tdlnA: -0.70965282411\n",
       "\t\tdt: 0.03\n",
       "\t\tleft_index: 477\n",
       "\t\tmax_cc_value: 0.871536711295\n",
       "\t\tmin_period: 10.0\n",
       "\t\tphase_arrival_P: 15.2626263355\n",
       "\t\tphase_arrival_Pn: 15.1318939626\n",
       "\t\tphase_arrival_S: 25.7016469855\n",
       "\t\tphase_arrival_Sn: 25.6750945772\n",
       "\t\tphase_arrival_p: 14.0460406583\n",
       "\t\tphase_arrival_s: 23.6216670031\n",
       "\t\tphase_arrival_sP: 18.7800304978\n",
       "\t\trelative_endtime: 77.07\n",
       "\t\trelative_starttime: 14.31\n",
       "\t\tright_index: 2569\n",
       "\t\ttime_of_first_sample: 2018-02-18T07:43:28.127644Z\n",
       "\t\twindow_weight: 5.46976440008"
      ]
     },
     "execution_count": 18,
     "metadata": {},
     "output_type": "execute_result"
    }
   ],
   "source": [
    "ds.auxiliary_data.MisfitWindows.default.NZ_BFZ_E_0"
   ]
  },
  {
   "cell_type": "code",
   "execution_count": 19,
   "id": "b3448343",
   "metadata": {
    "execution": {
     "iopub.execute_input": "2022-03-02T19:37:49.198552Z",
     "iopub.status.busy": "2022-03-02T19:37:49.198323Z",
     "iopub.status.idle": "2022-03-02T19:37:49.199579Z",
     "shell.execute_reply": "2022-03-02T19:37:49.199759Z"
    }
   },
   "outputs": [
    {
     "data": {
      "text/plain": [
       "1 auxiliary data sub group(s) of type 'AdjointSources' available:\n",
       "\tdefault"
      ]
     },
     "execution_count": 19,
     "metadata": {},
     "output_type": "execute_result"
    }
   ],
   "source": [
    "ds.auxiliary_data.AdjointSources"
   ]
  },
  {
   "cell_type": "code",
   "execution_count": 20,
   "id": "b68493c3",
   "metadata": {
    "execution": {
     "iopub.execute_input": "2022-03-02T19:37:49.201646Z",
     "iopub.status.busy": "2022-03-02T19:37:49.201015Z",
     "iopub.status.idle": "2022-03-02T19:37:49.204433Z",
     "shell.execute_reply": "2022-03-02T19:37:49.204207Z"
    }
   },
   "outputs": [
    {
     "data": {
      "text/plain": [
       "3 auxiliary data item(s) of type 'AdjointSources/default' available:\n",
       "\tNZ_BFZ_BXE\n",
       "\tNZ_BFZ_BXN\n",
       "\tNZ_BFZ_BXZ"
      ]
     },
     "execution_count": 20,
     "metadata": {},
     "output_type": "execute_result"
    }
   ],
   "source": [
    "ds.auxiliary_data.AdjointSources.default"
   ]
  },
  {
   "cell_type": "code",
   "execution_count": 21,
   "id": "b6405f0b",
   "metadata": {
    "execution": {
     "iopub.execute_input": "2022-03-02T19:37:49.206104Z",
     "iopub.status.busy": "2022-03-02T19:37:49.205866Z",
     "iopub.status.idle": "2022-03-02T19:37:49.208031Z",
     "shell.execute_reply": "2022-03-02T19:37:49.208201Z"
    }
   },
   "outputs": [
    {
     "data": {
      "text/plain": [
       "Auxiliary Data of Type 'AdjointSources'\n",
       "\tPath: 'default/NZ_BFZ_BXE'\n",
       "\tData shape: '(10000, 2)', dtype: 'float64'\n",
       "\tParameters:\n",
       "\t\tadj_src_type: cc_traveltime_misfit\n",
       "\t\tcomponent: BXE\n",
       "\t\tdt: 0.03\n",
       "\t\tlocation: 10\n",
       "\t\tmax_period: 30.0\n",
       "\t\tmin_period: 10.0\n",
       "\t\tmisfit: 0.36539741683\n",
       "\t\tnetwork: NZ\n",
       "\t\tstarttime: 2018-02-18T07:43:28.127644Z\n",
       "\t\tstation: BFZ"
      ]
     },
     "execution_count": 21,
     "metadata": {},
     "output_type": "execute_result"
    }
   ],
   "source": [
    "ds.auxiliary_data.AdjointSources.default.NZ_BFZ_BXE"
   ]
  },
  {
   "cell_type": "markdown",
   "id": "dc47b57f",
   "metadata": {},
   "source": [
    "---\n",
    "## Re-loading data using the Manager\n",
    "\n",
    "Data previously saved into an `ASDFDataSet` can be loaded back into a `Manager` class using the `Manager.load()` function. The `load()` function will search for matching metadata, waveforms and configuration parameters, based on the `path` argument provided."
   ]
  },
  {
   "cell_type": "code",
   "execution_count": 22,
   "id": "ffd0778b",
   "metadata": {
    "execution": {
     "iopub.execute_input": "2022-03-02T19:37:49.209991Z",
     "iopub.status.busy": "2022-03-02T19:37:49.209750Z",
     "iopub.status.idle": "2022-03-02T19:37:49.277150Z",
     "shell.execute_reply": "2022-03-02T19:37:49.276915Z"
    }
   },
   "outputs": [
    {
     "name": "stderr",
     "output_type": "stream",
     "text": [
      "[2022-03-02 10:37:49] - pyatoa - INFO: no config provided, initiating default\n",
      "[2022-03-02 10:37:49] - pyatoa - DEBUG: Component list set to E/N/Z\n",
      "[2022-03-02 10:37:49] - pyatoa - INFO: loading config from dataset default\n"
     ]
    },
    {
     "data": {
      "text/plain": [
       "Manager Data\n",
       "    dataset   [ds]:        test_ASDFDataSet.h5\n",
       "    quakeml   [event]:     smi:nz.org.geonet/2018p130600\n",
       "    station   [inv]:       NZ.BFZ\n",
       "    observed  [st_obs]:    3\n",
       "    synthetic [st_syn]:    3\n",
       "Stats & Status\n",
       "    half_dur:              0.6989458964552759\n",
       "    time_offset_sec:       None\n",
       "    standardized:          False\n",
       "    obs_processed:         False\n",
       "    syn_processed:         False\n",
       "    nwin   [windows]:      None\n",
       "    misfit [adjsrcs]:      None"
      ]
     },
     "execution_count": 22,
     "metadata": {},
     "output_type": "execute_result"
    }
   ],
   "source": [
    "mgmt = Manager(ds=ds)\n",
    "mgmt.load(code=\"NZ.BFZ\", path=\"default\")"
   ]
  },
  {
   "cell_type": "code",
   "execution_count": 1,
   "id": "0faebec6",
   "metadata": {},
   "outputs": [
    {
     "name": "stdout",
     "output_type": "stream",
     "text": [
      "/home/bchow/REPOSITORIES/pyatoa/pyatoa/docs\r\n"
     ]
    }
   ],
   "source": [
    "!pwd"
   ]
  },
  {
   "cell_type": "markdown",
   "id": "9e2324a3",
   "metadata": {},
   "source": [
    "Misfit windows and adjoint sources are not explicitely re-loaded. Windows can be loaded using optional arguments in the `Manager.window()` function."
   ]
  },
  {
   "cell_type": "markdown",
   "id": "c851e4f7",
   "metadata": {},
   "source": [
    "---\n",
    "## Saving data during an inversion\n",
    "\n",
    "For each function evaluation, a new set of synthetic waveforms, misfit windows, adjoint sources and (potentially) configuration parameters, are defined. Therefore, unique tags are required to save and load this information in a reliable manner. \n",
    "\n",
    "Pyatoa tags using the `Config.iteration` and `Config.step_count` attributes to define unique tags during an inversion."
   ]
  },
  {
   "cell_type": "code",
   "execution_count": 23,
   "id": "71ff9bc0",
   "metadata": {
    "execution": {
     "iopub.execute_input": "2022-03-02T19:37:49.279665Z",
     "iopub.status.busy": "2022-03-02T19:37:49.279431Z",
     "iopub.status.idle": "2022-03-02T19:37:49.667744Z",
     "shell.execute_reply": "2022-03-02T19:37:49.667931Z"
    }
   },
   "outputs": [
    {
     "name": "stderr",
     "output_type": "stream",
     "text": [
      "[2022-03-02 10:37:49] - pyatoa - DEBUG: Component list set to E/N/Z\n",
      "[2022-03-02 10:37:49] - pyatoa - INFO: standardizing streams\n",
      "[2022-03-02 10:37:49] - pyatoa - DEBUG: zero pad NZ.BFZ.10.HHE (0, 0) samples\n",
      "[2022-03-02 10:37:49] - pyatoa - DEBUG: new starttime NZ.BFZ.10.HHE: 2018-02-18T07:43:28.127644Z\n",
      "[2022-03-02 10:37:49] - pyatoa - DEBUG: zero pad NZ.BFZ.10.HHN (0, 0) samples\n",
      "[2022-03-02 10:37:49] - pyatoa - DEBUG: new starttime NZ.BFZ.10.HHN: 2018-02-18T07:43:28.127644Z\n",
      "[2022-03-02 10:37:49] - pyatoa - DEBUG: zero pad NZ.BFZ.10.HHZ (0, 0) samples\n",
      "[2022-03-02 10:37:49] - pyatoa - DEBUG: new starttime NZ.BFZ.10.HHZ: 2018-02-18T07:43:28.127644Z\n",
      "[2022-03-02 10:37:49] - pyatoa - DEBUG: time offset is -20.0s\n",
      "[2022-03-02 10:37:49] - pyatoa - INFO: preprocessing observation data\n",
      "[2022-03-02 10:37:49] - pyatoa - INFO: adjusting taper to cover time offset -20.0\n",
      "[2022-03-02 10:37:49] - pyatoa - DEBUG: removing response, units to DISP\n",
      "[2022-03-02 10:37:49] - pyatoa - DEBUG: rotating from generic coordinate system to ZNE\n",
      "[2022-03-02 10:37:49] - pyatoa - DEBUG: bandpass filter: 10.0 - 30.0s w/ 2.0 corners\n",
      "[2022-03-02 10:37:49] - pyatoa - INFO: preprocessing synthetic data\n",
      "[2022-03-02 10:37:49] - pyatoa - INFO: adjusting taper to cover time offset -20.0\n",
      "[2022-03-02 10:37:49] - pyatoa - DEBUG: no response removal, synthetic data or requested not to\n",
      "[2022-03-02 10:37:49] - pyatoa - DEBUG: bandpass filter: 10.0 - 30.0s w/ 2.0 corners\n",
      "[2022-03-02 10:37:49] - pyatoa - DEBUG: convolving data w/ Gaussian (t/2=0.70s)\n",
      "[2022-03-02 10:37:49] - pyatoa - INFO: running Pyflex w/ map: default\n",
      "[2022-03-02 10:37:49] - pyatoa - INFO: 1 window(s) selected for comp E\n",
      "[2022-03-02 10:37:49] - pyatoa - INFO: 1 window(s) selected for comp N\n",
      "[2022-03-02 10:37:49] - pyatoa - INFO: 1 window(s) selected for comp Z\n",
      "[2022-03-02 10:37:49] - pyatoa - DEBUG: saving misfit windows to ASDFDataSet\n",
      "[2022-03-02 10:37:49] - pyatoa - INFO: 3 window(s) total found\n",
      "[2022-03-02 10:37:49] - pyatoa - DEBUG: running Pyadjoint w/ type: cc_traveltime_misfit\n",
      "[2022-03-02 10:37:49] - pyatoa - INFO: 0.365 misfit for comp E\n",
      "[2022-03-02 10:37:49] - pyatoa - INFO: 1.620 misfit for comp N\n",
      "[2022-03-02 10:37:49] - pyatoa - INFO: 0.004 misfit for comp Z\n",
      "[2022-03-02 10:37:49] - pyatoa - DEBUG: saving adjoint sources to ASDFDataSet\n",
      "[2022-03-02 10:37:49] - pyatoa - INFO: total misfit 1.989\n"
     ]
    }
   ],
   "source": [
    "# Set the config iteration and step_count parameters\n",
    "cfg = Config(iteration=1, step_count=0)\n",
    "\n",
    "# Remove the previously created dataset\n",
    "os.remove(ds_fid)\n",
    "ds = ASDFDataSet(ds_fid)\n",
    "\n",
    "cfg.write(write_to=ds)\n",
    "mgmt = Manager(ds=ds, config=cfg, inv=inv, event=event, st_obs=st_obs, st_syn=st_syn)\n",
    "mgmt.write()\n",
    "mgmt.flow()"
   ]
  },
  {
   "cell_type": "markdown",
   "id": "852e3b85",
   "metadata": {},
   "source": [
    "The `ASDFDataSet` is now populated with appropriately tagged data, denoting which function evaluation it belongs to."
   ]
  },
  {
   "cell_type": "code",
   "execution_count": 24,
   "id": "4b3cc685",
   "metadata": {
    "execution": {
     "iopub.execute_input": "2022-03-02T19:37:49.671441Z",
     "iopub.status.busy": "2022-03-02T19:37:49.671209Z",
     "iopub.status.idle": "2022-03-02T19:37:49.672773Z",
     "shell.execute_reply": "2022-03-02T19:37:49.672543Z"
    }
   },
   "outputs": [
    {
     "data": {
      "text/plain": [
       "Contents of the data set for station NZ.BFZ:\n",
       "    - Has a StationXML file\n",
       "    - 2 Waveform Tag(s):\n",
       "        observed\n",
       "        synthetic_i01s00"
      ]
     },
     "execution_count": 24,
     "metadata": {},
     "output_type": "execute_result"
    }
   ],
   "source": [
    "ds.waveforms.NZ_BFZ"
   ]
  },
  {
   "cell_type": "code",
   "execution_count": 2,
   "id": "19b3fc58",
   "metadata": {},
   "outputs": [
    {
     "ename": "NameError",
     "evalue": "name 'ds' is not defined",
     "output_type": "error",
     "traceback": [
      "\u001b[0;31m---------------------------------------------------------------------------\u001b[0m",
      "\u001b[0;31mNameError\u001b[0m                                 Traceback (most recent call last)",
      "\u001b[0;32m/tmp/ipykernel_13206/2369097233.py\u001b[0m in \u001b[0;36m<module>\u001b[0;34m\u001b[0m\n\u001b[0;32m----> 1\u001b[0;31m \u001b[0mds\u001b[0m\u001b[0;34m\u001b[0m\u001b[0;34m\u001b[0m\u001b[0m\n\u001b[0m",
      "\u001b[0;31mNameError\u001b[0m: name 'ds' is not defined"
     ]
    }
   ],
   "source": [
    "ds"
   ]
  },
  {
   "cell_type": "code",
   "execution_count": 25,
   "id": "06ae63aa",
   "metadata": {
    "execution": {
     "iopub.execute_input": "2022-03-02T19:37:49.674461Z",
     "iopub.status.busy": "2022-03-02T19:37:49.674237Z",
     "iopub.status.idle": "2022-03-02T19:37:49.677999Z",
     "shell.execute_reply": "2022-03-02T19:37:49.678176Z"
    }
   },
   "outputs": [
    {
     "data": {
      "text/plain": [
       "3 Trace(s) in Stream:\n",
       "NZ.BFZ..BXE | 2018-02-18T07:43:28.127644Z - 2018-02-18T07:48:28.097644Z | 33.3 Hz, 10000 samples\n",
       "NZ.BFZ..BXN | 2018-02-18T07:43:28.127644Z - 2018-02-18T07:48:28.097644Z | 33.3 Hz, 10000 samples\n",
       "NZ.BFZ..BXZ | 2018-02-18T07:43:28.127644Z - 2018-02-18T07:48:28.097644Z | 33.3 Hz, 10000 samples"
      ]
     },
     "execution_count": 25,
     "metadata": {},
     "output_type": "execute_result"
    }
   ],
   "source": [
    "ds.waveforms.NZ_BFZ.synthetic_i01s00"
   ]
  },
  {
   "cell_type": "markdown",
   "id": "0e2213d0",
   "metadata": {},
   "source": [
    "Auxiliary data will be tagged in a similar fashion, making it simple to re-access specific function evaluations."
   ]
  },
  {
   "cell_type": "code",
   "execution_count": 26,
   "id": "247f4315",
   "metadata": {
    "execution": {
     "iopub.execute_input": "2022-03-02T19:37:49.681177Z",
     "iopub.status.busy": "2022-03-02T19:37:49.679653Z",
     "iopub.status.idle": "2022-03-02T19:37:49.682449Z",
     "shell.execute_reply": "2022-03-02T19:37:49.682627Z"
    }
   },
   "outputs": [
    {
     "data": {
      "text/plain": [
       "1 auxiliary data sub group(s) of type 'MisfitWindows' available:\n",
       "\ti01"
      ]
     },
     "execution_count": 26,
     "metadata": {},
     "output_type": "execute_result"
    }
   ],
   "source": [
    "ds.auxiliary_data.MisfitWindows"
   ]
  },
  {
   "cell_type": "code",
   "execution_count": 27,
   "id": "325442bb",
   "metadata": {
    "execution": {
     "iopub.execute_input": "2022-03-02T19:37:49.684559Z",
     "iopub.status.busy": "2022-03-02T19:37:49.684004Z",
     "iopub.status.idle": "2022-03-02T19:37:49.686862Z",
     "shell.execute_reply": "2022-03-02T19:37:49.687068Z"
    }
   },
   "outputs": [
    {
     "data": {
      "text/plain": [
       "1 auxiliary data sub group(s) of type 'MisfitWindows/i01' available:\n",
       "\ts00"
      ]
     },
     "execution_count": 27,
     "metadata": {},
     "output_type": "execute_result"
    }
   ],
   "source": [
    "ds.auxiliary_data.MisfitWindows.i01"
   ]
  },
  {
   "cell_type": "code",
   "execution_count": 28,
   "id": "78ea074f",
   "metadata": {
    "execution": {
     "iopub.execute_input": "2022-03-02T19:37:49.689435Z",
     "iopub.status.busy": "2022-03-02T19:37:49.688847Z",
     "iopub.status.idle": "2022-03-02T19:37:49.691837Z",
     "shell.execute_reply": "2022-03-02T19:37:49.692029Z"
    }
   },
   "outputs": [
    {
     "data": {
      "text/plain": [
       "3 auxiliary data item(s) of type 'MisfitWindows/i01/s00' available:\n",
       "\tNZ_BFZ_E_0\n",
       "\tNZ_BFZ_N_0\n",
       "\tNZ_BFZ_Z_0"
      ]
     },
     "execution_count": 28,
     "metadata": {},
     "output_type": "execute_result"
    }
   ],
   "source": [
    "ds.auxiliary_data.MisfitWindows.i01.s00"
   ]
  },
  {
   "cell_type": "markdown",
   "id": "b2551cf0",
   "metadata": {},
   "source": [
    "Using the `Manager.load()` function, we can specify the unique `path` to determine which function evaluation we want to retrieve data from."
   ]
  },
  {
   "cell_type": "code",
   "execution_count": 29,
   "id": "1c6f04ea",
   "metadata": {
    "execution": {
     "iopub.execute_input": "2022-03-02T19:37:49.693878Z",
     "iopub.status.busy": "2022-03-02T19:37:49.693648Z",
     "iopub.status.idle": "2022-03-02T19:37:49.816599Z",
     "shell.execute_reply": "2022-03-02T19:37:49.816396Z"
    }
   },
   "outputs": [
    {
     "name": "stderr",
     "output_type": "stream",
     "text": [
      "[2022-03-02 10:37:49] - pyatoa - INFO: no config provided, initiating default\n",
      "[2022-03-02 10:37:49] - pyatoa - DEBUG: Component list set to E/N/Z\n",
      "[2022-03-02 10:37:49] - pyatoa - INFO: loading config from dataset i01/s00\n",
      "[2022-03-02 10:37:49] - pyatoa - INFO: standardizing streams\n",
      "[2022-03-02 10:37:49] - pyatoa - DEBUG: zero pad NZ.BFZ.10.HHE (0, 0) samples\n",
      "[2022-03-02 10:37:49] - pyatoa - DEBUG: new starttime NZ.BFZ.10.HHE: 2018-02-18T07:43:28.127644Z\n",
      "[2022-03-02 10:37:49] - pyatoa - DEBUG: zero pad NZ.BFZ.10.HHN (0, 0) samples\n",
      "[2022-03-02 10:37:49] - pyatoa - DEBUG: new starttime NZ.BFZ.10.HHN: 2018-02-18T07:43:28.127644Z\n",
      "[2022-03-02 10:37:49] - pyatoa - DEBUG: zero pad NZ.BFZ.10.HHZ (0, 0) samples\n",
      "[2022-03-02 10:37:49] - pyatoa - DEBUG: new starttime NZ.BFZ.10.HHZ: 2018-02-18T07:43:28.127644Z\n",
      "[2022-03-02 10:37:49] - pyatoa - DEBUG: time offset is -20.0s\n",
      "[2022-03-02 10:37:49] - pyatoa - INFO: preprocessing observation data\n",
      "[2022-03-02 10:37:49] - pyatoa - INFO: adjusting taper to cover time offset -20.0\n",
      "[2022-03-02 10:37:49] - pyatoa - DEBUG: removing response, units to DISP\n",
      "[2022-03-02 10:37:49] - pyatoa - DEBUG: rotating from generic coordinate system to ZNE\n",
      "[2022-03-02 10:37:49] - pyatoa - DEBUG: bandpass filter: 10.0 - 30.0s w/ 2.0 corners\n",
      "[2022-03-02 10:37:49] - pyatoa - INFO: preprocessing synthetic data\n",
      "[2022-03-02 10:37:49] - pyatoa - INFO: adjusting taper to cover time offset -20.0\n",
      "[2022-03-02 10:37:49] - pyatoa - DEBUG: no response removal, synthetic data or requested not to\n",
      "[2022-03-02 10:37:49] - pyatoa - DEBUG: bandpass filter: 10.0 - 30.0s w/ 2.0 corners\n",
      "[2022-03-02 10:37:49] - pyatoa - DEBUG: convolving data w/ Gaussian (t/2=0.70s)\n"
     ]
    },
    {
     "data": {
      "text/plain": [
       "Manager Data\n",
       "    dataset   [ds]:        test_ASDFDataSet.h5\n",
       "    quakeml   [event]:     smi:nz.org.geonet/2018p130600\n",
       "    station   [inv]:       NZ.BFZ\n",
       "    observed  [st_obs]:    3\n",
       "    synthetic [st_syn]:    3\n",
       "Stats & Status\n",
       "    half_dur:              0.6989458964552759\n",
       "    time_offset_sec:       -20.0\n",
       "    standardized:          True\n",
       "    obs_processed:         True\n",
       "    syn_processed:         True\n",
       "    nwin   [windows]:      None\n",
       "    misfit [adjsrcs]:      None"
      ]
     },
     "execution_count": 29,
     "metadata": {},
     "output_type": "execute_result"
    }
   ],
   "source": [
    "mgmt = Manager(ds=ds)\n",
    "mgmt.load(\"NZ.BFZ\", path=\"i01/s00\", synthetic_tag=\"synthetic_i01s00\")\n",
    "mgmt.standardize().preprocess()"
   ]
  },
  {
   "cell_type": "markdown",
   "id": "d29f123b",
   "metadata": {},
   "source": [
    "We can now load in previously retrieved windows from the dataset, using the `Manager.window()` function.  \n",
    "Windows misfit criteria will be re-evaluated using the current set of data. We can turn off automatic window saving using the optional `save` argument."
   ]
  },
  {
   "cell_type": "code",
   "execution_count": 30,
   "id": "be08efa1",
   "metadata": {
    "execution": {
     "iopub.execute_input": "2022-03-02T19:37:49.818553Z",
     "iopub.status.busy": "2022-03-02T19:37:49.818325Z",
     "iopub.status.idle": "2022-03-02T19:37:49.826775Z",
     "shell.execute_reply": "2022-03-02T19:37:49.826574Z"
    }
   },
   "outputs": [
    {
     "name": "stderr",
     "output_type": "stream",
     "text": [
      "[2022-03-02 10:37:49] - pyatoa - INFO: retrieving windows from dataset\n",
      "[2022-03-02 10:37:49] - pyatoa - DEBUG: searching for windows in i01s00\n",
      "[2022-03-02 10:37:49] - pyatoa - DEBUG: 3 window(s) found in dataset for NZ.BFZ\n",
      "[2022-03-02 10:37:49] - pyatoa - DEBUG: recalculating window criteria\n",
      "[2022-03-02 10:37:49] - pyatoa - DEBUG: E0_old - cc:0.87 / dt:36.0 / dlnA:-0.71\n",
      "[2022-03-02 10:37:49] - pyatoa - DEBUG: E0_new - cc:0.87 / dt:36.0 / dlnA:-0.71\n",
      "[2022-03-02 10:37:49] - pyatoa - DEBUG: N0_old - cc:0.99 / dt:63.0 / dlnA:-0.83\n",
      "[2022-03-02 10:37:49] - pyatoa - DEBUG: N0_new - cc:0.99 / dt:63.0 / dlnA:-0.83\n",
      "[2022-03-02 10:37:49] - pyatoa - DEBUG: Z0_old - cc:0.99 / dt:0.0 / dlnA:-0.90\n",
      "[2022-03-02 10:37:49] - pyatoa - DEBUG: Z0_new - cc:0.99 / dt:0.0 / dlnA:-0.90\n",
      "[2022-03-02 10:37:49] - pyatoa - INFO: 3 window(s) total found\n"
     ]
    },
    {
     "data": {
      "text/plain": [
       "Manager Data\n",
       "    dataset   [ds]:        test_ASDFDataSet.h5\n",
       "    quakeml   [event]:     smi:nz.org.geonet/2018p130600\n",
       "    station   [inv]:       NZ.BFZ\n",
       "    observed  [st_obs]:    3\n",
       "    synthetic [st_syn]:    3\n",
       "Stats & Status\n",
       "    half_dur:              0.6989458964552759\n",
       "    time_offset_sec:       -20.0\n",
       "    standardized:          True\n",
       "    obs_processed:         True\n",
       "    syn_processed:         True\n",
       "    nwin   [windows]:      3\n",
       "    misfit [adjsrcs]:      None"
      ]
     },
     "execution_count": 30,
     "metadata": {},
     "output_type": "execute_result"
    }
   ],
   "source": [
    "mgmt.window(fix_windows=True, iteration=1, step_count=0, save=False)"
   ]
  },
  {
   "cell_type": "markdown",
   "id": "6a1092cf",
   "metadata": {},
   "source": [
    "*easy peasy mate*"
   ]
  }
 ],
 "metadata": {
  "kernelspec": {
   "display_name": "Python 3 (ipykernel)",
   "language": "python",
   "name": "python3"
  },
  "language_info": {
   "codemirror_mode": {
    "name": "ipython",
    "version": 3
   },
   "file_extension": ".py",
   "mimetype": "text/x-python",
   "name": "python",
   "nbconvert_exporter": "python",
   "pygments_lexer": "ipython3",
   "version": "3.7.12"
  }
 },
 "nbformat": 4,
 "nbformat_minor": 5
}
