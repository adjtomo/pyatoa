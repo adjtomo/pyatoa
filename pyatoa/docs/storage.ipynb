{
 "cells": [
  {
   "cell_type": "markdown",
   "id": "541c2f68",
   "metadata": {},
   "source": [
    "# Data Storage\n",
    "\n",
    "Pyatoa stores data using [PyASDF ASDFDataSets](https://seismicdata.github.io/pyasdf/asdf_data_set.html), which are seismological data structures built upon the HDF5 file format. \n",
    "\n",
    "Datasets are hierarchical (tree-like), portable, compressible, and self-describing or containing both data and metadata.  They are built around ObsPy objects, removing any need for conversions in the transition from data storage to data processing.\n",
    "\n",
    "An `ASDFDataSet` can be passed directly to the `Manager` class. By default, gathered data and processed results will automatically be stored inside the dataset following a pre-defined naming convention. Naming schemes are set using parameters in the `Config` object. \n",
    "\n",
    "Below we show how data is saved throughout a workflow, and how it can be accessed using PyASDF and Pyatoa.\n",
    "\n",
    "For a detailed tutorial on the `ASDFDataSet`, see: https://seismicdata.github.io/pyasdf/tutorial.html"
   ]
  },
  {
   "cell_type": "code",
   "execution_count": 1,
   "id": "eb93f51d",
   "metadata": {
    "execution": {
     "iopub.execute_input": "2022-02-24T21:12:15.489815Z",
     "iopub.status.busy": "2022-02-24T21:12:15.489138Z",
     "iopub.status.idle": "2022-02-24T21:12:17.558520Z",
     "shell.execute_reply": "2022-02-24T21:12:17.558805Z"
    }
   },
   "outputs": [],
   "source": [
    "import os\n",
    "import obspy\n",
    "from pyatoa import Config, Manager, logger\n",
    "from pyasdf import ASDFDataSet\n",
    "\n",
    "logger.setLevel(\"DEBUG\")\n",
    "\n",
    "# Load in the test data\n",
    "inv = obspy.read_inventory(\"../tests/test_data/test_dataless_NZ_BFZ.xml\")\n",
    "cat = obspy.read_events(\"../tests/test_data/test_catalog_2018p130600.xml\")\n",
    "event = cat[0]\n",
    "st_obs = obspy.read(\"../tests/test_data/test_obs_data_NZ_BFZ_2018p130600.ascii\")\n",
    "st_syn = obspy.read(\"../tests/test_data/test_syn_data_NZ_BFZ_2018p130600.ascii\")"
   ]
  },
  {
   "cell_type": "markdown",
   "id": "50fbca62",
   "metadata": {},
   "source": [
    "---\n",
    "## Initializing \n",
    "\n",
    "First we must open a new `ASDFDataSet` file. We will fill it with data from the `Manager`.  \n",
    "`ASDFDataSet`s can also be used as a context manager, using the `with` argument. This ensures the file is closed after use."
   ]
  },
  {
   "cell_type": "code",
   "execution_count": 2,
   "id": "3b8b3412",
   "metadata": {
    "execution": {
     "iopub.execute_input": "2022-02-24T21:12:17.561243Z",
     "iopub.status.busy": "2022-02-24T21:12:17.561000Z",
     "iopub.status.idle": "2022-02-24T21:12:17.648399Z",
     "shell.execute_reply": "2022-02-24T21:12:17.648108Z"
    }
   },
   "outputs": [
    {
     "ename": "FileNotFoundError",
     "evalue": "[Errno 2] No such file or directory: '../tests/test_data/docs_data/test_ASDFDataSet.h5'",
     "output_type": "error",
     "traceback": [
      "\u001b[0;31m---------------------------------------------------------------------------\u001b[0m",
      "\u001b[0;31mFileNotFoundError\u001b[0m                         Traceback (most recent call last)",
      "\u001b[0;32m/tmp/ipykernel_28228/2765099645.py\u001b[0m in \u001b[0;36m<module>\u001b[0;34m\u001b[0m\n\u001b[1;32m      1\u001b[0m \u001b[0;31m# Make sure we aren't trying to write to a file that exists\u001b[0m\u001b[0;34m\u001b[0m\u001b[0;34m\u001b[0m\u001b[0;34m\u001b[0m\u001b[0m\n\u001b[1;32m      2\u001b[0m \u001b[0mds_fid\u001b[0m \u001b[0;34m=\u001b[0m \u001b[0;34m\"../tests/test_data/docs_data/test_ASDFDataSet.h5\"\u001b[0m\u001b[0;34m\u001b[0m\u001b[0;34m\u001b[0m\u001b[0m\n\u001b[0;32m----> 3\u001b[0;31m \u001b[0mos\u001b[0m\u001b[0;34m.\u001b[0m\u001b[0mremove\u001b[0m\u001b[0;34m(\u001b[0m\u001b[0mds_fid\u001b[0m\u001b[0;34m)\u001b[0m\u001b[0;34m\u001b[0m\u001b[0;34m\u001b[0m\u001b[0m\n\u001b[0m\u001b[1;32m      4\u001b[0m \u001b[0;34m\u001b[0m\u001b[0m\n\u001b[1;32m      5\u001b[0m \u001b[0mds\u001b[0m \u001b[0;34m=\u001b[0m \u001b[0mASDFDataSet\u001b[0m\u001b[0;34m(\u001b[0m\u001b[0mds_fid\u001b[0m\u001b[0;34m)\u001b[0m\u001b[0;34m\u001b[0m\u001b[0;34m\u001b[0m\u001b[0m\n",
      "\u001b[0;31mFileNotFoundError\u001b[0m: [Errno 2] No such file or directory: '../tests/test_data/docs_data/test_ASDFDataSet.h5'"
     ]
    }
   ],
   "source": [
    "# Make sure we aren't trying to write to a file that exists\n",
    "ds_fid = \"../tests/test_data/docs_data/test_ASDFDataSet.h5\"\n",
    "os.remove(ds_fid)\n",
    "\n",
    "ds = ASDFDataSet(ds_fid)\n",
    "print(ds)"
   ]
  },
  {
   "cell_type": "markdown",
   "id": "41ffce80",
   "metadata": {},
   "source": [
    "We can pass the `ASDFDataSet` ds directly to the initialization of the `Manager` class.  \n",
    "The string representation of the `Manager` class shows us that the `ASDFDataSet` has been attached, by showing the name of the dataset.\n",
    "\n",
    "> **__NOTE__:** In Pyatoa, by convention, each event gets its own `ASDFDataSet`; each `ASDFDataSet` should be named using a unique event identifier. This ensures that files are kept a reasonable size and avoids the need for more complicated internal naming schemes. "
   ]
  },
  {
   "cell_type": "code",
   "execution_count": 3,
   "id": "1f967db0",
   "metadata": {
    "execution": {
     "iopub.execute_input": "2022-02-24T21:12:17.653396Z",
     "iopub.status.busy": "2022-02-24T21:12:17.650248Z",
     "iopub.status.idle": "2022-02-24T21:12:17.655043Z",
     "shell.execute_reply": "2022-02-24T21:12:17.654797Z"
    }
   },
   "outputs": [
    {
     "ename": "NameError",
     "evalue": "name 'ds' is not defined",
     "output_type": "error",
     "traceback": [
      "\u001b[0;31m---------------------------------------------------------------------------\u001b[0m",
      "\u001b[0;31mNameError\u001b[0m                                 Traceback (most recent call last)",
      "\u001b[0;32m/tmp/ipykernel_28228/1796992563.py\u001b[0m in \u001b[0;36m<module>\u001b[0;34m\u001b[0m\n\u001b[0;32m----> 1\u001b[0;31m \u001b[0mmgmt\u001b[0m \u001b[0;34m=\u001b[0m \u001b[0mManager\u001b[0m\u001b[0;34m(\u001b[0m\u001b[0mds\u001b[0m\u001b[0;34m=\u001b[0m\u001b[0mds\u001b[0m\u001b[0;34m,\u001b[0m \u001b[0mconfig\u001b[0m\u001b[0;34m=\u001b[0m\u001b[0mConfig\u001b[0m\u001b[0;34m(\u001b[0m\u001b[0;34m)\u001b[0m\u001b[0;34m,\u001b[0m \u001b[0minv\u001b[0m\u001b[0;34m=\u001b[0m\u001b[0minv\u001b[0m\u001b[0;34m,\u001b[0m \u001b[0mevent\u001b[0m\u001b[0;34m=\u001b[0m\u001b[0mevent\u001b[0m\u001b[0;34m,\u001b[0m \u001b[0mst_obs\u001b[0m\u001b[0;34m=\u001b[0m\u001b[0mst_obs\u001b[0m\u001b[0;34m,\u001b[0m \u001b[0mst_syn\u001b[0m\u001b[0;34m=\u001b[0m\u001b[0mst_syn\u001b[0m\u001b[0;34m)\u001b[0m\u001b[0;34m\u001b[0m\u001b[0;34m\u001b[0m\u001b[0m\n\u001b[0m\u001b[1;32m      2\u001b[0m \u001b[0mprint\u001b[0m\u001b[0;34m(\u001b[0m\u001b[0mmgmt\u001b[0m\u001b[0;34m)\u001b[0m\u001b[0;34m\u001b[0m\u001b[0;34m\u001b[0m\u001b[0m\n",
      "\u001b[0;31mNameError\u001b[0m: name 'ds' is not defined"
     ]
    }
   ],
   "source": [
    "mgmt = Manager(ds=ds, config=Config(), inv=inv, event=event, st_obs=st_obs, st_syn=st_syn)\n",
    "print(mgmt)"
   ]
  },
  {
   "cell_type": "markdown",
   "id": "4c6fd40d",
   "metadata": {},
   "source": [
    "---\n",
    "## Manually writing data\n",
    "\n",
    "We can save the current Manager data using the `Manager.write()` function. \n",
    "The Pyatoa `Config` object can also be written to the `ASDFDataSet` using the `Config.write()` function.  \n",
    "\n",
    "Once written, we see the `ASDFDataSet` has been populated with event and station metadata, waveform data, and Config information."
   ]
  },
  {
   "cell_type": "code",
   "execution_count": 4,
   "id": "b9b03108",
   "metadata": {
    "execution": {
     "iopub.execute_input": "2022-02-24T21:12:17.657321Z",
     "iopub.status.busy": "2022-02-24T21:12:17.657034Z",
     "iopub.status.idle": "2022-02-24T21:12:17.662509Z",
     "shell.execute_reply": "2022-02-24T21:12:17.662717Z"
    }
   },
   "outputs": [
    {
     "ename": "NameError",
     "evalue": "name 'mgmt' is not defined",
     "output_type": "error",
     "traceback": [
      "\u001b[0;31m---------------------------------------------------------------------------\u001b[0m",
      "\u001b[0;31mNameError\u001b[0m                                 Traceback (most recent call last)",
      "\u001b[0;32m/tmp/ipykernel_28228/49976052.py\u001b[0m in \u001b[0;36m<module>\u001b[0;34m\u001b[0m\n\u001b[0;32m----> 1\u001b[0;31m \u001b[0mmgmt\u001b[0m\u001b[0;34m.\u001b[0m\u001b[0mwrite\u001b[0m\u001b[0;34m(\u001b[0m\u001b[0;34m)\u001b[0m\u001b[0;34m\u001b[0m\u001b[0;34m\u001b[0m\u001b[0m\n\u001b[0m\u001b[1;32m      2\u001b[0m \u001b[0mmgmt\u001b[0m\u001b[0;34m.\u001b[0m\u001b[0mconfig\u001b[0m\u001b[0;34m.\u001b[0m\u001b[0mwrite\u001b[0m\u001b[0;34m(\u001b[0m\u001b[0mwrite_to\u001b[0m\u001b[0;34m=\u001b[0m\u001b[0mds\u001b[0m\u001b[0;34m)\u001b[0m\u001b[0;34m\u001b[0m\u001b[0;34m\u001b[0m\u001b[0m\n",
      "\u001b[0;31mNameError\u001b[0m: name 'mgmt' is not defined"
     ]
    }
   ],
   "source": [
    "mgmt.write()\n",
    "mgmt.config.write(write_to=ds)"
   ]
  },
  {
   "cell_type": "code",
   "execution_count": 5,
   "id": "c996d9ea",
   "metadata": {
    "execution": {
     "iopub.execute_input": "2022-02-24T21:12:17.666799Z",
     "iopub.status.busy": "2022-02-24T21:12:17.666510Z",
     "iopub.status.idle": "2022-02-24T21:12:17.668365Z",
     "shell.execute_reply": "2022-02-24T21:12:17.668171Z"
    }
   },
   "outputs": [
    {
     "ename": "NameError",
     "evalue": "name 'ds' is not defined",
     "output_type": "error",
     "traceback": [
      "\u001b[0;31m---------------------------------------------------------------------------\u001b[0m",
      "\u001b[0;31mNameError\u001b[0m                                 Traceback (most recent call last)",
      "\u001b[0;32m/tmp/ipykernel_28228/2369097233.py\u001b[0m in \u001b[0;36m<module>\u001b[0;34m\u001b[0m\n\u001b[0;32m----> 1\u001b[0;31m \u001b[0mds\u001b[0m\u001b[0;34m\u001b[0m\u001b[0;34m\u001b[0m\u001b[0m\n\u001b[0m",
      "\u001b[0;31mNameError\u001b[0m: name 'ds' is not defined"
     ]
    }
   ],
   "source": [
    "ds"
   ]
  },
  {
   "cell_type": "code",
   "execution_count": 6,
   "id": "1c49407a",
   "metadata": {
    "execution": {
     "iopub.execute_input": "2022-02-24T21:12:17.671823Z",
     "iopub.status.busy": "2022-02-24T21:12:17.671485Z",
     "iopub.status.idle": "2022-02-24T21:12:17.673414Z",
     "shell.execute_reply": "2022-02-24T21:12:17.673639Z"
    }
   },
   "outputs": [
    {
     "ename": "NameError",
     "evalue": "name 'ds' is not defined",
     "output_type": "error",
     "traceback": [
      "\u001b[0;31m---------------------------------------------------------------------------\u001b[0m",
      "\u001b[0;31mNameError\u001b[0m                                 Traceback (most recent call last)",
      "\u001b[0;32m/tmp/ipykernel_28228/2065591340.py\u001b[0m in \u001b[0;36m<module>\u001b[0;34m\u001b[0m\n\u001b[0;32m----> 1\u001b[0;31m \u001b[0mds\u001b[0m\u001b[0;34m.\u001b[0m\u001b[0mevents\u001b[0m\u001b[0;34m\u001b[0m\u001b[0;34m\u001b[0m\u001b[0m\n\u001b[0m",
      "\u001b[0;31mNameError\u001b[0m: name 'ds' is not defined"
     ]
    }
   ],
   "source": [
    "ds.events"
   ]
  },
  {
   "cell_type": "code",
   "execution_count": 7,
   "id": "8aa5ccc7",
   "metadata": {
    "execution": {
     "iopub.execute_input": "2022-02-24T21:12:17.679754Z",
     "iopub.status.busy": "2022-02-24T21:12:17.679498Z",
     "iopub.status.idle": "2022-02-24T21:12:17.681153Z",
     "shell.execute_reply": "2022-02-24T21:12:17.680954Z"
    }
   },
   "outputs": [
    {
     "ename": "NameError",
     "evalue": "name 'ds' is not defined",
     "output_type": "error",
     "traceback": [
      "\u001b[0;31m---------------------------------------------------------------------------\u001b[0m",
      "\u001b[0;31mNameError\u001b[0m                                 Traceback (most recent call last)",
      "\u001b[0;32m/tmp/ipykernel_28228/2920300973.py\u001b[0m in \u001b[0;36m<module>\u001b[0;34m\u001b[0m\n\u001b[0;32m----> 1\u001b[0;31m \u001b[0mds\u001b[0m\u001b[0;34m.\u001b[0m\u001b[0mwaveforms\u001b[0m\u001b[0;34m.\u001b[0m\u001b[0mlist\u001b[0m\u001b[0;34m(\u001b[0m\u001b[0;34m)\u001b[0m\u001b[0;34m\u001b[0m\u001b[0;34m\u001b[0m\u001b[0m\n\u001b[0m",
      "\u001b[0;31mNameError\u001b[0m: name 'ds' is not defined"
     ]
    }
   ],
   "source": [
    "ds.waveforms.list()"
   ]
  },
  {
   "cell_type": "code",
   "execution_count": 8,
   "id": "b888a02a",
   "metadata": {
    "execution": {
     "iopub.execute_input": "2022-02-24T21:12:17.684910Z",
     "iopub.status.busy": "2022-02-24T21:12:17.682688Z",
     "iopub.status.idle": "2022-02-24T21:12:17.686465Z",
     "shell.execute_reply": "2022-02-24T21:12:17.686249Z"
    }
   },
   "outputs": [
    {
     "ename": "NameError",
     "evalue": "name 'ds' is not defined",
     "output_type": "error",
     "traceback": [
      "\u001b[0;31m---------------------------------------------------------------------------\u001b[0m",
      "\u001b[0;31mNameError\u001b[0m                                 Traceback (most recent call last)",
      "\u001b[0;32m/tmp/ipykernel_28228/1660734483.py\u001b[0m in \u001b[0;36m<module>\u001b[0;34m\u001b[0m\n\u001b[0;32m----> 1\u001b[0;31m \u001b[0mds\u001b[0m\u001b[0;34m.\u001b[0m\u001b[0mauxiliary_data\u001b[0m\u001b[0;34m.\u001b[0m\u001b[0mConfigs\u001b[0m\u001b[0;34m\u001b[0m\u001b[0;34m\u001b[0m\u001b[0m\n\u001b[0m",
      "\u001b[0;31mNameError\u001b[0m: name 'ds' is not defined"
     ]
    }
   ],
   "source": [
    "ds.auxiliary_data.Configs"
   ]
  },
  {
   "cell_type": "markdown",
   "id": "49643198",
   "metadata": {},
   "source": [
    "---\n",
    "## Automatically written data\n",
    "\n",
    "During a Pyatoa workflow, individual functions will automatically write their outputs into the given `ASDFDataSet`.  \n",
    "Here the log statements show the `Manager.window()` and `Manager.measure()` functions saving their outputs into the data set."
   ]
  },
  {
   "cell_type": "code",
   "execution_count": 9,
   "id": "a6140e5b",
   "metadata": {
    "execution": {
     "iopub.execute_input": "2022-02-24T21:12:17.691200Z",
     "iopub.status.busy": "2022-02-24T21:12:17.690591Z",
     "iopub.status.idle": "2022-02-24T21:12:17.692926Z",
     "shell.execute_reply": "2022-02-24T21:12:17.693140Z"
    }
   },
   "outputs": [
    {
     "ename": "NameError",
     "evalue": "name 'mgmt' is not defined",
     "output_type": "error",
     "traceback": [
      "\u001b[0;31m---------------------------------------------------------------------------\u001b[0m",
      "\u001b[0;31mNameError\u001b[0m                                 Traceback (most recent call last)",
      "\u001b[0;32m/tmp/ipykernel_28228/4204806314.py\u001b[0m in \u001b[0;36m<module>\u001b[0;34m\u001b[0m\n\u001b[0;32m----> 1\u001b[0;31m \u001b[0mmgmt\u001b[0m\u001b[0;34m.\u001b[0m\u001b[0mstandardize\u001b[0m\u001b[0;34m(\u001b[0m\u001b[0;34m)\u001b[0m\u001b[0;34m.\u001b[0m\u001b[0mpreprocess\u001b[0m\u001b[0;34m(\u001b[0m\u001b[0;34m)\u001b[0m\u001b[0;34m;\u001b[0m\u001b[0;34m\u001b[0m\u001b[0;34m\u001b[0m\u001b[0m\n\u001b[0m",
      "\u001b[0;31mNameError\u001b[0m: name 'mgmt' is not defined"
     ]
    }
   ],
   "source": [
    "mgmt.standardize().preprocess();"
   ]
  },
  {
   "cell_type": "code",
   "execution_count": 10,
   "id": "acbe447f",
   "metadata": {
    "execution": {
     "iopub.execute_input": "2022-02-24T21:12:17.697604Z",
     "iopub.status.busy": "2022-02-24T21:12:17.697362Z",
     "iopub.status.idle": "2022-02-24T21:12:17.698725Z",
     "shell.execute_reply": "2022-02-24T21:12:17.698918Z"
    }
   },
   "outputs": [
    {
     "ename": "NameError",
     "evalue": "name 'mgmt' is not defined",
     "output_type": "error",
     "traceback": [
      "\u001b[0;31m---------------------------------------------------------------------------\u001b[0m",
      "\u001b[0;31mNameError\u001b[0m                                 Traceback (most recent call last)",
      "\u001b[0;32m/tmp/ipykernel_28228/3223895242.py\u001b[0m in \u001b[0;36m<module>\u001b[0;34m\u001b[0m\n\u001b[0;32m----> 1\u001b[0;31m \u001b[0mmgmt\u001b[0m\u001b[0;34m.\u001b[0m\u001b[0mwindow\u001b[0m\u001b[0;34m(\u001b[0m\u001b[0;34m)\u001b[0m\u001b[0;34m;\u001b[0m\u001b[0;34m\u001b[0m\u001b[0;34m\u001b[0m\u001b[0m\n\u001b[0m",
      "\u001b[0;31mNameError\u001b[0m: name 'mgmt' is not defined"
     ]
    }
   ],
   "source": [
    "mgmt.window();"
   ]
  },
  {
   "cell_type": "code",
   "execution_count": 11,
   "id": "1b63980d",
   "metadata": {
    "execution": {
     "iopub.execute_input": "2022-02-24T21:12:17.700853Z",
     "iopub.status.busy": "2022-02-24T21:12:17.700476Z",
     "iopub.status.idle": "2022-02-24T21:12:17.704178Z",
     "shell.execute_reply": "2022-02-24T21:12:17.704421Z"
    }
   },
   "outputs": [
    {
     "ename": "NameError",
     "evalue": "name 'mgmt' is not defined",
     "output_type": "error",
     "traceback": [
      "\u001b[0;31m---------------------------------------------------------------------------\u001b[0m",
      "\u001b[0;31mNameError\u001b[0m                                 Traceback (most recent call last)",
      "\u001b[0;32m/tmp/ipykernel_28228/1464003284.py\u001b[0m in \u001b[0;36m<module>\u001b[0;34m\u001b[0m\n\u001b[0;32m----> 1\u001b[0;31m \u001b[0mmgmt\u001b[0m\u001b[0;34m.\u001b[0m\u001b[0mmeasure\u001b[0m\u001b[0;34m(\u001b[0m\u001b[0;34m)\u001b[0m\u001b[0;34m;\u001b[0m\u001b[0;34m\u001b[0m\u001b[0;34m\u001b[0m\u001b[0m\n\u001b[0m",
      "\u001b[0;31mNameError\u001b[0m: name 'mgmt' is not defined"
     ]
    }
   ],
   "source": [
    "mgmt.measure();"
   ]
  },
  {
   "cell_type": "markdown",
   "id": "43c83834",
   "metadata": {},
   "source": [
    "---\n",
    "## Accessing saved data using PyASDF\n",
    "\n",
    "All saved data can be accessed using `ASDFDataSet` attributes.  \n",
    "For a more thorough explanation of accessing data with an `ASDFDataSet`, see: https://seismicdata.github.io/pyasdf/index.html\n",
    "\n",
    "**Event metadata** is stored as an ObsPy `Catalog` object in the `ASDFDataSet.events` attribute.  "
   ]
  },
  {
   "cell_type": "code",
   "execution_count": 12,
   "id": "5303fafe",
   "metadata": {
    "execution": {
     "iopub.execute_input": "2022-02-24T21:12:17.710720Z",
     "iopub.status.busy": "2022-02-24T21:12:17.710375Z",
     "iopub.status.idle": "2022-02-24T21:12:17.711650Z",
     "shell.execute_reply": "2022-02-24T21:12:17.711877Z"
    }
   },
   "outputs": [
    {
     "ename": "NameError",
     "evalue": "name 'ds' is not defined",
     "output_type": "error",
     "traceback": [
      "\u001b[0;31m---------------------------------------------------------------------------\u001b[0m",
      "\u001b[0;31mNameError\u001b[0m                                 Traceback (most recent call last)",
      "\u001b[0;32m/tmp/ipykernel_28228/566616875.py\u001b[0m in \u001b[0;36m<module>\u001b[0;34m\u001b[0m\n\u001b[0;32m----> 1\u001b[0;31m \u001b[0mds\u001b[0m\u001b[0;34m.\u001b[0m\u001b[0mevents\u001b[0m\u001b[0;34m[\u001b[0m\u001b[0;36m0\u001b[0m\u001b[0;34m]\u001b[0m\u001b[0;34m\u001b[0m\u001b[0;34m\u001b[0m\u001b[0m\n\u001b[0m",
      "\u001b[0;31mNameError\u001b[0m: name 'ds' is not defined"
     ]
    }
   ],
   "source": [
    "ds.events[0]"
   ]
  },
  {
   "cell_type": "markdown",
   "id": "6758a67f",
   "metadata": {},
   "source": [
    "---\n",
    "**Waveforms** are stored as ObsPy `Stream` objects, and **station metadata** is stored as ObsPy `Inventory` objects.  \n",
    "They are stored together in the `ASDFDataSet.waveforms` attribute.  "
   ]
  },
  {
   "cell_type": "code",
   "execution_count": 13,
   "id": "4bab21ab",
   "metadata": {
    "execution": {
     "iopub.execute_input": "2022-02-24T21:12:17.716242Z",
     "iopub.status.busy": "2022-02-24T21:12:17.713517Z",
     "iopub.status.idle": "2022-02-24T21:12:17.717493Z",
     "shell.execute_reply": "2022-02-24T21:12:17.717709Z"
    }
   },
   "outputs": [
    {
     "ename": "NameError",
     "evalue": "name 'ds' is not defined",
     "output_type": "error",
     "traceback": [
      "\u001b[0;31m---------------------------------------------------------------------------\u001b[0m",
      "\u001b[0;31mNameError\u001b[0m                                 Traceback (most recent call last)",
      "\u001b[0;32m/tmp/ipykernel_28228/3539442561.py\u001b[0m in \u001b[0;36m<module>\u001b[0;34m\u001b[0m\n\u001b[0;32m----> 1\u001b[0;31m \u001b[0mds\u001b[0m\u001b[0;34m.\u001b[0m\u001b[0mwaveforms\u001b[0m\u001b[0;34m.\u001b[0m\u001b[0mNZ_BFZ\u001b[0m\u001b[0;34m.\u001b[0m\u001b[0mStationXML\u001b[0m\u001b[0;34m\u001b[0m\u001b[0;34m\u001b[0m\u001b[0m\n\u001b[0m",
      "\u001b[0;31mNameError\u001b[0m: name 'ds' is not defined"
     ]
    }
   ],
   "source": [
    "ds.waveforms.NZ_BFZ.StationXML"
   ]
  },
  {
   "cell_type": "code",
   "execution_count": 14,
   "id": "65107beb",
   "metadata": {
    "execution": {
     "iopub.execute_input": "2022-02-24T21:12:17.720733Z",
     "iopub.status.busy": "2022-02-24T21:12:17.719264Z",
     "iopub.status.idle": "2022-02-24T21:12:17.722764Z",
     "shell.execute_reply": "2022-02-24T21:12:17.723036Z"
    }
   },
   "outputs": [
    {
     "ename": "NameError",
     "evalue": "name 'ds' is not defined",
     "output_type": "error",
     "traceback": [
      "\u001b[0;31m---------------------------------------------------------------------------\u001b[0m",
      "\u001b[0;31mNameError\u001b[0m                                 Traceback (most recent call last)",
      "\u001b[0;32m/tmp/ipykernel_28228/834263408.py\u001b[0m in \u001b[0;36m<module>\u001b[0;34m\u001b[0m\n\u001b[0;32m----> 1\u001b[0;31m \u001b[0mds\u001b[0m\u001b[0;34m.\u001b[0m\u001b[0mwaveforms\u001b[0m\u001b[0;34m.\u001b[0m\u001b[0mNZ_BFZ\u001b[0m\u001b[0;34m.\u001b[0m\u001b[0mobserved\u001b[0m \u001b[0;34m+\u001b[0m \u001b[0mds\u001b[0m\u001b[0;34m.\u001b[0m\u001b[0mwaveforms\u001b[0m\u001b[0;34m.\u001b[0m\u001b[0mNZ_BFZ\u001b[0m\u001b[0;34m.\u001b[0m\u001b[0msynthetic\u001b[0m\u001b[0;34m\u001b[0m\u001b[0;34m\u001b[0m\u001b[0m\n\u001b[0m",
      "\u001b[0;31mNameError\u001b[0m: name 'ds' is not defined"
     ]
    }
   ],
   "source": [
    "ds.waveforms.NZ_BFZ.observed + ds.waveforms.NZ_BFZ.synthetic"
   ]
  },
  {
   "cell_type": "markdown",
   "id": "7af1fa15",
   "metadata": {},
   "source": [
    "-----\n",
    "**Misfit windows**, **Adjoint Sources**, and **Configuration parameters** are stored in the `ADSFDataSet.auxiliary_data` attribute."
   ]
  },
  {
   "cell_type": "code",
   "execution_count": 15,
   "id": "9fd6ec1b",
   "metadata": {
    "execution": {
     "iopub.execute_input": "2022-02-24T21:12:17.728442Z",
     "iopub.status.busy": "2022-02-24T21:12:17.728167Z",
     "iopub.status.idle": "2022-02-24T21:12:17.729818Z",
     "shell.execute_reply": "2022-02-24T21:12:17.729579Z"
    }
   },
   "outputs": [
    {
     "ename": "NameError",
     "evalue": "name 'ds' is not defined",
     "output_type": "error",
     "traceback": [
      "\u001b[0;31m---------------------------------------------------------------------------\u001b[0m",
      "\u001b[0;31mNameError\u001b[0m                                 Traceback (most recent call last)",
      "\u001b[0;32m/tmp/ipykernel_28228/1288702718.py\u001b[0m in \u001b[0;36m<module>\u001b[0;34m\u001b[0m\n\u001b[0;32m----> 1\u001b[0;31m \u001b[0mds\u001b[0m\u001b[0;34m.\u001b[0m\u001b[0mauxiliary_data\u001b[0m\u001b[0;34m\u001b[0m\u001b[0;34m\u001b[0m\u001b[0m\n\u001b[0m",
      "\u001b[0;31mNameError\u001b[0m: name 'ds' is not defined"
     ]
    }
   ],
   "source": [
    "ds.auxiliary_data"
   ]
  },
  {
   "cell_type": "markdown",
   "id": "e2aff3d0",
   "metadata": {},
   "source": [
    "If no `iteration` or `step_count` attributes are provided to the `Config` object, auxiliary data will be stored using the `default` tag."
   ]
  },
  {
   "cell_type": "code",
   "execution_count": 16,
   "id": "2a25a636",
   "metadata": {
    "execution": {
     "iopub.execute_input": "2022-02-24T21:12:17.733845Z",
     "iopub.status.busy": "2022-02-24T21:12:17.733612Z",
     "iopub.status.idle": "2022-02-24T21:12:17.735212Z",
     "shell.execute_reply": "2022-02-24T21:12:17.734998Z"
    }
   },
   "outputs": [
    {
     "ename": "NameError",
     "evalue": "name 'ds' is not defined",
     "output_type": "error",
     "traceback": [
      "\u001b[0;31m---------------------------------------------------------------------------\u001b[0m",
      "\u001b[0;31mNameError\u001b[0m                                 Traceback (most recent call last)",
      "\u001b[0;32m/tmp/ipykernel_28228/3819698604.py\u001b[0m in \u001b[0;36m<module>\u001b[0;34m\u001b[0m\n\u001b[0;32m----> 1\u001b[0;31m \u001b[0mds\u001b[0m\u001b[0;34m.\u001b[0m\u001b[0mauxiliary_data\u001b[0m\u001b[0;34m.\u001b[0m\u001b[0mMisfitWindows\u001b[0m\u001b[0;34m\u001b[0m\u001b[0;34m\u001b[0m\u001b[0m\n\u001b[0m",
      "\u001b[0;31mNameError\u001b[0m: name 'ds' is not defined"
     ]
    }
   ],
   "source": [
    "ds.auxiliary_data.MisfitWindows"
   ]
  },
  {
   "cell_type": "code",
   "execution_count": 17,
   "id": "d03ce460",
   "metadata": {
    "execution": {
     "iopub.execute_input": "2022-02-24T21:12:17.739485Z",
     "iopub.status.busy": "2022-02-24T21:12:17.739187Z",
     "iopub.status.idle": "2022-02-24T21:12:17.740748Z",
     "shell.execute_reply": "2022-02-24T21:12:17.740956Z"
    }
   },
   "outputs": [
    {
     "ename": "NameError",
     "evalue": "name 'ds' is not defined",
     "output_type": "error",
     "traceback": [
      "\u001b[0;31m---------------------------------------------------------------------------\u001b[0m",
      "\u001b[0;31mNameError\u001b[0m                                 Traceback (most recent call last)",
      "\u001b[0;32m/tmp/ipykernel_28228/3667109825.py\u001b[0m in \u001b[0;36m<module>\u001b[0;34m\u001b[0m\n\u001b[0;32m----> 1\u001b[0;31m \u001b[0mds\u001b[0m\u001b[0;34m.\u001b[0m\u001b[0mauxiliary_data\u001b[0m\u001b[0;34m.\u001b[0m\u001b[0mMisfitWindows\u001b[0m\u001b[0;34m[\u001b[0m\u001b[0;34m'default'\u001b[0m\u001b[0;34m]\u001b[0m\u001b[0;34m\u001b[0m\u001b[0;34m\u001b[0m\u001b[0m\n\u001b[0m",
      "\u001b[0;31mNameError\u001b[0m: name 'ds' is not defined"
     ]
    }
   ],
   "source": [
    "ds.auxiliary_data.MisfitWindows['default']"
   ]
  },
  {
   "cell_type": "code",
   "execution_count": 18,
   "id": "8eec540b",
   "metadata": {
    "execution": {
     "iopub.execute_input": "2022-02-24T21:12:17.746625Z",
     "iopub.status.busy": "2022-02-24T21:12:17.746356Z",
     "iopub.status.idle": "2022-02-24T21:12:17.747821Z",
     "shell.execute_reply": "2022-02-24T21:12:17.747606Z"
    }
   },
   "outputs": [
    {
     "ename": "NameError",
     "evalue": "name 'ds' is not defined",
     "output_type": "error",
     "traceback": [
      "\u001b[0;31m---------------------------------------------------------------------------\u001b[0m",
      "\u001b[0;31mNameError\u001b[0m                                 Traceback (most recent call last)",
      "\u001b[0;32m/tmp/ipykernel_28228/1064135952.py\u001b[0m in \u001b[0;36m<module>\u001b[0;34m\u001b[0m\n\u001b[0;32m----> 1\u001b[0;31m \u001b[0mds\u001b[0m\u001b[0;34m.\u001b[0m\u001b[0mauxiliary_data\u001b[0m\u001b[0;34m.\u001b[0m\u001b[0mMisfitWindows\u001b[0m\u001b[0;34m.\u001b[0m\u001b[0mdefault\u001b[0m\u001b[0;34m.\u001b[0m\u001b[0mNZ_BFZ_E_0\u001b[0m\u001b[0;34m\u001b[0m\u001b[0;34m\u001b[0m\u001b[0m\n\u001b[0m",
      "\u001b[0;31mNameError\u001b[0m: name 'ds' is not defined"
     ]
    }
   ],
   "source": [
    "ds.auxiliary_data.MisfitWindows.default.NZ_BFZ_E_0"
   ]
  },
  {
   "cell_type": "code",
   "execution_count": 19,
   "id": "b3448343",
   "metadata": {
    "execution": {
     "iopub.execute_input": "2022-02-24T21:12:17.752021Z",
     "iopub.status.busy": "2022-02-24T21:12:17.749375Z",
     "iopub.status.idle": "2022-02-24T21:12:17.753616Z",
     "shell.execute_reply": "2022-02-24T21:12:17.753374Z"
    }
   },
   "outputs": [
    {
     "ename": "NameError",
     "evalue": "name 'ds' is not defined",
     "output_type": "error",
     "traceback": [
      "\u001b[0;31m---------------------------------------------------------------------------\u001b[0m",
      "\u001b[0;31mNameError\u001b[0m                                 Traceback (most recent call last)",
      "\u001b[0;32m/tmp/ipykernel_28228/2519620398.py\u001b[0m in \u001b[0;36m<module>\u001b[0;34m\u001b[0m\n\u001b[0;32m----> 1\u001b[0;31m \u001b[0mds\u001b[0m\u001b[0;34m.\u001b[0m\u001b[0mauxiliary_data\u001b[0m\u001b[0;34m.\u001b[0m\u001b[0mAdjointSources\u001b[0m\u001b[0;34m\u001b[0m\u001b[0;34m\u001b[0m\u001b[0m\n\u001b[0m",
      "\u001b[0;31mNameError\u001b[0m: name 'ds' is not defined"
     ]
    }
   ],
   "source": [
    "ds.auxiliary_data.AdjointSources"
   ]
  },
  {
   "cell_type": "code",
   "execution_count": 20,
   "id": "b68493c3",
   "metadata": {
    "execution": {
     "iopub.execute_input": "2022-02-24T21:12:17.759075Z",
     "iopub.status.busy": "2022-02-24T21:12:17.758801Z",
     "iopub.status.idle": "2022-02-24T21:12:17.760387Z",
     "shell.execute_reply": "2022-02-24T21:12:17.760163Z"
    }
   },
   "outputs": [
    {
     "ename": "NameError",
     "evalue": "name 'ds' is not defined",
     "output_type": "error",
     "traceback": [
      "\u001b[0;31m---------------------------------------------------------------------------\u001b[0m",
      "\u001b[0;31mNameError\u001b[0m                                 Traceback (most recent call last)",
      "\u001b[0;32m/tmp/ipykernel_28228/3079101400.py\u001b[0m in \u001b[0;36m<module>\u001b[0;34m\u001b[0m\n\u001b[0;32m----> 1\u001b[0;31m \u001b[0mds\u001b[0m\u001b[0;34m.\u001b[0m\u001b[0mauxiliary_data\u001b[0m\u001b[0;34m.\u001b[0m\u001b[0mAdjointSources\u001b[0m\u001b[0;34m.\u001b[0m\u001b[0mdefault\u001b[0m\u001b[0;34m\u001b[0m\u001b[0;34m\u001b[0m\u001b[0m\n\u001b[0m",
      "\u001b[0;31mNameError\u001b[0m: name 'ds' is not defined"
     ]
    }
   ],
   "source": [
    "ds.auxiliary_data.AdjointSources.default"
   ]
  },
  {
   "cell_type": "code",
   "execution_count": 21,
   "id": "b6405f0b",
   "metadata": {
    "execution": {
     "iopub.execute_input": "2022-02-24T21:12:17.764049Z",
     "iopub.status.busy": "2022-02-24T21:12:17.761900Z",
     "iopub.status.idle": "2022-02-24T21:12:17.766131Z",
     "shell.execute_reply": "2022-02-24T21:12:17.766373Z"
    }
   },
   "outputs": [
    {
     "ename": "NameError",
     "evalue": "name 'ds' is not defined",
     "output_type": "error",
     "traceback": [
      "\u001b[0;31m---------------------------------------------------------------------------\u001b[0m",
      "\u001b[0;31mNameError\u001b[0m                                 Traceback (most recent call last)",
      "\u001b[0;32m/tmp/ipykernel_28228/2747982743.py\u001b[0m in \u001b[0;36m<module>\u001b[0;34m\u001b[0m\n\u001b[0;32m----> 1\u001b[0;31m \u001b[0mds\u001b[0m\u001b[0;34m.\u001b[0m\u001b[0mauxiliary_data\u001b[0m\u001b[0;34m.\u001b[0m\u001b[0mAdjointSources\u001b[0m\u001b[0;34m.\u001b[0m\u001b[0mdefault\u001b[0m\u001b[0;34m.\u001b[0m\u001b[0mNZ_BFZ_BXE\u001b[0m\u001b[0;34m\u001b[0m\u001b[0;34m\u001b[0m\u001b[0m\n\u001b[0m",
      "\u001b[0;31mNameError\u001b[0m: name 'ds' is not defined"
     ]
    }
   ],
   "source": [
    "ds.auxiliary_data.AdjointSources.default.NZ_BFZ_BXE"
   ]
  },
  {
   "cell_type": "markdown",
   "id": "dc47b57f",
   "metadata": {},
   "source": [
    "---\n",
    "## Re-loading data using the Manager\n",
    "\n",
    "Data previously saved into an `ASDFDataSet` can be loaded back into a `Manager` class using the `Manager.load()` function. The `load()` function will search for matching metadata, waveforms and configuration parameters, based on the `path` argument provided."
   ]
  },
  {
   "cell_type": "code",
   "execution_count": 22,
   "id": "ffd0778b",
   "metadata": {
    "execution": {
     "iopub.execute_input": "2022-02-24T21:12:17.772022Z",
     "iopub.status.busy": "2022-02-24T21:12:17.768112Z",
     "iopub.status.idle": "2022-02-24T21:12:17.773847Z",
     "shell.execute_reply": "2022-02-24T21:12:17.774109Z"
    }
   },
   "outputs": [
    {
     "ename": "NameError",
     "evalue": "name 'ds' is not defined",
     "output_type": "error",
     "traceback": [
      "\u001b[0;31m---------------------------------------------------------------------------\u001b[0m",
      "\u001b[0;31mNameError\u001b[0m                                 Traceback (most recent call last)",
      "\u001b[0;32m/tmp/ipykernel_28228/3221629193.py\u001b[0m in \u001b[0;36m<module>\u001b[0;34m\u001b[0m\n\u001b[0;32m----> 1\u001b[0;31m \u001b[0mmgmt\u001b[0m \u001b[0;34m=\u001b[0m \u001b[0mManager\u001b[0m\u001b[0;34m(\u001b[0m\u001b[0mds\u001b[0m\u001b[0;34m=\u001b[0m\u001b[0mds\u001b[0m\u001b[0;34m)\u001b[0m\u001b[0;34m\u001b[0m\u001b[0;34m\u001b[0m\u001b[0m\n\u001b[0m\u001b[1;32m      2\u001b[0m \u001b[0mmgmt\u001b[0m\u001b[0;34m.\u001b[0m\u001b[0mload\u001b[0m\u001b[0;34m(\u001b[0m\u001b[0mcode\u001b[0m\u001b[0;34m=\u001b[0m\u001b[0;34m\"NZ.BFZ\"\u001b[0m\u001b[0;34m,\u001b[0m \u001b[0mpath\u001b[0m\u001b[0;34m=\u001b[0m\u001b[0;34m\"default\"\u001b[0m\u001b[0;34m)\u001b[0m\u001b[0;34m\u001b[0m\u001b[0;34m\u001b[0m\u001b[0m\n",
      "\u001b[0;31mNameError\u001b[0m: name 'ds' is not defined"
     ]
    }
   ],
   "source": [
    "mgmt = Manager(ds=ds)\n",
    "mgmt.load(code=\"NZ.BFZ\", path=\"default\")"
   ]
  },
  {
   "cell_type": "markdown",
   "id": "9e2324a3",
   "metadata": {},
   "source": [
    "Misfit windows and adjoint sources are not explicitely re-loaded. Windows can be loaded using optional arguments in the `Manager.window()` function."
   ]
  },
  {
   "cell_type": "markdown",
   "id": "c851e4f7",
   "metadata": {},
   "source": [
    "---\n",
    "## Saving data during an inversion\n",
    "\n",
    "For each function evaluation, a new set of synthetic waveforms, misfit windows, adjoint sources and (potentially) configuration parameters, are defined. Therefore, unique tags are required to save and load this information in a reliable manner. \n",
    "\n",
    "Pyatoa tags using the `Config.iteration` and `Config.step_count` attributes to define unique tags during an inversion."
   ]
  },
  {
   "cell_type": "code",
   "execution_count": 23,
   "id": "71ff9bc0",
   "metadata": {
    "execution": {
     "iopub.execute_input": "2022-02-24T21:12:17.777437Z",
     "iopub.status.busy": "2022-02-24T21:12:17.777109Z",
     "iopub.status.idle": "2022-02-24T21:12:17.783198Z",
     "shell.execute_reply": "2022-02-24T21:12:17.783436Z"
    }
   },
   "outputs": [
    {
     "name": "stderr",
     "output_type": "stream",
     "text": [
      "[2022-02-24 12:12:17] - pyatoa - DEBUG: Component list set to E/N/Z\n"
     ]
    },
    {
     "ename": "FileNotFoundError",
     "evalue": "[Errno 2] No such file or directory: '../tests/test_data/docs_data/test_ASDFDataSet.h5'",
     "output_type": "error",
     "traceback": [
      "\u001b[0;31m---------------------------------------------------------------------------\u001b[0m",
      "\u001b[0;31mFileNotFoundError\u001b[0m                         Traceback (most recent call last)",
      "\u001b[0;32m/tmp/ipykernel_28228/3741363226.py\u001b[0m in \u001b[0;36m<module>\u001b[0;34m\u001b[0m\n\u001b[1;32m      3\u001b[0m \u001b[0;34m\u001b[0m\u001b[0m\n\u001b[1;32m      4\u001b[0m \u001b[0;31m# Remove the previously created dataset\u001b[0m\u001b[0;34m\u001b[0m\u001b[0;34m\u001b[0m\u001b[0;34m\u001b[0m\u001b[0m\n\u001b[0;32m----> 5\u001b[0;31m \u001b[0mos\u001b[0m\u001b[0;34m.\u001b[0m\u001b[0mremove\u001b[0m\u001b[0;34m(\u001b[0m\u001b[0mds_fid\u001b[0m\u001b[0;34m)\u001b[0m\u001b[0;34m\u001b[0m\u001b[0;34m\u001b[0m\u001b[0m\n\u001b[0m\u001b[1;32m      6\u001b[0m \u001b[0mds\u001b[0m \u001b[0;34m=\u001b[0m \u001b[0mASDFDataSet\u001b[0m\u001b[0;34m(\u001b[0m\u001b[0mds_fid\u001b[0m\u001b[0;34m)\u001b[0m\u001b[0;34m\u001b[0m\u001b[0;34m\u001b[0m\u001b[0m\n\u001b[1;32m      7\u001b[0m \u001b[0;34m\u001b[0m\u001b[0m\n",
      "\u001b[0;31mFileNotFoundError\u001b[0m: [Errno 2] No such file or directory: '../tests/test_data/docs_data/test_ASDFDataSet.h5'"
     ]
    }
   ],
   "source": [
    "# Set the config iteration and step_count parameters\n",
    "cfg = Config(iteration=1, step_count=0)\n",
    "\n",
    "# Remove the previously created dataset\n",
    "os.remove(ds_fid)\n",
    "ds = ASDFDataSet(ds_fid)\n",
    "\n",
    "cfg.write(write_to=ds)\n",
    "mgmt = Manager(ds=ds, config=cfg, inv=inv, event=event, st_obs=st_obs, st_syn=st_syn)\n",
    "mgmt.write()\n",
    "mgmt.flow()"
   ]
  },
  {
   "cell_type": "markdown",
   "id": "852e3b85",
   "metadata": {},
   "source": [
    "The `ASDFDataSet` is now populated with appropriately tagged data, denoting which function evaluation it belongs to."
   ]
  },
  {
   "cell_type": "code",
   "execution_count": 24,
   "id": "4b3cc685",
   "metadata": {
    "execution": {
     "iopub.execute_input": "2022-02-24T21:12:17.788469Z",
     "iopub.status.busy": "2022-02-24T21:12:17.787987Z",
     "iopub.status.idle": "2022-02-24T21:12:17.790404Z",
     "shell.execute_reply": "2022-02-24T21:12:17.790159Z"
    }
   },
   "outputs": [
    {
     "ename": "NameError",
     "evalue": "name 'ds' is not defined",
     "output_type": "error",
     "traceback": [
      "\u001b[0;31m---------------------------------------------------------------------------\u001b[0m",
      "\u001b[0;31mNameError\u001b[0m                                 Traceback (most recent call last)",
      "\u001b[0;32m/tmp/ipykernel_28228/2186614119.py\u001b[0m in \u001b[0;36m<module>\u001b[0;34m\u001b[0m\n\u001b[0;32m----> 1\u001b[0;31m \u001b[0mds\u001b[0m\u001b[0;34m.\u001b[0m\u001b[0mwaveforms\u001b[0m\u001b[0;34m.\u001b[0m\u001b[0mNZ_BFZ\u001b[0m\u001b[0;34m\u001b[0m\u001b[0;34m\u001b[0m\u001b[0m\n\u001b[0m",
      "\u001b[0;31mNameError\u001b[0m: name 'ds' is not defined"
     ]
    }
   ],
   "source": [
    "ds.waveforms.NZ_BFZ"
   ]
  },
  {
   "cell_type": "code",
   "execution_count": 25,
   "id": "06ae63aa",
   "metadata": {
    "execution": {
     "iopub.execute_input": "2022-02-24T21:12:17.797173Z",
     "iopub.status.busy": "2022-02-24T21:12:17.792538Z",
     "iopub.status.idle": "2022-02-24T21:12:17.798558Z",
     "shell.execute_reply": "2022-02-24T21:12:17.798771Z"
    }
   },
   "outputs": [
    {
     "ename": "NameError",
     "evalue": "name 'ds' is not defined",
     "output_type": "error",
     "traceback": [
      "\u001b[0;31m---------------------------------------------------------------------------\u001b[0m",
      "\u001b[0;31mNameError\u001b[0m                                 Traceback (most recent call last)",
      "\u001b[0;32m/tmp/ipykernel_28228/2482646728.py\u001b[0m in \u001b[0;36m<module>\u001b[0;34m\u001b[0m\n\u001b[0;32m----> 1\u001b[0;31m \u001b[0mds\u001b[0m\u001b[0;34m.\u001b[0m\u001b[0mwaveforms\u001b[0m\u001b[0;34m.\u001b[0m\u001b[0mNZ_BFZ\u001b[0m\u001b[0;34m.\u001b[0m\u001b[0msynthetic_i01s00\u001b[0m\u001b[0;34m\u001b[0m\u001b[0;34m\u001b[0m\u001b[0m\n\u001b[0m",
      "\u001b[0;31mNameError\u001b[0m: name 'ds' is not defined"
     ]
    }
   ],
   "source": [
    "ds.waveforms.NZ_BFZ.synthetic_i01s00"
   ]
  },
  {
   "cell_type": "markdown",
   "id": "0e2213d0",
   "metadata": {},
   "source": [
    "Auxiliary data will be tagged in a similar fashion, making it simple to re-access specific function evaluations."
   ]
  },
  {
   "cell_type": "code",
   "execution_count": 26,
   "id": "247f4315",
   "metadata": {
    "execution": {
     "iopub.execute_input": "2022-02-24T21:12:17.803897Z",
     "iopub.status.busy": "2022-02-24T21:12:17.800509Z",
     "iopub.status.idle": "2022-02-24T21:12:17.805705Z",
     "shell.execute_reply": "2022-02-24T21:12:17.805471Z"
    }
   },
   "outputs": [
    {
     "ename": "NameError",
     "evalue": "name 'ds' is not defined",
     "output_type": "error",
     "traceback": [
      "\u001b[0;31m---------------------------------------------------------------------------\u001b[0m",
      "\u001b[0;31mNameError\u001b[0m                                 Traceback (most recent call last)",
      "\u001b[0;32m/tmp/ipykernel_28228/3819698604.py\u001b[0m in \u001b[0;36m<module>\u001b[0;34m\u001b[0m\n\u001b[0;32m----> 1\u001b[0;31m \u001b[0mds\u001b[0m\u001b[0;34m.\u001b[0m\u001b[0mauxiliary_data\u001b[0m\u001b[0;34m.\u001b[0m\u001b[0mMisfitWindows\u001b[0m\u001b[0;34m\u001b[0m\u001b[0;34m\u001b[0m\u001b[0m\n\u001b[0m",
      "\u001b[0;31mNameError\u001b[0m: name 'ds' is not defined"
     ]
    }
   ],
   "source": [
    "ds.auxiliary_data.MisfitWindows"
   ]
  },
  {
   "cell_type": "code",
   "execution_count": 27,
   "id": "325442bb",
   "metadata": {
    "execution": {
     "iopub.execute_input": "2022-02-24T21:12:17.808124Z",
     "iopub.status.busy": "2022-02-24T21:12:17.807841Z",
     "iopub.status.idle": "2022-02-24T21:12:17.813858Z",
     "shell.execute_reply": "2022-02-24T21:12:17.814083Z"
    }
   },
   "outputs": [
    {
     "ename": "NameError",
     "evalue": "name 'ds' is not defined",
     "output_type": "error",
     "traceback": [
      "\u001b[0;31m---------------------------------------------------------------------------\u001b[0m",
      "\u001b[0;31mNameError\u001b[0m                                 Traceback (most recent call last)",
      "\u001b[0;32m/tmp/ipykernel_28228/2680547066.py\u001b[0m in \u001b[0;36m<module>\u001b[0;34m\u001b[0m\n\u001b[0;32m----> 1\u001b[0;31m \u001b[0mds\u001b[0m\u001b[0;34m.\u001b[0m\u001b[0mauxiliary_data\u001b[0m\u001b[0;34m.\u001b[0m\u001b[0mMisfitWindows\u001b[0m\u001b[0;34m.\u001b[0m\u001b[0mi01\u001b[0m\u001b[0;34m\u001b[0m\u001b[0;34m\u001b[0m\u001b[0m\n\u001b[0m",
      "\u001b[0;31mNameError\u001b[0m: name 'ds' is not defined"
     ]
    }
   ],
   "source": [
    "ds.auxiliary_data.MisfitWindows.i01"
   ]
  },
  {
   "cell_type": "code",
   "execution_count": 28,
   "id": "78ea074f",
   "metadata": {
    "execution": {
     "iopub.execute_input": "2022-02-24T21:12:17.819692Z",
     "iopub.status.busy": "2022-02-24T21:12:17.815876Z",
     "iopub.status.idle": "2022-02-24T21:12:17.821617Z",
     "shell.execute_reply": "2022-02-24T21:12:17.821349Z"
    }
   },
   "outputs": [
    {
     "ename": "NameError",
     "evalue": "name 'ds' is not defined",
     "output_type": "error",
     "traceback": [
      "\u001b[0;31m---------------------------------------------------------------------------\u001b[0m",
      "\u001b[0;31mNameError\u001b[0m                                 Traceback (most recent call last)",
      "\u001b[0;32m/tmp/ipykernel_28228/1343203193.py\u001b[0m in \u001b[0;36m<module>\u001b[0;34m\u001b[0m\n\u001b[0;32m----> 1\u001b[0;31m \u001b[0mds\u001b[0m\u001b[0;34m.\u001b[0m\u001b[0mauxiliary_data\u001b[0m\u001b[0;34m.\u001b[0m\u001b[0mMisfitWindows\u001b[0m\u001b[0;34m.\u001b[0m\u001b[0mi01\u001b[0m\u001b[0;34m.\u001b[0m\u001b[0ms00\u001b[0m\u001b[0;34m\u001b[0m\u001b[0;34m\u001b[0m\u001b[0m\n\u001b[0m",
      "\u001b[0;31mNameError\u001b[0m: name 'ds' is not defined"
     ]
    }
   ],
   "source": [
    "ds.auxiliary_data.MisfitWindows.i01.s00"
   ]
  },
  {
   "cell_type": "markdown",
   "id": "b2551cf0",
   "metadata": {},
   "source": [
    "Using the `Manager.load()` function, we can specify the unique `path` to determine which function evaluation we want to retrieve data from."
   ]
  },
  {
   "cell_type": "code",
   "execution_count": 29,
   "id": "1c6f04ea",
   "metadata": {
    "execution": {
     "iopub.execute_input": "2022-02-24T21:12:17.829027Z",
     "iopub.status.busy": "2022-02-24T21:12:17.828631Z",
     "iopub.status.idle": "2022-02-24T21:12:17.830274Z",
     "shell.execute_reply": "2022-02-24T21:12:17.830040Z"
    }
   },
   "outputs": [
    {
     "ename": "NameError",
     "evalue": "name 'ds' is not defined",
     "output_type": "error",
     "traceback": [
      "\u001b[0;31m---------------------------------------------------------------------------\u001b[0m",
      "\u001b[0;31mNameError\u001b[0m                                 Traceback (most recent call last)",
      "\u001b[0;32m/tmp/ipykernel_28228/2422694046.py\u001b[0m in \u001b[0;36m<module>\u001b[0;34m\u001b[0m\n\u001b[0;32m----> 1\u001b[0;31m \u001b[0mmgmt\u001b[0m \u001b[0;34m=\u001b[0m \u001b[0mManager\u001b[0m\u001b[0;34m(\u001b[0m\u001b[0mds\u001b[0m\u001b[0;34m=\u001b[0m\u001b[0mds\u001b[0m\u001b[0;34m)\u001b[0m\u001b[0;34m\u001b[0m\u001b[0;34m\u001b[0m\u001b[0m\n\u001b[0m\u001b[1;32m      2\u001b[0m \u001b[0mmgmt\u001b[0m\u001b[0;34m.\u001b[0m\u001b[0mload\u001b[0m\u001b[0;34m(\u001b[0m\u001b[0;34m\"NZ.BFZ\"\u001b[0m\u001b[0;34m,\u001b[0m \u001b[0mpath\u001b[0m\u001b[0;34m=\u001b[0m\u001b[0;34m\"i01/s00\"\u001b[0m\u001b[0;34m,\u001b[0m \u001b[0msynthetic_tag\u001b[0m\u001b[0;34m=\u001b[0m\u001b[0;34m\"synthetic_i01s00\"\u001b[0m\u001b[0;34m)\u001b[0m\u001b[0;34m\u001b[0m\u001b[0;34m\u001b[0m\u001b[0m\n\u001b[1;32m      3\u001b[0m \u001b[0mmgmt\u001b[0m\u001b[0;34m.\u001b[0m\u001b[0mstandardize\u001b[0m\u001b[0;34m(\u001b[0m\u001b[0;34m)\u001b[0m\u001b[0;34m.\u001b[0m\u001b[0mpreprocess\u001b[0m\u001b[0;34m(\u001b[0m\u001b[0;34m)\u001b[0m\u001b[0;34m\u001b[0m\u001b[0;34m\u001b[0m\u001b[0m\n",
      "\u001b[0;31mNameError\u001b[0m: name 'ds' is not defined"
     ]
    }
   ],
   "source": [
    "mgmt = Manager(ds=ds)\n",
    "mgmt.load(\"NZ.BFZ\", path=\"i01/s00\", synthetic_tag=\"synthetic_i01s00\")\n",
    "mgmt.standardize().preprocess()"
   ]
  },
  {
   "cell_type": "markdown",
   "id": "d29f123b",
   "metadata": {},
   "source": [
    "We can now load in previously retrieved windows from the dataset, using the `Manager.window()` function.  \n",
    "Windows misfit criteria will be re-evaluated using the current set of data. We can turn off automatic window saving using the optional `save` argument."
   ]
  },
  {
   "cell_type": "code",
   "execution_count": 30,
   "id": "be08efa1",
   "metadata": {
    "execution": {
     "iopub.execute_input": "2022-02-24T21:12:17.832214Z",
     "iopub.status.busy": "2022-02-24T21:12:17.831989Z",
     "iopub.status.idle": "2022-02-24T21:12:17.836690Z",
     "shell.execute_reply": "2022-02-24T21:12:17.836489Z"
    }
   },
   "outputs": [
    {
     "ename": "NameError",
     "evalue": "name 'mgmt' is not defined",
     "output_type": "error",
     "traceback": [
      "\u001b[0;31m---------------------------------------------------------------------------\u001b[0m",
      "\u001b[0;31mNameError\u001b[0m                                 Traceback (most recent call last)",
      "\u001b[0;32m/tmp/ipykernel_28228/4112826898.py\u001b[0m in \u001b[0;36m<module>\u001b[0;34m\u001b[0m\n\u001b[0;32m----> 1\u001b[0;31m \u001b[0mmgmt\u001b[0m\u001b[0;34m.\u001b[0m\u001b[0mwindow\u001b[0m\u001b[0;34m(\u001b[0m\u001b[0mfix_windows\u001b[0m\u001b[0;34m=\u001b[0m\u001b[0;32mTrue\u001b[0m\u001b[0;34m,\u001b[0m \u001b[0miteration\u001b[0m\u001b[0;34m=\u001b[0m\u001b[0;36m1\u001b[0m\u001b[0;34m,\u001b[0m \u001b[0mstep_count\u001b[0m\u001b[0;34m=\u001b[0m\u001b[0;36m0\u001b[0m\u001b[0;34m,\u001b[0m \u001b[0msave\u001b[0m\u001b[0;34m=\u001b[0m\u001b[0;32mFalse\u001b[0m\u001b[0;34m)\u001b[0m\u001b[0;34m\u001b[0m\u001b[0;34m\u001b[0m\u001b[0m\n\u001b[0m",
      "\u001b[0;31mNameError\u001b[0m: name 'mgmt' is not defined"
     ]
    }
   ],
   "source": [
    "mgmt.window(fix_windows=True, iteration=1, step_count=0, save=False)"
   ]
  },
  {
   "cell_type": "markdown",
   "id": "6a1092cf",
   "metadata": {},
   "source": [
    "*easy peasy mate*"
   ]
  }
 ],
 "metadata": {
  "kernelspec": {
   "display_name": "Python 3",
   "language": "python",
   "name": "python3"
  },
  "language_info": {
   "codemirror_mode": {
    "name": "ipython",
    "version": 3
   },
   "file_extension": ".py",
   "mimetype": "text/x-python",
   "name": "python",
   "nbconvert_exporter": "python",
   "pygments_lexer": "ipython3",
   "version": "3.7.12"
  }
 },
 "nbformat": 4,
 "nbformat_minor": 5
}
