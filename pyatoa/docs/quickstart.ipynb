{
 "metadata": {
  "kernelspec": {
   "display_name": "Python 3 (ipykernel)",
   "language": "python",
   "name": "python3"
  },
  "language_info": {
   "codemirror_mode": {
    "name": "ipython",
    "version": 3
   },
   "file_extension": ".py",
   "mimetype": "text/x-python",
   "name": "python",
   "nbconvert_exporter": "python",
   "pygments_lexer": "ipython3",
   "version": "3.7.12"
  },
  "name": ""
 },
 "nbformat": 3,
 "nbformat_minor": 0,
 "worksheets": [
  {
   "cells": [
    {
     "cell_type": "markdown",
     "metadata": {},
     "source": [
      "## Quick start\n",
      "\n",
      "For a very brief introduction to `Pyatoa`'s misfit quantification capabilities, let's generate the waveform image shown on the opening documentation page. The code snippet below collects, formats and measures observed and synthetic waveform data using default values. Comments throughout the code black explain what each statement is doing. The end result is a waveform and map figure that presents necessary information to assess waveform misfit."
     ]
    },
    {
     "cell_type": "code",
     "collapsed": false,
     "input": [
      "import os\n",
      "from obspy import read_events\n",
      "from pyatoa import Config, Manager, logger\n",
      "\n",
      "# Ensure that we get the maximum level of under-the-hood log output\n",
      "logger.setLevel(\"DEBUG\")\n",
      "\n",
      "# All the data we need is stored within the following directory\n",
      "test_data = \"../tests/test_data\"\n",
      "\n",
      "# We need an ObsPy Event object to define where and when our event is\n",
      "event = read_events(os.path.join(test_data, \"test_catalog_2018p130600.xml\"))[0]\n",
      "\n",
      "# The Config object controls how the User interfaces with Pyatoa\n",
      "cfg = Config(event_id=\"2018p130600\",\n",
      "             min_period=4,   # minimum filter bandpass in seconds\n",
      "             max_period=30,  # maximum filter bandpass in seconds\n",
      "             end_pad=100,    # desired time-series end point w.r.t event origin time\n",
      "             client=None,    # This parameter ensures that Pyatoa does not search FDSN for data\n",
      "             paths={         # Paths where data and metadata is stored in a specific format\n",
      "                 \"waveforms\": os.path.join(test_data, \"test_mseeds\"),\n",
      "                 \"responses\": os.path.join(test_data, \"test_seed\"),\n",
      "                 \"synthetics\": os.path.join(test_data, \"synthetics\"),\n",
      "                    },\n",
      "\n",
      "             )\n",
      "\n",
      "# The Manager object is the main object in Pyatoa, it stores waveform and metadata and processes accordingly\n",
      "# Each Manager is linked to a single event, but can loop through individual stations for mass processing\n",
      "mgmt = Manager(config=cfg, event=event)\n",
      "\n",
      "# The Manager.gather() function performs a series of generalized searches for corresponding data\n",
      "mgmt.gather(code=\"NZ.BFZ.*.*\")\n",
      "\n",
      "# the Manager.flow() function standardizes and preprocesses waveforms, then windows them and generates adjoint sources\n",
      "mgmt.flow()\n",
      "\n",
      "# The Manager can plot maps and waveform figures individually, or together\n",
      "mgmt.plot(choice=\"both\", show=True)"
     ],
     "language": "python",
     "metadata": {},
     "outputs": [],
     "prompt_number": null
    }
   ],
   "metadata": {}
  }
 ]
}