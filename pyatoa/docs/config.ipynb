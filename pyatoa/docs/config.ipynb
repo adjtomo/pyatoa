{
 "metadata": {
  "kernelspec": {
   "display_name": "Python 3",
   "language": "python",
   "name": "python3"
  },
  "language_info": {
   "codemirror_mode": {
    "name": "ipython",
    "version": 3
   },
   "file_extension": ".py",
   "mimetype": "text/x-python",
   "name": "python",
   "nbconvert_exporter": "python",
   "pygments_lexer": "ipython3",
   "version": "3.7.3"
  },
  "name": ""
 },
 "nbformat": 3,
 "nbformat_minor": 0,
 "worksheets": [
  {
   "cells": [
    {
     "cell_type": "markdown",
     "metadata": {},
     "source": [
      "# Config\n",
      "The `Pyatoa` Config object controls the behavior of the internal Pyatoa workflow, and is accessed by each core class in the package."
     ]
    },
    {
     "cell_type": "markdown",
     "metadata": {},
     "source": [
      "## Initialization\n",
      "An empty configuration class comes with some preset values. "
     ]
    },
    {
     "cell_type": "code",
     "collapsed": false,
     "input": [
      "from pyatoa import Config\n",
      "cfg = Config()\n",
      "print(cfg)"
     ],
     "language": "python",
     "metadata": {},
     "outputs": [],
     "prompt_number": null
    },
    {
     "cell_type": "markdown",
     "metadata": {},
     "source": [
      "### File naming convention\n",
      "\n",
      "The `iteration` and `step_count` parameters are used for internal naming and data saving. They can be set either using integer values, or with strings. They will automatically be formatted to fit in with the Pyatoa naming conventions, which can be accessed with the `iter_tag` and `step_tag` parameters. \n",
      "\n",
      "The parameter `synthetic_tag`, which is used to save synthetic waveforms into an ASDFDataSet, will automatically reflect any changes to the `iteration` and `step_count` variables."
     ]
    },
    {
     "cell_type": "code",
     "collapsed": false,
     "input": [
      "cfg = Config(iteration=1, step_count=0)\n",
      "print(cfg)\n",
      "\n",
      "\n",
      "cfg.iteration = 2\n",
      "cfg.step_count = 3\n",
      "print(f\"cfg.iter_tag = {cfg.iter_tag}\")\n",
      "print(f\"cfg.step_tag = {cfg.step_tag}\")\n",
      "print(f\"cfg.synthetic_tag = {cfg.synthetic_tag}\")"
     ],
     "language": "python",
     "metadata": {},
     "outputs": [],
     "prompt_number": null
    },
    {
     "cell_type": "markdown",
     "metadata": {},
     "source": [
      "## External Configurations\n",
      "\n",
      "The Config class is also intitialized with default Pyflex and Pyadjoint Config classes. Parameters can be set using the `pyflex_preset` and `adj_src_type` parameters, or fed directly as keyword arguments to the Pyatoa Config class.  For specific information on Pyflex and Pyadjoint Config parameters, see the respective documentation pages. For available choices of `pyflex_presets`, see !!!INSERT LINK TO PLUGINS HERE!!!"
     ]
    },
    {
     "cell_type": "code",
     "collapsed": false,
     "input": [
      "# A few randomly chosen arguments to check\n",
      "example_pyflex_kwargs = [\"s2n_limit\", \"c_0\", \"max_time_before_first_arrival\"]\n",
      "\n",
      "# List the arguments for the 'example' preset\n",
      "cfg = Config(pyflex_preset=\"example\")\n",
      "print(\"PYFLEX CONFIG\")\n",
      "for ex in example_pyflex_kwargs:\n",
      "    print(f\"\\t{ex}: {getattr(cfg.pyflex_config, ex)}\")\n",
      "\n",
      "# Modify the arguments of the 'example' preset\n",
      "cfg = Config(pyflex_preset=\"example\", s2n_limit=2.0, c_0=1.0, max_time_before_first_arrival=25.0)\n",
      "print(\"MODIFIED PYFLEX CONFIG\")\n",
      "for ex in example_pyflex_kwargs:\n",
      "    print(f\"\\t{ex}: {getattr(cfg.pyflex_config, ex)}\")"
     ],
     "language": "python",
     "metadata": {
      "scrolled": true
     },
     "outputs": [],
     "prompt_number": null
    },
    {
     "cell_type": "markdown",
     "metadata": {},
     "source": [
      "## Reading / Writing\n",
      "\n",
      "The Config class can be read to and written from text files, and ASDFDataSets. This is accomplished using the `read` and `write` functions. This is handy if a specific suite of configuration parameters will need to be accessed in the future, as may happen in an inversion workflow. "
     ]
    },
    {
     "cell_type": "markdown",
     "metadata": {},
     "source": [
      "# Logger\n",
      "\n",
      "Pyatoa comes with a detailed logger, which has varying levels of output information. For simple statements denoting the status of the workflow, use the `INFO` setting. For detailed logging which details each step of a Pyatoa workflow, including output values, use the `DEBUG` setting. By default, the logger is set to `WARNING` only, which only outputs information when something unexpected occurs.\n",
      "\n",
      "To instantiate a logger, just import and set."
     ]
    },
    {
     "cell_type": "code",
     "collapsed": false,
     "input": [
      "from pyatoa import logger\n",
      "logger.setLevel(\"DEBUG\")"
     ],
     "language": "python",
     "metadata": {},
     "outputs": [],
     "prompt_number": null
    }
   ],
   "metadata": {}
  }
 ]
}