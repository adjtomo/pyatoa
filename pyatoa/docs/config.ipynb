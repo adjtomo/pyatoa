{
 "cells": [
  {
   "cell_type": "markdown",
   "metadata": {},
   "source": [
    "# Config"
   ]
  },
  {
   "cell_type": "raw",
   "metadata": {},
   "source": [
    "The :doc:`Config </modules/core.config>` class controls the internal workflow and structure of Pyatoa, and is accessed by almost all of the core classes. Configuration parameters are used to determine how waveforms are gathered, processed, windowed and measured. There are additional bookkeeping parameters to ensure that all data is maintained to the same standard throughout an inversion. Configs can be saved to text files, or into ASDFDataSets, as a form of provenance."
   ]
  },
  {
   "cell_type": "markdown",
   "metadata": {},
   "source": [
    "---\n",
    "## Initialization\n",
    "An empty configuration class comes with some preset values that are acceptable for a long-period regional seismic inversion. These parameters will probably not satisfy use-cases outside of this scenario, but provide a template starting point for future adjustments."
   ]
  },
  {
   "cell_type": "code",
   "execution_count": 1,
   "metadata": {
    "execution": {
     "iopub.execute_input": "2022-03-02T19:36:19.103688Z",
     "iopub.status.busy": "2022-03-02T19:36:19.103248Z",
     "iopub.status.idle": "2022-03-02T19:36:20.052543Z",
     "shell.execute_reply": "2022-03-02T19:36:20.052242Z"
    }
   },
   "outputs": [],
   "source": [
    "from pyatoa import Config\n",
    "cfg = Config()"
   ]
  },
  {
   "cell_type": "code",
   "execution_count": 2,
   "metadata": {
    "execution": {
     "iopub.execute_input": "2022-03-02T19:36:20.055451Z",
     "iopub.status.busy": "2022-03-02T19:36:20.055221Z",
     "iopub.status.idle": "2022-03-02T19:36:20.057230Z",
     "shell.execute_reply": "2022-03-02T19:36:20.057430Z"
    }
   },
   "outputs": [
    {
     "data": {
      "text/plain": [
       "CONFIG\n",
       "    iteration:               None\n",
       "    step_count:              None\n",
       "    event_id:                None\n",
       "GATHER\n",
       "    client:                  None\n",
       "    start_pad:               20\n",
       "    end_pad:                 500\n",
       "    save_to_ds:              True\n",
       "PROCESS\n",
       "    min_period:              10.0\n",
       "    max_period:              30.0\n",
       "    filter_corners:          2.0\n",
       "    unit_output:             DISP\n",
       "    rotate_to_rtz:           False\n",
       "    win_amp_ratio:           0.0\n",
       "    synthetics_only:         False\n",
       "LABELS\n",
       "    component_list:          ['E', 'N', 'Z']\n",
       "    observed_tag:            observed\n",
       "    synthetic_tag:           synthetic\n",
       "    paths:                   {'waveforms': [], 'synthetics': [], 'responses': [], 'events': []}\n",
       "EXTERNAL\n",
       "    pyflex_preset:           default\n",
       "    adj_src_type:            cc_traveltime_misfit\n",
       "    pyflex_config:           <pyflex.config.Config object at 0x7f8c007d6250>\n",
       "    pyadjoint_config:        <pyadjoint.config.Config object at 0x7f8c007d64d0>"
      ]
     },
     "execution_count": 2,
     "metadata": {},
     "output_type": "execute_result"
    }
   ],
   "source": [
    "cfg"
   ]
  },
  {
   "cell_type": "markdown",
   "metadata": {},
   "source": [
    "### File naming convention\n",
    "\n",
    "The `iteration` and `step_count` parameters are used for internal naming. They can be set using integer values or strings. Formatted tags can be accessed using the `iter_tag` and `step_tag` parameters. \n",
    "\n",
    "> **_NOTE_**: The formatted convetion for iterations is *i??*. For step counts it is *s??*. (`?` takes the place of a single integer from 0-9). Iterations start from 1, step counts start from 0. \n",
    "\n",
    "The parameter `synthetic_tag`, used to save synthetic waveforms, automatically reflects changes to the `iteration` and `step_count` variables."
   ]
  },
  {
   "cell_type": "code",
   "execution_count": 3,
   "metadata": {
    "execution": {
     "iopub.execute_input": "2022-03-02T19:36:20.059345Z",
     "iopub.status.busy": "2022-03-02T19:36:20.059119Z",
     "iopub.status.idle": "2022-03-02T19:36:20.060679Z",
     "shell.execute_reply": "2022-03-02T19:36:20.060451Z"
    }
   },
   "outputs": [
    {
     "name": "stdout",
     "output_type": "stream",
     "text": [
      "i01 == 1\n",
      "s00 == 0\n",
      "synthetic_i01s00\n"
     ]
    }
   ],
   "source": [
    "cfg = Config(iteration=1, step_count=0)\n",
    "print(f\"{cfg.iter_tag} == {cfg.iteration}\")\n",
    "print(f\"{cfg.step_tag} == {cfg.step_count}\")\n",
    "print(cfg.synthetic_tag)"
   ]
  },
  {
   "cell_type": "code",
   "execution_count": 4,
   "metadata": {
    "execution": {
     "iopub.execute_input": "2022-03-02T19:36:20.062435Z",
     "iopub.status.busy": "2022-03-02T19:36:20.062210Z",
     "iopub.status.idle": "2022-03-02T19:36:20.063456Z",
     "shell.execute_reply": "2022-03-02T19:36:20.063637Z"
    }
   },
   "outputs": [
    {
     "name": "stdout",
     "output_type": "stream",
     "text": [
      "i02 == 2\n",
      "s03 == 3\n",
      "synthetic_i02s03\n"
     ]
    }
   ],
   "source": [
    "cfg.iteration = 2\n",
    "cfg.step_count = 3\n",
    "\n",
    "print(f\"{cfg.iter_tag} == {cfg.iteration}\")\n",
    "print(f\"{cfg.step_tag} == {cfg.step_count}\")\n",
    "print(cfg.synthetic_tag)"
   ]
  },
  {
   "cell_type": "markdown",
   "metadata": {},
   "source": [
    "---\n",
    "## External Configurations\n",
    "\n",
    "The `Config` class also contains [Pyflex Config](http://krischer.github.io/pyflex/#config-object) and [Pyadjoint Config](https://github.com/krischer/pyadjoint/blob/master/src/pyadjoint/config.py) objects. Preset parameters can be defined using the `pyflex_preset` and `adj_src_type` parameters, which take map names and converts them into a set of parameters.  Alternatively Pyflex Config and Pyadjoint Config keyword arguments can be passed directly to the `Pyatoa.Config` class.  \n",
    "\n",
    "For specific arguments of the Pyflex and Pyadjoint Config parameters, see their respective documentation pages. For available choices of `pyflex_preset` and `adj_src_type`, see the following API."
   ]
  },
  {
   "cell_type": "code",
   "execution_count": 5,
   "metadata": {
    "execution": {
     "iopub.execute_input": "2022-03-02T19:36:20.066086Z",
     "iopub.status.busy": "2022-03-02T19:36:20.065831Z",
     "iopub.status.idle": "2022-03-02T19:36:20.068100Z",
     "shell.execute_reply": "2022-03-02T19:36:20.067463Z"
    },
    "scrolled": true
   },
   "outputs": [
    {
     "name": "stdout",
     "output_type": "stream",
     "text": [
      "PYFLEX CONFIG\n",
      "\ts2n_limit: 1.5\n",
      "\tc_0: 0.7\n",
      "\tmax_time_before_first_arrival: 50.0\n",
      "\n",
      "MODIFIED PYFLEX CONFIG\n",
      "\ts2n_limit: 2.0\n",
      "\tc_0: 1.0\n",
      "\tmax_time_before_first_arrival: 25.0\n"
     ]
    }
   ],
   "source": [
    "# A few randomly chosen arguments to check\n",
    "example_pyflex_kwargs = [\"s2n_limit\", \"c_0\", \"max_time_before_first_arrival\"]\n",
    "\n",
    "# List the arguments for the 'example' preset\n",
    "cfg = Config(pyflex_preset=\"example\")\n",
    "print(\"PYFLEX CONFIG\")\n",
    "for ex in example_pyflex_kwargs:\n",
    "    print(f\"\\t{ex}: {getattr(cfg.pyflex_config, ex)}\")\n",
    "\n",
    "# Modify the arguments of the 'example' preset\n",
    "cfg = Config(pyflex_preset=\"example\", s2n_limit=2.0, c_0=1.0, max_time_before_first_arrival=25.0)\n",
    "print(\"\\nMODIFIED PYFLEX CONFIG\")\n",
    "for ex in example_pyflex_kwargs:\n",
    "    print(f\"\\t{ex}: {getattr(cfg.pyflex_config, ex)}\")"
   ]
  },
  {
   "cell_type": "markdown",
   "metadata": {},
   "source": [
    "---\n",
    "## Reading / Writing \n",
    "\n",
    "The `Config` class can be read to and written from YAML files and ASDFDataSets. This is accomplished using the `read` and `write` functions. This is handy if a specific suite of configuration parameters will need to be accessed in the future, as may happen in an inversion workflow. Here we show this capability using a YAML file. ASDFDataSet capabilites are showcased in the `storage` documentation page."
   ]
  },
  {
   "cell_type": "code",
   "execution_count": 6,
   "metadata": {
    "execution": {
     "iopub.execute_input": "2022-03-02T19:36:20.070100Z",
     "iopub.status.busy": "2022-03-02T19:36:20.069832Z",
     "iopub.status.idle": "2022-03-02T19:36:20.078233Z",
     "shell.execute_reply": "2022-03-02T19:36:20.078035Z"
    }
   },
   "outputs": [
    {
     "name": "stdout",
     "output_type": "stream",
     "text": [
      "12.345\n"
     ]
    }
   ],
   "source": [
    "# Reading and writing from a yaml file\n",
    "cfg = Config(min_period=12.345)\n",
    "cfg.write(write_to=\"../tests/test_data/docs_data/test_config\", fmt=\"yaml\")\n",
    "cfg_check = Config(yaml_fid=\"../tests/test_data/docs_data/test_config.yaml\")\n",
    "print(cfg_check.min_period)"
   ]
  }
 ],
 "metadata": {
  "kernelspec": {
   "display_name": "Python 3 (ipykernel)",
   "language": "python",
   "name": "python3"
  },
  "language_info": {
   "codemirror_mode": {
    "name": "ipython",
    "version": 3
   },
   "file_extension": ".py",
   "mimetype": "text/x-python",
   "name": "python",
   "nbconvert_exporter": "python",
   "pygments_lexer": "ipython3",
   "version": "3.7.12"
  }
 },
 "nbformat": 4,
 "nbformat_minor": 1
}
