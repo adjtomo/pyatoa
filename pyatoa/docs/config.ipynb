{
 "metadata": {
  "kernelspec": {
   "display_name": "Python 3 (ipykernel)",
   "language": "python",
   "name": "python3"
  },
  "language_info": {
   "codemirror_mode": {
    "name": "ipython",
    "version": 3
   },
   "file_extension": ".py",
   "mimetype": "text/x-python",
   "name": "python",
   "nbconvert_exporter": "python",
   "pygments_lexer": "ipython3",
   "version": "3.7.12"
  },
  "name": ""
 },
 "nbformat": 3,
 "nbformat_minor": 0,
 "worksheets": [
  {
   "cells": [
    {
     "cell_type": "heading",
     "level": 1,
     "metadata": {},
     "source": [
      "Config"
     ]
    },
    {
     "cell_type": "raw",
     "metadata": {},
     "source": [
      "The Pyatoa :class:`~pyatoa.core.config.Config` class controls the internal workflow and structure of Pyatoa, and is accessed by almost all of the core classes. Configuration parameters are used to determine how waveforms are gathered, processed, windowed and measured. There are additional bookkeeping parameters to ensure that all data is maintained to the same standard throughout an inversion. Configs can be saved to text files, or into ASDFDataSets, as a form of provenance."
     ]
    },
    {
     "cell_type": "markdown",
     "metadata": {},
     "source": [
      "---\n",
      "## Initialization\n",
      "An empty configuration class comes with some preset values that are acceptable for a long-period regional seismic inversion. These parameters will probably not satisfy use-cases outside of this scenario, but provide a template starting point for future adjustments."
     ]
    },
    {
     "cell_type": "code",
     "collapsed": false,
     "input": [
      "from pyatoa import Config\n",
      "cfg = Config()"
     ],
     "language": "python",
     "metadata": {},
     "outputs": [],
     "prompt_number": null
    },
    {
     "cell_type": "code",
     "collapsed": false,
     "input": [
      "cfg"
     ],
     "language": "python",
     "metadata": {},
     "outputs": [],
     "prompt_number": null
    },
    {
     "cell_type": "markdown",
     "metadata": {},
     "source": [
      "### File naming convention\n",
      "\n",
      "The `iteration` and `step_count` parameters are used for internal naming. They can be set using integer values or strings. Formatted tags can be accessed using the `iter_tag` and `step_tag` parameters. \n",
      "\n",
      "> **_NOTE_**: The formatted convetion for iterations is *i??*. For step counts it is *s??*. (`?` takes the place of a single integer from 0-9). Iterations start from 1, step counts start from 0. \n",
      "\n",
      "The parameter `synthetic_tag`, used to save synthetic waveforms, automatically reflects changes to the `iteration` and `step_count` variables."
     ]
    },
    {
     "cell_type": "code",
     "collapsed": false,
     "input": [
      "cfg = Config(iteration=1, step_count=0)\n",
      "print(f\"{cfg.iter_tag} == {cfg.iteration}\")\n",
      "print(f\"{cfg.step_tag} == {cfg.step_count}\")\n",
      "print(cfg.synthetic_tag)"
     ],
     "language": "python",
     "metadata": {},
     "outputs": [],
     "prompt_number": null
    },
    {
     "cell_type": "code",
     "collapsed": false,
     "input": [
      "cfg.iteration = 2\n",
      "cfg.step_count = 3\n",
      "\n",
      "print(f\"{cfg.iter_tag} == {cfg.iteration}\")\n",
      "print(f\"{cfg.step_tag} == {cfg.step_count}\")\n",
      "print(cfg.synthetic_tag)"
     ],
     "language": "python",
     "metadata": {},
     "outputs": [],
     "prompt_number": null
    },
    {
     "cell_type": "markdown",
     "metadata": {},
     "source": [
      "---\n",
      "## External Configurations\n",
      "\n",
      "The `Config` class also contains [Pyflex Config](http://krischer.github.io/pyflex/#config-object) and [Pyadjoint Config](https://github.com/krischer/pyadjoint/blob/master/src/pyadjoint/config.py) objects. Preset parameters can be defined using the `pyflex_preset` and `adj_src_type` parameters, which take map names and converts them into a set of parameters.  Alternatively Pyflex Config and Pyadjoint Config keyword arguments can be passed directly to the `Pyatoa.Config` class.  \n",
      "\n",
      "For specific arguments of the Pyflex and Pyadjoint Config parameters, see their respective documentation pages. For available choices of `pyflex_preset` and `adj_src_type`, see the following API."
     ]
    },
    {
     "cell_type": "code",
     "collapsed": false,
     "input": [
      "# A few randomly chosen arguments to check\n",
      "example_pyflex_kwargs = [\"s2n_limit\", \"c_0\", \"max_time_before_first_arrival\"]\n",
      "\n",
      "# List the arguments for the 'example' preset\n",
      "cfg = Config(pyflex_preset=\"example\")\n",
      "print(\"PYFLEX CONFIG\")\n",
      "for ex in example_pyflex_kwargs:\n",
      "    print(f\"\\t{ex}: {getattr(cfg.pyflex_config, ex)}\")\n",
      "\n",
      "# Modify the arguments of the 'example' preset\n",
      "cfg = Config(pyflex_preset=\"example\", s2n_limit=2.0, c_0=1.0, max_time_before_first_arrival=25.0)\n",
      "print(\"\\nMODIFIED PYFLEX CONFIG\")\n",
      "for ex in example_pyflex_kwargs:\n",
      "    print(f\"\\t{ex}: {getattr(cfg.pyflex_config, ex)}\")"
     ],
     "language": "python",
     "metadata": {
      "scrolled": true
     },
     "outputs": [],
     "prompt_number": null
    },
    {
     "cell_type": "markdown",
     "metadata": {},
     "source": [
      "---\n",
      "## Reading / Writing \n",
      "\n",
      "The `Config` class can be read to and written from YAML files and ASDFDataSets. This is accomplished using the `read` and `write` functions. This is handy if a specific suite of configuration parameters will need to be accessed in the future, as may happen in an inversion workflow. Here we show this capability using a YAML file. ASDFDataSet capabilites are showcased in the `storage` documentation page."
     ]
    },
    {
     "cell_type": "code",
     "collapsed": false,
     "input": [
      "# Reading and writing from a yaml file\n",
      "cfg = Config(min_period=12.345)\n",
      "cfg.write(write_to=\"../tests/test_data/docs_data/test_config\", fmt=\"yaml\")\n",
      "cfg_check = Config(yaml_fid=\"../tests/test_data/docs_data/test_config.yaml\")\n",
      "print(cfg_check.min_period)"
     ],
     "language": "python",
     "metadata": {},
     "outputs": [],
     "prompt_number": null
    }
   ],
   "metadata": {}
  }
 ]
}