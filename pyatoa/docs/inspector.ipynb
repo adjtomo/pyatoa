{
 "cells": [
  {
   "cell_type": "markdown",
   "metadata": {},
   "source": [
    "# Inspector\n",
    "\n",
    "The `Inspector` class uses the [Pandas](https://pandas.pydata.org/) library to aggregate information during a seismic inversion from ASDFDataSets. Some pre-defined functions allow quick access to useful inversion information, while the underlying DataFrame object provides all the power of the Pandas library to be used for assessing misfit and time windows for an inversion."
   ]
  },
  {
   "cell_type": "markdown",
   "metadata": {},
   "source": [
    "## Initializing\n",
    "The `Inspector` requires present ASDFDataSets to read from. These are usually created during a seismic inversion using larger workflow tools. Here we'll manually fill a dataset to illustrate the `Inspector` initialization routine."
   ]
  },
  {
   "cell_type": "code",
   "execution_count": 1,
   "metadata": {},
   "outputs": [
    {
     "name": "stderr",
     "output_type": "stream",
     "text": [
      "[2020-08-11 17:45:43] - pyatoa - INFO: standardizing streams\n",
      "[2020-08-11 17:45:43] - pyatoa - INFO: preprocessing observation data\n",
      "[2020-08-11 17:45:43] - pyatoa - INFO: adjusting taper to cover time offset\n",
      "[2020-08-11 17:45:43] - pyatoa - INFO: preprocessing synthetic data\n",
      "[2020-08-11 17:45:43] - pyatoa - INFO: adjusting taper to cover time offset\n",
      "[2020-08-11 17:45:43] - pyatoa - INFO: running Pyflex w/ map: default\n",
      "[2020-08-11 17:45:43] - pyatoa - INFO: 1 window(s) selected for comp Z\n",
      "[2020-08-11 17:45:43] - pyatoa - INFO: 1 window(s) selected for comp N\n",
      "[2020-08-11 17:45:43] - pyatoa - INFO: 1 window(s) selected for comp E\n",
      "[2020-08-11 17:45:43] - pyatoa - INFO: 3 window(s) total found\n",
      "[2020-08-11 17:45:43] - pyatoa - INFO: 0.007 misfit for comp Z\n",
      "[2020-08-11 17:45:43] - pyatoa - INFO: 1.786 misfit for comp N\n",
      "[2020-08-11 17:45:43] - pyatoa - INFO: 0.389 misfit for comp E\n",
      "[2020-08-11 17:45:43] - pyatoa - INFO: total misfit 2.182\n"
     ]
    }
   ],
   "source": [
    "import os\n",
    "import obspy\n",
    "from pyasdf import ASDFDataSet\n",
    "from pyatoa import Config, Manager, Inspector, logger\n",
    "logger.setLevel(\"INFO\")\n",
    "\n",
    "# Read in test data\n",
    "inv = obspy.read_inventory(\"../tests/test_data/test_dataless_NZ_BFZ.xml\")\n",
    "cat = obspy.read_events(\"../tests/test_data/test_catalog_2018p130600.xml\")\n",
    "event = cat[0]\n",
    "st_obs = obspy.read(\"../tests/test_data/test_obs_data_NZ_BFZ_2018p130600.ascii\")\n",
    "st_syn = obspy.read(\"../tests/test_data/test_syn_data_NZ_BFZ_2018p130600.ascii\")\n",
    "\n",
    "# Fill up the test dataset with data from a single source-receiver pair\n",
    "ds_fid = \"../tests/test_data/test_ASDFDataSet.h5\"\n",
    "os.remove(ds_fid)\n",
    "with ASDFDataSet(ds_fid) as ds:\n",
    "    cfg = Config(iteration=1, step_count=0)\n",
    "    mgmt = Manager(ds=ds, config=cfg, inv=inv, event=event, st_obs=st_obs, st_syn=st_syn)\n",
    "    mgmt.write()\n",
    "    mgmt.flow()"
   ]
  },
  {
   "cell_type": "markdown",
   "metadata": {},
   "source": [
    "The `Inspector` class will automatically search for data with the `discover` function. An optional `tag` is used for output filenames."
   ]
  },
  {
   "cell_type": "code",
   "execution_count": 2,
   "metadata": {},
   "outputs": [
    {
     "name": "stdout",
     "output_type": "stream",
     "text": [
      "test_ASDFDataSet.h5       000/001...done\n",
      "1    event(s)\n",
      "1    station(s)\n",
      "1    iteration(s)\n",
      "1    evaluation(s)\n"
     ]
    }
   ],
   "source": [
    "insp = Inspector(tag=\"test_inspector\", verbose=True)\n",
    "insp.discover(path=\"../tests/test_data\")\n",
    "print(insp)"
   ]
  },
  {
   "cell_type": "markdown",
   "metadata": {},
   "source": [
    "## Accessing the Inspector\n",
    "\n",
    "We can access event and station metadata, as well as time windows, using te attributes of the Inspector. \n",
    "\n",
    "### Source and receiver metadata\n",
    "\n",
    "A list of event ids and station names can be accessed through the `events` and `stations` attributes. Metadata, including locations and source information like magnitude and origint time are accesible through the `sources` and `receivers` attributes.\n",
    "\n",
    "The `calculate_srcrcv` function will calculating great-circle-distance and backazimuth between each source and receiver pair and return a new DataFrame."
   ]
  },
  {
   "cell_type": "code",
   "execution_count": 3,
   "metadata": {},
   "outputs": [
    {
     "data": {
      "text/plain": [
       "array(['test_ASDFDataSet'], dtype=object)"
      ]
     },
     "execution_count": 3,
     "metadata": {},
     "output_type": "execute_result"
    }
   ],
   "source": [
    "insp.events"
   ]
  },
  {
   "cell_type": "code",
   "execution_count": 4,
   "metadata": {},
   "outputs": [
    {
     "data": {
      "text/plain": [
       "array(['BFZ'], dtype=object)"
      ]
     },
     "execution_count": 4,
     "metadata": {},
     "output_type": "execute_result"
    }
   ],
   "source": [
    "insp.stations"
   ]
  },
  {
   "cell_type": "code",
   "execution_count": 5,
   "metadata": {},
   "outputs": [
    {
     "data": {
      "text/html": [
       "<div>\n",
       "<style scoped>\n",
       "    .dataframe tbody tr th:only-of-type {\n",
       "        vertical-align: middle;\n",
       "    }\n",
       "\n",
       "    .dataframe tbody tr th {\n",
       "        vertical-align: top;\n",
       "    }\n",
       "\n",
       "    .dataframe thead th {\n",
       "        text-align: right;\n",
       "    }\n",
       "</style>\n",
       "<table border=\"1\" class=\"dataframe\">\n",
       "  <thead>\n",
       "    <tr style=\"text-align: right;\">\n",
       "      <th></th>\n",
       "      <th>time</th>\n",
       "      <th>magnitude</th>\n",
       "      <th>depth_km</th>\n",
       "      <th>latitude</th>\n",
       "      <th>longitude</th>\n",
       "    </tr>\n",
       "    <tr>\n",
       "      <th>event_id</th>\n",
       "      <th></th>\n",
       "      <th></th>\n",
       "      <th></th>\n",
       "      <th></th>\n",
       "      <th></th>\n",
       "    </tr>\n",
       "  </thead>\n",
       "  <tbody>\n",
       "    <tr>\n",
       "      <th>test_ASDFDataSet</th>\n",
       "      <td>2018-02-18T07:43:48.127644Z</td>\n",
       "      <td>5.156706</td>\n",
       "      <td>20.594599</td>\n",
       "      <td>-39.948975</td>\n",
       "      <td>176.299515</td>\n",
       "    </tr>\n",
       "  </tbody>\n",
       "</table>\n",
       "</div>"
      ],
      "text/plain": [
       "                                         time  magnitude   depth_km  \\\n",
       "event_id                                                              \n",
       "test_ASDFDataSet  2018-02-18T07:43:48.127644Z   5.156706  20.594599   \n",
       "\n",
       "                   latitude   longitude  \n",
       "event_id                                 \n",
       "test_ASDFDataSet -39.948975  176.299515  "
      ]
     },
     "execution_count": 5,
     "metadata": {},
     "output_type": "execute_result"
    }
   ],
   "source": [
    "insp.sources"
   ]
  },
  {
   "cell_type": "code",
   "execution_count": 6,
   "metadata": {},
   "outputs": [
    {
     "data": {
      "text/html": [
       "<div>\n",
       "<style scoped>\n",
       "    .dataframe tbody tr th:only-of-type {\n",
       "        vertical-align: middle;\n",
       "    }\n",
       "\n",
       "    .dataframe tbody tr th {\n",
       "        vertical-align: top;\n",
       "    }\n",
       "\n",
       "    .dataframe thead th {\n",
       "        text-align: right;\n",
       "    }\n",
       "</style>\n",
       "<table border=\"1\" class=\"dataframe\">\n",
       "  <thead>\n",
       "    <tr style=\"text-align: right;\">\n",
       "      <th></th>\n",
       "      <th></th>\n",
       "      <th>latitude</th>\n",
       "      <th>longitude</th>\n",
       "    </tr>\n",
       "    <tr>\n",
       "      <th>network</th>\n",
       "      <th>station</th>\n",
       "      <th></th>\n",
       "      <th></th>\n",
       "    </tr>\n",
       "  </thead>\n",
       "  <tbody>\n",
       "    <tr>\n",
       "      <th>NZ</th>\n",
       "      <th>BFZ</th>\n",
       "      <td>-40.679647</td>\n",
       "      <td>176.246245</td>\n",
       "    </tr>\n",
       "  </tbody>\n",
       "</table>\n",
       "</div>"
      ],
      "text/plain": [
       "                  latitude   longitude\n",
       "network station                       \n",
       "NZ      BFZ     -40.679647  176.246245"
      ]
     },
     "execution_count": 6,
     "metadata": {},
     "output_type": "execute_result"
    }
   ],
   "source": [
    "insp.receivers"
   ]
  },
  {
   "cell_type": "code",
   "execution_count": 7,
   "metadata": {},
   "outputs": [
    {
     "data": {
      "text/html": [
       "<div>\n",
       "<style scoped>\n",
       "    .dataframe tbody tr th:only-of-type {\n",
       "        vertical-align: middle;\n",
       "    }\n",
       "\n",
       "    .dataframe tbody tr th {\n",
       "        vertical-align: top;\n",
       "    }\n",
       "\n",
       "    .dataframe thead th {\n",
       "        text-align: right;\n",
       "    }\n",
       "</style>\n",
       "<table border=\"1\" class=\"dataframe\">\n",
       "  <thead>\n",
       "    <tr style=\"text-align: right;\">\n",
       "      <th></th>\n",
       "      <th>event</th>\n",
       "      <th>network</th>\n",
       "      <th>station</th>\n",
       "      <th>distance_km</th>\n",
       "      <th>backazimuth</th>\n",
       "    </tr>\n",
       "  </thead>\n",
       "  <tbody>\n",
       "    <tr>\n",
       "      <th>0</th>\n",
       "      <td>test_ASDFDataSet</td>\n",
       "      <td>NZ</td>\n",
       "      <td>BFZ</td>\n",
       "      <td>81.260637</td>\n",
       "      <td>3.211526</td>\n",
       "    </tr>\n",
       "  </tbody>\n",
       "</table>\n",
       "</div>"
      ],
      "text/plain": [
       "              event network station  distance_km  backazimuth\n",
       "0  test_ASDFDataSet      NZ     BFZ    81.260637     3.211526"
      ]
     },
     "execution_count": 7,
     "metadata": {},
     "output_type": "execute_result"
    }
   ],
   "source": [
    "insp.calculate_srcrcv()"
   ]
  },
  {
   "cell_type": "markdown",
   "metadata": {},
   "source": [
    "### Time windows\n",
    "\n",
    "Misfit windows can be accessed using the `windows` attribute."
   ]
  },
  {
   "cell_type": "code",
   "execution_count": 8,
   "metadata": {},
   "outputs": [
    {
     "data": {
      "text/html": [
       "<div>\n",
       "<style scoped>\n",
       "    .dataframe tbody tr th:only-of-type {\n",
       "        vertical-align: middle;\n",
       "    }\n",
       "\n",
       "    .dataframe tbody tr th {\n",
       "        vertical-align: top;\n",
       "    }\n",
       "\n",
       "    .dataframe thead th {\n",
       "        text-align: right;\n",
       "    }\n",
       "</style>\n",
       "<table border=\"1\" class=\"dataframe\">\n",
       "  <thead>\n",
       "    <tr style=\"text-align: right;\">\n",
       "      <th></th>\n",
       "      <th>event</th>\n",
       "      <th>iteration</th>\n",
       "      <th>step</th>\n",
       "      <th>network</th>\n",
       "      <th>station</th>\n",
       "      <th>channel</th>\n",
       "      <th>component</th>\n",
       "      <th>misfit</th>\n",
       "      <th>length_s</th>\n",
       "      <th>dlnA</th>\n",
       "      <th>window_weight</th>\n",
       "      <th>max_cc_value</th>\n",
       "      <th>relative_endtime</th>\n",
       "      <th>relative_starttime</th>\n",
       "      <th>cc_shift_in_seconds</th>\n",
       "      <th>absolute_starttime</th>\n",
       "      <th>absolute_endtime</th>\n",
       "    </tr>\n",
       "  </thead>\n",
       "  <tbody>\n",
       "    <tr>\n",
       "      <th>0</th>\n",
       "      <td>test_ASDFDataSet</td>\n",
       "      <td>i01</td>\n",
       "      <td>s00</td>\n",
       "      <td>NZ</td>\n",
       "      <td>BFZ</td>\n",
       "      <td>HHE</td>\n",
       "      <td>E</td>\n",
       "      <td>0.0072</td>\n",
       "      <td>45.90</td>\n",
       "      <td>-0.711305</td>\n",
       "      <td>3.997104</td>\n",
       "      <td>0.870829</td>\n",
       "      <td>77.07</td>\n",
       "      <td>31.17</td>\n",
       "      <td>1.11</td>\n",
       "      <td>2018-02-18T07:43:59.297644Z</td>\n",
       "      <td>2018-02-18T07:44:45.197644Z</td>\n",
       "    </tr>\n",
       "    <tr>\n",
       "      <th>1</th>\n",
       "      <td>test_ASDFDataSet</td>\n",
       "      <td>i01</td>\n",
       "      <td>s00</td>\n",
       "      <td>NZ</td>\n",
       "      <td>BFZ</td>\n",
       "      <td>HHN</td>\n",
       "      <td>N</td>\n",
       "      <td>0.0072</td>\n",
       "      <td>39.21</td>\n",
       "      <td>-0.830848</td>\n",
       "      <td>3.883489</td>\n",
       "      <td>0.990433</td>\n",
       "      <td>77.07</td>\n",
       "      <td>37.86</td>\n",
       "      <td>1.92</td>\n",
       "      <td>2018-02-18T07:44:05.987644Z</td>\n",
       "      <td>2018-02-18T07:44:45.197644Z</td>\n",
       "    </tr>\n",
       "    <tr>\n",
       "      <th>2</th>\n",
       "      <td>test_ASDFDataSet</td>\n",
       "      <td>i01</td>\n",
       "      <td>s00</td>\n",
       "      <td>NZ</td>\n",
       "      <td>BFZ</td>\n",
       "      <td>HHZ</td>\n",
       "      <td>Z</td>\n",
       "      <td>0.0072</td>\n",
       "      <td>23.40</td>\n",
       "      <td>-0.886651</td>\n",
       "      <td>2.320872</td>\n",
       "      <td>0.991825</td>\n",
       "      <td>42.96</td>\n",
       "      <td>19.56</td>\n",
       "      <td>0.00</td>\n",
       "      <td>2018-02-18T07:43:47.687644Z</td>\n",
       "      <td>2018-02-18T07:44:11.087644Z</td>\n",
       "    </tr>\n",
       "  </tbody>\n",
       "</table>\n",
       "</div>"
      ],
      "text/plain": [
       "              event iteration step network station channel component  misfit  \\\n",
       "0  test_ASDFDataSet       i01  s00      NZ     BFZ     HHE         E  0.0072   \n",
       "1  test_ASDFDataSet       i01  s00      NZ     BFZ     HHN         N  0.0072   \n",
       "2  test_ASDFDataSet       i01  s00      NZ     BFZ     HHZ         Z  0.0072   \n",
       "\n",
       "   length_s      dlnA  window_weight  max_cc_value  relative_endtime  \\\n",
       "0     45.90 -0.711305       3.997104      0.870829             77.07   \n",
       "1     39.21 -0.830848       3.883489      0.990433             77.07   \n",
       "2     23.40 -0.886651       2.320872      0.991825             42.96   \n",
       "\n",
       "   relative_starttime  cc_shift_in_seconds           absolute_starttime  \\\n",
       "0               31.17                 1.11  2018-02-18T07:43:59.297644Z   \n",
       "1               37.86                 1.92  2018-02-18T07:44:05.987644Z   \n",
       "2               19.56                 0.00  2018-02-18T07:43:47.687644Z   \n",
       "\n",
       "              absolute_endtime  \n",
       "0  2018-02-18T07:44:45.197644Z  \n",
       "1  2018-02-18T07:44:45.197644Z  \n",
       "2  2018-02-18T07:44:11.087644Z  "
      ]
     },
     "execution_count": 8,
     "metadata": {},
     "output_type": "execute_result"
    }
   ],
   "source": [
    "insp.windows"
   ]
  },
  {
   "cell_type": "markdown",
   "metadata": {},
   "source": [
    "## Isolating categories\n",
    "\n",
    "It is typically handy to isolate certain categories, e.g. retrieving time windows for only the 'Z' component. Although this is directly possible using Pandas syntax, the `Inspector` comes with an `isolate` function to simplify these calls."
   ]
  },
  {
   "cell_type": "code",
   "execution_count": 9,
   "metadata": {},
   "outputs": [
    {
     "data": {
      "text/html": [
       "<div>\n",
       "<style scoped>\n",
       "    .dataframe tbody tr th:only-of-type {\n",
       "        vertical-align: middle;\n",
       "    }\n",
       "\n",
       "    .dataframe tbody tr th {\n",
       "        vertical-align: top;\n",
       "    }\n",
       "\n",
       "    .dataframe thead th {\n",
       "        text-align: right;\n",
       "    }\n",
       "</style>\n",
       "<table border=\"1\" class=\"dataframe\">\n",
       "  <thead>\n",
       "    <tr style=\"text-align: right;\">\n",
       "      <th></th>\n",
       "      <th>event</th>\n",
       "      <th>iteration</th>\n",
       "      <th>step</th>\n",
       "      <th>network</th>\n",
       "      <th>station</th>\n",
       "      <th>channel</th>\n",
       "      <th>component</th>\n",
       "      <th>misfit</th>\n",
       "      <th>length_s</th>\n",
       "      <th>dlnA</th>\n",
       "      <th>window_weight</th>\n",
       "      <th>max_cc_value</th>\n",
       "      <th>relative_endtime</th>\n",
       "      <th>relative_starttime</th>\n",
       "      <th>cc_shift_in_seconds</th>\n",
       "      <th>absolute_starttime</th>\n",
       "      <th>absolute_endtime</th>\n",
       "    </tr>\n",
       "  </thead>\n",
       "  <tbody>\n",
       "    <tr>\n",
       "      <th>2</th>\n",
       "      <td>test_ASDFDataSet</td>\n",
       "      <td>i01</td>\n",
       "      <td>s00</td>\n",
       "      <td>NZ</td>\n",
       "      <td>BFZ</td>\n",
       "      <td>HHZ</td>\n",
       "      <td>Z</td>\n",
       "      <td>0.0072</td>\n",
       "      <td>23.4</td>\n",
       "      <td>-0.886651</td>\n",
       "      <td>2.320872</td>\n",
       "      <td>0.991825</td>\n",
       "      <td>42.96</td>\n",
       "      <td>19.56</td>\n",
       "      <td>0.0</td>\n",
       "      <td>2018-02-18T07:43:47.687644Z</td>\n",
       "      <td>2018-02-18T07:44:11.087644Z</td>\n",
       "    </tr>\n",
       "  </tbody>\n",
       "</table>\n",
       "</div>"
      ],
      "text/plain": [
       "              event iteration step network station channel component  misfit  \\\n",
       "2  test_ASDFDataSet       i01  s00      NZ     BFZ     HHZ         Z  0.0072   \n",
       "\n",
       "   length_s      dlnA  window_weight  max_cc_value  relative_endtime  \\\n",
       "2      23.4 -0.886651       2.320872      0.991825             42.96   \n",
       "\n",
       "   relative_starttime  cc_shift_in_seconds           absolute_starttime  \\\n",
       "2               19.56                  0.0  2018-02-18T07:43:47.687644Z   \n",
       "\n",
       "              absolute_endtime  \n",
       "2  2018-02-18T07:44:11.087644Z  "
      ]
     },
     "execution_count": 9,
     "metadata": {},
     "output_type": "execute_result"
    }
   ],
   "source": [
    "insp.isolate(comp=\"Z\")"
   ]
  },
  {
   "cell_type": "markdown",
   "metadata": {},
   "source": [
    "## Misfit information\n",
    "\n",
    "The `Inspector` also has two useful function, one for calculating the misfit for various levels (per function evaluation, per station, per event), the other function calculating the number of misfit windows for various levels. These can be called, respectively, using the `misfits` and `nwin` functions.\n",
    "\n",
    "### Misfits\n",
    "\n",
    "Misfit for a single earthquake and for each iteration are defined by Equations 6 and 7, respectively from [Tape et al., (2010)](https://academic.oup.com/gji/article/180/1/433/600143). "
   ]
  },
  {
   "cell_type": "code",
   "execution_count": 10,
   "metadata": {},
   "outputs": [
    {
     "data": {
      "text/html": [
       "<div>\n",
       "<style scoped>\n",
       "    .dataframe tbody tr th:only-of-type {\n",
       "        vertical-align: middle;\n",
       "    }\n",
       "\n",
       "    .dataframe tbody tr th {\n",
       "        vertical-align: top;\n",
       "    }\n",
       "\n",
       "    .dataframe thead th {\n",
       "        text-align: right;\n",
       "    }\n",
       "</style>\n",
       "<table border=\"1\" class=\"dataframe\">\n",
       "  <thead>\n",
       "    <tr style=\"text-align: right;\">\n",
       "      <th></th>\n",
       "      <th></th>\n",
       "      <th>n_event</th>\n",
       "      <th>summed_misfit</th>\n",
       "      <th>misfit</th>\n",
       "    </tr>\n",
       "    <tr>\n",
       "      <th>iteration</th>\n",
       "      <th>step</th>\n",
       "      <th></th>\n",
       "      <th></th>\n",
       "      <th></th>\n",
       "    </tr>\n",
       "  </thead>\n",
       "  <tbody>\n",
       "    <tr>\n",
       "      <th>i01</th>\n",
       "      <th>s00</th>\n",
       "      <td>1</td>\n",
       "      <td>0.0036</td>\n",
       "      <td>0.0036</td>\n",
       "    </tr>\n",
       "  </tbody>\n",
       "</table>\n",
       "</div>"
      ],
      "text/plain": [
       "                n_event  summed_misfit  misfit\n",
       "iteration step                                \n",
       "i01       s00         1         0.0036  0.0036"
      ]
     },
     "execution_count": 10,
     "metadata": {},
     "output_type": "execute_result"
    }
   ],
   "source": [
    "insp.misfits()"
   ]
  },
  {
   "cell_type": "code",
   "execution_count": 11,
   "metadata": {},
   "outputs": [
    {
     "data": {
      "text/html": [
       "<div>\n",
       "<style scoped>\n",
       "    .dataframe tbody tr th:only-of-type {\n",
       "        vertical-align: middle;\n",
       "    }\n",
       "\n",
       "    .dataframe tbody tr th {\n",
       "        vertical-align: top;\n",
       "    }\n",
       "\n",
       "    .dataframe thead th {\n",
       "        text-align: right;\n",
       "    }\n",
       "</style>\n",
       "<table border=\"1\" class=\"dataframe\">\n",
       "  <thead>\n",
       "    <tr style=\"text-align: right;\">\n",
       "      <th></th>\n",
       "      <th></th>\n",
       "      <th></th>\n",
       "      <th></th>\n",
       "      <th>unscaled_misfit</th>\n",
       "      <th>n_win</th>\n",
       "      <th>misfit</th>\n",
       "    </tr>\n",
       "    <tr>\n",
       "      <th>iteration</th>\n",
       "      <th>step</th>\n",
       "      <th>event</th>\n",
       "      <th>station</th>\n",
       "      <th></th>\n",
       "      <th></th>\n",
       "      <th></th>\n",
       "    </tr>\n",
       "  </thead>\n",
       "  <tbody>\n",
       "    <tr>\n",
       "      <th>i01</th>\n",
       "      <th>s00</th>\n",
       "      <th>test_ASDFDataSet</th>\n",
       "      <th>BFZ</th>\n",
       "      <td>0.0216</td>\n",
       "      <td>3</td>\n",
       "      <td>0.0072</td>\n",
       "    </tr>\n",
       "  </tbody>\n",
       "</table>\n",
       "</div>"
      ],
      "text/plain": [
       "                                         unscaled_misfit  n_win  misfit\n",
       "iteration step event            station                                \n",
       "i01       s00  test_ASDFDataSet BFZ               0.0216      3  0.0072"
      ]
     },
     "execution_count": 11,
     "metadata": {},
     "output_type": "execute_result"
    }
   ],
   "source": [
    "insp.misfits(level=\"station\")"
   ]
  },
  {
   "cell_type": "code",
   "execution_count": 12,
   "metadata": {},
   "outputs": [
    {
     "data": {
      "text/html": [
       "<div>\n",
       "<style scoped>\n",
       "    .dataframe tbody tr th:only-of-type {\n",
       "        vertical-align: middle;\n",
       "    }\n",
       "\n",
       "    .dataframe tbody tr th {\n",
       "        vertical-align: top;\n",
       "    }\n",
       "\n",
       "    .dataframe thead th {\n",
       "        text-align: right;\n",
       "    }\n",
       "</style>\n",
       "<table border=\"1\" class=\"dataframe\">\n",
       "  <thead>\n",
       "    <tr style=\"text-align: right;\">\n",
       "      <th></th>\n",
       "      <th></th>\n",
       "      <th></th>\n",
       "      <th>unscaled_misfit</th>\n",
       "      <th>n_win</th>\n",
       "      <th>misfit</th>\n",
       "    </tr>\n",
       "    <tr>\n",
       "      <th>iteration</th>\n",
       "      <th>step</th>\n",
       "      <th>event</th>\n",
       "      <th></th>\n",
       "      <th></th>\n",
       "      <th></th>\n",
       "    </tr>\n",
       "  </thead>\n",
       "  <tbody>\n",
       "    <tr>\n",
       "      <th>i01</th>\n",
       "      <th>s00</th>\n",
       "      <th>test_ASDFDataSet</th>\n",
       "      <td>0.0216</td>\n",
       "      <td>3</td>\n",
       "      <td>0.0036</td>\n",
       "    </tr>\n",
       "  </tbody>\n",
       "</table>\n",
       "</div>"
      ],
      "text/plain": [
       "                                 unscaled_misfit  n_win  misfit\n",
       "iteration step event                                           \n",
       "i01       s00  test_ASDFDataSet           0.0216      3  0.0036"
      ]
     },
     "execution_count": 12,
     "metadata": {},
     "output_type": "execute_result"
    }
   ],
   "source": [
    "insp.misfits(level=\"event\")"
   ]
  },
  {
   "cell_type": "markdown",
   "metadata": {},
   "source": [
    "### Number of measurements\n",
    "\n",
    "Not only is the number of measurements provided, but also the total length of all measurements. \n",
    "\n",
    "> **__NOTE__:** Because we only have one source receiver pair, these values are all the same."
   ]
  },
  {
   "cell_type": "code",
   "execution_count": 13,
   "metadata": {},
   "outputs": [
    {
     "data": {
      "text/html": [
       "<div>\n",
       "<style scoped>\n",
       "    .dataframe tbody tr th:only-of-type {\n",
       "        vertical-align: middle;\n",
       "    }\n",
       "\n",
       "    .dataframe tbody tr th {\n",
       "        vertical-align: top;\n",
       "    }\n",
       "\n",
       "    .dataframe thead th {\n",
       "        text-align: right;\n",
       "    }\n",
       "</style>\n",
       "<table border=\"1\" class=\"dataframe\">\n",
       "  <thead>\n",
       "    <tr style=\"text-align: right;\">\n",
       "      <th></th>\n",
       "      <th></th>\n",
       "      <th>n_win</th>\n",
       "      <th>length_s</th>\n",
       "    </tr>\n",
       "    <tr>\n",
       "      <th>iteration</th>\n",
       "      <th>step</th>\n",
       "      <th></th>\n",
       "      <th></th>\n",
       "    </tr>\n",
       "  </thead>\n",
       "  <tbody>\n",
       "    <tr>\n",
       "      <th>i01</th>\n",
       "      <th>s00</th>\n",
       "      <td>3</td>\n",
       "      <td>108.51</td>\n",
       "    </tr>\n",
       "  </tbody>\n",
       "</table>\n",
       "</div>"
      ],
      "text/plain": [
       "                n_win  length_s\n",
       "iteration step                 \n",
       "i01       s00       3    108.51"
      ]
     },
     "execution_count": 13,
     "metadata": {},
     "output_type": "execute_result"
    }
   ],
   "source": [
    "insp.nwin()"
   ]
  },
  {
   "cell_type": "code",
   "execution_count": 14,
   "metadata": {},
   "outputs": [
    {
     "data": {
      "text/html": [
       "<div>\n",
       "<style scoped>\n",
       "    .dataframe tbody tr th:only-of-type {\n",
       "        vertical-align: middle;\n",
       "    }\n",
       "\n",
       "    .dataframe tbody tr th {\n",
       "        vertical-align: top;\n",
       "    }\n",
       "\n",
       "    .dataframe thead th {\n",
       "        text-align: right;\n",
       "    }\n",
       "</style>\n",
       "<table border=\"1\" class=\"dataframe\">\n",
       "  <thead>\n",
       "    <tr style=\"text-align: right;\">\n",
       "      <th></th>\n",
       "      <th></th>\n",
       "      <th></th>\n",
       "      <th>n_win</th>\n",
       "      <th>length_s</th>\n",
       "    </tr>\n",
       "    <tr>\n",
       "      <th>iteration</th>\n",
       "      <th>step</th>\n",
       "      <th>station</th>\n",
       "      <th></th>\n",
       "      <th></th>\n",
       "    </tr>\n",
       "  </thead>\n",
       "  <tbody>\n",
       "    <tr>\n",
       "      <th>i01</th>\n",
       "      <th>s00</th>\n",
       "      <th>BFZ</th>\n",
       "      <td>3</td>\n",
       "      <td>108.51</td>\n",
       "    </tr>\n",
       "  </tbody>\n",
       "</table>\n",
       "</div>"
      ],
      "text/plain": [
       "                        n_win  length_s\n",
       "iteration step station                 \n",
       "i01       s00  BFZ          3    108.51"
      ]
     },
     "execution_count": 14,
     "metadata": {},
     "output_type": "execute_result"
    }
   ],
   "source": [
    "insp.nwin(level=\"station\")"
   ]
  },
  {
   "cell_type": "code",
   "execution_count": 15,
   "metadata": {},
   "outputs": [
    {
     "data": {
      "text/html": [
       "<div>\n",
       "<style scoped>\n",
       "    .dataframe tbody tr th:only-of-type {\n",
       "        vertical-align: middle;\n",
       "    }\n",
       "\n",
       "    .dataframe tbody tr th {\n",
       "        vertical-align: top;\n",
       "    }\n",
       "\n",
       "    .dataframe thead th {\n",
       "        text-align: right;\n",
       "    }\n",
       "</style>\n",
       "<table border=\"1\" class=\"dataframe\">\n",
       "  <thead>\n",
       "    <tr style=\"text-align: right;\">\n",
       "      <th></th>\n",
       "      <th></th>\n",
       "      <th></th>\n",
       "      <th>n_win</th>\n",
       "      <th>length_s</th>\n",
       "    </tr>\n",
       "    <tr>\n",
       "      <th>iteration</th>\n",
       "      <th>step</th>\n",
       "      <th>event</th>\n",
       "      <th></th>\n",
       "      <th></th>\n",
       "    </tr>\n",
       "  </thead>\n",
       "  <tbody>\n",
       "    <tr>\n",
       "      <th>i01</th>\n",
       "      <th>s00</th>\n",
       "      <th>test_ASDFDataSet</th>\n",
       "      <td>3</td>\n",
       "      <td>108.51</td>\n",
       "    </tr>\n",
       "  </tbody>\n",
       "</table>\n",
       "</div>"
      ],
      "text/plain": [
       "                                 n_win  length_s\n",
       "iteration step event                            \n",
       "i01       s00  test_ASDFDataSet      3    108.51"
      ]
     },
     "execution_count": 15,
     "metadata": {},
     "output_type": "execute_result"
    }
   ],
   "source": [
    "insp.nwin(level=\"event\")"
   ]
  },
  {
   "cell_type": "markdown",
   "metadata": {},
   "source": [
    "## Plotting"
   ]
  },
  {
   "cell_type": "code",
   "execution_count": null,
   "metadata": {},
   "outputs": [],
   "source": []
  }
 ],
 "metadata": {
  "kernelspec": {
   "display_name": "Python 3",
   "language": "python",
   "name": "python3"
  },
  "language_info": {
   "codemirror_mode": {
    "name": "ipython",
    "version": 3
   },
   "file_extension": ".py",
   "mimetype": "text/x-python",
   "name": "python",
   "nbconvert_exporter": "python",
   "pygments_lexer": "ipython3",
   "version": "3.7.6"
  }
 },
 "nbformat": 4,
 "nbformat_minor": 1
}
