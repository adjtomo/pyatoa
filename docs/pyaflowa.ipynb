{
 "cells": [
  {
   "cell_type": "markdown",
   "id": "403eb907",
   "metadata": {},
   "source": [
    "# Pyaflowa"
   ]
  },
  {
   "cell_type": "raw",
   "id": "ca1343a8",
   "metadata": {},
   "source": [
    ":doc:`Pyaflowa </modules/core.pyaflowa` is Pyatoa's workflow management class. It is in charge of facilitating automation of the misfit quantification machinery defined by the Config, Manager and Gatherer classes. Pyaflowa provides a structure to process en-masse waveform data from multiple stations and multiple events using only a few function calls."
   ]
  },
  {
   "cell_type": "markdown",
   "id": "5e77f758",
   "metadata": {},
   "source": [
    "`Pyaflowa` can be used standalone, and also provides the necessary interface to work with SeisFlows3. When used within the SeisFlows3 preprocess module, Pyaflowa reduces the overhead required to include Pyatoa functionality into a SeisFlows3 inversion."
   ]
  },
  {
   "cell_type": "markdown",
   "id": "b9b033ac",
   "metadata": {},
   "source": [
    "## Standalone (w/ SPECFEM3D)\n",
    "\n",
    "Let's say you want to run forward and adjoint simulations to generate synthetic seismograms and sensitivity kernels using SPECFEM3D. To make this happen, a user will need some specific pieces that correspond to the problem at hand.\n",
    "\n",
    "* Forward simulations: DATA/CMTSOLUTION, DATA/STATIONS  \n",
    "* Adjoint simulations: DATA/STATIONS_ADJOINT, /sem/\\*.adj \n",
    "\n",
    "We can use `Pyatoa` to prepare the necessary files for SPECFEM3D forward simulatinos, and then use `Pyaflowa` to: 1) compare synthetic seismograms with real data for a number of stations and generate adjoint sources which can be fed directly back into a SPECFEM3D adjoint simulation. \n",
    "\n",
    "### Prep: Generate CMTSOLUTION\n",
    "\n",
    "First we must generate the source file used to represent the moment tensor in our earthquake simulation. In this example, we'll use my favorite New Zealand [example event, 2018p130600](https://www.geonet.org.nz/earthquake/2018p130600), an M5.2 that occurred in the central North Island, New Zealand while I was doing my PhD in Wellington.\n",
    "\n",
    "With `ObsPy` + `Pyatoa` we'll be able to gather this event from FDSN webservices and save the resulting moment tensor and event information to the required [CMTSOLUTION format](https://www.globalcmt.org/CMTsearch.html) expected by SPECFEM3D. "
   ]
  },
  {
   "cell_type": "raw",
   "id": "78e779e0",
   "metadata": {},
   "source": [
    "We will use the Pyatoa function :doc:`append_focal_mechanism </modules/core.gatherer/append_focal_mechanism>`"
   ]
  },
  {
   "cell_type": "code",
   "execution_count": 1,
   "id": "a81d6040",
   "metadata": {
    "execution": {
     "iopub.execute_input": "2022-03-03T20:01:54.227841Z",
     "iopub.status.busy": "2022-03-03T20:01:54.227576Z",
     "iopub.status.idle": "2022-03-03T20:01:56.208025Z",
     "shell.execute_reply": "2022-03-03T20:01:56.207484Z"
    }
   },
   "outputs": [],
   "source": [
    "import os\n",
    "from pyatoa import append_focal_mechanism\n",
    "from obspy.clients.fdsn import Client"
   ]
  },
  {
   "cell_type": "code",
   "execution_count": 2,
   "id": "af7196ae",
   "metadata": {
    "execution": {
     "iopub.execute_input": "2022-03-03T20:01:56.211959Z",
     "iopub.status.busy": "2022-03-03T20:01:56.211520Z",
     "iopub.status.idle": "2022-03-03T20:01:56.215012Z",
     "shell.execute_reply": "2022-03-03T20:01:56.214780Z"
    }
   },
   "outputs": [
    {
     "name": "stdout",
     "output_type": "stream",
     "text": [
      "/home/bchow/REPOSITORIES/pyatoa/pyatoa/docs\n",
      "/home/bchow/REPOSITORIES/pyatoa/pyatoa/tests/test_data/docs_data/pyaflowa_doc\n"
     ]
    }
   ],
   "source": [
    "# We will just move to an empty directory for this example problem\n",
    "cwd = os.getcwd()  # Make sure we can get back to the docs directory\n",
    "print(cwd)\n",
    "\n",
    "docs_path = os.path.abspath(\"../tests/test_data/docs_data/pyaflowa_doc\")\n",
    "if not os.path.exists(docs_path):\n",
    "    os.mkdir(docs_path)\n",
    "os.chdir(docs_path)\n",
    "print(os.getcwd())"
   ]
  },
  {
   "cell_type": "code",
   "execution_count": 3,
   "id": "f2c0fb32",
   "metadata": {
    "execution": {
     "iopub.execute_input": "2022-03-03T20:01:56.219373Z",
     "iopub.status.busy": "2022-03-03T20:01:56.219007Z",
     "iopub.status.idle": "2022-03-03T20:02:00.010207Z",
     "shell.execute_reply": "2022-03-03T20:02:00.010695Z"
    }
   },
   "outputs": [
    {
     "name": "stderr",
     "output_type": "stream",
     "text": [
      "/home/bchow/miniconda3/envs/docs/lib/python3.7/site-packages/obspy/io/cmtsolution/core.py:370: UserWarning: No body wave magnitude found. Will be replaced by the first magnitude in the event object.\n",
      "  warnings.warn(\"No body wave magnitude found. Will be replaced by the \"\n",
      "/home/bchow/miniconda3/envs/docs/lib/python3.7/site-packages/obspy/io/cmtsolution/core.py:376: UserWarning: No surface wave magnitude found. Will be replaced by the first magnitude in the event object.\n",
      "  warnings.warn(\"No surface wave magnitude found. Will be replaced by \"\n",
      "/home/bchow/miniconda3/envs/docs/lib/python3.7/site-packages/obspy/io/cmtsolution/core.py:397: UserWarning: Could not find a centroid origin. Will instead assume that the preferred or first origin is the centroid origin.\n",
      "  warnings.warn(\"Could not find a centroid origin. Will instead \"\n",
      "/home/bchow/miniconda3/envs/docs/lib/python3.7/site-packages/obspy/io/cmtsolution/core.py:410: UserWarning: Hypocentral origin will be identical to the centroid one.\n",
      "  warnings.warn(\"Hypocentral origin will be identical to the \"\n"
     ]
    }
   ],
   "source": [
    "# Using ObsPy's FDSN Client, we can retrieve event information using an event id\n",
    "c = Client(\"GEONET\")\n",
    "cat = c.get_events(eventid=\"2018p130600\")\n",
    "\n",
    "# Using Pyatoa, we can append a focal mechanism from the GeoNet moment tensor catalog\n",
    "cat[0] = append_focal_mechanism(cat[0], client=\"GEONET\")\n",
    "\n",
    "# ObsPy has built in support for writing CMTSOLUTION files expected by SPECFEM3D\n",
    "cat.write(\"CMTSOLUTION\", format=\"CMTSOLUTION\")"
   ]
  },
  {
   "cell_type": "code",
   "execution_count": 4,
   "id": "c23f9300",
   "metadata": {
    "execution": {
     "iopub.execute_input": "2022-03-03T20:02:00.019356Z",
     "iopub.status.busy": "2022-03-03T20:02:00.018937Z",
     "iopub.status.idle": "2022-03-03T20:02:00.136645Z",
     "shell.execute_reply": "2022-03-03T20:02:00.135639Z"
    }
   },
   "outputs": [
    {
     "name": "stdout",
     "output_type": "stream",
     "text": [
      " PDE 2018 02 18 07 43 48.13  -39.9490  176.2995  20.6 5.2 5.2 NORTH ISLAND, NEW ZEALAND\r\n",
      "event name:           0DBD19\r\n",
      "time shift:           0.0000\r\n",
      "half duration:        0.6989\r\n",
      "latitude:           -39.9490\r\n",
      "longitude:          176.2995\r\n",
      "depth:               20.5946\r\n",
      "Mrr:           -2.479380E+23\r\n",
      "Mtt:            1.314880E+23\r\n",
      "Mpp:            1.164500E+23\r\n",
      "Mrt:            5.032500E+22\r\n",
      "Mrp:            6.607700E+22\r\n",
      "Mtp:            9.359300E+22\r\n"
     ]
    }
   ],
   "source": [
    "# Lets just have a look at the file that's been created, which is a CMTSOLUTION that is ready\n",
    "# to be used in SPECFEM3D\n",
    "!cat \"CMTSOLUTION\""
   ]
  },
  {
   "cell_type": "markdown",
   "id": "eb5a1c36",
   "metadata": {},
   "source": [
    "### Prep: Generate STATIONS file\n",
    "\n",
    "SPECFEM3D also requires a STATIONS file which defines the locations of receivers for simulation output. \n",
    "As in Step 1 we'll generate a list of stations using `ObsPy` and write them into the required STATIONS file using `Pyatoa` and a corresponding obspy.Inventory object."
   ]
  },
  {
   "cell_type": "markdown",
   "id": "da546e73",
   "metadata": {},
   "source": [
    "> **__NOTE:__**  \n",
    "In the ObsPy function get_stations(), the reasoning behind the following arguments provided:\n",
    "* __network = \"NZ\"__ refers to the code for New Zealand's permament seismic netnwork\n",
    "* __station = \"??Z\"__ means we only want 3 letter station codes that end in Z, which GeoNet usually reserves for broadband seismometers\n",
    "* __channel = \"HH?\"__ refers to a broadband (first 'H') seismometer (second 'H'), for any available component (wildcard '?'), usually N/E/Z. This follows [SEED naming convention](https://ds.iris.edu/ds/nodes/dmc/data/formats/seed-channel-naming/).\n",
    "* This __min__ and __max latitude / longitude__ defines a small region where we want to search for stations"
   ]
  },
  {
   "cell_type": "code",
   "execution_count": 5,
   "id": "7bff0d92",
   "metadata": {
    "execution": {
     "iopub.execute_input": "2022-03-03T20:02:00.145716Z",
     "iopub.status.busy": "2022-03-03T20:02:00.144616Z",
     "iopub.status.idle": "2022-03-03T20:02:00.149015Z",
     "shell.execute_reply": "2022-03-03T20:02:00.147915Z"
    }
   },
   "outputs": [],
   "source": [
    "from pyatoa import write_stations"
   ]
  },
  {
   "cell_type": "code",
   "execution_count": 6,
   "id": "9a9495aa",
   "metadata": {
    "execution": {
     "iopub.execute_input": "2022-03-03T20:02:00.158077Z",
     "iopub.status.busy": "2022-03-03T20:02:00.156979Z",
     "iopub.status.idle": "2022-03-03T20:02:00.463646Z",
     "shell.execute_reply": "2022-03-03T20:02:00.462905Z"
    }
   },
   "outputs": [
    {
     "name": "stderr",
     "output_type": "stream",
     "text": [
      "/home/bchow/miniconda3/envs/docs/lib/python3.7/site-packages/obspy/io/stationxml/core.py:98: UserWarning: The StationXML file has version 1, ObsPy can read versions (1.0, 1.1). Proceed with caution.\n",
      "  version, \", \".join(READABLE_VERSIONS)))\n"
     ]
    }
   ],
   "source": [
    "inv = c.get_stations(network=\"NZ\", station=\"??Z\", channel=\"HH?\",\n",
    "                     minlatitude=-41, maxlatitude=-39,\n",
    "                     minlongitude=173, maxlongitude=176)\n",
    "write_stations(inv, fid=\"STATIONS\")"
   ]
  },
  {
   "cell_type": "code",
   "execution_count": 7,
   "id": "d54fb6c9",
   "metadata": {
    "execution": {
     "iopub.execute_input": "2022-03-03T20:02:00.470633Z",
     "iopub.status.busy": "2022-03-03T20:02:00.469922Z",
     "iopub.status.idle": "2022-03-03T20:02:00.473117Z",
     "shell.execute_reply": "2022-03-03T20:02:00.473707Z"
    }
   },
   "outputs": [
    {
     "name": "stdout",
     "output_type": "stream",
     "text": [
      "Inventory created at 2022-03-02T06:13:37.000000Z\n",
      "\tCreated by: Delta\n",
      "\t\t    \n",
      "\tSending institution: GeoNet (WEL(GNS_Test))\n",
      "\tContains:\n",
      "\t\tNetworks (1):\n",
      "\t\t\tNZ\n",
      "\t\tStations (4):\n",
      "\t\t\tNZ.MRZ (Mangatainoka River)\n",
      "\t\t\tNZ.TSZ (Takapari Road)\n",
      "\t\t\tNZ.VRZ (Vera Road)\n",
      "\t\t\tNZ.WAZ (Wanganui)\n",
      "\t\tChannels (0):\n",
      "\n"
     ]
    }
   ],
   "source": [
    "# Let's have a look at the stations we picked up from FDSN\n",
    "print(inv)"
   ]
  },
  {
   "cell_type": "code",
   "execution_count": 8,
   "id": "eec93ff2",
   "metadata": {
    "execution": {
     "iopub.execute_input": "2022-03-03T20:02:00.479131Z",
     "iopub.status.busy": "2022-03-03T20:02:00.478458Z",
     "iopub.status.idle": "2022-03-03T20:02:00.599825Z",
     "shell.execute_reply": "2022-03-03T20:02:00.600697Z"
    }
   },
   "outputs": [
    {
     "name": "stdout",
     "output_type": "stream",
     "text": [
      "   MRZ    NZ    -40.6605    175.5785    0.0    0.0\r\n",
      "   TSZ    NZ    -40.0586    175.9611    0.0    0.0\r\n",
      "   VRZ    NZ    -39.1243    174.7585    0.0    0.0\r\n",
      "   WAZ    NZ    -39.7546    174.9855    0.0    0.0\r\n"
     ]
    }
   ],
   "source": [
    "# And lets have a look at the STATIONS file that's been created\n",
    "!cat \"STATIONS\""
   ]
  },
  {
   "cell_type": "markdown",
   "id": "e8e9cb11",
   "metadata": {},
   "source": [
    "### Forward Simulation: Generate synthetics using SPECFEM3D [external]\n",
    "\n",
    "Unfortunately this cannot be shown in a Jupyter notebook as generating synthetics requires interfacing with the SPECFEM3D code, which usually takes place on a cluster. In this example we assume this step has been completed successfully, with resultant synthetic waveforms produced by SPECFEM3D for the given event and stations defined above. \n",
    "\n",
    "> **__NOTE:__**  \n",
    "Output synthetic seismograms are expected to be formatted as two-column ASCII files, which I have pre-generated for this example. File names follow the expected output from SPECFEM3D. Adherance to this format is very important for running Pyaflowa. \n",
    "\n",
    "> **__NOTE:__**\n",
    "By default synthetic waveform data is expected to be separated by event ID, e.g., PATH/TO/SYNTHETICS/{EVENT_ID}/*semd"
   ]
  },
  {
   "cell_type": "code",
   "execution_count": 9,
   "id": "993c4b14",
   "metadata": {
    "execution": {
     "iopub.execute_input": "2022-03-03T20:02:00.618246Z",
     "iopub.status.busy": "2022-03-03T20:02:00.610644Z",
     "iopub.status.idle": "2022-03-03T20:02:01.442768Z",
     "shell.execute_reply": "2022-03-03T20:02:01.442526Z"
    },
    "scrolled": true
   },
   "outputs": [
    {
     "name": "stdout",
     "output_type": "stream",
     "text": [
      "2012p242656  2018p130600  NZ.BFZ.BXE.semd  NZ.BFZ.BXN.semd  NZ.BFZ.BXZ.semd\r\n"
     ]
    }
   ],
   "source": [
    "# Let's copy the premade synthetic data into our current working directory\n",
    "!ls ../../synthetics\n",
    "!mkdir -p synthetics\n",
    "!cp -r ../../synthetics/201?p?????? ./synthetics"
   ]
  },
  {
   "cell_type": "code",
   "execution_count": 10,
   "id": "ac2a6ce1",
   "metadata": {
    "execution": {
     "iopub.execute_input": "2022-03-03T20:02:01.445179Z",
     "iopub.status.busy": "2022-03-03T20:02:01.444944Z",
     "iopub.status.idle": "2022-03-03T20:02:01.574530Z",
     "shell.execute_reply": "2022-03-03T20:02:01.573540Z"
    }
   },
   "outputs": [
    {
     "name": "stdout",
     "output_type": "stream",
     "text": [
      "==> ./synthetics/2018p130600/NZ.MRZ.BXE.semd <==\r\n",
      "  -20.0000000       0.00000000    \r\n",
      "  -19.9850006       0.00000000    \r\n",
      "  -19.9699993       0.00000000    \r\n",
      "  -19.9549999       0.00000000    \r\n",
      "  -19.9400005       0.00000000    \r\n",
      "  -19.9249992       0.00000000    \r\n",
      "  -19.9099998       0.00000000    \r\n",
      "  -19.8950005       0.00000000    \r\n",
      "  -19.8799992       0.00000000    \r\n",
      "  -19.8649998       0.00000000    \r\n",
      "\r\n",
      "==> ./synthetics/2018p130600/NZ.MRZ.BXN.semd <==\r\n",
      "  -20.0000000       0.00000000    \r\n",
      "  -19.9850006       0.00000000    \r\n",
      "  -19.9699993       0.00000000    \r\n",
      "  -19.9549999       0.00000000    \r\n",
      "  -19.9400005       0.00000000    \r\n",
      "  -19.9249992       0.00000000    \r\n",
      "  -19.9099998       0.00000000    \r\n",
      "  -19.8950005       0.00000000    \r\n",
      "  -19.8799992       0.00000000    \r\n",
      "  -19.8649998       0.00000000    \r\n",
      "\r\n",
      "==> ./synthetics/2018p130600/NZ.MRZ.BXZ.semd <==\r\n",
      "  -20.0000000       0.00000000    \r\n",
      "  -19.9850006       0.00000000    \r\n",
      "  -19.9699993       0.00000000    \r\n",
      "  -19.9549999       0.00000000    \r\n",
      "  -19.9400005       0.00000000    \r\n",
      "  -19.9249992       0.00000000    \r\n",
      "  -19.9099998       0.00000000    \r\n",
      "  -19.8950005       0.00000000    \r\n",
      "  -19.8799992       0.00000000    \r\n",
      "  -19.8649998       0.00000000    \r\n"
     ]
    }
   ],
   "source": [
    "!head ./synthetics/2018p130600/NZ.MRZ.BX?.semd"
   ]
  },
  {
   "cell_type": "markdown",
   "id": "9ee5c689",
   "metadata": {},
   "source": [
    "### Pyaflowa's directory structure\n",
    "\n",
    "`Pyaflowa` abstracts away the enigmatic inner machinations of `Pyatoa`. To do so it manages an internal directory structure to search for inputs and store outputs.\n",
    "\n",
    "When used standalone, `Pyaflowa` creates its own directory structure within a given working directory. When used in conjunction with SeisFlows3, `Pyaflowa` will work within the preset internal directory structure of SeisFlows3 (see Pyaflowa + SeisFlows3).\n",
    "\n",
    "Let's start by initiating `Pyaflowa`. As with any usage of Pyatoa, a Config object is required to define internally used parameters which will inturn be used to control gathering, waveform processing, and misfit quantification."
   ]
  },
  {
   "cell_type": "code",
   "execution_count": 11,
   "id": "9a01f38c",
   "metadata": {
    "execution": {
     "iopub.execute_input": "2022-03-03T20:02:01.583021Z",
     "iopub.status.busy": "2022-03-03T20:02:01.581911Z",
     "iopub.status.idle": "2022-03-03T20:02:01.586594Z",
     "shell.execute_reply": "2022-03-03T20:02:01.585466Z"
    }
   },
   "outputs": [],
   "source": [
    "from pyatoa import Pyaflowa, Config"
   ]
  },
  {
   "cell_type": "code",
   "execution_count": 12,
   "id": "3d4b43a4",
   "metadata": {
    "execution": {
     "iopub.execute_input": "2022-03-03T20:02:01.593388Z",
     "iopub.status.busy": "2022-03-03T20:02:01.593151Z",
     "iopub.status.idle": "2022-03-03T20:02:01.594423Z",
     "shell.execute_reply": "2022-03-03T20:02:01.594201Z"
    }
   },
   "outputs": [],
   "source": [
    "cfg = Config(iteration=1, step_count=0, client=\"GEONET\", min_period=10, max_period=30,\n",
    "             pyflex_preset=\"nznorth_10-30s\")\n",
    "\n",
    "pf = Pyaflowa(structure=\"standalone\", workdir=\"./\", config=cfg)"
   ]
  },
  {
   "cell_type": "code",
   "execution_count": 13,
   "id": "1d9aa8d0",
   "metadata": {
    "execution": {
     "iopub.execute_input": "2022-03-03T20:02:01.600142Z",
     "iopub.status.busy": "2022-03-03T20:02:01.599542Z",
     "iopub.status.idle": "2022-03-03T20:02:01.602626Z",
     "shell.execute_reply": "2022-03-03T20:02:01.602385Z"
    }
   },
   "outputs": [
    {
     "data": {
      "text/plain": [
       "cwd          : './'\n",
       "data         : './input/DATA'\n",
       "datasets     : './datasets'\n",
       "figures      : './figures'\n",
       "logs         : './logs'\n",
       "ds_file      : './datasets/{source_name}.h5'\n",
       "stations_file: './{source_name}/STATIONS'\n",
       "responses    : './input/responses'\n",
       "waveforms    : './input/waveforms'\n",
       "synthetics   : './input/synthetics/{source_name}'\n",
       "adjsrcs      : './adjsrcs/{source_name}'\n",
       "event_figures: './figures/{source_name}'"
      ]
     },
     "execution_count": 13,
     "metadata": {},
     "output_type": "execute_result"
    }
   ],
   "source": [
    "# We can take a look at Pyaflowa's DEFAULT internal directory structure with the path_structure attribute\n",
    "pf.path_structure"
   ]
  },
  {
   "cell_type": "markdown",
   "id": "b1e55db7",
   "metadata": {},
   "source": [
    "If you want to change the Pyaflowa directory structure from the default values shown above, you can simply pass the keys of the `path_structure` attribute as keyword arguments in the initialization of Pyaflowa. Let's generate a non-standard path structure to point to our existing data."
   ]
  },
  {
   "cell_type": "code",
   "execution_count": 14,
   "id": "1e4d4e93",
   "metadata": {
    "execution": {
     "iopub.execute_input": "2022-03-03T20:02:01.605508Z",
     "iopub.status.busy": "2022-03-03T20:02:01.605270Z",
     "iopub.status.idle": "2022-03-03T20:02:01.606536Z",
     "shell.execute_reply": "2022-03-03T20:02:01.606718Z"
    }
   },
   "outputs": [
    {
     "data": {
      "text/plain": [
       "cwd          : '/home/bchow/REPOSITORIES/pyatoa/pyatoa/tests/test_data/docs_data/pyaflowa_doc'\n",
       "data         : '/home/bchow/REPOSITORIES/pyatoa/pyatoa/tests/test_data/docs_data/pyaflowa_doc'\n",
       "datasets     : '/home/bchow/REPOSITORIES/pyatoa/pyatoa/tests/test_data/docs_data/pyaflowa_doc'\n",
       "figures      : '/home/bchow/REPOSITORIES/pyatoa/pyatoa/tests/test_data/docs_data/pyaflowa_doc/figures'\n",
       "logs         : '/home/bchow/REPOSITORIES/pyatoa/pyatoa/tests/test_data/docs_data/pyaflowa_doc/logs'\n",
       "ds_file      : '/home/bchow/REPOSITORIES/pyatoa/pyatoa/tests/test_data/docs_data/pyaflowa_doc/{source_name}.h5'\n",
       "stations_file: '/home/bchow/REPOSITORIES/pyatoa/pyatoa/tests/test_data/docs_data/pyaflowa_doc/STATIONS'\n",
       "responses    : '/home/bchow/REPOSITORIES/pyatoa/pyatoa/tests/test_data/docs_data/pyaflowa_doc/input/responses'\n",
       "waveforms    : '/home/bchow/REPOSITORIES/pyatoa/pyatoa/tests/test_data/docs_data/pyaflowa_doc/input/waveforms'\n",
       "synthetics   : '/home/bchow/REPOSITORIES/pyatoa/pyatoa/tests/test_data/docs_data/pyaflowa_doc/synthetics/{source_name}'\n",
       "adjsrcs      : '/home/bchow/REPOSITORIES/pyatoa/pyatoa/tests/test_data/docs_data/pyaflowa_doc/adjsrcs/{source_name}'\n",
       "event_figures: '/home/bchow/REPOSITORIES/pyatoa/pyatoa/tests/test_data/docs_data/pyaflowa_doc/figures/{source_name}'"
      ]
     },
     "execution_count": 14,
     "metadata": {},
     "output_type": "execute_result"
    }
   ],
   "source": [
    "# Make sure we're in the correct directory so that we don't start making dir. randomly\n",
    "assert os.path.basename(os.getcwd()) == \"pyaflowa_doc\"\n",
    "\n",
    "# Custom set directory structure\n",
    "base_path = os.getcwd()\n",
    "kwargs = {\"workdir\": base_path,\n",
    "          \"synthetics\": os.path.join(base_path, \"synthetics\", \"{source_name}\"),\n",
    "          \"stations_file\": os.path.join(base_path, \"STATIONS\"),\n",
    "          \"data\": base_path,\n",
    "          \"datasets\": base_path,\n",
    "         }\n",
    "\n",
    "pf = Pyaflowa(structure=\"standalone\", config=cfg, **kwargs)\n",
    "pf.path_structure"
   ]
  },
  {
   "cell_type": "markdown",
   "id": "96bd8f84",
   "metadata": {},
   "source": [
    "----------------------\n",
    "\n",
    "### The IO (input/output) class\n",
    "\n",
    "By running the Pyaflowa.setup() function, Pyaflowa will make the required directory structure defined above. It will also return an `IO` object. This internally used object store information related to paths, configurations and processing.\n",
    "\n",
    "The user does __not__ need to interact with the `IO` object, but we can take a look at it for clarity. It contains the internal directory structure used by `Pyaflowa`, the `Config` object which will control all of the Manager processing that will take place, and internal attributes which keep track of how processing occurs."
   ]
  },
  {
   "cell_type": "code",
   "execution_count": 15,
   "id": "3ebec3b5",
   "metadata": {
    "execution": {
     "iopub.execute_input": "2022-03-03T20:02:01.608503Z",
     "iopub.status.busy": "2022-03-03T20:02:01.608271Z",
     "iopub.status.idle": "2022-03-03T20:02:01.991312Z",
     "shell.execute_reply": "2022-03-03T20:02:01.990705Z"
    }
   },
   "outputs": [],
   "source": [
    "io = pf.setup(source_name=\"2018p130600\")"
   ]
  },
  {
   "cell_type": "code",
   "execution_count": 16,
   "id": "86d5954d",
   "metadata": {
    "execution": {
     "iopub.execute_input": "2022-03-03T20:02:01.995349Z",
     "iopub.status.busy": "2022-03-03T20:02:01.995109Z",
     "iopub.status.idle": "2022-03-03T20:02:01.997157Z",
     "shell.execute_reply": "2022-03-03T20:02:01.996962Z"
    }
   },
   "outputs": [
    {
     "name": "stdout",
     "output_type": "stream",
     "text": [
      "paths cwd          : '/home/bchow/REPOSITORIES/pyatoa/pyatoa/tests/test_data/docs_data/pyaflowa_doc'\n",
      "data         : '/home/bchow/REPOSITORIES/pyatoa/pyatoa/tests/test_data/docs_data/pyaflowa_doc'\n",
      "datasets     : '/home/bchow/REPOSITORIES/pyatoa/pyatoa/tests/test_data/docs_data/pyaflowa_doc'\n",
      "figures      : '/home/bchow/REPOSITORIES/pyatoa/pyatoa/tests/test_data/docs_data/pyaflowa_doc/figures'\n",
      "logs         : '/home/bchow/REPOSITORIES/pyatoa/pyatoa/tests/test_data/docs_data/pyaflowa_doc/logs'\n",
      "ds_file      : '/home/bchow/REPOSITORIES/pyatoa/pyatoa/tests/test_data/docs_data/pyaflowa_doc/2018p130600.h5'\n",
      "stations_file: '/home/bchow/REPOSITORIES/pyatoa/pyatoa/tests/test_data/docs_data/pyaflowa_doc/STATIONS'\n",
      "responses    : '/home/bchow/REPOSITORIES/pyatoa/pyatoa/tests/test_data/docs_data/pyaflowa_doc/input/responses'\n",
      "waveforms    : '/home/bchow/REPOSITORIES/pyatoa/pyatoa/tests/test_data/docs_data/pyaflowa_doc/input/waveforms'\n",
      "synthetics   : '/home/bchow/REPOSITORIES/pyatoa/pyatoa/tests/test_data/docs_data/pyaflowa_doc/synthetics/2018p130600'\n",
      "adjsrcs      : '/home/bchow/REPOSITORIES/pyatoa/pyatoa/tests/test_data/docs_data/pyaflowa_doc/adjsrcs/2018p130600'\n",
      "event_figures: '/home/bchow/REPOSITORIES/pyatoa/pyatoa/tests/test_data/docs_data/pyaflowa_doc/figures/2018p130600'\n",
      "\n",
      "logger <Logger pyatoa (DEBUG)>\n",
      "config CONFIG\n",
      "    iteration:               i01\n",
      "    step_count:              s00\n",
      "    event_id:                2018p130600\n",
      "GATHER\n",
      "    client:                  GEONET\n",
      "    start_pad:               20\n",
      "    end_pad:                 500\n",
      "    save_to_ds:              True\n",
      "PROCESS\n",
      "    min_period:              10.0\n",
      "    max_period:              30.0\n",
      "    filter_corners:          2.0\n",
      "    unit_output:             DISP\n",
      "    rotate_to_rtz:           False\n",
      "    win_amp_ratio:           0.0\n",
      "    synthetics_only:         False\n",
      "LABELS\n",
      "    component_list:          ['E', 'N', 'Z']\n",
      "    observed_tag:            observed\n",
      "    synthetic_tag:           synthetic_i01s00\n",
      "    paths:                   {'responses': '/home/bchow/REPOSITORIES/pyatoa/pyatoa/tests/test_data/docs_data/pyaflowa_doc/input/responses', 'waveforms': '/home/bchow/REPOSITORIES/pyatoa/pyatoa/tests/test_data/docs_data/pyaflowa_doc/input/waveforms', 'synthetics': '/home/bchow/REPOSITORIES/pyatoa/pyatoa/tests/test_data/docs_data/pyaflowa_doc/synthetics/2018p130600', 'events': '/home/bchow/REPOSITORIES/pyatoa/pyatoa/tests/test_data/docs_data/pyaflowa_doc'}\n",
      "EXTERNAL\n",
      "    pyflex_preset:           nznorth_10-30s\n",
      "    adj_src_type:            cc_traveltime_misfit\n",
      "    pyflex_config:           <pyflex.config.Config object at 0x7f0a73c55d90>\n",
      "    pyadjoint_config:        <pyadjoint.config.Config object at 0x7f0a73c55890>\n",
      "\n",
      "misfit 0\n",
      "nwin 0\n",
      "stations 0\n",
      "processed 0\n",
      "exceptions 0\n",
      "plot_fids []\n"
     ]
    }
   ],
   "source": [
    "for key, val in io.items():\n",
    "    print(key, val)"
   ]
  },
  {
   "cell_type": "markdown",
   "id": "37cc1806",
   "metadata": {},
   "source": [
    "-----------------------\n",
    "### Running Pyaflowa (gather and process waveforms)\n",
    "\n",
    "Great, we're all set up to run `Pyaflowa`. Internally `Pyaflowa` knows the event, path structure and stations that we want to use for misfit quantification. Now when we run it, `Pyaflowa` will instantiate `Manager` classes, attempt to gather data from disk or from web services, preprocess data and synthetic waveforms according to the `Config` object, and generate misfit windows and adjoint sources."
   ]
  },
  {
   "cell_type": "markdown",
   "id": "94e949ca",
   "metadata": {},
   "source": [
    "The example code block below is a an example of what Pyaflowa is doing under the hood: it simply abstracts commands that are used to run processing for multiple stations. It also contains a few internal checks to make sure unexpected errors don't throw the processing step off the rails.::\n",
    "\n",
    "    from pyasdf import ASDFDataSet \n",
    "    from pyatoa import Manager\n",
    "\n",
    "    with ASDFDataSet(io.paths.ds_file) as ds:\n",
    "        mgmt = Manager(ds=ds, config=io.config)\n",
    "        for code in [\"NZ.BFZ.*.HH?\"]:\n",
    "            mgmt.gather(code=code)\n",
    "            mgmt.flow()"
   ]
  },
  {
   "cell_type": "code",
   "execution_count": 17,
   "id": "5ddd08b4",
   "metadata": {
    "execution": {
     "iopub.execute_input": "2022-03-03T20:02:01.998870Z",
     "iopub.status.busy": "2022-03-03T20:02:01.998633Z",
     "iopub.status.idle": "2022-03-03T20:02:09.781432Z",
     "shell.execute_reply": "2022-03-03T20:02:09.781176Z"
    }
   },
   "outputs": [
    {
     "name": "stderr",
     "output_type": "stream",
     "text": [
      "[2022-03-03 11:02:02] - pyatoa - DEBUG: gathering event\n",
      "[2022-03-03 11:02:02] - pyatoa - INFO: searching ASDFDataSet for event info\n",
      "[2022-03-03 11:02:02] - pyatoa - DEBUG: matching event found: A8E579\n",
      "[2022-03-03 11:02:02] - pyatoa - INFO: \n",
      "================================================================================\n",
      "\n",
      "NZ.MRZ.*.HH?\n",
      "\n",
      "================================================================================\n",
      "[2022-03-03 11:02:02] - pyatoa - DEBUG: gathering event\n",
      "[2022-03-03 11:02:02] - pyatoa - INFO: searching ASDFDataSet for event info\n",
      "[2022-03-03 11:02:02] - pyatoa - DEBUG: matching event found: A8E579\n",
      "[2022-03-03 11:02:02] - pyatoa - INFO: gathering data for NZ.MRZ.*.HH?\n",
      "[2022-03-03 11:02:02] - pyatoa - INFO: gathering observed waveforms\n",
      "[2022-03-03 11:02:02] - pyatoa - INFO: searching ASDFDataSet for observations\n",
      "[2022-03-03 11:02:02] - pyatoa - INFO: matching observed waveforms found\n",
      "[2022-03-03 11:02:02] - pyatoa - INFO: gathering StationXML\n",
      "[2022-03-03 11:02:02] - pyatoa - INFO: searching ASDFDataSet for station info\n",
      "[2022-03-03 11:02:02] - pyatoa - INFO: matching StationXML found\n",
      "[2022-03-03 11:02:02] - pyatoa - INFO: saved to ASDFDataSet\n",
      "[2022-03-03 11:02:02] - pyatoa - INFO: gathering synthetic waveforms\n",
      "[2022-03-03 11:02:02] - pyatoa - INFO: searching ASDFDataSet for synthetics\n",
      "[2022-03-03 11:02:02] - pyatoa - INFO: searching local filesystem for synthetics\n",
      "[2022-03-03 11:02:02] - pyatoa - DEBUG: searching for synthetics: /home/bchow/REPOSITORIES/pyatoa/pyatoa/tests/test_data/docs_data/pyaflowa_doc/synthetics/2018p130600/{net}.{sta}.*{cmp}.sem{dva}\n",
      "[2022-03-03 11:02:02] - pyatoa - INFO: retrieved synthetics locally:\n",
      "/home/bchow/REPOSITORIES/pyatoa/pyatoa/tests/test_data/docs_data/pyaflowa_doc/synthetics/2018p130600/NZ.MRZ.BXE.semd\n",
      "[2022-03-03 11:02:02] - pyatoa - INFO: retrieved synthetics locally:\n",
      "/home/bchow/REPOSITORIES/pyatoa/pyatoa/tests/test_data/docs_data/pyaflowa_doc/synthetics/2018p130600/NZ.MRZ.BXN.semd\n",
      "[2022-03-03 11:02:02] - pyatoa - INFO: retrieved synthetics locally:\n",
      "/home/bchow/REPOSITORIES/pyatoa/pyatoa/tests/test_data/docs_data/pyaflowa_doc/synthetics/2018p130600/NZ.MRZ.BXZ.semd\n",
      "[2022-03-03 11:02:02] - pyatoa - INFO: matching synthetic waveforms found\n",
      "[2022-03-03 11:02:02] - pyatoa - INFO: saved to ASDFDataSet with tag 'synthetic_i01s00'\n",
      "[2022-03-03 11:02:02] - pyatoa - INFO: standardizing streams\n",
      "[2022-03-03 11:02:02] - pyatoa - DEBUG: shifting NZ.MRZ.10.HHE starttime by 0.001607s\n",
      "[2022-03-03 11:02:02] - pyatoa - DEBUG: shifting NZ.MRZ.10.HHN starttime by 0.001607s\n",
      "[2022-03-03 11:02:02] - pyatoa - DEBUG: shifting NZ.MRZ.10.HHZ starttime by 0.001607s\n",
      "[2022-03-03 11:02:02] - pyatoa - DEBUG: time offset is -20.0s\n",
      "[2022-03-03 11:02:02] - pyatoa - INFO: preprocessing observation data\n",
      "[2022-03-03 11:02:02] - pyatoa - INFO: adjusting taper to cover time offset -20.0\n",
      "[2022-03-03 11:02:02] - pyatoa - DEBUG: removing response, units to DISP\n",
      "[2022-03-03 11:02:02] - pyatoa - DEBUG: rotating from generic coordinate system to ZNE\n",
      "[2022-03-03 11:02:02] - pyatoa - DEBUG: bandpass filter: 10.0 - 30.0s w/ 2.0 corners\n",
      "[2022-03-03 11:02:02] - pyatoa - INFO: preprocessing synthetic data\n",
      "[2022-03-03 11:02:02] - pyatoa - INFO: adjusting taper to cover time offset -20.0\n",
      "[2022-03-03 11:02:02] - pyatoa - DEBUG: no response removal, synthetic data or requested not to\n",
      "[2022-03-03 11:02:02] - pyatoa - DEBUG: bandpass filter: 10.0 - 30.0s w/ 2.0 corners\n",
      "[2022-03-03 11:02:02] - pyatoa - DEBUG: convolving data w/ Gaussian (t/2=0.70s)\n",
      "[2022-03-03 11:02:02] - pyatoa - INFO: running Pyflex w/ map: nznorth_10-30s\n",
      "[2022-03-03 11:02:02,713] - pyflex - INFO: Calculated travel times.\n",
      "[2022-03-03 11:02:02,714] - pyflex - INFO: Calculating envelope of synthetics.\n",
      "[2022-03-03 11:02:02,714] - pyflex - INFO: Calculating STA/LTA.\n",
      "[2022-03-03 11:02:02,715] - pyflex - INFO: Initial window selection yielded 2 possible windows.\n",
      "[2022-03-03 11:02:02,716] - pyflex - INFO: Rejection based on travel times retained 2 windows.\n",
      "[2022-03-03 11:02:02,716] - pyflex - INFO: Global SNR checks passed. Integrated SNR: 264017440517.820709, Amplitude SNR: 1258959.382420\n",
      "[2022-03-03 11:02:02,716] - pyflex - INFO: Rejection based on minimum window length retained 2 windows.\n",
      "[2022-03-03 11:02:02,716] - pyflex - INFO: Water level rejection retained 1 windows\n",
      "[2022-03-03 11:02:02,717] - pyflex - INFO: Single phase group rejection retained 1 windows\n",
      "[2022-03-03 11:02:02,717] - pyflex - INFO: Removing duplicates retains 1 windows.\n",
      "[2022-03-03 11:02:02,717] - pyflex - INFO: Rejection based on minimum window length retained 1 windows.\n",
      "[2022-03-03 11:02:02,717] - pyflex - INFO: SN amplitude ratio window rejection retained 1 windows\n",
      "[2022-03-03 11:02:02,721] - pyflex - INFO: Rejection based on data fit criteria retained 1 windows.\n",
      "[2022-03-03 11:02:02,722] - pyflex - INFO: Weighted interval schedule optimization retained 1 windows.\n",
      "[2022-03-03 11:02:02] - pyatoa - INFO: 1 window(s) selected for comp E\n",
      "[2022-03-03 11:02:02,852] - pyflex - INFO: Calculated travel times.\n",
      "[2022-03-03 11:02:02,852] - pyflex - INFO: Calculating envelope of synthetics.\n",
      "[2022-03-03 11:02:02,853] - pyflex - INFO: Calculating STA/LTA.\n",
      "[2022-03-03 11:02:02,854] - pyflex - INFO: Initial window selection yielded 10 possible windows.\n",
      "[2022-03-03 11:02:02,854] - pyflex - INFO: Rejection based on travel times retained 10 windows.\n",
      "[2022-03-03 11:02:02,855] - pyflex - INFO: Global SNR checks passed. Integrated SNR: 77923017814.422638, Amplitude SNR: 910031.449340\n",
      "[2022-03-03 11:02:02,855] - pyflex - INFO: Rejection based on minimum window length retained 10 windows.\n",
      "[2022-03-03 11:02:02,855] - pyflex - INFO: Water level rejection retained 4 windows\n",
      "[2022-03-03 11:02:02,855] - pyflex - INFO: Single phase group rejection retained 4 windows\n",
      "[2022-03-03 11:02:02,856] - pyflex - INFO: Removing duplicates retains 3 windows.\n",
      "[2022-03-03 11:02:02,856] - pyflex - INFO: Rejection based on minimum window length retained 3 windows.\n",
      "[2022-03-03 11:02:02,856] - pyflex - INFO: SN amplitude ratio window rejection retained 3 windows\n",
      "[2022-03-03 11:02:02,859] - pyflex - DEBUG: Window rejected due to CC value: 0.635155\n",
      "[2022-03-03 11:02:02,859] - pyflex - INFO: Rejection based on data fit criteria retained 2 windows.\n",
      "[2022-03-03 11:02:02,860] - pyflex - INFO: Weighted interval schedule optimization retained 1 windows.\n",
      "[2022-03-03 11:02:02] - pyatoa - INFO: 1 window(s) selected for comp N\n",
      "[2022-03-03 11:02:02,999] - pyflex - INFO: Calculated travel times.\n",
      "[2022-03-03 11:02:03,000] - pyflex - INFO: Calculating envelope of synthetics.\n",
      "[2022-03-03 11:02:03,000] - pyflex - INFO: Calculating STA/LTA.\n",
      "[2022-03-03 11:02:03,001] - pyflex - INFO: Initial window selection yielded 10 possible windows.\n",
      "[2022-03-03 11:02:03,002] - pyflex - INFO: Rejection based on travel times retained 10 windows.\n",
      "[2022-03-03 11:02:03,002] - pyflex - INFO: Global SNR checks passed. Integrated SNR: 13630877749859348.000000, Amplitude SNR: 439117916.874931\n",
      "[2022-03-03 11:02:03,002] - pyflex - INFO: Rejection based on minimum window length retained 9 windows.\n",
      "[2022-03-03 11:02:03,002] - pyflex - INFO: Water level rejection retained 3 windows\n",
      "[2022-03-03 11:02:03,003] - pyflex - INFO: Single phase group rejection retained 3 windows\n",
      "[2022-03-03 11:02:03,003] - pyflex - INFO: Removing duplicates retains 2 windows.\n",
      "[2022-03-03 11:02:03,003] - pyflex - INFO: Rejection based on minimum window length retained 2 windows.\n",
      "[2022-03-03 11:02:03,004] - pyflex - INFO: SN amplitude ratio window rejection retained 2 windows\n",
      "[2022-03-03 11:02:03,010] - pyflex - INFO: Rejection based on data fit criteria retained 2 windows.\n",
      "[2022-03-03 11:02:03,010] - pyflex - INFO: Weighted interval schedule optimization retained 1 windows.\n",
      "[2022-03-03 11:02:03] - pyatoa - INFO: 1 window(s) selected for comp Z\n",
      "[2022-03-03 11:02:03] - pyatoa - DEBUG: saving misfit windows to ASDFDataSet\n",
      "[2022-03-03 11:02:03] - pyatoa - INFO: 3 window(s) total found\n",
      "[2022-03-03 11:02:03] - pyatoa - DEBUG: running Pyadjoint w/ type: cc_traveltime_misfit\n",
      "[2022-03-03 11:02:03] - pyatoa - INFO: 0.366 misfit for comp E\n",
      "[2022-03-03 11:02:03] - pyatoa - INFO: 0.154 misfit for comp N\n",
      "[2022-03-03 11:02:03] - pyatoa - INFO: 0.095 misfit for comp Z\n",
      "[2022-03-03 11:02:03] - pyatoa - DEBUG: saving adjoint sources to ASDFDataSet\n",
      "[2022-03-03 11:02:03] - pyatoa - INFO: total misfit 0.614\n",
      "[2022-03-03 11:02:03] - pyatoa - INFO: \n",
      "\n",
      "\tOBS WAVS:  3\n",
      "\tSYN WAVS:  3\n",
      "\tWINDOWS:   3\n",
      "\tMISFIT:    0.61\n",
      "\n",
      "[2022-03-03 11:02:03] - pyatoa - INFO: saving figure to: /home/bchow/REPOSITORIES/pyatoa/pyatoa/tests/test_data/docs_data/pyaflowa_doc/figures/2018p130600/i01_s00_NZ_MRZ.pdf\n",
      "[2022-03-03 11:02:03] - pyatoa - INFO: \n",
      "================================================================================\n",
      "\n",
      "FINALIZE\n",
      "\n",
      "================================================================================\n",
      "[2022-03-03 11:02:04] - pyatoa - INFO: \n",
      "================================================================================\n",
      "\n",
      "NZ.TSZ.*.HH?\n",
      "\n",
      "================================================================================\n",
      "[2022-03-03 11:02:04] - pyatoa - INFO: gathering data for NZ.TSZ.*.HH?\n",
      "[2022-03-03 11:02:04] - pyatoa - INFO: gathering observed waveforms\n",
      "[2022-03-03 11:02:04] - pyatoa - INFO: searching ASDFDataSet for observations\n",
      "[2022-03-03 11:02:04] - pyatoa - INFO: matching observed waveforms found\n",
      "[2022-03-03 11:02:04] - pyatoa - INFO: gathering StationXML\n",
      "[2022-03-03 11:02:04] - pyatoa - INFO: searching ASDFDataSet for station info\n",
      "[2022-03-03 11:02:04] - pyatoa - INFO: matching StationXML found\n",
      "[2022-03-03 11:02:04] - pyatoa - INFO: saved to ASDFDataSet\n",
      "[2022-03-03 11:02:04] - pyatoa - INFO: gathering synthetic waveforms\n",
      "[2022-03-03 11:02:04] - pyatoa - INFO: searching ASDFDataSet for synthetics\n",
      "[2022-03-03 11:02:04] - pyatoa - INFO: searching local filesystem for synthetics\n",
      "[2022-03-03 11:02:04] - pyatoa - DEBUG: searching for synthetics: /home/bchow/REPOSITORIES/pyatoa/pyatoa/tests/test_data/docs_data/pyaflowa_doc/synthetics/2018p130600/{net}.{sta}.*{cmp}.sem{dva}\n",
      "[2022-03-03 11:02:04] - pyatoa - INFO: retrieved synthetics locally:\n",
      "/home/bchow/REPOSITORIES/pyatoa/pyatoa/tests/test_data/docs_data/pyaflowa_doc/synthetics/2018p130600/NZ.TSZ.BXE.semd\n",
      "[2022-03-03 11:02:04] - pyatoa - INFO: retrieved synthetics locally:\n",
      "/home/bchow/REPOSITORIES/pyatoa/pyatoa/tests/test_data/docs_data/pyaflowa_doc/synthetics/2018p130600/NZ.TSZ.BXN.semd\n",
      "[2022-03-03 11:02:04] - pyatoa - INFO: retrieved synthetics locally:\n",
      "/home/bchow/REPOSITORIES/pyatoa/pyatoa/tests/test_data/docs_data/pyaflowa_doc/synthetics/2018p130600/NZ.TSZ.BXZ.semd\n",
      "[2022-03-03 11:02:04] - pyatoa - INFO: matching synthetic waveforms found\n",
      "[2022-03-03 11:02:04] - pyatoa - INFO: saved to ASDFDataSet with tag 'synthetic_i01s00'\n",
      "[2022-03-03 11:02:04] - pyatoa - INFO: standardizing streams\n",
      "[2022-03-03 11:02:04] - pyatoa - DEBUG: zero pad NZ.TSZ.10.HHE (0, 0) samples\n",
      "[2022-03-03 11:02:04] - pyatoa - DEBUG: new starttime NZ.TSZ.10.HHE: 2018-02-18T07:43:28.130000Z\n",
      "[2022-03-03 11:02:04] - pyatoa - DEBUG: zero pad NZ.TSZ.10.HHN (0, 0) samples\n",
      "[2022-03-03 11:02:04] - pyatoa - DEBUG: new starttime NZ.TSZ.10.HHN: 2018-02-18T07:43:28.130001Z\n",
      "[2022-03-03 11:02:04] - pyatoa - DEBUG: zero pad NZ.TSZ.10.HHZ (0, 0) samples\n",
      "[2022-03-03 11:02:04] - pyatoa - DEBUG: new starttime NZ.TSZ.10.HHZ: 2018-02-18T07:43:28.130001Z\n",
      "[2022-03-03 11:02:04] - pyatoa - DEBUG: time offset is -20.0s\n",
      "[2022-03-03 11:02:04] - pyatoa - INFO: preprocessing observation data\n",
      "[2022-03-03 11:02:04] - pyatoa - INFO: adjusting taper to cover time offset -20.0\n",
      "[2022-03-03 11:02:04] - pyatoa - DEBUG: removing response, units to DISP\n",
      "[2022-03-03 11:02:04] - pyatoa - DEBUG: rotating from generic coordinate system to ZNE\n",
      "[2022-03-03 11:02:04] - pyatoa - DEBUG: bandpass filter: 10.0 - 30.0s w/ 2.0 corners\n",
      "[2022-03-03 11:02:04] - pyatoa - INFO: preprocessing synthetic data\n",
      "[2022-03-03 11:02:04] - pyatoa - INFO: adjusting taper to cover time offset -20.0\n",
      "[2022-03-03 11:02:04] - pyatoa - DEBUG: no response removal, synthetic data or requested not to\n",
      "[2022-03-03 11:02:04] - pyatoa - DEBUG: bandpass filter: 10.0 - 30.0s w/ 2.0 corners\n",
      "[2022-03-03 11:02:04] - pyatoa - DEBUG: convolving data w/ Gaussian (t/2=0.70s)\n",
      "[2022-03-03 11:02:04] - pyatoa - INFO: running Pyflex w/ map: nznorth_10-30s\n",
      "[2022-03-03 11:02:04,718] - pyflex - INFO: Calculated travel times.\n",
      "[2022-03-03 11:02:04,718] - pyflex - INFO: Calculating envelope of synthetics.\n",
      "[2022-03-03 11:02:04,719] - pyflex - INFO: Calculating STA/LTA.\n",
      "[2022-03-03 11:02:04] - pyatoa - WARNING: Cannot window, most likely because the source-receiver distance is too small w.r.t the minimum period\n",
      "[2022-03-03 11:02:04] - pyatoa - INFO: saving figure to: /home/bchow/REPOSITORIES/pyatoa/pyatoa/tests/test_data/docs_data/pyaflowa_doc/figures/2018p130600/i01_s00_NZ_TSZ.pdf\n",
      "[2022-03-03 11:02:05] - pyatoa - INFO: \n",
      "================================================================================\n",
      "\n",
      "NZ.VRZ.*.HH?\n",
      "\n",
      "================================================================================\n",
      "[2022-03-03 11:02:05] - pyatoa - INFO: gathering data for NZ.VRZ.*.HH?\n",
      "[2022-03-03 11:02:05] - pyatoa - INFO: gathering observed waveforms\n",
      "[2022-03-03 11:02:05] - pyatoa - INFO: searching ASDFDataSet for observations\n",
      "[2022-03-03 11:02:05] - pyatoa - INFO: matching observed waveforms found\n",
      "[2022-03-03 11:02:05] - pyatoa - INFO: gathering StationXML\n",
      "[2022-03-03 11:02:05] - pyatoa - INFO: searching ASDFDataSet for station info\n",
      "[2022-03-03 11:02:05] - pyatoa - INFO: matching StationXML found\n",
      "[2022-03-03 11:02:05] - pyatoa - INFO: saved to ASDFDataSet\n",
      "[2022-03-03 11:02:05] - pyatoa - INFO: gathering synthetic waveforms\n",
      "[2022-03-03 11:02:05] - pyatoa - INFO: searching ASDFDataSet for synthetics\n",
      "[2022-03-03 11:02:05] - pyatoa - INFO: searching local filesystem for synthetics\n",
      "[2022-03-03 11:02:05] - pyatoa - DEBUG: searching for synthetics: /home/bchow/REPOSITORIES/pyatoa/pyatoa/tests/test_data/docs_data/pyaflowa_doc/synthetics/2018p130600/{net}.{sta}.*{cmp}.sem{dva}\n",
      "[2022-03-03 11:02:05] - pyatoa - INFO: retrieved synthetics locally:\n",
      "/home/bchow/REPOSITORIES/pyatoa/pyatoa/tests/test_data/docs_data/pyaflowa_doc/synthetics/2018p130600/NZ.VRZ.BXE.semd\n",
      "[2022-03-03 11:02:05] - pyatoa - INFO: retrieved synthetics locally:\n",
      "/home/bchow/REPOSITORIES/pyatoa/pyatoa/tests/test_data/docs_data/pyaflowa_doc/synthetics/2018p130600/NZ.VRZ.BXN.semd\n",
      "[2022-03-03 11:02:05] - pyatoa - INFO: retrieved synthetics locally:\n",
      "/home/bchow/REPOSITORIES/pyatoa/pyatoa/tests/test_data/docs_data/pyaflowa_doc/synthetics/2018p130600/NZ.VRZ.BXZ.semd\n",
      "[2022-03-03 11:02:05] - pyatoa - INFO: matching synthetic waveforms found\n",
      "[2022-03-03 11:02:05] - pyatoa - INFO: saved to ASDFDataSet with tag 'synthetic_i01s00'\n",
      "[2022-03-03 11:02:05] - pyatoa - INFO: standardizing streams\n",
      "[2022-03-03 11:02:05] - pyatoa - DEBUG: shifting NZ.VRZ.10.HHE starttime by 0.001578s\n",
      "[2022-03-03 11:02:05] - pyatoa - DEBUG: shifting NZ.VRZ.10.HHN starttime by 0.001578s\n",
      "[2022-03-03 11:02:05] - pyatoa - DEBUG: shifting NZ.VRZ.10.HHZ starttime by 0.001578s\n",
      "[2022-03-03 11:02:05] - pyatoa - DEBUG: time offset is -20.0s\n",
      "[2022-03-03 11:02:05] - pyatoa - INFO: preprocessing observation data\n",
      "[2022-03-03 11:02:05] - pyatoa - INFO: adjusting taper to cover time offset -20.0\n",
      "[2022-03-03 11:02:05] - pyatoa - DEBUG: removing response, units to DISP\n",
      "[2022-03-03 11:02:05] - pyatoa - DEBUG: rotating from generic coordinate system to ZNE\n",
      "[2022-03-03 11:02:05] - pyatoa - DEBUG: bandpass filter: 10.0 - 30.0s w/ 2.0 corners\n",
      "[2022-03-03 11:02:05] - pyatoa - INFO: preprocessing synthetic data\n",
      "[2022-03-03 11:02:05] - pyatoa - INFO: adjusting taper to cover time offset -20.0\n",
      "[2022-03-03 11:02:05] - pyatoa - DEBUG: no response removal, synthetic data or requested not to\n",
      "[2022-03-03 11:02:05] - pyatoa - DEBUG: bandpass filter: 10.0 - 30.0s w/ 2.0 corners\n",
      "[2022-03-03 11:02:05] - pyatoa - DEBUG: convolving data w/ Gaussian (t/2=0.70s)\n",
      "[2022-03-03 11:02:05] - pyatoa - INFO: running Pyflex w/ map: nznorth_10-30s\n",
      "[2022-03-03 11:02:06,106] - pyflex - INFO: Calculated travel times.\n",
      "[2022-03-03 11:02:06,106] - pyflex - INFO: Calculating envelope of synthetics.\n",
      "[2022-03-03 11:02:06,107] - pyflex - INFO: Calculating STA/LTA.\n",
      "[2022-03-03 11:02:06,108] - pyflex - INFO: Initial window selection yielded 13 possible windows.\n",
      "[2022-03-03 11:02:06,108] - pyflex - INFO: Rejection based on travel times retained 13 windows.\n",
      "[2022-03-03 11:02:06,109] - pyflex - INFO: Global SNR checks passed. Integrated SNR: 23466401786.021927, Amplitude SNR: 384703.121689\n",
      "[2022-03-03 11:02:06,109] - pyflex - INFO: Rejection based on minimum window length retained 13 windows.\n",
      "[2022-03-03 11:02:06,109] - pyflex - INFO: Water level rejection retained 4 windows\n",
      "[2022-03-03 11:02:06,110] - pyflex - INFO: Single phase group rejection retained 4 windows\n",
      "[2022-03-03 11:02:06,110] - pyflex - INFO: Removing duplicates retains 3 windows.\n",
      "[2022-03-03 11:02:06,110] - pyflex - INFO: Rejection based on minimum window length retained 3 windows.\n",
      "[2022-03-03 11:02:06,110] - pyflex - INFO: SN amplitude ratio window rejection retained 3 windows\n",
      "[2022-03-03 11:02:06,116] - pyflex - DEBUG: Window rejected due to CC value: 0.675487\n",
      "[2022-03-03 11:02:06,116] - pyflex - INFO: Rejection based on data fit criteria retained 2 windows.\n",
      "[2022-03-03 11:02:06,116] - pyflex - INFO: Weighted interval schedule optimization retained 1 windows.\n",
      "[2022-03-03 11:02:06] - pyatoa - INFO: 1 window(s) selected for comp E\n",
      "[2022-03-03 11:02:06,299] - pyflex - INFO: Calculated travel times.\n",
      "[2022-03-03 11:02:06,299] - pyflex - INFO: Calculating envelope of synthetics.\n",
      "[2022-03-03 11:02:06,300] - pyflex - INFO: Calculating STA/LTA.\n",
      "[2022-03-03 11:02:06,302] - pyflex - INFO: Initial window selection yielded 10 possible windows.\n",
      "[2022-03-03 11:02:06,302] - pyflex - INFO: Rejection based on travel times retained 10 windows.\n",
      "[2022-03-03 11:02:06,303] - pyflex - INFO: Global SNR checks passed. Integrated SNR: 31526068792.227688, Amplitude SNR: 495295.417950\n",
      "[2022-03-03 11:02:06,303] - pyflex - INFO: Rejection based on minimum window length retained 10 windows.\n",
      "[2022-03-03 11:02:06,303] - pyflex - INFO: Water level rejection retained 4 windows\n",
      "[2022-03-03 11:02:06,303] - pyflex - INFO: Single phase group rejection retained 4 windows\n",
      "[2022-03-03 11:02:06,304] - pyflex - INFO: Removing duplicates retains 3 windows.\n",
      "[2022-03-03 11:02:06,304] - pyflex - INFO: Rejection based on minimum window length retained 3 windows.\n",
      "[2022-03-03 11:02:06,304] - pyflex - INFO: SN amplitude ratio window rejection retained 3 windows\n",
      "[2022-03-03 11:02:06,308] - pyflex - INFO: Rejection based on data fit criteria retained 3 windows.\n",
      "[2022-03-03 11:02:06,308] - pyflex - INFO: Weighted interval schedule optimization retained 1 windows.\n",
      "[2022-03-03 11:02:06] - pyatoa - INFO: 1 window(s) selected for comp N\n",
      "[2022-03-03 11:02:06,485] - pyflex - INFO: Calculated travel times.\n",
      "[2022-03-03 11:02:06,486] - pyflex - INFO: Calculating envelope of synthetics.\n",
      "[2022-03-03 11:02:06,486] - pyflex - INFO: Calculating STA/LTA.\n",
      "[2022-03-03 11:02:06,487] - pyflex - INFO: Initial window selection yielded 10 possible windows.\n",
      "[2022-03-03 11:02:06,488] - pyflex - INFO: Rejection based on travel times retained 10 windows.\n",
      "[2022-03-03 11:02:06,488] - pyflex - INFO: Global SNR checks passed. Integrated SNR: 26562645048.805443, Amplitude SNR: 378503.886559\n",
      "[2022-03-03 11:02:06,488] - pyflex - INFO: Rejection based on minimum window length retained 9 windows.\n",
      "[2022-03-03 11:02:06,489] - pyflex - INFO: Water level rejection retained 3 windows\n",
      "[2022-03-03 11:02:06,489] - pyflex - INFO: Single phase group rejection retained 3 windows\n",
      "[2022-03-03 11:02:06,489] - pyflex - INFO: Removing duplicates retains 2 windows.\n",
      "[2022-03-03 11:02:06,489] - pyflex - INFO: Rejection based on minimum window length retained 2 windows.\n",
      "[2022-03-03 11:02:06,490] - pyflex - INFO: SN amplitude ratio window rejection retained 2 windows\n",
      "[2022-03-03 11:02:06,498] - pyflex - INFO: Rejection based on data fit criteria retained 2 windows.\n",
      "[2022-03-03 11:02:06,498] - pyflex - INFO: Weighted interval schedule optimization retained 1 windows.\n",
      "[2022-03-03 11:02:06] - pyatoa - INFO: 1 window(s) selected for comp Z\n",
      "[2022-03-03 11:02:06] - pyatoa - DEBUG: saving misfit windows to ASDFDataSet\n",
      "[2022-03-03 11:02:06] - pyatoa - INFO: 3 window(s) total found\n",
      "[2022-03-03 11:02:06] - pyatoa - DEBUG: running Pyadjoint w/ type: cc_traveltime_misfit\n",
      "[2022-03-03 11:02:06] - pyatoa - INFO: 0.198 misfit for comp E\n",
      "[2022-03-03 11:02:06] - pyatoa - INFO: 0.011 misfit for comp N\n",
      "[2022-03-03 11:02:06] - pyatoa - INFO: 0.065 misfit for comp Z\n",
      "[2022-03-03 11:02:06] - pyatoa - DEBUG: saving adjoint sources to ASDFDataSet\n",
      "[2022-03-03 11:02:06] - pyatoa - INFO: total misfit 0.275\n",
      "[2022-03-03 11:02:06] - pyatoa - INFO: \n",
      "\n",
      "\tOBS WAVS:  3\n",
      "\tSYN WAVS:  3\n",
      "\tWINDOWS:   3\n",
      "\tMISFIT:    0.27\n",
      "\n",
      "[2022-03-03 11:02:06] - pyatoa - INFO: saving figure to: /home/bchow/REPOSITORIES/pyatoa/pyatoa/tests/test_data/docs_data/pyaflowa_doc/figures/2018p130600/i01_s00_NZ_VRZ.pdf\n",
      "[2022-03-03 11:02:07] - pyatoa - INFO: \n",
      "================================================================================\n",
      "\n",
      "FINALIZE\n",
      "\n",
      "================================================================================\n",
      "[2022-03-03 11:02:07] - pyatoa - INFO: \n",
      "================================================================================\n",
      "\n",
      "NZ.WAZ.*.HH?\n",
      "\n",
      "================================================================================\n",
      "[2022-03-03 11:02:07] - pyatoa - INFO: gathering data for NZ.WAZ.*.HH?\n",
      "[2022-03-03 11:02:07] - pyatoa - INFO: gathering observed waveforms\n",
      "[2022-03-03 11:02:07] - pyatoa - INFO: searching ASDFDataSet for observations\n",
      "[2022-03-03 11:02:07] - pyatoa - INFO: matching observed waveforms found\n",
      "[2022-03-03 11:02:07] - pyatoa - INFO: gathering StationXML\n",
      "[2022-03-03 11:02:07] - pyatoa - INFO: searching ASDFDataSet for station info\n",
      "[2022-03-03 11:02:07] - pyatoa - INFO: matching StationXML found\n",
      "[2022-03-03 11:02:07] - pyatoa - INFO: saved to ASDFDataSet\n",
      "[2022-03-03 11:02:07] - pyatoa - INFO: gathering synthetic waveforms\n",
      "[2022-03-03 11:02:07] - pyatoa - INFO: searching ASDFDataSet for synthetics\n",
      "[2022-03-03 11:02:07] - pyatoa - INFO: searching local filesystem for synthetics\n",
      "[2022-03-03 11:02:07] - pyatoa - DEBUG: searching for synthetics: /home/bchow/REPOSITORIES/pyatoa/pyatoa/tests/test_data/docs_data/pyaflowa_doc/synthetics/2018p130600/{net}.{sta}.*{cmp}.sem{dva}\n",
      "[2022-03-03 11:02:07] - pyatoa - INFO: retrieved synthetics locally:\n",
      "/home/bchow/REPOSITORIES/pyatoa/pyatoa/tests/test_data/docs_data/pyaflowa_doc/synthetics/2018p130600/NZ.WAZ.BXE.semd\n",
      "[2022-03-03 11:02:07] - pyatoa - INFO: retrieved synthetics locally:\n",
      "/home/bchow/REPOSITORIES/pyatoa/pyatoa/tests/test_data/docs_data/pyaflowa_doc/synthetics/2018p130600/NZ.WAZ.BXN.semd\n",
      "[2022-03-03 11:02:07] - pyatoa - INFO: retrieved synthetics locally:\n",
      "/home/bchow/REPOSITORIES/pyatoa/pyatoa/tests/test_data/docs_data/pyaflowa_doc/synthetics/2018p130600/NZ.WAZ.BXZ.semd\n",
      "[2022-03-03 11:02:07] - pyatoa - INFO: matching synthetic waveforms found\n",
      "[2022-03-03 11:02:07] - pyatoa - INFO: saved to ASDFDataSet with tag 'synthetic_i01s00'\n",
      "[2022-03-03 11:02:07] - pyatoa - INFO: standardizing streams\n",
      "[2022-03-03 11:02:07] - pyatoa - DEBUG: shifting NZ.WAZ.10.HHE starttime by 0.001607s\n",
      "[2022-03-03 11:02:07] - pyatoa - DEBUG: shifting NZ.WAZ.10.HHN starttime by 0.001607s\n",
      "[2022-03-03 11:02:07] - pyatoa - DEBUG: shifting NZ.WAZ.10.HHZ starttime by 0.001607s\n",
      "[2022-03-03 11:02:07] - pyatoa - DEBUG: time offset is -20.0s\n",
      "[2022-03-03 11:02:07] - pyatoa - INFO: preprocessing observation data\n",
      "[2022-03-03 11:02:07] - pyatoa - INFO: adjusting taper to cover time offset -20.0\n",
      "[2022-03-03 11:02:07] - pyatoa - DEBUG: removing response, units to DISP\n",
      "[2022-03-03 11:02:08] - pyatoa - DEBUG: rotating from generic coordinate system to ZNE\n",
      "[2022-03-03 11:02:08] - pyatoa - DEBUG: bandpass filter: 10.0 - 30.0s w/ 2.0 corners\n",
      "[2022-03-03 11:02:08] - pyatoa - INFO: preprocessing synthetic data\n",
      "[2022-03-03 11:02:08] - pyatoa - INFO: adjusting taper to cover time offset -20.0\n",
      "[2022-03-03 11:02:08] - pyatoa - DEBUG: no response removal, synthetic data or requested not to\n",
      "[2022-03-03 11:02:08] - pyatoa - DEBUG: bandpass filter: 10.0 - 30.0s w/ 2.0 corners\n",
      "[2022-03-03 11:02:08] - pyatoa - DEBUG: convolving data w/ Gaussian (t/2=0.70s)\n",
      "[2022-03-03 11:02:08] - pyatoa - INFO: running Pyflex w/ map: nznorth_10-30s\n",
      "[2022-03-03 11:02:08,295] - pyflex - INFO: Calculated travel times.\n",
      "[2022-03-03 11:02:08,296] - pyflex - INFO: Calculating envelope of synthetics.\n",
      "[2022-03-03 11:02:08,296] - pyflex - INFO: Calculating STA/LTA.\n",
      "[2022-03-03 11:02:08,298] - pyflex - INFO: Initial window selection yielded 22 possible windows.\n",
      "[2022-03-03 11:02:08,298] - pyflex - INFO: Rejection based on travel times retained 22 windows.\n",
      "[2022-03-03 11:02:08,298] - pyflex - INFO: Global SNR checks passed. Integrated SNR: 28382657308.948811, Amplitude SNR: 494242.727553\n",
      "[2022-03-03 11:02:08,298] - pyflex - INFO: Rejection based on minimum window length retained 20 windows.\n",
      "[2022-03-03 11:02:08,299] - pyflex - INFO: Water level rejection retained 8 windows\n",
      "[2022-03-03 11:02:08,299] - pyflex - INFO: Single phase group rejection retained 8 windows\n",
      "[2022-03-03 11:02:08,299] - pyflex - INFO: Removing duplicates retains 4 windows.\n",
      "[2022-03-03 11:02:08,300] - pyflex - INFO: Rejection based on minimum window length retained 4 windows.\n",
      "[2022-03-03 11:02:08,300] - pyflex - INFO: SN amplitude ratio window rejection retained 4 windows\n",
      "[2022-03-03 11:02:08,308] - pyflex - INFO: Rejection based on data fit criteria retained 4 windows.\n",
      "[2022-03-03 11:02:08,309] - pyflex - INFO: Weighted interval schedule optimization retained 1 windows.\n",
      "[2022-03-03 11:02:08] - pyatoa - INFO: 1 window(s) selected for comp E\n",
      "[2022-03-03 11:02:08,448] - pyflex - INFO: Calculated travel times.\n",
      "[2022-03-03 11:02:08,448] - pyflex - INFO: Calculating envelope of synthetics.\n",
      "[2022-03-03 11:02:08,449] - pyflex - INFO: Calculating STA/LTA.\n",
      "[2022-03-03 11:02:08,450] - pyflex - INFO: Initial window selection yielded 10 possible windows.\n",
      "[2022-03-03 11:02:08,450] - pyflex - INFO: Rejection based on travel times retained 10 windows.\n",
      "[2022-03-03 11:02:08,450] - pyflex - INFO: Global SNR checks passed. Integrated SNR: 60358322016.534302, Amplitude SNR: 576780.923209\n",
      "[2022-03-03 11:02:08,451] - pyflex - INFO: Rejection based on minimum window length retained 9 windows.\n",
      "[2022-03-03 11:02:08,451] - pyflex - INFO: Water level rejection retained 3 windows\n",
      "[2022-03-03 11:02:08,451] - pyflex - INFO: Single phase group rejection retained 3 windows\n",
      "[2022-03-03 11:02:08,452] - pyflex - INFO: Removing duplicates retains 2 windows.\n",
      "[2022-03-03 11:02:08,452] - pyflex - INFO: Rejection based on minimum window length retained 2 windows.\n",
      "[2022-03-03 11:02:08,452] - pyflex - INFO: SN amplitude ratio window rejection retained 2 windows\n",
      "[2022-03-03 11:02:08,455] - pyflex - DEBUG: Window rejected due to amplitude fit: 3.871042\n",
      "[2022-03-03 11:02:08,456] - pyflex - DEBUG: Window rejected due to amplitude fit: 3.793857\n",
      "[2022-03-03 11:02:08,456] - pyflex - INFO: Rejection based on data fit criteria retained 0 windows.\n",
      "[2022-03-03 11:02:08,456] - pyflex - INFO: Weighted interval schedule optimization retained 0 windows.\n",
      "[2022-03-03 11:02:08] - pyatoa - INFO: 0 window(s) selected for comp N\n",
      "[2022-03-03 11:02:08,594] - pyflex - INFO: Calculated travel times.\n",
      "[2022-03-03 11:02:08,595] - pyflex - INFO: Calculating envelope of synthetics.\n",
      "[2022-03-03 11:02:08,595] - pyflex - INFO: Calculating STA/LTA.\n",
      "[2022-03-03 11:02:08,596] - pyflex - INFO: Initial window selection yielded 10 possible windows.\n",
      "[2022-03-03 11:02:08,597] - pyflex - INFO: Rejection based on travel times retained 10 windows.\n",
      "[2022-03-03 11:02:08,597] - pyflex - INFO: Global SNR checks passed. Integrated SNR: 4763134899.306085, Amplitude SNR: 166126.234705\n",
      "[2022-03-03 11:02:08,597] - pyflex - INFO: Rejection based on minimum window length retained 9 windows.\n",
      "[2022-03-03 11:02:08,598] - pyflex - INFO: Water level rejection retained 3 windows\n",
      "[2022-03-03 11:02:08,598] - pyflex - INFO: Single phase group rejection retained 3 windows\n",
      "[2022-03-03 11:02:08,598] - pyflex - INFO: Removing duplicates retains 2 windows.\n",
      "[2022-03-03 11:02:08,599] - pyflex - INFO: Rejection based on minimum window length retained 2 windows.\n",
      "[2022-03-03 11:02:08,599] - pyflex - INFO: SN amplitude ratio window rejection retained 2 windows\n",
      "[2022-03-03 11:02:08,605] - pyflex - INFO: Rejection based on data fit criteria retained 2 windows.\n",
      "[2022-03-03 11:02:08,605] - pyflex - INFO: Weighted interval schedule optimization retained 1 windows.\n",
      "[2022-03-03 11:02:08] - pyatoa - INFO: 1 window(s) selected for comp Z\n",
      "[2022-03-03 11:02:08] - pyatoa - DEBUG: saving misfit windows to ASDFDataSet\n",
      "[2022-03-03 11:02:08] - pyatoa - INFO: 2 window(s) total found\n",
      "[2022-03-03 11:02:08] - pyatoa - DEBUG: running Pyadjoint w/ type: cc_traveltime_misfit\n",
      "[2022-03-03 11:02:08] - pyatoa - INFO: 1.037 misfit for comp E\n",
      "[2022-03-03 11:02:08] - pyatoa - INFO: 0.293 misfit for comp Z\n",
      "[2022-03-03 11:02:08] - pyatoa - DEBUG: saving adjoint sources to ASDFDataSet\n",
      "[2022-03-03 11:02:08] - pyatoa - INFO: total misfit 1.329\n",
      "[2022-03-03 11:02:08] - pyatoa - INFO: \n",
      "\n",
      "\tOBS WAVS:  3\n",
      "\tSYN WAVS:  3\n",
      "\tWINDOWS:   2\n",
      "\tMISFIT:    1.33\n",
      "\n",
      "[2022-03-03 11:02:08] - pyatoa - INFO: saving figure to: /home/bchow/REPOSITORIES/pyatoa/pyatoa/tests/test_data/docs_data/pyaflowa_doc/figures/2018p130600/i01_s00_NZ_WAZ.pdf\n",
      "[2022-03-03 11:02:09] - pyatoa - INFO: \n",
      "================================================================================\n",
      "\n",
      "FINALIZE\n",
      "\n",
      "================================================================================\n",
      "[2022-03-03 11:02:09] - pyatoa - INFO: creating single .pdf file of all output figures\n",
      "[2022-03-03 11:02:09] - pyatoa - INFO: generating STATIONS_ADJOINT file for SPECFEM\n",
      "[2022-03-03 11:02:09] - pyatoa - INFO: \n",
      "================================================================================\n",
      "\n",
      "SUMMARY\n",
      "\n",
      "================================================================================\n",
      "SOURCE NAME: 2018p130600\n",
      "STATIONS: 3 / 4\n",
      "WINDOWS: 8\n",
      "RAW MISFIT: 2.22\n",
      "UNEXPECTED ERRORS: 0\n"
     ]
    },
    {
     "data": {
      "text/plain": [
       "0.138628125"
      ]
     },
     "execution_count": 17,
     "metadata": {},
     "output_type": "execute_result"
    }
   ],
   "source": [
    "pf.process_event(source_name=\"2018p130600\", loc=\"*\", cha=\"HH?\")"
   ]
  },
  {
   "cell_type": "markdown",
   "id": "55d89aae",
   "metadata": {},
   "source": [
    "### Inspect Pyaflowa outputs\n",
    "\n",
    "Iwe have a look at the work directory, we can see the outputs of the Pyaflowa workflow, which will be:\n",
    "* An ASDFDataSet with waveforms, metadata, misfit windows and adjoint sources\n",
    "* Waveform figures for all the stations processed\n",
    "* Adjoint source ASCII files (.adj) required for a SPECFEM3D adjoint simulation\n",
    "* STATIONS_ADJOINT file required for a SPECFEM3D adjoint simulation\n",
    "* The output log which shows the "
   ]
  },
  {
   "cell_type": "code",
   "execution_count": 18,
   "id": "7f8c6bb2",
   "metadata": {
    "execution": {
     "iopub.execute_input": "2022-03-03T20:02:09.788505Z",
     "iopub.status.busy": "2022-03-03T20:02:09.783289Z",
     "iopub.status.idle": "2022-03-03T20:02:09.904697Z",
     "shell.execute_reply": "2022-03-03T20:02:09.905488Z"
    }
   },
   "outputs": [
    {
     "name": "stdout",
     "output_type": "stream",
     "text": [
      "2012p242656.h5\tadjsrcs      figures  logs\tSTATIONS_ADJOINT\r\n",
      "2018p130600.h5\tCMTSOLUTION  input    STATIONS\tsynthetics\r\n"
     ]
    }
   ],
   "source": [
    "# Here is the working directory with all the inputs and outputs\n",
    "!ls"
   ]
  },
  {
   "cell_type": "raw",
   "id": "1901d1f6",
   "metadata": {
    "execution": {
     "iopub.execute_input": "2022-02-28T19:30:23.750349Z",
     "iopub.status.busy": "2022-02-28T19:30:23.750105Z",
     "iopub.status.idle": "2022-02-28T19:30:23.859209Z",
     "shell.execute_reply": "2022-02-28T19:30:23.858998Z"
    }
   },
   "source": [
    "The ASDFDataSet contains all the data and metadata collected and created during the workflow. This can be viewed using the functionalities of PyASDF, which is detailed further in the :doc:`Data Storage </storage>` documentation page."
   ]
  },
  {
   "cell_type": "code",
   "execution_count": 19,
   "id": "a9447720",
   "metadata": {
    "execution": {
     "iopub.execute_input": "2022-03-03T20:02:09.922798Z",
     "iopub.status.busy": "2022-03-03T20:02:09.912701Z",
     "iopub.status.idle": "2022-03-03T20:02:10.050207Z",
     "shell.execute_reply": "2022-03-03T20:02:10.049271Z"
    }
   },
   "outputs": [
    {
     "name": "stdout",
     "output_type": "stream",
     "text": [
      "NZ.MRZ.BXE.adj\tNZ.MRZ.BXZ.adj\tNZ.VRZ.BXN.adj\tNZ.WAZ.BXE.adj\tNZ.WAZ.BXZ.adj\r\n",
      "NZ.MRZ.BXN.adj\tNZ.VRZ.BXE.adj\tNZ.VRZ.BXZ.adj\tNZ.WAZ.BXN.adj\r\n"
     ]
    }
   ],
   "source": [
    "# Each event will output adjoint source files that can be fed directly into SPECFEM3D\n",
    "!ls adjsrcs/2018p130600"
   ]
  },
  {
   "cell_type": "code",
   "execution_count": 20,
   "id": "4e716201",
   "metadata": {
    "execution": {
     "iopub.execute_input": "2022-03-03T20:02:10.066956Z",
     "iopub.status.busy": "2022-03-03T20:02:10.057842Z",
     "iopub.status.idle": "2022-03-03T20:02:10.200375Z",
     "shell.execute_reply": "2022-03-03T20:02:10.199432Z"
    }
   },
   "outputs": [
    {
     "name": "stdout",
     "output_type": "stream",
     "text": [
      "==> adjsrcs/2018p130600/NZ.MRZ.BXE.adj <==\r\n",
      "-2.000000000000000000e+01 0.000000000000000000e+00\r\n",
      "-1.998499999999999943e+01 0.000000000000000000e+00\r\n",
      "-1.996999999999999886e+01 0.000000000000000000e+00\r\n",
      "-1.995499999999999829e+01 0.000000000000000000e+00\r\n",
      "-1.994000000000000128e+01 0.000000000000000000e+00\r\n",
      "-1.992500000000000071e+01 0.000000000000000000e+00\r\n",
      "-1.991000000000000014e+01 0.000000000000000000e+00\r\n",
      "-1.989499999999999957e+01 0.000000000000000000e+00\r\n",
      "-1.987999999999999901e+01 0.000000000000000000e+00\r\n",
      "-1.986499999999999844e+01 0.000000000000000000e+00\r\n",
      "\r\n",
      "==> adjsrcs/2018p130600/NZ.MRZ.BXN.adj <==\r\n",
      "-2.000000000000000000e+01 0.000000000000000000e+00\r\n",
      "-1.998499999999999943e+01 0.000000000000000000e+00\r\n",
      "-1.996999999999999886e+01 0.000000000000000000e+00\r\n",
      "-1.995499999999999829e+01 0.000000000000000000e+00\r\n",
      "-1.994000000000000128e+01 0.000000000000000000e+00\r\n",
      "-1.992500000000000071e+01 0.000000000000000000e+00\r\n",
      "-1.991000000000000014e+01 0.000000000000000000e+00\r\n",
      "-1.989499999999999957e+01 0.000000000000000000e+00\r\n",
      "-1.987999999999999901e+01 0.000000000000000000e+00\r\n",
      "-1.986499999999999844e+01 0.000000000000000000e+00\r\n",
      "\r\n",
      "==> adjsrcs/2018p130600/NZ.MRZ.BXZ.adj <==\r\n",
      "-2.000000000000000000e+01 0.000000000000000000e+00\r\n",
      "-1.998499999999999943e+01 0.000000000000000000e+00\r\n",
      "-1.996999999999999886e+01 0.000000000000000000e+00\r\n",
      "-1.995499999999999829e+01 0.000000000000000000e+00\r\n",
      "-1.994000000000000128e+01 0.000000000000000000e+00\r\n",
      "-1.992500000000000071e+01 0.000000000000000000e+00\r\n",
      "-1.991000000000000014e+01 0.000000000000000000e+00\r\n",
      "-1.989499999999999957e+01 0.000000000000000000e+00\r\n",
      "-1.987999999999999901e+01 0.000000000000000000e+00\r\n",
      "-1.986499999999999844e+01 0.000000000000000000e+00\r\n"
     ]
    }
   ],
   "source": [
    "# Adjoint source files are created as two-column ASCII files, in the same manner as the synthetics \n",
    "# generated by SPECFEM3D\n",
    "!head adjsrcs/2018p130600/NZ.MRZ.*.adj"
   ]
  },
  {
   "cell_type": "code",
   "execution_count": 21,
   "id": "480e7146",
   "metadata": {
    "execution": {
     "iopub.execute_input": "2022-03-03T20:02:10.218769Z",
     "iopub.status.busy": "2022-03-03T20:02:10.217985Z",
     "iopub.status.idle": "2022-03-03T20:02:10.348011Z",
     "shell.execute_reply": "2022-03-03T20:02:10.348887Z"
    }
   },
   "outputs": [
    {
     "name": "stdout",
     "output_type": "stream",
     "text": [
      "i01s00_2018p130600.pdf\r\n"
     ]
    }
   ],
   "source": [
    "# A composite PDF of all waveform figures for each source-receiver pair will be generated\n",
    "# for the user to quickly evaluate data-synthetic misfit graphically\n",
    "!ls figures/2018p130600"
   ]
  },
  {
   "cell_type": "code",
   "execution_count": 22,
   "id": "b2eb561c",
   "metadata": {
    "execution": {
     "iopub.execute_input": "2022-03-03T20:02:10.356395Z",
     "iopub.status.busy": "2022-03-03T20:02:10.355325Z",
     "iopub.status.idle": "2022-03-03T20:02:10.359678Z",
     "shell.execute_reply": "2022-03-03T20:02:10.358795Z"
    }
   },
   "outputs": [],
   "source": [
    "# This doesn't work, image needs to be stored within the dir. that I opened jupyter notebook with\n",
    "# from IPython.display import IFrame\n",
    "# IFrame(\"figures/2018p130600/i01s00_2018p130600.pdf\", width=600, height=300)"
   ]
  },
  {
   "cell_type": "code",
   "execution_count": 23,
   "id": "f332de2a",
   "metadata": {
    "execution": {
     "iopub.execute_input": "2022-03-03T20:02:10.374941Z",
     "iopub.status.busy": "2022-03-03T20:02:10.366029Z",
     "iopub.status.idle": "2022-03-03T20:02:10.494008Z",
     "shell.execute_reply": "2022-03-03T20:02:10.494888Z"
    }
   },
   "outputs": [
    {
     "name": "stdout",
     "output_type": "stream",
     "text": [
      "i01s00_2012p242656.log\ti01s00_2018p130600.log\r\n"
     ]
    }
   ],
   "source": [
    "# Text log files help the user keep track of all processing steps, and misfit information\n",
    "!ls logs"
   ]
  },
  {
   "cell_type": "code",
   "execution_count": 24,
   "id": "422682e6",
   "metadata": {
    "execution": {
     "iopub.execute_input": "2022-03-03T20:02:10.513723Z",
     "iopub.status.busy": "2022-03-03T20:02:10.511893Z",
     "iopub.status.idle": "2022-03-03T20:02:10.645931Z",
     "shell.execute_reply": "2022-03-03T20:02:10.644922Z"
    }
   },
   "outputs": [
    {
     "name": "stdout",
     "output_type": "stream",
     "text": [
      "[2022-03-03 11:02:02] - pyatoa - INFO: \r\n",
      "================================================================================\r\n",
      "\r\n",
      "NZ.MRZ.*.HH?\r\n",
      "\r\n",
      "================================================================================\r\n",
      "[2022-03-03 11:02:02] - pyatoa - DEBUG: gathering event\r\n",
      "[2022-03-03 11:02:02] - pyatoa - INFO: searching ASDFDataSet for event info\r\n",
      "[2022-03-03 11:02:02] - pyatoa - DEBUG: matching event found: A8E579\r\n",
      "[2022-03-03 11:02:02] - pyatoa - INFO: gathering data for NZ.MRZ.*.HH?\r\n",
      "[2022-03-03 11:02:02] - pyatoa - INFO: gathering observed waveforms\r\n",
      "[2022-03-03 11:02:02] - pyatoa - INFO: searching ASDFDataSet for observations\r\n",
      "[2022-03-03 11:02:02] - pyatoa - INFO: matching observed waveforms found\r\n",
      "[2022-03-03 11:02:02] - pyatoa - INFO: gathering StationXML\r\n",
      "[2022-03-03 11:02:02] - pyatoa - INFO: searching ASDFDataSet for station info\r\n",
      "[2022-03-03 11:02:02] - pyatoa - INFO: matching StationXML found\r\n",
      "[2022-03-03 11:02:02] - pyatoa - INFO: saved to ASDFDataSet\r\n",
      "[2022-03-03 11:02:02] - pyatoa - INFO: gathering synthetic waveforms\r\n",
      "[2022-03-03 11:02:02] - pyatoa - INFO: searching ASDFDataSet for synthetics\r\n",
      "[2022-03-03 11:02:02] - pyatoa - INFO: searching local filesystem for synthetics\r\n",
      "[2022-03-03 11:02:02] - pyatoa - DEBUG: searching for synthetics: /home/bchow/REPOSITORIES/pyatoa/pyatoa/tests/test_data/docs_data/pyaflowa_doc/synthetics/2018p130600/{net}.{sta}.*{cmp}.sem{dva}\r\n",
      "[2022-03-03 11:02:02] - pyatoa - INFO: retrieved synthetics locally:\r\n",
      "/home/bchow/REPOSITORIES/pyatoa/pyatoa/tests/test_data/docs_data/pyaflowa_doc/synthetics/2018p130600/NZ.MRZ.BXE.semd\r\n",
      "[2022-03-03 11:02:02] - pyatoa - INFO: retrieved synthetics locally:\r\n",
      "/home/bchow/REPOSITORIES/pyatoa/pyatoa/tests/test_data/docs_data/pyaflowa_doc/synthetics/2018p130600/NZ.MRZ.BXN.semd\r\n",
      "[2022-03-03 11:02:02] - pyatoa - INFO: retrieved synthetics locally:\r\n",
      "/home/bchow/REPOSITORIES/pyatoa/pyatoa/tests/test_data/docs_data/pyaflowa_doc/synthetics/2018p130600/NZ.MRZ.BXZ.semd\r\n",
      "[2022-03-03 11:02:02] - pyatoa - INFO: matching synthetic waveforms found\r\n",
      "[2022-03-03 11:02:02] - pyatoa - INFO: saved to ASDFDataSet with tag 'synthetic_i01s00'\r\n",
      "[2022-03-03 11:02:02] - pyatoa - INFO: standardizing streams\r\n",
      "[2022-03-03 11:02:02] - pyatoa - DEBUG: shifting NZ.MRZ.10.HHE starttime by 0.001607s\r\n",
      "[2022-03-03 11:02:02] - pyatoa - DEBUG: shifting NZ.MRZ.10.HHN starttime by 0.001607s\r\n",
      "[2022-03-03 11:02:02] - pyatoa - DEBUG: shifting NZ.MRZ.10.HHZ starttime by 0.001607s\r\n",
      "[2022-03-03 11:02:02] - pyatoa - DEBUG: time offset is -20.0s\r\n",
      "[2022-03-03 11:02:02] - pyatoa - INFO: preprocessing observation data\r\n",
      "[2022-03-03 11:02:02] - pyatoa - INFO: adjusting taper to cover time offset -20.0\r\n",
      "[2022-03-03 11:02:02] - pyatoa - DEBUG: removing response, units to DISP\r\n",
      "[2022-03-03 11:02:02] - pyatoa - DEBUG: rotating from generic coordinate system to ZNE\r\n",
      "[2022-03-03 11:02:02] - pyatoa - DEBUG: bandpass filter: 10.0 - 30.0s w/ 2.0 corners\r\n",
      "[2022-03-03 11:02:02] - pyatoa - INFO: preprocessing synthetic data\r\n",
      "[2022-03-03 11:02:02] - pyatoa - INFO: adjusting taper to cover time offset -20.0\r\n",
      "[2022-03-03 11:02:02] - pyatoa - DEBUG: no response removal, synthetic data or requested not to\r\n",
      "[2022-03-03 11:02:02] - pyatoa - DEBUG: bandpass filter: 10.0 - 30.0s w/ 2.0 corners\r\n",
      "[2022-03-03 11:02:02] - pyatoa - DEBUG: convolving data w/ Gaussian (t/2=0.70s)\r\n",
      "[2022-03-03 11:02:02] - pyatoa - INFO: running Pyflex w/ map: nznorth_10-30s\r\n",
      "[2022-03-03 11:02:02] - pyflex - INFO: Calculated travel times.\r\n",
      "[2022-03-03 11:02:02] - pyflex - INFO: Calculating envelope of synthetics.\r\n",
      "[2022-03-03 11:02:02] - pyflex - INFO: Calculating STA/LTA.\r\n",
      "[2022-03-03 11:02:02] - pyflex - INFO: Initial window selection yielded 2 possible windows.\r\n",
      "[2022-03-03 11:02:02] - pyflex - INFO: Rejection based on travel times retained 2 windows.\r\n",
      "[2022-03-03 11:02:02] - pyflex - INFO: Global SNR checks passed. Integrated SNR: 264017440517.820709, Amplitude SNR: 1258959.382420\r\n",
      "[2022-03-03 11:02:02] - pyflex - INFO: Rejection based on minimum window length retained 2 windows.\r\n",
      "[2022-03-03 11:02:02] - pyflex - INFO: Water level rejection retained 1 windows\r\n",
      "[2022-03-03 11:02:02] - pyflex - INFO: Single phase group rejection retained 1 windows\r\n",
      "[2022-03-03 11:02:02] - pyflex - INFO: Removing duplicates retains 1 windows.\r\n",
      "[2022-03-03 11:02:02] - pyflex - INFO: Rejection based on minimum window length retained 1 windows.\r\n",
      "[2022-03-03 11:02:02] - pyflex - INFO: SN amplitude ratio window rejection retained 1 windows\r\n",
      "[2022-03-03 11:02:02] - pyflex - INFO: Rejection based on data fit criteria retained 1 windows.\r\n",
      "[2022-03-03 11:02:02] - pyflex - INFO: Weighted interval schedule optimization retained 1 windows.\r\n",
      "[2022-03-03 11:02:02] - pyatoa - INFO: 1 window(s) selected for comp E\r\n",
      "[2022-03-03 11:02:02] - pyflex - INFO: Calculated travel times.\r\n",
      "[2022-03-03 11:02:02] - pyflex - INFO: Calculating envelope of synthetics.\r\n",
      "[2022-03-03 11:02:02] - pyflex - INFO: Calculating STA/LTA.\r\n",
      "[2022-03-03 11:02:02] - pyflex - INFO: Initial window selection yielded 10 possible windows.\r\n",
      "[2022-03-03 11:02:02] - pyflex - INFO: Rejection based on travel times retained 10 windows.\r\n",
      "[2022-03-03 11:02:02] - pyflex - INFO: Global SNR checks passed. Integrated SNR: 77923017814.422638, Amplitude SNR: 910031.449340\r\n",
      "[2022-03-03 11:02:02] - pyflex - INFO: Rejection based on minimum window length retained 10 windows.\r\n",
      "[2022-03-03 11:02:02] - pyflex - INFO: Water level rejection retained 4 windows\r\n",
      "[2022-03-03 11:02:02] - pyflex - INFO: Single phase group rejection retained 4 windows\r\n",
      "[2022-03-03 11:02:02] - pyflex - INFO: Removing duplicates retains 3 windows.\r\n",
      "[2022-03-03 11:02:02] - pyflex - INFO: Rejection based on minimum window length retained 3 windows.\r\n",
      "[2022-03-03 11:02:02] - pyflex - INFO: SN amplitude ratio window rejection retained 3 windows\r\n",
      "[2022-03-03 11:02:02] - pyflex - DEBUG: Window rejected due to CC value: 0.635155\r\n",
      "[2022-03-03 11:02:02] - pyflex - INFO: Rejection based on data fit criteria retained 2 windows.\r\n",
      "[2022-03-03 11:02:02] - pyflex - INFO: Weighted interval schedule optimization retained 1 windows.\r\n",
      "[2022-03-03 11:02:02] - pyatoa - INFO: 1 window(s) selected for comp N\r\n",
      "[2022-03-03 11:02:02] - pyflex - INFO: Calculated travel times.\r\n",
      "[2022-03-03 11:02:03] - pyflex - INFO: Calculating envelope of synthetics.\r\n",
      "[2022-03-03 11:02:03] - pyflex - INFO: Calculating STA/LTA.\r\n",
      "[2022-03-03 11:02:03] - pyflex - INFO: Initial window selection yielded 10 possible windows.\r\n",
      "[2022-03-03 11:02:03] - pyflex - INFO: Rejection based on travel times retained 10 windows.\r\n",
      "[2022-03-03 11:02:03] - pyflex - INFO: Global SNR checks passed. Integrated SNR: 13630877749859348.000000, Amplitude SNR: 439117916.874931\r\n",
      "[2022-03-03 11:02:03] - pyflex - INFO: Rejection based on minimum window length retained 9 windows.\r\n",
      "[2022-03-03 11:02:03] - pyflex - INFO: Water level rejection retained 3 windows\r\n",
      "[2022-03-03 11:02:03] - pyflex - INFO: Single phase group rejection retained 3 windows\r\n",
      "[2022-03-03 11:02:03] - pyflex - INFO: Removing duplicates retains 2 windows.\r\n",
      "[2022-03-03 11:02:03] - pyflex - INFO: Rejection based on minimum window length retained 2 windows.\r\n",
      "[2022-03-03 11:02:03] - pyflex - INFO: SN amplitude ratio window rejection retained 2 windows\r\n",
      "[2022-03-03 11:02:03] - pyflex - INFO: Rejection based on data fit criteria retained 2 windows.\r\n",
      "[2022-03-03 11:02:03] - pyflex - INFO: Weighted interval schedule optimization retained 1 windows.\r\n",
      "[2022-03-03 11:02:03] - pyatoa - INFO: 1 window(s) selected for comp Z\r\n",
      "[2022-03-03 11:02:03] - pyatoa - DEBUG: saving misfit windows to ASDFDataSet\r\n",
      "[2022-03-03 11:02:03] - pyatoa - INFO: 3 window(s) total found\r\n",
      "[2022-03-03 11:02:03] - pyatoa - DEBUG: running Pyadjoint w/ type: cc_traveltime_misfit\r\n",
      "[2022-03-03 11:02:03] - pyatoa - INFO: 0.366 misfit for comp E\r\n",
      "[2022-03-03 11:02:03] - pyatoa - INFO: 0.154 misfit for comp N\r\n",
      "[2022-03-03 11:02:03] - pyatoa - INFO: 0.095 misfit for comp Z\r\n",
      "[2022-03-03 11:02:03] - pyatoa - DEBUG: saving adjoint sources to ASDFDataSet\r\n",
      "[2022-03-03 11:02:03] - pyatoa - INFO: total misfit 0.614\r\n",
      "[2022-03-03 11:02:03] - pyatoa - INFO: \r\n",
      "\r\n",
      "\tOBS WAVS:  3\r\n",
      "\tSYN WAVS:  3\r\n",
      "\tWINDOWS:   3\r\n",
      "\tMISFIT:    0.61\r\n",
      "\r\n",
      "[2022-03-03 11:02:03] - pyatoa - INFO: saving figure to: /home/bchow/REPOSITORIES/pyatoa/pyatoa/tests/test_data/docs_data/pyaflowa_doc/figures/2018p130600/i01_s00_NZ_MRZ.pdf\r\n",
      "[2022-03-03 11:02:03] - pyatoa - INFO: \r\n",
      "================================================================================\r\n",
      "\r\n",
      "FINALIZE\r\n",
      "\r\n",
      "================================================================================\r\n",
      "[2022-03-03 11:02:04] - pyatoa - INFO: \r\n",
      "================================================================================\r\n",
      "\r\n",
      "NZ.TSZ.*.HH?\r\n",
      "\r\n",
      "================================================================================\r\n",
      "[2022-03-03 11:02:04] - pyatoa - INFO: gathering data for NZ.TSZ.*.HH?\r\n",
      "[2022-03-03 11:02:04] - pyatoa - INFO: gathering observed waveforms\r\n",
      "[2022-03-03 11:02:04] - pyatoa - INFO: searching ASDFDataSet for observations\r\n",
      "[2022-03-03 11:02:04] - pyatoa - INFO: matching observed waveforms found\r\n",
      "[2022-03-03 11:02:04] - pyatoa - INFO: gathering StationXML\r\n",
      "[2022-03-03 11:02:04] - pyatoa - INFO: searching ASDFDataSet for station info\r\n",
      "[2022-03-03 11:02:04] - pyatoa - INFO: matching StationXML found\r\n",
      "[2022-03-03 11:02:04] - pyatoa - INFO: saved to ASDFDataSet\r\n",
      "[2022-03-03 11:02:04] - pyatoa - INFO: gathering synthetic waveforms\r\n",
      "[2022-03-03 11:02:04] - pyatoa - INFO: searching ASDFDataSet for synthetics\r\n",
      "[2022-03-03 11:02:04] - pyatoa - INFO: searching local filesystem for synthetics\r\n",
      "[2022-03-03 11:02:04] - pyatoa - DEBUG: searching for synthetics: /home/bchow/REPOSITORIES/pyatoa/pyatoa/tests/test_data/docs_data/pyaflowa_doc/synthetics/2018p130600/{net}.{sta}.*{cmp}.sem{dva}\r\n",
      "[2022-03-03 11:02:04] - pyatoa - INFO: retrieved synthetics locally:\r\n",
      "/home/bchow/REPOSITORIES/pyatoa/pyatoa/tests/test_data/docs_data/pyaflowa_doc/synthetics/2018p130600/NZ.TSZ.BXE.semd\r\n",
      "[2022-03-03 11:02:04] - pyatoa - INFO: retrieved synthetics locally:\r\n",
      "/home/bchow/REPOSITORIES/pyatoa/pyatoa/tests/test_data/docs_data/pyaflowa_doc/synthetics/2018p130600/NZ.TSZ.BXN.semd\r\n",
      "[2022-03-03 11:02:04] - pyatoa - INFO: retrieved synthetics locally:\r\n",
      "/home/bchow/REPOSITORIES/pyatoa/pyatoa/tests/test_data/docs_data/pyaflowa_doc/synthetics/2018p130600/NZ.TSZ.BXZ.semd\r\n",
      "[2022-03-03 11:02:04] - pyatoa - INFO: matching synthetic waveforms found\r\n",
      "[2022-03-03 11:02:04] - pyatoa - INFO: saved to ASDFDataSet with tag 'synthetic_i01s00'\r\n",
      "[2022-03-03 11:02:04] - pyatoa - INFO: standardizing streams\r\n",
      "[2022-03-03 11:02:04] - pyatoa - DEBUG: zero pad NZ.TSZ.10.HHE (0, 0) samples\r\n",
      "[2022-03-03 11:02:04] - pyatoa - DEBUG: new starttime NZ.TSZ.10.HHE: 2018-02-18T07:43:28.130000Z\r\n",
      "[2022-03-03 11:02:04] - pyatoa - DEBUG: zero pad NZ.TSZ.10.HHN (0, 0) samples\r\n",
      "[2022-03-03 11:02:04] - pyatoa - DEBUG: new starttime NZ.TSZ.10.HHN: 2018-02-18T07:43:28.130001Z\r\n",
      "[2022-03-03 11:02:04] - pyatoa - DEBUG: zero pad NZ.TSZ.10.HHZ (0, 0) samples\r\n",
      "[2022-03-03 11:02:04] - pyatoa - DEBUG: new starttime NZ.TSZ.10.HHZ: 2018-02-18T07:43:28.130001Z\r\n",
      "[2022-03-03 11:02:04] - pyatoa - DEBUG: time offset is -20.0s\r\n",
      "[2022-03-03 11:02:04] - pyatoa - INFO: preprocessing observation data\r\n",
      "[2022-03-03 11:02:04] - pyatoa - INFO: adjusting taper to cover time offset -20.0\r\n",
      "[2022-03-03 11:02:04] - pyatoa - DEBUG: removing response, units to DISP\r\n",
      "[2022-03-03 11:02:04] - pyatoa - DEBUG: rotating from generic coordinate system to ZNE\r\n",
      "[2022-03-03 11:02:04] - pyatoa - DEBUG: bandpass filter: 10.0 - 30.0s w/ 2.0 corners\r\n",
      "[2022-03-03 11:02:04] - pyatoa - INFO: preprocessing synthetic data\r\n",
      "[2022-03-03 11:02:04] - pyatoa - INFO: adjusting taper to cover time offset -20.0\r\n",
      "[2022-03-03 11:02:04] - pyatoa - DEBUG: no response removal, synthetic data or requested not to\r\n",
      "[2022-03-03 11:02:04] - pyatoa - DEBUG: bandpass filter: 10.0 - 30.0s w/ 2.0 corners\r\n",
      "[2022-03-03 11:02:04] - pyatoa - DEBUG: convolving data w/ Gaussian (t/2=0.70s)\r\n",
      "[2022-03-03 11:02:04] - pyatoa - INFO: running Pyflex w/ map: nznorth_10-30s\r\n",
      "[2022-03-03 11:02:04] - pyflex - INFO: Calculated travel times.\r\n",
      "[2022-03-03 11:02:04] - pyflex - INFO: Calculating envelope of synthetics.\r\n",
      "[2022-03-03 11:02:04] - pyflex - INFO: Calculating STA/LTA.\r\n",
      "[2022-03-03 11:02:04] - pyatoa - WARNING: Cannot window, most likely because the source-receiver distance is too small w.r.t the minimum period\r\n",
      "[2022-03-03 11:02:04] - pyatoa - INFO: saving figure to: /home/bchow/REPOSITORIES/pyatoa/pyatoa/tests/test_data/docs_data/pyaflowa_doc/figures/2018p130600/i01_s00_NZ_TSZ.pdf\r\n",
      "[2022-03-03 11:02:05] - pyatoa - INFO: \r\n",
      "================================================================================\r\n",
      "\r\n",
      "NZ.VRZ.*.HH?\r\n",
      "\r\n",
      "================================================================================\r\n",
      "[2022-03-03 11:02:05] - pyatoa - INFO: gathering data for NZ.VRZ.*.HH?\r\n",
      "[2022-03-03 11:02:05] - pyatoa - INFO: gathering observed waveforms\r\n",
      "[2022-03-03 11:02:05] - pyatoa - INFO: searching ASDFDataSet for observations\r\n",
      "[2022-03-03 11:02:05] - pyatoa - INFO: matching observed waveforms found\r\n",
      "[2022-03-03 11:02:05] - pyatoa - INFO: gathering StationXML\r\n",
      "[2022-03-03 11:02:05] - pyatoa - INFO: searching ASDFDataSet for station info\r\n",
      "[2022-03-03 11:02:05] - pyatoa - INFO: matching StationXML found\r\n",
      "[2022-03-03 11:02:05] - pyatoa - INFO: saved to ASDFDataSet\r\n",
      "[2022-03-03 11:02:05] - pyatoa - INFO: gathering synthetic waveforms\r\n",
      "[2022-03-03 11:02:05] - pyatoa - INFO: searching ASDFDataSet for synthetics\r\n",
      "[2022-03-03 11:02:05] - pyatoa - INFO: searching local filesystem for synthetics\r\n",
      "[2022-03-03 11:02:05] - pyatoa - DEBUG: searching for synthetics: /home/bchow/REPOSITORIES/pyatoa/pyatoa/tests/test_data/docs_data/pyaflowa_doc/synthetics/2018p130600/{net}.{sta}.*{cmp}.sem{dva}\r\n",
      "[2022-03-03 11:02:05] - pyatoa - INFO: retrieved synthetics locally:\r\n",
      "/home/bchow/REPOSITORIES/pyatoa/pyatoa/tests/test_data/docs_data/pyaflowa_doc/synthetics/2018p130600/NZ.VRZ.BXE.semd\r\n",
      "[2022-03-03 11:02:05] - pyatoa - INFO: retrieved synthetics locally:\r\n",
      "/home/bchow/REPOSITORIES/pyatoa/pyatoa/tests/test_data/docs_data/pyaflowa_doc/synthetics/2018p130600/NZ.VRZ.BXN.semd\r\n",
      "[2022-03-03 11:02:05] - pyatoa - INFO: retrieved synthetics locally:\r\n",
      "/home/bchow/REPOSITORIES/pyatoa/pyatoa/tests/test_data/docs_data/pyaflowa_doc/synthetics/2018p130600/NZ.VRZ.BXZ.semd\r\n",
      "[2022-03-03 11:02:05] - pyatoa - INFO: matching synthetic waveforms found\r\n",
      "[2022-03-03 11:02:05] - pyatoa - INFO: saved to ASDFDataSet with tag 'synthetic_i01s00'\r\n",
      "[2022-03-03 11:02:05] - pyatoa - INFO: standardizing streams\r\n",
      "[2022-03-03 11:02:05] - pyatoa - DEBUG: shifting NZ.VRZ.10.HHE starttime by 0.001578s\r\n",
      "[2022-03-03 11:02:05] - pyatoa - DEBUG: shifting NZ.VRZ.10.HHN starttime by 0.001578s\r\n",
      "[2022-03-03 11:02:05] - pyatoa - DEBUG: shifting NZ.VRZ.10.HHZ starttime by 0.001578s\r\n",
      "[2022-03-03 11:02:05] - pyatoa - DEBUG: time offset is -20.0s\r\n",
      "[2022-03-03 11:02:05] - pyatoa - INFO: preprocessing observation data\r\n",
      "[2022-03-03 11:02:05] - pyatoa - INFO: adjusting taper to cover time offset -20.0\r\n",
      "[2022-03-03 11:02:05] - pyatoa - DEBUG: removing response, units to DISP\r\n",
      "[2022-03-03 11:02:05] - pyatoa - DEBUG: rotating from generic coordinate system to ZNE\r\n",
      "[2022-03-03 11:02:05] - pyatoa - DEBUG: bandpass filter: 10.0 - 30.0s w/ 2.0 corners\r\n",
      "[2022-03-03 11:02:05] - pyatoa - INFO: preprocessing synthetic data\r\n",
      "[2022-03-03 11:02:05] - pyatoa - INFO: adjusting taper to cover time offset -20.0\r\n",
      "[2022-03-03 11:02:05] - pyatoa - DEBUG: no response removal, synthetic data or requested not to\r\n",
      "[2022-03-03 11:02:05] - pyatoa - DEBUG: bandpass filter: 10.0 - 30.0s w/ 2.0 corners\r\n",
      "[2022-03-03 11:02:05] - pyatoa - DEBUG: convolving data w/ Gaussian (t/2=0.70s)\r\n",
      "[2022-03-03 11:02:05] - pyatoa - INFO: running Pyflex w/ map: nznorth_10-30s\r\n",
      "[2022-03-03 11:02:06] - pyflex - INFO: Calculated travel times.\r\n",
      "[2022-03-03 11:02:06] - pyflex - INFO: Calculating envelope of synthetics.\r\n",
      "[2022-03-03 11:02:06] - pyflex - INFO: Calculating STA/LTA.\r\n",
      "[2022-03-03 11:02:06] - pyflex - INFO: Initial window selection yielded 13 possible windows.\r\n",
      "[2022-03-03 11:02:06] - pyflex - INFO: Rejection based on travel times retained 13 windows.\r\n",
      "[2022-03-03 11:02:06] - pyflex - INFO: Global SNR checks passed. Integrated SNR: 23466401786.021927, Amplitude SNR: 384703.121689\r\n",
      "[2022-03-03 11:02:06] - pyflex - INFO: Rejection based on minimum window length retained 13 windows.\r\n",
      "[2022-03-03 11:02:06] - pyflex - INFO: Water level rejection retained 4 windows\r\n",
      "[2022-03-03 11:02:06] - pyflex - INFO: Single phase group rejection retained 4 windows\r\n",
      "[2022-03-03 11:02:06] - pyflex - INFO: Removing duplicates retains 3 windows.\r\n",
      "[2022-03-03 11:02:06] - pyflex - INFO: Rejection based on minimum window length retained 3 windows.\r\n",
      "[2022-03-03 11:02:06] - pyflex - INFO: SN amplitude ratio window rejection retained 3 windows\r\n",
      "[2022-03-03 11:02:06] - pyflex - DEBUG: Window rejected due to CC value: 0.675487\r\n",
      "[2022-03-03 11:02:06] - pyflex - INFO: Rejection based on data fit criteria retained 2 windows.\r\n",
      "[2022-03-03 11:02:06] - pyflex - INFO: Weighted interval schedule optimization retained 1 windows.\r\n",
      "[2022-03-03 11:02:06] - pyatoa - INFO: 1 window(s) selected for comp E\r\n",
      "[2022-03-03 11:02:06] - pyflex - INFO: Calculated travel times.\r\n",
      "[2022-03-03 11:02:06] - pyflex - INFO: Calculating envelope of synthetics.\r\n",
      "[2022-03-03 11:02:06] - pyflex - INFO: Calculating STA/LTA.\r\n",
      "[2022-03-03 11:02:06] - pyflex - INFO: Initial window selection yielded 10 possible windows.\r\n",
      "[2022-03-03 11:02:06] - pyflex - INFO: Rejection based on travel times retained 10 windows.\r\n",
      "[2022-03-03 11:02:06] - pyflex - INFO: Global SNR checks passed. Integrated SNR: 31526068792.227688, Amplitude SNR: 495295.417950\r\n",
      "[2022-03-03 11:02:06] - pyflex - INFO: Rejection based on minimum window length retained 10 windows.\r\n",
      "[2022-03-03 11:02:06] - pyflex - INFO: Water level rejection retained 4 windows\r\n",
      "[2022-03-03 11:02:06] - pyflex - INFO: Single phase group rejection retained 4 windows\r\n",
      "[2022-03-03 11:02:06] - pyflex - INFO: Removing duplicates retains 3 windows.\r\n",
      "[2022-03-03 11:02:06] - pyflex - INFO: Rejection based on minimum window length retained 3 windows.\r\n",
      "[2022-03-03 11:02:06] - pyflex - INFO: SN amplitude ratio window rejection retained 3 windows\r\n",
      "[2022-03-03 11:02:06] - pyflex - INFO: Rejection based on data fit criteria retained 3 windows.\r\n",
      "[2022-03-03 11:02:06] - pyflex - INFO: Weighted interval schedule optimization retained 1 windows.\r\n",
      "[2022-03-03 11:02:06] - pyatoa - INFO: 1 window(s) selected for comp N\r\n",
      "[2022-03-03 11:02:06] - pyflex - INFO: Calculated travel times.\r\n",
      "[2022-03-03 11:02:06] - pyflex - INFO: Calculating envelope of synthetics.\r\n",
      "[2022-03-03 11:02:06] - pyflex - INFO: Calculating STA/LTA.\r\n",
      "[2022-03-03 11:02:06] - pyflex - INFO: Initial window selection yielded 10 possible windows.\r\n",
      "[2022-03-03 11:02:06] - pyflex - INFO: Rejection based on travel times retained 10 windows.\r\n",
      "[2022-03-03 11:02:06] - pyflex - INFO: Global SNR checks passed. Integrated SNR: 26562645048.805443, Amplitude SNR: 378503.886559\r\n",
      "[2022-03-03 11:02:06] - pyflex - INFO: Rejection based on minimum window length retained 9 windows.\r\n",
      "[2022-03-03 11:02:06] - pyflex - INFO: Water level rejection retained 3 windows\r\n",
      "[2022-03-03 11:02:06] - pyflex - INFO: Single phase group rejection retained 3 windows\r\n",
      "[2022-03-03 11:02:06] - pyflex - INFO: Removing duplicates retains 2 windows.\r\n",
      "[2022-03-03 11:02:06] - pyflex - INFO: Rejection based on minimum window length retained 2 windows.\r\n",
      "[2022-03-03 11:02:06] - pyflex - INFO: SN amplitude ratio window rejection retained 2 windows\r\n",
      "[2022-03-03 11:02:06] - pyflex - INFO: Rejection based on data fit criteria retained 2 windows.\r\n",
      "[2022-03-03 11:02:06] - pyflex - INFO: Weighted interval schedule optimization retained 1 windows.\r\n",
      "[2022-03-03 11:02:06] - pyatoa - INFO: 1 window(s) selected for comp Z\r\n",
      "[2022-03-03 11:02:06] - pyatoa - DEBUG: saving misfit windows to ASDFDataSet\r\n",
      "[2022-03-03 11:02:06] - pyatoa - INFO: 3 window(s) total found\r\n",
      "[2022-03-03 11:02:06] - pyatoa - DEBUG: running Pyadjoint w/ type: cc_traveltime_misfit\r\n",
      "[2022-03-03 11:02:06] - pyatoa - INFO: 0.198 misfit for comp E\r\n",
      "[2022-03-03 11:02:06] - pyatoa - INFO: 0.011 misfit for comp N\r\n",
      "[2022-03-03 11:02:06] - pyatoa - INFO: 0.065 misfit for comp Z\r\n",
      "[2022-03-03 11:02:06] - pyatoa - DEBUG: saving adjoint sources to ASDFDataSet\r\n",
      "[2022-03-03 11:02:06] - pyatoa - INFO: total misfit 0.275\r\n",
      "[2022-03-03 11:02:06] - pyatoa - INFO: \r\n",
      "\r\n",
      "\tOBS WAVS:  3\r\n",
      "\tSYN WAVS:  3\r\n",
      "\tWINDOWS:   3\r\n",
      "\tMISFIT:    0.27\r\n",
      "\r\n",
      "[2022-03-03 11:02:06] - pyatoa - INFO: saving figure to: /home/bchow/REPOSITORIES/pyatoa/pyatoa/tests/test_data/docs_data/pyaflowa_doc/figures/2018p130600/i01_s00_NZ_VRZ.pdf\r\n",
      "[2022-03-03 11:02:07] - pyatoa - INFO: \r\n",
      "================================================================================\r\n",
      "\r\n",
      "FINALIZE\r\n",
      "\r\n",
      "================================================================================\r\n",
      "[2022-03-03 11:02:07] - pyatoa - INFO: \r\n",
      "================================================================================\r\n",
      "\r\n",
      "NZ.WAZ.*.HH?\r\n",
      "\r\n",
      "================================================================================\r\n",
      "[2022-03-03 11:02:07] - pyatoa - INFO: gathering data for NZ.WAZ.*.HH?\r\n",
      "[2022-03-03 11:02:07] - pyatoa - INFO: gathering observed waveforms\r\n",
      "[2022-03-03 11:02:07] - pyatoa - INFO: searching ASDFDataSet for observations\r\n",
      "[2022-03-03 11:02:07] - pyatoa - INFO: matching observed waveforms found\r\n",
      "[2022-03-03 11:02:07] - pyatoa - INFO: gathering StationXML\r\n",
      "[2022-03-03 11:02:07] - pyatoa - INFO: searching ASDFDataSet for station info\r\n",
      "[2022-03-03 11:02:07] - pyatoa - INFO: matching StationXML found\r\n",
      "[2022-03-03 11:02:07] - pyatoa - INFO: saved to ASDFDataSet\r\n",
      "[2022-03-03 11:02:07] - pyatoa - INFO: gathering synthetic waveforms\r\n",
      "[2022-03-03 11:02:07] - pyatoa - INFO: searching ASDFDataSet for synthetics\r\n",
      "[2022-03-03 11:02:07] - pyatoa - INFO: searching local filesystem for synthetics\r\n",
      "[2022-03-03 11:02:07] - pyatoa - DEBUG: searching for synthetics: /home/bchow/REPOSITORIES/pyatoa/pyatoa/tests/test_data/docs_data/pyaflowa_doc/synthetics/2018p130600/{net}.{sta}.*{cmp}.sem{dva}\r\n",
      "[2022-03-03 11:02:07] - pyatoa - INFO: retrieved synthetics locally:\r\n",
      "/home/bchow/REPOSITORIES/pyatoa/pyatoa/tests/test_data/docs_data/pyaflowa_doc/synthetics/2018p130600/NZ.WAZ.BXE.semd\r\n",
      "[2022-03-03 11:02:07] - pyatoa - INFO: retrieved synthetics locally:\r\n",
      "/home/bchow/REPOSITORIES/pyatoa/pyatoa/tests/test_data/docs_data/pyaflowa_doc/synthetics/2018p130600/NZ.WAZ.BXN.semd\r\n",
      "[2022-03-03 11:02:07] - pyatoa - INFO: retrieved synthetics locally:\r\n",
      "/home/bchow/REPOSITORIES/pyatoa/pyatoa/tests/test_data/docs_data/pyaflowa_doc/synthetics/2018p130600/NZ.WAZ.BXZ.semd\r\n",
      "[2022-03-03 11:02:07] - pyatoa - INFO: matching synthetic waveforms found\r\n",
      "[2022-03-03 11:02:07] - pyatoa - INFO: saved to ASDFDataSet with tag 'synthetic_i01s00'\r\n",
      "[2022-03-03 11:02:07] - pyatoa - INFO: standardizing streams\r\n",
      "[2022-03-03 11:02:07] - pyatoa - DEBUG: shifting NZ.WAZ.10.HHE starttime by 0.001607s\r\n",
      "[2022-03-03 11:02:07] - pyatoa - DEBUG: shifting NZ.WAZ.10.HHN starttime by 0.001607s\r\n",
      "[2022-03-03 11:02:07] - pyatoa - DEBUG: shifting NZ.WAZ.10.HHZ starttime by 0.001607s\r\n",
      "[2022-03-03 11:02:07] - pyatoa - DEBUG: time offset is -20.0s\r\n",
      "[2022-03-03 11:02:07] - pyatoa - INFO: preprocessing observation data\r\n",
      "[2022-03-03 11:02:07] - pyatoa - INFO: adjusting taper to cover time offset -20.0\r\n",
      "[2022-03-03 11:02:07] - pyatoa - DEBUG: removing response, units to DISP\r\n",
      "[2022-03-03 11:02:08] - pyatoa - DEBUG: rotating from generic coordinate system to ZNE\r\n",
      "[2022-03-03 11:02:08] - pyatoa - DEBUG: bandpass filter: 10.0 - 30.0s w/ 2.0 corners\r\n",
      "[2022-03-03 11:02:08] - pyatoa - INFO: preprocessing synthetic data\r\n",
      "[2022-03-03 11:02:08] - pyatoa - INFO: adjusting taper to cover time offset -20.0\r\n",
      "[2022-03-03 11:02:08] - pyatoa - DEBUG: no response removal, synthetic data or requested not to\r\n",
      "[2022-03-03 11:02:08] - pyatoa - DEBUG: bandpass filter: 10.0 - 30.0s w/ 2.0 corners\r\n",
      "[2022-03-03 11:02:08] - pyatoa - DEBUG: convolving data w/ Gaussian (t/2=0.70s)\r\n",
      "[2022-03-03 11:02:08] - pyatoa - INFO: running Pyflex w/ map: nznorth_10-30s\r\n",
      "[2022-03-03 11:02:08] - pyflex - INFO: Calculated travel times.\r\n",
      "[2022-03-03 11:02:08] - pyflex - INFO: Calculating envelope of synthetics.\r\n",
      "[2022-03-03 11:02:08] - pyflex - INFO: Calculating STA/LTA.\r\n",
      "[2022-03-03 11:02:08] - pyflex - INFO: Initial window selection yielded 22 possible windows.\r\n",
      "[2022-03-03 11:02:08] - pyflex - INFO: Rejection based on travel times retained 22 windows.\r\n",
      "[2022-03-03 11:02:08] - pyflex - INFO: Global SNR checks passed. Integrated SNR: 28382657308.948811, Amplitude SNR: 494242.727553\r\n",
      "[2022-03-03 11:02:08] - pyflex - INFO: Rejection based on minimum window length retained 20 windows.\r\n",
      "[2022-03-03 11:02:08] - pyflex - INFO: Water level rejection retained 8 windows\r\n",
      "[2022-03-03 11:02:08] - pyflex - INFO: Single phase group rejection retained 8 windows\r\n",
      "[2022-03-03 11:02:08] - pyflex - INFO: Removing duplicates retains 4 windows.\r\n",
      "[2022-03-03 11:02:08] - pyflex - INFO: Rejection based on minimum window length retained 4 windows.\r\n",
      "[2022-03-03 11:02:08] - pyflex - INFO: SN amplitude ratio window rejection retained 4 windows\r\n",
      "[2022-03-03 11:02:08] - pyflex - INFO: Rejection based on data fit criteria retained 4 windows.\r\n",
      "[2022-03-03 11:02:08] - pyflex - INFO: Weighted interval schedule optimization retained 1 windows.\r\n",
      "[2022-03-03 11:02:08] - pyatoa - INFO: 1 window(s) selected for comp E\r\n",
      "[2022-03-03 11:02:08] - pyflex - INFO: Calculated travel times.\r\n",
      "[2022-03-03 11:02:08] - pyflex - INFO: Calculating envelope of synthetics.\r\n",
      "[2022-03-03 11:02:08] - pyflex - INFO: Calculating STA/LTA.\r\n",
      "[2022-03-03 11:02:08] - pyflex - INFO: Initial window selection yielded 10 possible windows.\r\n",
      "[2022-03-03 11:02:08] - pyflex - INFO: Rejection based on travel times retained 10 windows.\r\n",
      "[2022-03-03 11:02:08] - pyflex - INFO: Global SNR checks passed. Integrated SNR: 60358322016.534302, Amplitude SNR: 576780.923209\r\n",
      "[2022-03-03 11:02:08] - pyflex - INFO: Rejection based on minimum window length retained 9 windows.\r\n",
      "[2022-03-03 11:02:08] - pyflex - INFO: Water level rejection retained 3 windows\r\n",
      "[2022-03-03 11:02:08] - pyflex - INFO: Single phase group rejection retained 3 windows\r\n",
      "[2022-03-03 11:02:08] - pyflex - INFO: Removing duplicates retains 2 windows.\r\n",
      "[2022-03-03 11:02:08] - pyflex - INFO: Rejection based on minimum window length retained 2 windows.\r\n",
      "[2022-03-03 11:02:08] - pyflex - INFO: SN amplitude ratio window rejection retained 2 windows\r\n",
      "[2022-03-03 11:02:08] - pyflex - DEBUG: Window rejected due to amplitude fit: 3.871042\r\n",
      "[2022-03-03 11:02:08] - pyflex - DEBUG: Window rejected due to amplitude fit: 3.793857\r\n",
      "[2022-03-03 11:02:08] - pyflex - INFO: Rejection based on data fit criteria retained 0 windows.\r\n",
      "[2022-03-03 11:02:08] - pyflex - INFO: Weighted interval schedule optimization retained 0 windows.\r\n",
      "[2022-03-03 11:02:08] - pyatoa - INFO: 0 window(s) selected for comp N\r\n",
      "[2022-03-03 11:02:08] - pyflex - INFO: Calculated travel times.\r\n",
      "[2022-03-03 11:02:08] - pyflex - INFO: Calculating envelope of synthetics.\r\n",
      "[2022-03-03 11:02:08] - pyflex - INFO: Calculating STA/LTA.\r\n",
      "[2022-03-03 11:02:08] - pyflex - INFO: Initial window selection yielded 10 possible windows.\r\n",
      "[2022-03-03 11:02:08] - pyflex - INFO: Rejection based on travel times retained 10 windows.\r\n",
      "[2022-03-03 11:02:08] - pyflex - INFO: Global SNR checks passed. Integrated SNR: 4763134899.306085, Amplitude SNR: 166126.234705\r\n",
      "[2022-03-03 11:02:08] - pyflex - INFO: Rejection based on minimum window length retained 9 windows.\r\n",
      "[2022-03-03 11:02:08] - pyflex - INFO: Water level rejection retained 3 windows\r\n",
      "[2022-03-03 11:02:08] - pyflex - INFO: Single phase group rejection retained 3 windows\r\n",
      "[2022-03-03 11:02:08] - pyflex - INFO: Removing duplicates retains 2 windows.\r\n",
      "[2022-03-03 11:02:08] - pyflex - INFO: Rejection based on minimum window length retained 2 windows.\r\n",
      "[2022-03-03 11:02:08] - pyflex - INFO: SN amplitude ratio window rejection retained 2 windows\r\n",
      "[2022-03-03 11:02:08] - pyflex - INFO: Rejection based on data fit criteria retained 2 windows.\r\n",
      "[2022-03-03 11:02:08] - pyflex - INFO: Weighted interval schedule optimization retained 1 windows.\r\n",
      "[2022-03-03 11:02:08] - pyatoa - INFO: 1 window(s) selected for comp Z\r\n",
      "[2022-03-03 11:02:08] - pyatoa - DEBUG: saving misfit windows to ASDFDataSet\r\n",
      "[2022-03-03 11:02:08] - pyatoa - INFO: 2 window(s) total found\r\n",
      "[2022-03-03 11:02:08] - pyatoa - DEBUG: running Pyadjoint w/ type: cc_traveltime_misfit\r\n",
      "[2022-03-03 11:02:08] - pyatoa - INFO: 1.037 misfit for comp E\r\n",
      "[2022-03-03 11:02:08] - pyatoa - INFO: 0.293 misfit for comp Z\r\n",
      "[2022-03-03 11:02:08] - pyatoa - DEBUG: saving adjoint sources to ASDFDataSet\r\n",
      "[2022-03-03 11:02:08] - pyatoa - INFO: total misfit 1.329\r\n",
      "[2022-03-03 11:02:08] - pyatoa - INFO: \r\n",
      "\r\n",
      "\tOBS WAVS:  3\r\n",
      "\tSYN WAVS:  3\r\n",
      "\tWINDOWS:   2\r\n",
      "\tMISFIT:    1.33\r\n",
      "\r\n",
      "[2022-03-03 11:02:08] - pyatoa - INFO: saving figure to: /home/bchow/REPOSITORIES/pyatoa/pyatoa/tests/test_data/docs_data/pyaflowa_doc/figures/2018p130600/i01_s00_NZ_WAZ.pdf\r\n",
      "[2022-03-03 11:02:09] - pyatoa - INFO: \r\n",
      "================================================================================\r\n",
      "\r\n",
      "FINALIZE\r\n",
      "\r\n",
      "================================================================================\r\n",
      "[2022-03-03 11:02:09] - pyatoa - INFO: creating single .pdf file of all output figures\r\n",
      "[2022-03-03 11:02:09] - pyatoa - INFO: generating STATIONS_ADJOINT file for SPECFEM\r\n",
      "[2022-03-03 11:02:09] - pyatoa - INFO: \r\n",
      "================================================================================\r\n",
      "\r\n",
      "SUMMARY\r\n",
      "\r\n",
      "================================================================================\r\n",
      "SOURCE NAME: 2018p130600\r\n",
      "STATIONS: 3 / 4\r\n",
      "WINDOWS: 8\r\n",
      "RAW MISFIT: 2.22\r\n",
      "UNEXPECTED ERRORS: 0\r\n",
      "===================\r\n",
      "\r\n",
      "SUMMARY\r\n",
      "\r\n",
      "================================================================================\r\n",
      "SOURCE NAME: 2018p130600\r\n",
      "STATIONS: 3 / 4\r\n",
      "WINDOWS: 8\r\n",
      "RAW MISFIT: 2.22\r\n",
      "UNEXPECTED ERRORS: 0\r\n"
     ]
    }
   ],
   "source": [
    "!cat logs/i01s00_2018p130600.log"
   ]
  },
  {
   "cell_type": "markdown",
   "id": "ed128633",
   "metadata": {},
   "source": [
    "### Multi-processing with Pyaflowa\n",
    "\n",
    "Pyaflowa allows for multi-processing using Python's concurrent.futures. This means that multiple events can be processed in parallel, potentially allowing for large speed up when running waveform processing. We'll include another event [2012p242656](https://www.geonet.org.nz/earthquake/2012p242656), in our work directory and show how simple it is to use this functionality."
   ]
  },
  {
   "cell_type": "code",
   "execution_count": 25,
   "id": "40328143",
   "metadata": {
    "execution": {
     "iopub.execute_input": "2022-03-03T20:02:10.654675Z",
     "iopub.status.busy": "2022-03-03T20:02:10.653567Z",
     "iopub.status.idle": "2022-03-03T20:02:10.791825Z",
     "shell.execute_reply": "2022-03-03T20:02:10.792721Z"
    }
   },
   "outputs": [
    {
     "name": "stdout",
     "output_type": "stream",
     "text": [
      "NZ.MRZ.BXE.semd  NZ.TSZ.BXE.semd  NZ.VRZ.BXE.semd  NZ.WAZ.BXE.semd\r\n",
      "NZ.MRZ.BXN.semd  NZ.TSZ.BXN.semd  NZ.VRZ.BXN.semd  NZ.WAZ.BXN.semd\r\n",
      "NZ.MRZ.BXZ.semd  NZ.TSZ.BXZ.semd  NZ.VRZ.BXZ.semd  NZ.WAZ.BXZ.semd\r\n"
     ]
    }
   ],
   "source": [
    "!ls synthetics/2012p242656"
   ]
  },
  {
   "cell_type": "code",
   "execution_count": 26,
   "id": "fc35c2f4",
   "metadata": {
    "execution": {
     "iopub.execute_input": "2022-03-03T20:02:10.802106Z",
     "iopub.status.busy": "2022-03-03T20:02:10.801061Z",
     "iopub.status.idle": "2022-03-03T20:02:10.807299Z",
     "shell.execute_reply": "2022-03-03T20:02:10.806407Z"
    }
   },
   "outputs": [
    {
     "data": {
      "text/plain": [
       "cwd          : '/home/bchow/REPOSITORIES/pyatoa/pyatoa/tests/test_data/docs_data/pyaflowa_doc'\n",
       "data         : '/home/bchow/REPOSITORIES/pyatoa/pyatoa/tests/test_data/docs_data/pyaflowa_doc'\n",
       "datasets     : '/home/bchow/REPOSITORIES/pyatoa/pyatoa/tests/test_data/docs_data/pyaflowa_doc'\n",
       "figures      : '/home/bchow/REPOSITORIES/pyatoa/pyatoa/tests/test_data/docs_data/pyaflowa_doc/figures'\n",
       "logs         : '/home/bchow/REPOSITORIES/pyatoa/pyatoa/tests/test_data/docs_data/pyaflowa_doc/logs'\n",
       "ds_file      : '/home/bchow/REPOSITORIES/pyatoa/pyatoa/tests/test_data/docs_data/pyaflowa_doc/{source_name}.h5'\n",
       "stations_file: '/home/bchow/REPOSITORIES/pyatoa/pyatoa/tests/test_data/docs_data/pyaflowa_doc/STATIONS'\n",
       "responses    : '/home/bchow/REPOSITORIES/pyatoa/pyatoa/tests/test_data/docs_data/pyaflowa_doc/input/responses'\n",
       "waveforms    : '/home/bchow/REPOSITORIES/pyatoa/pyatoa/tests/test_data/docs_data/pyaflowa_doc/input/waveforms'\n",
       "synthetics   : '/home/bchow/REPOSITORIES/pyatoa/pyatoa/tests/test_data/docs_data/pyaflowa_doc/synthetics/{source_name}'\n",
       "adjsrcs      : '/home/bchow/REPOSITORIES/pyatoa/pyatoa/tests/test_data/docs_data/pyaflowa_doc/adjsrcs/{source_name}'\n",
       "event_figures: '/home/bchow/REPOSITORIES/pyatoa/pyatoa/tests/test_data/docs_data/pyaflowa_doc/figures/{source_name}'"
      ]
     },
     "execution_count": 26,
     "metadata": {},
     "output_type": "execute_result"
    }
   ],
   "source": [
    "# Here we initiate almost the same key word arguments, however we add a formatting statement in the synthetics\n",
    "# kwarg so that Pyaflowa knows which directory to search when looking for synthetics.\n",
    "# Here the STATION FILE is the same\n",
    "pf.path_structure"
   ]
  },
  {
   "cell_type": "code",
   "execution_count": 27,
   "id": "74a1b290",
   "metadata": {
    "execution": {
     "iopub.execute_input": "2022-03-03T20:02:10.813783Z",
     "iopub.status.busy": "2022-03-03T20:02:10.812679Z",
     "iopub.status.idle": "2022-03-03T20:02:10.816203Z",
     "shell.execute_reply": "2022-03-03T20:02:10.816938Z"
    }
   },
   "outputs": [],
   "source": [
    "# Now, all we need to do to invoke multiprocessing is input a list of source names to the run function\n",
    "# !!! This doesn't work :(\n",
    "# pf.multi_event_process(source_names=[\"2018p130600\", \"2012p242656\"], cha=\"HH?\", loc=\"*\")"
   ]
  },
  {
   "cell_type": "markdown",
   "id": "d2ee7925",
   "metadata": {},
   "source": [
    "Unfortunately I don't think it's possible to run parallel tasks in a Jupyter notebook and I'm not prepared to put in the effort to figure out how to do this, so I hope you can take my word for it that this simply executes two parallel processing steps using the concurrent.futures multiprocessing machinery. neat!\n",
    "___"
   ]
  },
  {
   "cell_type": "markdown",
   "id": "a5ac25bc",
   "metadata": {},
   "source": [
    "## Automating earthquake-based FWT with Pyaflowa and SeisFlows3\n",
    "\n",
    "Earthquake-based full waveform tomography (FWT) is a complicated procedure involving performing data-synthetic comparisons for large numbers of source-receiver pairs. This is ideally done in parallel as this processing step is (mostly) identical and independent for each source-receiver pair. \n",
    "\n",
    "There are many available workflow tools for automating FWT, but here we show the combination of `Pyatoa` and [SeisFlows3](https://github.com/bch0w/seisflows3), a Python-based workflow tool for automating full waveform tomography, adjoint tomography, or full waveform inversion (FWI) on a variety of compute systems.\n",
    "\n",
    "`Pyaflowa` has already been implemented as a [SeisFlows3 preprocess module](https://github.com/bch0w/seisflows3/blob/master/seisflows3/preprocess/pyatoa.py). You can see Pyaflowa being called in the function [seisflows3.preprocess.prepare_eval_grad()](https://github.com/bch0w/seisflows3/blob/master/seisflows3/preprocess/pyatoa.py#L162). You can see that all of the complexity of Pyatoa is contained within itself, such that SeisFlows3 only needs to make essentially two calls to unleash all of the power of Pyatoa.\n",
    "\n",
    "In order to interact with `Pyaflowa` during a SeisFlows3 inversion, the user edits the [SeisFlows3 parameters.yaml file](https://github.com/bch0w/pyatoa/blob/master/pyatoa/tests/test_data/test_seisflows_parameters.yaml). Since we cannot run SeisFlows3 within this jupyter notebook (yet), we will simply invoke some of the SeisFlows specific calls in Pyaflowa to investigate what is going on inside the black box. \n",
    "\n",
    "Let's start by implement Pyaflowa in the same fashion that the [SeisFlows3 preprocess module does](https://github.com/bch0w/seisflows3/blob/master/seisflows3/preprocess/pyatoa.py#L180). The following cell defines two functions that are slightly modified from SeisFlows3 to allow us to interact with some SeisFlows3 objects without having to invoke the entire package"
   ]
  },
  {
   "cell_type": "code",
   "execution_count": 28,
   "id": "05f02943",
   "metadata": {
    "execution": {
     "iopub.execute_input": "2022-03-03T20:02:10.835064Z",
     "iopub.status.busy": "2022-03-03T20:02:10.834688Z",
     "iopub.status.idle": "2022-03-03T20:02:10.836249Z",
     "shell.execute_reply": "2022-03-03T20:02:10.835929Z"
    }
   },
   "outputs": [],
   "source": [
    "import re, yaml\n",
    "\n",
    "class Dict(object):\n",
    "    \"\"\"\n",
    "    At runtime, SeisFlows defines its parameters as Dict objects, \n",
    "    Re-defined dictionary-like object for holding parameters or paths\n",
    "    Allows for easier access of dictionary items, does not allow resets of\n",
    "    attributes once defined, only allows updates through new dictionaries.\n",
    "    \"\"\"\n",
    "    def __iter__(self):\n",
    "        return iter(sorted(self.__dict__.keys()))\n",
    "\n",
    "    def __getattr__(self, key):\n",
    "        return self.__dict__[key]\n",
    "\n",
    "    def __getitem__(self, key):\n",
    "        return self.__dict__[key]\n",
    "\n",
    "    def __setattr__(self, key, val):\n",
    "        if key in self.__dict__:\n",
    "            raise TypeError(\"Once defined, parameters cannot be changed.\")\n",
    "        self.__dict__[key] = val\n",
    "\n",
    "    def __delattr__(self, key):\n",
    "        if key in self.__dict__:\n",
    "            raise TypeError(\"Once defined, parameters cannot be deleted.\")\n",
    "        raise KeyError\n",
    "\n",
    "    def update(self, newdict):\n",
    "        super(Dict, self).__setattr__('__dict__', newdict)\n",
    "\n",
    "    def __init__(self, newdict):\n",
    "        self.update(newdict)\n",
    "    \n",
    "    def __str__(self):\n",
    "        \"\"\"\n",
    "        Pretty print dictionaries and first level nested dictionaries\n",
    "        \"\"\"\n",
    "        str_ = \"{\"\n",
    "        for key, item in vars(self).items():\n",
    "            if isinstance(item, str):\n",
    "                str_ += f\"{key}: '{item}'\\n\"\n",
    "            elif isinstance(item, dict):\n",
    "                str_ += key + \": {\\n\"\n",
    "                for key2, item2 in vars(self)[key].items():\n",
    "                    if isinstance(item2, str):\n",
    "                        str_ += f\"\\t{key2}: '{item2}'\\n\"\n",
    "                    else:\n",
    "                        str_ += f\"\\t{key2}: {item2}\\n\"\n",
    "                str_ += \"}\\n\"\n",
    "            else:\n",
    "                str_ += f\"{key}: {item}\\n\"\n",
    "        str_ += \"}\"\n",
    "        return str_\n",
    "    \n",
    "    \n",
    "def loadyaml(filename):\n",
    "    \"\"\"\n",
    "    Define how the PyYaml yaml loading function behaves. \n",
    "    Replaces None and inf strings with NoneType and numpy.inf respectively\n",
    "    \n",
    "    :type filename: str\n",
    "    :param filename: .yaml file to load in\n",
    "    \"\"\"\n",
    "    # work around PyYAML bugs\n",
    "    yaml.SafeLoader.add_implicit_resolver(\n",
    "        u'tag:yaml.org,2002:float',\n",
    "        re.compile(u'''^(?:\n",
    "         [-+]?(?:[0-9][0-9_]*)\\\\.[0-9_]*(?:[eE][-+]?[0-9]+)?\n",
    "        |[-+]?(?:[0-9][0-9_]*)(?:[eE][-+]?[0-9]+)\n",
    "        |\\\\.[0-9_]+(?:[eE][-+][0-9]+)?\n",
    "        |[-+]?[0-9][0-9_]*(?::[0-5]?[0-9])+\\\\.[0-9_]*\n",
    "        |[-+]?\\\\.(?:inf|Inf|INF)\n",
    "        |\\\\.(?:nan|NaN|NAN))$''', re.X),\n",
    "        list(u'-+0123456789.'))\n",
    "\n",
    "    with open(filename, 'r') as f:\n",
    "        mydict = yaml.safe_load(f)\n",
    "\n",
    "    if mydict is None:\n",
    "        mydict = dict()\n",
    "\n",
    "    # Replace 'None' and 'inf' values to match expectations\n",
    "    for key, val in mydict.items():\n",
    "        if val == \"None\":\n",
    "            mydict[key] = None\n",
    "        if val == \"inf\":\n",
    "            mydict[key] = np.inf\n",
    "\n",
    "    return mydict"
   ]
  },
  {
   "cell_type": "code",
   "execution_count": 29,
   "id": "ea6c6e2d",
   "metadata": {
    "execution": {
     "iopub.execute_input": "2022-03-03T20:02:10.839000Z",
     "iopub.status.busy": "2022-03-03T20:02:10.838704Z",
     "iopub.status.idle": "2022-03-03T20:02:10.853427Z",
     "shell.execute_reply": "2022-03-03T20:02:10.853174Z"
    }
   },
   "outputs": [
    {
     "data": {
      "text/plain": [
       "{'SCRATCH': './scratch',\n",
       " 'OUTPUT': './output',\n",
       " 'SPECFEM_DATA': './sfDATA',\n",
       " 'MODEL_INIT': './model_init',\n",
       " 'SPECFEM_BIN': './bin',\n",
       " 'DATA': None}"
      ]
     },
     "execution_count": 29,
     "metadata": {},
     "output_type": "execute_result"
    }
   ],
   "source": [
    "# Here we instantiate the SeisFlows3 PAR and PATH variables, which are\n",
    "# dictionaries that contain all of the necessary user-defined information\n",
    "# to run an inversion\n",
    "os.chdir(cwd)\n",
    "PAR = loadyaml(\"../tests/test_data/test_seisflows_parameters.yaml\")\n",
    "PATH = PAR[\"PATHS\"]\n",
    "PAR.pop(\"PATHS\")"
   ]
  },
  {
   "cell_type": "code",
   "execution_count": 30,
   "id": "366e3357",
   "metadata": {
    "execution": {
     "iopub.execute_input": "2022-03-03T20:02:10.855724Z",
     "iopub.status.busy": "2022-03-03T20:02:10.855248Z",
     "iopub.status.idle": "2022-03-03T20:02:10.858754Z",
     "shell.execute_reply": "2022-03-03T20:02:10.858935Z"
    }
   },
   "outputs": [
    {
     "name": "stdout",
     "output_type": "stream",
     "text": [
      "WORKFLOW       : thrifty_maui\n",
      "SOLVER         : specfem3d_maui\n",
      "SYSTEM         : maui_lg\n",
      "OPTIMIZE       : LBFGS\n",
      "LINESEARCH     : backtrack\n",
      "PREPROCESS     : pyatoa_nz\n",
      "POSTPROCESS    : base\n",
      "TITLE          : decluster\n",
      "BEGIN          : 1\n",
      "END            : 1\n",
      "VERBOSE        : True\n",
      "RESUME_FROM    : None\n",
      "STOP_AFTER     : initialize\n",
      "NTASK          : 60\n",
      "NPROC          : 40\n",
      "NODESIZE       : 40\n",
      "WALLTIME       : 1400\n",
      "TASKTIME       : 25\n",
      "ENVIRONS       : \n",
      "ACCOUNT        : nesi00263\n",
      "ANCIL_TASKTIME : 10\n",
      "SLURMARGS      : --hint=nomultithread\n",
      "CASE           : Synthetic\n",
      "MATERIALS      : Elastic\n",
      "DENSITY        : Constant\n",
      "PRECOND        : None\n",
      "NT             : 20000\n",
      "DT             : 0.015\n",
      "F0             : 0.1\n",
      "SOURCE_PREFIX  : CMTSOLUTION\n",
      "SOLVERIO       : fortran_binary\n",
      "FORMAT         : ascii\n",
      "COMPONENTS     : ZNE\n",
      "NORMALIZE      : None\n",
      "FILTER         : None\n",
      "MUTE           : None\n",
      "MUTECONST      : 0.0\n",
      "MUTESLOPE      : 0.0\n",
      "LOGGING        : debug\n",
      "UNIT_OUTPUT    : DISP\n",
      "MIN_PERIOD     : 8.0\n",
      "MAX_PERIOD     : 20.0\n",
      "ROTATE         : False\n",
      "CORNERS        : 4\n",
      "CLIENT         : GEONET\n",
      "START_PAD      : 20\n",
      "END_PAD        : 350\n",
      "PYFLEX_PRESET  : nznorth_8-30s\n",
      "ADJ_SRC_TYPE   : cc\n",
      "FIX_WINDOWS    : False\n",
      "SNAPSHOT       : True\n",
      "PLOT           : True\n",
      "MAP_CORNERS    : None\n",
      "SMOOTH_H       : 8500.0\n",
      "SMOOTH_V       : 6000.0\n",
      "TASKTIME_SMOOTH: 1\n",
      "SCALE          : 1.0\n",
      "STEPCOUNTMAX   : 4\n",
      "STEPLENINIT    : 0.025\n",
      "STEPLENMAX     : 0.5\n",
      "LBFGSMAX       : None\n",
      "LBFGSMEM       : None\n",
      "LBFGSTHRESH    : None\n",
      "SAVEGRADIENT   : True\n",
      "SAVEKERNELS    : False\n",
      "SAVEMODEL      : True\n",
      "SAVEAS         : binary\n",
      "SAVERESIDUALS  : False\n",
      "SAVETRACES     : False\n",
      "\n",
      "\n",
      "SCRATCH        : ./scratch\n",
      "OUTPUT         : ./output\n",
      "SPECFEM_DATA   : ./sfDATA\n",
      "MODEL_INIT     : ./model_init\n",
      "SPECFEM_BIN    : ./bin\n",
      "DATA           : None\n",
      "\n",
      "\n"
     ]
    }
   ],
   "source": [
    "# Print out the PAR and PATH variables to see what they define\n",
    "for p in [PAR, PATH]:\n",
    "    for key, val in p.items():\n",
    "        print(f\"{key:<15}: {val}\")\n",
    "    print(\"\\n\")"
   ]
  },
  {
   "cell_type": "code",
   "execution_count": 31,
   "id": "6b982923",
   "metadata": {
    "execution": {
     "iopub.execute_input": "2022-03-03T20:02:10.860550Z",
     "iopub.status.busy": "2022-03-03T20:02:10.860318Z",
     "iopub.status.idle": "2022-03-03T20:02:10.861346Z",
     "shell.execute_reply": "2022-03-03T20:02:10.861527Z"
    }
   },
   "outputs": [],
   "source": [
    "# pyaflowa = Pyaflowa(structure=\"seisflows\", sfpaths=Dict(PATH), \n",
    "#                     sfpar=Dict(PAR), iteration=1, step_count=0)"
   ]
  },
  {
   "cell_type": "code",
   "execution_count": null,
   "id": "5311a0db",
   "metadata": {},
   "outputs": [],
   "source": []
  }
 ],
 "metadata": {
  "kernelspec": {
   "display_name": "Python 3 (ipykernel)",
   "language": "python",
   "name": "python3"
  },
  "language_info": {
   "codemirror_mode": {
    "name": "ipython",
    "version": 3
   },
   "file_extension": ".py",
   "mimetype": "text/x-python",
   "name": "python",
   "nbconvert_exporter": "python",
   "pygments_lexer": "ipython3",
   "version": "3.7.12"
  }
 },
 "nbformat": 4,
 "nbformat_minor": 5
}
