{
 "cells": [
  {
   "cell_type": "markdown",
   "id": "dcd5d1b1",
   "metadata": {},
   "source": [
    "# Getting Started"
   ]
  },
  {
   "cell_type": "markdown",
   "id": "acb72ed2",
   "metadata": {},
   "source": [
    "## Misfit Quantification\n",
    "\n",
    "To showcase Pyatoa's misfit quantification capabilities, we can perform misfit quantification on some example\n",
    "data. To do this, we rely on Pyatoa's Config and Manager classes. We also turn on the logger to see what is \n",
    "going on under the hood."
   ]
  },
  {
   "cell_type": "code",
   "execution_count": 1,
   "id": "ff1c6130",
   "metadata": {
    "execution": {
     "iopub.execute_input": "2022-03-03T20:02:20.702740Z",
     "iopub.status.busy": "2022-03-03T20:02:20.702464Z",
     "iopub.status.idle": "2022-03-03T20:02:26.830483Z",
     "shell.execute_reply": "2022-03-03T20:02:26.830169Z"
    }
   },
   "outputs": [
    {
     "name": "stderr",
     "output_type": "stream",
     "text": [
      "[2022-12-08 14:42:01] - pyatoa - WARNING: cannot find information relating to synthetic time offset. Setting to 0\n",
      "[2022-12-08 14:42:01] - pyatoa - WARNING: taper amount exceeds time offset, taper may affect data if source receiver distance is short\n",
      "[2022-12-08 14:42:01] - pyatoa - WARNING: taper amount exceeds time offset, taper may affect data if source receiver distance is short\n",
      "[2022-12-08 14:42:01] - pyatoa - WARNING: no ASDFDataSet, cannot save windows\n"
     ]
    },
    {
     "ename": "ManagerError",
     "evalue": "cannot measure misfit, no windows recovered",
     "output_type": "error",
     "traceback": [
      "\u001b[0;31m---------------------------------------------------------------------------\u001b[0m",
      "\u001b[0;31mManagerError\u001b[0m                              Traceback (most recent call last)",
      "Cell \u001b[0;32mIn[1], line 8\u001b[0m\n\u001b[1;32m      5\u001b[0m st \u001b[38;5;241m=\u001b[39m read()  \u001b[38;5;66;03m# Example ObsPy data\u001b[39;00m\n\u001b[1;32m      6\u001b[0m mgmt \u001b[38;5;241m=\u001b[39m Manager(st_obs\u001b[38;5;241m=\u001b[39mst\u001b[38;5;241m.\u001b[39mselect(component\u001b[38;5;241m=\u001b[39m\u001b[38;5;124m\"\u001b[39m\u001b[38;5;124mZ\u001b[39m\u001b[38;5;124m\"\u001b[39m), \n\u001b[1;32m      7\u001b[0m                st_syn\u001b[38;5;241m=\u001b[39mst\u001b[38;5;241m.\u001b[39mselect(component\u001b[38;5;241m=\u001b[39m\u001b[38;5;124m\"\u001b[39m\u001b[38;5;124mN\u001b[39m\u001b[38;5;124m\"\u001b[39m))\n\u001b[0;32m----> 8\u001b[0m \u001b[43mmgmt\u001b[49m\u001b[38;5;241;43m.\u001b[39;49m\u001b[43mflow\u001b[49m\u001b[43m(\u001b[49m\u001b[43m)\u001b[49m\n\u001b[1;32m      9\u001b[0m mgmt\u001b[38;5;241m.\u001b[39mplot()\n",
      "File \u001b[0;32m~/REPOSITORIES/pyatoa/pyatoa/core/manager.py:512\u001b[0m, in \u001b[0;36mManager.flow\u001b[0;34m(self, codes, **kwargs)\u001b[0m\n\u001b[1;32m    509\u001b[0m \u001b[38;5;28mself\u001b[39m\u001b[38;5;241m.\u001b[39mpreprocess(overwrite\u001b[38;5;241m=\u001b[39moverwrite, which\u001b[38;5;241m=\u001b[39mwhich, \u001b[38;5;241m*\u001b[39m\u001b[38;5;241m*\u001b[39mkwargs)\n\u001b[1;32m    510\u001b[0m \u001b[38;5;28mself\u001b[39m\u001b[38;5;241m.\u001b[39mwindow(fix_windows\u001b[38;5;241m=\u001b[39mfix_windows, iteration\u001b[38;5;241m=\u001b[39miteration,\n\u001b[1;32m    511\u001b[0m             step_count\u001b[38;5;241m=\u001b[39mstep_count, force\u001b[38;5;241m=\u001b[39mforce, save\u001b[38;5;241m=\u001b[39msave)\n\u001b[0;32m--> 512\u001b[0m \u001b[38;5;28;43mself\u001b[39;49m\u001b[38;5;241;43m.\u001b[39;49m\u001b[43mmeasure\u001b[49m\u001b[43m(\u001b[49m\u001b[43mforce\u001b[49m\u001b[38;5;241;43m=\u001b[39;49m\u001b[43mforce\u001b[49m\u001b[43m,\u001b[49m\u001b[43m \u001b[49m\u001b[43msave\u001b[49m\u001b[38;5;241;43m=\u001b[39;49m\u001b[43msave\u001b[49m\u001b[43m)\u001b[49m\n",
      "File \u001b[0;32m~/REPOSITORIES/pyatoa/pyatoa/core/manager.py:980\u001b[0m, in \u001b[0;36mManager.measure\u001b[0;34m(self, force, save)\u001b[0m\n\u001b[1;32m    978\u001b[0m     \u001b[38;5;28;01mraise\u001b[39;00m ManagerError(\u001b[38;5;124m\"\u001b[39m\u001b[38;5;124mcannot measure misfit, not standardized\u001b[39m\u001b[38;5;124m\"\u001b[39m)\n\u001b[1;32m    979\u001b[0m \u001b[38;5;28;01melif\u001b[39;00m \u001b[38;5;28mself\u001b[39m\u001b[38;5;241m.\u001b[39mstats\u001b[38;5;241m.\u001b[39mnwin \u001b[38;5;241m==\u001b[39m \u001b[38;5;241m0\u001b[39m \u001b[38;5;129;01mand\u001b[39;00m \u001b[38;5;129;01mnot\u001b[39;00m force:\n\u001b[0;32m--> 980\u001b[0m     \u001b[38;5;28;01mraise\u001b[39;00m ManagerError(\u001b[38;5;124m\"\u001b[39m\u001b[38;5;124mcannot measure misfit, no windows recovered\u001b[39m\u001b[38;5;124m\"\u001b[39m)\n\u001b[1;32m    981\u001b[0m logger\u001b[38;5;241m.\u001b[39mdebug(\u001b[38;5;124mf\u001b[39m\u001b[38;5;124m\"\u001b[39m\u001b[38;5;124mrunning Pyadjoint w/ type: \u001b[39m\u001b[38;5;132;01m{\u001b[39;00m\u001b[38;5;28mself\u001b[39m\u001b[38;5;241m.\u001b[39mconfig\u001b[38;5;241m.\u001b[39madj_src_type\u001b[38;5;132;01m}\u001b[39;00m\u001b[38;5;124m\"\u001b[39m)\n\u001b[1;32m    983\u001b[0m \u001b[38;5;66;03m# Create list of windows needed for Pyadjoint\u001b[39;00m\n",
      "\u001b[0;31mManagerError\u001b[0m: cannot measure misfit, no windows recovered"
     ]
    }
   ],
   "source": [
    "import os\n",
    "from obspy import read\n",
    "from pyatoa import Config, Manager, logger\n",
    "\n",
    "logger.setLevel(\"DEBUG\")\n",
    "st = read()  # Example ObsPy data\n",
    "mgmt = Manager(st_obs=st.select(component=\"Z\"), \n",
    "               st_syn=st.select(component=\"N\"))\n",
    "mgmt.flow()\n",
    "mgmt.plot()"
   ]
  },
  {
   "cell_type": "code",
   "execution_count": null,
   "id": "eb47c1ea",
   "metadata": {},
   "outputs": [],
   "source": []
  }
 ],
 "metadata": {
  "kernelspec": {
   "display_name": "Python 3 (ipykernel)",
   "language": "python",
   "name": "python3"
  },
  "language_info": {
   "codemirror_mode": {
    "name": "ipython",
    "version": 3
   },
   "file_extension": ".py",
   "mimetype": "text/x-python",
   "name": "python",
   "nbconvert_exporter": "python",
   "pygments_lexer": "ipython3",
   "version": "3.11.0"
  }
 },
 "nbformat": 4,
 "nbformat_minor": 5
}
